{
 "cells": [
  {
   "cell_type": "code",
   "execution_count": null,
   "metadata": {},
   "outputs": [],
   "source": [
    "import pandas as pd\n",
    "import numpy as np\n",
    "import neptune\n",
    "import matplotlib.pyplot as plt\n",
    "import pickle"
   ]
  },
  {
   "cell_type": "code",
   "execution_count": null,
   "metadata": {},
   "outputs": [],
   "source": [
    "with open('processed_data/chosen_stocks.pkl', 'rb') as f:\n",
    "    stocks = pickle.load(f)"
   ]
  },
  {
   "cell_type": "code",
   "execution_count": null,
   "metadata": {},
   "outputs": [],
   "source": [
    "def calculate_rmse(y_true, y_pred):\n",
    "    rmse = np.sqrt(np.mean((y_true - y_pred) ** 2))\n",
    "    return rmse\n",
    "\n",
    "def calculate_mape(y_true, y_pred):\n",
    "    y_pred, y_true = np.array(y_pred), np.array(y_true)\n",
    "    mape = np.mean(np.abs((y_true - y_pred) / y_true)) * 100\n",
    "    return mape"
   ]
  },
  {
   "cell_type": "code",
   "execution_count": null,
   "metadata": {},
   "outputs": [],
   "source": [
    "def calculate_perf_metrics(var):\n",
    "    rmse = calculate_rmse(np.array(stockprices[train_size:][\"Close\"]), np.array(stockprices[train_size:][var]))\n",
    "    \n",
    "    mape = calculate_mape(np.array(stockprices[train_size:][\"Close\"]), np.array(stockprices[train_size:][var]))\n",
    "\n",
    "    ## Log to Neptune\n",
    "    run[\"RMSE\"] = rmse\n",
    "    run[\"MAPE (%)\"] = mape\n",
    "\n",
    "    return rmse, mape"
   ]
  },
  {
   "cell_type": "code",
   "execution_count": null,
   "metadata": {},
   "outputs": [],
   "source": []
  },
  {
   "cell_type": "code",
   "execution_count": null,
   "metadata": {},
   "outputs": [],
   "source": [
    "def objective(trial):\n",
    "    "
   ]
  },
  {
   "cell_type": "code",
   "execution_count": null,
   "metadata": {},
   "outputs": [],
   "source": []
  },
  {
   "cell_type": "code",
   "execution_count": null,
   "metadata": {},
   "outputs": [],
   "source": []
  },
  {
   "cell_type": "code",
   "execution_count": null,
   "metadata": {},
   "outputs": [],
   "source": []
  },
  {
   "cell_type": "code",
   "execution_count": null,
   "metadata": {},
   "outputs": [],
   "source": [
    "def plot_stock_trend(var, cur_title, stockprices=stockprices):\n",
    "    ax = stockprices[[\"Close\", var, \"200day\"]].plot(figsize=(20, 10))\n",
    "    plt.grid(False)\n",
    "    plt.title(cur_title)\n",
    "    plt.axis(\"tight\")\n",
    "    plt.ylabel(\"Stock Price ($)\")\n",
    "\n",
    "    ## Log to Neptune\n",
    "    run[\"Plot of Stock Predictions\"].upload(\n",
    "        neptune.types.File.as_image(ax.get_figure())\n",
    "    )"
   ]
  },
  {
   "cell_type": "code",
   "execution_count": null,
   "metadata": {},
   "outputs": [],
   "source": [
    "window_size = 50\n",
    "\n",
    "# Initialize a Neptune run\n",
    "run = neptune.init_run(\n",
    "    project=\"japark10/tutorial\",\n",
    "    name=\"SMA\",\n",
    "    description=\"stock-prediction-machine-learning\",\n",
    "    tags=[\"stockprediction\", \"MA_Simple\", \"neptune\"],\n",
    ")\n",
    "\n",
    "window_var = f\"{window_size}day\"\n",
    "\n",
    "stockprices[window_var] = stockprices[\"Close\"].rolling(window_size).mean()\n",
    "\n",
    "### Include a 200-day SMA for reference\n",
    "stockprices[\"200day\"] = stockprices[\"Close\"].rolling(200).mean()\n",
    "\n",
    "### Plot and performance metrics for SMA model\n",
    "plot_stock_trend(var=window_var, cur_title=\"Simple Moving Averages\")\n",
    "rmse_sma, mape_sma = calculate_perf_metrics(var=window_var)\n",
    "\n",
    "### Stop the run\n",
    "run.stop()"
   ]
  },
  {
   "cell_type": "code",
   "execution_count": null,
   "metadata": {},
   "outputs": [],
   "source": [
    "# Initialize a Neptune run\n",
    "run = neptune.init_run(\n",
    "    project=\"japark10/tutorial\",\n",
    "    name=\"EMA\",\n",
    "    description=\"stock-prediction-machine-learning\",\n",
    "    tags=[\"stockprediction\", \"MA_Exponential\", \"neptune\"],\n",
    ")\n",
    "\n",
    "###### Exponential MA\n",
    "window_ema_var = f\"{window_var}_EMA\"\n",
    "\n",
    "# Calculate the 50-day exponentially weighted moving average\n",
    "stockprices[window_ema_var] = (\n",
    "    stockprices[\"Close\"].ewm(span=window_size, adjust=False).mean()\n",
    ")\n",
    "stockprices[\"200day\"] = stockprices[\"Close\"].rolling(200).mean()\n",
    "\n",
    "### Plot and performance metrics for EMA model\n",
    "plot_stock_trend(\n",
    "    var=window_ema_var, cur_title=\"Exponential Moving Averages\")\n",
    "rmse_ema, mape_ema = calculate_perf_metrics(var=window_ema_var)\n",
    "\n",
    "### Stop the run\n",
    "run.stop()"
   ]
  },
  {
   "cell_type": "code",
   "execution_count": null,
   "metadata": {},
   "outputs": [],
   "source": [
    "layer_units = 50\n",
    "optimizer = \"adam\"\n",
    "cur_epochs = 15\n",
    "cur_batch_size = 20\n",
    "\n",
    "cur_LSTM_args = {\n",
    "    \"units\": layer_units,\n",
    "    \"optimizer\": optimizer,\n",
    "    \"batch_size\": cur_batch_size,\n",
    "    \"epochs\": cur_epochs,\n",
    "}\n",
    "\n",
    "# Initialize a Neptune run\n",
    "run = neptune.init_run(\n",
    "    project=\"japark10/tutorial\",\n",
    "    name=\"LSTM\",\n",
    "    description=\"stock-prediction-machine-learning\",\n",
    "    tags=[\"stockprediction\", \"LSTM\", \"neptune\"],\n",
    ")\n",
    "run[\"LSTM_args\"] = cur_LSTM_args"
   ]
  },
  {
   "cell_type": "code",
   "execution_count": null,
   "metadata": {},
   "outputs": [],
   "source": [
    "from sklearn.preprocessing import StandardScaler\n"
   ]
  },
  {
   "cell_type": "code",
   "execution_count": null,
   "metadata": {},
   "outputs": [],
   "source": [
    "# Scale our dataset\n",
    "scaler = StandardScaler()\n",
    "scaled_data = scaler.fit_transform(stockprices[[\"Close\"]])\n",
    "scaled_data_train = scaled_data[: train.shape[0]]\n",
    "\n",
    "# We use past 50 days’ stock prices for our training to predict the 51th day's closing price.\n",
    "X_train, y_train = extract_seqX_outcomeY(scaled_data_train, window_size, window_size)   "
   ]
  },
  {
   "cell_type": "code",
   "execution_count": null,
   "metadata": {},
   "outputs": [],
   "source": [
    "### Setup Neptune's Keras integration ###\n",
    "from neptune.integrations.tensorflow_keras import NeptuneCallback\n",
    "from tensorflow.keras.layers import Input, LSTM, Dense\n",
    "from tensorflow.keras.models import Model\n",
    "\n",
    "neptune_callback = NeptuneCallback(run=run)\n",
    "\n",
    "### Build a LSTM model and log training progress to Neptune ###\n",
    "\n",
    "def Run_LSTM(X_train, layer_units=50):\n",
    "    inp = Input(shape=(X_train.shape[1], 1))\n",
    "\n",
    "    x = LSTM(units=layer_units, return_sequences=True)(inp)\n",
    "    x = LSTM(units=layer_units)(x)\n",
    "    out = Dense(1, activation=\"linear\")(x)\n",
    "    model = Model(inp, out)\n",
    "\n",
    "    # Compile the LSTM neural net\n",
    "    model.compile(loss=\"mean_squared_error\", optimizer=\"adam\")\n",
    "\n",
    "    return model\n",
    "\n",
    "\n",
    "model = Run_LSTM(X_train, layer_units=layer_units)\n",
    "\n",
    "history = model.fit(\n",
    "    X_train,\n",
    "    y_train,\n",
    "    epochs=cur_epochs,\n",
    "    batch_size=cur_batch_size,\n",
    "    verbose=1,\n",
    "    validation_split=0.1,\n",
    "    shuffle=True,\n",
    "    callbacks=[neptune_callback],\n",
    ")"
   ]
  },
  {
   "cell_type": "code",
   "execution_count": null,
   "metadata": {},
   "outputs": [],
   "source": [
    "# predict stock prices using past window_size stock prices\n",
    "def preprocess_testdat(data=stockprices, scaler=scaler, window_size=window_size, test=test):\n",
    "    raw = data[\"Close\"][len(data) - len(test) - window_size:].values\n",
    "    raw = raw.reshape(-1,1)\n",
    "    raw = scaler.transform(raw)\n",
    "\n",
    "    X_test = [raw[i-window_size:i, 0] for i in range(window_size, raw.shape[0])]\n",
    "    X_test = np.array(X_test)\n",
    "\n",
    "    X_test = np.reshape(X_test, (X_test.shape[0], X_test.shape[1], 1))\n",
    "    return X_test\n",
    "\n",
    "X_test = preprocess_testdat()\n",
    "\n",
    "predicted_price_ = model.predict(X_test)\n",
    "predicted_price = scaler.inverse_transform(predicted_price_)\n",
    "\n",
    "# Plot predicted price vs actual closing price\n",
    "test[\"Predictions_lstm\"] = predicted_price"
   ]
  },
  {
   "cell_type": "code",
   "execution_count": null,
   "metadata": {},
   "outputs": [],
   "source": [
    "# Evaluate performance\n",
    "rmse_lstm = calculate_rmse(np.array(test[\"Close\"]), np.array(test[\"Predictions_lstm\"]))\n",
    "mape_lstm = calculate_mape(np.array(test[\"Close\"]), np.array(test[\"Predictions_lstm\"]))\n",
    "\n",
    "### Log to Neptune\n",
    "run[\"RMSE\"] = rmse_lstm\n",
    "run[\"MAPE (%)\"] = mape_lstm\n",
    "\n",
    "### Plot prediction and true trends and log to Neptune\n",
    "def plot_stock_trend_lstm(train, test):\n",
    "    fig = plt.figure(figsize = (20,10))\n",
    "    plt.plot(np.asarray(train.index), np.asarray(train[\"Close\"]), label = \"Train Closing Price\")\n",
    "    plt.plot(np.asarray(test.index), np.asarray(test[\"Close\"]), label = \"Test Closing Price\")\n",
    "    plt.plot(np.asarray(test.index), np.asarray(test[\"Predictions_lstm\"]), label = \"Predicted Closing Price\")\n",
    "    plt.title(\"LSTM Model\")\n",
    "    plt.xlabel(\"Date\")\n",
    "    plt.ylabel(\"Stock Price ($)\")\n",
    "    plt.legend(loc=\"upper left\")\n",
    "\n",
    "    ## Log image to Neptune\n",
    "    run[\"Plot of Stock Predictions\"].upload(neptune.types.File.as_image(fig))\n",
    "\n",
    "plot_stock_trend_lstm(train, test)\n",
    "\n",
    "### Stop the run after logging\n",
    "run.stop()"
   ]
  }
 ],
 "metadata": {
  "kernelspec": {
   "display_name": "Python 3",
   "language": "python",
   "name": "python3"
  },
  "language_info": {
   "codemirror_mode": {
    "name": "ipython",
    "version": 3
   },
   "file_extension": ".py",
   "mimetype": "text/x-python",
   "name": "python",
   "nbconvert_exporter": "python",
   "pygments_lexer": "ipython3",
   "version": "3.11.9"
  }
 },
 "nbformat": 4,
 "nbformat_minor": 2
}
