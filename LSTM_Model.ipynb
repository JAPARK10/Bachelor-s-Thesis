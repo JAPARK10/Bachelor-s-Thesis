{
 "cells": [
  {
   "cell_type": "code",
   "execution_count": 1,
   "id": "5b13254d",
   "metadata": {},
   "outputs": [],
   "source": [
    "import numpy as np\n",
    "import optuna\n",
    "import pickle\n",
    "from sklearn.model_selection import train_test_split\n",
    "from sklearn.metrics import mean_squared_error, accuracy_score, mean_absolute_error, r2_score\n",
    "import tensorflow as tf\n",
    "from tensorflow.keras.models import Sequential\n",
    "from tensorflow.keras.layers import Dense, LSTM, Conv1D, MaxPooling1D, Flatten, Dropout\n",
    "from tensorflow.keras.callbacks import EarlyStopping\n",
    "import xgboost as xgb"
   ]
  },
  {
   "cell_type": "code",
   "execution_count": 2,
   "id": "24010034",
   "metadata": {},
   "outputs": [],
   "source": [
    "with open('processed_data/preprocessed_LSTM_CNN.pkl', 'rb') as f:\n",
    "    LSTM_CNN_preprocessed_data = pickle.load(f)\n",
    "\n",
    "\n",
    "with open('processed_data/preprocessed_XGboost.pkl', 'rb') as f:\n",
    "    XGBoost_preprocessed_data = pickle.load(f)"
   ]
  },
  {
   "cell_type": "code",
   "execution_count": 3,
   "id": "2cf2cd2f",
   "metadata": {},
   "outputs": [
    {
     "data": {
      "text/plain": [
       "(1228, 61)"
      ]
     },
     "execution_count": 3,
     "metadata": {},
     "output_type": "execute_result"
    }
   ],
   "source": [
    "# The variable LSTM_CNN_preprocessed_data is a list of our 5 bins [0-4][][]. Each bin contains the 15 belonging stocks or ETFs [0-4][0-14][].\n",
    "# After accessing the stock we can get the we are left with a 2 element list containing [0] X the features and [1] y the target [0-4][0-14][0-1].\n",
    "\n",
    "# For the NNs the accessed data is 3D (samples, sample_size, features_per_sample)\n",
    "\n",
    "LSTM_CNN_preprocessed_data[2][7][0].shape\n",
    "# This for example accesses the X data from the 8th stock in bin 3."
   ]
  },
  {
   "cell_type": "code",
   "execution_count": 4,
   "id": "3b3877ca",
   "metadata": {},
   "outputs": [
    {
     "data": {
      "text/plain": [
       "(972, 247)"
      ]
     },
     "execution_count": 4,
     "metadata": {},
     "output_type": "execute_result"
    }
   ],
   "source": [
    "# The variable XGBoost_preprocessed_data is a list of our 5 bins [0-4][][]. Each bin contains the 15 belonging stocks or ETFs [0-4][0-14][].\n",
    "# After accessing the stock we can get X_train, y_train, X_val, y_val, X_test, y_test [0-4][0-14][0-5].\n",
    "\n",
    "# For the Tree based model the accessed data is 2D (sample_size, features)\n",
    "\n",
    "XGBoost_preprocessed_data[0][0][0].shape\n",
    "# This accesses the X_train set of the first stock in bin 1."
   ]
  },
  {
   "cell_type": "code",
   "execution_count": 5,
   "id": "1da0af55",
   "metadata": {},
   "outputs": [],
   "source": [
    "# Only pass pandas DataFrames as data_X data_y to the function below.\n",
    "def create_windows(data_X, data_y, window):\n",
    "    X, y, indices = [], [], []\n",
    "    for i in range(window, len(data_X)):\n",
    "        X.append(data_X[i - window:i].values.astype(\"float32\"))\n",
    "        y.append(float(data_y.iloc[i-1])) # i-1 because we shifted the target by one in the General preprocessing pipeline \n",
    "        indices.append(data_y.index[i-1])\n",
    "    return np.array(X, dtype=\"float32\"), np.array(y, dtype=\"float32\"), np.array(indices)\n",
    "\n",
    "# -------------------------------------------------------------------\n",
    "# 2. OBJECTIVE: TUNE AN LSTM (REGRESSION)\n",
    "# -------------------------------------------------------------------\n",
    "def make_lstm_objective(X, y):\n",
    "    def lstm_objective(trial):\n",
    "        # Suggest hyperparameters\n",
    "        n_units = trial.suggest_int(\"lstm_units\", 32, 128, step=32)\n",
    "        n_layers = trial.suggest_int(\"lstm_layers\", 1, 2, step=1)\n",
    "        dropout_rate = trial.suggest_float(\"dropout_rate\", 0.0, 0.5, step=0.1)\n",
    "        learning_rate = trial.suggest_float(\"learning_rate\", 1e-4, 1e-2, log=True)\n",
    "        batch_size = trial.suggest_categorical(\"batch_size\", [16, 32])\n",
    "        n_dense = trial.suggest_int(\"dense_units\", 16, 128, step=16)\n",
    "        window_size = trial.suggest_int(\"window_size\", 10, 60, step=10)\n",
    "\n",
    "        # Start create windows\n",
    "        X_windows, y_windows, indices = create_windows(X, y, window_size)\n",
    "\n",
    "        end_train_set = X.index[int(X.shape[0] * 0.8)]\n",
    "        end_validation_set = X.index[int(X.shape[0] * 0.9)]\n",
    "\n",
    "        train_mask = indices < end_train_set\n",
    "        validation_mask = (indices >= end_train_set) & (indices < end_validation_set)\n",
    "        test_mask = indices >= end_validation_set\n",
    "\n",
    "        X_train = X_windows[train_mask]\n",
    "        y_train = y_windows[train_mask]\n",
    "        X_val = X_windows[validation_mask]\n",
    "        y_val = y_windows[validation_mask]\n",
    "        X_test = X_windows[test_mask]\n",
    "        y_test = y_windows[test_mask]\n",
    "        # End create windows\n",
    "\n",
    "        # Build model\n",
    "        model = Sequential()\n",
    "        for i in range(n_layers):\n",
    "            bool_return_sequences = (i < n_layers - 1)  # Return sequences for all but the last layer\n",
    "            bool_firtst_layer = (i == 0)  # First layer needs input shape\n",
    "            if bool_firtst_layer:\n",
    "                model.add(LSTM(units=n_units, input_shape=(window_size, X_train.shape[2]),\n",
    "                            return_sequences=bool_return_sequences))\n",
    "            else:\n",
    "                model.add(LSTM(units=n_units, return_sequences=bool_return_sequences))\n",
    "            model.add(Dropout(rate=dropout_rate))\n",
    "        model.add(Dense(1, activation=\"linear\"))  # regression\n",
    "\n",
    "        optimizer = tf.keras.optimizers.Adam(learning_rate=learning_rate)\n",
    "        model.compile(optimizer=optimizer, loss=\"mse\")\n",
    "\n",
    "        # Early stopping callback to prune unpromising trials\n",
    "        early_stop = EarlyStopping(monitor=\"val_loss\", patience=5, restore_best_weights=True)\n",
    "\n",
    "        # Train\n",
    "        history = model.fit(\n",
    "            X_train, y_train,\n",
    "            validation_data=(X_val, y_val),\n",
    "            epochs=50,\n",
    "            batch_size=batch_size,\n",
    "            callbacks=[early_stop],\n",
    "            verbose=0\n",
    "        )\n",
    "\n",
    "        # Evaluate on validation set\n",
    "        y_pred = model.predict(X_test, batch_size=batch_size)\n",
    "        rmse = np.sqrt(mean_squared_error(y_test, y_pred))\n",
    "        mae = mean_absolute_error(y_test, y_pred)\n",
    "        r2 = r2_score(y_test, y_pred)\n",
    "        mape = np.mean(np.abs((y_pred - y_test) / y_test)) * 100\n",
    "        nrmse = np.sqrt(mean_squared_error(y_test, y_pred)) / np.mean(y_test) * 100  # in percent\n",
    "\n",
    "        trial.set_user_attr(\"mae\", mae)\n",
    "        trial.set_user_attr(\"r2\", r2)\n",
    "        trial.set_user_attr(\"rmse\", rmse)\n",
    "        trial.set_user_attr(\"nrmse\", nrmse)\n",
    "\n",
    "        return mape\n",
    "    return lstm_objective"
   ]
  },
  {
   "cell_type": "code",
   "execution_count": 7,
   "id": "22f054db",
   "metadata": {},
   "outputs": [
    {
     "name": "stderr",
     "output_type": "stream",
     "text": [
      "[I 2025-06-12 12:18:49,852] A new study created in memory with name: lstm_regression_study\n"
     ]
    },
    {
     "name": "stdout",
     "output_type": "stream",
     "text": [
      "Running LSTM study for bin 5, stock 5...\n"
     ]
    },
    {
     "name": "stderr",
     "output_type": "stream",
     "text": [
      "c:\\Users\\jerem\\miniconda3\\Lib\\site-packages\\keras\\src\\layers\\rnn\\rnn.py:199: UserWarning: Do not pass an `input_shape`/`input_dim` argument to a layer. When using Sequential models, prefer using an `Input(shape)` object as the first layer in the model instead.\n",
      "  super().__init__(**kwargs)\n"
     ]
    },
    {
     "name": "stdout",
     "output_type": "stream",
     "text": [
      "\u001b[1m4/4\u001b[0m \u001b[32m━━━━━━━━━━━━━━━━━━━━\u001b[0m\u001b[37m\u001b[0m \u001b[1m0s\u001b[0m 66ms/step\n"
     ]
    },
    {
     "name": "stderr",
     "output_type": "stream",
     "text": [
      "[I 2025-06-12 12:19:23,383] Trial 0 finished with value: 22.687973022460938 and parameters: {'lstm_units': 64, 'lstm_layers': 1, 'dropout_rate': 0.4, 'learning_rate': 0.00018637876949370713, 'batch_size': 32, 'dense_units': 80, 'window_size': 60}. Best is trial 0 with value: 22.687973022460938.\n",
      "c:\\Users\\jerem\\miniconda3\\Lib\\site-packages\\keras\\src\\layers\\rnn\\rnn.py:199: UserWarning: Do not pass an `input_shape`/`input_dim` argument to a layer. When using Sequential models, prefer using an `Input(shape)` object as the first layer in the model instead.\n",
      "  super().__init__(**kwargs)\n"
     ]
    },
    {
     "name": "stdout",
     "output_type": "stream",
     "text": [
      "\u001b[1m8/8\u001b[0m \u001b[32m━━━━━━━━━━━━━━━━━━━━\u001b[0m\u001b[37m\u001b[0m \u001b[1m1s\u001b[0m 101ms/step\n"
     ]
    },
    {
     "name": "stderr",
     "output_type": "stream",
     "text": [
      "[I 2025-06-12 12:20:52,255] Trial 1 finished with value: 20.04929542541504 and parameters: {'lstm_units': 32, 'lstm_layers': 2, 'dropout_rate': 0.0, 'learning_rate': 0.00016767265266856994, 'batch_size': 16, 'dense_units': 96, 'window_size': 50}. Best is trial 1 with value: 20.04929542541504.\n",
      "c:\\Users\\jerem\\miniconda3\\Lib\\site-packages\\keras\\src\\layers\\rnn\\rnn.py:199: UserWarning: Do not pass an `input_shape`/`input_dim` argument to a layer. When using Sequential models, prefer using an `Input(shape)` object as the first layer in the model instead.\n",
      "  super().__init__(**kwargs)\n"
     ]
    },
    {
     "name": "stdout",
     "output_type": "stream",
     "text": [
      "\u001b[1m8/8\u001b[0m \u001b[32m━━━━━━━━━━━━━━━━━━━━\u001b[0m\u001b[37m\u001b[0m \u001b[1m1s\u001b[0m 77ms/step\n"
     ]
    },
    {
     "name": "stderr",
     "output_type": "stream",
     "text": [
      "[I 2025-06-12 12:21:57,587] Trial 2 finished with value: 27.110151290893555 and parameters: {'lstm_units': 64, 'lstm_layers': 2, 'dropout_rate': 0.30000000000000004, 'learning_rate': 0.0007590994456904858, 'batch_size': 16, 'dense_units': 16, 'window_size': 60}. Best is trial 1 with value: 20.04929542541504.\n",
      "c:\\Users\\jerem\\miniconda3\\Lib\\site-packages\\keras\\src\\layers\\rnn\\rnn.py:199: UserWarning: Do not pass an `input_shape`/`input_dim` argument to a layer. When using Sequential models, prefer using an `Input(shape)` object as the first layer in the model instead.\n",
      "  super().__init__(**kwargs)\n"
     ]
    },
    {
     "name": "stdout",
     "output_type": "stream",
     "text": [
      "\u001b[1m4/4\u001b[0m \u001b[32m━━━━━━━━━━━━━━━━━━━━\u001b[0m\u001b[37m\u001b[0m \u001b[1m1s\u001b[0m 101ms/step\n"
     ]
    },
    {
     "name": "stderr",
     "output_type": "stream",
     "text": [
      "[I 2025-06-12 12:22:23,241] Trial 3 finished with value: 28.913578033447266 and parameters: {'lstm_units': 64, 'lstm_layers': 1, 'dropout_rate': 0.30000000000000004, 'learning_rate': 0.00505602860839481, 'batch_size': 32, 'dense_units': 96, 'window_size': 60}. Best is trial 1 with value: 20.04929542541504.\n",
      "c:\\Users\\jerem\\miniconda3\\Lib\\site-packages\\keras\\src\\layers\\rnn\\rnn.py:199: UserWarning: Do not pass an `input_shape`/`input_dim` argument to a layer. When using Sequential models, prefer using an `Input(shape)` object as the first layer in the model instead.\n",
      "  super().__init__(**kwargs)\n"
     ]
    },
    {
     "name": "stdout",
     "output_type": "stream",
     "text": [
      "\u001b[1m4/4\u001b[0m \u001b[32m━━━━━━━━━━━━━━━━━━━━\u001b[0m\u001b[37m\u001b[0m \u001b[1m1s\u001b[0m 167ms/step\n"
     ]
    },
    {
     "name": "stderr",
     "output_type": "stream",
     "text": [
      "[I 2025-06-12 12:23:32,429] Trial 4 finished with value: 24.812393188476562 and parameters: {'lstm_units': 96, 'lstm_layers': 2, 'dropout_rate': 0.0, 'learning_rate': 0.0001817224058153715, 'batch_size': 32, 'dense_units': 32, 'window_size': 50}. Best is trial 1 with value: 20.04929542541504.\n",
      "c:\\Users\\jerem\\miniconda3\\Lib\\site-packages\\keras\\src\\layers\\rnn\\rnn.py:199: UserWarning: Do not pass an `input_shape`/`input_dim` argument to a layer. When using Sequential models, prefer using an `Input(shape)` object as the first layer in the model instead.\n",
      "  super().__init__(**kwargs)\n"
     ]
    },
    {
     "name": "stdout",
     "output_type": "stream",
     "text": [
      "\u001b[1m8/8\u001b[0m \u001b[32m━━━━━━━━━━━━━━━━━━━━\u001b[0m\u001b[37m\u001b[0m \u001b[1m1s\u001b[0m 104ms/step\n"
     ]
    },
    {
     "name": "stderr",
     "output_type": "stream",
     "text": [
      "[I 2025-06-12 12:24:35,553] Trial 5 finished with value: 27.996376037597656 and parameters: {'lstm_units': 64, 'lstm_layers': 2, 'dropout_rate': 0.1, 'learning_rate': 0.008016504396217991, 'batch_size': 16, 'dense_units': 48, 'window_size': 60}. Best is trial 1 with value: 20.04929542541504.\n",
      "c:\\Users\\jerem\\miniconda3\\Lib\\site-packages\\keras\\src\\layers\\rnn\\rnn.py:199: UserWarning: Do not pass an `input_shape`/`input_dim` argument to a layer. When using Sequential models, prefer using an `Input(shape)` object as the first layer in the model instead.\n",
      "  super().__init__(**kwargs)\n"
     ]
    },
    {
     "name": "stdout",
     "output_type": "stream",
     "text": [
      "\u001b[1m8/8\u001b[0m \u001b[32m━━━━━━━━━━━━━━━━━━━━\u001b[0m\u001b[37m\u001b[0m \u001b[1m1s\u001b[0m 65ms/step\n"
     ]
    },
    {
     "name": "stderr",
     "output_type": "stream",
     "text": [
      "[I 2025-06-12 12:24:56,862] Trial 6 finished with value: 24.35514259338379 and parameters: {'lstm_units': 32, 'lstm_layers': 2, 'dropout_rate': 0.30000000000000004, 'learning_rate': 0.0005908824249695819, 'batch_size': 16, 'dense_units': 128, 'window_size': 10}. Best is trial 1 with value: 20.04929542541504.\n",
      "c:\\Users\\jerem\\miniconda3\\Lib\\site-packages\\keras\\src\\layers\\rnn\\rnn.py:199: UserWarning: Do not pass an `input_shape`/`input_dim` argument to a layer. When using Sequential models, prefer using an `Input(shape)` object as the first layer in the model instead.\n",
      "  super().__init__(**kwargs)\n"
     ]
    },
    {
     "name": "stdout",
     "output_type": "stream",
     "text": [
      "\u001b[1m4/4\u001b[0m \u001b[32m━━━━━━━━━━━━━━━━━━━━\u001b[0m\u001b[37m\u001b[0m \u001b[1m1s\u001b[0m 152ms/step\n"
     ]
    },
    {
     "name": "stderr",
     "output_type": "stream",
     "text": [
      "[I 2025-06-12 12:25:49,024] Trial 7 finished with value: 24.29823875427246 and parameters: {'lstm_units': 96, 'lstm_layers': 2, 'dropout_rate': 0.30000000000000004, 'learning_rate': 0.0001066817111449666, 'batch_size': 32, 'dense_units': 32, 'window_size': 20}. Best is trial 1 with value: 20.04929542541504.\n",
      "c:\\Users\\jerem\\miniconda3\\Lib\\site-packages\\keras\\src\\layers\\rnn\\rnn.py:199: UserWarning: Do not pass an `input_shape`/`input_dim` argument to a layer. When using Sequential models, prefer using an `Input(shape)` object as the first layer in the model instead.\n",
      "  super().__init__(**kwargs)\n"
     ]
    },
    {
     "name": "stdout",
     "output_type": "stream",
     "text": [
      "\u001b[1m4/4\u001b[0m \u001b[32m━━━━━━━━━━━━━━━━━━━━\u001b[0m\u001b[37m\u001b[0m \u001b[1m1s\u001b[0m 178ms/step\n"
     ]
    },
    {
     "name": "stderr",
     "output_type": "stream",
     "text": [
      "[I 2025-06-12 12:26:11,206] Trial 8 finished with value: 24.087528228759766 and parameters: {'lstm_units': 32, 'lstm_layers': 2, 'dropout_rate': 0.1, 'learning_rate': 0.0011585292516855003, 'batch_size': 32, 'dense_units': 112, 'window_size': 20}. Best is trial 1 with value: 20.04929542541504.\n",
      "c:\\Users\\jerem\\miniconda3\\Lib\\site-packages\\keras\\src\\layers\\rnn\\rnn.py:199: UserWarning: Do not pass an `input_shape`/`input_dim` argument to a layer. When using Sequential models, prefer using an `Input(shape)` object as the first layer in the model instead.\n",
      "  super().__init__(**kwargs)\n"
     ]
    },
    {
     "name": "stdout",
     "output_type": "stream",
     "text": [
      "\u001b[1m4/4\u001b[0m \u001b[32m━━━━━━━━━━━━━━━━━━━━\u001b[0m\u001b[37m\u001b[0m \u001b[1m0s\u001b[0m 81ms/step\n"
     ]
    },
    {
     "name": "stderr",
     "output_type": "stream",
     "text": [
      "[I 2025-06-12 12:26:21,350] Trial 9 finished with value: 72.8598861694336 and parameters: {'lstm_units': 32, 'lstm_layers': 1, 'dropout_rate': 0.5, 'learning_rate': 0.00043184359092700563, 'batch_size': 32, 'dense_units': 16, 'window_size': 40}. Best is trial 1 with value: 20.04929542541504.\n",
      "c:\\Users\\jerem\\miniconda3\\Lib\\site-packages\\keras\\src\\layers\\rnn\\rnn.py:199: UserWarning: Do not pass an `input_shape`/`input_dim` argument to a layer. When using Sequential models, prefer using an `Input(shape)` object as the first layer in the model instead.\n",
      "  super().__init__(**kwargs)\n"
     ]
    },
    {
     "name": "stdout",
     "output_type": "stream",
     "text": [
      "\u001b[1m8/8\u001b[0m \u001b[32m━━━━━━━━━━━━━━━━━━━━\u001b[0m\u001b[37m\u001b[0m \u001b[1m1s\u001b[0m 46ms/step\n"
     ]
    },
    {
     "name": "stderr",
     "output_type": "stream",
     "text": [
      "[I 2025-06-12 12:26:57,958] Trial 10 finished with value: 30.03734016418457 and parameters: {'lstm_units': 128, 'lstm_layers': 1, 'dropout_rate': 0.0, 'learning_rate': 0.002410423981012449, 'batch_size': 16, 'dense_units': 64, 'window_size': 40}. Best is trial 1 with value: 20.04929542541504.\n",
      "c:\\Users\\jerem\\miniconda3\\Lib\\site-packages\\keras\\src\\layers\\rnn\\rnn.py:199: UserWarning: Do not pass an `input_shape`/`input_dim` argument to a layer. When using Sequential models, prefer using an `Input(shape)` object as the first layer in the model instead.\n",
      "  super().__init__(**kwargs)\n"
     ]
    },
    {
     "name": "stdout",
     "output_type": "stream",
     "text": [
      "\u001b[1m8/8\u001b[0m \u001b[32m━━━━━━━━━━━━━━━━━━━━\u001b[0m\u001b[37m\u001b[0m \u001b[1m1s\u001b[0m 40ms/step\n"
     ]
    },
    {
     "name": "stderr",
     "output_type": "stream",
     "text": [
      "[I 2025-06-12 12:27:51,951] Trial 11 finished with value: 23.044248580932617 and parameters: {'lstm_units': 32, 'lstm_layers': 1, 'dropout_rate': 0.5, 'learning_rate': 0.00023706028934981108, 'batch_size': 16, 'dense_units': 80, 'window_size': 50}. Best is trial 1 with value: 20.04929542541504.\n",
      "c:\\Users\\jerem\\miniconda3\\Lib\\site-packages\\keras\\src\\layers\\rnn\\rnn.py:199: UserWarning: Do not pass an `input_shape`/`input_dim` argument to a layer. When using Sequential models, prefer using an `Input(shape)` object as the first layer in the model instead.\n",
      "  super().__init__(**kwargs)\n"
     ]
    },
    {
     "name": "stdout",
     "output_type": "stream",
     "text": [
      "\u001b[1m8/8\u001b[0m \u001b[32m━━━━━━━━━━━━━━━━━━━━\u001b[0m\u001b[37m\u001b[0m \u001b[1m1s\u001b[0m 65ms/step\n"
     ]
    },
    {
     "name": "stderr",
     "output_type": "stream",
     "text": [
      "[I 2025-06-12 12:29:12,169] Trial 12 finished with value: 23.072486877441406 and parameters: {'lstm_units': 64, 'lstm_layers': 1, 'dropout_rate': 0.4, 'learning_rate': 0.00010887535183319768, 'batch_size': 16, 'dense_units': 80, 'window_size': 50}. Best is trial 1 with value: 20.04929542541504.\n",
      "c:\\Users\\jerem\\miniconda3\\Lib\\site-packages\\keras\\src\\layers\\rnn\\rnn.py:199: UserWarning: Do not pass an `input_shape`/`input_dim` argument to a layer. When using Sequential models, prefer using an `Input(shape)` object as the first layer in the model instead.\n",
      "  super().__init__(**kwargs)\n"
     ]
    },
    {
     "name": "stdout",
     "output_type": "stream",
     "text": [
      "\u001b[1m4/4\u001b[0m \u001b[32m━━━━━━━━━━━━━━━━━━━━\u001b[0m\u001b[37m\u001b[0m \u001b[1m1s\u001b[0m 94ms/step\n"
     ]
    },
    {
     "name": "stderr",
     "output_type": "stream",
     "text": [
      "[I 2025-06-12 12:29:41,342] Trial 13 finished with value: 24.659765243530273 and parameters: {'lstm_units': 96, 'lstm_layers': 1, 'dropout_rate': 0.2, 'learning_rate': 0.0002938146637841736, 'batch_size': 32, 'dense_units': 96, 'window_size': 50}. Best is trial 1 with value: 20.04929542541504.\n",
      "c:\\Users\\jerem\\miniconda3\\Lib\\site-packages\\keras\\src\\layers\\rnn\\rnn.py:199: UserWarning: Do not pass an `input_shape`/`input_dim` argument to a layer. When using Sequential models, prefer using an `Input(shape)` object as the first layer in the model instead.\n",
      "  super().__init__(**kwargs)\n"
     ]
    },
    {
     "name": "stdout",
     "output_type": "stream",
     "text": [
      "\u001b[1m4/4\u001b[0m \u001b[32m━━━━━━━━━━━━━━━━━━━━\u001b[0m\u001b[37m\u001b[0m \u001b[1m1s\u001b[0m 155ms/step\n"
     ]
    },
    {
     "name": "stderr",
     "output_type": "stream",
     "text": [
      "[I 2025-06-12 12:30:06,758] Trial 14 finished with value: 25.087186813354492 and parameters: {'lstm_units': 32, 'lstm_layers': 2, 'dropout_rate': 0.4, 'learning_rate': 0.0013980505653562287, 'batch_size': 32, 'dense_units': 112, 'window_size': 30}. Best is trial 1 with value: 20.04929542541504.\n",
      "c:\\Users\\jerem\\miniconda3\\Lib\\site-packages\\keras\\src\\layers\\rnn\\rnn.py:199: UserWarning: Do not pass an `input_shape`/`input_dim` argument to a layer. When using Sequential models, prefer using an `Input(shape)` object as the first layer in the model instead.\n",
      "  super().__init__(**kwargs)\n"
     ]
    },
    {
     "name": "stdout",
     "output_type": "stream",
     "text": [
      "\u001b[1m8/8\u001b[0m \u001b[32m━━━━━━━━━━━━━━━━━━━━\u001b[0m\u001b[37m\u001b[0m \u001b[1m1s\u001b[0m 46ms/step\n"
     ]
    },
    {
     "name": "stderr",
     "output_type": "stream",
     "text": [
      "[I 2025-06-12 12:30:51,943] Trial 15 finished with value: 21.21608543395996 and parameters: {'lstm_units': 64, 'lstm_layers': 1, 'dropout_rate': 0.1, 'learning_rate': 0.000191832242479747, 'batch_size': 16, 'dense_units': 64, 'window_size': 60}. Best is trial 1 with value: 20.04929542541504.\n",
      "c:\\Users\\jerem\\miniconda3\\Lib\\site-packages\\keras\\src\\layers\\rnn\\rnn.py:199: UserWarning: Do not pass an `input_shape`/`input_dim` argument to a layer. When using Sequential models, prefer using an `Input(shape)` object as the first layer in the model instead.\n",
      "  super().__init__(**kwargs)\n"
     ]
    },
    {
     "name": "stdout",
     "output_type": "stream",
     "text": [
      "\u001b[1m8/8\u001b[0m \u001b[32m━━━━━━━━━━━━━━━━━━━━\u001b[0m\u001b[37m\u001b[0m \u001b[1m1s\u001b[0m 52ms/step\n"
     ]
    },
    {
     "name": "stderr",
     "output_type": "stream",
     "text": [
      "[I 2025-06-12 12:31:11,740] Trial 16 finished with value: 27.487485885620117 and parameters: {'lstm_units': 128, 'lstm_layers': 1, 'dropout_rate': 0.1, 'learning_rate': 0.00038586831241294446, 'batch_size': 16, 'dense_units': 64, 'window_size': 40}. Best is trial 1 with value: 20.04929542541504.\n",
      "c:\\Users\\jerem\\miniconda3\\Lib\\site-packages\\keras\\src\\layers\\rnn\\rnn.py:199: UserWarning: Do not pass an `input_shape`/`input_dim` argument to a layer. When using Sequential models, prefer using an `Input(shape)` object as the first layer in the model instead.\n",
      "  super().__init__(**kwargs)\n"
     ]
    },
    {
     "name": "stdout",
     "output_type": "stream",
     "text": [
      "\u001b[1m8/8\u001b[0m \u001b[32m━━━━━━━━━━━━━━━━━━━━\u001b[0m\u001b[37m\u001b[0m \u001b[1m1s\u001b[0m 91ms/step\n"
     ]
    },
    {
     "name": "stderr",
     "output_type": "stream",
     "text": [
      "[I 2025-06-12 12:32:57,176] Trial 17 finished with value: 21.20887565612793 and parameters: {'lstm_units': 32, 'lstm_layers': 2, 'dropout_rate': 0.0, 'learning_rate': 0.00014300757755790456, 'batch_size': 16, 'dense_units': 48, 'window_size': 50}. Best is trial 1 with value: 20.04929542541504.\n",
      "c:\\Users\\jerem\\miniconda3\\Lib\\site-packages\\keras\\src\\layers\\rnn\\rnn.py:199: UserWarning: Do not pass an `input_shape`/`input_dim` argument to a layer. When using Sequential models, prefer using an `Input(shape)` object as the first layer in the model instead.\n",
      "  super().__init__(**kwargs)\n"
     ]
    },
    {
     "name": "stdout",
     "output_type": "stream",
     "text": [
      "\u001b[1m8/8\u001b[0m \u001b[32m━━━━━━━━━━━━━━━━━━━━\u001b[0m\u001b[37m\u001b[0m \u001b[1m1s\u001b[0m 71ms/step\n"
     ]
    },
    {
     "name": "stderr",
     "output_type": "stream",
     "text": [
      "[I 2025-06-12 12:34:03,703] Trial 18 finished with value: 26.322490692138672 and parameters: {'lstm_units': 32, 'lstm_layers': 2, 'dropout_rate': 0.0, 'learning_rate': 0.00011362713317405716, 'batch_size': 16, 'dense_units': 48, 'window_size': 30}. Best is trial 1 with value: 20.04929542541504.\n",
      "c:\\Users\\jerem\\miniconda3\\Lib\\site-packages\\keras\\src\\layers\\rnn\\rnn.py:199: UserWarning: Do not pass an `input_shape`/`input_dim` argument to a layer. When using Sequential models, prefer using an `Input(shape)` object as the first layer in the model instead.\n",
      "  super().__init__(**kwargs)\n"
     ]
    },
    {
     "name": "stdout",
     "output_type": "stream",
     "text": [
      "\u001b[1m8/8\u001b[0m \u001b[32m━━━━━━━━━━━━━━━━━━━━\u001b[0m\u001b[37m\u001b[0m \u001b[1m1s\u001b[0m 73ms/step\n"
     ]
    },
    {
     "name": "stderr",
     "output_type": "stream",
     "text": [
      "[I 2025-06-12 12:34:54,890] Trial 19 finished with value: 27.077255249023438 and parameters: {'lstm_units': 32, 'lstm_layers': 2, 'dropout_rate': 0.2, 'learning_rate': 0.002027933450416063, 'batch_size': 16, 'dense_units': 96, 'window_size': 50}. Best is trial 1 with value: 20.04929542541504.\n",
      "c:\\Users\\jerem\\miniconda3\\Lib\\site-packages\\keras\\src\\layers\\rnn\\rnn.py:199: UserWarning: Do not pass an `input_shape`/`input_dim` argument to a layer. When using Sequential models, prefer using an `Input(shape)` object as the first layer in the model instead.\n",
      "  super().__init__(**kwargs)\n"
     ]
    },
    {
     "name": "stdout",
     "output_type": "stream",
     "text": [
      "\u001b[1m8/8\u001b[0m \u001b[32m━━━━━━━━━━━━━━━━━━━━\u001b[0m\u001b[37m\u001b[0m \u001b[1m1s\u001b[0m 64ms/step\n"
     ]
    },
    {
     "name": "stderr",
     "output_type": "stream",
     "text": [
      "[I 2025-06-12 12:35:43,228] Trial 20 finished with value: 25.336383819580078 and parameters: {'lstm_units': 32, 'lstm_layers': 2, 'dropout_rate': 0.0, 'learning_rate': 0.0005151418920671788, 'batch_size': 16, 'dense_units': 48, 'window_size': 40}. Best is trial 1 with value: 20.04929542541504.\n",
      "c:\\Users\\jerem\\miniconda3\\Lib\\site-packages\\keras\\src\\layers\\rnn\\rnn.py:199: UserWarning: Do not pass an `input_shape`/`input_dim` argument to a layer. When using Sequential models, prefer using an `Input(shape)` object as the first layer in the model instead.\n",
      "  super().__init__(**kwargs)\n"
     ]
    },
    {
     "name": "stdout",
     "output_type": "stream",
     "text": [
      "\u001b[1m8/8\u001b[0m \u001b[32m━━━━━━━━━━━━━━━━━━━━\u001b[0m\u001b[37m\u001b[0m \u001b[1m1s\u001b[0m 104ms/step\n"
     ]
    },
    {
     "name": "stderr",
     "output_type": "stream",
     "text": [
      "[I 2025-06-12 12:38:19,679] Trial 21 finished with value: 23.817668914794922 and parameters: {'lstm_units': 64, 'lstm_layers': 2, 'dropout_rate': 0.1, 'learning_rate': 0.00016471854396016966, 'batch_size': 16, 'dense_units': 64, 'window_size': 60}. Best is trial 1 with value: 20.04929542541504.\n",
      "c:\\Users\\jerem\\miniconda3\\Lib\\site-packages\\keras\\src\\layers\\rnn\\rnn.py:199: UserWarning: Do not pass an `input_shape`/`input_dim` argument to a layer. When using Sequential models, prefer using an `Input(shape)` object as the first layer in the model instead.\n",
      "  super().__init__(**kwargs)\n"
     ]
    },
    {
     "name": "stdout",
     "output_type": "stream",
     "text": [
      "\u001b[1m8/8\u001b[0m \u001b[32m━━━━━━━━━━━━━━━━━━━━\u001b[0m\u001b[37m\u001b[0m \u001b[1m1s\u001b[0m 75ms/step\n"
     ]
    },
    {
     "name": "stderr",
     "output_type": "stream",
     "text": [
      "[I 2025-06-12 12:39:20,495] Trial 22 finished with value: 25.21042251586914 and parameters: {'lstm_units': 64, 'lstm_layers': 2, 'dropout_rate': 0.0, 'learning_rate': 0.0002638092353367465, 'batch_size': 16, 'dense_units': 32, 'window_size': 50}. Best is trial 1 with value: 20.04929542541504.\n",
      "c:\\Users\\jerem\\miniconda3\\Lib\\site-packages\\keras\\src\\layers\\rnn\\rnn.py:199: UserWarning: Do not pass an `input_shape`/`input_dim` argument to a layer. When using Sequential models, prefer using an `Input(shape)` object as the first layer in the model instead.\n",
      "  super().__init__(**kwargs)\n"
     ]
    },
    {
     "name": "stdout",
     "output_type": "stream",
     "text": [
      "\u001b[1m8/8\u001b[0m \u001b[32m━━━━━━━━━━━━━━━━━━━━\u001b[0m\u001b[37m\u001b[0m \u001b[1m1s\u001b[0m 94ms/step\n"
     ]
    },
    {
     "name": "stderr",
     "output_type": "stream",
     "text": [
      "[I 2025-06-12 12:41:31,824] Trial 23 finished with value: 20.32427406311035 and parameters: {'lstm_units': 32, 'lstm_layers': 2, 'dropout_rate': 0.1, 'learning_rate': 0.0001525414249055007, 'batch_size': 16, 'dense_units': 48, 'window_size': 60}. Best is trial 1 with value: 20.04929542541504.\n",
      "c:\\Users\\jerem\\miniconda3\\Lib\\site-packages\\keras\\src\\layers\\rnn\\rnn.py:199: UserWarning: Do not pass an `input_shape`/`input_dim` argument to a layer. When using Sequential models, prefer using an `Input(shape)` object as the first layer in the model instead.\n",
      "  super().__init__(**kwargs)\n"
     ]
    },
    {
     "name": "stdout",
     "output_type": "stream",
     "text": [
      "\u001b[1m8/8\u001b[0m \u001b[32m━━━━━━━━━━━━━━━━━━━━\u001b[0m\u001b[37m\u001b[0m \u001b[1m1s\u001b[0m 73ms/step\n"
     ]
    },
    {
     "name": "stderr",
     "output_type": "stream",
     "text": [
      "[I 2025-06-12 12:42:59,151] Trial 24 finished with value: 26.419153213500977 and parameters: {'lstm_units': 32, 'lstm_layers': 2, 'dropout_rate': 0.2, 'learning_rate': 0.0003222609110175437, 'batch_size': 16, 'dense_units': 48, 'window_size': 50}. Best is trial 1 with value: 20.04929542541504.\n",
      "c:\\Users\\jerem\\miniconda3\\Lib\\site-packages\\keras\\src\\layers\\rnn\\rnn.py:199: UserWarning: Do not pass an `input_shape`/`input_dim` argument to a layer. When using Sequential models, prefer using an `Input(shape)` object as the first layer in the model instead.\n",
      "  super().__init__(**kwargs)\n"
     ]
    },
    {
     "name": "stdout",
     "output_type": "stream",
     "text": [
      "\u001b[1m8/8\u001b[0m \u001b[32m━━━━━━━━━━━━━━━━━━━━\u001b[0m\u001b[37m\u001b[0m \u001b[1m1s\u001b[0m 99ms/step\n"
     ]
    },
    {
     "name": "stderr",
     "output_type": "stream",
     "text": [
      "[I 2025-06-12 12:44:42,200] Trial 25 finished with value: 20.039194107055664 and parameters: {'lstm_units': 32, 'lstm_layers': 2, 'dropout_rate': 0.0, 'learning_rate': 0.00014477887879662502, 'batch_size': 16, 'dense_units': 32, 'window_size': 40}. Best is trial 25 with value: 20.039194107055664.\n",
      "c:\\Users\\jerem\\miniconda3\\Lib\\site-packages\\keras\\src\\layers\\rnn\\rnn.py:199: UserWarning: Do not pass an `input_shape`/`input_dim` argument to a layer. When using Sequential models, prefer using an `Input(shape)` object as the first layer in the model instead.\n",
      "  super().__init__(**kwargs)\n"
     ]
    },
    {
     "name": "stdout",
     "output_type": "stream",
     "text": [
      "\u001b[1m8/8\u001b[0m \u001b[32m━━━━━━━━━━━━━━━━━━━━\u001b[0m\u001b[37m\u001b[0m \u001b[1m1s\u001b[0m 68ms/step\n"
     ]
    },
    {
     "name": "stderr",
     "output_type": "stream",
     "text": [
      "[I 2025-06-12 12:45:17,721] Trial 26 finished with value: 24.593347549438477 and parameters: {'lstm_units': 32, 'lstm_layers': 2, 'dropout_rate': 0.1, 'learning_rate': 0.0007137250420013923, 'batch_size': 16, 'dense_units': 32, 'window_size': 30}. Best is trial 25 with value: 20.039194107055664.\n",
      "c:\\Users\\jerem\\miniconda3\\Lib\\site-packages\\keras\\src\\layers\\rnn\\rnn.py:199: UserWarning: Do not pass an `input_shape`/`input_dim` argument to a layer. When using Sequential models, prefer using an `Input(shape)` object as the first layer in the model instead.\n",
      "  super().__init__(**kwargs)\n"
     ]
    },
    {
     "name": "stdout",
     "output_type": "stream",
     "text": [
      "\u001b[1m8/8\u001b[0m \u001b[32m━━━━━━━━━━━━━━━━━━━━\u001b[0m\u001b[37m\u001b[0m \u001b[1m1s\u001b[0m 76ms/step\n"
     ]
    },
    {
     "name": "stderr",
     "output_type": "stream",
     "text": [
      "[I 2025-06-12 12:46:48,539] Trial 27 finished with value: 20.3392391204834 and parameters: {'lstm_units': 32, 'lstm_layers': 2, 'dropout_rate': 0.0, 'learning_rate': 0.00014633982051735208, 'batch_size': 16, 'dense_units': 16, 'window_size': 40}. Best is trial 25 with value: 20.039194107055664.\n",
      "c:\\Users\\jerem\\miniconda3\\Lib\\site-packages\\keras\\src\\layers\\rnn\\rnn.py:199: UserWarning: Do not pass an `input_shape`/`input_dim` argument to a layer. When using Sequential models, prefer using an `Input(shape)` object as the first layer in the model instead.\n",
      "  super().__init__(**kwargs)\n"
     ]
    },
    {
     "name": "stdout",
     "output_type": "stream",
     "text": [
      "\u001b[1m8/8\u001b[0m \u001b[32m━━━━━━━━━━━━━━━━━━━━\u001b[0m\u001b[37m\u001b[0m \u001b[1m1s\u001b[0m 77ms/step\n"
     ]
    },
    {
     "name": "stderr",
     "output_type": "stream",
     "text": [
      "[I 2025-06-12 12:47:50,009] Trial 28 finished with value: 25.734844207763672 and parameters: {'lstm_units': 96, 'lstm_layers': 2, 'dropout_rate': 0.1, 'learning_rate': 0.00022701412461649526, 'batch_size': 16, 'dense_units': 112, 'window_size': 40}. Best is trial 25 with value: 20.039194107055664.\n",
      "c:\\Users\\jerem\\miniconda3\\Lib\\site-packages\\keras\\src\\layers\\rnn\\rnn.py:199: UserWarning: Do not pass an `input_shape`/`input_dim` argument to a layer. When using Sequential models, prefer using an `Input(shape)` object as the first layer in the model instead.\n",
      "  super().__init__(**kwargs)\n"
     ]
    },
    {
     "name": "stdout",
     "output_type": "stream",
     "text": [
      "\u001b[1m8/8\u001b[0m \u001b[32m━━━━━━━━━━━━━━━━━━━━\u001b[0m\u001b[37m\u001b[0m \u001b[1m1s\u001b[0m 108ms/step\n"
     ]
    },
    {
     "name": "stderr",
     "output_type": "stream",
     "text": [
      "[I 2025-06-12 12:49:29,131] Trial 29 finished with value: 25.452739715576172 and parameters: {'lstm_units': 64, 'lstm_layers': 2, 'dropout_rate': 0.2, 'learning_rate': 0.0003612041254663382, 'batch_size': 16, 'dense_units': 80, 'window_size': 60}. Best is trial 25 with value: 20.039194107055664.\n",
      "c:\\Users\\jerem\\miniconda3\\Lib\\site-packages\\keras\\src\\layers\\rnn\\rnn.py:199: UserWarning: Do not pass an `input_shape`/`input_dim` argument to a layer. When using Sequential models, prefer using an `Input(shape)` object as the first layer in the model instead.\n",
      "  super().__init__(**kwargs)\n"
     ]
    },
    {
     "name": "stdout",
     "output_type": "stream",
     "text": [
      "\u001b[1m8/8\u001b[0m \u001b[32m━━━━━━━━━━━━━━━━━━━━\u001b[0m\u001b[37m\u001b[0m \u001b[1m1s\u001b[0m 71ms/step\n"
     ]
    },
    {
     "name": "stderr",
     "output_type": "stream",
     "text": [
      "[I 2025-06-12 12:51:25,872] Trial 30 finished with value: 27.6954345703125 and parameters: {'lstm_units': 32, 'lstm_layers': 2, 'dropout_rate': 0.0, 'learning_rate': 0.00010096995498517674, 'batch_size': 16, 'dense_units': 128, 'window_size': 60}. Best is trial 25 with value: 20.039194107055664.\n",
      "c:\\Users\\jerem\\miniconda3\\Lib\\site-packages\\keras\\src\\layers\\rnn\\rnn.py:199: UserWarning: Do not pass an `input_shape`/`input_dim` argument to a layer. When using Sequential models, prefer using an `Input(shape)` object as the first layer in the model instead.\n",
      "  super().__init__(**kwargs)\n"
     ]
    },
    {
     "name": "stdout",
     "output_type": "stream",
     "text": [
      "\u001b[1m8/8\u001b[0m \u001b[32m━━━━━━━━━━━━━━━━━━━━\u001b[0m\u001b[37m\u001b[0m \u001b[1m1s\u001b[0m 94ms/step\n"
     ]
    },
    {
     "name": "stderr",
     "output_type": "stream",
     "text": [
      "[I 2025-06-12 12:53:02,422] Trial 31 finished with value: 21.35516357421875 and parameters: {'lstm_units': 32, 'lstm_layers': 2, 'dropout_rate': 0.0, 'learning_rate': 0.00018112469688557795, 'batch_size': 16, 'dense_units': 16, 'window_size': 40}. Best is trial 25 with value: 20.039194107055664.\n",
      "c:\\Users\\jerem\\miniconda3\\Lib\\site-packages\\keras\\src\\layers\\rnn\\rnn.py:199: UserWarning: Do not pass an `input_shape`/`input_dim` argument to a layer. When using Sequential models, prefer using an `Input(shape)` object as the first layer in the model instead.\n",
      "  super().__init__(**kwargs)\n"
     ]
    },
    {
     "name": "stdout",
     "output_type": "stream",
     "text": [
      "\u001b[1m8/8\u001b[0m \u001b[32m━━━━━━━━━━━━━━━━━━━━\u001b[0m\u001b[37m\u001b[0m \u001b[1m1s\u001b[0m 74ms/step\n"
     ]
    },
    {
     "name": "stderr",
     "output_type": "stream",
     "text": [
      "[I 2025-06-12 12:54:12,012] Trial 32 finished with value: 41.10490798950195 and parameters: {'lstm_units': 32, 'lstm_layers': 2, 'dropout_rate': 0.0, 'learning_rate': 0.00014688339226603982, 'batch_size': 16, 'dense_units': 16, 'window_size': 30}. Best is trial 25 with value: 20.039194107055664.\n",
      "c:\\Users\\jerem\\miniconda3\\Lib\\site-packages\\keras\\src\\layers\\rnn\\rnn.py:199: UserWarning: Do not pass an `input_shape`/`input_dim` argument to a layer. When using Sequential models, prefer using an `Input(shape)` object as the first layer in the model instead.\n",
      "  super().__init__(**kwargs)\n"
     ]
    },
    {
     "name": "stdout",
     "output_type": "stream",
     "text": [
      "\u001b[1m8/8\u001b[0m \u001b[32m━━━━━━━━━━━━━━━━━━━━\u001b[0m\u001b[37m\u001b[0m \u001b[1m1s\u001b[0m 73ms/step\n"
     ]
    },
    {
     "name": "stderr",
     "output_type": "stream",
     "text": [
      "[I 2025-06-12 12:55:42,646] Trial 33 finished with value: 31.22696304321289 and parameters: {'lstm_units': 32, 'lstm_layers': 2, 'dropout_rate': 0.1, 'learning_rate': 0.00014487305309581052, 'batch_size': 16, 'dense_units': 32, 'window_size': 40}. Best is trial 25 with value: 20.039194107055664.\n",
      "c:\\Users\\jerem\\miniconda3\\Lib\\site-packages\\keras\\src\\layers\\rnn\\rnn.py:199: UserWarning: Do not pass an `input_shape`/`input_dim` argument to a layer. When using Sequential models, prefer using an `Input(shape)` object as the first layer in the model instead.\n",
      "  super().__init__(**kwargs)\n"
     ]
    },
    {
     "name": "stdout",
     "output_type": "stream",
     "text": [
      "\u001b[1m8/8\u001b[0m \u001b[32m━━━━━━━━━━━━━━━━━━━━\u001b[0m\u001b[37m\u001b[0m \u001b[1m1s\u001b[0m 98ms/step\n"
     ]
    },
    {
     "name": "stderr",
     "output_type": "stream",
     "text": [
      "[I 2025-06-12 12:56:59,265] Trial 34 finished with value: 24.708969116210938 and parameters: {'lstm_units': 64, 'lstm_layers': 2, 'dropout_rate': 0.0, 'learning_rate': 0.00023814691360484003, 'batch_size': 16, 'dense_units': 16, 'window_size': 50}. Best is trial 25 with value: 20.039194107055664.\n",
      "c:\\Users\\jerem\\miniconda3\\Lib\\site-packages\\keras\\src\\layers\\rnn\\rnn.py:199: UserWarning: Do not pass an `input_shape`/`input_dim` argument to a layer. When using Sequential models, prefer using an `Input(shape)` object as the first layer in the model instead.\n",
      "  super().__init__(**kwargs)\n"
     ]
    },
    {
     "name": "stdout",
     "output_type": "stream",
     "text": [
      "\u001b[1m8/8\u001b[0m \u001b[32m━━━━━━━━━━━━━━━━━━━━\u001b[0m\u001b[37m\u001b[0m \u001b[1m1s\u001b[0m 76ms/step\n"
     ]
    },
    {
     "name": "stderr",
     "output_type": "stream",
     "text": [
      "[I 2025-06-12 12:58:34,606] Trial 35 finished with value: 24.344533920288086 and parameters: {'lstm_units': 64, 'lstm_layers': 2, 'dropout_rate': 0.0, 'learning_rate': 0.00020096848062632787, 'batch_size': 16, 'dense_units': 32, 'window_size': 60}. Best is trial 25 with value: 20.039194107055664.\n",
      "c:\\Users\\jerem\\miniconda3\\Lib\\site-packages\\keras\\src\\layers\\rnn\\rnn.py:199: UserWarning: Do not pass an `input_shape`/`input_dim` argument to a layer. When using Sequential models, prefer using an `Input(shape)` object as the first layer in the model instead.\n",
      "  super().__init__(**kwargs)\n"
     ]
    },
    {
     "name": "stdout",
     "output_type": "stream",
     "text": [
      "\u001b[1m8/8\u001b[0m \u001b[32m━━━━━━━━━━━━━━━━━━━━\u001b[0m\u001b[37m\u001b[0m \u001b[1m1s\u001b[0m 74ms/step\n"
     ]
    },
    {
     "name": "stderr",
     "output_type": "stream",
     "text": [
      "[I 2025-06-12 12:59:10,615] Trial 36 finished with value: 25.912254333496094 and parameters: {'lstm_units': 32, 'lstm_layers': 2, 'dropout_rate': 0.1, 'learning_rate': 0.003940629794212331, 'batch_size': 16, 'dense_units': 16, 'window_size': 40}. Best is trial 25 with value: 20.039194107055664.\n",
      "c:\\Users\\jerem\\miniconda3\\Lib\\site-packages\\keras\\src\\layers\\rnn\\rnn.py:199: UserWarning: Do not pass an `input_shape`/`input_dim` argument to a layer. When using Sequential models, prefer using an `Input(shape)` object as the first layer in the model instead.\n",
      "  super().__init__(**kwargs)\n"
     ]
    },
    {
     "name": "stdout",
     "output_type": "stream",
     "text": [
      "\u001b[1m8/8\u001b[0m \u001b[32m━━━━━━━━━━━━━━━━━━━━\u001b[0m\u001b[37m\u001b[0m \u001b[1m1s\u001b[0m 65ms/step\n"
     ]
    },
    {
     "name": "stderr",
     "output_type": "stream",
     "text": [
      "[I 2025-06-12 13:00:05,600] Trial 37 finished with value: 20.749658584594727 and parameters: {'lstm_units': 32, 'lstm_layers': 2, 'dropout_rate': 0.0, 'learning_rate': 0.00013257629928546468, 'batch_size': 16, 'dense_units': 32, 'window_size': 20}. Best is trial 25 with value: 20.039194107055664.\n",
      "c:\\Users\\jerem\\miniconda3\\Lib\\site-packages\\keras\\src\\layers\\rnn\\rnn.py:199: UserWarning: Do not pass an `input_shape`/`input_dim` argument to a layer. When using Sequential models, prefer using an `Input(shape)` object as the first layer in the model instead.\n",
      "  super().__init__(**kwargs)\n"
     ]
    },
    {
     "name": "stdout",
     "output_type": "stream",
     "text": [
      "\u001b[1m4/4\u001b[0m \u001b[32m━━━━━━━━━━━━━━━━━━━━\u001b[0m\u001b[37m\u001b[0m \u001b[1m1s\u001b[0m 193ms/step\n"
     ]
    },
    {
     "name": "stderr",
     "output_type": "stream",
     "text": [
      "[I 2025-06-12 13:01:35,608] Trial 38 finished with value: 24.35092544555664 and parameters: {'lstm_units': 32, 'lstm_layers': 2, 'dropout_rate': 0.1, 'learning_rate': 0.0004440498117098007, 'batch_size': 32, 'dense_units': 48, 'window_size': 60}. Best is trial 25 with value: 20.039194107055664.\n",
      "c:\\Users\\jerem\\miniconda3\\Lib\\site-packages\\keras\\src\\layers\\rnn\\rnn.py:199: UserWarning: Do not pass an `input_shape`/`input_dim` argument to a layer. When using Sequential models, prefer using an `Input(shape)` object as the first layer in the model instead.\n",
      "  super().__init__(**kwargs)\n"
     ]
    },
    {
     "name": "stdout",
     "output_type": "stream",
     "text": [
      "\u001b[1m8/8\u001b[0m \u001b[32m━━━━━━━━━━━━━━━━━━━━\u001b[0m\u001b[37m\u001b[0m \u001b[1m1s\u001b[0m 72ms/step\n"
     ]
    },
    {
     "name": "stderr",
     "output_type": "stream",
     "text": [
      "[I 2025-06-12 13:02:00,592] Trial 39 finished with value: 30.58830451965332 and parameters: {'lstm_units': 64, 'lstm_layers': 2, 'dropout_rate': 0.0, 'learning_rate': 0.0008486213631698991, 'batch_size': 16, 'dense_units': 16, 'window_size': 10}. Best is trial 25 with value: 20.039194107055664.\n",
      "c:\\Users\\jerem\\miniconda3\\Lib\\site-packages\\keras\\src\\layers\\rnn\\rnn.py:199: UserWarning: Do not pass an `input_shape`/`input_dim` argument to a layer. When using Sequential models, prefer using an `Input(shape)` object as the first layer in the model instead.\n",
      "  super().__init__(**kwargs)\n"
     ]
    },
    {
     "name": "stdout",
     "output_type": "stream",
     "text": [
      "\u001b[1m4/4\u001b[0m \u001b[32m━━━━━━━━━━━━━━━━━━━━\u001b[0m\u001b[37m\u001b[0m \u001b[1m1s\u001b[0m 159ms/step\n"
     ]
    },
    {
     "name": "stderr",
     "output_type": "stream",
     "text": [
      "[I 2025-06-12 13:02:17,558] Trial 40 finished with value: 26.36534881591797 and parameters: {'lstm_units': 32, 'lstm_layers': 2, 'dropout_rate': 0.1, 'learning_rate': 0.007525320847191783, 'batch_size': 32, 'dense_units': 32, 'window_size': 50}. Best is trial 25 with value: 20.039194107055664.\n",
      "c:\\Users\\jerem\\miniconda3\\Lib\\site-packages\\keras\\src\\layers\\rnn\\rnn.py:199: UserWarning: Do not pass an `input_shape`/`input_dim` argument to a layer. When using Sequential models, prefer using an `Input(shape)` object as the first layer in the model instead.\n",
      "  super().__init__(**kwargs)\n"
     ]
    },
    {
     "name": "stdout",
     "output_type": "stream",
     "text": [
      "\u001b[1m8/8\u001b[0m \u001b[32m━━━━━━━━━━━━━━━━━━━━\u001b[0m\u001b[37m\u001b[0m \u001b[1m1s\u001b[0m 75ms/step\n"
     ]
    },
    {
     "name": "stderr",
     "output_type": "stream",
     "text": [
      "[I 2025-06-12 13:03:12,476] Trial 41 finished with value: 20.884170532226562 and parameters: {'lstm_units': 32, 'lstm_layers': 2, 'dropout_rate': 0.0, 'learning_rate': 0.00013874994749430038, 'batch_size': 16, 'dense_units': 32, 'window_size': 20}. Best is trial 25 with value: 20.039194107055664.\n",
      "c:\\Users\\jerem\\miniconda3\\Lib\\site-packages\\keras\\src\\layers\\rnn\\rnn.py:199: UserWarning: Do not pass an `input_shape`/`input_dim` argument to a layer. When using Sequential models, prefer using an `Input(shape)` object as the first layer in the model instead.\n",
      "  super().__init__(**kwargs)\n"
     ]
    },
    {
     "name": "stdout",
     "output_type": "stream",
     "text": [
      "\u001b[1m8/8\u001b[0m \u001b[32m━━━━━━━━━━━━━━━━━━━━\u001b[0m\u001b[37m\u001b[0m \u001b[1m1s\u001b[0m 62ms/step\n"
     ]
    },
    {
     "name": "stderr",
     "output_type": "stream",
     "text": [
      "[I 2025-06-12 13:04:04,983] Trial 42 finished with value: 21.411428451538086 and parameters: {'lstm_units': 32, 'lstm_layers': 2, 'dropout_rate': 0.0, 'learning_rate': 0.00012266902424543696, 'batch_size': 16, 'dense_units': 32, 'window_size': 20}. Best is trial 25 with value: 20.039194107055664.\n",
      "c:\\Users\\jerem\\miniconda3\\Lib\\site-packages\\keras\\src\\layers\\rnn\\rnn.py:199: UserWarning: Do not pass an `input_shape`/`input_dim` argument to a layer. When using Sequential models, prefer using an `Input(shape)` object as the first layer in the model instead.\n",
      "  super().__init__(**kwargs)\n"
     ]
    },
    {
     "name": "stdout",
     "output_type": "stream",
     "text": [
      "\u001b[1m8/8\u001b[0m \u001b[32m━━━━━━━━━━━━━━━━━━━━\u001b[0m\u001b[37m\u001b[0m \u001b[1m1s\u001b[0m 100ms/step\n"
     ]
    },
    {
     "name": "stderr",
     "output_type": "stream",
     "text": [
      "[I 2025-06-12 13:05:25,428] Trial 43 finished with value: 21.17413902282715 and parameters: {'lstm_units': 32, 'lstm_layers': 2, 'dropout_rate': 0.0, 'learning_rate': 0.00017796563776375262, 'batch_size': 16, 'dense_units': 16, 'window_size': 30}. Best is trial 25 with value: 20.039194107055664.\n",
      "c:\\Users\\jerem\\miniconda3\\Lib\\site-packages\\keras\\src\\layers\\rnn\\rnn.py:199: UserWarning: Do not pass an `input_shape`/`input_dim` argument to a layer. When using Sequential models, prefer using an `Input(shape)` object as the first layer in the model instead.\n",
      "  super().__init__(**kwargs)\n"
     ]
    },
    {
     "name": "stdout",
     "output_type": "stream",
     "text": [
      "\u001b[1m8/8\u001b[0m \u001b[32m━━━━━━━━━━━━━━━━━━━━\u001b[0m\u001b[37m\u001b[0m \u001b[1m1s\u001b[0m 66ms/step\n"
     ]
    },
    {
     "name": "stderr",
     "output_type": "stream",
     "text": [
      "[I 2025-06-12 13:05:58,667] Trial 44 finished with value: 23.448204040527344 and parameters: {'lstm_units': 32, 'lstm_layers': 2, 'dropout_rate': 0.0, 'learning_rate': 0.0002690354653146888, 'batch_size': 16, 'dense_units': 48, 'window_size': 10}. Best is trial 25 with value: 20.039194107055664.\n",
      "c:\\Users\\jerem\\miniconda3\\Lib\\site-packages\\keras\\src\\layers\\rnn\\rnn.py:199: UserWarning: Do not pass an `input_shape`/`input_dim` argument to a layer. When using Sequential models, prefer using an `Input(shape)` object as the first layer in the model instead.\n",
      "  super().__init__(**kwargs)\n"
     ]
    },
    {
     "name": "stdout",
     "output_type": "stream",
     "text": [
      "\u001b[1m8/8\u001b[0m \u001b[32m━━━━━━━━━━━━━━━━━━━━\u001b[0m\u001b[37m\u001b[0m \u001b[1m1s\u001b[0m 68ms/step\n"
     ]
    },
    {
     "name": "stderr",
     "output_type": "stream",
     "text": [
      "[I 2025-06-12 13:07:23,562] Trial 45 finished with value: 23.124053955078125 and parameters: {'lstm_units': 32, 'lstm_layers': 2, 'dropout_rate': 0.1, 'learning_rate': 0.00012063505509085665, 'batch_size': 16, 'dense_units': 32, 'window_size': 40}. Best is trial 25 with value: 20.039194107055664.\n",
      "c:\\Users\\jerem\\miniconda3\\Lib\\site-packages\\keras\\src\\layers\\rnn\\rnn.py:199: UserWarning: Do not pass an `input_shape`/`input_dim` argument to a layer. When using Sequential models, prefer using an `Input(shape)` object as the first layer in the model instead.\n",
      "  super().__init__(**kwargs)\n"
     ]
    },
    {
     "name": "stdout",
     "output_type": "stream",
     "text": [
      "\u001b[1m8/8\u001b[0m \u001b[32m━━━━━━━━━━━━━━━━━━━━\u001b[0m\u001b[37m\u001b[0m \u001b[1m1s\u001b[0m 74ms/step\n"
     ]
    },
    {
     "name": "stderr",
     "output_type": "stream",
     "text": [
      "[I 2025-06-12 13:08:18,385] Trial 46 finished with value: 24.759937286376953 and parameters: {'lstm_units': 64, 'lstm_layers': 2, 'dropout_rate': 0.0, 'learning_rate': 0.00019528085562182314, 'batch_size': 16, 'dense_units': 96, 'window_size': 30}. Best is trial 25 with value: 20.039194107055664.\n",
      "c:\\Users\\jerem\\miniconda3\\Lib\\site-packages\\keras\\src\\layers\\rnn\\rnn.py:199: UserWarning: Do not pass an `input_shape`/`input_dim` argument to a layer. When using Sequential models, prefer using an `Input(shape)` object as the first layer in the model instead.\n",
      "  super().__init__(**kwargs)\n"
     ]
    },
    {
     "name": "stdout",
     "output_type": "stream",
     "text": [
      "\u001b[1m4/4\u001b[0m \u001b[32m━━━━━━━━━━━━━━━━━━━━\u001b[0m\u001b[37m\u001b[0m \u001b[1m1s\u001b[0m 162ms/step\n"
     ]
    },
    {
     "name": "stderr",
     "output_type": "stream",
     "text": [
      "[I 2025-06-12 13:09:30,931] Trial 47 finished with value: 20.085039138793945 and parameters: {'lstm_units': 32, 'lstm_layers': 2, 'dropout_rate': 0.2, 'learning_rate': 0.0003083377290587783, 'batch_size': 32, 'dense_units': 16, 'window_size': 50}. Best is trial 25 with value: 20.039194107055664.\n",
      "c:\\Users\\jerem\\miniconda3\\Lib\\site-packages\\keras\\src\\layers\\rnn\\rnn.py:199: UserWarning: Do not pass an `input_shape`/`input_dim` argument to a layer. When using Sequential models, prefer using an `Input(shape)` object as the first layer in the model instead.\n",
      "  super().__init__(**kwargs)\n"
     ]
    },
    {
     "name": "stdout",
     "output_type": "stream",
     "text": [
      "\u001b[1m4/4\u001b[0m \u001b[32m━━━━━━━━━━━━━━━━━━━━\u001b[0m\u001b[37m\u001b[0m \u001b[1m1s\u001b[0m 176ms/step\n"
     ]
    },
    {
     "name": "stderr",
     "output_type": "stream",
     "text": [
      "[I 2025-06-12 13:10:06,114] Trial 48 finished with value: 23.89043617248535 and parameters: {'lstm_units': 96, 'lstm_layers': 2, 'dropout_rate': 0.30000000000000004, 'learning_rate': 0.0005995996010182291, 'batch_size': 32, 'dense_units': 16, 'window_size': 50}. Best is trial 25 with value: 20.039194107055664.\n",
      "c:\\Users\\jerem\\miniconda3\\Lib\\site-packages\\keras\\src\\layers\\rnn\\rnn.py:199: UserWarning: Do not pass an `input_shape`/`input_dim` argument to a layer. When using Sequential models, prefer using an `Input(shape)` object as the first layer in the model instead.\n",
      "  super().__init__(**kwargs)\n"
     ]
    },
    {
     "name": "stdout",
     "output_type": "stream",
     "text": [
      "\u001b[1m4/4\u001b[0m \u001b[32m━━━━━━━━━━━━━━━━━━━━\u001b[0m\u001b[37m\u001b[0m \u001b[1m1s\u001b[0m 106ms/step\n"
     ]
    },
    {
     "name": "stderr",
     "output_type": "stream",
     "text": [
      "[I 2025-06-12 13:10:34,307] Trial 49 finished with value: 25.729557037353516 and parameters: {'lstm_units': 128, 'lstm_layers': 1, 'dropout_rate': 0.2, 'learning_rate': 0.0002973729760512411, 'batch_size': 32, 'dense_units': 80, 'window_size': 50}. Best is trial 25 with value: 20.039194107055664.\n",
      "c:\\Users\\jerem\\miniconda3\\Lib\\site-packages\\keras\\src\\layers\\rnn\\rnn.py:199: UserWarning: Do not pass an `input_shape`/`input_dim` argument to a layer. When using Sequential models, prefer using an `Input(shape)` object as the first layer in the model instead.\n",
      "  super().__init__(**kwargs)\n"
     ]
    },
    {
     "name": "stdout",
     "output_type": "stream",
     "text": [
      "\u001b[1m4/4\u001b[0m \u001b[32m━━━━━━━━━━━━━━━━━━━━\u001b[0m\u001b[37m\u001b[0m \u001b[1m1s\u001b[0m 160ms/step\n"
     ]
    },
    {
     "name": "stderr",
     "output_type": "stream",
     "text": [
      "[I 2025-06-12 13:11:53,532] Trial 50 finished with value: 31.042428970336914 and parameters: {'lstm_units': 32, 'lstm_layers': 2, 'dropout_rate': 0.2, 'learning_rate': 0.00021692598715972107, 'batch_size': 32, 'dense_units': 16, 'window_size': 60}. Best is trial 25 with value: 20.039194107055664.\n",
      "c:\\Users\\jerem\\miniconda3\\Lib\\site-packages\\keras\\src\\layers\\rnn\\rnn.py:199: UserWarning: Do not pass an `input_shape`/`input_dim` argument to a layer. When using Sequential models, prefer using an `Input(shape)` object as the first layer in the model instead.\n",
      "  super().__init__(**kwargs)\n"
     ]
    },
    {
     "name": "stdout",
     "output_type": "stream",
     "text": [
      "\u001b[1m4/4\u001b[0m \u001b[32m━━━━━━━━━━━━━━━━━━━━\u001b[0m\u001b[37m\u001b[0m \u001b[1m1s\u001b[0m 208ms/step\n"
     ]
    },
    {
     "name": "stderr",
     "output_type": "stream",
     "text": [
      "[I 2025-06-12 13:12:55,567] Trial 51 finished with value: 37.24167251586914 and parameters: {'lstm_units': 32, 'lstm_layers': 2, 'dropout_rate': 0.30000000000000004, 'learning_rate': 0.00015453902981765958, 'batch_size': 32, 'dense_units': 32, 'window_size': 40}. Best is trial 25 with value: 20.039194107055664.\n",
      "c:\\Users\\jerem\\miniconda3\\Lib\\site-packages\\keras\\src\\layers\\rnn\\rnn.py:199: UserWarning: Do not pass an `input_shape`/`input_dim` argument to a layer. When using Sequential models, prefer using an `Input(shape)` object as the first layer in the model instead.\n",
      "  super().__init__(**kwargs)\n"
     ]
    },
    {
     "name": "stdout",
     "output_type": "stream",
     "text": [
      "\u001b[1m4/4\u001b[0m \u001b[32m━━━━━━━━━━━━━━━━━━━━\u001b[0m\u001b[37m\u001b[0m \u001b[1m1s\u001b[0m 160ms/step\n"
     ]
    },
    {
     "name": "stderr",
     "output_type": "stream",
     "text": [
      "[I 2025-06-12 13:13:51,477] Trial 52 finished with value: 45.95256042480469 and parameters: {'lstm_units': 32, 'lstm_layers': 2, 'dropout_rate': 0.1, 'learning_rate': 0.00012223696326155522, 'batch_size': 32, 'dense_units': 16, 'window_size': 40}. Best is trial 25 with value: 20.039194107055664.\n",
      "c:\\Users\\jerem\\miniconda3\\Lib\\site-packages\\keras\\src\\layers\\rnn\\rnn.py:199: UserWarning: Do not pass an `input_shape`/`input_dim` argument to a layer. When using Sequential models, prefer using an `Input(shape)` object as the first layer in the model instead.\n",
      "  super().__init__(**kwargs)\n"
     ]
    },
    {
     "name": "stdout",
     "output_type": "stream",
     "text": [
      "\u001b[1m8/8\u001b[0m \u001b[32m━━━━━━━━━━━━━━━━━━━━\u001b[0m\u001b[37m\u001b[0m \u001b[1m1s\u001b[0m 73ms/step\n"
     ]
    },
    {
     "name": "stderr",
     "output_type": "stream",
     "text": [
      "[I 2025-06-12 13:15:27,083] Trial 53 finished with value: 28.445690155029297 and parameters: {'lstm_units': 32, 'lstm_layers': 2, 'dropout_rate': 0.0, 'learning_rate': 0.00010083898657145707, 'batch_size': 16, 'dense_units': 32, 'window_size': 50}. Best is trial 25 with value: 20.039194107055664.\n",
      "c:\\Users\\jerem\\miniconda3\\Lib\\site-packages\\keras\\src\\layers\\rnn\\rnn.py:199: UserWarning: Do not pass an `input_shape`/`input_dim` argument to a layer. When using Sequential models, prefer using an `Input(shape)` object as the first layer in the model instead.\n",
      "  super().__init__(**kwargs)\n"
     ]
    },
    {
     "name": "stdout",
     "output_type": "stream",
     "text": [
      "\u001b[1m4/4\u001b[0m \u001b[32m━━━━━━━━━━━━━━━━━━━━\u001b[0m\u001b[37m\u001b[0m \u001b[1m1s\u001b[0m 150ms/step\n"
     ]
    },
    {
     "name": "stderr",
     "output_type": "stream",
     "text": [
      "[I 2025-06-12 13:15:54,900] Trial 54 finished with value: 32.889617919921875 and parameters: {'lstm_units': 32, 'lstm_layers': 2, 'dropout_rate': 0.1, 'learning_rate': 0.00017106875817531007, 'batch_size': 32, 'dense_units': 48, 'window_size': 10}. Best is trial 25 with value: 20.039194107055664.\n",
      "c:\\Users\\jerem\\miniconda3\\Lib\\site-packages\\keras\\src\\layers\\rnn\\rnn.py:199: UserWarning: Do not pass an `input_shape`/`input_dim` argument to a layer. When using Sequential models, prefer using an `Input(shape)` object as the first layer in the model instead.\n",
      "  super().__init__(**kwargs)\n"
     ]
    },
    {
     "name": "stdout",
     "output_type": "stream",
     "text": [
      "\u001b[1m8/8\u001b[0m \u001b[32m━━━━━━━━━━━━━━━━━━━━\u001b[0m\u001b[37m\u001b[0m \u001b[1m1s\u001b[0m 67ms/step\n"
     ]
    },
    {
     "name": "stderr",
     "output_type": "stream",
     "text": [
      "[I 2025-06-12 13:16:50,691] Trial 55 finished with value: 21.510292053222656 and parameters: {'lstm_units': 32, 'lstm_layers': 2, 'dropout_rate': 0.0, 'learning_rate': 0.0001288142478525828, 'batch_size': 16, 'dense_units': 64, 'window_size': 20}. Best is trial 25 with value: 20.039194107055664.\n",
      "c:\\Users\\jerem\\miniconda3\\Lib\\site-packages\\keras\\src\\layers\\rnn\\rnn.py:199: UserWarning: Do not pass an `input_shape`/`input_dim` argument to a layer. When using Sequential models, prefer using an `Input(shape)` object as the first layer in the model instead.\n",
      "  super().__init__(**kwargs)\n"
     ]
    },
    {
     "name": "stdout",
     "output_type": "stream",
     "text": [
      "\u001b[1m8/8\u001b[0m \u001b[32m━━━━━━━━━━━━━━━━━━━━\u001b[0m\u001b[37m\u001b[0m \u001b[1m1s\u001b[0m 70ms/step\n"
     ]
    },
    {
     "name": "stderr",
     "output_type": "stream",
     "text": [
      "[I 2025-06-12 13:18:12,358] Trial 56 finished with value: 24.792335510253906 and parameters: {'lstm_units': 32, 'lstm_layers': 2, 'dropout_rate': 0.4, 'learning_rate': 0.00033660091241242404, 'batch_size': 16, 'dense_units': 96, 'window_size': 50}. Best is trial 25 with value: 20.039194107055664.\n",
      "c:\\Users\\jerem\\miniconda3\\Lib\\site-packages\\keras\\src\\layers\\rnn\\rnn.py:199: UserWarning: Do not pass an `input_shape`/`input_dim` argument to a layer. When using Sequential models, prefer using an `Input(shape)` object as the first layer in the model instead.\n",
      "  super().__init__(**kwargs)\n"
     ]
    },
    {
     "name": "stdout",
     "output_type": "stream",
     "text": [
      "\u001b[1m8/8\u001b[0m \u001b[32m━━━━━━━━━━━━━━━━━━━━\u001b[0m\u001b[37m\u001b[0m \u001b[1m1s\u001b[0m 69ms/step\n"
     ]
    },
    {
     "name": "stderr",
     "output_type": "stream",
     "text": [
      "[I 2025-06-12 13:19:42,342] Trial 57 finished with value: 24.855419158935547 and parameters: {'lstm_units': 32, 'lstm_layers': 2, 'dropout_rate': 0.1, 'learning_rate': 0.00024378544990704125, 'batch_size': 16, 'dense_units': 112, 'window_size': 40}. Best is trial 25 with value: 20.039194107055664.\n",
      "c:\\Users\\jerem\\miniconda3\\Lib\\site-packages\\keras\\src\\layers\\rnn\\rnn.py:199: UserWarning: Do not pass an `input_shape`/`input_dim` argument to a layer. When using Sequential models, prefer using an `Input(shape)` object as the first layer in the model instead.\n",
      "  super().__init__(**kwargs)\n"
     ]
    },
    {
     "name": "stdout",
     "output_type": "stream",
     "text": [
      "\u001b[1m4/4\u001b[0m \u001b[32m━━━━━━━━━━━━━━━━━━━━\u001b[0m\u001b[37m\u001b[0m \u001b[1m1s\u001b[0m 219ms/step\n"
     ]
    },
    {
     "name": "stderr",
     "output_type": "stream",
     "text": [
      "[I 2025-06-12 13:20:28,304] Trial 58 finished with value: 30.180925369262695 and parameters: {'lstm_units': 32, 'lstm_layers': 2, 'dropout_rate': 0.2, 'learning_rate': 0.00015864799033460343, 'batch_size': 32, 'dense_units': 16, 'window_size': 30}. Best is trial 25 with value: 20.039194107055664.\n",
      "c:\\Users\\jerem\\miniconda3\\Lib\\site-packages\\keras\\src\\layers\\rnn\\rnn.py:199: UserWarning: Do not pass an `input_shape`/`input_dim` argument to a layer. When using Sequential models, prefer using an `Input(shape)` object as the first layer in the model instead.\n",
      "  super().__init__(**kwargs)\n"
     ]
    },
    {
     "name": "stdout",
     "output_type": "stream",
     "text": [
      "\u001b[1m8/8\u001b[0m \u001b[32m━━━━━━━━━━━━━━━━━━━━\u001b[0m\u001b[37m\u001b[0m \u001b[1m1s\u001b[0m 45ms/step\n"
     ]
    },
    {
     "name": "stderr",
     "output_type": "stream",
     "text": [
      "[I 2025-06-12 13:20:56,505] Trial 59 finished with value: 27.108028411865234 and parameters: {'lstm_units': 64, 'lstm_layers': 1, 'dropout_rate': 0.0, 'learning_rate': 0.001180716159945475, 'batch_size': 16, 'dense_units': 64, 'window_size': 60}. Best is trial 25 with value: 20.039194107055664.\n",
      "c:\\Users\\jerem\\miniconda3\\Lib\\site-packages\\keras\\src\\layers\\rnn\\rnn.py:199: UserWarning: Do not pass an `input_shape`/`input_dim` argument to a layer. When using Sequential models, prefer using an `Input(shape)` object as the first layer in the model instead.\n",
      "  super().__init__(**kwargs)\n"
     ]
    },
    {
     "name": "stdout",
     "output_type": "stream",
     "text": [
      "\u001b[1m8/8\u001b[0m \u001b[32m━━━━━━━━━━━━━━━━━━━━\u001b[0m\u001b[37m\u001b[0m \u001b[1m1s\u001b[0m 67ms/step\n"
     ]
    },
    {
     "name": "stderr",
     "output_type": "stream",
     "text": [
      "[I 2025-06-12 13:22:40,597] Trial 60 finished with value: 24.771442413330078 and parameters: {'lstm_units': 32, 'lstm_layers': 2, 'dropout_rate': 0.1, 'learning_rate': 0.00020633680217103278, 'batch_size': 16, 'dense_units': 48, 'window_size': 50}. Best is trial 25 with value: 20.039194107055664.\n",
      "c:\\Users\\jerem\\miniconda3\\Lib\\site-packages\\keras\\src\\layers\\rnn\\rnn.py:199: UserWarning: Do not pass an `input_shape`/`input_dim` argument to a layer. When using Sequential models, prefer using an `Input(shape)` object as the first layer in the model instead.\n",
      "  super().__init__(**kwargs)\n"
     ]
    },
    {
     "name": "stdout",
     "output_type": "stream",
     "text": [
      "\u001b[1m8/8\u001b[0m \u001b[32m━━━━━━━━━━━━━━━━━━━━\u001b[0m\u001b[37m\u001b[0m \u001b[1m1s\u001b[0m 70ms/step\n"
     ]
    },
    {
     "name": "stderr",
     "output_type": "stream",
     "text": [
      "[I 2025-06-12 13:23:31,304] Trial 61 finished with value: 21.551406860351562 and parameters: {'lstm_units': 32, 'lstm_layers': 2, 'dropout_rate': 0.0, 'learning_rate': 0.00013193485845303904, 'batch_size': 16, 'dense_units': 32, 'window_size': 20}. Best is trial 25 with value: 20.039194107055664.\n",
      "c:\\Users\\jerem\\miniconda3\\Lib\\site-packages\\keras\\src\\layers\\rnn\\rnn.py:199: UserWarning: Do not pass an `input_shape`/`input_dim` argument to a layer. When using Sequential models, prefer using an `Input(shape)` object as the first layer in the model instead.\n",
      "  super().__init__(**kwargs)\n"
     ]
    },
    {
     "name": "stdout",
     "output_type": "stream",
     "text": [
      "\u001b[1m8/8\u001b[0m \u001b[32m━━━━━━━━━━━━━━━━━━━━\u001b[0m\u001b[37m\u001b[0m \u001b[1m1s\u001b[0m 65ms/step\n"
     ]
    },
    {
     "name": "stderr",
     "output_type": "stream",
     "text": [
      "[I 2025-06-12 13:24:22,006] Trial 62 finished with value: 20.03995704650879 and parameters: {'lstm_units': 32, 'lstm_layers': 2, 'dropout_rate': 0.0, 'learning_rate': 0.00014568276646778286, 'batch_size': 16, 'dense_units': 32, 'window_size': 20}. Best is trial 25 with value: 20.039194107055664.\n",
      "c:\\Users\\jerem\\miniconda3\\Lib\\site-packages\\keras\\src\\layers\\rnn\\rnn.py:199: UserWarning: Do not pass an `input_shape`/`input_dim` argument to a layer. When using Sequential models, prefer using an `Input(shape)` object as the first layer in the model instead.\n",
      "  super().__init__(**kwargs)\n"
     ]
    },
    {
     "name": "stdout",
     "output_type": "stream",
     "text": [
      "\u001b[1m8/8\u001b[0m \u001b[32m━━━━━━━━━━━━━━━━━━━━\u001b[0m\u001b[37m\u001b[0m \u001b[1m1s\u001b[0m 72ms/step\n"
     ]
    },
    {
     "name": "stderr",
     "output_type": "stream",
     "text": [
      "[I 2025-06-12 13:25:15,948] Trial 63 finished with value: 23.57362937927246 and parameters: {'lstm_units': 32, 'lstm_layers': 2, 'dropout_rate': 0.0, 'learning_rate': 0.0001121984766413535, 'batch_size': 16, 'dense_units': 32, 'window_size': 20}. Best is trial 25 with value: 20.039194107055664.\n",
      "c:\\Users\\jerem\\miniconda3\\Lib\\site-packages\\keras\\src\\layers\\rnn\\rnn.py:199: UserWarning: Do not pass an `input_shape`/`input_dim` argument to a layer. When using Sequential models, prefer using an `Input(shape)` object as the first layer in the model instead.\n",
      "  super().__init__(**kwargs)\n"
     ]
    },
    {
     "name": "stdout",
     "output_type": "stream",
     "text": [
      "\u001b[1m8/8\u001b[0m \u001b[32m━━━━━━━━━━━━━━━━━━━━\u001b[0m\u001b[37m\u001b[0m \u001b[1m1s\u001b[0m 62ms/step\n"
     ]
    },
    {
     "name": "stderr",
     "output_type": "stream",
     "text": [
      "[I 2025-06-12 13:26:06,106] Trial 64 finished with value: 20.55660629272461 and parameters: {'lstm_units': 32, 'lstm_layers': 2, 'dropout_rate': 0.0, 'learning_rate': 0.00016470660136124068, 'batch_size': 16, 'dense_units': 48, 'window_size': 20}. Best is trial 25 with value: 20.039194107055664.\n",
      "c:\\Users\\jerem\\miniconda3\\Lib\\site-packages\\keras\\src\\layers\\rnn\\rnn.py:199: UserWarning: Do not pass an `input_shape`/`input_dim` argument to a layer. When using Sequential models, prefer using an `Input(shape)` object as the first layer in the model instead.\n",
      "  super().__init__(**kwargs)\n"
     ]
    },
    {
     "name": "stdout",
     "output_type": "stream",
     "text": [
      "\u001b[1m8/8\u001b[0m \u001b[32m━━━━━━━━━━━━━━━━━━━━\u001b[0m\u001b[37m\u001b[0m \u001b[1m1s\u001b[0m 71ms/step\n"
     ]
    },
    {
     "name": "stderr",
     "output_type": "stream",
     "text": [
      "[I 2025-06-12 13:27:12,484] Trial 65 finished with value: 20.349641799926758 and parameters: {'lstm_units': 32, 'lstm_layers': 2, 'dropout_rate': 0.0, 'learning_rate': 0.00017245901428676927, 'batch_size': 16, 'dense_units': 48, 'window_size': 30}. Best is trial 25 with value: 20.039194107055664.\n",
      "c:\\Users\\jerem\\miniconda3\\Lib\\site-packages\\keras\\src\\layers\\rnn\\rnn.py:199: UserWarning: Do not pass an `input_shape`/`input_dim` argument to a layer. When using Sequential models, prefer using an `Input(shape)` object as the first layer in the model instead.\n",
      "  super().__init__(**kwargs)\n"
     ]
    },
    {
     "name": "stdout",
     "output_type": "stream",
     "text": [
      "\u001b[1m8/8\u001b[0m \u001b[32m━━━━━━━━━━━━━━━━━━━━\u001b[0m\u001b[37m\u001b[0m \u001b[1m1s\u001b[0m 68ms/step\n"
     ]
    },
    {
     "name": "stderr",
     "output_type": "stream",
     "text": [
      "[I 2025-06-12 13:28:13,883] Trial 66 finished with value: 24.650049209594727 and parameters: {'lstm_units': 32, 'lstm_layers': 2, 'dropout_rate': 0.1, 'learning_rate': 0.00027810833874180425, 'batch_size': 16, 'dense_units': 64, 'window_size': 30}. Best is trial 25 with value: 20.039194107055664.\n",
      "c:\\Users\\jerem\\miniconda3\\Lib\\site-packages\\keras\\src\\layers\\rnn\\rnn.py:199: UserWarning: Do not pass an `input_shape`/`input_dim` argument to a layer. When using Sequential models, prefer using an `Input(shape)` object as the first layer in the model instead.\n",
      "  super().__init__(**kwargs)\n"
     ]
    },
    {
     "name": "stdout",
     "output_type": "stream",
     "text": [
      "\u001b[1m8/8\u001b[0m \u001b[32m━━━━━━━━━━━━━━━━━━━━\u001b[0m\u001b[37m\u001b[0m \u001b[1m1s\u001b[0m 86ms/step\n"
     ]
    },
    {
     "name": "stderr",
     "output_type": "stream",
     "text": [
      "[I 2025-06-12 13:29:17,878] Trial 67 finished with value: 24.792125701904297 and parameters: {'lstm_units': 32, 'lstm_layers': 2, 'dropout_rate': 0.0, 'learning_rate': 0.0004093739960247189, 'batch_size': 16, 'dense_units': 80, 'window_size': 40}. Best is trial 25 with value: 20.039194107055664.\n",
      "c:\\Users\\jerem\\miniconda3\\Lib\\site-packages\\keras\\src\\layers\\rnn\\rnn.py:199: UserWarning: Do not pass an `input_shape`/`input_dim` argument to a layer. When using Sequential models, prefer using an `Input(shape)` object as the first layer in the model instead.\n",
      "  super().__init__(**kwargs)\n"
     ]
    },
    {
     "name": "stdout",
     "output_type": "stream",
     "text": [
      "\u001b[1m8/8\u001b[0m \u001b[32m━━━━━━━━━━━━━━━━━━━━\u001b[0m\u001b[37m\u001b[0m \u001b[1m1s\u001b[0m 68ms/step\n"
     ]
    },
    {
     "name": "stderr",
     "output_type": "stream",
     "text": [
      "[I 2025-06-12 13:30:43,618] Trial 68 finished with value: 22.704849243164062 and parameters: {'lstm_units': 32, 'lstm_layers': 2, 'dropout_rate': 0.5, 'learning_rate': 0.00022662805962800895, 'batch_size': 16, 'dense_units': 48, 'window_size': 40}. Best is trial 25 with value: 20.039194107055664.\n",
      "c:\\Users\\jerem\\miniconda3\\Lib\\site-packages\\keras\\src\\layers\\rnn\\rnn.py:199: UserWarning: Do not pass an `input_shape`/`input_dim` argument to a layer. When using Sequential models, prefer using an `Input(shape)` object as the first layer in the model instead.\n",
      "  super().__init__(**kwargs)\n"
     ]
    },
    {
     "name": "stdout",
     "output_type": "stream",
     "text": [
      "\u001b[1m8/8\u001b[0m \u001b[32m━━━━━━━━━━━━━━━━━━━━\u001b[0m\u001b[37m\u001b[0m \u001b[1m1s\u001b[0m 68ms/step\n"
     ]
    },
    {
     "name": "stderr",
     "output_type": "stream",
     "text": [
      "[I 2025-06-12 13:31:39,653] Trial 69 finished with value: 25.45829963684082 and parameters: {'lstm_units': 64, 'lstm_layers': 2, 'dropout_rate': 0.2, 'learning_rate': 0.00018061684609468803, 'batch_size': 16, 'dense_units': 16, 'window_size': 30}. Best is trial 25 with value: 20.039194107055664.\n",
      "[I 2025-06-12 13:31:39,678] A new study created in memory with name: lstm_regression_study\n"
     ]
    },
    {
     "name": "stdout",
     "output_type": "stream",
     "text": [
      "Running LSTM study for bin 5, stock 6...\n"
     ]
    },
    {
     "name": "stderr",
     "output_type": "stream",
     "text": [
      "c:\\Users\\jerem\\miniconda3\\Lib\\site-packages\\keras\\src\\layers\\rnn\\rnn.py:199: UserWarning: Do not pass an `input_shape`/`input_dim` argument to a layer. When using Sequential models, prefer using an `Input(shape)` object as the first layer in the model instead.\n",
      "  super().__init__(**kwargs)\n"
     ]
    },
    {
     "name": "stdout",
     "output_type": "stream",
     "text": [
      "\u001b[1m4/4\u001b[0m \u001b[32m━━━━━━━━━━━━━━━━━━━━\u001b[0m\u001b[37m\u001b[0m \u001b[1m1s\u001b[0m 101ms/step\n"
     ]
    },
    {
     "name": "stderr",
     "output_type": "stream",
     "text": [
      "[I 2025-06-12 13:31:49,810] Trial 0 finished with value: 26.542314529418945 and parameters: {'lstm_units': 128, 'lstm_layers': 1, 'dropout_rate': 0.2, 'learning_rate': 0.009933914512592115, 'batch_size': 32, 'dense_units': 16, 'window_size': 40}. Best is trial 0 with value: 26.542314529418945.\n",
      "c:\\Users\\jerem\\miniconda3\\Lib\\site-packages\\keras\\src\\layers\\rnn\\rnn.py:199: UserWarning: Do not pass an `input_shape`/`input_dim` argument to a layer. When using Sequential models, prefer using an `Input(shape)` object as the first layer in the model instead.\n",
      "  super().__init__(**kwargs)\n"
     ]
    },
    {
     "name": "stdout",
     "output_type": "stream",
     "text": [
      "\u001b[1m4/4\u001b[0m \u001b[32m━━━━━━━━━━━━━━━━━━━━\u001b[0m\u001b[37m\u001b[0m \u001b[1m2s\u001b[0m 258ms/step\n"
     ]
    },
    {
     "name": "stderr",
     "output_type": "stream",
     "text": [
      "[I 2025-06-12 13:33:18,808] Trial 1 finished with value: 27.353912353515625 and parameters: {'lstm_units': 128, 'lstm_layers': 2, 'dropout_rate': 0.1, 'learning_rate': 0.0008718067983472278, 'batch_size': 32, 'dense_units': 112, 'window_size': 60}. Best is trial 0 with value: 26.542314529418945.\n",
      "c:\\Users\\jerem\\miniconda3\\Lib\\site-packages\\keras\\src\\layers\\rnn\\rnn.py:199: UserWarning: Do not pass an `input_shape`/`input_dim` argument to a layer. When using Sequential models, prefer using an `Input(shape)` object as the first layer in the model instead.\n",
      "  super().__init__(**kwargs)\n"
     ]
    },
    {
     "name": "stdout",
     "output_type": "stream",
     "text": [
      "\u001b[1m4/4\u001b[0m \u001b[32m━━━━━━━━━━━━━━━━━━━━\u001b[0m\u001b[37m\u001b[0m \u001b[1m1s\u001b[0m 167ms/step\n"
     ]
    },
    {
     "name": "stderr",
     "output_type": "stream",
     "text": [
      "[I 2025-06-12 13:33:51,649] Trial 2 finished with value: 26.646041870117188 and parameters: {'lstm_units': 96, 'lstm_layers': 2, 'dropout_rate': 0.30000000000000004, 'learning_rate': 0.0022313192080451708, 'batch_size': 32, 'dense_units': 32, 'window_size': 60}. Best is trial 0 with value: 26.542314529418945.\n",
      "c:\\Users\\jerem\\miniconda3\\Lib\\site-packages\\keras\\src\\layers\\rnn\\rnn.py:199: UserWarning: Do not pass an `input_shape`/`input_dim` argument to a layer. When using Sequential models, prefer using an `Input(shape)` object as the first layer in the model instead.\n",
      "  super().__init__(**kwargs)\n"
     ]
    },
    {
     "name": "stdout",
     "output_type": "stream",
     "text": [
      "\u001b[1m8/8\u001b[0m \u001b[32m━━━━━━━━━━━━━━━━━━━━\u001b[0m\u001b[37m\u001b[0m \u001b[1m1s\u001b[0m 80ms/step\n"
     ]
    },
    {
     "name": "stderr",
     "output_type": "stream",
     "text": [
      "[I 2025-06-12 13:34:32,383] Trial 3 finished with value: 30.165660858154297 and parameters: {'lstm_units': 128, 'lstm_layers': 2, 'dropout_rate': 0.30000000000000004, 'learning_rate': 0.009231752411055462, 'batch_size': 16, 'dense_units': 128, 'window_size': 30}. Best is trial 0 with value: 26.542314529418945.\n",
      "c:\\Users\\jerem\\miniconda3\\Lib\\site-packages\\keras\\src\\layers\\rnn\\rnn.py:199: UserWarning: Do not pass an `input_shape`/`input_dim` argument to a layer. When using Sequential models, prefer using an `Input(shape)` object as the first layer in the model instead.\n",
      "  super().__init__(**kwargs)\n"
     ]
    },
    {
     "name": "stdout",
     "output_type": "stream",
     "text": [
      "\u001b[1m8/8\u001b[0m \u001b[32m━━━━━━━━━━━━━━━━━━━━\u001b[0m\u001b[37m\u001b[0m \u001b[1m1s\u001b[0m 44ms/step\n"
     ]
    },
    {
     "name": "stderr",
     "output_type": "stream",
     "text": [
      "[I 2025-06-12 13:34:48,682] Trial 4 finished with value: 27.198707580566406 and parameters: {'lstm_units': 96, 'lstm_layers': 1, 'dropout_rate': 0.4, 'learning_rate': 0.006188719408334993, 'batch_size': 16, 'dense_units': 80, 'window_size': 30}. Best is trial 0 with value: 26.542314529418945.\n",
      "c:\\Users\\jerem\\miniconda3\\Lib\\site-packages\\keras\\src\\layers\\rnn\\rnn.py:199: UserWarning: Do not pass an `input_shape`/`input_dim` argument to a layer. When using Sequential models, prefer using an `Input(shape)` object as the first layer in the model instead.\n",
      "  super().__init__(**kwargs)\n"
     ]
    },
    {
     "name": "stdout",
     "output_type": "stream",
     "text": [
      "\u001b[1m8/8\u001b[0m \u001b[32m━━━━━━━━━━━━━━━━━━━━\u001b[0m\u001b[37m\u001b[0m \u001b[1m1s\u001b[0m 86ms/step\n"
     ]
    },
    {
     "name": "stderr",
     "output_type": "stream",
     "text": [
      "[I 2025-06-12 13:35:41,257] Trial 5 finished with value: 26.80726432800293 and parameters: {'lstm_units': 128, 'lstm_layers': 2, 'dropout_rate': 0.4, 'learning_rate': 0.0009413473025893112, 'batch_size': 16, 'dense_units': 112, 'window_size': 50}. Best is trial 0 with value: 26.542314529418945.\n",
      "c:\\Users\\jerem\\miniconda3\\Lib\\site-packages\\keras\\src\\layers\\rnn\\rnn.py:199: UserWarning: Do not pass an `input_shape`/`input_dim` argument to a layer. When using Sequential models, prefer using an `Input(shape)` object as the first layer in the model instead.\n",
      "  super().__init__(**kwargs)\n"
     ]
    },
    {
     "name": "stdout",
     "output_type": "stream",
     "text": [
      "\u001b[1m8/8\u001b[0m \u001b[32m━━━━━━━━━━━━━━━━━━━━\u001b[0m\u001b[37m\u001b[0m \u001b[1m1s\u001b[0m 40ms/step\n"
     ]
    },
    {
     "name": "stderr",
     "output_type": "stream",
     "text": [
      "[I 2025-06-12 13:36:19,904] Trial 6 finished with value: 29.492929458618164 and parameters: {'lstm_units': 32, 'lstm_layers': 1, 'dropout_rate': 0.4, 'learning_rate': 0.0018051527634318386, 'batch_size': 16, 'dense_units': 80, 'window_size': 60}. Best is trial 0 with value: 26.542314529418945.\n",
      "c:\\Users\\jerem\\miniconda3\\Lib\\site-packages\\keras\\src\\layers\\rnn\\rnn.py:199: UserWarning: Do not pass an `input_shape`/`input_dim` argument to a layer. When using Sequential models, prefer using an `Input(shape)` object as the first layer in the model instead.\n",
      "  super().__init__(**kwargs)\n"
     ]
    },
    {
     "name": "stdout",
     "output_type": "stream",
     "text": [
      "\u001b[1m4/4\u001b[0m \u001b[32m━━━━━━━━━━━━━━━━━━━━\u001b[0m\u001b[37m\u001b[0m \u001b[1m1s\u001b[0m 165ms/step\n"
     ]
    },
    {
     "name": "stderr",
     "output_type": "stream",
     "text": [
      "[I 2025-06-12 13:37:49,188] Trial 7 finished with value: 47.205589294433594 and parameters: {'lstm_units': 64, 'lstm_layers': 2, 'dropout_rate': 0.1, 'learning_rate': 0.00010832650769135341, 'batch_size': 32, 'dense_units': 80, 'window_size': 50}. Best is trial 0 with value: 26.542314529418945.\n",
      "c:\\Users\\jerem\\miniconda3\\Lib\\site-packages\\keras\\src\\layers\\rnn\\rnn.py:199: UserWarning: Do not pass an `input_shape`/`input_dim` argument to a layer. When using Sequential models, prefer using an `Input(shape)` object as the first layer in the model instead.\n",
      "  super().__init__(**kwargs)\n"
     ]
    },
    {
     "name": "stdout",
     "output_type": "stream",
     "text": [
      "\u001b[1m8/8\u001b[0m \u001b[32m━━━━━━━━━━━━━━━━━━━━\u001b[0m\u001b[37m\u001b[0m \u001b[1m1s\u001b[0m 44ms/step\n"
     ]
    },
    {
     "name": "stderr",
     "output_type": "stream",
     "text": [
      "[I 2025-06-12 13:38:04,106] Trial 8 finished with value: 27.388525009155273 and parameters: {'lstm_units': 128, 'lstm_layers': 1, 'dropout_rate': 0.5, 'learning_rate': 0.00829622969315365, 'batch_size': 16, 'dense_units': 128, 'window_size': 30}. Best is trial 0 with value: 26.542314529418945.\n",
      "c:\\Users\\jerem\\miniconda3\\Lib\\site-packages\\keras\\src\\layers\\rnn\\rnn.py:199: UserWarning: Do not pass an `input_shape`/`input_dim` argument to a layer. When using Sequential models, prefer using an `Input(shape)` object as the first layer in the model instead.\n",
      "  super().__init__(**kwargs)\n"
     ]
    },
    {
     "name": "stdout",
     "output_type": "stream",
     "text": [
      "\u001b[1m4/4\u001b[0m \u001b[32m━━━━━━━━━━━━━━━━━━━━\u001b[0m\u001b[37m\u001b[0m \u001b[1m1s\u001b[0m 201ms/step\n"
     ]
    },
    {
     "name": "stderr",
     "output_type": "stream",
     "text": [
      "[I 2025-06-12 13:38:16,264] Trial 9 finished with value: 36.23231887817383 and parameters: {'lstm_units': 128, 'lstm_layers': 2, 'dropout_rate': 0.2, 'learning_rate': 0.007288757181533306, 'batch_size': 32, 'dense_units': 80, 'window_size': 10}. Best is trial 0 with value: 26.542314529418945.\n",
      "c:\\Users\\jerem\\miniconda3\\Lib\\site-packages\\keras\\src\\layers\\rnn\\rnn.py:199: UserWarning: Do not pass an `input_shape`/`input_dim` argument to a layer. When using Sequential models, prefer using an `Input(shape)` object as the first layer in the model instead.\n",
      "  super().__init__(**kwargs)\n"
     ]
    },
    {
     "name": "stdout",
     "output_type": "stream",
     "text": [
      "\u001b[1m4/4\u001b[0m \u001b[32m━━━━━━━━━━━━━━━━━━━━\u001b[0m\u001b[37m\u001b[0m \u001b[1m0s\u001b[0m 92ms/step\n"
     ]
    },
    {
     "name": "stderr",
     "output_type": "stream",
     "text": [
      "[I 2025-06-12 13:38:35,651] Trial 10 finished with value: 27.42477035522461 and parameters: {'lstm_units': 64, 'lstm_layers': 1, 'dropout_rate': 0.0, 'learning_rate': 0.0002640359914506216, 'batch_size': 32, 'dense_units': 16, 'window_size': 10}. Best is trial 0 with value: 26.542314529418945.\n",
      "c:\\Users\\jerem\\miniconda3\\Lib\\site-packages\\keras\\src\\layers\\rnn\\rnn.py:199: UserWarning: Do not pass an `input_shape`/`input_dim` argument to a layer. When using Sequential models, prefer using an `Input(shape)` object as the first layer in the model instead.\n",
      "  super().__init__(**kwargs)\n"
     ]
    },
    {
     "name": "stdout",
     "output_type": "stream",
     "text": [
      "\u001b[1m4/4\u001b[0m \u001b[32m━━━━━━━━━━━━━━━━━━━━\u001b[0m\u001b[37m\u001b[0m \u001b[1m1s\u001b[0m 89ms/step\n"
     ]
    },
    {
     "name": "stderr",
     "output_type": "stream",
     "text": [
      "[I 2025-06-12 13:38:47,640] Trial 11 finished with value: 27.13092041015625 and parameters: {'lstm_units': 96, 'lstm_layers': 1, 'dropout_rate': 0.2, 'learning_rate': 0.0026194234066645797, 'batch_size': 32, 'dense_units': 16, 'window_size': 40}. Best is trial 0 with value: 26.542314529418945.\n",
      "c:\\Users\\jerem\\miniconda3\\Lib\\site-packages\\keras\\src\\layers\\rnn\\rnn.py:199: UserWarning: Do not pass an `input_shape`/`input_dim` argument to a layer. When using Sequential models, prefer using an `Input(shape)` object as the first layer in the model instead.\n",
      "  super().__init__(**kwargs)\n"
     ]
    },
    {
     "name": "stdout",
     "output_type": "stream",
     "text": [
      "\u001b[1m4/4\u001b[0m \u001b[32m━━━━━━━━━━━━━━━━━━━━\u001b[0m\u001b[37m\u001b[0m \u001b[1m1s\u001b[0m 191ms/step\n"
     ]
    },
    {
     "name": "stderr",
     "output_type": "stream",
     "text": [
      "[I 2025-06-12 13:39:35,489] Trial 12 finished with value: 27.880441665649414 and parameters: {'lstm_units': 96, 'lstm_layers': 2, 'dropout_rate': 0.30000000000000004, 'learning_rate': 0.002845555493638991, 'batch_size': 32, 'dense_units': 48, 'window_size': 50}. Best is trial 0 with value: 26.542314529418945.\n",
      "c:\\Users\\jerem\\miniconda3\\Lib\\site-packages\\keras\\src\\layers\\rnn\\rnn.py:199: UserWarning: Do not pass an `input_shape`/`input_dim` argument to a layer. When using Sequential models, prefer using an `Input(shape)` object as the first layer in the model instead.\n",
      "  super().__init__(**kwargs)\n"
     ]
    },
    {
     "name": "stdout",
     "output_type": "stream",
     "text": [
      "\u001b[1m4/4\u001b[0m \u001b[32m━━━━━━━━━━━━━━━━━━━━\u001b[0m\u001b[37m\u001b[0m \u001b[1m1s\u001b[0m 91ms/step\n"
     ]
    },
    {
     "name": "stderr",
     "output_type": "stream",
     "text": [
      "[I 2025-06-12 13:40:21,718] Trial 13 finished with value: 26.71046257019043 and parameters: {'lstm_units': 96, 'lstm_layers': 1, 'dropout_rate': 0.2, 'learning_rate': 0.0004592212540685176, 'batch_size': 32, 'dense_units': 48, 'window_size': 40}. Best is trial 0 with value: 26.542314529418945.\n",
      "c:\\Users\\jerem\\miniconda3\\Lib\\site-packages\\keras\\src\\layers\\rnn\\rnn.py:199: UserWarning: Do not pass an `input_shape`/`input_dim` argument to a layer. When using Sequential models, prefer using an `Input(shape)` object as the first layer in the model instead.\n",
      "  super().__init__(**kwargs)\n"
     ]
    },
    {
     "name": "stdout",
     "output_type": "stream",
     "text": [
      "\u001b[1m4/4\u001b[0m \u001b[32m━━━━━━━━━━━━━━━━━━━━\u001b[0m\u001b[37m\u001b[0m \u001b[1m1s\u001b[0m 144ms/step\n"
     ]
    },
    {
     "name": "stderr",
     "output_type": "stream",
     "text": [
      "[I 2025-06-12 13:40:40,930] Trial 14 finished with value: 26.84174156188965 and parameters: {'lstm_units': 64, 'lstm_layers': 2, 'dropout_rate': 0.1, 'learning_rate': 0.0038303155671105356, 'batch_size': 32, 'dense_units': 32, 'window_size': 20}. Best is trial 0 with value: 26.542314529418945.\n",
      "c:\\Users\\jerem\\miniconda3\\Lib\\site-packages\\keras\\src\\layers\\rnn\\rnn.py:199: UserWarning: Do not pass an `input_shape`/`input_dim` argument to a layer. When using Sequential models, prefer using an `Input(shape)` object as the first layer in the model instead.\n",
      "  super().__init__(**kwargs)\n"
     ]
    },
    {
     "name": "stdout",
     "output_type": "stream",
     "text": [
      "\u001b[1m4/4\u001b[0m \u001b[32m━━━━━━━━━━━━━━━━━━━━\u001b[0m\u001b[37m\u001b[0m \u001b[1m1s\u001b[0m 104ms/step\n"
     ]
    },
    {
     "name": "stderr",
     "output_type": "stream",
     "text": [
      "[I 2025-06-12 13:41:06,657] Trial 15 finished with value: 27.313953399658203 and parameters: {'lstm_units': 96, 'lstm_layers': 1, 'dropout_rate': 0.30000000000000004, 'learning_rate': 0.001433864308487754, 'batch_size': 32, 'dense_units': 48, 'window_size': 60}. Best is trial 0 with value: 26.542314529418945.\n",
      "c:\\Users\\jerem\\miniconda3\\Lib\\site-packages\\keras\\src\\layers\\rnn\\rnn.py:199: UserWarning: Do not pass an `input_shape`/`input_dim` argument to a layer. When using Sequential models, prefer using an `Input(shape)` object as the first layer in the model instead.\n",
      "  super().__init__(**kwargs)\n"
     ]
    },
    {
     "name": "stdout",
     "output_type": "stream",
     "text": [
      "\u001b[1m4/4\u001b[0m \u001b[32m━━━━━━━━━━━━━━━━━━━━\u001b[0m\u001b[37m\u001b[0m \u001b[1m1s\u001b[0m 183ms/step\n"
     ]
    },
    {
     "name": "stderr",
     "output_type": "stream",
     "text": [
      "[I 2025-06-12 13:41:41,763] Trial 16 finished with value: 27.290138244628906 and parameters: {'lstm_units': 32, 'lstm_layers': 2, 'dropout_rate': 0.5, 'learning_rate': 0.003855404108806126, 'batch_size': 32, 'dense_units': 32, 'window_size': 50}. Best is trial 0 with value: 26.542314529418945.\n",
      "c:\\Users\\jerem\\miniconda3\\Lib\\site-packages\\keras\\src\\layers\\rnn\\rnn.py:199: UserWarning: Do not pass an `input_shape`/`input_dim` argument to a layer. When using Sequential models, prefer using an `Input(shape)` object as the first layer in the model instead.\n",
      "  super().__init__(**kwargs)\n"
     ]
    },
    {
     "name": "stdout",
     "output_type": "stream",
     "text": [
      "\u001b[1m4/4\u001b[0m \u001b[32m━━━━━━━━━━━━━━━━━━━━\u001b[0m\u001b[37m\u001b[0m \u001b[1m1s\u001b[0m 107ms/step\n"
     ]
    },
    {
     "name": "stderr",
     "output_type": "stream",
     "text": [
      "[I 2025-06-12 13:42:30,615] Trial 17 finished with value: 27.238088607788086 and parameters: {'lstm_units': 128, 'lstm_layers': 1, 'dropout_rate': 0.0, 'learning_rate': 0.0004051696641004713, 'batch_size': 32, 'dense_units': 32, 'window_size': 40}. Best is trial 0 with value: 26.542314529418945.\n",
      "c:\\Users\\jerem\\miniconda3\\Lib\\site-packages\\keras\\src\\layers\\rnn\\rnn.py:199: UserWarning: Do not pass an `input_shape`/`input_dim` argument to a layer. When using Sequential models, prefer using an `Input(shape)` object as the first layer in the model instead.\n",
      "  super().__init__(**kwargs)\n"
     ]
    },
    {
     "name": "stdout",
     "output_type": "stream",
     "text": [
      "\u001b[1m4/4\u001b[0m \u001b[32m━━━━━━━━━━━━━━━━━━━━\u001b[0m\u001b[37m\u001b[0m \u001b[1m1s\u001b[0m 155ms/step\n"
     ]
    },
    {
     "name": "stderr",
     "output_type": "stream",
     "text": [
      "[I 2025-06-12 13:42:47,177] Trial 18 finished with value: 26.764780044555664 and parameters: {'lstm_units': 96, 'lstm_layers': 2, 'dropout_rate': 0.2, 'learning_rate': 0.004859269601982298, 'batch_size': 32, 'dense_units': 16, 'window_size': 20}. Best is trial 0 with value: 26.542314529418945.\n",
      "c:\\Users\\jerem\\miniconda3\\Lib\\site-packages\\keras\\src\\layers\\rnn\\rnn.py:199: UserWarning: Do not pass an `input_shape`/`input_dim` argument to a layer. When using Sequential models, prefer using an `Input(shape)` object as the first layer in the model instead.\n",
      "  super().__init__(**kwargs)\n"
     ]
    },
    {
     "name": "stdout",
     "output_type": "stream",
     "text": [
      "\u001b[1m4/4\u001b[0m \u001b[32m━━━━━━━━━━━━━━━━━━━━\u001b[0m\u001b[37m\u001b[0m \u001b[1m1s\u001b[0m 113ms/step\n"
     ]
    },
    {
     "name": "stderr",
     "output_type": "stream",
     "text": [
      "[I 2025-06-12 13:43:43,700] Trial 19 finished with value: 33.39933395385742 and parameters: {'lstm_units': 64, 'lstm_layers': 1, 'dropout_rate': 0.30000000000000004, 'learning_rate': 0.0016717856576399673, 'batch_size': 32, 'dense_units': 64, 'window_size': 60}. Best is trial 0 with value: 26.542314529418945.\n",
      "c:\\Users\\jerem\\miniconda3\\Lib\\site-packages\\keras\\src\\layers\\rnn\\rnn.py:199: UserWarning: Do not pass an `input_shape`/`input_dim` argument to a layer. When using Sequential models, prefer using an `Input(shape)` object as the first layer in the model instead.\n",
      "  super().__init__(**kwargs)\n"
     ]
    },
    {
     "name": "stdout",
     "output_type": "stream",
     "text": [
      "\u001b[1m4/4\u001b[0m \u001b[32m━━━━━━━━━━━━━━━━━━━━\u001b[0m\u001b[37m\u001b[0m \u001b[1m1s\u001b[0m 102ms/step\n"
     ]
    },
    {
     "name": "stderr",
     "output_type": "stream",
     "text": [
      "[I 2025-06-12 13:44:04,004] Trial 20 finished with value: 27.033838272094727 and parameters: {'lstm_units': 128, 'lstm_layers': 1, 'dropout_rate': 0.1, 'learning_rate': 0.0007301301047046348, 'batch_size': 32, 'dense_units': 64, 'window_size': 20}. Best is trial 0 with value: 26.542314529418945.\n",
      "c:\\Users\\jerem\\miniconda3\\Lib\\site-packages\\keras\\src\\layers\\rnn\\rnn.py:199: UserWarning: Do not pass an `input_shape`/`input_dim` argument to a layer. When using Sequential models, prefer using an `Input(shape)` object as the first layer in the model instead.\n",
      "  super().__init__(**kwargs)\n"
     ]
    },
    {
     "name": "stdout",
     "output_type": "stream",
     "text": [
      "\u001b[1m4/4\u001b[0m \u001b[32m━━━━━━━━━━━━━━━━━━━━\u001b[0m\u001b[37m\u001b[0m \u001b[1m1s\u001b[0m 140ms/step\n"
     ]
    },
    {
     "name": "stderr",
     "output_type": "stream",
     "text": [
      "[I 2025-06-12 13:45:11,070] Trial 21 finished with value: 26.897768020629883 and parameters: {'lstm_units': 96, 'lstm_layers': 1, 'dropout_rate': 0.2, 'learning_rate': 0.0004089790122161155, 'batch_size': 32, 'dense_units': 48, 'window_size': 40}. Best is trial 0 with value: 26.542314529418945.\n",
      "c:\\Users\\jerem\\miniconda3\\Lib\\site-packages\\keras\\src\\layers\\rnn\\rnn.py:199: UserWarning: Do not pass an `input_shape`/`input_dim` argument to a layer. When using Sequential models, prefer using an `Input(shape)` object as the first layer in the model instead.\n",
      "  super().__init__(**kwargs)\n"
     ]
    },
    {
     "name": "stdout",
     "output_type": "stream",
     "text": [
      "\u001b[1m4/4\u001b[0m \u001b[32m━━━━━━━━━━━━━━━━━━━━\u001b[0m\u001b[37m\u001b[0m \u001b[1m1s\u001b[0m 101ms/step\n"
     ]
    },
    {
     "name": "stderr",
     "output_type": "stream",
     "text": [
      "[I 2025-06-12 13:46:10,656] Trial 22 finished with value: 28.22294807434082 and parameters: {'lstm_units': 96, 'lstm_layers': 1, 'dropout_rate': 0.2, 'learning_rate': 0.00016141135939781156, 'batch_size': 32, 'dense_units': 32, 'window_size': 40}. Best is trial 0 with value: 26.542314529418945.\n",
      "c:\\Users\\jerem\\miniconda3\\Lib\\site-packages\\keras\\src\\layers\\rnn\\rnn.py:199: UserWarning: Do not pass an `input_shape`/`input_dim` argument to a layer. When using Sequential models, prefer using an `Input(shape)` object as the first layer in the model instead.\n",
      "  super().__init__(**kwargs)\n"
     ]
    },
    {
     "name": "stdout",
     "output_type": "stream",
     "text": [
      "\u001b[1m4/4\u001b[0m \u001b[32m━━━━━━━━━━━━━━━━━━━━\u001b[0m\u001b[37m\u001b[0m \u001b[1m1s\u001b[0m 101ms/step\n"
     ]
    },
    {
     "name": "stderr",
     "output_type": "stream",
     "text": [
      "[I 2025-06-12 13:47:08,705] Trial 23 finished with value: 26.73462677001953 and parameters: {'lstm_units': 96, 'lstm_layers': 1, 'dropout_rate': 0.30000000000000004, 'learning_rate': 0.00039363548891330674, 'batch_size': 32, 'dense_units': 48, 'window_size': 50}. Best is trial 0 with value: 26.542314529418945.\n",
      "c:\\Users\\jerem\\miniconda3\\Lib\\site-packages\\keras\\src\\layers\\rnn\\rnn.py:199: UserWarning: Do not pass an `input_shape`/`input_dim` argument to a layer. When using Sequential models, prefer using an `Input(shape)` object as the first layer in the model instead.\n",
      "  super().__init__(**kwargs)\n"
     ]
    },
    {
     "name": "stdout",
     "output_type": "stream",
     "text": [
      "\u001b[1m4/4\u001b[0m \u001b[32m━━━━━━━━━━━━━━━━━━━━\u001b[0m\u001b[37m\u001b[0m \u001b[1m1s\u001b[0m 91ms/step\n"
     ]
    },
    {
     "name": "stderr",
     "output_type": "stream",
     "text": [
      "[I 2025-06-12 13:47:54,280] Trial 24 finished with value: 26.631256103515625 and parameters: {'lstm_units': 64, 'lstm_layers': 1, 'dropout_rate': 0.4, 'learning_rate': 0.0005518860652260106, 'batch_size': 32, 'dense_units': 16, 'window_size': 40}. Best is trial 0 with value: 26.542314529418945.\n",
      "c:\\Users\\jerem\\miniconda3\\Lib\\site-packages\\keras\\src\\layers\\rnn\\rnn.py:199: UserWarning: Do not pass an `input_shape`/`input_dim` argument to a layer. When using Sequential models, prefer using an `Input(shape)` object as the first layer in the model instead.\n",
      "  super().__init__(**kwargs)\n"
     ]
    },
    {
     "name": "stdout",
     "output_type": "stream",
     "text": [
      "\u001b[1m4/4\u001b[0m \u001b[32m━━━━━━━━━━━━━━━━━━━━\u001b[0m\u001b[37m\u001b[0m \u001b[1m1s\u001b[0m 99ms/step\n"
     ]
    },
    {
     "name": "stderr",
     "output_type": "stream",
     "text": [
      "[I 2025-06-12 13:48:23,060] Trial 25 finished with value: 34.066932678222656 and parameters: {'lstm_units': 64, 'lstm_layers': 1, 'dropout_rate': 0.4, 'learning_rate': 0.0013085016442115878, 'batch_size': 32, 'dense_units': 16, 'window_size': 30}. Best is trial 0 with value: 26.542314529418945.\n",
      "c:\\Users\\jerem\\miniconda3\\Lib\\site-packages\\keras\\src\\layers\\rnn\\rnn.py:199: UserWarning: Do not pass an `input_shape`/`input_dim` argument to a layer. When using Sequential models, prefer using an `Input(shape)` object as the first layer in the model instead.\n",
      "  super().__init__(**kwargs)\n"
     ]
    },
    {
     "name": "stdout",
     "output_type": "stream",
     "text": [
      "\u001b[1m8/8\u001b[0m \u001b[32m━━━━━━━━━━━━━━━━━━━━\u001b[0m\u001b[37m\u001b[0m \u001b[1m1s\u001b[0m 73ms/step\n"
     ]
    },
    {
     "name": "stderr",
     "output_type": "stream",
     "text": [
      "[I 2025-06-12 13:49:07,807] Trial 26 finished with value: 26.982837677001953 and parameters: {'lstm_units': 32, 'lstm_layers': 2, 'dropout_rate': 0.5, 'learning_rate': 0.0024281288682219096, 'batch_size': 16, 'dense_units': 16, 'window_size': 50}. Best is trial 0 with value: 26.542314529418945.\n",
      "c:\\Users\\jerem\\miniconda3\\Lib\\site-packages\\keras\\src\\layers\\rnn\\rnn.py:199: UserWarning: Do not pass an `input_shape`/`input_dim` argument to a layer. When using Sequential models, prefer using an `Input(shape)` object as the first layer in the model instead.\n",
      "  super().__init__(**kwargs)\n"
     ]
    },
    {
     "name": "stdout",
     "output_type": "stream",
     "text": [
      "\u001b[1m4/4\u001b[0m \u001b[32m━━━━━━━━━━━━━━━━━━━━\u001b[0m\u001b[37m\u001b[0m \u001b[1m1s\u001b[0m 96ms/step\n"
     ]
    },
    {
     "name": "stderr",
     "output_type": "stream",
     "text": [
      "[I 2025-06-12 13:49:50,503] Trial 27 finished with value: 26.70974349975586 and parameters: {'lstm_units': 64, 'lstm_layers': 1, 'dropout_rate': 0.4, 'learning_rate': 0.000586293217494531, 'batch_size': 32, 'dense_units': 32, 'window_size': 40}. Best is trial 0 with value: 26.542314529418945.\n",
      "c:\\Users\\jerem\\miniconda3\\Lib\\site-packages\\keras\\src\\layers\\rnn\\rnn.py:199: UserWarning: Do not pass an `input_shape`/`input_dim` argument to a layer. When using Sequential models, prefer using an `Input(shape)` object as the first layer in the model instead.\n",
      "  super().__init__(**kwargs)\n"
     ]
    },
    {
     "name": "stdout",
     "output_type": "stream",
     "text": [
      "\u001b[1m4/4\u001b[0m \u001b[32m━━━━━━━━━━━━━━━━━━━━\u001b[0m\u001b[37m\u001b[0m \u001b[1m1s\u001b[0m 169ms/step\n"
     ]
    },
    {
     "name": "stderr",
     "output_type": "stream",
     "text": [
      "[I 2025-06-12 13:50:55,775] Trial 28 finished with value: 26.953113555908203 and parameters: {'lstm_units': 64, 'lstm_layers': 2, 'dropout_rate': 0.30000000000000004, 'learning_rate': 0.0011341245370120885, 'batch_size': 32, 'dense_units': 16, 'window_size': 60}. Best is trial 0 with value: 26.542314529418945.\n",
      "c:\\Users\\jerem\\miniconda3\\Lib\\site-packages\\keras\\src\\layers\\rnn\\rnn.py:199: UserWarning: Do not pass an `input_shape`/`input_dim` argument to a layer. When using Sequential models, prefer using an `Input(shape)` object as the first layer in the model instead.\n",
      "  super().__init__(**kwargs)\n"
     ]
    },
    {
     "name": "stdout",
     "output_type": "stream",
     "text": [
      "\u001b[1m4/4\u001b[0m \u001b[32m━━━━━━━━━━━━━━━━━━━━\u001b[0m\u001b[37m\u001b[0m \u001b[1m1s\u001b[0m 104ms/step\n"
     ]
    },
    {
     "name": "stderr",
     "output_type": "stream",
     "text": [
      "[I 2025-06-12 13:51:39,393] Trial 29 finished with value: 27.085596084594727 and parameters: {'lstm_units': 128, 'lstm_layers': 1, 'dropout_rate': 0.4, 'learning_rate': 0.00029464495512107077, 'batch_size': 32, 'dense_units': 32, 'window_size': 30}. Best is trial 0 with value: 26.542314529418945.\n",
      "c:\\Users\\jerem\\miniconda3\\Lib\\site-packages\\keras\\src\\layers\\rnn\\rnn.py:199: UserWarning: Do not pass an `input_shape`/`input_dim` argument to a layer. When using Sequential models, prefer using an `Input(shape)` object as the first layer in the model instead.\n",
      "  super().__init__(**kwargs)\n"
     ]
    },
    {
     "name": "stdout",
     "output_type": "stream",
     "text": [
      "\u001b[1m4/4\u001b[0m \u001b[32m━━━━━━━━━━━━━━━━━━━━\u001b[0m\u001b[37m\u001b[0m \u001b[1m1s\u001b[0m 205ms/step\n"
     ]
    },
    {
     "name": "stderr",
     "output_type": "stream",
     "text": [
      "[I 2025-06-12 13:52:58,595] Trial 30 finished with value: 25.979238510131836 and parameters: {'lstm_units': 32, 'lstm_layers': 2, 'dropout_rate': 0.5, 'learning_rate': 0.0007912145135221936, 'batch_size': 32, 'dense_units': 64, 'window_size': 50}. Best is trial 30 with value: 25.979238510131836.\n",
      "c:\\Users\\jerem\\miniconda3\\Lib\\site-packages\\keras\\src\\layers\\rnn\\rnn.py:199: UserWarning: Do not pass an `input_shape`/`input_dim` argument to a layer. When using Sequential models, prefer using an `Input(shape)` object as the first layer in the model instead.\n",
      "  super().__init__(**kwargs)\n"
     ]
    },
    {
     "name": "stdout",
     "output_type": "stream",
     "text": [
      "\u001b[1m4/4\u001b[0m \u001b[32m━━━━━━━━━━━━━━━━━━━━\u001b[0m\u001b[37m\u001b[0m \u001b[1m1s\u001b[0m 160ms/step\n"
     ]
    },
    {
     "name": "stderr",
     "output_type": "stream",
     "text": [
      "[I 2025-06-12 13:54:03,760] Trial 31 finished with value: 27.191028594970703 and parameters: {'lstm_units': 32, 'lstm_layers': 2, 'dropout_rate': 0.5, 'learning_rate': 0.0006829160879906612, 'batch_size': 32, 'dense_units': 96, 'window_size': 50}. Best is trial 30 with value: 25.979238510131836.\n",
      "c:\\Users\\jerem\\miniconda3\\Lib\\site-packages\\keras\\src\\layers\\rnn\\rnn.py:199: UserWarning: Do not pass an `input_shape`/`input_dim` argument to a layer. When using Sequential models, prefer using an `Input(shape)` object as the first layer in the model instead.\n",
      "  super().__init__(**kwargs)\n"
     ]
    },
    {
     "name": "stdout",
     "output_type": "stream",
     "text": [
      "\u001b[1m4/4\u001b[0m \u001b[32m━━━━━━━━━━━━━━━━━━━━\u001b[0m\u001b[37m\u001b[0m \u001b[1m1s\u001b[0m 161ms/step\n"
     ]
    },
    {
     "name": "stderr",
     "output_type": "stream",
     "text": [
      "[I 2025-06-12 13:55:17,341] Trial 32 finished with value: 25.931856155395508 and parameters: {'lstm_units': 32, 'lstm_layers': 2, 'dropout_rate': 0.5, 'learning_rate': 0.0008846883825028972, 'batch_size': 32, 'dense_units': 64, 'window_size': 60}. Best is trial 32 with value: 25.931856155395508.\n",
      "c:\\Users\\jerem\\miniconda3\\Lib\\site-packages\\keras\\src\\layers\\rnn\\rnn.py:199: UserWarning: Do not pass an `input_shape`/`input_dim` argument to a layer. When using Sequential models, prefer using an `Input(shape)` object as the first layer in the model instead.\n",
      "  super().__init__(**kwargs)\n"
     ]
    },
    {
     "name": "stdout",
     "output_type": "stream",
     "text": [
      "\u001b[1m4/4\u001b[0m \u001b[32m━━━━━━━━━━━━━━━━━━━━\u001b[0m\u001b[37m\u001b[0m \u001b[1m1s\u001b[0m 214ms/step\n"
     ]
    },
    {
     "name": "stderr",
     "output_type": "stream",
     "text": [
      "[I 2025-06-12 13:56:33,061] Trial 33 finished with value: 25.92349624633789 and parameters: {'lstm_units': 32, 'lstm_layers': 2, 'dropout_rate': 0.5, 'learning_rate': 0.000851545183015629, 'batch_size': 32, 'dense_units': 64, 'window_size': 60}. Best is trial 33 with value: 25.92349624633789.\n",
      "c:\\Users\\jerem\\miniconda3\\Lib\\site-packages\\keras\\src\\layers\\rnn\\rnn.py:199: UserWarning: Do not pass an `input_shape`/`input_dim` argument to a layer. When using Sequential models, prefer using an `Input(shape)` object as the first layer in the model instead.\n",
      "  super().__init__(**kwargs)\n"
     ]
    },
    {
     "name": "stdout",
     "output_type": "stream",
     "text": [
      "\u001b[1m4/4\u001b[0m \u001b[32m━━━━━━━━━━━━━━━━━━━━\u001b[0m\u001b[37m\u001b[0m \u001b[1m1s\u001b[0m 163ms/step\n"
     ]
    },
    {
     "name": "stderr",
     "output_type": "stream",
     "text": [
      "[I 2025-06-12 13:57:51,784] Trial 34 finished with value: 25.955280303955078 and parameters: {'lstm_units': 32, 'lstm_layers': 2, 'dropout_rate': 0.5, 'learning_rate': 0.000898107425888356, 'batch_size': 32, 'dense_units': 64, 'window_size': 60}. Best is trial 33 with value: 25.92349624633789.\n",
      "c:\\Users\\jerem\\miniconda3\\Lib\\site-packages\\keras\\src\\layers\\rnn\\rnn.py:199: UserWarning: Do not pass an `input_shape`/`input_dim` argument to a layer. When using Sequential models, prefer using an `Input(shape)` object as the first layer in the model instead.\n",
      "  super().__init__(**kwargs)\n"
     ]
    },
    {
     "name": "stdout",
     "output_type": "stream",
     "text": [
      "\u001b[1m4/4\u001b[0m \u001b[32m━━━━━━━━━━━━━━━━━━━━\u001b[0m\u001b[37m\u001b[0m \u001b[1m1s\u001b[0m 167ms/step\n"
     ]
    },
    {
     "name": "stderr",
     "output_type": "stream",
     "text": [
      "[I 2025-06-12 13:59:14,159] Trial 35 finished with value: 25.935646057128906 and parameters: {'lstm_units': 32, 'lstm_layers': 2, 'dropout_rate': 0.5, 'learning_rate': 0.0008724915698293108, 'batch_size': 32, 'dense_units': 64, 'window_size': 60}. Best is trial 33 with value: 25.92349624633789.\n",
      "c:\\Users\\jerem\\miniconda3\\Lib\\site-packages\\keras\\src\\layers\\rnn\\rnn.py:199: UserWarning: Do not pass an `input_shape`/`input_dim` argument to a layer. When using Sequential models, prefer using an `Input(shape)` object as the first layer in the model instead.\n",
      "  super().__init__(**kwargs)\n"
     ]
    },
    {
     "name": "stdout",
     "output_type": "stream",
     "text": [
      "\u001b[1m8/8\u001b[0m \u001b[32m━━━━━━━━━━━━━━━━━━━━\u001b[0m\u001b[37m\u001b[0m \u001b[1m1s\u001b[0m 108ms/step\n"
     ]
    },
    {
     "name": "stderr",
     "output_type": "stream",
     "text": [
      "[I 2025-06-12 14:00:58,746] Trial 36 finished with value: 26.936567306518555 and parameters: {'lstm_units': 32, 'lstm_layers': 2, 'dropout_rate': 0.5, 'learning_rate': 0.0009756713979843368, 'batch_size': 16, 'dense_units': 96, 'window_size': 60}. Best is trial 33 with value: 25.92349624633789.\n",
      "c:\\Users\\jerem\\miniconda3\\Lib\\site-packages\\keras\\src\\layers\\rnn\\rnn.py:199: UserWarning: Do not pass an `input_shape`/`input_dim` argument to a layer. When using Sequential models, prefer using an `Input(shape)` object as the first layer in the model instead.\n",
      "  super().__init__(**kwargs)\n"
     ]
    },
    {
     "name": "stdout",
     "output_type": "stream",
     "text": [
      "\u001b[1m4/4\u001b[0m \u001b[32m━━━━━━━━━━━━━━━━━━━━\u001b[0m\u001b[37m\u001b[0m \u001b[1m1s\u001b[0m 161ms/step\n"
     ]
    },
    {
     "name": "stderr",
     "output_type": "stream",
     "text": [
      "[I 2025-06-12 14:02:13,791] Trial 37 finished with value: 27.02878189086914 and parameters: {'lstm_units': 32, 'lstm_layers': 2, 'dropout_rate': 0.5, 'learning_rate': 0.001147645531968228, 'batch_size': 32, 'dense_units': 64, 'window_size': 60}. Best is trial 33 with value: 25.92349624633789.\n",
      "c:\\Users\\jerem\\miniconda3\\Lib\\site-packages\\keras\\src\\layers\\rnn\\rnn.py:199: UserWarning: Do not pass an `input_shape`/`input_dim` argument to a layer. When using Sequential models, prefer using an `Input(shape)` object as the first layer in the model instead.\n",
      "  super().__init__(**kwargs)\n"
     ]
    },
    {
     "name": "stdout",
     "output_type": "stream",
     "text": [
      "\u001b[1m8/8\u001b[0m \u001b[32m━━━━━━━━━━━━━━━━━━━━\u001b[0m\u001b[37m\u001b[0m \u001b[1m1s\u001b[0m 69ms/step\n"
     ]
    },
    {
     "name": "stderr",
     "output_type": "stream",
     "text": [
      "[I 2025-06-12 14:04:08,249] Trial 38 finished with value: 30.906089782714844 and parameters: {'lstm_units': 32, 'lstm_layers': 2, 'dropout_rate': 0.5, 'learning_rate': 0.00028765540022624586, 'batch_size': 16, 'dense_units': 96, 'window_size': 60}. Best is trial 33 with value: 25.92349624633789.\n",
      "c:\\Users\\jerem\\miniconda3\\Lib\\site-packages\\keras\\src\\layers\\rnn\\rnn.py:199: UserWarning: Do not pass an `input_shape`/`input_dim` argument to a layer. When using Sequential models, prefer using an `Input(shape)` object as the first layer in the model instead.\n",
      "  super().__init__(**kwargs)\n"
     ]
    },
    {
     "name": "stdout",
     "output_type": "stream",
     "text": [
      "\u001b[1m4/4\u001b[0m \u001b[32m━━━━━━━━━━━━━━━━━━━━\u001b[0m\u001b[37m\u001b[0m \u001b[1m1s\u001b[0m 213ms/step\n"
     ]
    },
    {
     "name": "stderr",
     "output_type": "stream",
     "text": [
      "[I 2025-06-12 14:05:24,030] Trial 39 finished with value: 27.032588958740234 and parameters: {'lstm_units': 32, 'lstm_layers': 2, 'dropout_rate': 0.5, 'learning_rate': 0.0016214763360073107, 'batch_size': 32, 'dense_units': 64, 'window_size': 60}. Best is trial 33 with value: 25.92349624633789.\n",
      "c:\\Users\\jerem\\miniconda3\\Lib\\site-packages\\keras\\src\\layers\\rnn\\rnn.py:199: UserWarning: Do not pass an `input_shape`/`input_dim` argument to a layer. When using Sequential models, prefer using an `Input(shape)` object as the first layer in the model instead.\n",
      "  super().__init__(**kwargs)\n"
     ]
    },
    {
     "name": "stdout",
     "output_type": "stream",
     "text": [
      "\u001b[1m8/8\u001b[0m \u001b[32m━━━━━━━━━━━━━━━━━━━━\u001b[0m\u001b[37m\u001b[0m \u001b[1m1s\u001b[0m 73ms/step\n"
     ]
    },
    {
     "name": "stderr",
     "output_type": "stream",
     "text": [
      "[I 2025-06-12 14:06:56,545] Trial 40 finished with value: 27.096399307250977 and parameters: {'lstm_units': 32, 'lstm_layers': 2, 'dropout_rate': 0.5, 'learning_rate': 0.0009139096962737111, 'batch_size': 16, 'dense_units': 80, 'window_size': 60}. Best is trial 33 with value: 25.92349624633789.\n",
      "c:\\Users\\jerem\\miniconda3\\Lib\\site-packages\\keras\\src\\layers\\rnn\\rnn.py:199: UserWarning: Do not pass an `input_shape`/`input_dim` argument to a layer. When using Sequential models, prefer using an `Input(shape)` object as the first layer in the model instead.\n",
      "  super().__init__(**kwargs)\n"
     ]
    },
    {
     "name": "stdout",
     "output_type": "stream",
     "text": [
      "\u001b[1m4/4\u001b[0m \u001b[32m━━━━━━━━━━━━━━━━━━━━\u001b[0m\u001b[37m\u001b[0m \u001b[1m1s\u001b[0m 161ms/step\n"
     ]
    },
    {
     "name": "stderr",
     "output_type": "stream",
     "text": [
      "[I 2025-06-12 14:08:07,499] Trial 41 finished with value: 25.961339950561523 and parameters: {'lstm_units': 32, 'lstm_layers': 2, 'dropout_rate': 0.5, 'learning_rate': 0.0007588000618535912, 'batch_size': 32, 'dense_units': 64, 'window_size': 50}. Best is trial 33 with value: 25.92349624633789.\n",
      "c:\\Users\\jerem\\miniconda3\\Lib\\site-packages\\keras\\src\\layers\\rnn\\rnn.py:199: UserWarning: Do not pass an `input_shape`/`input_dim` argument to a layer. When using Sequential models, prefer using an `Input(shape)` object as the first layer in the model instead.\n",
      "  super().__init__(**kwargs)\n"
     ]
    },
    {
     "name": "stdout",
     "output_type": "stream",
     "text": [
      "\u001b[1m4/4\u001b[0m \u001b[32m━━━━━━━━━━━━━━━━━━━━\u001b[0m\u001b[37m\u001b[0m \u001b[1m1s\u001b[0m 264ms/step\n"
     ]
    },
    {
     "name": "stderr",
     "output_type": "stream",
     "text": [
      "[I 2025-06-12 14:09:57,858] Trial 42 finished with value: 28.077177047729492 and parameters: {'lstm_units': 32, 'lstm_layers': 2, 'dropout_rate': 0.4, 'learning_rate': 0.000607705419508534, 'batch_size': 32, 'dense_units': 64, 'window_size': 60}. Best is trial 33 with value: 25.92349624633789.\n",
      "c:\\Users\\jerem\\miniconda3\\Lib\\site-packages\\keras\\src\\layers\\rnn\\rnn.py:199: UserWarning: Do not pass an `input_shape`/`input_dim` argument to a layer. When using Sequential models, prefer using an `Input(shape)` object as the first layer in the model instead.\n",
      "  super().__init__(**kwargs)\n"
     ]
    },
    {
     "name": "stdout",
     "output_type": "stream",
     "text": [
      "\u001b[1m4/4\u001b[0m \u001b[32m━━━━━━━━━━━━━━━━━━━━\u001b[0m\u001b[37m\u001b[0m \u001b[1m1s\u001b[0m 163ms/step\n"
     ]
    },
    {
     "name": "stderr",
     "output_type": "stream",
     "text": [
      "[I 2025-06-12 14:11:08,717] Trial 43 finished with value: 25.89510726928711 and parameters: {'lstm_units': 32, 'lstm_layers': 2, 'dropout_rate': 0.5, 'learning_rate': 0.0008309098243473825, 'batch_size': 32, 'dense_units': 80, 'window_size': 50}. Best is trial 43 with value: 25.89510726928711.\n",
      "c:\\Users\\jerem\\miniconda3\\Lib\\site-packages\\keras\\src\\layers\\rnn\\rnn.py:199: UserWarning: Do not pass an `input_shape`/`input_dim` argument to a layer. When using Sequential models, prefer using an `Input(shape)` object as the first layer in the model instead.\n",
      "  super().__init__(**kwargs)\n"
     ]
    },
    {
     "name": "stdout",
     "output_type": "stream",
     "text": [
      "\u001b[1m4/4\u001b[0m \u001b[32m━━━━━━━━━━━━━━━━━━━━\u001b[0m\u001b[37m\u001b[0m \u001b[1m1s\u001b[0m 177ms/step\n"
     ]
    },
    {
     "name": "stderr",
     "output_type": "stream",
     "text": [
      "[I 2025-06-12 14:12:07,447] Trial 44 finished with value: 27.176368713378906 and parameters: {'lstm_units': 32, 'lstm_layers': 2, 'dropout_rate': 0.4, 'learning_rate': 0.0018671406203155064, 'batch_size': 32, 'dense_units': 80, 'window_size': 60}. Best is trial 43 with value: 25.89510726928711.\n",
      "c:\\Users\\jerem\\miniconda3\\Lib\\site-packages\\keras\\src\\layers\\rnn\\rnn.py:199: UserWarning: Do not pass an `input_shape`/`input_dim` argument to a layer. When using Sequential models, prefer using an `Input(shape)` object as the first layer in the model instead.\n",
      "  super().__init__(**kwargs)\n"
     ]
    },
    {
     "name": "stdout",
     "output_type": "stream",
     "text": [
      "\u001b[1m4/4\u001b[0m \u001b[32m━━━━━━━━━━━━━━━━━━━━\u001b[0m\u001b[37m\u001b[0m \u001b[1m1s\u001b[0m 218ms/step\n"
     ]
    },
    {
     "name": "stderr",
     "output_type": "stream",
     "text": [
      "[I 2025-06-12 14:13:43,074] Trial 45 finished with value: 27.144046783447266 and parameters: {'lstm_units': 32, 'lstm_layers': 2, 'dropout_rate': 0.5, 'learning_rate': 0.0011095112518201586, 'batch_size': 32, 'dense_units': 80, 'window_size': 60}. Best is trial 43 with value: 25.89510726928711.\n",
      "c:\\Users\\jerem\\miniconda3\\Lib\\site-packages\\keras\\src\\layers\\rnn\\rnn.py:199: UserWarning: Do not pass an `input_shape`/`input_dim` argument to a layer. When using Sequential models, prefer using an `Input(shape)` object as the first layer in the model instead.\n",
      "  super().__init__(**kwargs)\n"
     ]
    },
    {
     "name": "stdout",
     "output_type": "stream",
     "text": [
      "\u001b[1m4/4\u001b[0m \u001b[32m━━━━━━━━━━━━━━━━━━━━\u001b[0m\u001b[37m\u001b[0m \u001b[1m1s\u001b[0m 162ms/step\n"
     ]
    },
    {
     "name": "stderr",
     "output_type": "stream",
     "text": [
      "[I 2025-06-12 14:14:56,351] Trial 46 finished with value: 26.040353775024414 and parameters: {'lstm_units': 32, 'lstm_layers': 2, 'dropout_rate': 0.4, 'learning_rate': 0.0009166917450483747, 'batch_size': 32, 'dense_units': 96, 'window_size': 50}. Best is trial 43 with value: 25.89510726928711.\n",
      "c:\\Users\\jerem\\miniconda3\\Lib\\site-packages\\keras\\src\\layers\\rnn\\rnn.py:199: UserWarning: Do not pass an `input_shape`/`input_dim` argument to a layer. When using Sequential models, prefer using an `Input(shape)` object as the first layer in the model instead.\n",
      "  super().__init__(**kwargs)\n"
     ]
    },
    {
     "name": "stdout",
     "output_type": "stream",
     "text": [
      "\u001b[1m4/4\u001b[0m \u001b[32m━━━━━━━━━━━━━━━━━━━━\u001b[0m\u001b[37m\u001b[0m \u001b[1m1s\u001b[0m 156ms/step\n"
     ]
    },
    {
     "name": "stderr",
     "output_type": "stream",
     "text": [
      "[I 2025-06-12 14:15:49,020] Trial 47 finished with value: 26.988693237304688 and parameters: {'lstm_units': 32, 'lstm_layers': 2, 'dropout_rate': 0.5, 'learning_rate': 0.0020636532841014615, 'batch_size': 32, 'dense_units': 80, 'window_size': 60}. Best is trial 43 with value: 25.89510726928711.\n",
      "c:\\Users\\jerem\\miniconda3\\Lib\\site-packages\\keras\\src\\layers\\rnn\\rnn.py:199: UserWarning: Do not pass an `input_shape`/`input_dim` argument to a layer. When using Sequential models, prefer using an `Input(shape)` object as the first layer in the model instead.\n",
      "  super().__init__(**kwargs)\n"
     ]
    },
    {
     "name": "stdout",
     "output_type": "stream",
     "text": [
      "\u001b[1m4/4\u001b[0m \u001b[32m━━━━━━━━━━━━━━━━━━━━\u001b[0m\u001b[37m\u001b[0m \u001b[1m1s\u001b[0m 192ms/step\n"
     ]
    },
    {
     "name": "stderr",
     "output_type": "stream",
     "text": [
      "[I 2025-06-12 14:17:05,309] Trial 48 finished with value: 35.66364288330078 and parameters: {'lstm_units': 32, 'lstm_layers': 2, 'dropout_rate': 0.4, 'learning_rate': 0.0005259936879724172, 'batch_size': 32, 'dense_units': 112, 'window_size': 50}. Best is trial 43 with value: 25.89510726928711.\n",
      "c:\\Users\\jerem\\miniconda3\\Lib\\site-packages\\keras\\src\\layers\\rnn\\rnn.py:199: UserWarning: Do not pass an `input_shape`/`input_dim` argument to a layer. When using Sequential models, prefer using an `Input(shape)` object as the first layer in the model instead.\n",
      "  super().__init__(**kwargs)\n"
     ]
    },
    {
     "name": "stdout",
     "output_type": "stream",
     "text": [
      "\u001b[1m8/8\u001b[0m \u001b[32m━━━━━━━━━━━━━━━━━━━━\u001b[0m\u001b[37m\u001b[0m \u001b[1m1s\u001b[0m 72ms/step\n"
     ]
    },
    {
     "name": "stderr",
     "output_type": "stream",
     "text": [
      "[I 2025-06-12 14:18:09,931] Trial 49 finished with value: 27.064001083374023 and parameters: {'lstm_units': 32, 'lstm_layers': 2, 'dropout_rate': 0.5, 'learning_rate': 0.0013383478628495524, 'batch_size': 16, 'dense_units': 48, 'window_size': 60}. Best is trial 43 with value: 25.89510726928711.\n",
      "c:\\Users\\jerem\\miniconda3\\Lib\\site-packages\\keras\\src\\layers\\rnn\\rnn.py:199: UserWarning: Do not pass an `input_shape`/`input_dim` argument to a layer. When using Sequential models, prefer using an `Input(shape)` object as the first layer in the model instead.\n",
      "  super().__init__(**kwargs)\n"
     ]
    },
    {
     "name": "stdout",
     "output_type": "stream",
     "text": [
      "\u001b[1m4/4\u001b[0m \u001b[32m━━━━━━━━━━━━━━━━━━━━\u001b[0m\u001b[37m\u001b[0m \u001b[1m1s\u001b[0m 170ms/step\n"
     ]
    },
    {
     "name": "stderr",
     "output_type": "stream",
     "text": [
      "[I 2025-06-12 14:19:20,151] Trial 50 finished with value: 27.147579193115234 and parameters: {'lstm_units': 64, 'lstm_layers': 2, 'dropout_rate': 0.5, 'learning_rate': 0.0006714657247653529, 'batch_size': 32, 'dense_units': 64, 'window_size': 50}. Best is trial 43 with value: 25.89510726928711.\n",
      "c:\\Users\\jerem\\miniconda3\\Lib\\site-packages\\keras\\src\\layers\\rnn\\rnn.py:199: UserWarning: Do not pass an `input_shape`/`input_dim` argument to a layer. When using Sequential models, prefer using an `Input(shape)` object as the first layer in the model instead.\n",
      "  super().__init__(**kwargs)\n"
     ]
    },
    {
     "name": "stdout",
     "output_type": "stream",
     "text": [
      "\u001b[1m4/4\u001b[0m \u001b[32m━━━━━━━━━━━━━━━━━━━━\u001b[0m\u001b[37m\u001b[0m \u001b[1m1s\u001b[0m 161ms/step\n"
     ]
    },
    {
     "name": "stderr",
     "output_type": "stream",
     "text": [
      "[I 2025-06-12 14:20:26,323] Trial 51 finished with value: 26.012611389160156 and parameters: {'lstm_units': 32, 'lstm_layers': 2, 'dropout_rate': 0.5, 'learning_rate': 0.0007661208927174458, 'batch_size': 32, 'dense_units': 64, 'window_size': 50}. Best is trial 43 with value: 25.89510726928711.\n",
      "c:\\Users\\jerem\\miniconda3\\Lib\\site-packages\\keras\\src\\layers\\rnn\\rnn.py:199: UserWarning: Do not pass an `input_shape`/`input_dim` argument to a layer. When using Sequential models, prefer using an `Input(shape)` object as the first layer in the model instead.\n",
      "  super().__init__(**kwargs)\n"
     ]
    },
    {
     "name": "stdout",
     "output_type": "stream",
     "text": [
      "\u001b[1m4/4\u001b[0m \u001b[32m━━━━━━━━━━━━━━━━━━━━\u001b[0m\u001b[37m\u001b[0m \u001b[1m1s\u001b[0m 160ms/step\n"
     ]
    },
    {
     "name": "stderr",
     "output_type": "stream",
     "text": [
      "[I 2025-06-12 14:21:47,304] Trial 52 finished with value: 25.90915870666504 and parameters: {'lstm_units': 32, 'lstm_layers': 2, 'dropout_rate': 0.5, 'learning_rate': 0.0008465405850647467, 'batch_size': 32, 'dense_units': 64, 'window_size': 60}. Best is trial 43 with value: 25.89510726928711.\n",
      "c:\\Users\\jerem\\miniconda3\\Lib\\site-packages\\keras\\src\\layers\\rnn\\rnn.py:199: UserWarning: Do not pass an `input_shape`/`input_dim` argument to a layer. When using Sequential models, prefer using an `Input(shape)` object as the first layer in the model instead.\n",
      "  super().__init__(**kwargs)\n"
     ]
    },
    {
     "name": "stdout",
     "output_type": "stream",
     "text": [
      "\u001b[1m4/4\u001b[0m \u001b[32m━━━━━━━━━━━━━━━━━━━━\u001b[0m\u001b[37m\u001b[0m \u001b[1m1s\u001b[0m 185ms/step\n"
     ]
    },
    {
     "name": "stderr",
     "output_type": "stream",
     "text": [
      "[I 2025-06-12 14:23:00,730] Trial 53 finished with value: 37.149505615234375 and parameters: {'lstm_units': 32, 'lstm_layers': 2, 'dropout_rate': 0.5, 'learning_rate': 0.00047447143586268694, 'batch_size': 32, 'dense_units': 80, 'window_size': 60}. Best is trial 43 with value: 25.89510726928711.\n",
      "c:\\Users\\jerem\\miniconda3\\Lib\\site-packages\\keras\\src\\layers\\rnn\\rnn.py:199: UserWarning: Do not pass an `input_shape`/`input_dim` argument to a layer. When using Sequential models, prefer using an `Input(shape)` object as the first layer in the model instead.\n",
      "  super().__init__(**kwargs)\n"
     ]
    },
    {
     "name": "stdout",
     "output_type": "stream",
     "text": [
      "\u001b[1m4/4\u001b[0m \u001b[32m━━━━━━━━━━━━━━━━━━━━\u001b[0m\u001b[37m\u001b[0m \u001b[1m1s\u001b[0m 165ms/step\n"
     ]
    },
    {
     "name": "stderr",
     "output_type": "stream",
     "text": [
      "[I 2025-06-12 14:24:13,521] Trial 54 finished with value: 26.338375091552734 and parameters: {'lstm_units': 32, 'lstm_layers': 2, 'dropout_rate': 0.5, 'learning_rate': 0.0010507992474838156, 'batch_size': 32, 'dense_units': 48, 'window_size': 60}. Best is trial 43 with value: 25.89510726928711.\n",
      "c:\\Users\\jerem\\miniconda3\\Lib\\site-packages\\keras\\src\\layers\\rnn\\rnn.py:199: UserWarning: Do not pass an `input_shape`/`input_dim` argument to a layer. When using Sequential models, prefer using an `Input(shape)` object as the first layer in the model instead.\n",
      "  super().__init__(**kwargs)\n"
     ]
    },
    {
     "name": "stdout",
     "output_type": "stream",
     "text": [
      "\u001b[1m4/4\u001b[0m \u001b[32m━━━━━━━━━━━━━━━━━━━━\u001b[0m\u001b[37m\u001b[0m \u001b[1m1s\u001b[0m 228ms/step\n"
     ]
    },
    {
     "name": "stderr",
     "output_type": "stream",
     "text": [
      "[I 2025-06-12 14:25:53,240] Trial 55 finished with value: 27.180057525634766 and parameters: {'lstm_units': 32, 'lstm_layers': 2, 'dropout_rate': 0.4, 'learning_rate': 0.0014287620677128343, 'batch_size': 32, 'dense_units': 80, 'window_size': 60}. Best is trial 43 with value: 25.89510726928711.\n",
      "c:\\Users\\jerem\\miniconda3\\Lib\\site-packages\\keras\\src\\layers\\rnn\\rnn.py:199: UserWarning: Do not pass an `input_shape`/`input_dim` argument to a layer. When using Sequential models, prefer using an `Input(shape)` object as the first layer in the model instead.\n",
      "  super().__init__(**kwargs)\n"
     ]
    },
    {
     "name": "stdout",
     "output_type": "stream",
     "text": [
      "\u001b[1m4/4\u001b[0m \u001b[32m━━━━━━━━━━━━━━━━━━━━\u001b[0m\u001b[37m\u001b[0m \u001b[1m1s\u001b[0m 163ms/step\n"
     ]
    },
    {
     "name": "stderr",
     "output_type": "stream",
     "text": [
      "[I 2025-06-12 14:27:09,542] Trial 56 finished with value: 25.966171264648438 and parameters: {'lstm_units': 32, 'lstm_layers': 2, 'dropout_rate': 0.5, 'learning_rate': 0.0008700873401784524, 'batch_size': 32, 'dense_units': 64, 'window_size': 60}. Best is trial 43 with value: 25.89510726928711.\n",
      "c:\\Users\\jerem\\miniconda3\\Lib\\site-packages\\keras\\src\\layers\\rnn\\rnn.py:199: UserWarning: Do not pass an `input_shape`/`input_dim` argument to a layer. When using Sequential models, prefer using an `Input(shape)` object as the first layer in the model instead.\n",
      "  super().__init__(**kwargs)\n"
     ]
    },
    {
     "name": "stdout",
     "output_type": "stream",
     "text": [
      "\u001b[1m4/4\u001b[0m \u001b[32m━━━━━━━━━━━━━━━━━━━━\u001b[0m\u001b[37m\u001b[0m \u001b[1m1s\u001b[0m 187ms/step\n"
     ]
    },
    {
     "name": "stderr",
     "output_type": "stream",
     "text": [
      "[I 2025-06-12 14:28:22,627] Trial 57 finished with value: 27.126056671142578 and parameters: {'lstm_units': 32, 'lstm_layers': 2, 'dropout_rate': 0.4, 'learning_rate': 0.0012433673004338733, 'batch_size': 32, 'dense_units': 48, 'window_size': 60}. Best is trial 43 with value: 25.89510726928711.\n",
      "c:\\Users\\jerem\\miniconda3\\Lib\\site-packages\\keras\\src\\layers\\rnn\\rnn.py:199: UserWarning: Do not pass an `input_shape`/`input_dim` argument to a layer. When using Sequential models, prefer using an `Input(shape)` object as the first layer in the model instead.\n",
      "  super().__init__(**kwargs)\n"
     ]
    },
    {
     "name": "stdout",
     "output_type": "stream",
     "text": [
      "\u001b[1m4/4\u001b[0m \u001b[32m━━━━━━━━━━━━━━━━━━━━\u001b[0m\u001b[37m\u001b[0m \u001b[1m1s\u001b[0m 170ms/step\n"
     ]
    },
    {
     "name": "stderr",
     "output_type": "stream",
     "text": [
      "[I 2025-06-12 14:29:55,192] Trial 58 finished with value: 25.890451431274414 and parameters: {'lstm_units': 64, 'lstm_layers': 2, 'dropout_rate': 0.5, 'learning_rate': 0.0003682135405508835, 'batch_size': 32, 'dense_units': 80, 'window_size': 60}. Best is trial 58 with value: 25.890451431274414.\n",
      "c:\\Users\\jerem\\miniconda3\\Lib\\site-packages\\keras\\src\\layers\\rnn\\rnn.py:199: UserWarning: Do not pass an `input_shape`/`input_dim` argument to a layer. When using Sequential models, prefer using an `Input(shape)` object as the first layer in the model instead.\n",
      "  super().__init__(**kwargs)\n"
     ]
    },
    {
     "name": "stdout",
     "output_type": "stream",
     "text": [
      "\u001b[1m4/4\u001b[0m \u001b[32m━━━━━━━━━━━━━━━━━━━━\u001b[0m\u001b[37m\u001b[0m \u001b[1m1s\u001b[0m 180ms/step\n"
     ]
    },
    {
     "name": "stderr",
     "output_type": "stream",
     "text": [
      "[I 2025-06-12 14:31:25,847] Trial 59 finished with value: 33.57072067260742 and parameters: {'lstm_units': 64, 'lstm_layers': 2, 'dropout_rate': 0.4, 'learning_rate': 0.0002037274888370209, 'batch_size': 32, 'dense_units': 80, 'window_size': 50}. Best is trial 58 with value: 25.890451431274414.\n",
      "c:\\Users\\jerem\\miniconda3\\Lib\\site-packages\\keras\\src\\layers\\rnn\\rnn.py:199: UserWarning: Do not pass an `input_shape`/`input_dim` argument to a layer. When using Sequential models, prefer using an `Input(shape)` object as the first layer in the model instead.\n",
      "  super().__init__(**kwargs)\n"
     ]
    },
    {
     "name": "stdout",
     "output_type": "stream",
     "text": [
      "\u001b[1m4/4\u001b[0m \u001b[32m━━━━━━━━━━━━━━━━━━━━\u001b[0m\u001b[37m\u001b[0m \u001b[1m1s\u001b[0m 253ms/step\n"
     ]
    },
    {
     "name": "stderr",
     "output_type": "stream",
     "text": [
      "[I 2025-06-12 14:33:26,164] Trial 60 finished with value: 33.55445098876953 and parameters: {'lstm_units': 64, 'lstm_layers': 2, 'dropout_rate': 0.5, 'learning_rate': 0.0002324685596338109, 'batch_size': 32, 'dense_units': 96, 'window_size': 60}. Best is trial 58 with value: 25.890451431274414.\n",
      "c:\\Users\\jerem\\miniconda3\\Lib\\site-packages\\keras\\src\\layers\\rnn\\rnn.py:199: UserWarning: Do not pass an `input_shape`/`input_dim` argument to a layer. When using Sequential models, prefer using an `Input(shape)` object as the first layer in the model instead.\n",
      "  super().__init__(**kwargs)\n"
     ]
    },
    {
     "name": "stdout",
     "output_type": "stream",
     "text": [
      "\u001b[1m4/4\u001b[0m \u001b[32m━━━━━━━━━━━━━━━━━━━━\u001b[0m\u001b[37m\u001b[0m \u001b[1m1s\u001b[0m 163ms/step\n"
     ]
    },
    {
     "name": "stderr",
     "output_type": "stream",
     "text": [
      "[I 2025-06-12 14:34:49,027] Trial 61 finished with value: 46.21180725097656 and parameters: {'lstm_units': 32, 'lstm_layers': 2, 'dropout_rate': 0.5, 'learning_rate': 0.00034774216596385817, 'batch_size': 32, 'dense_units': 64, 'window_size': 60}. Best is trial 58 with value: 25.890451431274414.\n",
      "c:\\Users\\jerem\\miniconda3\\Lib\\site-packages\\keras\\src\\layers\\rnn\\rnn.py:199: UserWarning: Do not pass an `input_shape`/`input_dim` argument to a layer. When using Sequential models, prefer using an `Input(shape)` object as the first layer in the model instead.\n",
      "  super().__init__(**kwargs)\n"
     ]
    },
    {
     "name": "stdout",
     "output_type": "stream",
     "text": [
      "\u001b[1m4/4\u001b[0m \u001b[32m━━━━━━━━━━━━━━━━━━━━\u001b[0m\u001b[37m\u001b[0m \u001b[1m1s\u001b[0m 167ms/step\n"
     ]
    },
    {
     "name": "stderr",
     "output_type": "stream",
     "text": [
      "[I 2025-06-12 14:36:03,024] Trial 62 finished with value: 27.7271785736084 and parameters: {'lstm_units': 32, 'lstm_layers': 2, 'dropout_rate': 0.5, 'learning_rate': 0.0006396226138897217, 'batch_size': 32, 'dense_units': 80, 'window_size': 60}. Best is trial 58 with value: 25.890451431274414.\n",
      "c:\\Users\\jerem\\miniconda3\\Lib\\site-packages\\keras\\src\\layers\\rnn\\rnn.py:199: UserWarning: Do not pass an `input_shape`/`input_dim` argument to a layer. When using Sequential models, prefer using an `Input(shape)` object as the first layer in the model instead.\n",
      "  super().__init__(**kwargs)\n"
     ]
    },
    {
     "name": "stdout",
     "output_type": "stream",
     "text": [
      "\u001b[1m4/4\u001b[0m \u001b[32m━━━━━━━━━━━━━━━━━━━━\u001b[0m\u001b[37m\u001b[0m \u001b[1m1s\u001b[0m 246ms/step\n"
     ]
    },
    {
     "name": "stderr",
     "output_type": "stream",
     "text": [
      "[I 2025-06-12 14:37:52,553] Trial 63 finished with value: 70.61425018310547 and parameters: {'lstm_units': 32, 'lstm_layers': 2, 'dropout_rate': 0.5, 'learning_rate': 0.0001483555168437526, 'batch_size': 32, 'dense_units': 64, 'window_size': 60}. Best is trial 58 with value: 25.890451431274414.\n",
      "c:\\Users\\jerem\\miniconda3\\Lib\\site-packages\\keras\\src\\layers\\rnn\\rnn.py:199: UserWarning: Do not pass an `input_shape`/`input_dim` argument to a layer. When using Sequential models, prefer using an `Input(shape)` object as the first layer in the model instead.\n",
      "  super().__init__(**kwargs)\n"
     ]
    },
    {
     "name": "stdout",
     "output_type": "stream",
     "text": [
      "\u001b[1m4/4\u001b[0m \u001b[32m━━━━━━━━━━━━━━━━━━━━\u001b[0m\u001b[37m\u001b[0m \u001b[1m1s\u001b[0m 164ms/step\n"
     ]
    },
    {
     "name": "stderr",
     "output_type": "stream",
     "text": [
      "[I 2025-06-12 14:39:14,931] Trial 64 finished with value: 26.842863082885742 and parameters: {'lstm_units': 64, 'lstm_layers': 2, 'dropout_rate': 0.5, 'learning_rate': 0.00048201347185350293, 'batch_size': 32, 'dense_units': 80, 'window_size': 50}. Best is trial 58 with value: 25.890451431274414.\n",
      "c:\\Users\\jerem\\miniconda3\\Lib\\site-packages\\keras\\src\\layers\\rnn\\rnn.py:199: UserWarning: Do not pass an `input_shape`/`input_dim` argument to a layer. When using Sequential models, prefer using an `Input(shape)` object as the first layer in the model instead.\n",
      "  super().__init__(**kwargs)\n"
     ]
    },
    {
     "name": "stdout",
     "output_type": "stream",
     "text": [
      "\u001b[1m4/4\u001b[0m \u001b[32m━━━━━━━━━━━━━━━━━━━━\u001b[0m\u001b[37m\u001b[0m \u001b[1m1s\u001b[0m 249ms/step\n"
     ]
    },
    {
     "name": "stderr",
     "output_type": "stream",
     "text": [
      "[I 2025-06-12 14:40:40,014] Trial 65 finished with value: 25.926326751708984 and parameters: {'lstm_units': 32, 'lstm_layers': 2, 'dropout_rate': 0.5, 'learning_rate': 0.0008506208104248838, 'batch_size': 32, 'dense_units': 48, 'window_size': 60}. Best is trial 58 with value: 25.890451431274414.\n",
      "c:\\Users\\jerem\\miniconda3\\Lib\\site-packages\\keras\\src\\layers\\rnn\\rnn.py:199: UserWarning: Do not pass an `input_shape`/`input_dim` argument to a layer. When using Sequential models, prefer using an `Input(shape)` object as the first layer in the model instead.\n",
      "  super().__init__(**kwargs)\n"
     ]
    },
    {
     "name": "stdout",
     "output_type": "stream",
     "text": [
      "\u001b[1m4/4\u001b[0m \u001b[32m━━━━━━━━━━━━━━━━━━━━\u001b[0m\u001b[37m\u001b[0m \u001b[1m1s\u001b[0m 156ms/step\n"
     ]
    },
    {
     "name": "stderr",
     "output_type": "stream",
     "text": [
      "[I 2025-06-12 14:41:55,575] Trial 66 finished with value: 48.79824447631836 and parameters: {'lstm_units': 32, 'lstm_layers': 2, 'dropout_rate': 0.4, 'learning_rate': 0.00035206043871735646, 'batch_size': 32, 'dense_units': 48, 'window_size': 60}. Best is trial 58 with value: 25.890451431274414.\n",
      "c:\\Users\\jerem\\miniconda3\\Lib\\site-packages\\keras\\src\\layers\\rnn\\rnn.py:199: UserWarning: Do not pass an `input_shape`/`input_dim` argument to a layer. When using Sequential models, prefer using an `Input(shape)` object as the first layer in the model instead.\n",
      "  super().__init__(**kwargs)\n"
     ]
    },
    {
     "name": "stdout",
     "output_type": "stream",
     "text": [
      "\u001b[1m4/4\u001b[0m \u001b[32m━━━━━━━━━━━━━━━━━━━━\u001b[0m\u001b[37m\u001b[0m \u001b[1m1s\u001b[0m 174ms/step\n"
     ]
    },
    {
     "name": "stderr",
     "output_type": "stream",
     "text": [
      "[I 2025-06-12 14:42:53,331] Trial 67 finished with value: 27.127595901489258 and parameters: {'lstm_units': 64, 'lstm_layers': 2, 'dropout_rate': 0.0, 'learning_rate': 0.0007960016014947682, 'batch_size': 32, 'dense_units': 48, 'window_size': 50}. Best is trial 58 with value: 25.890451431274414.\n",
      "c:\\Users\\jerem\\miniconda3\\Lib\\site-packages\\keras\\src\\layers\\rnn\\rnn.py:199: UserWarning: Do not pass an `input_shape`/`input_dim` argument to a layer. When using Sequential models, prefer using an `Input(shape)` object as the first layer in the model instead.\n",
      "  super().__init__(**kwargs)\n"
     ]
    },
    {
     "name": "stdout",
     "output_type": "stream",
     "text": [
      "\u001b[1m8/8\u001b[0m \u001b[32m━━━━━━━━━━━━━━━━━━━━\u001b[0m\u001b[37m\u001b[0m \u001b[1m1s\u001b[0m 73ms/step\n"
     ]
    },
    {
     "name": "stderr",
     "output_type": "stream",
     "text": [
      "[I 2025-06-12 14:43:39,862] Trial 68 finished with value: 27.8140926361084 and parameters: {'lstm_units': 32, 'lstm_layers': 2, 'dropout_rate': 0.5, 'learning_rate': 0.00290811687127721, 'batch_size': 16, 'dense_units': 64, 'window_size': 60}. Best is trial 58 with value: 25.890451431274414.\n",
      "c:\\Users\\jerem\\miniconda3\\Lib\\site-packages\\keras\\src\\layers\\rnn\\rnn.py:199: UserWarning: Do not pass an `input_shape`/`input_dim` argument to a layer. When using Sequential models, prefer using an `Input(shape)` object as the first layer in the model instead.\n",
      "  super().__init__(**kwargs)\n"
     ]
    },
    {
     "name": "stdout",
     "output_type": "stream",
     "text": [
      "\u001b[1m4/4\u001b[0m \u001b[32m━━━━━━━━━━━━━━━━━━━━\u001b[0m\u001b[37m\u001b[0m \u001b[1m1s\u001b[0m 197ms/step\n"
     ]
    },
    {
     "name": "stderr",
     "output_type": "stream",
     "text": [
      "[I 2025-06-12 14:44:43,483] Trial 69 finished with value: 27.04554557800293 and parameters: {'lstm_units': 32, 'lstm_layers': 2, 'dropout_rate': 0.4, 'learning_rate': 0.0016040846735141218, 'batch_size': 32, 'dense_units': 48, 'window_size': 60}. Best is trial 58 with value: 25.890451431274414.\n",
      "[I 2025-06-12 14:44:43,541] A new study created in memory with name: lstm_regression_study\n"
     ]
    },
    {
     "name": "stdout",
     "output_type": "stream",
     "text": [
      "Running LSTM study for bin 5, stock 7...\n"
     ]
    },
    {
     "name": "stderr",
     "output_type": "stream",
     "text": [
      "c:\\Users\\jerem\\miniconda3\\Lib\\site-packages\\keras\\src\\layers\\rnn\\rnn.py:199: UserWarning: Do not pass an `input_shape`/`input_dim` argument to a layer. When using Sequential models, prefer using an `Input(shape)` object as the first layer in the model instead.\n",
      "  super().__init__(**kwargs)\n"
     ]
    },
    {
     "name": "stdout",
     "output_type": "stream",
     "text": [
      "\u001b[1m8/8\u001b[0m \u001b[32m━━━━━━━━━━━━━━━━━━━━\u001b[0m\u001b[37m\u001b[0m \u001b[1m1s\u001b[0m 76ms/step\n"
     ]
    },
    {
     "name": "stderr",
     "output_type": "stream",
     "text": [
      "[I 2025-06-12 14:45:31,558] Trial 0 finished with value: 27.28158187866211 and parameters: {'lstm_units': 64, 'lstm_layers': 2, 'dropout_rate': 0.1, 'learning_rate': 0.0012983527880420817, 'batch_size': 16, 'dense_units': 128, 'window_size': 60}. Best is trial 0 with value: 27.28158187866211.\n",
      "c:\\Users\\jerem\\miniconda3\\Lib\\site-packages\\keras\\src\\layers\\rnn\\rnn.py:199: UserWarning: Do not pass an `input_shape`/`input_dim` argument to a layer. When using Sequential models, prefer using an `Input(shape)` object as the first layer in the model instead.\n",
      "  super().__init__(**kwargs)\n"
     ]
    },
    {
     "name": "stdout",
     "output_type": "stream",
     "text": [
      "\u001b[1m8/8\u001b[0m \u001b[32m━━━━━━━━━━━━━━━━━━━━\u001b[0m\u001b[37m\u001b[0m \u001b[1m1s\u001b[0m 45ms/step\n"
     ]
    },
    {
     "name": "stderr",
     "output_type": "stream",
     "text": [
      "[I 2025-06-12 14:46:21,130] Trial 1 finished with value: 25.93309211730957 and parameters: {'lstm_units': 64, 'lstm_layers': 1, 'dropout_rate': 0.4, 'learning_rate': 0.00014772489884960833, 'batch_size': 16, 'dense_units': 32, 'window_size': 30}. Best is trial 1 with value: 25.93309211730957.\n",
      "c:\\Users\\jerem\\miniconda3\\Lib\\site-packages\\keras\\src\\layers\\rnn\\rnn.py:199: UserWarning: Do not pass an `input_shape`/`input_dim` argument to a layer. When using Sequential models, prefer using an `Input(shape)` object as the first layer in the model instead.\n",
      "  super().__init__(**kwargs)\n"
     ]
    },
    {
     "name": "stdout",
     "output_type": "stream",
     "text": [
      "\u001b[1m8/8\u001b[0m \u001b[32m━━━━━━━━━━━━━━━━━━━━\u001b[0m\u001b[37m\u001b[0m \u001b[1m1s\u001b[0m 75ms/step\n"
     ]
    },
    {
     "name": "stderr",
     "output_type": "stream",
     "text": [
      "[I 2025-06-12 14:46:55,197] Trial 2 finished with value: 31.96650505065918 and parameters: {'lstm_units': 128, 'lstm_layers': 2, 'dropout_rate': 0.1, 'learning_rate': 0.0007524028782438058, 'batch_size': 16, 'dense_units': 128, 'window_size': 10}. Best is trial 1 with value: 25.93309211730957.\n",
      "c:\\Users\\jerem\\miniconda3\\Lib\\site-packages\\keras\\src\\layers\\rnn\\rnn.py:199: UserWarning: Do not pass an `input_shape`/`input_dim` argument to a layer. When using Sequential models, prefer using an `Input(shape)` object as the first layer in the model instead.\n",
      "  super().__init__(**kwargs)\n"
     ]
    },
    {
     "name": "stdout",
     "output_type": "stream",
     "text": [
      "\u001b[1m4/4\u001b[0m \u001b[32m━━━━━━━━━━━━━━━━━━━━\u001b[0m\u001b[37m\u001b[0m \u001b[1m1s\u001b[0m 234ms/step\n"
     ]
    },
    {
     "name": "stderr",
     "output_type": "stream",
     "text": [
      "[I 2025-06-12 14:47:13,419] Trial 3 finished with value: 27.000850677490234 and parameters: {'lstm_units': 96, 'lstm_layers': 2, 'dropout_rate': 0.5, 'learning_rate': 0.0030918831787125184, 'batch_size': 32, 'dense_units': 48, 'window_size': 30}. Best is trial 1 with value: 25.93309211730957.\n",
      "c:\\Users\\jerem\\miniconda3\\Lib\\site-packages\\keras\\src\\layers\\rnn\\rnn.py:199: UserWarning: Do not pass an `input_shape`/`input_dim` argument to a layer. When using Sequential models, prefer using an `Input(shape)` object as the first layer in the model instead.\n",
      "  super().__init__(**kwargs)\n"
     ]
    },
    {
     "name": "stdout",
     "output_type": "stream",
     "text": [
      "\u001b[1m8/8\u001b[0m \u001b[32m━━━━━━━━━━━━━━━━━━━━\u001b[0m\u001b[37m\u001b[0m \u001b[1m1s\u001b[0m 43ms/step\n"
     ]
    },
    {
     "name": "stderr",
     "output_type": "stream",
     "text": [
      "[I 2025-06-12 14:47:39,275] Trial 4 finished with value: 29.89290428161621 and parameters: {'lstm_units': 96, 'lstm_layers': 1, 'dropout_rate': 0.1, 'learning_rate': 0.00035653007834718305, 'batch_size': 16, 'dense_units': 96, 'window_size': 10}. Best is trial 1 with value: 25.93309211730957.\n",
      "c:\\Users\\jerem\\miniconda3\\Lib\\site-packages\\keras\\src\\layers\\rnn\\rnn.py:199: UserWarning: Do not pass an `input_shape`/`input_dim` argument to a layer. When using Sequential models, prefer using an `Input(shape)` object as the first layer in the model instead.\n",
      "  super().__init__(**kwargs)\n"
     ]
    },
    {
     "name": "stdout",
     "output_type": "stream",
     "text": [
      "\u001b[1m4/4\u001b[0m \u001b[32m━━━━━━━━━━━━━━━━━━━━\u001b[0m\u001b[37m\u001b[0m \u001b[1m1s\u001b[0m 170ms/step\n"
     ]
    },
    {
     "name": "stderr",
     "output_type": "stream",
     "text": [
      "[I 2025-06-12 14:47:53,048] Trial 5 finished with value: 26.824495315551758 and parameters: {'lstm_units': 64, 'lstm_layers': 2, 'dropout_rate': 0.2, 'learning_rate': 0.004962279547851207, 'batch_size': 32, 'dense_units': 96, 'window_size': 20}. Best is trial 1 with value: 25.93309211730957.\n",
      "c:\\Users\\jerem\\miniconda3\\Lib\\site-packages\\keras\\src\\layers\\rnn\\rnn.py:199: UserWarning: Do not pass an `input_shape`/`input_dim` argument to a layer. When using Sequential models, prefer using an `Input(shape)` object as the first layer in the model instead.\n",
      "  super().__init__(**kwargs)\n"
     ]
    },
    {
     "name": "stdout",
     "output_type": "stream",
     "text": [
      "\u001b[1m4/4\u001b[0m \u001b[32m━━━━━━━━━━━━━━━━━━━━\u001b[0m\u001b[37m\u001b[0m \u001b[1m1s\u001b[0m 248ms/step\n"
     ]
    },
    {
     "name": "stderr",
     "output_type": "stream",
     "text": [
      "[I 2025-06-12 14:49:13,777] Trial 6 finished with value: 26.966629028320312 and parameters: {'lstm_units': 64, 'lstm_layers': 2, 'dropout_rate': 0.0, 'learning_rate': 0.0008317044604735903, 'batch_size': 32, 'dense_units': 96, 'window_size': 60}. Best is trial 1 with value: 25.93309211730957.\n",
      "c:\\Users\\jerem\\miniconda3\\Lib\\site-packages\\keras\\src\\layers\\rnn\\rnn.py:199: UserWarning: Do not pass an `input_shape`/`input_dim` argument to a layer. When using Sequential models, prefer using an `Input(shape)` object as the first layer in the model instead.\n",
      "  super().__init__(**kwargs)\n"
     ]
    },
    {
     "name": "stdout",
     "output_type": "stream",
     "text": [
      "\u001b[1m8/8\u001b[0m \u001b[32m━━━━━━━━━━━━━━━━━━━━\u001b[0m\u001b[37m\u001b[0m \u001b[1m1s\u001b[0m 41ms/step\n"
     ]
    },
    {
     "name": "stderr",
     "output_type": "stream",
     "text": [
      "[I 2025-06-12 14:49:34,305] Trial 7 finished with value: 29.498334884643555 and parameters: {'lstm_units': 64, 'lstm_layers': 1, 'dropout_rate': 0.30000000000000004, 'learning_rate': 0.0005045566227782246, 'batch_size': 16, 'dense_units': 48, 'window_size': 10}. Best is trial 1 with value: 25.93309211730957.\n",
      "c:\\Users\\jerem\\miniconda3\\Lib\\site-packages\\keras\\src\\layers\\rnn\\rnn.py:199: UserWarning: Do not pass an `input_shape`/`input_dim` argument to a layer. When using Sequential models, prefer using an `Input(shape)` object as the first layer in the model instead.\n",
      "  super().__init__(**kwargs)\n"
     ]
    },
    {
     "name": "stdout",
     "output_type": "stream",
     "text": [
      "\u001b[1m4/4\u001b[0m \u001b[32m━━━━━━━━━━━━━━━━━━━━\u001b[0m\u001b[37m\u001b[0m \u001b[1m1s\u001b[0m 165ms/step\n"
     ]
    },
    {
     "name": "stderr",
     "output_type": "stream",
     "text": [
      "[I 2025-06-12 14:51:32,722] Trial 8 finished with value: 26.8856143951416 and parameters: {'lstm_units': 128, 'lstm_layers': 2, 'dropout_rate': 0.4, 'learning_rate': 0.00017086260298497129, 'batch_size': 32, 'dense_units': 80, 'window_size': 40}. Best is trial 1 with value: 25.93309211730957.\n",
      "c:\\Users\\jerem\\miniconda3\\Lib\\site-packages\\keras\\src\\layers\\rnn\\rnn.py:199: UserWarning: Do not pass an `input_shape`/`input_dim` argument to a layer. When using Sequential models, prefer using an `Input(shape)` object as the first layer in the model instead.\n",
      "  super().__init__(**kwargs)\n"
     ]
    },
    {
     "name": "stdout",
     "output_type": "stream",
     "text": [
      "\u001b[1m8/8\u001b[0m \u001b[32m━━━━━━━━━━━━━━━━━━━━\u001b[0m\u001b[37m\u001b[0m \u001b[1m1s\u001b[0m 44ms/step\n"
     ]
    },
    {
     "name": "stderr",
     "output_type": "stream",
     "text": [
      "[I 2025-06-12 14:52:05,929] Trial 9 finished with value: 26.540895462036133 and parameters: {'lstm_units': 32, 'lstm_layers': 1, 'dropout_rate': 0.1, 'learning_rate': 0.00025835564731095136, 'batch_size': 16, 'dense_units': 112, 'window_size': 20}. Best is trial 1 with value: 25.93309211730957.\n",
      "c:\\Users\\jerem\\miniconda3\\Lib\\site-packages\\keras\\src\\layers\\rnn\\rnn.py:199: UserWarning: Do not pass an `input_shape`/`input_dim` argument to a layer. When using Sequential models, prefer using an `Input(shape)` object as the first layer in the model instead.\n",
      "  super().__init__(**kwargs)\n"
     ]
    },
    {
     "name": "stdout",
     "output_type": "stream",
     "text": [
      "\u001b[1m8/8\u001b[0m \u001b[32m━━━━━━━━━━━━━━━━━━━━\u001b[0m\u001b[37m\u001b[0m \u001b[1m1s\u001b[0m 44ms/step\n"
     ]
    },
    {
     "name": "stderr",
     "output_type": "stream",
     "text": [
      "[I 2025-06-12 14:52:53,991] Trial 10 finished with value: 51.85768127441406 and parameters: {'lstm_units': 32, 'lstm_layers': 1, 'dropout_rate': 0.5, 'learning_rate': 0.00010357275736837393, 'batch_size': 16, 'dense_units': 16, 'window_size': 40}. Best is trial 1 with value: 25.93309211730957.\n",
      "c:\\Users\\jerem\\miniconda3\\Lib\\site-packages\\keras\\src\\layers\\rnn\\rnn.py:199: UserWarning: Do not pass an `input_shape`/`input_dim` argument to a layer. When using Sequential models, prefer using an `Input(shape)` object as the first layer in the model instead.\n",
      "  super().__init__(**kwargs)\n"
     ]
    },
    {
     "name": "stdout",
     "output_type": "stream",
     "text": [
      "\u001b[1m8/8\u001b[0m \u001b[32m━━━━━━━━━━━━━━━━━━━━\u001b[0m\u001b[37m\u001b[0m \u001b[1m1s\u001b[0m 45ms/step\n"
     ]
    },
    {
     "name": "stderr",
     "output_type": "stream",
     "text": [
      "[I 2025-06-12 14:54:11,709] Trial 11 finished with value: 31.19123649597168 and parameters: {'lstm_units': 32, 'lstm_layers': 1, 'dropout_rate': 0.30000000000000004, 'learning_rate': 0.00020908649376751766, 'batch_size': 16, 'dense_units': 16, 'window_size': 30}. Best is trial 1 with value: 25.93309211730957.\n",
      "c:\\Users\\jerem\\miniconda3\\Lib\\site-packages\\keras\\src\\layers\\rnn\\rnn.py:199: UserWarning: Do not pass an `input_shape`/`input_dim` argument to a layer. When using Sequential models, prefer using an `Input(shape)` object as the first layer in the model instead.\n",
      "  super().__init__(**kwargs)\n"
     ]
    },
    {
     "name": "stdout",
     "output_type": "stream",
     "text": [
      "\u001b[1m8/8\u001b[0m \u001b[32m━━━━━━━━━━━━━━━━━━━━\u001b[0m\u001b[37m\u001b[0m \u001b[1m1s\u001b[0m 43ms/step\n"
     ]
    },
    {
     "name": "stderr",
     "output_type": "stream",
     "text": [
      "[I 2025-06-12 14:54:49,819] Trial 12 finished with value: 29.0954647064209 and parameters: {'lstm_units': 32, 'lstm_layers': 1, 'dropout_rate': 0.4, 'learning_rate': 0.00024384654056711127, 'batch_size': 16, 'dense_units': 48, 'window_size': 20}. Best is trial 1 with value: 25.93309211730957.\n",
      "c:\\Users\\jerem\\miniconda3\\Lib\\site-packages\\keras\\src\\layers\\rnn\\rnn.py:199: UserWarning: Do not pass an `input_shape`/`input_dim` argument to a layer. When using Sequential models, prefer using an `Input(shape)` object as the first layer in the model instead.\n",
      "  super().__init__(**kwargs)\n"
     ]
    },
    {
     "name": "stdout",
     "output_type": "stream",
     "text": [
      "\u001b[1m8/8\u001b[0m \u001b[32m━━━━━━━━━━━━━━━━━━━━\u001b[0m\u001b[37m\u001b[0m \u001b[1m1s\u001b[0m 44ms/step\n"
     ]
    },
    {
     "name": "stderr",
     "output_type": "stream",
     "text": [
      "[I 2025-06-12 14:55:53,476] Trial 13 finished with value: 46.6636848449707 and parameters: {'lstm_units': 32, 'lstm_layers': 1, 'dropout_rate': 0.2, 'learning_rate': 0.00011481694917962667, 'batch_size': 16, 'dense_units': 64, 'window_size': 50}. Best is trial 1 with value: 25.93309211730957.\n",
      "c:\\Users\\jerem\\miniconda3\\Lib\\site-packages\\keras\\src\\layers\\rnn\\rnn.py:199: UserWarning: Do not pass an `input_shape`/`input_dim` argument to a layer. When using Sequential models, prefer using an `Input(shape)` object as the first layer in the model instead.\n",
      "  super().__init__(**kwargs)\n"
     ]
    },
    {
     "name": "stdout",
     "output_type": "stream",
     "text": [
      "\u001b[1m8/8\u001b[0m \u001b[32m━━━━━━━━━━━━━━━━━━━━\u001b[0m\u001b[37m\u001b[0m \u001b[1m1s\u001b[0m 46ms/step\n"
     ]
    },
    {
     "name": "stderr",
     "output_type": "stream",
     "text": [
      "[I 2025-06-12 14:56:10,191] Trial 14 finished with value: 33.22639846801758 and parameters: {'lstm_units': 96, 'lstm_layers': 1, 'dropout_rate': 0.0, 'learning_rate': 0.001759530588747179, 'batch_size': 16, 'dense_units': 112, 'window_size': 20}. Best is trial 1 with value: 25.93309211730957.\n",
      "c:\\Users\\jerem\\miniconda3\\Lib\\site-packages\\keras\\src\\layers\\rnn\\rnn.py:199: UserWarning: Do not pass an `input_shape`/`input_dim` argument to a layer. When using Sequential models, prefer using an `Input(shape)` object as the first layer in the model instead.\n",
      "  super().__init__(**kwargs)\n"
     ]
    },
    {
     "name": "stdout",
     "output_type": "stream",
     "text": [
      "\u001b[1m8/8\u001b[0m \u001b[32m━━━━━━━━━━━━━━━━━━━━\u001b[0m\u001b[37m\u001b[0m \u001b[1m1s\u001b[0m 45ms/step\n"
     ]
    },
    {
     "name": "stderr",
     "output_type": "stream",
     "text": [
      "[I 2025-06-12 14:57:02,554] Trial 15 finished with value: 26.12738609313965 and parameters: {'lstm_units': 32, 'lstm_layers': 1, 'dropout_rate': 0.4, 'learning_rate': 0.00036048697807225847, 'batch_size': 16, 'dense_units': 32, 'window_size': 30}. Best is trial 1 with value: 25.93309211730957.\n",
      "c:\\Users\\jerem\\miniconda3\\Lib\\site-packages\\keras\\src\\layers\\rnn\\rnn.py:199: UserWarning: Do not pass an `input_shape`/`input_dim` argument to a layer. When using Sequential models, prefer using an `Input(shape)` object as the first layer in the model instead.\n",
      "  super().__init__(**kwargs)\n"
     ]
    },
    {
     "name": "stdout",
     "output_type": "stream",
     "text": [
      "\u001b[1m8/8\u001b[0m \u001b[32m━━━━━━━━━━━━━━━━━━━━\u001b[0m\u001b[37m\u001b[0m \u001b[1m1s\u001b[0m 45ms/step\n"
     ]
    },
    {
     "name": "stderr",
     "output_type": "stream",
     "text": [
      "[I 2025-06-12 14:57:49,332] Trial 16 finished with value: 26.847484588623047 and parameters: {'lstm_units': 64, 'lstm_layers': 1, 'dropout_rate': 0.4, 'learning_rate': 0.00045206397695103873, 'batch_size': 16, 'dense_units': 32, 'window_size': 40}. Best is trial 1 with value: 25.93309211730957.\n",
      "c:\\Users\\jerem\\miniconda3\\Lib\\site-packages\\keras\\src\\layers\\rnn\\rnn.py:199: UserWarning: Do not pass an `input_shape`/`input_dim` argument to a layer. When using Sequential models, prefer using an `Input(shape)` object as the first layer in the model instead.\n",
      "  super().__init__(**kwargs)\n"
     ]
    },
    {
     "name": "stdout",
     "output_type": "stream",
     "text": [
      "\u001b[1m8/8\u001b[0m \u001b[32m━━━━━━━━━━━━━━━━━━━━\u001b[0m\u001b[37m\u001b[0m \u001b[1m1s\u001b[0m 47ms/step\n"
     ]
    },
    {
     "name": "stderr",
     "output_type": "stream",
     "text": [
      "[I 2025-06-12 14:58:06,939] Trial 17 finished with value: 32.598758697509766 and parameters: {'lstm_units': 32, 'lstm_layers': 1, 'dropout_rate': 0.5, 'learning_rate': 0.00821941148091991, 'batch_size': 16, 'dense_units': 32, 'window_size': 30}. Best is trial 1 with value: 25.93309211730957.\n",
      "c:\\Users\\jerem\\miniconda3\\Lib\\site-packages\\keras\\src\\layers\\rnn\\rnn.py:199: UserWarning: Do not pass an `input_shape`/`input_dim` argument to a layer. When using Sequential models, prefer using an `Input(shape)` object as the first layer in the model instead.\n",
      "  super().__init__(**kwargs)\n"
     ]
    },
    {
     "name": "stdout",
     "output_type": "stream",
     "text": [
      "\u001b[1m4/4\u001b[0m \u001b[32m━━━━━━━━━━━━━━━━━━━━\u001b[0m\u001b[37m\u001b[0m \u001b[1m1s\u001b[0m 103ms/step\n"
     ]
    },
    {
     "name": "stderr",
     "output_type": "stream",
     "text": [
      "[I 2025-06-12 14:59:02,820] Trial 18 finished with value: 32.815162658691406 and parameters: {'lstm_units': 64, 'lstm_layers': 1, 'dropout_rate': 0.4, 'learning_rate': 0.0001595713393809281, 'batch_size': 32, 'dense_units': 32, 'window_size': 50}. Best is trial 1 with value: 25.93309211730957.\n",
      "c:\\Users\\jerem\\miniconda3\\Lib\\site-packages\\keras\\src\\layers\\rnn\\rnn.py:199: UserWarning: Do not pass an `input_shape`/`input_dim` argument to a layer. When using Sequential models, prefer using an `Input(shape)` object as the first layer in the model instead.\n",
      "  super().__init__(**kwargs)\n"
     ]
    },
    {
     "name": "stdout",
     "output_type": "stream",
     "text": [
      "\u001b[1m8/8\u001b[0m \u001b[32m━━━━━━━━━━━━━━━━━━━━\u001b[0m\u001b[37m\u001b[0m \u001b[1m1s\u001b[0m 63ms/step\n"
     ]
    },
    {
     "name": "stderr",
     "output_type": "stream",
     "text": [
      "[I 2025-06-12 15:00:02,452] Trial 19 finished with value: 31.01322364807129 and parameters: {'lstm_units': 96, 'lstm_layers': 1, 'dropout_rate': 0.30000000000000004, 'learning_rate': 0.000363931377924133, 'batch_size': 16, 'dense_units': 64, 'window_size': 30}. Best is trial 1 with value: 25.93309211730957.\n",
      "c:\\Users\\jerem\\miniconda3\\Lib\\site-packages\\keras\\src\\layers\\rnn\\rnn.py:199: UserWarning: Do not pass an `input_shape`/`input_dim` argument to a layer. When using Sequential models, prefer using an `Input(shape)` object as the first layer in the model instead.\n",
      "  super().__init__(**kwargs)\n"
     ]
    },
    {
     "name": "stdout",
     "output_type": "stream",
     "text": [
      "\u001b[1m8/8\u001b[0m \u001b[32m━━━━━━━━━━━━━━━━━━━━\u001b[0m\u001b[37m\u001b[0m \u001b[1m1s\u001b[0m 71ms/step\n"
     ]
    },
    {
     "name": "stderr",
     "output_type": "stream",
     "text": [
      "[I 2025-06-12 15:00:46,534] Trial 20 finished with value: 30.263259887695312 and parameters: {'lstm_units': 32, 'lstm_layers': 1, 'dropout_rate': 0.4, 'learning_rate': 0.0020288556343216646, 'batch_size': 16, 'dense_units': 16, 'window_size': 50}. Best is trial 1 with value: 25.93309211730957.\n",
      "c:\\Users\\jerem\\miniconda3\\Lib\\site-packages\\keras\\src\\layers\\rnn\\rnn.py:199: UserWarning: Do not pass an `input_shape`/`input_dim` argument to a layer. When using Sequential models, prefer using an `Input(shape)` object as the first layer in the model instead.\n",
      "  super().__init__(**kwargs)\n"
     ]
    },
    {
     "name": "stdout",
     "output_type": "stream",
     "text": [
      "\u001b[1m8/8\u001b[0m \u001b[32m━━━━━━━━━━━━━━━━━━━━\u001b[0m\u001b[37m\u001b[0m \u001b[1m1s\u001b[0m 41ms/step\n"
     ]
    },
    {
     "name": "stderr",
     "output_type": "stream",
     "text": [
      "[I 2025-06-12 15:01:25,249] Trial 21 finished with value: 26.662185668945312 and parameters: {'lstm_units': 32, 'lstm_layers': 1, 'dropout_rate': 0.2, 'learning_rate': 0.0002939056059679923, 'batch_size': 16, 'dense_units': 80, 'window_size': 20}. Best is trial 1 with value: 25.93309211730957.\n",
      "c:\\Users\\jerem\\miniconda3\\Lib\\site-packages\\keras\\src\\layers\\rnn\\rnn.py:199: UserWarning: Do not pass an `input_shape`/`input_dim` argument to a layer. When using Sequential models, prefer using an `Input(shape)` object as the first layer in the model instead.\n",
      "  super().__init__(**kwargs)\n"
     ]
    },
    {
     "name": "stdout",
     "output_type": "stream",
     "text": [
      "\u001b[1m8/8\u001b[0m \u001b[32m━━━━━━━━━━━━━━━━━━━━\u001b[0m\u001b[37m\u001b[0m \u001b[1m1s\u001b[0m 46ms/step\n"
     ]
    },
    {
     "name": "stderr",
     "output_type": "stream",
     "text": [
      "[I 2025-06-12 15:02:01,130] Trial 22 finished with value: 30.5297794342041 and parameters: {'lstm_units': 32, 'lstm_layers': 1, 'dropout_rate': 0.30000000000000004, 'learning_rate': 0.0006029068112296002, 'batch_size': 16, 'dense_units': 112, 'window_size': 20}. Best is trial 1 with value: 25.93309211730957.\n",
      "c:\\Users\\jerem\\miniconda3\\Lib\\site-packages\\keras\\src\\layers\\rnn\\rnn.py:199: UserWarning: Do not pass an `input_shape`/`input_dim` argument to a layer. When using Sequential models, prefer using an `Input(shape)` object as the first layer in the model instead.\n",
      "  super().__init__(**kwargs)\n"
     ]
    },
    {
     "name": "stdout",
     "output_type": "stream",
     "text": [
      "\u001b[1m8/8\u001b[0m \u001b[32m━━━━━━━━━━━━━━━━━━━━\u001b[0m\u001b[37m\u001b[0m \u001b[1m1s\u001b[0m 43ms/step\n"
     ]
    },
    {
     "name": "stderr",
     "output_type": "stream",
     "text": [
      "[I 2025-06-12 15:02:58,101] Trial 23 finished with value: 25.870027542114258 and parameters: {'lstm_units': 64, 'lstm_layers': 1, 'dropout_rate': 0.5, 'learning_rate': 0.0001611230680222942, 'batch_size': 16, 'dense_units': 32, 'window_size': 30}. Best is trial 23 with value: 25.870027542114258.\n",
      "c:\\Users\\jerem\\miniconda3\\Lib\\site-packages\\keras\\src\\layers\\rnn\\rnn.py:199: UserWarning: Do not pass an `input_shape`/`input_dim` argument to a layer. When using Sequential models, prefer using an `Input(shape)` object as the first layer in the model instead.\n",
      "  super().__init__(**kwargs)\n"
     ]
    },
    {
     "name": "stdout",
     "output_type": "stream",
     "text": [
      "\u001b[1m8/8\u001b[0m \u001b[32m━━━━━━━━━━━━━━━━━━━━\u001b[0m\u001b[37m\u001b[0m \u001b[1m1s\u001b[0m 44ms/step\n"
     ]
    },
    {
     "name": "stderr",
     "output_type": "stream",
     "text": [
      "[I 2025-06-12 15:03:50,000] Trial 24 finished with value: 26.100631713867188 and parameters: {'lstm_units': 64, 'lstm_layers': 1, 'dropout_rate': 0.5, 'learning_rate': 0.00014460106612470785, 'batch_size': 16, 'dense_units': 32, 'window_size': 30}. Best is trial 23 with value: 25.870027542114258.\n",
      "c:\\Users\\jerem\\miniconda3\\Lib\\site-packages\\keras\\src\\layers\\rnn\\rnn.py:199: UserWarning: Do not pass an `input_shape`/`input_dim` argument to a layer. When using Sequential models, prefer using an `Input(shape)` object as the first layer in the model instead.\n",
      "  super().__init__(**kwargs)\n"
     ]
    },
    {
     "name": "stdout",
     "output_type": "stream",
     "text": [
      "\u001b[1m8/8\u001b[0m \u001b[32m━━━━━━━━━━━━━━━━━━━━\u001b[0m\u001b[37m\u001b[0m \u001b[1m1s\u001b[0m 59ms/step\n"
     ]
    },
    {
     "name": "stderr",
     "output_type": "stream",
     "text": [
      "[I 2025-06-12 15:05:08,311] Trial 25 finished with value: 26.22661590576172 and parameters: {'lstm_units': 64, 'lstm_layers': 1, 'dropout_rate': 0.5, 'learning_rate': 0.00012219374579103644, 'batch_size': 16, 'dense_units': 48, 'window_size': 40}. Best is trial 23 with value: 25.870027542114258.\n",
      "c:\\Users\\jerem\\miniconda3\\Lib\\site-packages\\keras\\src\\layers\\rnn\\rnn.py:199: UserWarning: Do not pass an `input_shape`/`input_dim` argument to a layer. When using Sequential models, prefer using an `Input(shape)` object as the first layer in the model instead.\n",
      "  super().__init__(**kwargs)\n"
     ]
    },
    {
     "name": "stdout",
     "output_type": "stream",
     "text": [
      "\u001b[1m4/4\u001b[0m \u001b[32m━━━━━━━━━━━━━━━━━━━━\u001b[0m\u001b[37m\u001b[0m \u001b[1m1s\u001b[0m 108ms/step\n"
     ]
    },
    {
     "name": "stderr",
     "output_type": "stream",
     "text": [
      "[I 2025-06-12 15:05:44,031] Trial 26 finished with value: 30.610668182373047 and parameters: {'lstm_units': 64, 'lstm_layers': 1, 'dropout_rate': 0.5, 'learning_rate': 0.00017739812978951933, 'batch_size': 32, 'dense_units': 16, 'window_size': 30}. Best is trial 23 with value: 25.870027542114258.\n",
      "c:\\Users\\jerem\\miniconda3\\Lib\\site-packages\\keras\\src\\layers\\rnn\\rnn.py:199: UserWarning: Do not pass an `input_shape`/`input_dim` argument to a layer. When using Sequential models, prefer using an `Input(shape)` object as the first layer in the model instead.\n",
      "  super().__init__(**kwargs)\n"
     ]
    },
    {
     "name": "stdout",
     "output_type": "stream",
     "text": [
      "\u001b[1m8/8\u001b[0m \u001b[32m━━━━━━━━━━━━━━━━━━━━\u001b[0m\u001b[37m\u001b[0m \u001b[1m1s\u001b[0m 43ms/step\n"
     ]
    },
    {
     "name": "stderr",
     "output_type": "stream",
     "text": [
      "[I 2025-06-12 15:06:58,219] Trial 27 finished with value: 28.33087730407715 and parameters: {'lstm_units': 96, 'lstm_layers': 1, 'dropout_rate': 0.5, 'learning_rate': 0.00014252115272870132, 'batch_size': 16, 'dense_units': 32, 'window_size': 40}. Best is trial 23 with value: 25.870027542114258.\n",
      "c:\\Users\\jerem\\miniconda3\\Lib\\site-packages\\keras\\src\\layers\\rnn\\rnn.py:199: UserWarning: Do not pass an `input_shape`/`input_dim` argument to a layer. When using Sequential models, prefer using an `Input(shape)` object as the first layer in the model instead.\n",
      "  super().__init__(**kwargs)\n"
     ]
    },
    {
     "name": "stdout",
     "output_type": "stream",
     "text": [
      "\u001b[1m8/8\u001b[0m \u001b[32m━━━━━━━━━━━━━━━━━━━━\u001b[0m\u001b[37m\u001b[0m \u001b[1m1s\u001b[0m 47ms/step\n"
     ]
    },
    {
     "name": "stderr",
     "output_type": "stream",
     "text": [
      "[I 2025-06-12 15:07:51,067] Trial 28 finished with value: 26.50516700744629 and parameters: {'lstm_units': 64, 'lstm_layers': 1, 'dropout_rate': 0.5, 'learning_rate': 0.00020755838853839663, 'batch_size': 16, 'dense_units': 64, 'window_size': 30}. Best is trial 23 with value: 25.870027542114258.\n",
      "c:\\Users\\jerem\\miniconda3\\Lib\\site-packages\\keras\\src\\layers\\rnn\\rnn.py:199: UserWarning: Do not pass an `input_shape`/`input_dim` argument to a layer. When using Sequential models, prefer using an `Input(shape)` object as the first layer in the model instead.\n",
      "  super().__init__(**kwargs)\n"
     ]
    },
    {
     "name": "stdout",
     "output_type": "stream",
     "text": [
      "\u001b[1m8/8\u001b[0m \u001b[32m━━━━━━━━━━━━━━━━━━━━\u001b[0m\u001b[37m\u001b[0m \u001b[1m1s\u001b[0m 112ms/step\n"
     ]
    },
    {
     "name": "stderr",
     "output_type": "stream",
     "text": [
      "[I 2025-06-12 15:08:39,858] Trial 29 finished with value: 26.891437530517578 and parameters: {'lstm_units': 64, 'lstm_layers': 2, 'dropout_rate': 0.4, 'learning_rate': 0.0009889795031390886, 'batch_size': 16, 'dense_units': 48, 'window_size': 40}. Best is trial 23 with value: 25.870027542114258.\n",
      "c:\\Users\\jerem\\miniconda3\\Lib\\site-packages\\keras\\src\\layers\\rnn\\rnn.py:199: UserWarning: Do not pass an `input_shape`/`input_dim` argument to a layer. When using Sequential models, prefer using an `Input(shape)` object as the first layer in the model instead.\n",
      "  super().__init__(**kwargs)\n"
     ]
    },
    {
     "name": "stdout",
     "output_type": "stream",
     "text": [
      "\u001b[1m8/8\u001b[0m \u001b[32m━━━━━━━━━━━━━━━━━━━━\u001b[0m\u001b[37m\u001b[0m \u001b[1m1s\u001b[0m 48ms/step\n"
     ]
    },
    {
     "name": "stderr",
     "output_type": "stream",
     "text": [
      "[I 2025-06-12 15:10:15,248] Trial 30 finished with value: 25.903488159179688 and parameters: {'lstm_units': 96, 'lstm_layers': 1, 'dropout_rate': 0.5, 'learning_rate': 0.00010138727427329954, 'batch_size': 16, 'dense_units': 32, 'window_size': 50}. Best is trial 23 with value: 25.870027542114258.\n",
      "c:\\Users\\jerem\\miniconda3\\Lib\\site-packages\\keras\\src\\layers\\rnn\\rnn.py:199: UserWarning: Do not pass an `input_shape`/`input_dim` argument to a layer. When using Sequential models, prefer using an `Input(shape)` object as the first layer in the model instead.\n",
      "  super().__init__(**kwargs)\n"
     ]
    },
    {
     "name": "stdout",
     "output_type": "stream",
     "text": [
      "\u001b[1m8/8\u001b[0m \u001b[32m━━━━━━━━━━━━━━━━━━━━\u001b[0m\u001b[37m\u001b[0m \u001b[1m1s\u001b[0m 48ms/step\n"
     ]
    },
    {
     "name": "stderr",
     "output_type": "stream",
     "text": [
      "[I 2025-06-12 15:11:38,911] Trial 31 finished with value: 25.887893676757812 and parameters: {'lstm_units': 96, 'lstm_layers': 1, 'dropout_rate': 0.5, 'learning_rate': 0.0001013994167192159, 'batch_size': 16, 'dense_units': 32, 'window_size': 50}. Best is trial 23 with value: 25.870027542114258.\n",
      "c:\\Users\\jerem\\miniconda3\\Lib\\site-packages\\keras\\src\\layers\\rnn\\rnn.py:199: UserWarning: Do not pass an `input_shape`/`input_dim` argument to a layer. When using Sequential models, prefer using an `Input(shape)` object as the first layer in the model instead.\n",
      "  super().__init__(**kwargs)\n"
     ]
    },
    {
     "name": "stdout",
     "output_type": "stream",
     "text": [
      "\u001b[1m8/8\u001b[0m \u001b[32m━━━━━━━━━━━━━━━━━━━━\u001b[0m\u001b[37m\u001b[0m \u001b[1m1s\u001b[0m 76ms/step\n"
     ]
    },
    {
     "name": "stderr",
     "output_type": "stream",
     "text": [
      "[I 2025-06-12 15:14:12,390] Trial 32 finished with value: 25.923734664916992 and parameters: {'lstm_units': 128, 'lstm_layers': 1, 'dropout_rate': 0.5, 'learning_rate': 0.00010425898417119177, 'batch_size': 16, 'dense_units': 16, 'window_size': 60}. Best is trial 23 with value: 25.870027542114258.\n",
      "c:\\Users\\jerem\\miniconda3\\Lib\\site-packages\\keras\\src\\layers\\rnn\\rnn.py:199: UserWarning: Do not pass an `input_shape`/`input_dim` argument to a layer. When using Sequential models, prefer using an `Input(shape)` object as the first layer in the model instead.\n",
      "  super().__init__(**kwargs)\n"
     ]
    },
    {
     "name": "stdout",
     "output_type": "stream",
     "text": [
      "\u001b[1m8/8\u001b[0m \u001b[32m━━━━━━━━━━━━━━━━━━━━\u001b[0m\u001b[37m\u001b[0m \u001b[1m1s\u001b[0m 57ms/step\n"
     ]
    },
    {
     "name": "stderr",
     "output_type": "stream",
     "text": [
      "[I 2025-06-12 15:16:25,251] Trial 33 finished with value: 27.00707244873047 and parameters: {'lstm_units': 128, 'lstm_layers': 1, 'dropout_rate': 0.5, 'learning_rate': 0.00010606709729416484, 'batch_size': 16, 'dense_units': 16, 'window_size': 60}. Best is trial 23 with value: 25.870027542114258.\n",
      "c:\\Users\\jerem\\miniconda3\\Lib\\site-packages\\keras\\src\\layers\\rnn\\rnn.py:199: UserWarning: Do not pass an `input_shape`/`input_dim` argument to a layer. When using Sequential models, prefer using an `Input(shape)` object as the first layer in the model instead.\n",
      "  super().__init__(**kwargs)\n"
     ]
    },
    {
     "name": "stdout",
     "output_type": "stream",
     "text": [
      "\u001b[1m8/8\u001b[0m \u001b[32m━━━━━━━━━━━━━━━━━━━━\u001b[0m\u001b[37m\u001b[0m \u001b[1m1s\u001b[0m 49ms/step\n"
     ]
    },
    {
     "name": "stderr",
     "output_type": "stream",
     "text": [
      "[I 2025-06-12 15:17:54,302] Trial 34 finished with value: 25.900402069091797 and parameters: {'lstm_units': 128, 'lstm_layers': 1, 'dropout_rate': 0.5, 'learning_rate': 0.0001121920437341965, 'batch_size': 16, 'dense_units': 16, 'window_size': 50}. Best is trial 23 with value: 25.870027542114258.\n",
      "c:\\Users\\jerem\\miniconda3\\Lib\\site-packages\\keras\\src\\layers\\rnn\\rnn.py:199: UserWarning: Do not pass an `input_shape`/`input_dim` argument to a layer. When using Sequential models, prefer using an `Input(shape)` object as the first layer in the model instead.\n",
      "  super().__init__(**kwargs)\n"
     ]
    },
    {
     "name": "stdout",
     "output_type": "stream",
     "text": [
      "\u001b[1m8/8\u001b[0m \u001b[32m━━━━━━━━━━━━━━━━━━━━\u001b[0m\u001b[37m\u001b[0m \u001b[1m1s\u001b[0m 50ms/step\n"
     ]
    },
    {
     "name": "stderr",
     "output_type": "stream",
     "text": [
      "[I 2025-06-12 15:19:18,931] Trial 35 finished with value: 28.819522857666016 and parameters: {'lstm_units': 96, 'lstm_layers': 1, 'dropout_rate': 0.5, 'learning_rate': 0.00019736973692345683, 'batch_size': 16, 'dense_units': 48, 'window_size': 50}. Best is trial 23 with value: 25.870027542114258.\n",
      "c:\\Users\\jerem\\miniconda3\\Lib\\site-packages\\keras\\src\\layers\\rnn\\rnn.py:199: UserWarning: Do not pass an `input_shape`/`input_dim` argument to a layer. When using Sequential models, prefer using an `Input(shape)` object as the first layer in the model instead.\n",
      "  super().__init__(**kwargs)\n"
     ]
    },
    {
     "name": "stdout",
     "output_type": "stream",
     "text": [
      "\u001b[1m8/8\u001b[0m \u001b[32m━━━━━━━━━━━━━━━━━━━━\u001b[0m\u001b[37m\u001b[0m \u001b[1m1s\u001b[0m 123ms/step\n"
     ]
    },
    {
     "name": "stderr",
     "output_type": "stream",
     "text": [
      "[I 2025-06-12 15:23:14,243] Trial 36 finished with value: 27.06698226928711 and parameters: {'lstm_units': 128, 'lstm_layers': 2, 'dropout_rate': 0.5, 'learning_rate': 0.00012837194004378027, 'batch_size': 16, 'dense_units': 16, 'window_size': 50}. Best is trial 23 with value: 25.870027542114258.\n",
      "c:\\Users\\jerem\\miniconda3\\Lib\\site-packages\\keras\\src\\layers\\rnn\\rnn.py:199: UserWarning: Do not pass an `input_shape`/`input_dim` argument to a layer. When using Sequential models, prefer using an `Input(shape)` object as the first layer in the model instead.\n",
      "  super().__init__(**kwargs)\n"
     ]
    },
    {
     "name": "stdout",
     "output_type": "stream",
     "text": [
      "\u001b[1m4/4\u001b[0m \u001b[32m━━━━━━━━━━━━━━━━━━━━\u001b[0m\u001b[37m\u001b[0m \u001b[1m1s\u001b[0m 128ms/step\n"
     ]
    },
    {
     "name": "stderr",
     "output_type": "stream",
     "text": [
      "[I 2025-06-12 15:24:16,415] Trial 37 finished with value: 26.42571258544922 and parameters: {'lstm_units': 96, 'lstm_layers': 1, 'dropout_rate': 0.4, 'learning_rate': 0.00027826771468233904, 'batch_size': 32, 'dense_units': 32, 'window_size': 50}. Best is trial 23 with value: 25.870027542114258.\n",
      "c:\\Users\\jerem\\miniconda3\\Lib\\site-packages\\keras\\src\\layers\\rnn\\rnn.py:199: UserWarning: Do not pass an `input_shape`/`input_dim` argument to a layer. When using Sequential models, prefer using an `Input(shape)` object as the first layer in the model instead.\n",
      "  super().__init__(**kwargs)\n"
     ]
    },
    {
     "name": "stdout",
     "output_type": "stream",
     "text": [
      "\u001b[1m8/8\u001b[0m \u001b[32m━━━━━━━━━━━━━━━━━━━━\u001b[0m\u001b[37m\u001b[0m \u001b[1m1s\u001b[0m 55ms/step\n"
     ]
    },
    {
     "name": "stderr",
     "output_type": "stream",
     "text": [
      "[I 2025-06-12 15:26:21,318] Trial 38 finished with value: 27.659156799316406 and parameters: {'lstm_units': 128, 'lstm_layers': 1, 'dropout_rate': 0.4, 'learning_rate': 0.00015126397053626017, 'batch_size': 16, 'dense_units': 48, 'window_size': 60}. Best is trial 23 with value: 25.870027542114258.\n",
      "c:\\Users\\jerem\\miniconda3\\Lib\\site-packages\\keras\\src\\layers\\rnn\\rnn.py:199: UserWarning: Do not pass an `input_shape`/`input_dim` argument to a layer. When using Sequential models, prefer using an `Input(shape)` object as the first layer in the model instead.\n",
      "  super().__init__(**kwargs)\n"
     ]
    },
    {
     "name": "stdout",
     "output_type": "stream",
     "text": [
      "\u001b[1m4/4\u001b[0m \u001b[32m━━━━━━━━━━━━━━━━━━━━\u001b[0m\u001b[37m\u001b[0m \u001b[1m1s\u001b[0m 182ms/step\n"
     ]
    },
    {
     "name": "stderr",
     "output_type": "stream",
     "text": [
      "[I 2025-06-12 15:28:24,285] Trial 39 finished with value: 32.8226203918457 and parameters: {'lstm_units': 96, 'lstm_layers': 2, 'dropout_rate': 0.5, 'learning_rate': 0.00010108154820192571, 'batch_size': 32, 'dense_units': 32, 'window_size': 50}. Best is trial 23 with value: 25.870027542114258.\n",
      "c:\\Users\\jerem\\miniconda3\\Lib\\site-packages\\keras\\src\\layers\\rnn\\rnn.py:199: UserWarning: Do not pass an `input_shape`/`input_dim` argument to a layer. When using Sequential models, prefer using an `Input(shape)` object as the first layer in the model instead.\n",
      "  super().__init__(**kwargs)\n"
     ]
    },
    {
     "name": "stdout",
     "output_type": "stream",
     "text": [
      "\u001b[1m8/8\u001b[0m \u001b[32m━━━━━━━━━━━━━━━━━━━━\u001b[0m\u001b[37m\u001b[0m \u001b[1m1s\u001b[0m 49ms/step\n"
     ]
    },
    {
     "name": "stderr",
     "output_type": "stream",
     "text": [
      "[I 2025-06-12 15:29:56,510] Trial 40 finished with value: 29.531373977661133 and parameters: {'lstm_units': 96, 'lstm_layers': 1, 'dropout_rate': 0.30000000000000004, 'learning_rate': 0.00021807961238766774, 'batch_size': 16, 'dense_units': 16, 'window_size': 60}. Best is trial 23 with value: 25.870027542114258.\n",
      "c:\\Users\\jerem\\miniconda3\\Lib\\site-packages\\keras\\src\\layers\\rnn\\rnn.py:199: UserWarning: Do not pass an `input_shape`/`input_dim` argument to a layer. When using Sequential models, prefer using an `Input(shape)` object as the first layer in the model instead.\n",
      "  super().__init__(**kwargs)\n"
     ]
    },
    {
     "name": "stdout",
     "output_type": "stream",
     "text": [
      "\u001b[1m8/8\u001b[0m \u001b[32m━━━━━━━━━━━━━━━━━━━━\u001b[0m\u001b[37m\u001b[0m \u001b[1m1s\u001b[0m 89ms/step\n"
     ]
    },
    {
     "name": "stderr",
     "output_type": "stream",
     "text": [
      "[I 2025-06-12 15:31:45,562] Trial 41 finished with value: 25.933929443359375 and parameters: {'lstm_units': 128, 'lstm_layers': 1, 'dropout_rate': 0.5, 'learning_rate': 0.0001307791250637847, 'batch_size': 16, 'dense_units': 16, 'window_size': 60}. Best is trial 23 with value: 25.870027542114258.\n",
      "c:\\Users\\jerem\\miniconda3\\Lib\\site-packages\\keras\\src\\layers\\rnn\\rnn.py:199: UserWarning: Do not pass an `input_shape`/`input_dim` argument to a layer. When using Sequential models, prefer using an `Input(shape)` object as the first layer in the model instead.\n",
      "  super().__init__(**kwargs)\n"
     ]
    },
    {
     "name": "stdout",
     "output_type": "stream",
     "text": [
      "\u001b[1m8/8\u001b[0m \u001b[32m━━━━━━━━━━━━━━━━━━━━\u001b[0m\u001b[37m\u001b[0m \u001b[1m1s\u001b[0m 57ms/step\n"
     ]
    },
    {
     "name": "stderr",
     "output_type": "stream",
     "text": [
      "[I 2025-06-12 15:33:52,991] Trial 42 finished with value: 30.36562728881836 and parameters: {'lstm_units': 128, 'lstm_layers': 1, 'dropout_rate': 0.5, 'learning_rate': 0.0001677892598204509, 'batch_size': 16, 'dense_units': 32, 'window_size': 60}. Best is trial 23 with value: 25.870027542114258.\n",
      "c:\\Users\\jerem\\miniconda3\\Lib\\site-packages\\keras\\src\\layers\\rnn\\rnn.py:199: UserWarning: Do not pass an `input_shape`/`input_dim` argument to a layer. When using Sequential models, prefer using an `Input(shape)` object as the first layer in the model instead.\n",
      "  super().__init__(**kwargs)\n"
     ]
    },
    {
     "name": "stdout",
     "output_type": "stream",
     "text": [
      "\u001b[1m8/8\u001b[0m \u001b[32m━━━━━━━━━━━━━━━━━━━━\u001b[0m\u001b[37m\u001b[0m \u001b[1m1s\u001b[0m 84ms/step\n"
     ]
    },
    {
     "name": "stderr",
     "output_type": "stream",
     "text": [
      "[I 2025-06-12 15:36:04,041] Trial 43 finished with value: 26.363861083984375 and parameters: {'lstm_units': 128, 'lstm_layers': 1, 'dropout_rate': 0.5, 'learning_rate': 0.00010342476046044542, 'batch_size': 16, 'dense_units': 16, 'window_size': 50}. Best is trial 23 with value: 25.870027542114258.\n",
      "c:\\Users\\jerem\\miniconda3\\Lib\\site-packages\\keras\\src\\layers\\rnn\\rnn.py:199: UserWarning: Do not pass an `input_shape`/`input_dim` argument to a layer. When using Sequential models, prefer using an `Input(shape)` object as the first layer in the model instead.\n",
      "  super().__init__(**kwargs)\n"
     ]
    },
    {
     "name": "stdout",
     "output_type": "stream",
     "text": [
      "\u001b[1m8/8\u001b[0m \u001b[32m━━━━━━━━━━━━━━━━━━━━\u001b[0m\u001b[37m\u001b[0m \u001b[1m1s\u001b[0m 63ms/step\n"
     ]
    },
    {
     "name": "stderr",
     "output_type": "stream",
     "text": [
      "[I 2025-06-12 15:37:43,186] Trial 44 finished with value: 26.061758041381836 and parameters: {'lstm_units': 128, 'lstm_layers': 1, 'dropout_rate': 0.4, 'learning_rate': 0.0001406015380378094, 'batch_size': 16, 'dense_units': 16, 'window_size': 60}. Best is trial 23 with value: 25.870027542114258.\n",
      "c:\\Users\\jerem\\miniconda3\\Lib\\site-packages\\keras\\src\\layers\\rnn\\rnn.py:199: UserWarning: Do not pass an `input_shape`/`input_dim` argument to a layer. When using Sequential models, prefer using an `Input(shape)` object as the first layer in the model instead.\n",
      "  super().__init__(**kwargs)\n"
     ]
    },
    {
     "name": "stdout",
     "output_type": "stream",
     "text": [
      "\u001b[1m8/8\u001b[0m \u001b[32m━━━━━━━━━━━━━━━━━━━━\u001b[0m\u001b[37m\u001b[0m \u001b[1m1s\u001b[0m 56ms/step\n"
     ]
    },
    {
     "name": "stderr",
     "output_type": "stream",
     "text": [
      "[I 2025-06-12 15:38:53,848] Trial 45 finished with value: 26.670509338378906 and parameters: {'lstm_units': 96, 'lstm_layers': 1, 'dropout_rate': 0.5, 'learning_rate': 0.0001012743796183567, 'batch_size': 16, 'dense_units': 32, 'window_size': 40}. Best is trial 23 with value: 25.870027542114258.\n",
      "c:\\Users\\jerem\\miniconda3\\Lib\\site-packages\\keras\\src\\layers\\rnn\\rnn.py:199: UserWarning: Do not pass an `input_shape`/`input_dim` argument to a layer. When using Sequential models, prefer using an `Input(shape)` object as the first layer in the model instead.\n",
      "  super().__init__(**kwargs)\n"
     ]
    },
    {
     "name": "stdout",
     "output_type": "stream",
     "text": [
      "\u001b[1m8/8\u001b[0m \u001b[32m━━━━━━━━━━━━━━━━━━━━\u001b[0m\u001b[37m\u001b[0m \u001b[1m1s\u001b[0m 51ms/step\n"
     ]
    },
    {
     "name": "stderr",
     "output_type": "stream",
     "text": [
      "[I 2025-06-12 15:39:52,678] Trial 46 finished with value: 26.033950805664062 and parameters: {'lstm_units': 128, 'lstm_layers': 1, 'dropout_rate': 0.4, 'learning_rate': 0.00017676361806018078, 'batch_size': 16, 'dense_units': 16, 'window_size': 50}. Best is trial 23 with value: 25.870027542114258.\n",
      "c:\\Users\\jerem\\miniconda3\\Lib\\site-packages\\keras\\src\\layers\\rnn\\rnn.py:199: UserWarning: Do not pass an `input_shape`/`input_dim` argument to a layer. When using Sequential models, prefer using an `Input(shape)` object as the first layer in the model instead.\n",
      "  super().__init__(**kwargs)\n"
     ]
    },
    {
     "name": "stdout",
     "output_type": "stream",
     "text": [
      "\u001b[1m4/4\u001b[0m \u001b[32m━━━━━━━━━━━━━━━━━━━━\u001b[0m\u001b[37m\u001b[0m \u001b[1m1s\u001b[0m 114ms/step\n"
     ]
    },
    {
     "name": "stderr",
     "output_type": "stream",
     "text": [
      "[I 2025-06-12 15:40:17,844] Trial 47 finished with value: 30.79192352294922 and parameters: {'lstm_units': 96, 'lstm_layers': 1, 'dropout_rate': 0.5, 'learning_rate': 0.0034727928624356283, 'batch_size': 32, 'dense_units': 48, 'window_size': 60}. Best is trial 23 with value: 25.870027542114258.\n",
      "c:\\Users\\jerem\\miniconda3\\Lib\\site-packages\\keras\\src\\layers\\rnn\\rnn.py:199: UserWarning: Do not pass an `input_shape`/`input_dim` argument to a layer. When using Sequential models, prefer using an `Input(shape)` object as the first layer in the model instead.\n",
      "  super().__init__(**kwargs)\n"
     ]
    },
    {
     "name": "stdout",
     "output_type": "stream",
     "text": [
      "\u001b[1m8/8\u001b[0m \u001b[32m━━━━━━━━━━━━━━━━━━━━\u001b[0m\u001b[37m\u001b[0m \u001b[1m1s\u001b[0m 45ms/step\n"
     ]
    },
    {
     "name": "stderr",
     "output_type": "stream",
     "text": [
      "[I 2025-06-12 15:41:33,377] Trial 48 finished with value: 29.007980346679688 and parameters: {'lstm_units': 96, 'lstm_layers': 1, 'dropout_rate': 0.5, 'learning_rate': 0.00023489250427490455, 'batch_size': 16, 'dense_units': 32, 'window_size': 50}. Best is trial 23 with value: 25.870027542114258.\n",
      "c:\\Users\\jerem\\miniconda3\\Lib\\site-packages\\keras\\src\\layers\\rnn\\rnn.py:199: UserWarning: Do not pass an `input_shape`/`input_dim` argument to a layer. When using Sequential models, prefer using an `Input(shape)` object as the first layer in the model instead.\n",
      "  super().__init__(**kwargs)\n"
     ]
    },
    {
     "name": "stdout",
     "output_type": "stream",
     "text": [
      "\u001b[1m8/8\u001b[0m \u001b[32m━━━━━━━━━━━━━━━━━━━━\u001b[0m\u001b[37m\u001b[0m \u001b[1m1s\u001b[0m 73ms/step\n"
     ]
    },
    {
     "name": "stderr",
     "output_type": "stream",
     "text": [
      "[I 2025-06-12 15:43:08,809] Trial 49 finished with value: 27.5511531829834 and parameters: {'lstm_units': 128, 'lstm_layers': 1, 'dropout_rate': 0.0, 'learning_rate': 0.0001251060530168374, 'batch_size': 16, 'dense_units': 16, 'window_size': 40}. Best is trial 23 with value: 25.870027542114258.\n",
      "c:\\Users\\jerem\\miniconda3\\Lib\\site-packages\\keras\\src\\layers\\rnn\\rnn.py:199: UserWarning: Do not pass an `input_shape`/`input_dim` argument to a layer. When using Sequential models, prefer using an `Input(shape)` object as the first layer in the model instead.\n",
      "  super().__init__(**kwargs)\n"
     ]
    },
    {
     "name": "stdout",
     "output_type": "stream",
     "text": [
      "\u001b[1m8/8\u001b[0m \u001b[32m━━━━━━━━━━━━━━━━━━━━\u001b[0m\u001b[37m\u001b[0m \u001b[1m1s\u001b[0m 99ms/step\n"
     ]
    },
    {
     "name": "stderr",
     "output_type": "stream",
     "text": [
      "[I 2025-06-12 15:44:59,146] Trial 50 finished with value: 27.215641021728516 and parameters: {'lstm_units': 128, 'lstm_layers': 2, 'dropout_rate': 0.4, 'learning_rate': 0.00031738189322575735, 'batch_size': 16, 'dense_units': 80, 'window_size': 60}. Best is trial 23 with value: 25.870027542114258.\n",
      "c:\\Users\\jerem\\miniconda3\\Lib\\site-packages\\keras\\src\\layers\\rnn\\rnn.py:199: UserWarning: Do not pass an `input_shape`/`input_dim` argument to a layer. When using Sequential models, prefer using an `Input(shape)` object as the first layer in the model instead.\n",
      "  super().__init__(**kwargs)\n"
     ]
    },
    {
     "name": "stdout",
     "output_type": "stream",
     "text": [
      "\u001b[1m8/8\u001b[0m \u001b[32m━━━━━━━━━━━━━━━━━━━━\u001b[0m\u001b[37m\u001b[0m \u001b[1m1s\u001b[0m 43ms/step\n"
     ]
    },
    {
     "name": "stderr",
     "output_type": "stream",
     "text": [
      "[I 2025-06-12 15:45:27,891] Trial 51 finished with value: 27.140459060668945 and parameters: {'lstm_units': 64, 'lstm_layers': 1, 'dropout_rate': 0.5, 'learning_rate': 0.00012393883230173237, 'batch_size': 16, 'dense_units': 128, 'window_size': 10}. Best is trial 23 with value: 25.870027542114258.\n",
      "c:\\Users\\jerem\\miniconda3\\Lib\\site-packages\\keras\\src\\layers\\rnn\\rnn.py:199: UserWarning: Do not pass an `input_shape`/`input_dim` argument to a layer. When using Sequential models, prefer using an `Input(shape)` object as the first layer in the model instead.\n",
      "  super().__init__(**kwargs)\n"
     ]
    },
    {
     "name": "stdout",
     "output_type": "stream",
     "text": [
      "\u001b[1m8/8\u001b[0m \u001b[32m━━━━━━━━━━━━━━━━━━━━\u001b[0m\u001b[37m\u001b[0m \u001b[1m1s\u001b[0m 45ms/step\n"
     ]
    },
    {
     "name": "stderr",
     "output_type": "stream",
     "text": [
      "[I 2025-06-12 15:46:26,359] Trial 52 finished with value: 26.217859268188477 and parameters: {'lstm_units': 64, 'lstm_layers': 1, 'dropout_rate': 0.4, 'learning_rate': 0.00018993384742120676, 'batch_size': 16, 'dense_units': 32, 'window_size': 40}. Best is trial 23 with value: 25.870027542114258.\n",
      "c:\\Users\\jerem\\miniconda3\\Lib\\site-packages\\keras\\src\\layers\\rnn\\rnn.py:199: UserWarning: Do not pass an `input_shape`/`input_dim` argument to a layer. When using Sequential models, prefer using an `Input(shape)` object as the first layer in the model instead.\n",
      "  super().__init__(**kwargs)\n"
     ]
    },
    {
     "name": "stdout",
     "output_type": "stream",
     "text": [
      "\u001b[1m8/8\u001b[0m \u001b[32m━━━━━━━━━━━━━━━━━━━━\u001b[0m\u001b[37m\u001b[0m \u001b[1m1s\u001b[0m 50ms/step\n"
     ]
    },
    {
     "name": "stderr",
     "output_type": "stream",
     "text": [
      "[I 2025-06-12 15:47:21,207] Trial 53 finished with value: 28.066905975341797 and parameters: {'lstm_units': 96, 'lstm_layers': 1, 'dropout_rate': 0.5, 'learning_rate': 0.00015955269222320848, 'batch_size': 16, 'dense_units': 32, 'window_size': 30}. Best is trial 23 with value: 25.870027542114258.\n",
      "c:\\Users\\jerem\\miniconda3\\Lib\\site-packages\\keras\\src\\layers\\rnn\\rnn.py:199: UserWarning: Do not pass an `input_shape`/`input_dim` argument to a layer. When using Sequential models, prefer using an `Input(shape)` object as the first layer in the model instead.\n",
      "  super().__init__(**kwargs)\n"
     ]
    },
    {
     "name": "stdout",
     "output_type": "stream",
     "text": [
      "\u001b[1m8/8\u001b[0m \u001b[32m━━━━━━━━━━━━━━━━━━━━\u001b[0m\u001b[37m\u001b[0m \u001b[1m1s\u001b[0m 49ms/step\n"
     ]
    },
    {
     "name": "stderr",
     "output_type": "stream",
     "text": [
      "[I 2025-06-12 15:48:01,443] Trial 54 finished with value: 26.45033836364746 and parameters: {'lstm_units': 64, 'lstm_layers': 1, 'dropout_rate': 0.4, 'learning_rate': 0.0004469218023790925, 'batch_size': 16, 'dense_units': 48, 'window_size': 50}. Best is trial 23 with value: 25.870027542114258.\n",
      "c:\\Users\\jerem\\miniconda3\\Lib\\site-packages\\keras\\src\\layers\\rnn\\rnn.py:199: UserWarning: Do not pass an `input_shape`/`input_dim` argument to a layer. When using Sequential models, prefer using an `Input(shape)` object as the first layer in the model instead.\n",
      "  super().__init__(**kwargs)\n"
     ]
    },
    {
     "name": "stdout",
     "output_type": "stream",
     "text": [
      "\u001b[1m8/8\u001b[0m \u001b[32m━━━━━━━━━━━━━━━━━━━━\u001b[0m\u001b[37m\u001b[0m \u001b[1m1s\u001b[0m 44ms/step\n"
     ]
    },
    {
     "name": "stderr",
     "output_type": "stream",
     "text": [
      "[I 2025-06-12 15:48:56,000] Trial 55 finished with value: 26.569726943969727 and parameters: {'lstm_units': 96, 'lstm_layers': 1, 'dropout_rate': 0.5, 'learning_rate': 0.00011808741275674001, 'batch_size': 16, 'dense_units': 16, 'window_size': 30}. Best is trial 23 with value: 25.870027542114258.\n",
      "c:\\Users\\jerem\\miniconda3\\Lib\\site-packages\\keras\\src\\layers\\rnn\\rnn.py:199: UserWarning: Do not pass an `input_shape`/`input_dim` argument to a layer. When using Sequential models, prefer using an `Input(shape)` object as the first layer in the model instead.\n",
      "  super().__init__(**kwargs)\n"
     ]
    },
    {
     "name": "stdout",
     "output_type": "stream",
     "text": [
      "\u001b[1m8/8\u001b[0m \u001b[32m━━━━━━━━━━━━━━━━━━━━\u001b[0m\u001b[37m\u001b[0m \u001b[1m1s\u001b[0m 43ms/step\n"
     ]
    },
    {
     "name": "stderr",
     "output_type": "stream",
     "text": [
      "[I 2025-06-12 15:49:14,035] Trial 56 finished with value: 32.678741455078125 and parameters: {'lstm_units': 64, 'lstm_layers': 1, 'dropout_rate': 0.5, 'learning_rate': 0.0013391631090731001, 'batch_size': 16, 'dense_units': 32, 'window_size': 20}. Best is trial 23 with value: 25.870027542114258.\n",
      "c:\\Users\\jerem\\miniconda3\\Lib\\site-packages\\keras\\src\\layers\\rnn\\rnn.py:199: UserWarning: Do not pass an `input_shape`/`input_dim` argument to a layer. When using Sequential models, prefer using an `Input(shape)` object as the first layer in the model instead.\n",
      "  super().__init__(**kwargs)\n"
     ]
    },
    {
     "name": "stdout",
     "output_type": "stream",
     "text": [
      "\u001b[1m4/4\u001b[0m \u001b[32m━━━━━━━━━━━━━━━━━━━━\u001b[0m\u001b[37m\u001b[0m \u001b[1m1s\u001b[0m 101ms/step\n"
     ]
    },
    {
     "name": "stderr",
     "output_type": "stream",
     "text": [
      "[I 2025-06-12 15:49:43,236] Trial 57 finished with value: 26.697154998779297 and parameters: {'lstm_units': 64, 'lstm_layers': 1, 'dropout_rate': 0.1, 'learning_rate': 0.000677119467801792, 'batch_size': 32, 'dense_units': 48, 'window_size': 40}. Best is trial 23 with value: 25.870027542114258.\n",
      "c:\\Users\\jerem\\miniconda3\\Lib\\site-packages\\keras\\src\\layers\\rnn\\rnn.py:199: UserWarning: Do not pass an `input_shape`/`input_dim` argument to a layer. When using Sequential models, prefer using an `Input(shape)` object as the first layer in the model instead.\n",
      "  super().__init__(**kwargs)\n"
     ]
    },
    {
     "name": "stdout",
     "output_type": "stream",
     "text": [
      "\u001b[1m8/8\u001b[0m \u001b[32m━━━━━━━━━━━━━━━━━━━━\u001b[0m\u001b[37m\u001b[0m \u001b[1m1s\u001b[0m 78ms/step\n"
     ]
    },
    {
     "name": "stderr",
     "output_type": "stream",
     "text": [
      "[I 2025-06-12 15:50:54,663] Trial 58 finished with value: 27.49439239501953 and parameters: {'lstm_units': 96, 'lstm_layers': 1, 'dropout_rate': 0.30000000000000004, 'learning_rate': 0.0002421008330088927, 'batch_size': 16, 'dense_units': 16, 'window_size': 50}. Best is trial 23 with value: 25.870027542114258.\n",
      "c:\\Users\\jerem\\miniconda3\\Lib\\site-packages\\keras\\src\\layers\\rnn\\rnn.py:199: UserWarning: Do not pass an `input_shape`/`input_dim` argument to a layer. When using Sequential models, prefer using an `Input(shape)` object as the first layer in the model instead.\n",
      "  super().__init__(**kwargs)\n"
     ]
    },
    {
     "name": "stdout",
     "output_type": "stream",
     "text": [
      "\u001b[1m8/8\u001b[0m \u001b[32m━━━━━━━━━━━━━━━━━━━━\u001b[0m\u001b[37m\u001b[0m \u001b[1m1s\u001b[0m 48ms/step\n"
     ]
    },
    {
     "name": "stderr",
     "output_type": "stream",
     "text": [
      "[I 2025-06-12 15:51:53,661] Trial 59 finished with value: 26.48169708251953 and parameters: {'lstm_units': 128, 'lstm_layers': 1, 'dropout_rate': 0.5, 'learning_rate': 0.0001489682634916785, 'batch_size': 16, 'dense_units': 64, 'window_size': 30}. Best is trial 23 with value: 25.870027542114258.\n",
      "c:\\Users\\jerem\\miniconda3\\Lib\\site-packages\\keras\\src\\layers\\rnn\\rnn.py:199: UserWarning: Do not pass an `input_shape`/`input_dim` argument to a layer. When using Sequential models, prefer using an `Input(shape)` object as the first layer in the model instead.\n",
      "  super().__init__(**kwargs)\n"
     ]
    },
    {
     "name": "stdout",
     "output_type": "stream",
     "text": [
      "\u001b[1m8/8\u001b[0m \u001b[32m━━━━━━━━━━━━━━━━━━━━\u001b[0m\u001b[37m\u001b[0m \u001b[1m1s\u001b[0m 44ms/step\n"
     ]
    },
    {
     "name": "stderr",
     "output_type": "stream",
     "text": [
      "[I 2025-06-12 15:52:52,536] Trial 60 finished with value: 27.24461555480957 and parameters: {'lstm_units': 64, 'lstm_layers': 1, 'dropout_rate': 0.2, 'learning_rate': 0.00011779123106071796, 'batch_size': 16, 'dense_units': 32, 'window_size': 40}. Best is trial 23 with value: 25.870027542114258.\n",
      "c:\\Users\\jerem\\miniconda3\\Lib\\site-packages\\keras\\src\\layers\\rnn\\rnn.py:199: UserWarning: Do not pass an `input_shape`/`input_dim` argument to a layer. When using Sequential models, prefer using an `Input(shape)` object as the first layer in the model instead.\n",
      "  super().__init__(**kwargs)\n"
     ]
    },
    {
     "name": "stdout",
     "output_type": "stream",
     "text": [
      "\u001b[1m8/8\u001b[0m \u001b[32m━━━━━━━━━━━━━━━━━━━━\u001b[0m\u001b[37m\u001b[0m \u001b[1m1s\u001b[0m 54ms/step\n"
     ]
    },
    {
     "name": "stderr",
     "output_type": "stream",
     "text": [
      "[I 2025-06-12 15:54:22,342] Trial 61 finished with value: 26.563209533691406 and parameters: {'lstm_units': 128, 'lstm_layers': 1, 'dropout_rate': 0.5, 'learning_rate': 0.00013565832893563444, 'batch_size': 16, 'dense_units': 16, 'window_size': 60}. Best is trial 23 with value: 25.870027542114258.\n",
      "c:\\Users\\jerem\\miniconda3\\Lib\\site-packages\\keras\\src\\layers\\rnn\\rnn.py:199: UserWarning: Do not pass an `input_shape`/`input_dim` argument to a layer. When using Sequential models, prefer using an `Input(shape)` object as the first layer in the model instead.\n",
      "  super().__init__(**kwargs)\n"
     ]
    },
    {
     "name": "stdout",
     "output_type": "stream",
     "text": [
      "\u001b[1m8/8\u001b[0m \u001b[32m━━━━━━━━━━━━━━━━━━━━\u001b[0m\u001b[37m\u001b[0m \u001b[1m1s\u001b[0m 52ms/step\n"
     ]
    },
    {
     "name": "stderr",
     "output_type": "stream",
     "text": [
      "[I 2025-06-12 15:55:02,801] Trial 62 finished with value: 26.646644592285156 and parameters: {'lstm_units': 128, 'lstm_layers': 1, 'dropout_rate': 0.5, 'learning_rate': 0.008296305966049832, 'batch_size': 16, 'dense_units': 16, 'window_size': 60}. Best is trial 23 with value: 25.870027542114258.\n",
      "c:\\Users\\jerem\\miniconda3\\Lib\\site-packages\\keras\\src\\layers\\rnn\\rnn.py:199: UserWarning: Do not pass an `input_shape`/`input_dim` argument to a layer. When using Sequential models, prefer using an `Input(shape)` object as the first layer in the model instead.\n",
      "  super().__init__(**kwargs)\n"
     ]
    },
    {
     "name": "stdout",
     "output_type": "stream",
     "text": [
      "\u001b[1m8/8\u001b[0m \u001b[32m━━━━━━━━━━━━━━━━━━━━\u001b[0m\u001b[37m\u001b[0m \u001b[1m1s\u001b[0m 55ms/step\n"
     ]
    },
    {
     "name": "stderr",
     "output_type": "stream",
     "text": [
      "[I 2025-06-12 15:56:12,944] Trial 63 finished with value: 26.277145385742188 and parameters: {'lstm_units': 128, 'lstm_layers': 1, 'dropout_rate': 0.5, 'learning_rate': 0.00018534304598586833, 'batch_size': 16, 'dense_units': 16, 'window_size': 60}. Best is trial 23 with value: 25.870027542114258.\n",
      "c:\\Users\\jerem\\miniconda3\\Lib\\site-packages\\keras\\src\\layers\\rnn\\rnn.py:199: UserWarning: Do not pass an `input_shape`/`input_dim` argument to a layer. When using Sequential models, prefer using an `Input(shape)` object as the first layer in the model instead.\n",
      "  super().__init__(**kwargs)\n"
     ]
    },
    {
     "name": "stdout",
     "output_type": "stream",
     "text": [
      "\u001b[1m8/8\u001b[0m \u001b[32m━━━━━━━━━━━━━━━━━━━━\u001b[0m\u001b[37m\u001b[0m \u001b[1m1s\u001b[0m 52ms/step\n"
     ]
    },
    {
     "name": "stderr",
     "output_type": "stream",
     "text": [
      "[I 2025-06-12 15:57:34,465] Trial 64 finished with value: 26.01067352294922 and parameters: {'lstm_units': 128, 'lstm_layers': 1, 'dropout_rate': 0.4, 'learning_rate': 0.00011703526424037697, 'batch_size': 16, 'dense_units': 32, 'window_size': 50}. Best is trial 23 with value: 25.870027542114258.\n",
      "c:\\Users\\jerem\\miniconda3\\Lib\\site-packages\\keras\\src\\layers\\rnn\\rnn.py:199: UserWarning: Do not pass an `input_shape`/`input_dim` argument to a layer. When using Sequential models, prefer using an `Input(shape)` object as the first layer in the model instead.\n",
      "  super().__init__(**kwargs)\n"
     ]
    },
    {
     "name": "stdout",
     "output_type": "stream",
     "text": [
      "\u001b[1m8/8\u001b[0m \u001b[32m━━━━━━━━━━━━━━━━━━━━\u001b[0m\u001b[37m\u001b[0m \u001b[1m1s\u001b[0m 61ms/step\n"
     ]
    },
    {
     "name": "stderr",
     "output_type": "stream",
     "text": [
      "[I 2025-06-12 15:59:30,210] Trial 65 finished with value: 26.49587631225586 and parameters: {'lstm_units': 96, 'lstm_layers': 1, 'dropout_rate': 0.5, 'learning_rate': 0.0001354455757408671, 'batch_size': 16, 'dense_units': 32, 'window_size': 60}. Best is trial 23 with value: 25.870027542114258.\n",
      "c:\\Users\\jerem\\miniconda3\\Lib\\site-packages\\keras\\src\\layers\\rnn\\rnn.py:199: UserWarning: Do not pass an `input_shape`/`input_dim` argument to a layer. When using Sequential models, prefer using an `Input(shape)` object as the first layer in the model instead.\n",
      "  super().__init__(**kwargs)\n"
     ]
    },
    {
     "name": "stdout",
     "output_type": "stream",
     "text": [
      "\u001b[1m8/8\u001b[0m \u001b[32m━━━━━━━━━━━━━━━━━━━━\u001b[0m\u001b[37m\u001b[0m \u001b[1m1s\u001b[0m 45ms/step\n"
     ]
    },
    {
     "name": "stderr",
     "output_type": "stream",
     "text": [
      "[I 2025-06-12 16:00:16,456] Trial 66 finished with value: 25.98999786376953 and parameters: {'lstm_units': 128, 'lstm_layers': 1, 'dropout_rate': 0.4, 'learning_rate': 0.00010014332479378003, 'batch_size': 16, 'dense_units': 16, 'window_size': 20}. Best is trial 23 with value: 25.870027542114258.\n",
      "c:\\Users\\jerem\\miniconda3\\Lib\\site-packages\\keras\\src\\layers\\rnn\\rnn.py:199: UserWarning: Do not pass an `input_shape`/`input_dim` argument to a layer. When using Sequential models, prefer using an `Input(shape)` object as the first layer in the model instead.\n",
      "  super().__init__(**kwargs)\n"
     ]
    },
    {
     "name": "stdout",
     "output_type": "stream",
     "text": [
      "\u001b[1m8/8\u001b[0m \u001b[32m━━━━━━━━━━━━━━━━━━━━\u001b[0m\u001b[37m\u001b[0m \u001b[1m1s\u001b[0m 52ms/step\n"
     ]
    },
    {
     "name": "stderr",
     "output_type": "stream",
     "text": [
      "[I 2025-06-12 16:01:02,596] Trial 67 finished with value: 26.001787185668945 and parameters: {'lstm_units': 128, 'lstm_layers': 1, 'dropout_rate': 0.5, 'learning_rate': 0.0001660405576992203, 'batch_size': 16, 'dense_units': 32, 'window_size': 30}. Best is trial 23 with value: 25.870027542114258.\n",
      "c:\\Users\\jerem\\miniconda3\\Lib\\site-packages\\keras\\src\\layers\\rnn\\rnn.py:199: UserWarning: Do not pass an `input_shape`/`input_dim` argument to a layer. When using Sequential models, prefer using an `Input(shape)` object as the first layer in the model instead.\n",
      "  super().__init__(**kwargs)\n"
     ]
    },
    {
     "name": "stdout",
     "output_type": "stream",
     "text": [
      "\u001b[1m4/4\u001b[0m \u001b[32m━━━━━━━━━━━━━━━━━━━━\u001b[0m\u001b[37m\u001b[0m \u001b[1m1s\u001b[0m 101ms/step\n"
     ]
    },
    {
     "name": "stderr",
     "output_type": "stream",
     "text": [
      "[I 2025-06-12 16:01:49,732] Trial 68 finished with value: 28.551986694335938 and parameters: {'lstm_units': 64, 'lstm_layers': 1, 'dropout_rate': 0.5, 'learning_rate': 0.000210594652162068, 'batch_size': 32, 'dense_units': 96, 'window_size': 50}. Best is trial 23 with value: 25.870027542114258.\n",
      "c:\\Users\\jerem\\miniconda3\\Lib\\site-packages\\keras\\src\\layers\\rnn\\rnn.py:199: UserWarning: Do not pass an `input_shape`/`input_dim` argument to a layer. When using Sequential models, prefer using an `Input(shape)` object as the first layer in the model instead.\n",
      "  super().__init__(**kwargs)\n"
     ]
    },
    {
     "name": "stdout",
     "output_type": "stream",
     "text": [
      "\u001b[1m8/8\u001b[0m \u001b[32m━━━━━━━━━━━━━━━━━━━━\u001b[0m\u001b[37m\u001b[0m \u001b[1m1s\u001b[0m 63ms/step\n"
     ]
    },
    {
     "name": "stderr",
     "output_type": "stream",
     "text": [
      "[I 2025-06-12 16:03:23,059] Trial 69 finished with value: 26.01119613647461 and parameters: {'lstm_units': 128, 'lstm_layers': 1, 'dropout_rate': 0.4, 'learning_rate': 0.00015157627706683955, 'batch_size': 16, 'dense_units': 16, 'window_size': 60}. Best is trial 23 with value: 25.870027542114258.\n",
      "[I 2025-06-12 16:03:23,098] A new study created in memory with name: lstm_regression_study\n"
     ]
    },
    {
     "name": "stdout",
     "output_type": "stream",
     "text": [
      "Running LSTM study for bin 5, stock 8...\n"
     ]
    },
    {
     "name": "stderr",
     "output_type": "stream",
     "text": [
      "c:\\Users\\jerem\\miniconda3\\Lib\\site-packages\\keras\\src\\layers\\rnn\\rnn.py:199: UserWarning: Do not pass an `input_shape`/`input_dim` argument to a layer. When using Sequential models, prefer using an `Input(shape)` object as the first layer in the model instead.\n",
      "  super().__init__(**kwargs)\n"
     ]
    },
    {
     "name": "stdout",
     "output_type": "stream",
     "text": [
      "\u001b[1m4/4\u001b[0m \u001b[32m━━━━━━━━━━━━━━━━━━━━\u001b[0m\u001b[37m\u001b[0m \u001b[1m1s\u001b[0m 145ms/step\n"
     ]
    },
    {
     "name": "stderr",
     "output_type": "stream",
     "text": [
      "[I 2025-06-12 16:03:43,609] Trial 0 finished with value: 19.399734497070312 and parameters: {'lstm_units': 64, 'lstm_layers': 2, 'dropout_rate': 0.2, 'learning_rate': 0.0007899820830478084, 'batch_size': 32, 'dense_units': 32, 'window_size': 10}. Best is trial 0 with value: 19.399734497070312.\n",
      "c:\\Users\\jerem\\miniconda3\\Lib\\site-packages\\keras\\src\\layers\\rnn\\rnn.py:199: UserWarning: Do not pass an `input_shape`/`input_dim` argument to a layer. When using Sequential models, prefer using an `Input(shape)` object as the first layer in the model instead.\n",
      "  super().__init__(**kwargs)\n"
     ]
    },
    {
     "name": "stdout",
     "output_type": "stream",
     "text": [
      "\u001b[1m8/8\u001b[0m \u001b[32m━━━━━━━━━━━━━━━━━━━━\u001b[0m\u001b[37m\u001b[0m \u001b[1m1s\u001b[0m 79ms/step\n"
     ]
    },
    {
     "name": "stderr",
     "output_type": "stream",
     "text": [
      "[I 2025-06-12 16:04:29,503] Trial 1 finished with value: 18.143404006958008 and parameters: {'lstm_units': 32, 'lstm_layers': 2, 'dropout_rate': 0.4, 'learning_rate': 0.00023357624909766154, 'batch_size': 16, 'dense_units': 48, 'window_size': 50}. Best is trial 1 with value: 18.143404006958008.\n",
      "c:\\Users\\jerem\\miniconda3\\Lib\\site-packages\\keras\\src\\layers\\rnn\\rnn.py:199: UserWarning: Do not pass an `input_shape`/`input_dim` argument to a layer. When using Sequential models, prefer using an `Input(shape)` object as the first layer in the model instead.\n",
      "  super().__init__(**kwargs)\n"
     ]
    },
    {
     "name": "stdout",
     "output_type": "stream",
     "text": [
      "\u001b[1m4/4\u001b[0m \u001b[32m━━━━━━━━━━━━━━━━━━━━\u001b[0m\u001b[37m\u001b[0m \u001b[1m1s\u001b[0m 177ms/step\n"
     ]
    },
    {
     "name": "stderr",
     "output_type": "stream",
     "text": [
      "[I 2025-06-12 16:04:41,379] Trial 2 finished with value: 21.648765563964844 and parameters: {'lstm_units': 64, 'lstm_layers': 2, 'dropout_rate': 0.5, 'learning_rate': 0.00037952241831513695, 'batch_size': 32, 'dense_units': 16, 'window_size': 10}. Best is trial 1 with value: 18.143404006958008.\n",
      "c:\\Users\\jerem\\miniconda3\\Lib\\site-packages\\keras\\src\\layers\\rnn\\rnn.py:199: UserWarning: Do not pass an `input_shape`/`input_dim` argument to a layer. When using Sequential models, prefer using an `Input(shape)` object as the first layer in the model instead.\n",
      "  super().__init__(**kwargs)\n"
     ]
    },
    {
     "name": "stdout",
     "output_type": "stream",
     "text": [
      "\u001b[1m8/8\u001b[0m \u001b[32m━━━━━━━━━━━━━━━━━━━━\u001b[0m\u001b[37m\u001b[0m \u001b[1m1s\u001b[0m 76ms/step\n"
     ]
    },
    {
     "name": "stderr",
     "output_type": "stream",
     "text": [
      "[I 2025-06-12 16:05:10,463] Trial 3 finished with value: 24.817665100097656 and parameters: {'lstm_units': 64, 'lstm_layers': 2, 'dropout_rate': 0.4, 'learning_rate': 0.0012241351959760502, 'batch_size': 16, 'dense_units': 128, 'window_size': 50}. Best is trial 1 with value: 18.143404006958008.\n",
      "c:\\Users\\jerem\\miniconda3\\Lib\\site-packages\\keras\\src\\layers\\rnn\\rnn.py:199: UserWarning: Do not pass an `input_shape`/`input_dim` argument to a layer. When using Sequential models, prefer using an `Input(shape)` object as the first layer in the model instead.\n",
      "  super().__init__(**kwargs)\n"
     ]
    },
    {
     "name": "stdout",
     "output_type": "stream",
     "text": [
      "\u001b[1m8/8\u001b[0m \u001b[32m━━━━━━━━━━━━━━━━━━━━\u001b[0m\u001b[37m\u001b[0m \u001b[1m1s\u001b[0m 57ms/step\n"
     ]
    },
    {
     "name": "stderr",
     "output_type": "stream",
     "text": [
      "[I 2025-06-12 16:05:33,579] Trial 4 finished with value: 21.65249252319336 and parameters: {'lstm_units': 32, 'lstm_layers': 1, 'dropout_rate': 0.2, 'learning_rate': 0.004619471921423605, 'batch_size': 16, 'dense_units': 32, 'window_size': 60}. Best is trial 1 with value: 18.143404006958008.\n",
      "c:\\Users\\jerem\\miniconda3\\Lib\\site-packages\\keras\\src\\layers\\rnn\\rnn.py:199: UserWarning: Do not pass an `input_shape`/`input_dim` argument to a layer. When using Sequential models, prefer using an `Input(shape)` object as the first layer in the model instead.\n",
      "  super().__init__(**kwargs)\n"
     ]
    },
    {
     "name": "stdout",
     "output_type": "stream",
     "text": [
      "\u001b[1m4/4\u001b[0m \u001b[32m━━━━━━━━━━━━━━━━━━━━\u001b[0m\u001b[37m\u001b[0m \u001b[1m1s\u001b[0m 152ms/step\n"
     ]
    },
    {
     "name": "stderr",
     "output_type": "stream",
     "text": [
      "[I 2025-06-12 16:06:31,619] Trial 5 finished with value: 19.407676696777344 and parameters: {'lstm_units': 128, 'lstm_layers': 1, 'dropout_rate': 0.5, 'learning_rate': 0.00013926766048658897, 'batch_size': 32, 'dense_units': 128, 'window_size': 60}. Best is trial 1 with value: 18.143404006958008.\n",
      "c:\\Users\\jerem\\miniconda3\\Lib\\site-packages\\keras\\src\\layers\\rnn\\rnn.py:199: UserWarning: Do not pass an `input_shape`/`input_dim` argument to a layer. When using Sequential models, prefer using an `Input(shape)` object as the first layer in the model instead.\n",
      "  super().__init__(**kwargs)\n"
     ]
    },
    {
     "name": "stdout",
     "output_type": "stream",
     "text": [
      "\u001b[1m8/8\u001b[0m \u001b[32m━━━━━━━━━━━━━━━━━━━━\u001b[0m\u001b[37m\u001b[0m \u001b[1m1s\u001b[0m 82ms/step\n"
     ]
    },
    {
     "name": "stderr",
     "output_type": "stream",
     "text": [
      "[I 2025-06-12 16:07:50,952] Trial 6 finished with value: 18.82826042175293 and parameters: {'lstm_units': 64, 'lstm_layers': 2, 'dropout_rate': 0.1, 'learning_rate': 0.0006613843519388249, 'batch_size': 16, 'dense_units': 96, 'window_size': 60}. Best is trial 1 with value: 18.143404006958008.\n",
      "c:\\Users\\jerem\\miniconda3\\Lib\\site-packages\\keras\\src\\layers\\rnn\\rnn.py:199: UserWarning: Do not pass an `input_shape`/`input_dim` argument to a layer. When using Sequential models, prefer using an `Input(shape)` object as the first layer in the model instead.\n",
      "  super().__init__(**kwargs)\n"
     ]
    },
    {
     "name": "stdout",
     "output_type": "stream",
     "text": [
      "\u001b[1m8/8\u001b[0m \u001b[32m━━━━━━━━━━━━━━━━━━━━\u001b[0m\u001b[37m\u001b[0m \u001b[1m2s\u001b[0m 138ms/step\n"
     ]
    },
    {
     "name": "stderr",
     "output_type": "stream",
     "text": [
      "[I 2025-06-12 16:10:40,923] Trial 7 finished with value: 19.271387100219727 and parameters: {'lstm_units': 128, 'lstm_layers': 2, 'dropout_rate': 0.0, 'learning_rate': 0.0002933994043490036, 'batch_size': 16, 'dense_units': 128, 'window_size': 40}. Best is trial 1 with value: 18.143404006958008.\n",
      "c:\\Users\\jerem\\miniconda3\\Lib\\site-packages\\keras\\src\\layers\\rnn\\rnn.py:199: UserWarning: Do not pass an `input_shape`/`input_dim` argument to a layer. When using Sequential models, prefer using an `Input(shape)` object as the first layer in the model instead.\n",
      "  super().__init__(**kwargs)\n"
     ]
    },
    {
     "name": "stdout",
     "output_type": "stream",
     "text": [
      "\u001b[1m8/8\u001b[0m \u001b[32m━━━━━━━━━━━━━━━━━━━━\u001b[0m\u001b[37m\u001b[0m \u001b[1m1s\u001b[0m 43ms/step\n"
     ]
    },
    {
     "name": "stderr",
     "output_type": "stream",
     "text": [
      "[I 2025-06-12 16:11:21,694] Trial 8 finished with value: 20.819795608520508 and parameters: {'lstm_units': 96, 'lstm_layers': 1, 'dropout_rate': 0.30000000000000004, 'learning_rate': 0.003788932425282151, 'batch_size': 16, 'dense_units': 112, 'window_size': 50}. Best is trial 1 with value: 18.143404006958008.\n",
      "c:\\Users\\jerem\\miniconda3\\Lib\\site-packages\\keras\\src\\layers\\rnn\\rnn.py:199: UserWarning: Do not pass an `input_shape`/`input_dim` argument to a layer. When using Sequential models, prefer using an `Input(shape)` object as the first layer in the model instead.\n",
      "  super().__init__(**kwargs)\n"
     ]
    },
    {
     "name": "stdout",
     "output_type": "stream",
     "text": [
      "\u001b[1m8/8\u001b[0m \u001b[32m━━━━━━━━━━━━━━━━━━━━\u001b[0m\u001b[37m\u001b[0m \u001b[1m1s\u001b[0m 48ms/step\n"
     ]
    },
    {
     "name": "stderr",
     "output_type": "stream",
     "text": [
      "[I 2025-06-12 16:12:02,976] Trial 9 finished with value: 20.06391143798828 and parameters: {'lstm_units': 96, 'lstm_layers': 1, 'dropout_rate': 0.30000000000000004, 'learning_rate': 0.00015532293758236445, 'batch_size': 16, 'dense_units': 48, 'window_size': 50}. Best is trial 1 with value: 18.143404006958008.\n",
      "c:\\Users\\jerem\\miniconda3\\Lib\\site-packages\\keras\\src\\layers\\rnn\\rnn.py:199: UserWarning: Do not pass an `input_shape`/`input_dim` argument to a layer. When using Sequential models, prefer using an `Input(shape)` object as the first layer in the model instead.\n",
      "  super().__init__(**kwargs)\n"
     ]
    },
    {
     "name": "stdout",
     "output_type": "stream",
     "text": [
      "\u001b[1m4/4\u001b[0m \u001b[32m━━━━━━━━━━━━━━━━━━━━\u001b[0m\u001b[37m\u001b[0m \u001b[1m1s\u001b[0m 179ms/step\n"
     ]
    },
    {
     "name": "stderr",
     "output_type": "stream",
     "text": [
      "[I 2025-06-12 16:12:15,128] Trial 10 finished with value: 26.255447387695312 and parameters: {'lstm_units': 32, 'lstm_layers': 2, 'dropout_rate': 0.4, 'learning_rate': 0.009563539429570802, 'batch_size': 32, 'dense_units': 64, 'window_size': 30}. Best is trial 1 with value: 18.143404006958008.\n",
      "c:\\Users\\jerem\\miniconda3\\Lib\\site-packages\\keras\\src\\layers\\rnn\\rnn.py:199: UserWarning: Do not pass an `input_shape`/`input_dim` argument to a layer. When using Sequential models, prefer using an `Input(shape)` object as the first layer in the model instead.\n",
      "  super().__init__(**kwargs)\n"
     ]
    },
    {
     "name": "stdout",
     "output_type": "stream",
     "text": [
      "\u001b[1m8/8\u001b[0m \u001b[32m━━━━━━━━━━━━━━━━━━━━\u001b[0m\u001b[37m\u001b[0m \u001b[1m1s\u001b[0m 73ms/step\n"
     ]
    },
    {
     "name": "stderr",
     "output_type": "stream",
     "text": [
      "[I 2025-06-12 16:12:52,051] Trial 11 finished with value: 17.824342727661133 and parameters: {'lstm_units': 32, 'lstm_layers': 2, 'dropout_rate': 0.0, 'learning_rate': 0.0007674075290685356, 'batch_size': 16, 'dense_units': 96, 'window_size': 30}. Best is trial 11 with value: 17.824342727661133.\n",
      "c:\\Users\\jerem\\miniconda3\\Lib\\site-packages\\keras\\src\\layers\\rnn\\rnn.py:199: UserWarning: Do not pass an `input_shape`/`input_dim` argument to a layer. When using Sequential models, prefer using an `Input(shape)` object as the first layer in the model instead.\n",
      "  super().__init__(**kwargs)\n"
     ]
    },
    {
     "name": "stdout",
     "output_type": "stream",
     "text": [
      "\u001b[1m8/8\u001b[0m \u001b[32m━━━━━━━━━━━━━━━━━━━━\u001b[0m\u001b[37m\u001b[0m \u001b[1m1s\u001b[0m 68ms/step\n"
     ]
    },
    {
     "name": "stderr",
     "output_type": "stream",
     "text": [
      "[I 2025-06-12 16:13:14,126] Trial 12 finished with value: 21.775270462036133 and parameters: {'lstm_units': 32, 'lstm_layers': 2, 'dropout_rate': 0.1, 'learning_rate': 0.0016682671711376548, 'batch_size': 16, 'dense_units': 80, 'window_size': 30}. Best is trial 11 with value: 17.824342727661133.\n",
      "c:\\Users\\jerem\\miniconda3\\Lib\\site-packages\\keras\\src\\layers\\rnn\\rnn.py:199: UserWarning: Do not pass an `input_shape`/`input_dim` argument to a layer. When using Sequential models, prefer using an `Input(shape)` object as the first layer in the model instead.\n",
      "  super().__init__(**kwargs)\n"
     ]
    },
    {
     "name": "stdout",
     "output_type": "stream",
     "text": [
      "\u001b[1m8/8\u001b[0m \u001b[32m━━━━━━━━━━━━━━━━━━━━\u001b[0m\u001b[37m\u001b[0m \u001b[1m1s\u001b[0m 70ms/step\n"
     ]
    },
    {
     "name": "stderr",
     "output_type": "stream",
     "text": [
      "[I 2025-06-12 16:13:31,873] Trial 13 finished with value: 48.62478256225586 and parameters: {'lstm_units': 32, 'lstm_layers': 2, 'dropout_rate': 0.0, 'learning_rate': 0.0003884130011959, 'batch_size': 16, 'dense_units': 80, 'window_size': 20}. Best is trial 11 with value: 17.824342727661133.\n",
      "c:\\Users\\jerem\\miniconda3\\Lib\\site-packages\\keras\\src\\layers\\rnn\\rnn.py:199: UserWarning: Do not pass an `input_shape`/`input_dim` argument to a layer. When using Sequential models, prefer using an `Input(shape)` object as the first layer in the model instead.\n",
      "  super().__init__(**kwargs)\n"
     ]
    },
    {
     "name": "stdout",
     "output_type": "stream",
     "text": [
      "\u001b[1m8/8\u001b[0m \u001b[32m━━━━━━━━━━━━━━━━━━━━\u001b[0m\u001b[37m\u001b[0m \u001b[1m1s\u001b[0m 68ms/step\n"
     ]
    },
    {
     "name": "stderr",
     "output_type": "stream",
     "text": [
      "[I 2025-06-12 16:14:23,620] Trial 14 finished with value: 19.968202590942383 and parameters: {'lstm_units': 32, 'lstm_layers': 2, 'dropout_rate': 0.4, 'learning_rate': 0.0002593115975299053, 'batch_size': 16, 'dense_units': 64, 'window_size': 40}. Best is trial 11 with value: 17.824342727661133.\n",
      "c:\\Users\\jerem\\miniconda3\\Lib\\site-packages\\keras\\src\\layers\\rnn\\rnn.py:199: UserWarning: Do not pass an `input_shape`/`input_dim` argument to a layer. When using Sequential models, prefer using an `Input(shape)` object as the first layer in the model instead.\n",
      "  super().__init__(**kwargs)\n"
     ]
    },
    {
     "name": "stdout",
     "output_type": "stream",
     "text": [
      "\u001b[1m8/8\u001b[0m \u001b[32m━━━━━━━━━━━━━━━━━━━━\u001b[0m\u001b[37m\u001b[0m \u001b[1m1s\u001b[0m 72ms/step\n"
     ]
    },
    {
     "name": "stderr",
     "output_type": "stream",
     "text": [
      "[I 2025-06-12 16:14:56,881] Trial 15 finished with value: 24.714733123779297 and parameters: {'lstm_units': 32, 'lstm_layers': 2, 'dropout_rate': 0.1, 'learning_rate': 0.00010503055060442901, 'batch_size': 16, 'dense_units': 96, 'window_size': 20}. Best is trial 11 with value: 17.824342727661133.\n",
      "c:\\Users\\jerem\\miniconda3\\Lib\\site-packages\\keras\\src\\layers\\rnn\\rnn.py:199: UserWarning: Do not pass an `input_shape`/`input_dim` argument to a layer. When using Sequential models, prefer using an `Input(shape)` object as the first layer in the model instead.\n",
      "  super().__init__(**kwargs)\n"
     ]
    },
    {
     "name": "stdout",
     "output_type": "stream",
     "text": [
      "\u001b[1m8/8\u001b[0m \u001b[32m━━━━━━━━━━━━━━━━━━━━\u001b[0m\u001b[37m\u001b[0m \u001b[1m1s\u001b[0m 83ms/step\n"
     ]
    },
    {
     "name": "stderr",
     "output_type": "stream",
     "text": [
      "[I 2025-06-12 16:15:33,503] Trial 16 finished with value: 20.99700927734375 and parameters: {'lstm_units': 96, 'lstm_layers': 2, 'dropout_rate': 0.30000000000000004, 'learning_rate': 0.0019012285313744738, 'batch_size': 16, 'dense_units': 48, 'window_size': 40}. Best is trial 11 with value: 17.824342727661133.\n",
      "c:\\Users\\jerem\\miniconda3\\Lib\\site-packages\\keras\\src\\layers\\rnn\\rnn.py:199: UserWarning: Do not pass an `input_shape`/`input_dim` argument to a layer. When using Sequential models, prefer using an `Input(shape)` object as the first layer in the model instead.\n",
      "  super().__init__(**kwargs)\n"
     ]
    },
    {
     "name": "stdout",
     "output_type": "stream",
     "text": [
      "\u001b[1m8/8\u001b[0m \u001b[32m━━━━━━━━━━━━━━━━━━━━\u001b[0m\u001b[37m\u001b[0m \u001b[1m1s\u001b[0m 43ms/step\n"
     ]
    },
    {
     "name": "stderr",
     "output_type": "stream",
     "text": [
      "[I 2025-06-12 16:15:57,364] Trial 17 finished with value: 20.05849838256836 and parameters: {'lstm_units': 64, 'lstm_layers': 1, 'dropout_rate': 0.2, 'learning_rate': 0.0006335424753118593, 'batch_size': 16, 'dense_units': 96, 'window_size': 30}. Best is trial 11 with value: 17.824342727661133.\n",
      "c:\\Users\\jerem\\miniconda3\\Lib\\site-packages\\keras\\src\\layers\\rnn\\rnn.py:199: UserWarning: Do not pass an `input_shape`/`input_dim` argument to a layer. When using Sequential models, prefer using an `Input(shape)` object as the first layer in the model instead.\n",
      "  super().__init__(**kwargs)\n"
     ]
    },
    {
     "name": "stdout",
     "output_type": "stream",
     "text": [
      "\u001b[1m4/4\u001b[0m \u001b[32m━━━━━━━━━━━━━━━━━━━━\u001b[0m\u001b[37m\u001b[0m \u001b[1m1s\u001b[0m 150ms/step\n"
     ]
    },
    {
     "name": "stderr",
     "output_type": "stream",
     "text": [
      "[I 2025-06-12 16:16:36,681] Trial 18 finished with value: 17.929235458374023 and parameters: {'lstm_units': 32, 'lstm_layers': 2, 'dropout_rate': 0.4, 'learning_rate': 0.000194932679052223, 'batch_size': 32, 'dense_units': 48, 'window_size': 20}. Best is trial 11 with value: 17.824342727661133.\n",
      "c:\\Users\\jerem\\miniconda3\\Lib\\site-packages\\keras\\src\\layers\\rnn\\rnn.py:199: UserWarning: Do not pass an `input_shape`/`input_dim` argument to a layer. When using Sequential models, prefer using an `Input(shape)` object as the first layer in the model instead.\n",
      "  super().__init__(**kwargs)\n"
     ]
    },
    {
     "name": "stdout",
     "output_type": "stream",
     "text": [
      "\u001b[1m4/4\u001b[0m \u001b[32m━━━━━━━━━━━━━━━━━━━━\u001b[0m\u001b[37m\u001b[0m \u001b[1m1s\u001b[0m 168ms/step\n"
     ]
    },
    {
     "name": "stderr",
     "output_type": "stream",
     "text": [
      "[I 2025-06-12 16:16:56,477] Trial 19 finished with value: 30.39028549194336 and parameters: {'lstm_units': 64, 'lstm_layers': 2, 'dropout_rate': 0.0, 'learning_rate': 0.00046251106879698675, 'batch_size': 32, 'dense_units': 16, 'window_size': 20}. Best is trial 11 with value: 17.824342727661133.\n",
      "c:\\Users\\jerem\\miniconda3\\Lib\\site-packages\\keras\\src\\layers\\rnn\\rnn.py:199: UserWarning: Do not pass an `input_shape`/`input_dim` argument to a layer. When using Sequential models, prefer using an `Input(shape)` object as the first layer in the model instead.\n",
      "  super().__init__(**kwargs)\n"
     ]
    },
    {
     "name": "stdout",
     "output_type": "stream",
     "text": [
      "\u001b[1m4/4\u001b[0m \u001b[32m━━━━━━━━━━━━━━━━━━━━\u001b[0m\u001b[37m\u001b[0m \u001b[1m1s\u001b[0m 103ms/step\n"
     ]
    },
    {
     "name": "stderr",
     "output_type": "stream",
     "text": [
      "[I 2025-06-12 16:17:12,304] Trial 20 finished with value: 21.221607208251953 and parameters: {'lstm_units': 32, 'lstm_layers': 1, 'dropout_rate': 0.5, 'learning_rate': 0.0026509801210624403, 'batch_size': 32, 'dense_units': 112, 'window_size': 20}. Best is trial 11 with value: 17.824342727661133.\n",
      "c:\\Users\\jerem\\miniconda3\\Lib\\site-packages\\keras\\src\\layers\\rnn\\rnn.py:199: UserWarning: Do not pass an `input_shape`/`input_dim` argument to a layer. When using Sequential models, prefer using an `Input(shape)` object as the first layer in the model instead.\n",
      "  super().__init__(**kwargs)\n"
     ]
    },
    {
     "name": "stdout",
     "output_type": "stream",
     "text": [
      "\u001b[1m4/4\u001b[0m \u001b[32m━━━━━━━━━━━━━━━━━━━━\u001b[0m\u001b[37m\u001b[0m \u001b[1m1s\u001b[0m 149ms/step\n"
     ]
    },
    {
     "name": "stderr",
     "output_type": "stream",
     "text": [
      "[I 2025-06-12 16:17:41,380] Trial 21 finished with value: 45.8901252746582 and parameters: {'lstm_units': 32, 'lstm_layers': 2, 'dropout_rate': 0.4, 'learning_rate': 0.0001872042996454908, 'batch_size': 32, 'dense_units': 48, 'window_size': 30}. Best is trial 11 with value: 17.824342727661133.\n",
      "c:\\Users\\jerem\\miniconda3\\Lib\\site-packages\\keras\\src\\layers\\rnn\\rnn.py:199: UserWarning: Do not pass an `input_shape`/`input_dim` argument to a layer. When using Sequential models, prefer using an `Input(shape)` object as the first layer in the model instead.\n",
      "  super().__init__(**kwargs)\n"
     ]
    },
    {
     "name": "stdout",
     "output_type": "stream",
     "text": [
      "\u001b[1m4/4\u001b[0m \u001b[32m━━━━━━━━━━━━━━━━━━━━\u001b[0m\u001b[37m\u001b[0m \u001b[1m1s\u001b[0m 142ms/step\n"
     ]
    },
    {
     "name": "stderr",
     "output_type": "stream",
     "text": [
      "[I 2025-06-12 16:17:55,681] Trial 22 finished with value: 26.39581871032715 and parameters: {'lstm_units': 32, 'lstm_layers': 2, 'dropout_rate': 0.4, 'learning_rate': 0.00021716474389255313, 'batch_size': 32, 'dense_units': 64, 'window_size': 10}. Best is trial 11 with value: 17.824342727661133.\n",
      "c:\\Users\\jerem\\miniconda3\\Lib\\site-packages\\keras\\src\\layers\\rnn\\rnn.py:199: UserWarning: Do not pass an `input_shape`/`input_dim` argument to a layer. When using Sequential models, prefer using an `Input(shape)` object as the first layer in the model instead.\n",
      "  super().__init__(**kwargs)\n"
     ]
    },
    {
     "name": "stdout",
     "output_type": "stream",
     "text": [
      "\u001b[1m4/4\u001b[0m \u001b[32m━━━━━━━━━━━━━━━━━━━━\u001b[0m\u001b[37m\u001b[0m \u001b[1m1s\u001b[0m 212ms/step\n"
     ]
    },
    {
     "name": "stderr",
     "output_type": "stream",
     "text": [
      "[I 2025-06-12 16:19:02,376] Trial 23 finished with value: 38.33071517944336 and parameters: {'lstm_units': 32, 'lstm_layers': 2, 'dropout_rate': 0.30000000000000004, 'learning_rate': 0.00011330896869538976, 'batch_size': 32, 'dense_units': 32, 'window_size': 40}. Best is trial 11 with value: 17.824342727661133.\n",
      "c:\\Users\\jerem\\miniconda3\\Lib\\site-packages\\keras\\src\\layers\\rnn\\rnn.py:199: UserWarning: Do not pass an `input_shape`/`input_dim` argument to a layer. When using Sequential models, prefer using an `Input(shape)` object as the first layer in the model instead.\n",
      "  super().__init__(**kwargs)\n"
     ]
    },
    {
     "name": "stdout",
     "output_type": "stream",
     "text": [
      "\u001b[1m8/8\u001b[0m \u001b[32m━━━━━━━━━━━━━━━━━━━━\u001b[0m\u001b[37m\u001b[0m \u001b[1m1s\u001b[0m 74ms/step\n"
     ]
    },
    {
     "name": "stderr",
     "output_type": "stream",
     "text": [
      "[I 2025-06-12 16:19:37,751] Trial 24 finished with value: 20.56494140625 and parameters: {'lstm_units': 64, 'lstm_layers': 2, 'dropout_rate': 0.5, 'learning_rate': 0.0003225413399054124, 'batch_size': 16, 'dense_units': 80, 'window_size': 20}. Best is trial 11 with value: 17.824342727661133.\n",
      "c:\\Users\\jerem\\miniconda3\\Lib\\site-packages\\keras\\src\\layers\\rnn\\rnn.py:199: UserWarning: Do not pass an `input_shape`/`input_dim` argument to a layer. When using Sequential models, prefer using an `Input(shape)` object as the first layer in the model instead.\n",
      "  super().__init__(**kwargs)\n"
     ]
    },
    {
     "name": "stdout",
     "output_type": "stream",
     "text": [
      "\u001b[1m8/8\u001b[0m \u001b[32m━━━━━━━━━━━━━━━━━━━━\u001b[0m\u001b[37m\u001b[0m \u001b[1m1s\u001b[0m 77ms/step\n"
     ]
    },
    {
     "name": "stderr",
     "output_type": "stream",
     "text": [
      "[I 2025-06-12 16:20:13,031] Trial 25 finished with value: 25.940916061401367 and parameters: {'lstm_units': 32, 'lstm_layers': 2, 'dropout_rate': 0.4, 'learning_rate': 0.0005034938289823057, 'batch_size': 16, 'dense_units': 48, 'window_size': 50}. Best is trial 11 with value: 17.824342727661133.\n",
      "c:\\Users\\jerem\\miniconda3\\Lib\\site-packages\\keras\\src\\layers\\rnn\\rnn.py:199: UserWarning: Do not pass an `input_shape`/`input_dim` argument to a layer. When using Sequential models, prefer using an `Input(shape)` object as the first layer in the model instead.\n",
      "  super().__init__(**kwargs)\n"
     ]
    },
    {
     "name": "stdout",
     "output_type": "stream",
     "text": [
      "\u001b[1m4/4\u001b[0m \u001b[32m━━━━━━━━━━━━━━━━━━━━\u001b[0m\u001b[37m\u001b[0m \u001b[1m1s\u001b[0m 159ms/step\n"
     ]
    },
    {
     "name": "stderr",
     "output_type": "stream",
     "text": [
      "[I 2025-06-12 16:20:44,467] Trial 26 finished with value: 20.409595489501953 and parameters: {'lstm_units': 64, 'lstm_layers': 2, 'dropout_rate': 0.30000000000000004, 'learning_rate': 0.0010054597642581156, 'batch_size': 32, 'dense_units': 64, 'window_size': 30}. Best is trial 11 with value: 17.824342727661133.\n",
      "c:\\Users\\jerem\\miniconda3\\Lib\\site-packages\\keras\\src\\layers\\rnn\\rnn.py:199: UserWarning: Do not pass an `input_shape`/`input_dim` argument to a layer. When using Sequential models, prefer using an `Input(shape)` object as the first layer in the model instead.\n",
      "  super().__init__(**kwargs)\n"
     ]
    },
    {
     "name": "stdout",
     "output_type": "stream",
     "text": [
      "\u001b[1m8/8\u001b[0m \u001b[32m━━━━━━━━━━━━━━━━━━━━\u001b[0m\u001b[37m\u001b[0m \u001b[1m1s\u001b[0m 72ms/step\n"
     ]
    },
    {
     "name": "stderr",
     "output_type": "stream",
     "text": [
      "[I 2025-06-12 16:21:16,691] Trial 27 finished with value: 23.40492057800293 and parameters: {'lstm_units': 32, 'lstm_layers': 2, 'dropout_rate': 0.2, 'learning_rate': 0.00021152600143402854, 'batch_size': 16, 'dense_units': 32, 'window_size': 40}. Best is trial 11 with value: 17.824342727661133.\n",
      "c:\\Users\\jerem\\miniconda3\\Lib\\site-packages\\keras\\src\\layers\\rnn\\rnn.py:199: UserWarning: Do not pass an `input_shape`/`input_dim` argument to a layer. When using Sequential models, prefer using an `Input(shape)` object as the first layer in the model instead.\n",
      "  super().__init__(**kwargs)\n"
     ]
    },
    {
     "name": "stdout",
     "output_type": "stream",
     "text": [
      "\u001b[1m4/4\u001b[0m \u001b[32m━━━━━━━━━━━━━━━━━━━━\u001b[0m\u001b[37m\u001b[0m \u001b[1m1s\u001b[0m 166ms/step\n"
     ]
    },
    {
     "name": "stderr",
     "output_type": "stream",
     "text": [
      "[I 2025-06-12 16:21:32,948] Trial 28 finished with value: 26.872285842895508 and parameters: {'lstm_units': 96, 'lstm_layers': 2, 'dropout_rate': 0.1, 'learning_rate': 0.00016825134869140657, 'batch_size': 32, 'dense_units': 112, 'window_size': 20}. Best is trial 11 with value: 17.824342727661133.\n",
      "c:\\Users\\jerem\\miniconda3\\Lib\\site-packages\\keras\\src\\layers\\rnn\\rnn.py:199: UserWarning: Do not pass an `input_shape`/`input_dim` argument to a layer. When using Sequential models, prefer using an `Input(shape)` object as the first layer in the model instead.\n",
      "  super().__init__(**kwargs)\n"
     ]
    },
    {
     "name": "stdout",
     "output_type": "stream",
     "text": [
      "\u001b[1m4/4\u001b[0m \u001b[32m━━━━━━━━━━━━━━━━━━━━\u001b[0m\u001b[37m\u001b[0m \u001b[1m1s\u001b[0m 144ms/step\n"
     ]
    },
    {
     "name": "stderr",
     "output_type": "stream",
     "text": [
      "[I 2025-06-12 16:21:53,098] Trial 29 finished with value: 20.259653091430664 and parameters: {'lstm_units': 64, 'lstm_layers': 2, 'dropout_rate': 0.2, 'learning_rate': 0.0007085772542996884, 'batch_size': 32, 'dense_units': 32, 'window_size': 10}. Best is trial 11 with value: 17.824342727661133.\n",
      "c:\\Users\\jerem\\miniconda3\\Lib\\site-packages\\keras\\src\\layers\\rnn\\rnn.py:199: UserWarning: Do not pass an `input_shape`/`input_dim` argument to a layer. When using Sequential models, prefer using an `Input(shape)` object as the first layer in the model instead.\n",
      "  super().__init__(**kwargs)\n"
     ]
    },
    {
     "name": "stdout",
     "output_type": "stream",
     "text": [
      "\u001b[1m8/8\u001b[0m \u001b[32m━━━━━━━━━━━━━━━━━━━━\u001b[0m\u001b[37m\u001b[0m \u001b[1m1s\u001b[0m 75ms/step\n"
     ]
    },
    {
     "name": "stderr",
     "output_type": "stream",
     "text": [
      "[I 2025-06-12 16:22:24,660] Trial 30 finished with value: 18.1970157623291 and parameters: {'lstm_units': 32, 'lstm_layers': 2, 'dropout_rate': 0.5, 'learning_rate': 0.001022896673015686, 'batch_size': 16, 'dense_units': 48, 'window_size': 30}. Best is trial 11 with value: 17.824342727661133.\n",
      "c:\\Users\\jerem\\miniconda3\\Lib\\site-packages\\keras\\src\\layers\\rnn\\rnn.py:199: UserWarning: Do not pass an `input_shape`/`input_dim` argument to a layer. When using Sequential models, prefer using an `Input(shape)` object as the first layer in the model instead.\n",
      "  super().__init__(**kwargs)\n"
     ]
    },
    {
     "name": "stdout",
     "output_type": "stream",
     "text": [
      "\u001b[1m8/8\u001b[0m \u001b[32m━━━━━━━━━━━━━━━━━━━━\u001b[0m\u001b[37m\u001b[0m \u001b[1m1s\u001b[0m 74ms/step\n"
     ]
    },
    {
     "name": "stderr",
     "output_type": "stream",
     "text": [
      "[I 2025-06-12 16:22:44,058] Trial 31 finished with value: 16.288591384887695 and parameters: {'lstm_units': 32, 'lstm_layers': 2, 'dropout_rate': 0.5, 'learning_rate': 0.0010308681337167043, 'batch_size': 16, 'dense_units': 48, 'window_size': 30}. Best is trial 31 with value: 16.288591384887695.\n",
      "c:\\Users\\jerem\\miniconda3\\Lib\\site-packages\\keras\\src\\layers\\rnn\\rnn.py:199: UserWarning: Do not pass an `input_shape`/`input_dim` argument to a layer. When using Sequential models, prefer using an `Input(shape)` object as the first layer in the model instead.\n",
      "  super().__init__(**kwargs)\n"
     ]
    },
    {
     "name": "stdout",
     "output_type": "stream",
     "text": [
      "\u001b[1m8/8\u001b[0m \u001b[32m━━━━━━━━━━━━━━━━━━━━\u001b[0m\u001b[37m\u001b[0m \u001b[1m1s\u001b[0m 80ms/step\n"
     ]
    },
    {
     "name": "stderr",
     "output_type": "stream",
     "text": [
      "[I 2025-06-12 16:23:02,116] Trial 32 finished with value: 17.871389389038086 and parameters: {'lstm_units': 32, 'lstm_layers': 2, 'dropout_rate': 0.5, 'learning_rate': 0.0013150530129229327, 'batch_size': 16, 'dense_units': 16, 'window_size': 30}. Best is trial 31 with value: 16.288591384887695.\n",
      "c:\\Users\\jerem\\miniconda3\\Lib\\site-packages\\keras\\src\\layers\\rnn\\rnn.py:199: UserWarning: Do not pass an `input_shape`/`input_dim` argument to a layer. When using Sequential models, prefer using an `Input(shape)` object as the first layer in the model instead.\n",
      "  super().__init__(**kwargs)\n"
     ]
    },
    {
     "name": "stdout",
     "output_type": "stream",
     "text": [
      "\u001b[1m8/8\u001b[0m \u001b[32m━━━━━━━━━━━━━━━━━━━━\u001b[0m\u001b[37m\u001b[0m \u001b[1m1s\u001b[0m 69ms/step\n"
     ]
    },
    {
     "name": "stderr",
     "output_type": "stream",
     "text": [
      "[I 2025-06-12 16:23:29,288] Trial 33 finished with value: 20.82280158996582 and parameters: {'lstm_units': 32, 'lstm_layers': 2, 'dropout_rate': 0.5, 'learning_rate': 0.001594728107322394, 'batch_size': 16, 'dense_units': 16, 'window_size': 30}. Best is trial 31 with value: 16.288591384887695.\n",
      "c:\\Users\\jerem\\miniconda3\\Lib\\site-packages\\keras\\src\\layers\\rnn\\rnn.py:199: UserWarning: Do not pass an `input_shape`/`input_dim` argument to a layer. When using Sequential models, prefer using an `Input(shape)` object as the first layer in the model instead.\n",
      "  super().__init__(**kwargs)\n"
     ]
    },
    {
     "name": "stdout",
     "output_type": "stream",
     "text": [
      "\u001b[1m8/8\u001b[0m \u001b[32m━━━━━━━━━━━━━━━━━━━━\u001b[0m\u001b[37m\u001b[0m \u001b[1m1s\u001b[0m 75ms/step\n"
     ]
    },
    {
     "name": "stderr",
     "output_type": "stream",
     "text": [
      "[I 2025-06-12 16:23:43,187] Trial 34 finished with value: 16.88309097290039 and parameters: {'lstm_units': 32, 'lstm_layers': 2, 'dropout_rate': 0.5, 'learning_rate': 0.0028556208672545396, 'batch_size': 16, 'dense_units': 16, 'window_size': 20}. Best is trial 31 with value: 16.288591384887695.\n",
      "c:\\Users\\jerem\\miniconda3\\Lib\\site-packages\\keras\\src\\layers\\rnn\\rnn.py:199: UserWarning: Do not pass an `input_shape`/`input_dim` argument to a layer. When using Sequential models, prefer using an `Input(shape)` object as the first layer in the model instead.\n",
      "  super().__init__(**kwargs)\n"
     ]
    },
    {
     "name": "stdout",
     "output_type": "stream",
     "text": [
      "\u001b[1m8/8\u001b[0m \u001b[32m━━━━━━━━━━━━━━━━━━━━\u001b[0m\u001b[37m\u001b[0m \u001b[1m1s\u001b[0m 69ms/step\n"
     ]
    },
    {
     "name": "stderr",
     "output_type": "stream",
     "text": [
      "[I 2025-06-12 16:23:56,718] Trial 35 finished with value: 19.768531799316406 and parameters: {'lstm_units': 64, 'lstm_layers': 2, 'dropout_rate': 0.5, 'learning_rate': 0.00232761999788194, 'batch_size': 16, 'dense_units': 16, 'window_size': 10}. Best is trial 31 with value: 16.288591384887695.\n",
      "c:\\Users\\jerem\\miniconda3\\Lib\\site-packages\\keras\\src\\layers\\rnn\\rnn.py:199: UserWarning: Do not pass an `input_shape`/`input_dim` argument to a layer. When using Sequential models, prefer using an `Input(shape)` object as the first layer in the model instead.\n",
      "  super().__init__(**kwargs)\n"
     ]
    },
    {
     "name": "stdout",
     "output_type": "stream",
     "text": [
      "\u001b[1m8/8\u001b[0m \u001b[32m━━━━━━━━━━━━━━━━━━━━\u001b[0m\u001b[37m\u001b[0m \u001b[1m46s\u001b[0m 78ms/step\n"
     ]
    },
    {
     "name": "stderr",
     "output_type": "stream",
     "text": [
      "[I 2025-06-12 16:25:08,074] Trial 36 finished with value: 17.883481979370117 and parameters: {'lstm_units': 32, 'lstm_layers': 2, 'dropout_rate': 0.5, 'learning_rate': 0.0012859899673856468, 'batch_size': 16, 'dense_units': 16, 'window_size': 30}. Best is trial 31 with value: 16.288591384887695.\n",
      "c:\\Users\\jerem\\miniconda3\\Lib\\site-packages\\keras\\src\\layers\\rnn\\rnn.py:199: UserWarning: Do not pass an `input_shape`/`input_dim` argument to a layer. When using Sequential models, prefer using an `Input(shape)` object as the first layer in the model instead.\n",
      "  super().__init__(**kwargs)\n"
     ]
    },
    {
     "name": "stdout",
     "output_type": "stream",
     "text": [
      "\u001b[1m8/8\u001b[0m \u001b[32m━━━━━━━━━━━━━━━━━━━━\u001b[0m\u001b[37m\u001b[0m \u001b[1m1s\u001b[0m 72ms/step\n"
     ]
    },
    {
     "name": "stderr",
     "output_type": "stream",
     "text": [
      "[I 2025-06-12 16:25:32,021] Trial 37 finished with value: 29.5024356842041 and parameters: {'lstm_units': 32, 'lstm_layers': 2, 'dropout_rate': 0.5, 'learning_rate': 0.003688431864305289, 'batch_size': 16, 'dense_units': 32, 'window_size': 40}. Best is trial 31 with value: 16.288591384887695.\n",
      "c:\\Users\\jerem\\miniconda3\\Lib\\site-packages\\keras\\src\\layers\\rnn\\rnn.py:199: UserWarning: Do not pass an `input_shape`/`input_dim` argument to a layer. When using Sequential models, prefer using an `Input(shape)` object as the first layer in the model instead.\n",
      "  super().__init__(**kwargs)\n"
     ]
    },
    {
     "name": "stdout",
     "output_type": "stream",
     "text": [
      "\u001b[1m8/8\u001b[0m \u001b[32m━━━━━━━━━━━━━━━━━━━━\u001b[0m\u001b[37m\u001b[0m \u001b[1m1s\u001b[0m 69ms/step\n"
     ]
    },
    {
     "name": "stderr",
     "output_type": "stream",
     "text": [
      "[I 2025-06-12 16:26:02,071] Trial 38 finished with value: 20.10421371459961 and parameters: {'lstm_units': 64, 'lstm_layers': 2, 'dropout_rate': 0.4, 'learning_rate': 0.006185237575179437, 'batch_size': 16, 'dense_units': 16, 'window_size': 20}. Best is trial 31 with value: 16.288591384887695.\n",
      "c:\\Users\\jerem\\miniconda3\\Lib\\site-packages\\keras\\src\\layers\\rnn\\rnn.py:199: UserWarning: Do not pass an `input_shape`/`input_dim` argument to a layer. When using Sequential models, prefer using an `Input(shape)` object as the first layer in the model instead.\n",
      "  super().__init__(**kwargs)\n"
     ]
    },
    {
     "name": "stdout",
     "output_type": "stream",
     "text": [
      "\u001b[1m8/8\u001b[0m \u001b[32m━━━━━━━━━━━━━━━━━━━━\u001b[0m\u001b[37m\u001b[0m \u001b[1m1s\u001b[0m 55ms/step\n"
     ]
    },
    {
     "name": "stderr",
     "output_type": "stream",
     "text": [
      "[I 2025-06-12 16:26:42,225] Trial 39 finished with value: 20.798904418945312 and parameters: {'lstm_units': 128, 'lstm_layers': 1, 'dropout_rate': 0.5, 'learning_rate': 0.0012565633270414417, 'batch_size': 16, 'dense_units': 32, 'window_size': 30}. Best is trial 31 with value: 16.288591384887695.\n",
      "c:\\Users\\jerem\\miniconda3\\Lib\\site-packages\\keras\\src\\layers\\rnn\\rnn.py:199: UserWarning: Do not pass an `input_shape`/`input_dim` argument to a layer. When using Sequential models, prefer using an `Input(shape)` object as the first layer in the model instead.\n",
      "  super().__init__(**kwargs)\n"
     ]
    },
    {
     "name": "stdout",
     "output_type": "stream",
     "text": [
      "\u001b[1m8/8\u001b[0m \u001b[32m━━━━━━━━━━━━━━━━━━━━\u001b[0m\u001b[37m\u001b[0m \u001b[1m1s\u001b[0m 72ms/step\n"
     ]
    },
    {
     "name": "stderr",
     "output_type": "stream",
     "text": [
      "[I 2025-06-12 16:27:04,471] Trial 40 finished with value: 17.3709774017334 and parameters: {'lstm_units': 32, 'lstm_layers': 2, 'dropout_rate': 0.4, 'learning_rate': 0.0008541191422233317, 'batch_size': 16, 'dense_units': 16, 'window_size': 30}. Best is trial 31 with value: 16.288591384887695.\n",
      "c:\\Users\\jerem\\miniconda3\\Lib\\site-packages\\keras\\src\\layers\\rnn\\rnn.py:199: UserWarning: Do not pass an `input_shape`/`input_dim` argument to a layer. When using Sequential models, prefer using an `Input(shape)` object as the first layer in the model instead.\n",
      "  super().__init__(**kwargs)\n"
     ]
    },
    {
     "name": "stdout",
     "output_type": "stream",
     "text": [
      "\u001b[1m8/8\u001b[0m \u001b[32m━━━━━━━━━━━━━━━━━━━━\u001b[0m\u001b[37m\u001b[0m \u001b[1m1s\u001b[0m 67ms/step\n"
     ]
    },
    {
     "name": "stderr",
     "output_type": "stream",
     "text": [
      "[I 2025-06-12 16:27:36,455] Trial 41 finished with value: 17.23540496826172 and parameters: {'lstm_units': 32, 'lstm_layers': 2, 'dropout_rate': 0.5, 'learning_rate': 0.0008339363582256067, 'batch_size': 16, 'dense_units': 16, 'window_size': 30}. Best is trial 31 with value: 16.288591384887695.\n",
      "c:\\Users\\jerem\\miniconda3\\Lib\\site-packages\\keras\\src\\layers\\rnn\\rnn.py:199: UserWarning: Do not pass an `input_shape`/`input_dim` argument to a layer. When using Sequential models, prefer using an `Input(shape)` object as the first layer in the model instead.\n",
      "  super().__init__(**kwargs)\n"
     ]
    },
    {
     "name": "stdout",
     "output_type": "stream",
     "text": [
      "\u001b[1m8/8\u001b[0m \u001b[32m━━━━━━━━━━━━━━━━━━━━\u001b[0m\u001b[37m\u001b[0m \u001b[1m1s\u001b[0m 69ms/step\n"
     ]
    },
    {
     "name": "stderr",
     "output_type": "stream",
     "text": [
      "[I 2025-06-12 16:28:05,204] Trial 42 finished with value: 43.01532745361328 and parameters: {'lstm_units': 32, 'lstm_layers': 2, 'dropout_rate': 0.4, 'learning_rate': 0.0008006180813476242, 'batch_size': 16, 'dense_units': 32, 'window_size': 30}. Best is trial 31 with value: 16.288591384887695.\n",
      "c:\\Users\\jerem\\miniconda3\\Lib\\site-packages\\keras\\src\\layers\\rnn\\rnn.py:199: UserWarning: Do not pass an `input_shape`/`input_dim` argument to a layer. When using Sequential models, prefer using an `Input(shape)` object as the first layer in the model instead.\n",
      "  super().__init__(**kwargs)\n"
     ]
    },
    {
     "name": "stdout",
     "output_type": "stream",
     "text": [
      "\u001b[1m8/8\u001b[0m \u001b[32m━━━━━━━━━━━━━━━━━━━━\u001b[0m\u001b[37m\u001b[0m \u001b[1m1s\u001b[0m 68ms/step\n"
     ]
    },
    {
     "name": "stderr",
     "output_type": "stream",
     "text": [
      "[I 2025-06-12 16:28:26,508] Trial 43 finished with value: 17.23161506652832 and parameters: {'lstm_units': 32, 'lstm_layers': 2, 'dropout_rate': 0.5, 'learning_rate': 0.0008185333200190362, 'batch_size': 16, 'dense_units': 16, 'window_size': 40}. Best is trial 31 with value: 16.288591384887695.\n",
      "c:\\Users\\jerem\\miniconda3\\Lib\\site-packages\\keras\\src\\layers\\rnn\\rnn.py:199: UserWarning: Do not pass an `input_shape`/`input_dim` argument to a layer. When using Sequential models, prefer using an `Input(shape)` object as the first layer in the model instead.\n",
      "  super().__init__(**kwargs)\n"
     ]
    },
    {
     "name": "stdout",
     "output_type": "stream",
     "text": [
      "\u001b[1m8/8\u001b[0m \u001b[32m━━━━━━━━━━━━━━━━━━━━\u001b[0m\u001b[37m\u001b[0m \u001b[1m1s\u001b[0m 75ms/step\n"
     ]
    },
    {
     "name": "stderr",
     "output_type": "stream",
     "text": [
      "[I 2025-06-12 16:28:49,694] Trial 44 finished with value: 17.17156410217285 and parameters: {'lstm_units': 32, 'lstm_layers': 2, 'dropout_rate': 0.5, 'learning_rate': 0.0005139238148555697, 'batch_size': 16, 'dense_units': 16, 'window_size': 40}. Best is trial 31 with value: 16.288591384887695.\n",
      "c:\\Users\\jerem\\miniconda3\\Lib\\site-packages\\keras\\src\\layers\\rnn\\rnn.py:199: UserWarning: Do not pass an `input_shape`/`input_dim` argument to a layer. When using Sequential models, prefer using an `Input(shape)` object as the first layer in the model instead.\n",
      "  super().__init__(**kwargs)\n"
     ]
    },
    {
     "name": "stdout",
     "output_type": "stream",
     "text": [
      "\u001b[1m8/8\u001b[0m \u001b[32m━━━━━━━━━━━━━━━━━━━━\u001b[0m\u001b[37m\u001b[0m \u001b[1m1s\u001b[0m 74ms/step\n"
     ]
    },
    {
     "name": "stderr",
     "output_type": "stream",
     "text": [
      "[I 2025-06-12 16:30:04,737] Trial 45 finished with value: 17.659923553466797 and parameters: {'lstm_units': 64, 'lstm_layers': 2, 'dropout_rate': 0.5, 'learning_rate': 0.0005336103448468164, 'batch_size': 16, 'dense_units': 16, 'window_size': 40}. Best is trial 31 with value: 16.288591384887695.\n",
      "c:\\Users\\jerem\\miniconda3\\Lib\\site-packages\\keras\\src\\layers\\rnn\\rnn.py:199: UserWarning: Do not pass an `input_shape`/`input_dim` argument to a layer. When using Sequential models, prefer using an `Input(shape)` object as the first layer in the model instead.\n",
      "  super().__init__(**kwargs)\n"
     ]
    },
    {
     "name": "stdout",
     "output_type": "stream",
     "text": [
      "\u001b[1m8/8\u001b[0m \u001b[32m━━━━━━━━━━━━━━━━━━━━\u001b[0m\u001b[37m\u001b[0m \u001b[1m1s\u001b[0m 110ms/step\n"
     ]
    },
    {
     "name": "stderr",
     "output_type": "stream",
     "text": [
      "[I 2025-06-12 16:31:24,619] Trial 46 finished with value: 21.072481155395508 and parameters: {'lstm_units': 32, 'lstm_layers': 2, 'dropout_rate': 0.5, 'learning_rate': 0.00040104402550601167, 'batch_size': 16, 'dense_units': 32, 'window_size': 50}. Best is trial 31 with value: 16.288591384887695.\n",
      "c:\\Users\\jerem\\miniconda3\\Lib\\site-packages\\keras\\src\\layers\\rnn\\rnn.py:199: UserWarning: Do not pass an `input_shape`/`input_dim` argument to a layer. When using Sequential models, prefer using an `Input(shape)` object as the first layer in the model instead.\n",
      "  super().__init__(**kwargs)\n"
     ]
    },
    {
     "name": "stdout",
     "output_type": "stream",
     "text": [
      "\u001b[1m8/8\u001b[0m \u001b[32m━━━━━━━━━━━━━━━━━━━━\u001b[0m\u001b[37m\u001b[0m \u001b[1m1s\u001b[0m 72ms/step\n"
     ]
    },
    {
     "name": "stderr",
     "output_type": "stream",
     "text": [
      "[I 2025-06-12 16:31:52,252] Trial 47 finished with value: 19.416311264038086 and parameters: {'lstm_units': 32, 'lstm_layers': 2, 'dropout_rate': 0.5, 'learning_rate': 0.0005759840718820146, 'batch_size': 16, 'dense_units': 16, 'window_size': 40}. Best is trial 31 with value: 16.288591384887695.\n",
      "c:\\Users\\jerem\\miniconda3\\Lib\\site-packages\\keras\\src\\layers\\rnn\\rnn.py:199: UserWarning: Do not pass an `input_shape`/`input_dim` argument to a layer. When using Sequential models, prefer using an `Input(shape)` object as the first layer in the model instead.\n",
      "  super().__init__(**kwargs)\n"
     ]
    },
    {
     "name": "stdout",
     "output_type": "stream",
     "text": [
      "\u001b[1m8/8\u001b[0m \u001b[32m━━━━━━━━━━━━━━━━━━━━\u001b[0m\u001b[37m\u001b[0m \u001b[1m1s\u001b[0m 44ms/step\n"
     ]
    },
    {
     "name": "stderr",
     "output_type": "stream",
     "text": [
      "[I 2025-06-12 16:32:16,069] Trial 48 finished with value: 20.855236053466797 and parameters: {'lstm_units': 32, 'lstm_layers': 1, 'dropout_rate': 0.5, 'learning_rate': 0.002570816823287168, 'batch_size': 16, 'dense_units': 32, 'window_size': 50}. Best is trial 31 with value: 16.288591384887695.\n",
      "c:\\Users\\jerem\\miniconda3\\Lib\\site-packages\\keras\\src\\layers\\rnn\\rnn.py:199: UserWarning: Do not pass an `input_shape`/`input_dim` argument to a layer. When using Sequential models, prefer using an `Input(shape)` object as the first layer in the model instead.\n",
      "  super().__init__(**kwargs)\n"
     ]
    },
    {
     "name": "stdout",
     "output_type": "stream",
     "text": [
      "\u001b[1m8/8\u001b[0m \u001b[32m━━━━━━━━━━━━━━━━━━━━\u001b[0m\u001b[37m\u001b[0m \u001b[1m1s\u001b[0m 76ms/step\n"
     ]
    },
    {
     "name": "stderr",
     "output_type": "stream",
     "text": [
      "[I 2025-06-12 16:32:56,503] Trial 49 finished with value: 18.71733856201172 and parameters: {'lstm_units': 64, 'lstm_layers': 2, 'dropout_rate': 0.4, 'learning_rate': 0.0010293885067117715, 'batch_size': 16, 'dense_units': 16, 'window_size': 40}. Best is trial 31 with value: 16.288591384887695.\n",
      "c:\\Users\\jerem\\miniconda3\\Lib\\site-packages\\keras\\src\\layers\\rnn\\rnn.py:199: UserWarning: Do not pass an `input_shape`/`input_dim` argument to a layer. When using Sequential models, prefer using an `Input(shape)` object as the first layer in the model instead.\n",
      "  super().__init__(**kwargs)\n"
     ]
    },
    {
     "name": "stdout",
     "output_type": "stream",
     "text": [
      "\u001b[1m8/8\u001b[0m \u001b[32m━━━━━━━━━━━━━━━━━━━━\u001b[0m\u001b[37m\u001b[0m \u001b[1m1s\u001b[0m 69ms/step\n"
     ]
    },
    {
     "name": "stderr",
     "output_type": "stream",
     "text": [
      "[I 2025-06-12 16:33:13,303] Trial 50 finished with value: 22.22242546081543 and parameters: {'lstm_units': 32, 'lstm_layers': 2, 'dropout_rate': 0.5, 'learning_rate': 0.006000433834669991, 'batch_size': 16, 'dense_units': 16, 'window_size': 40}. Best is trial 31 with value: 16.288591384887695.\n",
      "c:\\Users\\jerem\\miniconda3\\Lib\\site-packages\\keras\\src\\layers\\rnn\\rnn.py:199: UserWarning: Do not pass an `input_shape`/`input_dim` argument to a layer. When using Sequential models, prefer using an `Input(shape)` object as the first layer in the model instead.\n",
      "  super().__init__(**kwargs)\n"
     ]
    },
    {
     "name": "stdout",
     "output_type": "stream",
     "text": [
      "\u001b[1m8/8\u001b[0m \u001b[32m━━━━━━━━━━━━━━━━━━━━\u001b[0m\u001b[37m\u001b[0m \u001b[1m1s\u001b[0m 73ms/step\n"
     ]
    },
    {
     "name": "stderr",
     "output_type": "stream",
     "text": [
      "[I 2025-06-12 16:33:35,453] Trial 51 finished with value: 18.513626098632812 and parameters: {'lstm_units': 32, 'lstm_layers': 2, 'dropout_rate': 0.4, 'learning_rate': 0.0008492045653845206, 'batch_size': 16, 'dense_units': 16, 'window_size': 40}. Best is trial 31 with value: 16.288591384887695.\n",
      "c:\\Users\\jerem\\miniconda3\\Lib\\site-packages\\keras\\src\\layers\\rnn\\rnn.py:199: UserWarning: Do not pass an `input_shape`/`input_dim` argument to a layer. When using Sequential models, prefer using an `Input(shape)` object as the first layer in the model instead.\n",
      "  super().__init__(**kwargs)\n"
     ]
    },
    {
     "name": "stdout",
     "output_type": "stream",
     "text": [
      "\u001b[1m8/8\u001b[0m \u001b[32m━━━━━━━━━━━━━━━━━━━━\u001b[0m\u001b[37m\u001b[0m \u001b[1m1s\u001b[0m 69ms/step\n"
     ]
    },
    {
     "name": "stderr",
     "output_type": "stream",
     "text": [
      "[I 2025-06-12 16:34:05,187] Trial 52 finished with value: 18.133424758911133 and parameters: {'lstm_units': 32, 'lstm_layers': 2, 'dropout_rate': 0.5, 'learning_rate': 0.0008454487566945943, 'batch_size': 16, 'dense_units': 32, 'window_size': 30}. Best is trial 31 with value: 16.288591384887695.\n",
      "c:\\Users\\jerem\\miniconda3\\Lib\\site-packages\\keras\\src\\layers\\rnn\\rnn.py:199: UserWarning: Do not pass an `input_shape`/`input_dim` argument to a layer. When using Sequential models, prefer using an `Input(shape)` object as the first layer in the model instead.\n",
      "  super().__init__(**kwargs)\n"
     ]
    },
    {
     "name": "stdout",
     "output_type": "stream",
     "text": [
      "\u001b[1m8/8\u001b[0m \u001b[32m━━━━━━━━━━━━━━━━━━━━\u001b[0m\u001b[37m\u001b[0m \u001b[1m1s\u001b[0m 69ms/step\n"
     ]
    },
    {
     "name": "stderr",
     "output_type": "stream",
     "text": [
      "[I 2025-06-12 16:34:22,038] Trial 53 finished with value: 17.006874084472656 and parameters: {'lstm_units': 32, 'lstm_layers': 2, 'dropout_rate': 0.4, 'learning_rate': 0.0006709403970801866, 'batch_size': 16, 'dense_units': 16, 'window_size': 20}. Best is trial 31 with value: 16.288591384887695.\n",
      "c:\\Users\\jerem\\miniconda3\\Lib\\site-packages\\keras\\src\\layers\\rnn\\rnn.py:199: UserWarning: Do not pass an `input_shape`/`input_dim` argument to a layer. When using Sequential models, prefer using an `Input(shape)` object as the first layer in the model instead.\n",
      "  super().__init__(**kwargs)\n"
     ]
    },
    {
     "name": "stdout",
     "output_type": "stream",
     "text": [
      "\u001b[1m8/8\u001b[0m \u001b[32m━━━━━━━━━━━━━━━━━━━━\u001b[0m\u001b[37m\u001b[0m \u001b[1m1s\u001b[0m 68ms/step\n"
     ]
    },
    {
     "name": "stderr",
     "output_type": "stream",
     "text": [
      "[I 2025-06-12 16:34:56,455] Trial 54 finished with value: 21.29006004333496 and parameters: {'lstm_units': 32, 'lstm_layers': 2, 'dropout_rate': 0.5, 'learning_rate': 0.0006371763061243128, 'batch_size': 16, 'dense_units': 16, 'window_size': 20}. Best is trial 31 with value: 16.288591384887695.\n",
      "c:\\Users\\jerem\\miniconda3\\Lib\\site-packages\\keras\\src\\layers\\rnn\\rnn.py:199: UserWarning: Do not pass an `input_shape`/`input_dim` argument to a layer. When using Sequential models, prefer using an `Input(shape)` object as the first layer in the model instead.\n",
      "  super().__init__(**kwargs)\n"
     ]
    },
    {
     "name": "stdout",
     "output_type": "stream",
     "text": [
      "\u001b[1m8/8\u001b[0m \u001b[32m━━━━━━━━━━━━━━━━━━━━\u001b[0m\u001b[37m\u001b[0m \u001b[1m1s\u001b[0m 72ms/step\n"
     ]
    },
    {
     "name": "stderr",
     "output_type": "stream",
     "text": [
      "[I 2025-06-12 16:35:14,044] Trial 55 finished with value: 22.735233306884766 and parameters: {'lstm_units': 32, 'lstm_layers': 2, 'dropout_rate': 0.5, 'learning_rate': 0.00043840160662563524, 'batch_size': 16, 'dense_units': 32, 'window_size': 20}. Best is trial 31 with value: 16.288591384887695.\n",
      "c:\\Users\\jerem\\miniconda3\\Lib\\site-packages\\keras\\src\\layers\\rnn\\rnn.py:199: UserWarning: Do not pass an `input_shape`/`input_dim` argument to a layer. When using Sequential models, prefer using an `Input(shape)` object as the first layer in the model instead.\n",
      "  super().__init__(**kwargs)\n"
     ]
    },
    {
     "name": "stdout",
     "output_type": "stream",
     "text": [
      "\u001b[1m8/8\u001b[0m \u001b[32m━━━━━━━━━━━━━━━━━━━━\u001b[0m\u001b[37m\u001b[0m \u001b[1m1s\u001b[0m 67ms/step\n"
     ]
    },
    {
     "name": "stderr",
     "output_type": "stream",
     "text": [
      "[I 2025-06-12 16:35:29,188] Trial 56 finished with value: 23.41080665588379 and parameters: {'lstm_units': 32, 'lstm_layers': 2, 'dropout_rate': 0.4, 'learning_rate': 0.001672365349778155, 'batch_size': 16, 'dense_units': 16, 'window_size': 10}. Best is trial 31 with value: 16.288591384887695.\n",
      "c:\\Users\\jerem\\miniconda3\\Lib\\site-packages\\keras\\src\\layers\\rnn\\rnn.py:199: UserWarning: Do not pass an `input_shape`/`input_dim` argument to a layer. When using Sequential models, prefer using an `Input(shape)` object as the first layer in the model instead.\n",
      "  super().__init__(**kwargs)\n"
     ]
    },
    {
     "name": "stdout",
     "output_type": "stream",
     "text": [
      "\u001b[1m8/8\u001b[0m \u001b[32m━━━━━━━━━━━━━━━━━━━━\u001b[0m\u001b[37m\u001b[0m \u001b[1m1s\u001b[0m 72ms/step\n"
     ]
    },
    {
     "name": "stderr",
     "output_type": "stream",
     "text": [
      "[I 2025-06-12 16:36:23,447] Trial 57 finished with value: 23.940250396728516 and parameters: {'lstm_units': 32, 'lstm_layers': 2, 'dropout_rate': 0.5, 'learning_rate': 0.00033578561121522254, 'batch_size': 16, 'dense_units': 48, 'window_size': 50}. Best is trial 31 with value: 16.288591384887695.\n",
      "c:\\Users\\jerem\\miniconda3\\Lib\\site-packages\\keras\\src\\layers\\rnn\\rnn.py:199: UserWarning: Do not pass an `input_shape`/`input_dim` argument to a layer. When using Sequential models, prefer using an `Input(shape)` object as the first layer in the model instead.\n",
      "  super().__init__(**kwargs)\n"
     ]
    },
    {
     "name": "stdout",
     "output_type": "stream",
     "text": [
      "\u001b[1m8/8\u001b[0m \u001b[32m━━━━━━━━━━━━━━━━━━━━\u001b[0m\u001b[37m\u001b[0m \u001b[1m1s\u001b[0m 69ms/step\n"
     ]
    },
    {
     "name": "stderr",
     "output_type": "stream",
     "text": [
      "[I 2025-06-12 16:36:46,957] Trial 58 finished with value: 18.666536331176758 and parameters: {'lstm_units': 32, 'lstm_layers': 2, 'dropout_rate': 0.4, 'learning_rate': 0.00027202907245880623, 'batch_size': 16, 'dense_units': 16, 'window_size': 20}. Best is trial 31 with value: 16.288591384887695.\n",
      "c:\\Users\\jerem\\miniconda3\\Lib\\site-packages\\keras\\src\\layers\\rnn\\rnn.py:199: UserWarning: Do not pass an `input_shape`/`input_dim` argument to a layer. When using Sequential models, prefer using an `Input(shape)` object as the first layer in the model instead.\n",
      "  super().__init__(**kwargs)\n"
     ]
    },
    {
     "name": "stdout",
     "output_type": "stream",
     "text": [
      "\u001b[1m8/8\u001b[0m \u001b[32m━━━━━━━━━━━━━━━━━━━━\u001b[0m\u001b[37m\u001b[0m \u001b[1m1s\u001b[0m 69ms/step\n"
     ]
    },
    {
     "name": "stderr",
     "output_type": "stream",
     "text": [
      "[I 2025-06-12 16:37:18,379] Trial 59 finished with value: 17.66150665283203 and parameters: {'lstm_units': 96, 'lstm_layers': 2, 'dropout_rate': 0.5, 'learning_rate': 0.0005715176735216011, 'batch_size': 16, 'dense_units': 32, 'window_size': 20}. Best is trial 31 with value: 16.288591384887695.\n",
      "c:\\Users\\jerem\\miniconda3\\Lib\\site-packages\\keras\\src\\layers\\rnn\\rnn.py:199: UserWarning: Do not pass an `input_shape`/`input_dim` argument to a layer. When using Sequential models, prefer using an `Input(shape)` object as the first layer in the model instead.\n",
      "  super().__init__(**kwargs)\n"
     ]
    },
    {
     "name": "stdout",
     "output_type": "stream",
     "text": [
      "\u001b[1m8/8\u001b[0m \u001b[32m━━━━━━━━━━━━━━━━━━━━\u001b[0m\u001b[37m\u001b[0m \u001b[1m1s\u001b[0m 71ms/step\n"
     ]
    },
    {
     "name": "stderr",
     "output_type": "stream",
     "text": [
      "[I 2025-06-12 16:37:59,161] Trial 60 finished with value: 21.300128936767578 and parameters: {'lstm_units': 64, 'lstm_layers': 2, 'dropout_rate': 0.4, 'learning_rate': 0.0034013900256475932, 'batch_size': 16, 'dense_units': 32, 'window_size': 40}. Best is trial 31 with value: 16.288591384887695.\n",
      "c:\\Users\\jerem\\miniconda3\\Lib\\site-packages\\keras\\src\\layers\\rnn\\rnn.py:199: UserWarning: Do not pass an `input_shape`/`input_dim` argument to a layer. When using Sequential models, prefer using an `Input(shape)` object as the first layer in the model instead.\n",
      "  super().__init__(**kwargs)\n"
     ]
    },
    {
     "name": "stdout",
     "output_type": "stream",
     "text": [
      "\u001b[1m8/8\u001b[0m \u001b[32m━━━━━━━━━━━━━━━━━━━━\u001b[0m\u001b[37m\u001b[0m \u001b[1m1s\u001b[0m 86ms/step\n"
     ]
    },
    {
     "name": "stderr",
     "output_type": "stream",
     "text": [
      "[I 2025-06-12 16:38:32,781] Trial 61 finished with value: 23.089807510375977 and parameters: {'lstm_units': 32, 'lstm_layers': 2, 'dropout_rate': 0.30000000000000004, 'learning_rate': 0.0008797729239768166, 'batch_size': 16, 'dense_units': 16, 'window_size': 30}. Best is trial 31 with value: 16.288591384887695.\n",
      "c:\\Users\\jerem\\miniconda3\\Lib\\site-packages\\keras\\src\\layers\\rnn\\rnn.py:199: UserWarning: Do not pass an `input_shape`/`input_dim` argument to a layer. When using Sequential models, prefer using an `Input(shape)` object as the first layer in the model instead.\n",
      "  super().__init__(**kwargs)\n"
     ]
    },
    {
     "name": "stdout",
     "output_type": "stream",
     "text": [
      "\u001b[1m8/8\u001b[0m \u001b[32m━━━━━━━━━━━━━━━━━━━━\u001b[0m\u001b[37m\u001b[0m \u001b[1m1s\u001b[0m 65ms/step\n"
     ]
    },
    {
     "name": "stderr",
     "output_type": "stream",
     "text": [
      "[I 2025-06-12 16:38:58,711] Trial 62 finished with value: 19.851341247558594 and parameters: {'lstm_units': 32, 'lstm_layers': 2, 'dropout_rate': 0.5, 'learning_rate': 0.0006800300977152485, 'batch_size': 16, 'dense_units': 16, 'window_size': 30}. Best is trial 31 with value: 16.288591384887695.\n",
      "c:\\Users\\jerem\\miniconda3\\Lib\\site-packages\\keras\\src\\layers\\rnn\\rnn.py:199: UserWarning: Do not pass an `input_shape`/`input_dim` argument to a layer. When using Sequential models, prefer using an `Input(shape)` object as the first layer in the model instead.\n",
      "  super().__init__(**kwargs)\n"
     ]
    },
    {
     "name": "stdout",
     "output_type": "stream",
     "text": [
      "\u001b[1m8/8\u001b[0m \u001b[32m━━━━━━━━━━━━━━━━━━━━\u001b[0m\u001b[37m\u001b[0m \u001b[1m1s\u001b[0m 64ms/step\n"
     ]
    },
    {
     "name": "stderr",
     "output_type": "stream",
     "text": [
      "[I 2025-06-12 16:39:26,548] Trial 63 finished with value: 20.542577743530273 and parameters: {'lstm_units': 32, 'lstm_layers': 2, 'dropout_rate': 0.4, 'learning_rate': 0.0014432291356529466, 'batch_size': 16, 'dense_units': 16, 'window_size': 40}. Best is trial 31 with value: 16.288591384887695.\n",
      "c:\\Users\\jerem\\miniconda3\\Lib\\site-packages\\keras\\src\\layers\\rnn\\rnn.py:199: UserWarning: Do not pass an `input_shape`/`input_dim` argument to a layer. When using Sequential models, prefer using an `Input(shape)` object as the first layer in the model instead.\n",
      "  super().__init__(**kwargs)\n"
     ]
    },
    {
     "name": "stdout",
     "output_type": "stream",
     "text": [
      "\u001b[1m8/8\u001b[0m \u001b[32m━━━━━━━━━━━━━━━━━━━━\u001b[0m\u001b[37m\u001b[0m \u001b[1m1s\u001b[0m 65ms/step\n"
     ]
    },
    {
     "name": "stderr",
     "output_type": "stream",
     "text": [
      "[I 2025-06-12 16:39:51,714] Trial 64 finished with value: 21.77775001525879 and parameters: {'lstm_units': 32, 'lstm_layers': 2, 'dropout_rate': 0.30000000000000004, 'learning_rate': 0.002002550950681807, 'batch_size': 16, 'dense_units': 16, 'window_size': 30}. Best is trial 31 with value: 16.288591384887695.\n",
      "c:\\Users\\jerem\\miniconda3\\Lib\\site-packages\\keras\\src\\layers\\rnn\\rnn.py:199: UserWarning: Do not pass an `input_shape`/`input_dim` argument to a layer. When using Sequential models, prefer using an `Input(shape)` object as the first layer in the model instead.\n",
      "  super().__init__(**kwargs)\n"
     ]
    },
    {
     "name": "stdout",
     "output_type": "stream",
     "text": [
      "\u001b[1m8/8\u001b[0m \u001b[32m━━━━━━━━━━━━━━━━━━━━\u001b[0m\u001b[37m\u001b[0m \u001b[1m1s\u001b[0m 64ms/step\n"
     ]
    },
    {
     "name": "stderr",
     "output_type": "stream",
     "text": [
      "[I 2025-06-12 16:40:19,380] Trial 65 finished with value: 22.87400245666504 and parameters: {'lstm_units': 32, 'lstm_layers': 2, 'dropout_rate': 0.5, 'learning_rate': 0.0010984898116406924, 'batch_size': 16, 'dense_units': 16, 'window_size': 20}. Best is trial 31 with value: 16.288591384887695.\n",
      "c:\\Users\\jerem\\miniconda3\\Lib\\site-packages\\keras\\src\\layers\\rnn\\rnn.py:199: UserWarning: Do not pass an `input_shape`/`input_dim` argument to a layer. When using Sequential models, prefer using an `Input(shape)` object as the first layer in the model instead.\n",
      "  super().__init__(**kwargs)\n"
     ]
    },
    {
     "name": "stdout",
     "output_type": "stream",
     "text": [
      "\u001b[1m8/8\u001b[0m \u001b[32m━━━━━━━━━━━━━━━━━━━━\u001b[0m\u001b[37m\u001b[0m \u001b[1m1s\u001b[0m 59ms/step\n"
     ]
    },
    {
     "name": "stderr",
     "output_type": "stream",
     "text": [
      "[I 2025-06-12 16:41:10,462] Trial 66 finished with value: 18.72953987121582 and parameters: {'lstm_units': 32, 'lstm_layers': 2, 'dropout_rate': 0.4, 'learning_rate': 0.0007314529965765296, 'batch_size': 16, 'dense_units': 32, 'window_size': 30}. Best is trial 31 with value: 16.288591384887695.\n",
      "c:\\Users\\jerem\\miniconda3\\Lib\\site-packages\\keras\\src\\layers\\rnn\\rnn.py:199: UserWarning: Do not pass an `input_shape`/`input_dim` argument to a layer. When using Sequential models, prefer using an `Input(shape)` object as the first layer in the model instead.\n",
      "  super().__init__(**kwargs)\n"
     ]
    },
    {
     "name": "stdout",
     "output_type": "stream",
     "text": [
      "\u001b[1m8/8\u001b[0m \u001b[32m━━━━━━━━━━━━━━━━━━━━\u001b[0m\u001b[37m\u001b[0m \u001b[1m1s\u001b[0m 66ms/step\n"
     ]
    },
    {
     "name": "stderr",
     "output_type": "stream",
     "text": [
      "[I 2025-06-12 16:41:21,329] Trial 67 finished with value: 26.302024841308594 and parameters: {'lstm_units': 32, 'lstm_layers': 2, 'dropout_rate': 0.30000000000000004, 'learning_rate': 0.00968035779755899, 'batch_size': 16, 'dense_units': 16, 'window_size': 10}. Best is trial 31 with value: 16.288591384887695.\n",
      "c:\\Users\\jerem\\miniconda3\\Lib\\site-packages\\keras\\src\\layers\\rnn\\rnn.py:199: UserWarning: Do not pass an `input_shape`/`input_dim` argument to a layer. When using Sequential models, prefer using an `Input(shape)` object as the first layer in the model instead.\n",
      "  super().__init__(**kwargs)\n"
     ]
    },
    {
     "name": "stdout",
     "output_type": "stream",
     "text": [
      "\u001b[1m8/8\u001b[0m \u001b[32m━━━━━━━━━━━━━━━━━━━━\u001b[0m\u001b[37m\u001b[0m \u001b[1m1s\u001b[0m 65ms/step\n"
     ]
    },
    {
     "name": "stderr",
     "output_type": "stream",
     "text": [
      "[I 2025-06-12 16:42:20,097] Trial 68 finished with value: 18.800678253173828 and parameters: {'lstm_units': 32, 'lstm_layers': 2, 'dropout_rate': 0.4, 'learning_rate': 0.0004862684724993596, 'batch_size': 16, 'dense_units': 64, 'window_size': 40}. Best is trial 31 with value: 16.288591384887695.\n",
      "c:\\Users\\jerem\\miniconda3\\Lib\\site-packages\\keras\\src\\layers\\rnn\\rnn.py:199: UserWarning: Do not pass an `input_shape`/`input_dim` argument to a layer. When using Sequential models, prefer using an `Input(shape)` object as the first layer in the model instead.\n",
      "  super().__init__(**kwargs)\n"
     ]
    },
    {
     "name": "stdout",
     "output_type": "stream",
     "text": [
      "\u001b[1m8/8\u001b[0m \u001b[32m━━━━━━━━━━━━━━━━━━━━\u001b[0m\u001b[37m\u001b[0m \u001b[1m1s\u001b[0m 39ms/step\n"
     ]
    },
    {
     "name": "stderr",
     "output_type": "stream",
     "text": [
      "[I 2025-06-12 16:42:44,420] Trial 69 finished with value: 21.128904342651367 and parameters: {'lstm_units': 32, 'lstm_layers': 1, 'dropout_rate': 0.5, 'learning_rate': 0.0009087610886497351, 'batch_size': 16, 'dense_units': 32, 'window_size': 30}. Best is trial 31 with value: 16.288591384887695.\n",
      "[I 2025-06-12 16:42:44,451] A new study created in memory with name: lstm_regression_study\n"
     ]
    },
    {
     "name": "stdout",
     "output_type": "stream",
     "text": [
      "Running LSTM study for bin 5, stock 9...\n"
     ]
    },
    {
     "name": "stderr",
     "output_type": "stream",
     "text": [
      "c:\\Users\\jerem\\miniconda3\\Lib\\site-packages\\keras\\src\\layers\\rnn\\rnn.py:199: UserWarning: Do not pass an `input_shape`/`input_dim` argument to a layer. When using Sequential models, prefer using an `Input(shape)` object as the first layer in the model instead.\n",
      "  super().__init__(**kwargs)\n"
     ]
    },
    {
     "name": "stdout",
     "output_type": "stream",
     "text": [
      "\u001b[1m8/8\u001b[0m \u001b[32m━━━━━━━━━━━━━━━━━━━━\u001b[0m\u001b[37m\u001b[0m \u001b[1m1s\u001b[0m 81ms/step\n"
     ]
    },
    {
     "name": "stderr",
     "output_type": "stream",
     "text": [
      "[I 2025-06-12 16:43:39,382] Trial 0 finished with value: 31.95578384399414 and parameters: {'lstm_units': 128, 'lstm_layers': 2, 'dropout_rate': 0.2, 'learning_rate': 0.0020336772252277885, 'batch_size': 16, 'dense_units': 16, 'window_size': 40}. Best is trial 0 with value: 31.95578384399414.\n",
      "c:\\Users\\jerem\\miniconda3\\Lib\\site-packages\\keras\\src\\layers\\rnn\\rnn.py:199: UserWarning: Do not pass an `input_shape`/`input_dim` argument to a layer. When using Sequential models, prefer using an `Input(shape)` object as the first layer in the model instead.\n",
      "  super().__init__(**kwargs)\n"
     ]
    },
    {
     "name": "stdout",
     "output_type": "stream",
     "text": [
      "\u001b[1m8/8\u001b[0m \u001b[32m━━━━━━━━━━━━━━━━━━━━\u001b[0m\u001b[37m\u001b[0m \u001b[1m1s\u001b[0m 72ms/step\n"
     ]
    },
    {
     "name": "stderr",
     "output_type": "stream",
     "text": [
      "[I 2025-06-12 16:43:58,933] Trial 1 finished with value: 45.73649978637695 and parameters: {'lstm_units': 64, 'lstm_layers': 2, 'dropout_rate': 0.30000000000000004, 'learning_rate': 0.0011836763118344073, 'batch_size': 16, 'dense_units': 48, 'window_size': 30}. Best is trial 0 with value: 31.95578384399414.\n",
      "c:\\Users\\jerem\\miniconda3\\Lib\\site-packages\\keras\\src\\layers\\rnn\\rnn.py:199: UserWarning: Do not pass an `input_shape`/`input_dim` argument to a layer. When using Sequential models, prefer using an `Input(shape)` object as the first layer in the model instead.\n",
      "  super().__init__(**kwargs)\n"
     ]
    },
    {
     "name": "stdout",
     "output_type": "stream",
     "text": [
      "\u001b[1m4/4\u001b[0m \u001b[32m━━━━━━━━━━━━━━━━━━━━\u001b[0m\u001b[37m\u001b[0m \u001b[1m1s\u001b[0m 85ms/step\n"
     ]
    },
    {
     "name": "stderr",
     "output_type": "stream",
     "text": [
      "[I 2025-06-12 16:44:17,149] Trial 2 finished with value: 35.9441032409668 and parameters: {'lstm_units': 96, 'lstm_layers': 1, 'dropout_rate': 0.4, 'learning_rate': 0.0023658624997130034, 'batch_size': 32, 'dense_units': 112, 'window_size': 50}. Best is trial 0 with value: 31.95578384399414.\n",
      "c:\\Users\\jerem\\miniconda3\\Lib\\site-packages\\keras\\src\\layers\\rnn\\rnn.py:199: UserWarning: Do not pass an `input_shape`/`input_dim` argument to a layer. When using Sequential models, prefer using an `Input(shape)` object as the first layer in the model instead.\n",
      "  super().__init__(**kwargs)\n"
     ]
    },
    {
     "name": "stdout",
     "output_type": "stream",
     "text": [
      "\u001b[1m4/4\u001b[0m \u001b[32m━━━━━━━━━━━━━━━━━━━━\u001b[0m\u001b[37m\u001b[0m \u001b[1m0s\u001b[0m 88ms/step\n"
     ]
    },
    {
     "name": "stderr",
     "output_type": "stream",
     "text": [
      "[I 2025-06-12 16:44:29,213] Trial 3 finished with value: 30.214494705200195 and parameters: {'lstm_units': 32, 'lstm_layers': 1, 'dropout_rate': 0.1, 'learning_rate': 0.004568373332115643, 'batch_size': 32, 'dense_units': 96, 'window_size': 40}. Best is trial 3 with value: 30.214494705200195.\n",
      "c:\\Users\\jerem\\miniconda3\\Lib\\site-packages\\keras\\src\\layers\\rnn\\rnn.py:199: UserWarning: Do not pass an `input_shape`/`input_dim` argument to a layer. When using Sequential models, prefer using an `Input(shape)` object as the first layer in the model instead.\n",
      "  super().__init__(**kwargs)\n"
     ]
    },
    {
     "name": "stdout",
     "output_type": "stream",
     "text": [
      "\u001b[1m4/4\u001b[0m \u001b[32m━━━━━━━━━━━━━━━━━━━━\u001b[0m\u001b[37m\u001b[0m \u001b[1m1s\u001b[0m 176ms/step\n"
     ]
    },
    {
     "name": "stderr",
     "output_type": "stream",
     "text": [
      "[I 2025-06-12 16:45:27,467] Trial 4 finished with value: 45.3806037902832 and parameters: {'lstm_units': 128, 'lstm_layers': 2, 'dropout_rate': 0.4, 'learning_rate': 0.0002557076607323142, 'batch_size': 32, 'dense_units': 48, 'window_size': 60}. Best is trial 3 with value: 30.214494705200195.\n",
      "c:\\Users\\jerem\\miniconda3\\Lib\\site-packages\\keras\\src\\layers\\rnn\\rnn.py:199: UserWarning: Do not pass an `input_shape`/`input_dim` argument to a layer. When using Sequential models, prefer using an `Input(shape)` object as the first layer in the model instead.\n",
      "  super().__init__(**kwargs)\n"
     ]
    },
    {
     "name": "stdout",
     "output_type": "stream",
     "text": [
      "\u001b[1m4/4\u001b[0m \u001b[32m━━━━━━━━━━━━━━━━━━━━\u001b[0m\u001b[37m\u001b[0m \u001b[1m1s\u001b[0m 89ms/step\n"
     ]
    },
    {
     "name": "stderr",
     "output_type": "stream",
     "text": [
      "[I 2025-06-12 16:45:44,331] Trial 5 finished with value: 29.09010887145996 and parameters: {'lstm_units': 96, 'lstm_layers': 1, 'dropout_rate': 0.4, 'learning_rate': 0.0037014665581919233, 'batch_size': 32, 'dense_units': 96, 'window_size': 40}. Best is trial 5 with value: 29.09010887145996.\n",
      "c:\\Users\\jerem\\miniconda3\\Lib\\site-packages\\keras\\src\\layers\\rnn\\rnn.py:199: UserWarning: Do not pass an `input_shape`/`input_dim` argument to a layer. When using Sequential models, prefer using an `Input(shape)` object as the first layer in the model instead.\n",
      "  super().__init__(**kwargs)\n"
     ]
    },
    {
     "name": "stdout",
     "output_type": "stream",
     "text": [
      "\u001b[1m8/8\u001b[0m \u001b[32m━━━━━━━━━━━━━━━━━━━━\u001b[0m\u001b[37m\u001b[0m \u001b[1m1s\u001b[0m 55ms/step\n"
     ]
    },
    {
     "name": "stderr",
     "output_type": "stream",
     "text": [
      "[I 2025-06-12 16:46:16,670] Trial 6 finished with value: 37.46376037597656 and parameters: {'lstm_units': 128, 'lstm_layers': 1, 'dropout_rate': 0.2, 'learning_rate': 0.0002118100400261497, 'batch_size': 16, 'dense_units': 16, 'window_size': 60}. Best is trial 5 with value: 29.09010887145996.\n",
      "c:\\Users\\jerem\\miniconda3\\Lib\\site-packages\\keras\\src\\layers\\rnn\\rnn.py:199: UserWarning: Do not pass an `input_shape`/`input_dim` argument to a layer. When using Sequential models, prefer using an `Input(shape)` object as the first layer in the model instead.\n",
      "  super().__init__(**kwargs)\n"
     ]
    },
    {
     "name": "stdout",
     "output_type": "stream",
     "text": [
      "\u001b[1m8/8\u001b[0m \u001b[32m━━━━━━━━━━━━━━━━━━━━\u001b[0m\u001b[37m\u001b[0m \u001b[1m1s\u001b[0m 69ms/step\n"
     ]
    },
    {
     "name": "stderr",
     "output_type": "stream",
     "text": [
      "[I 2025-06-12 16:46:47,200] Trial 7 finished with value: 43.2344970703125 and parameters: {'lstm_units': 64, 'lstm_layers': 2, 'dropout_rate': 0.0, 'learning_rate': 0.00017638281846240039, 'batch_size': 16, 'dense_units': 48, 'window_size': 10}. Best is trial 5 with value: 29.09010887145996.\n",
      "c:\\Users\\jerem\\miniconda3\\Lib\\site-packages\\keras\\src\\layers\\rnn\\rnn.py:199: UserWarning: Do not pass an `input_shape`/`input_dim` argument to a layer. When using Sequential models, prefer using an `Input(shape)` object as the first layer in the model instead.\n",
      "  super().__init__(**kwargs)\n"
     ]
    },
    {
     "name": "stdout",
     "output_type": "stream",
     "text": [
      "\u001b[1m4/4\u001b[0m \u001b[32m━━━━━━━━━━━━━━━━━━━━\u001b[0m\u001b[37m\u001b[0m \u001b[1m1s\u001b[0m 153ms/step\n"
     ]
    },
    {
     "name": "stderr",
     "output_type": "stream",
     "text": [
      "[I 2025-06-12 16:47:15,879] Trial 8 finished with value: 31.047122955322266 and parameters: {'lstm_units': 96, 'lstm_layers': 2, 'dropout_rate': 0.5, 'learning_rate': 0.0015605427611441952, 'batch_size': 32, 'dense_units': 16, 'window_size': 30}. Best is trial 5 with value: 29.09010887145996.\n",
      "c:\\Users\\jerem\\miniconda3\\Lib\\site-packages\\keras\\src\\layers\\rnn\\rnn.py:199: UserWarning: Do not pass an `input_shape`/`input_dim` argument to a layer. When using Sequential models, prefer using an `Input(shape)` object as the first layer in the model instead.\n",
      "  super().__init__(**kwargs)\n"
     ]
    },
    {
     "name": "stdout",
     "output_type": "stream",
     "text": [
      "\u001b[1m4/4\u001b[0m \u001b[32m━━━━━━━━━━━━━━━━━━━━\u001b[0m\u001b[37m\u001b[0m \u001b[1m1s\u001b[0m 83ms/step\n"
     ]
    },
    {
     "name": "stderr",
     "output_type": "stream",
     "text": [
      "[I 2025-06-12 16:47:31,613] Trial 9 finished with value: 44.207637786865234 and parameters: {'lstm_units': 96, 'lstm_layers': 1, 'dropout_rate': 0.5, 'learning_rate': 0.0001409341134609352, 'batch_size': 32, 'dense_units': 80, 'window_size': 10}. Best is trial 5 with value: 29.09010887145996.\n",
      "c:\\Users\\jerem\\miniconda3\\Lib\\site-packages\\keras\\src\\layers\\rnn\\rnn.py:199: UserWarning: Do not pass an `input_shape`/`input_dim` argument to a layer. When using Sequential models, prefer using an `Input(shape)` object as the first layer in the model instead.\n",
      "  super().__init__(**kwargs)\n"
     ]
    },
    {
     "name": "stdout",
     "output_type": "stream",
     "text": [
      "\u001b[1m4/4\u001b[0m \u001b[32m━━━━━━━━━━━━━━━━━━━━\u001b[0m\u001b[37m\u001b[0m \u001b[1m1s\u001b[0m 89ms/step\n"
     ]
    },
    {
     "name": "stderr",
     "output_type": "stream",
     "text": [
      "[I 2025-06-12 16:47:40,946] Trial 10 finished with value: 34.46689987182617 and parameters: {'lstm_units': 32, 'lstm_layers': 1, 'dropout_rate': 0.30000000000000004, 'learning_rate': 0.009444022923335096, 'batch_size': 32, 'dense_units': 128, 'window_size': 20}. Best is trial 5 with value: 29.09010887145996.\n",
      "c:\\Users\\jerem\\miniconda3\\Lib\\site-packages\\keras\\src\\layers\\rnn\\rnn.py:199: UserWarning: Do not pass an `input_shape`/`input_dim` argument to a layer. When using Sequential models, prefer using an `Input(shape)` object as the first layer in the model instead.\n",
      "  super().__init__(**kwargs)\n"
     ]
    },
    {
     "name": "stdout",
     "output_type": "stream",
     "text": [
      "\u001b[1m4/4\u001b[0m \u001b[32m━━━━━━━━━━━━━━━━━━━━\u001b[0m\u001b[37m\u001b[0m \u001b[1m1s\u001b[0m 94ms/step\n"
     ]
    },
    {
     "name": "stderr",
     "output_type": "stream",
     "text": [
      "[I 2025-06-12 16:47:49,464] Trial 11 finished with value: 62.239830017089844 and parameters: {'lstm_units': 32, 'lstm_layers': 1, 'dropout_rate': 0.0, 'learning_rate': 0.006309644729768713, 'batch_size': 32, 'dense_units': 96, 'window_size': 40}. Best is trial 5 with value: 29.09010887145996.\n",
      "c:\\Users\\jerem\\miniconda3\\Lib\\site-packages\\keras\\src\\layers\\rnn\\rnn.py:199: UserWarning: Do not pass an `input_shape`/`input_dim` argument to a layer. When using Sequential models, prefer using an `Input(shape)` object as the first layer in the model instead.\n",
      "  super().__init__(**kwargs)\n"
     ]
    },
    {
     "name": "stdout",
     "output_type": "stream",
     "text": [
      "\u001b[1m4/4\u001b[0m \u001b[32m━━━━━━━━━━━━━━━━━━━━\u001b[0m\u001b[37m\u001b[0m \u001b[1m1s\u001b[0m 100ms/step\n"
     ]
    },
    {
     "name": "stderr",
     "output_type": "stream",
     "text": [
      "[I 2025-06-12 16:48:08,030] Trial 12 finished with value: 41.56245803833008 and parameters: {'lstm_units': 64, 'lstm_layers': 1, 'dropout_rate': 0.1, 'learning_rate': 0.0038792802183258176, 'batch_size': 32, 'dense_units': 96, 'window_size': 50}. Best is trial 5 with value: 29.09010887145996.\n",
      "c:\\Users\\jerem\\miniconda3\\Lib\\site-packages\\keras\\src\\layers\\rnn\\rnn.py:199: UserWarning: Do not pass an `input_shape`/`input_dim` argument to a layer. When using Sequential models, prefer using an `Input(shape)` object as the first layer in the model instead.\n",
      "  super().__init__(**kwargs)\n"
     ]
    },
    {
     "name": "stdout",
     "output_type": "stream",
     "text": [
      "\u001b[1m4/4\u001b[0m \u001b[32m━━━━━━━━━━━━━━━━━━━━\u001b[0m\u001b[37m\u001b[0m \u001b[1m1s\u001b[0m 98ms/step\n"
     ]
    },
    {
     "name": "stderr",
     "output_type": "stream",
     "text": [
      "[I 2025-06-12 16:48:34,614] Trial 13 finished with value: 57.610862731933594 and parameters: {'lstm_units': 32, 'lstm_layers': 1, 'dropout_rate': 0.1, 'learning_rate': 0.0005408225379395651, 'batch_size': 32, 'dense_units': 80, 'window_size': 40}. Best is trial 5 with value: 29.09010887145996.\n",
      "c:\\Users\\jerem\\miniconda3\\Lib\\site-packages\\keras\\src\\layers\\rnn\\rnn.py:199: UserWarning: Do not pass an `input_shape`/`input_dim` argument to a layer. When using Sequential models, prefer using an `Input(shape)` object as the first layer in the model instead.\n",
      "  super().__init__(**kwargs)\n"
     ]
    },
    {
     "name": "stdout",
     "output_type": "stream",
     "text": [
      "\u001b[1m4/4\u001b[0m \u001b[32m━━━━━━━━━━━━━━━━━━━━\u001b[0m\u001b[37m\u001b[0m \u001b[1m1s\u001b[0m 133ms/step\n"
     ]
    },
    {
     "name": "stderr",
     "output_type": "stream",
     "text": [
      "[I 2025-06-12 16:48:49,747] Trial 14 finished with value: 26.338157653808594 and parameters: {'lstm_units': 64, 'lstm_layers': 1, 'dropout_rate': 0.4, 'learning_rate': 0.004294559433891127, 'batch_size': 32, 'dense_units': 128, 'window_size': 50}. Best is trial 14 with value: 26.338157653808594.\n",
      "c:\\Users\\jerem\\miniconda3\\Lib\\site-packages\\keras\\src\\layers\\rnn\\rnn.py:199: UserWarning: Do not pass an `input_shape`/`input_dim` argument to a layer. When using Sequential models, prefer using an `Input(shape)` object as the first layer in the model instead.\n",
      "  super().__init__(**kwargs)\n"
     ]
    },
    {
     "name": "stdout",
     "output_type": "stream",
     "text": [
      "\u001b[1m4/4\u001b[0m \u001b[32m━━━━━━━━━━━━━━━━━━━━\u001b[0m\u001b[37m\u001b[0m \u001b[1m1s\u001b[0m 98ms/step\n"
     ]
    },
    {
     "name": "stderr",
     "output_type": "stream",
     "text": [
      "[I 2025-06-12 16:49:08,482] Trial 15 finished with value: 45.593711853027344 and parameters: {'lstm_units': 96, 'lstm_layers': 1, 'dropout_rate': 0.4, 'learning_rate': 0.000572163723148418, 'batch_size': 32, 'dense_units': 128, 'window_size': 50}. Best is trial 14 with value: 26.338157653808594.\n",
      "c:\\Users\\jerem\\miniconda3\\Lib\\site-packages\\keras\\src\\layers\\rnn\\rnn.py:199: UserWarning: Do not pass an `input_shape`/`input_dim` argument to a layer. When using Sequential models, prefer using an `Input(shape)` object as the first layer in the model instead.\n",
      "  super().__init__(**kwargs)\n"
     ]
    },
    {
     "name": "stdout",
     "output_type": "stream",
     "text": [
      "\u001b[1m4/4\u001b[0m \u001b[32m━━━━━━━━━━━━━━━━━━━━\u001b[0m\u001b[37m\u001b[0m \u001b[1m1s\u001b[0m 89ms/step\n"
     ]
    },
    {
     "name": "stderr",
     "output_type": "stream",
     "text": [
      "[I 2025-06-12 16:49:24,003] Trial 16 finished with value: 35.12451934814453 and parameters: {'lstm_units': 64, 'lstm_layers': 1, 'dropout_rate': 0.4, 'learning_rate': 0.003651045462644141, 'batch_size': 32, 'dense_units': 112, 'window_size': 50}. Best is trial 14 with value: 26.338157653808594.\n",
      "c:\\Users\\jerem\\miniconda3\\Lib\\site-packages\\keras\\src\\layers\\rnn\\rnn.py:199: UserWarning: Do not pass an `input_shape`/`input_dim` argument to a layer. When using Sequential models, prefer using an `Input(shape)` object as the first layer in the model instead.\n",
      "  super().__init__(**kwargs)\n"
     ]
    },
    {
     "name": "stdout",
     "output_type": "stream",
     "text": [
      "\u001b[1m4/4\u001b[0m \u001b[32m━━━━━━━━━━━━━━━━━━━━\u001b[0m\u001b[37m\u001b[0m \u001b[1m1s\u001b[0m 90ms/step\n"
     ]
    },
    {
     "name": "stderr",
     "output_type": "stream",
     "text": [
      "[I 2025-06-12 16:49:34,607] Trial 17 finished with value: 39.27945327758789 and parameters: {'lstm_units': 96, 'lstm_layers': 1, 'dropout_rate': 0.5, 'learning_rate': 0.009166968591808121, 'batch_size': 32, 'dense_units': 112, 'window_size': 30}. Best is trial 14 with value: 26.338157653808594.\n",
      "c:\\Users\\jerem\\miniconda3\\Lib\\site-packages\\keras\\src\\layers\\rnn\\rnn.py:199: UserWarning: Do not pass an `input_shape`/`input_dim` argument to a layer. When using Sequential models, prefer using an `Input(shape)` object as the first layer in the model instead.\n",
      "  super().__init__(**kwargs)\n"
     ]
    },
    {
     "name": "stdout",
     "output_type": "stream",
     "text": [
      "\u001b[1m8/8\u001b[0m \u001b[32m━━━━━━━━━━━━━━━━━━━━\u001b[0m\u001b[37m\u001b[0m \u001b[1m1s\u001b[0m 43ms/step\n"
     ]
    },
    {
     "name": "stderr",
     "output_type": "stream",
     "text": [
      "[I 2025-06-12 16:49:52,720] Trial 18 finished with value: 42.87541198730469 and parameters: {'lstm_units': 64, 'lstm_layers': 1, 'dropout_rate': 0.30000000000000004, 'learning_rate': 0.000729650125903709, 'batch_size': 16, 'dense_units': 128, 'window_size': 60}. Best is trial 14 with value: 26.338157653808594.\n",
      "c:\\Users\\jerem\\miniconda3\\Lib\\site-packages\\keras\\src\\layers\\rnn\\rnn.py:199: UserWarning: Do not pass an `input_shape`/`input_dim` argument to a layer. When using Sequential models, prefer using an `Input(shape)` object as the first layer in the model instead.\n",
      "  super().__init__(**kwargs)\n"
     ]
    },
    {
     "name": "stdout",
     "output_type": "stream",
     "text": [
      "\u001b[1m4/4\u001b[0m \u001b[32m━━━━━━━━━━━━━━━━━━━━\u001b[0m\u001b[37m\u001b[0m \u001b[1m1s\u001b[0m 85ms/step\n"
     ]
    },
    {
     "name": "stderr",
     "output_type": "stream",
     "text": [
      "[I 2025-06-12 16:50:03,902] Trial 19 finished with value: 30.993839263916016 and parameters: {'lstm_units': 96, 'lstm_layers': 1, 'dropout_rate': 0.4, 'learning_rate': 0.002817060792789013, 'batch_size': 32, 'dense_units': 64, 'window_size': 20}. Best is trial 14 with value: 26.338157653808594.\n",
      "c:\\Users\\jerem\\miniconda3\\Lib\\site-packages\\keras\\src\\layers\\rnn\\rnn.py:199: UserWarning: Do not pass an `input_shape`/`input_dim` argument to a layer. When using Sequential models, prefer using an `Input(shape)` object as the first layer in the model instead.\n",
      "  super().__init__(**kwargs)\n"
     ]
    },
    {
     "name": "stdout",
     "output_type": "stream",
     "text": [
      "\u001b[1m4/4\u001b[0m \u001b[32m━━━━━━━━━━━━━━━━━━━━\u001b[0m\u001b[37m\u001b[0m \u001b[1m1s\u001b[0m 155ms/step\n"
     ]
    },
    {
     "name": "stderr",
     "output_type": "stream",
     "text": [
      "[I 2025-06-12 16:50:18,950] Trial 20 finished with value: 31.571456909179688 and parameters: {'lstm_units': 64, 'lstm_layers': 2, 'dropout_rate': 0.5, 'learning_rate': 0.006971132665449309, 'batch_size': 32, 'dense_units': 112, 'window_size': 50}. Best is trial 14 with value: 26.338157653808594.\n",
      "c:\\Users\\jerem\\miniconda3\\Lib\\site-packages\\keras\\src\\layers\\rnn\\rnn.py:199: UserWarning: Do not pass an `input_shape`/`input_dim` argument to a layer. When using Sequential models, prefer using an `Input(shape)` object as the first layer in the model instead.\n",
      "  super().__init__(**kwargs)\n"
     ]
    },
    {
     "name": "stdout",
     "output_type": "stream",
     "text": [
      "\u001b[1m4/4\u001b[0m \u001b[32m━━━━━━━━━━━━━━━━━━━━\u001b[0m\u001b[37m\u001b[0m \u001b[1m1s\u001b[0m 101ms/step\n"
     ]
    },
    {
     "name": "stderr",
     "output_type": "stream",
     "text": [
      "[I 2025-06-12 16:50:27,210] Trial 21 finished with value: 32.55769729614258 and parameters: {'lstm_units': 32, 'lstm_layers': 1, 'dropout_rate': 0.1, 'learning_rate': 0.0047804033783243, 'batch_size': 32, 'dense_units': 96, 'window_size': 40}. Best is trial 14 with value: 26.338157653808594.\n",
      "c:\\Users\\jerem\\miniconda3\\Lib\\site-packages\\keras\\src\\layers\\rnn\\rnn.py:199: UserWarning: Do not pass an `input_shape`/`input_dim` argument to a layer. When using Sequential models, prefer using an `Input(shape)` object as the first layer in the model instead.\n",
      "  super().__init__(**kwargs)\n"
     ]
    },
    {
     "name": "stdout",
     "output_type": "stream",
     "text": [
      "\u001b[1m4/4\u001b[0m \u001b[32m━━━━━━━━━━━━━━━━━━━━\u001b[0m\u001b[37m\u001b[0m \u001b[1m1s\u001b[0m 98ms/step\n"
     ]
    },
    {
     "name": "stderr",
     "output_type": "stream",
     "text": [
      "[I 2025-06-12 16:50:38,323] Trial 22 finished with value: 55.57102584838867 and parameters: {'lstm_units': 32, 'lstm_layers': 1, 'dropout_rate': 0.2, 'learning_rate': 0.0051358632853649305, 'batch_size': 32, 'dense_units': 80, 'window_size': 40}. Best is trial 14 with value: 26.338157653808594.\n",
      "c:\\Users\\jerem\\miniconda3\\Lib\\site-packages\\keras\\src\\layers\\rnn\\rnn.py:199: UserWarning: Do not pass an `input_shape`/`input_dim` argument to a layer. When using Sequential models, prefer using an `Input(shape)` object as the first layer in the model instead.\n",
      "  super().__init__(**kwargs)\n"
     ]
    },
    {
     "name": "stdout",
     "output_type": "stream",
     "text": [
      "\u001b[1m4/4\u001b[0m \u001b[32m━━━━━━━━━━━━━━━━━━━━\u001b[0m\u001b[37m\u001b[0m \u001b[1m0s\u001b[0m 82ms/step\n"
     ]
    },
    {
     "name": "stderr",
     "output_type": "stream",
     "text": [
      "[I 2025-06-12 16:50:46,637] Trial 23 finished with value: 34.8774528503418 and parameters: {'lstm_units': 32, 'lstm_layers': 1, 'dropout_rate': 0.30000000000000004, 'learning_rate': 0.002789278917755231, 'batch_size': 32, 'dense_units': 96, 'window_size': 30}. Best is trial 14 with value: 26.338157653808594.\n",
      "c:\\Users\\jerem\\miniconda3\\Lib\\site-packages\\keras\\src\\layers\\rnn\\rnn.py:199: UserWarning: Do not pass an `input_shape`/`input_dim` argument to a layer. When using Sequential models, prefer using an `Input(shape)` object as the first layer in the model instead.\n",
      "  super().__init__(**kwargs)\n"
     ]
    },
    {
     "name": "stdout",
     "output_type": "stream",
     "text": [
      "\u001b[1m4/4\u001b[0m \u001b[32m━━━━━━━━━━━━━━━━━━━━\u001b[0m\u001b[37m\u001b[0m \u001b[1m1s\u001b[0m 88ms/step\n"
     ]
    },
    {
     "name": "stderr",
     "output_type": "stream",
     "text": [
      "[I 2025-06-12 16:50:56,956] Trial 24 finished with value: 32.538055419921875 and parameters: {'lstm_units': 64, 'lstm_layers': 1, 'dropout_rate': 0.1, 'learning_rate': 0.0015607845342708625, 'batch_size': 32, 'dense_units': 64, 'window_size': 50}. Best is trial 14 with value: 26.338157653808594.\n",
      "c:\\Users\\jerem\\miniconda3\\Lib\\site-packages\\keras\\src\\layers\\rnn\\rnn.py:199: UserWarning: Do not pass an `input_shape`/`input_dim` argument to a layer. When using Sequential models, prefer using an `Input(shape)` object as the first layer in the model instead.\n",
      "  super().__init__(**kwargs)\n"
     ]
    },
    {
     "name": "stdout",
     "output_type": "stream",
     "text": [
      "\u001b[1m4/4\u001b[0m \u001b[32m━━━━━━━━━━━━━━━━━━━━\u001b[0m\u001b[37m\u001b[0m \u001b[1m1s\u001b[0m 87ms/step\n"
     ]
    },
    {
     "name": "stderr",
     "output_type": "stream",
     "text": [
      "[I 2025-06-12 16:51:15,383] Trial 25 finished with value: 27.429941177368164 and parameters: {'lstm_units': 96, 'lstm_layers': 1, 'dropout_rate': 0.2, 'learning_rate': 0.0037357278575988915, 'batch_size': 32, 'dense_units': 128, 'window_size': 40}. Best is trial 14 with value: 26.338157653808594.\n",
      "c:\\Users\\jerem\\miniconda3\\Lib\\site-packages\\keras\\src\\layers\\rnn\\rnn.py:199: UserWarning: Do not pass an `input_shape`/`input_dim` argument to a layer. When using Sequential models, prefer using an `Input(shape)` object as the first layer in the model instead.\n",
      "  super().__init__(**kwargs)\n"
     ]
    },
    {
     "name": "stdout",
     "output_type": "stream",
     "text": [
      "\u001b[1m8/8\u001b[0m \u001b[32m━━━━━━━━━━━━━━━━━━━━\u001b[0m\u001b[37m\u001b[0m \u001b[1m1s\u001b[0m 38ms/step\n"
     ]
    },
    {
     "name": "stderr",
     "output_type": "stream",
     "text": [
      "[I 2025-06-12 16:51:28,321] Trial 26 finished with value: 39.665958404541016 and parameters: {'lstm_units': 96, 'lstm_layers': 1, 'dropout_rate': 0.2, 'learning_rate': 0.0010996876536046997, 'batch_size': 16, 'dense_units': 128, 'window_size': 20}. Best is trial 14 with value: 26.338157653808594.\n",
      "c:\\Users\\jerem\\miniconda3\\Lib\\site-packages\\keras\\src\\layers\\rnn\\rnn.py:199: UserWarning: Do not pass an `input_shape`/`input_dim` argument to a layer. When using Sequential models, prefer using an `Input(shape)` object as the first layer in the model instead.\n",
      "  super().__init__(**kwargs)\n"
     ]
    },
    {
     "name": "stdout",
     "output_type": "stream",
     "text": [
      "\u001b[1m4/4\u001b[0m \u001b[32m━━━━━━━━━━━━━━━━━━━━\u001b[0m\u001b[37m\u001b[0m \u001b[1m1s\u001b[0m 111ms/step\n"
     ]
    },
    {
     "name": "stderr",
     "output_type": "stream",
     "text": [
      "[I 2025-06-12 16:51:50,936] Trial 27 finished with value: 33.62825393676758 and parameters: {'lstm_units': 128, 'lstm_layers': 1, 'dropout_rate': 0.30000000000000004, 'learning_rate': 0.0032953064028814444, 'batch_size': 32, 'dense_units': 112, 'window_size': 60}. Best is trial 14 with value: 26.338157653808594.\n",
      "c:\\Users\\jerem\\miniconda3\\Lib\\site-packages\\keras\\src\\layers\\rnn\\rnn.py:199: UserWarning: Do not pass an `input_shape`/`input_dim` argument to a layer. When using Sequential models, prefer using an `Input(shape)` object as the first layer in the model instead.\n",
      "  super().__init__(**kwargs)\n"
     ]
    },
    {
     "name": "stdout",
     "output_type": "stream",
     "text": [
      "\u001b[1m4/4\u001b[0m \u001b[32m━━━━━━━━━━━━━━━━━━━━\u001b[0m\u001b[37m\u001b[0m \u001b[1m1s\u001b[0m 98ms/step\n"
     ]
    },
    {
     "name": "stderr",
     "output_type": "stream",
     "text": [
      "[I 2025-06-12 16:52:14,806] Trial 28 finished with value: 31.112659454345703 and parameters: {'lstm_units': 96, 'lstm_layers': 1, 'dropout_rate': 0.4, 'learning_rate': 0.0018686595018517775, 'batch_size': 32, 'dense_units': 128, 'window_size': 50}. Best is trial 14 with value: 26.338157653808594.\n",
      "c:\\Users\\jerem\\miniconda3\\Lib\\site-packages\\keras\\src\\layers\\rnn\\rnn.py:199: UserWarning: Do not pass an `input_shape`/`input_dim` argument to a layer. When using Sequential models, prefer using an `Input(shape)` object as the first layer in the model instead.\n",
      "  super().__init__(**kwargs)\n"
     ]
    },
    {
     "name": "stdout",
     "output_type": "stream",
     "text": [
      "\u001b[1m8/8\u001b[0m \u001b[32m━━━━━━━━━━━━━━━━━━━━\u001b[0m\u001b[37m\u001b[0m \u001b[1m1s\u001b[0m 80ms/step\n"
     ]
    },
    {
     "name": "stderr",
     "output_type": "stream",
     "text": [
      "[I 2025-06-12 16:53:17,819] Trial 29 finished with value: 32.63536071777344 and parameters: {'lstm_units': 128, 'lstm_layers': 2, 'dropout_rate': 0.2, 'learning_rate': 0.006151847063322509, 'batch_size': 16, 'dense_units': 112, 'window_size': 40}. Best is trial 14 with value: 26.338157653808594.\n",
      "c:\\Users\\jerem\\miniconda3\\Lib\\site-packages\\keras\\src\\layers\\rnn\\rnn.py:199: UserWarning: Do not pass an `input_shape`/`input_dim` argument to a layer. When using Sequential models, prefer using an `Input(shape)` object as the first layer in the model instead.\n",
      "  super().__init__(**kwargs)\n"
     ]
    },
    {
     "name": "stdout",
     "output_type": "stream",
     "text": [
      "\u001b[1m4/4\u001b[0m \u001b[32m━━━━━━━━━━━━━━━━━━━━\u001b[0m\u001b[37m\u001b[0m \u001b[1m1s\u001b[0m 95ms/step\n"
     ]
    },
    {
     "name": "stderr",
     "output_type": "stream",
     "text": [
      "[I 2025-06-12 16:53:26,589] Trial 30 finished with value: 37.73223876953125 and parameters: {'lstm_units': 96, 'lstm_layers': 1, 'dropout_rate': 0.30000000000000004, 'learning_rate': 0.002076870863728414, 'batch_size': 32, 'dense_units': 128, 'window_size': 40}. Best is trial 14 with value: 26.338157653808594.\n",
      "c:\\Users\\jerem\\miniconda3\\Lib\\site-packages\\keras\\src\\layers\\rnn\\rnn.py:199: UserWarning: Do not pass an `input_shape`/`input_dim` argument to a layer. When using Sequential models, prefer using an `Input(shape)` object as the first layer in the model instead.\n",
      "  super().__init__(**kwargs)\n"
     ]
    },
    {
     "name": "stdout",
     "output_type": "stream",
     "text": [
      "\u001b[1m4/4\u001b[0m \u001b[32m━━━━━━━━━━━━━━━━━━━━\u001b[0m\u001b[37m\u001b[0m \u001b[1m1s\u001b[0m 89ms/step\n"
     ]
    },
    {
     "name": "stderr",
     "output_type": "stream",
     "text": [
      "[I 2025-06-12 16:53:43,558] Trial 31 finished with value: 42.634544372558594 and parameters: {'lstm_units': 64, 'lstm_layers': 1, 'dropout_rate': 0.1, 'learning_rate': 0.0045263214252378, 'batch_size': 32, 'dense_units': 96, 'window_size': 40}. Best is trial 14 with value: 26.338157653808594.\n",
      "c:\\Users\\jerem\\miniconda3\\Lib\\site-packages\\keras\\src\\layers\\rnn\\rnn.py:199: UserWarning: Do not pass an `input_shape`/`input_dim` argument to a layer. When using Sequential models, prefer using an `Input(shape)` object as the first layer in the model instead.\n",
      "  super().__init__(**kwargs)\n"
     ]
    },
    {
     "name": "stdout",
     "output_type": "stream",
     "text": [
      "\u001b[1m4/4\u001b[0m \u001b[32m━━━━━━━━━━━━━━━━━━━━\u001b[0m\u001b[37m\u001b[0m \u001b[1m1s\u001b[0m 89ms/step\n"
     ]
    },
    {
     "name": "stderr",
     "output_type": "stream",
     "text": [
      "[I 2025-06-12 16:53:55,740] Trial 32 finished with value: 32.206417083740234 and parameters: {'lstm_units': 64, 'lstm_layers': 1, 'dropout_rate': 0.2, 'learning_rate': 0.0032806625733880794, 'batch_size': 32, 'dense_units': 80, 'window_size': 30}. Best is trial 14 with value: 26.338157653808594.\n",
      "c:\\Users\\jerem\\miniconda3\\Lib\\site-packages\\keras\\src\\layers\\rnn\\rnn.py:199: UserWarning: Do not pass an `input_shape`/`input_dim` argument to a layer. When using Sequential models, prefer using an `Input(shape)` object as the first layer in the model instead.\n",
      "  super().__init__(**kwargs)\n"
     ]
    },
    {
     "name": "stdout",
     "output_type": "stream",
     "text": [
      "\u001b[1m4/4\u001b[0m \u001b[32m━━━━━━━━━━━━━━━━━━━━\u001b[0m\u001b[37m\u001b[0m \u001b[1m1s\u001b[0m 88ms/step\n"
     ]
    },
    {
     "name": "stderr",
     "output_type": "stream",
     "text": [
      "[I 2025-06-12 16:54:09,940] Trial 33 finished with value: 34.834651947021484 and parameters: {'lstm_units': 96, 'lstm_layers': 1, 'dropout_rate': 0.0, 'learning_rate': 0.0074139637768921626, 'batch_size': 32, 'dense_units': 112, 'window_size': 40}. Best is trial 14 with value: 26.338157653808594.\n",
      "c:\\Users\\jerem\\miniconda3\\Lib\\site-packages\\keras\\src\\layers\\rnn\\rnn.py:199: UserWarning: Do not pass an `input_shape`/`input_dim` argument to a layer. When using Sequential models, prefer using an `Input(shape)` object as the first layer in the model instead.\n",
      "  super().__init__(**kwargs)\n"
     ]
    },
    {
     "name": "stdout",
     "output_type": "stream",
     "text": [
      "\u001b[1m4/4\u001b[0m \u001b[32m━━━━━━━━━━━━━━━━━━━━\u001b[0m\u001b[37m\u001b[0m \u001b[1m1s\u001b[0m 107ms/step\n"
     ]
    },
    {
     "name": "stderr",
     "output_type": "stream",
     "text": [
      "[I 2025-06-12 16:54:26,808] Trial 34 finished with value: 35.325286865234375 and parameters: {'lstm_units': 128, 'lstm_layers': 1, 'dropout_rate': 0.1, 'learning_rate': 0.0025365378368406577, 'batch_size': 32, 'dense_units': 64, 'window_size': 50}. Best is trial 14 with value: 26.338157653808594.\n",
      "c:\\Users\\jerem\\miniconda3\\Lib\\site-packages\\keras\\src\\layers\\rnn\\rnn.py:199: UserWarning: Do not pass an `input_shape`/`input_dim` argument to a layer. When using Sequential models, prefer using an `Input(shape)` object as the first layer in the model instead.\n",
      "  super().__init__(**kwargs)\n"
     ]
    },
    {
     "name": "stdout",
     "output_type": "stream",
     "text": [
      "\u001b[1m8/8\u001b[0m \u001b[32m━━━━━━━━━━━━━━━━━━━━\u001b[0m\u001b[37m\u001b[0m \u001b[1m1s\u001b[0m 40ms/step\n"
     ]
    },
    {
     "name": "stderr",
     "output_type": "stream",
     "text": [
      "[I 2025-06-12 16:54:43,820] Trial 35 finished with value: 43.50430679321289 and parameters: {'lstm_units': 96, 'lstm_layers': 1, 'dropout_rate': 0.4, 'learning_rate': 0.00035556784672510685, 'batch_size': 16, 'dense_units': 32, 'window_size': 30}. Best is trial 14 with value: 26.338157653808594.\n",
      "c:\\Users\\jerem\\miniconda3\\Lib\\site-packages\\keras\\src\\layers\\rnn\\rnn.py:199: UserWarning: Do not pass an `input_shape`/`input_dim` argument to a layer. When using Sequential models, prefer using an `Input(shape)` object as the first layer in the model instead.\n",
      "  super().__init__(**kwargs)\n"
     ]
    },
    {
     "name": "stdout",
     "output_type": "stream",
     "text": [
      "\u001b[1m4/4\u001b[0m \u001b[32m━━━━━━━━━━━━━━━━━━━━\u001b[0m\u001b[37m\u001b[0m \u001b[1m1s\u001b[0m 153ms/step\n"
     ]
    },
    {
     "name": "stderr",
     "output_type": "stream",
     "text": [
      "[I 2025-06-12 16:55:07,657] Trial 36 finished with value: 37.507591247558594 and parameters: {'lstm_units': 64, 'lstm_layers': 2, 'dropout_rate': 0.2, 'learning_rate': 0.005155443515454222, 'batch_size': 32, 'dense_units': 96, 'window_size': 40}. Best is trial 14 with value: 26.338157653808594.\n",
      "c:\\Users\\jerem\\miniconda3\\Lib\\site-packages\\keras\\src\\layers\\rnn\\rnn.py:199: UserWarning: Do not pass an `input_shape`/`input_dim` argument to a layer. When using Sequential models, prefer using an `Input(shape)` object as the first layer in the model instead.\n",
      "  super().__init__(**kwargs)\n"
     ]
    },
    {
     "name": "stdout",
     "output_type": "stream",
     "text": [
      "\u001b[1m4/4\u001b[0m \u001b[32m━━━━━━━━━━━━━━━━━━━━\u001b[0m\u001b[37m\u001b[0m \u001b[1m1s\u001b[0m 95ms/step\n"
     ]
    },
    {
     "name": "stderr",
     "output_type": "stream",
     "text": [
      "[I 2025-06-12 16:55:22,708] Trial 37 finished with value: 37.056148529052734 and parameters: {'lstm_units': 32, 'lstm_layers': 1, 'dropout_rate': 0.30000000000000004, 'learning_rate': 0.0014450628141120347, 'batch_size': 32, 'dense_units': 128, 'window_size': 50}. Best is trial 14 with value: 26.338157653808594.\n",
      "c:\\Users\\jerem\\miniconda3\\Lib\\site-packages\\keras\\src\\layers\\rnn\\rnn.py:199: UserWarning: Do not pass an `input_shape`/`input_dim` argument to a layer. When using Sequential models, prefer using an `Input(shape)` object as the first layer in the model instead.\n",
      "  super().__init__(**kwargs)\n"
     ]
    },
    {
     "name": "stdout",
     "output_type": "stream",
     "text": [
      "\u001b[1m8/8\u001b[0m \u001b[32m━━━━━━━━━━━━━━━━━━━━\u001b[0m\u001b[37m\u001b[0m \u001b[1m1s\u001b[0m 45ms/step\n"
     ]
    },
    {
     "name": "stderr",
     "output_type": "stream",
     "text": [
      "[I 2025-06-12 16:55:46,318] Trial 38 finished with value: 38.789817810058594 and parameters: {'lstm_units': 96, 'lstm_layers': 1, 'dropout_rate': 0.5, 'learning_rate': 0.0008636807387173252, 'batch_size': 16, 'dense_units': 112, 'window_size': 60}. Best is trial 14 with value: 26.338157653808594.\n",
      "c:\\Users\\jerem\\miniconda3\\Lib\\site-packages\\keras\\src\\layers\\rnn\\rnn.py:199: UserWarning: Do not pass an `input_shape`/`input_dim` argument to a layer. When using Sequential models, prefer using an `Input(shape)` object as the first layer in the model instead.\n",
      "  super().__init__(**kwargs)\n"
     ]
    },
    {
     "name": "stdout",
     "output_type": "stream",
     "text": [
      "\u001b[1m4/4\u001b[0m \u001b[32m━━━━━━━━━━━━━━━━━━━━\u001b[0m\u001b[37m\u001b[0m \u001b[1m1s\u001b[0m 177ms/step\n"
     ]
    },
    {
     "name": "stderr",
     "output_type": "stream",
     "text": [
      "[I 2025-06-12 16:56:19,639] Trial 39 finished with value: 30.441402435302734 and parameters: {'lstm_units': 128, 'lstm_layers': 2, 'dropout_rate': 0.2, 'learning_rate': 0.0023584958697835724, 'batch_size': 32, 'dense_units': 80, 'window_size': 30}. Best is trial 14 with value: 26.338157653808594.\n",
      "c:\\Users\\jerem\\miniconda3\\Lib\\site-packages\\keras\\src\\layers\\rnn\\rnn.py:199: UserWarning: Do not pass an `input_shape`/`input_dim` argument to a layer. When using Sequential models, prefer using an `Input(shape)` object as the first layer in the model instead.\n",
      "  super().__init__(**kwargs)\n"
     ]
    },
    {
     "name": "stdout",
     "output_type": "stream",
     "text": [
      "\u001b[1m4/4\u001b[0m \u001b[32m━━━━━━━━━━━━━━━━━━━━\u001b[0m\u001b[37m\u001b[0m \u001b[1m1s\u001b[0m 103ms/step\n"
     ]
    },
    {
     "name": "stderr",
     "output_type": "stream",
     "text": [
      "[I 2025-06-12 16:56:34,453] Trial 40 finished with value: 35.190452575683594 and parameters: {'lstm_units': 64, 'lstm_layers': 1, 'dropout_rate': 0.0, 'learning_rate': 0.0039463875401205585, 'batch_size': 32, 'dense_units': 48, 'window_size': 40}. Best is trial 14 with value: 26.338157653808594.\n",
      "c:\\Users\\jerem\\miniconda3\\Lib\\site-packages\\keras\\src\\layers\\rnn\\rnn.py:199: UserWarning: Do not pass an `input_shape`/`input_dim` argument to a layer. When using Sequential models, prefer using an `Input(shape)` object as the first layer in the model instead.\n",
      "  super().__init__(**kwargs)\n"
     ]
    },
    {
     "name": "stdout",
     "output_type": "stream",
     "text": [
      "\u001b[1m4/4\u001b[0m \u001b[32m━━━━━━━━━━━━━━━━━━━━\u001b[0m\u001b[37m\u001b[0m \u001b[1m1s\u001b[0m 162ms/step\n"
     ]
    },
    {
     "name": "stderr",
     "output_type": "stream",
     "text": [
      "[I 2025-06-12 16:57:06,120] Trial 41 finished with value: 37.4411506652832 and parameters: {'lstm_units': 128, 'lstm_layers': 2, 'dropout_rate': 0.2, 'learning_rate': 0.002266616502282788, 'batch_size': 32, 'dense_units': 80, 'window_size': 30}. Best is trial 14 with value: 26.338157653808594.\n",
      "c:\\Users\\jerem\\miniconda3\\Lib\\site-packages\\keras\\src\\layers\\rnn\\rnn.py:199: UserWarning: Do not pass an `input_shape`/`input_dim` argument to a layer. When using Sequential models, prefer using an `Input(shape)` object as the first layer in the model instead.\n",
      "  super().__init__(**kwargs)\n"
     ]
    },
    {
     "name": "stdout",
     "output_type": "stream",
     "text": [
      "\u001b[1m4/4\u001b[0m \u001b[32m━━━━━━━━━━━━━━━━━━━━\u001b[0m\u001b[37m\u001b[0m \u001b[1m1s\u001b[0m 166ms/step\n"
     ]
    },
    {
     "name": "stderr",
     "output_type": "stream",
     "text": [
      "[I 2025-06-12 16:57:44,950] Trial 42 finished with value: 31.092565536499023 and parameters: {'lstm_units': 128, 'lstm_layers': 2, 'dropout_rate': 0.2, 'learning_rate': 0.0018432209879471382, 'batch_size': 32, 'dense_units': 96, 'window_size': 30}. Best is trial 14 with value: 26.338157653808594.\n",
      "c:\\Users\\jerem\\miniconda3\\Lib\\site-packages\\keras\\src\\layers\\rnn\\rnn.py:199: UserWarning: Do not pass an `input_shape`/`input_dim` argument to a layer. When using Sequential models, prefer using an `Input(shape)` object as the first layer in the model instead.\n",
      "  super().__init__(**kwargs)\n"
     ]
    },
    {
     "name": "stdout",
     "output_type": "stream",
     "text": [
      "\u001b[1m4/4\u001b[0m \u001b[32m━━━━━━━━━━━━━━━━━━━━\u001b[0m\u001b[37m\u001b[0m \u001b[1m1s\u001b[0m 175ms/step\n"
     ]
    },
    {
     "name": "stderr",
     "output_type": "stream",
     "text": [
      "[I 2025-06-12 16:58:11,904] Trial 43 finished with value: 44.61674880981445 and parameters: {'lstm_units': 128, 'lstm_layers': 2, 'dropout_rate': 0.4, 'learning_rate': 0.0028131866172183126, 'batch_size': 32, 'dense_units': 80, 'window_size': 20}. Best is trial 14 with value: 26.338157653808594.\n",
      "c:\\Users\\jerem\\miniconda3\\Lib\\site-packages\\keras\\src\\layers\\rnn\\rnn.py:199: UserWarning: Do not pass an `input_shape`/`input_dim` argument to a layer. When using Sequential models, prefer using an `Input(shape)` object as the first layer in the model instead.\n",
      "  super().__init__(**kwargs)\n"
     ]
    },
    {
     "name": "stdout",
     "output_type": "stream",
     "text": [
      "\u001b[1m4/4\u001b[0m \u001b[32m━━━━━━━━━━━━━━━━━━━━\u001b[0m\u001b[37m\u001b[0m \u001b[1m2s\u001b[0m 256ms/step\n"
     ]
    },
    {
     "name": "stderr",
     "output_type": "stream",
     "text": [
      "[I 2025-06-12 16:58:30,088] Trial 44 finished with value: 109.60828399658203 and parameters: {'lstm_units': 128, 'lstm_layers': 2, 'dropout_rate': 0.1, 'learning_rate': 0.0058471119033789406, 'batch_size': 32, 'dense_units': 64, 'window_size': 30}. Best is trial 14 with value: 26.338157653808594.\n",
      "c:\\Users\\jerem\\miniconda3\\Lib\\site-packages\\keras\\src\\layers\\rnn\\rnn.py:199: UserWarning: Do not pass an `input_shape`/`input_dim` argument to a layer. When using Sequential models, prefer using an `Input(shape)` object as the first layer in the model instead.\n",
      "  super().__init__(**kwargs)\n"
     ]
    },
    {
     "name": "stdout",
     "output_type": "stream",
     "text": [
      "\u001b[1m4/4\u001b[0m \u001b[32m━━━━━━━━━━━━━━━━━━━━\u001b[0m\u001b[37m\u001b[0m \u001b[1m1s\u001b[0m 178ms/step\n"
     ]
    },
    {
     "name": "stderr",
     "output_type": "stream",
     "text": [
      "[I 2025-06-12 16:59:34,149] Trial 45 finished with value: 31.98806381225586 and parameters: {'lstm_units': 96, 'lstm_layers': 2, 'dropout_rate': 0.30000000000000004, 'learning_rate': 0.00398172863569425, 'batch_size': 32, 'dense_units': 96, 'window_size': 40}. Best is trial 14 with value: 26.338157653808594.\n",
      "c:\\Users\\jerem\\miniconda3\\Lib\\site-packages\\keras\\src\\layers\\rnn\\rnn.py:199: UserWarning: Do not pass an `input_shape`/`input_dim` argument to a layer. When using Sequential models, prefer using an `Input(shape)` object as the first layer in the model instead.\n",
      "  super().__init__(**kwargs)\n"
     ]
    },
    {
     "name": "stdout",
     "output_type": "stream",
     "text": [
      "\u001b[1m4/4\u001b[0m \u001b[32m━━━━━━━━━━━━━━━━━━━━\u001b[0m\u001b[37m\u001b[0m \u001b[1m1s\u001b[0m 100ms/step\n"
     ]
    },
    {
     "name": "stderr",
     "output_type": "stream",
     "text": [
      "[I 2025-06-12 16:59:52,279] Trial 46 finished with value: 36.095428466796875 and parameters: {'lstm_units': 32, 'lstm_layers': 1, 'dropout_rate': 0.2, 'learning_rate': 0.007800752829215736, 'batch_size': 32, 'dense_units': 112, 'window_size': 50}. Best is trial 14 with value: 26.338157653808594.\n",
      "c:\\Users\\jerem\\miniconda3\\Lib\\site-packages\\keras\\src\\layers\\rnn\\rnn.py:199: UserWarning: Do not pass an `input_shape`/`input_dim` argument to a layer. When using Sequential models, prefer using an `Input(shape)` object as the first layer in the model instead.\n",
      "  super().__init__(**kwargs)\n"
     ]
    },
    {
     "name": "stdout",
     "output_type": "stream",
     "text": [
      "\u001b[1m4/4\u001b[0m \u001b[32m━━━━━━━━━━━━━━━━━━━━\u001b[0m\u001b[37m\u001b[0m \u001b[1m1s\u001b[0m 94ms/step\n"
     ]
    },
    {
     "name": "stderr",
     "output_type": "stream",
     "text": [
      "[I 2025-06-12 17:00:07,903] Trial 47 finished with value: 30.68118667602539 and parameters: {'lstm_units': 96, 'lstm_layers': 1, 'dropout_rate': 0.4, 'learning_rate': 0.0031214784461723274, 'batch_size': 32, 'dense_units': 80, 'window_size': 40}. Best is trial 14 with value: 26.338157653808594.\n",
      "c:\\Users\\jerem\\miniconda3\\Lib\\site-packages\\keras\\src\\layers\\rnn\\rnn.py:199: UserWarning: Do not pass an `input_shape`/`input_dim` argument to a layer. When using Sequential models, prefer using an `Input(shape)` object as the first layer in the model instead.\n",
      "  super().__init__(**kwargs)\n"
     ]
    },
    {
     "name": "stdout",
     "output_type": "stream",
     "text": [
      "\u001b[1m8/8\u001b[0m \u001b[32m━━━━━━━━━━━━━━━━━━━━\u001b[0m\u001b[37m\u001b[0m \u001b[1m1s\u001b[0m 43ms/step\n"
     ]
    },
    {
     "name": "stderr",
     "output_type": "stream",
     "text": [
      "[I 2025-06-12 17:00:28,072] Trial 48 finished with value: 36.39189910888672 and parameters: {'lstm_units': 64, 'lstm_layers': 1, 'dropout_rate': 0.1, 'learning_rate': 0.001264244729355965, 'batch_size': 16, 'dense_units': 48, 'window_size': 30}. Best is trial 14 with value: 26.338157653808594.\n",
      "c:\\Users\\jerem\\miniconda3\\Lib\\site-packages\\keras\\src\\layers\\rnn\\rnn.py:199: UserWarning: Do not pass an `input_shape`/`input_dim` argument to a layer. When using Sequential models, prefer using an `Input(shape)` object as the first layer in the model instead.\n",
      "  super().__init__(**kwargs)\n"
     ]
    },
    {
     "name": "stdout",
     "output_type": "stream",
     "text": [
      "\u001b[1m4/4\u001b[0m \u001b[32m━━━━━━━━━━━━━━━━━━━━\u001b[0m\u001b[37m\u001b[0m \u001b[1m1s\u001b[0m 162ms/step\n"
     ]
    },
    {
     "name": "stderr",
     "output_type": "stream",
     "text": [
      "[I 2025-06-12 17:00:50,389] Trial 49 finished with value: 38.959957122802734 and parameters: {'lstm_units': 96, 'lstm_layers': 2, 'dropout_rate': 0.30000000000000004, 'learning_rate': 0.009970704419972826, 'batch_size': 32, 'dense_units': 128, 'window_size': 20}. Best is trial 14 with value: 26.338157653808594.\n",
      "c:\\Users\\jerem\\miniconda3\\Lib\\site-packages\\keras\\src\\layers\\rnn\\rnn.py:199: UserWarning: Do not pass an `input_shape`/`input_dim` argument to a layer. When using Sequential models, prefer using an `Input(shape)` object as the first layer in the model instead.\n",
      "  super().__init__(**kwargs)\n"
     ]
    },
    {
     "name": "stdout",
     "output_type": "stream",
     "text": [
      "\u001b[1m4/4\u001b[0m \u001b[32m━━━━━━━━━━━━━━━━━━━━\u001b[0m\u001b[37m\u001b[0m \u001b[1m1s\u001b[0m 94ms/step\n"
     ]
    },
    {
     "name": "stderr",
     "output_type": "stream",
     "text": [
      "[I 2025-06-12 17:01:10,223] Trial 50 finished with value: 40.291595458984375 and parameters: {'lstm_units': 32, 'lstm_layers': 1, 'dropout_rate': 0.0, 'learning_rate': 0.00010635988370222488, 'batch_size': 32, 'dense_units': 96, 'window_size': 10}. Best is trial 14 with value: 26.338157653808594.\n",
      "c:\\Users\\jerem\\miniconda3\\Lib\\site-packages\\keras\\src\\layers\\rnn\\rnn.py:199: UserWarning: Do not pass an `input_shape`/`input_dim` argument to a layer. When using Sequential models, prefer using an `Input(shape)` object as the first layer in the model instead.\n",
      "  super().__init__(**kwargs)\n"
     ]
    },
    {
     "name": "stdout",
     "output_type": "stream",
     "text": [
      "\u001b[1m4/4\u001b[0m \u001b[32m━━━━━━━━━━━━━━━━━━━━\u001b[0m\u001b[37m\u001b[0m \u001b[1m1s\u001b[0m 89ms/step\n"
     ]
    },
    {
     "name": "stderr",
     "output_type": "stream",
     "text": [
      "[I 2025-06-12 17:01:36,693] Trial 51 finished with value: 25.14232063293457 and parameters: {'lstm_units': 96, 'lstm_layers': 1, 'dropout_rate': 0.4, 'learning_rate': 0.0032012185541615704, 'batch_size': 32, 'dense_units': 80, 'window_size': 40}. Best is trial 51 with value: 25.14232063293457.\n",
      "c:\\Users\\jerem\\miniconda3\\Lib\\site-packages\\keras\\src\\layers\\rnn\\rnn.py:199: UserWarning: Do not pass an `input_shape`/`input_dim` argument to a layer. When using Sequential models, prefer using an `Input(shape)` object as the first layer in the model instead.\n",
      "  super().__init__(**kwargs)\n"
     ]
    },
    {
     "name": "stdout",
     "output_type": "stream",
     "text": [
      "\u001b[1m4/4\u001b[0m \u001b[32m━━━━━━━━━━━━━━━━━━━━\u001b[0m\u001b[37m\u001b[0m \u001b[1m1s\u001b[0m 95ms/step\n"
     ]
    },
    {
     "name": "stderr",
     "output_type": "stream",
     "text": [
      "[I 2025-06-12 17:01:51,290] Trial 52 finished with value: 36.14596176147461 and parameters: {'lstm_units': 96, 'lstm_layers': 1, 'dropout_rate': 0.4, 'learning_rate': 0.004746769138687135, 'batch_size': 32, 'dense_units': 80, 'window_size': 40}. Best is trial 51 with value: 25.14232063293457.\n",
      "c:\\Users\\jerem\\miniconda3\\Lib\\site-packages\\keras\\src\\layers\\rnn\\rnn.py:199: UserWarning: Do not pass an `input_shape`/`input_dim` argument to a layer. When using Sequential models, prefer using an `Input(shape)` object as the first layer in the model instead.\n",
      "  super().__init__(**kwargs)\n"
     ]
    },
    {
     "name": "stdout",
     "output_type": "stream",
     "text": [
      "\u001b[1m4/4\u001b[0m \u001b[32m━━━━━━━━━━━━━━━━━━━━\u001b[0m\u001b[37m\u001b[0m \u001b[1m1s\u001b[0m 95ms/step\n"
     ]
    },
    {
     "name": "stderr",
     "output_type": "stream",
     "text": [
      "[I 2025-06-12 17:02:05,730] Trial 53 finished with value: 32.271480560302734 and parameters: {'lstm_units': 96, 'lstm_layers': 1, 'dropout_rate': 0.5, 'learning_rate': 0.0041834952991556635, 'batch_size': 32, 'dense_units': 64, 'window_size': 40}. Best is trial 51 with value: 25.14232063293457.\n",
      "c:\\Users\\jerem\\miniconda3\\Lib\\site-packages\\keras\\src\\layers\\rnn\\rnn.py:199: UserWarning: Do not pass an `input_shape`/`input_dim` argument to a layer. When using Sequential models, prefer using an `Input(shape)` object as the first layer in the model instead.\n",
      "  super().__init__(**kwargs)\n"
     ]
    },
    {
     "name": "stdout",
     "output_type": "stream",
     "text": [
      "\u001b[1m4/4\u001b[0m \u001b[32m━━━━━━━━━━━━━━━━━━━━\u001b[0m\u001b[37m\u001b[0m \u001b[1m1s\u001b[0m 89ms/step\n"
     ]
    },
    {
     "name": "stderr",
     "output_type": "stream",
     "text": [
      "[I 2025-06-12 17:02:17,043] Trial 54 finished with value: 27.224084854125977 and parameters: {'lstm_units': 96, 'lstm_layers': 1, 'dropout_rate': 0.4, 'learning_rate': 0.0024221670458976657, 'batch_size': 32, 'dense_units': 80, 'window_size': 30}. Best is trial 51 with value: 25.14232063293457.\n",
      "c:\\Users\\jerem\\miniconda3\\Lib\\site-packages\\keras\\src\\layers\\rnn\\rnn.py:199: UserWarning: Do not pass an `input_shape`/`input_dim` argument to a layer. When using Sequential models, prefer using an `Input(shape)` object as the first layer in the model instead.\n",
      "  super().__init__(**kwargs)\n"
     ]
    },
    {
     "name": "stdout",
     "output_type": "stream",
     "text": [
      "\u001b[1m4/4\u001b[0m \u001b[32m━━━━━━━━━━━━━━━━━━━━\u001b[0m\u001b[37m\u001b[0m \u001b[1m1s\u001b[0m 104ms/step\n"
     ]
    },
    {
     "name": "stderr",
     "output_type": "stream",
     "text": [
      "[I 2025-06-12 17:02:37,480] Trial 55 finished with value: 33.432979583740234 and parameters: {'lstm_units': 96, 'lstm_layers': 1, 'dropout_rate': 0.4, 'learning_rate': 0.003462127815523214, 'batch_size': 32, 'dense_units': 96, 'window_size': 50}. Best is trial 51 with value: 25.14232063293457.\n",
      "c:\\Users\\jerem\\miniconda3\\Lib\\site-packages\\keras\\src\\layers\\rnn\\rnn.py:199: UserWarning: Do not pass an `input_shape`/`input_dim` argument to a layer. When using Sequential models, prefer using an `Input(shape)` object as the first layer in the model instead.\n",
      "  super().__init__(**kwargs)\n"
     ]
    },
    {
     "name": "stdout",
     "output_type": "stream",
     "text": [
      "\u001b[1m4/4\u001b[0m \u001b[32m━━━━━━━━━━━━━━━━━━━━\u001b[0m\u001b[37m\u001b[0m \u001b[1m1s\u001b[0m 91ms/step\n"
     ]
    },
    {
     "name": "stderr",
     "output_type": "stream",
     "text": [
      "[I 2025-06-12 17:02:53,214] Trial 56 finished with value: 32.503170013427734 and parameters: {'lstm_units': 96, 'lstm_layers': 1, 'dropout_rate': 0.5, 'learning_rate': 0.005911969399985261, 'batch_size': 32, 'dense_units': 112, 'window_size': 40}. Best is trial 51 with value: 25.14232063293457.\n",
      "c:\\Users\\jerem\\miniconda3\\Lib\\site-packages\\keras\\src\\layers\\rnn\\rnn.py:199: UserWarning: Do not pass an `input_shape`/`input_dim` argument to a layer. When using Sequential models, prefer using an `Input(shape)` object as the first layer in the model instead.\n",
      "  super().__init__(**kwargs)\n"
     ]
    },
    {
     "name": "stdout",
     "output_type": "stream",
     "text": [
      "\u001b[1m4/4\u001b[0m \u001b[32m━━━━━━━━━━━━━━━━━━━━\u001b[0m\u001b[37m\u001b[0m \u001b[1m1s\u001b[0m 87ms/step\n"
     ]
    },
    {
     "name": "stderr",
     "output_type": "stream",
     "text": [
      "[I 2025-06-12 17:03:09,658] Trial 57 finished with value: 31.82632064819336 and parameters: {'lstm_units': 96, 'lstm_layers': 1, 'dropout_rate': 0.4, 'learning_rate': 0.0078048514259889245, 'batch_size': 32, 'dense_units': 64, 'window_size': 50}. Best is trial 51 with value: 25.14232063293457.\n",
      "c:\\Users\\jerem\\miniconda3\\Lib\\site-packages\\keras\\src\\layers\\rnn\\rnn.py:199: UserWarning: Do not pass an `input_shape`/`input_dim` argument to a layer. When using Sequential models, prefer using an `Input(shape)` object as the first layer in the model instead.\n",
      "  super().__init__(**kwargs)\n"
     ]
    },
    {
     "name": "stdout",
     "output_type": "stream",
     "text": [
      "\u001b[1m4/4\u001b[0m \u001b[32m━━━━━━━━━━━━━━━━━━━━\u001b[0m\u001b[37m\u001b[0m \u001b[1m1s\u001b[0m 89ms/step\n"
     ]
    },
    {
     "name": "stderr",
     "output_type": "stream",
     "text": [
      "[I 2025-06-12 17:03:26,039] Trial 58 finished with value: 28.044113159179688 and parameters: {'lstm_units': 96, 'lstm_layers': 1, 'dropout_rate': 0.4, 'learning_rate': 0.0017004043624562202, 'batch_size': 32, 'dense_units': 96, 'window_size': 30}. Best is trial 51 with value: 25.14232063293457.\n",
      "c:\\Users\\jerem\\miniconda3\\Lib\\site-packages\\keras\\src\\layers\\rnn\\rnn.py:199: UserWarning: Do not pass an `input_shape`/`input_dim` argument to a layer. When using Sequential models, prefer using an `Input(shape)` object as the first layer in the model instead.\n",
      "  super().__init__(**kwargs)\n"
     ]
    },
    {
     "name": "stdout",
     "output_type": "stream",
     "text": [
      "\u001b[1m4/4\u001b[0m \u001b[32m━━━━━━━━━━━━━━━━━━━━\u001b[0m\u001b[37m\u001b[0m \u001b[1m1s\u001b[0m 95ms/step\n"
     ]
    },
    {
     "name": "stderr",
     "output_type": "stream",
     "text": [
      "[I 2025-06-12 17:03:48,662] Trial 59 finished with value: 30.00686264038086 and parameters: {'lstm_units': 96, 'lstm_layers': 1, 'dropout_rate': 0.4, 'learning_rate': 0.001660258216951641, 'batch_size': 32, 'dense_units': 96, 'window_size': 30}. Best is trial 51 with value: 25.14232063293457.\n",
      "c:\\Users\\jerem\\miniconda3\\Lib\\site-packages\\keras\\src\\layers\\rnn\\rnn.py:199: UserWarning: Do not pass an `input_shape`/`input_dim` argument to a layer. When using Sequential models, prefer using an `Input(shape)` object as the first layer in the model instead.\n",
      "  super().__init__(**kwargs)\n"
     ]
    },
    {
     "name": "stdout",
     "output_type": "stream",
     "text": [
      "\u001b[1m4/4\u001b[0m \u001b[32m━━━━━━━━━━━━━━━━━━━━\u001b[0m\u001b[37m\u001b[0m \u001b[1m1s\u001b[0m 110ms/step\n"
     ]
    },
    {
     "name": "stderr",
     "output_type": "stream",
     "text": [
      "[I 2025-06-12 17:03:58,602] Trial 60 finished with value: 45.31029510498047 and parameters: {'lstm_units': 96, 'lstm_layers': 1, 'dropout_rate': 0.4, 'learning_rate': 0.0013594361792539345, 'batch_size': 32, 'dense_units': 128, 'window_size': 30}. Best is trial 51 with value: 25.14232063293457.\n",
      "c:\\Users\\jerem\\miniconda3\\Lib\\site-packages\\keras\\src\\layers\\rnn\\rnn.py:199: UserWarning: Do not pass an `input_shape`/`input_dim` argument to a layer. When using Sequential models, prefer using an `Input(shape)` object as the first layer in the model instead.\n",
      "  super().__init__(**kwargs)\n"
     ]
    },
    {
     "name": "stdout",
     "output_type": "stream",
     "text": [
      "\u001b[1m4/4\u001b[0m \u001b[32m━━━━━━━━━━━━━━━━━━━━\u001b[0m\u001b[37m\u001b[0m \u001b[1m1s\u001b[0m 92ms/step\n"
     ]
    },
    {
     "name": "stderr",
     "output_type": "stream",
     "text": [
      "[I 2025-06-12 17:04:16,300] Trial 61 finished with value: 31.72113609313965 and parameters: {'lstm_units': 96, 'lstm_layers': 1, 'dropout_rate': 0.4, 'learning_rate': 0.001704597524365684, 'batch_size': 32, 'dense_units': 96, 'window_size': 30}. Best is trial 51 with value: 25.14232063293457.\n",
      "c:\\Users\\jerem\\miniconda3\\Lib\\site-packages\\keras\\src\\layers\\rnn\\rnn.py:199: UserWarning: Do not pass an `input_shape`/`input_dim` argument to a layer. When using Sequential models, prefer using an `Input(shape)` object as the first layer in the model instead.\n",
      "  super().__init__(**kwargs)\n"
     ]
    },
    {
     "name": "stdout",
     "output_type": "stream",
     "text": [
      "\u001b[1m4/4\u001b[0m \u001b[32m━━━━━━━━━━━━━━━━━━━━\u001b[0m\u001b[37m\u001b[0m \u001b[1m1s\u001b[0m 90ms/step\n"
     ]
    },
    {
     "name": "stderr",
     "output_type": "stream",
     "text": [
      "[I 2025-06-12 17:04:25,964] Trial 62 finished with value: 45.352943420410156 and parameters: {'lstm_units': 96, 'lstm_layers': 1, 'dropout_rate': 0.4, 'learning_rate': 0.0009289878629608545, 'batch_size': 32, 'dense_units': 112, 'window_size': 30}. Best is trial 51 with value: 25.14232063293457.\n",
      "c:\\Users\\jerem\\miniconda3\\Lib\\site-packages\\keras\\src\\layers\\rnn\\rnn.py:199: UserWarning: Do not pass an `input_shape`/`input_dim` argument to a layer. When using Sequential models, prefer using an `Input(shape)` object as the first layer in the model instead.\n",
      "  super().__init__(**kwargs)\n"
     ]
    },
    {
     "name": "stdout",
     "output_type": "stream",
     "text": [
      "\u001b[1m4/4\u001b[0m \u001b[32m━━━━━━━━━━━━━━━━━━━━\u001b[0m\u001b[37m\u001b[0m \u001b[1m0s\u001b[0m 88ms/step\n"
     ]
    },
    {
     "name": "stderr",
     "output_type": "stream",
     "text": [
      "[I 2025-06-12 17:04:43,331] Trial 63 finished with value: 35.84697723388672 and parameters: {'lstm_units': 96, 'lstm_layers': 1, 'dropout_rate': 0.4, 'learning_rate': 0.001971803675996634, 'batch_size': 32, 'dense_units': 80, 'window_size': 30}. Best is trial 51 with value: 25.14232063293457.\n",
      "c:\\Users\\jerem\\miniconda3\\Lib\\site-packages\\keras\\src\\layers\\rnn\\rnn.py:199: UserWarning: Do not pass an `input_shape`/`input_dim` argument to a layer. When using Sequential models, prefer using an `Input(shape)` object as the first layer in the model instead.\n",
      "  super().__init__(**kwargs)\n"
     ]
    },
    {
     "name": "stdout",
     "output_type": "stream",
     "text": [
      "\u001b[1m4/4\u001b[0m \u001b[32m━━━━━━━━━━━━━━━━━━━━\u001b[0m\u001b[37m\u001b[0m \u001b[1m1s\u001b[0m 83ms/step\n"
     ]
    },
    {
     "name": "stderr",
     "output_type": "stream",
     "text": [
      "[I 2025-06-12 17:04:52,117] Trial 64 finished with value: 32.94472122192383 and parameters: {'lstm_units': 96, 'lstm_layers': 1, 'dropout_rate': 0.5, 'learning_rate': 0.002836755485943574, 'batch_size': 32, 'dense_units': 96, 'window_size': 20}. Best is trial 51 with value: 25.14232063293457.\n",
      "c:\\Users\\jerem\\miniconda3\\Lib\\site-packages\\keras\\src\\layers\\rnn\\rnn.py:199: UserWarning: Do not pass an `input_shape`/`input_dim` argument to a layer. When using Sequential models, prefer using an `Input(shape)` object as the first layer in the model instead.\n",
      "  super().__init__(**kwargs)\n"
     ]
    },
    {
     "name": "stdout",
     "output_type": "stream",
     "text": [
      "\u001b[1m4/4\u001b[0m \u001b[32m━━━━━━━━━━━━━━━━━━━━\u001b[0m\u001b[37m\u001b[0m \u001b[1m1s\u001b[0m 95ms/step\n"
     ]
    },
    {
     "name": "stderr",
     "output_type": "stream",
     "text": [
      "[I 2025-06-12 17:05:01,864] Trial 65 finished with value: 32.789424896240234 and parameters: {'lstm_units': 96, 'lstm_layers': 1, 'dropout_rate': 0.4, 'learning_rate': 0.0011452373802942823, 'batch_size': 32, 'dense_units': 80, 'window_size': 40}. Best is trial 51 with value: 25.14232063293457.\n",
      "c:\\Users\\jerem\\miniconda3\\Lib\\site-packages\\keras\\src\\layers\\rnn\\rnn.py:199: UserWarning: Do not pass an `input_shape`/`input_dim` argument to a layer. When using Sequential models, prefer using an `Input(shape)` object as the first layer in the model instead.\n",
      "  super().__init__(**kwargs)\n"
     ]
    },
    {
     "name": "stdout",
     "output_type": "stream",
     "text": [
      "\u001b[1m8/8\u001b[0m \u001b[32m━━━━━━━━━━━━━━━━━━━━\u001b[0m\u001b[37m\u001b[0m \u001b[1m1s\u001b[0m 42ms/step\n"
     ]
    },
    {
     "name": "stderr",
     "output_type": "stream",
     "text": [
      "[I 2025-06-12 17:05:12,268] Trial 66 finished with value: 41.672847747802734 and parameters: {'lstm_units': 96, 'lstm_layers': 1, 'dropout_rate': 0.30000000000000004, 'learning_rate': 0.0022036489599925498, 'batch_size': 16, 'dense_units': 96, 'window_size': 30}. Best is trial 51 with value: 25.14232063293457.\n",
      "c:\\Users\\jerem\\miniconda3\\Lib\\site-packages\\keras\\src\\layers\\rnn\\rnn.py:199: UserWarning: Do not pass an `input_shape`/`input_dim` argument to a layer. When using Sequential models, prefer using an `Input(shape)` object as the first layer in the model instead.\n",
      "  super().__init__(**kwargs)\n"
     ]
    },
    {
     "name": "stdout",
     "output_type": "stream",
     "text": [
      "\u001b[1m4/4\u001b[0m \u001b[32m━━━━━━━━━━━━━━━━━━━━\u001b[0m\u001b[37m\u001b[0m \u001b[1m1s\u001b[0m 82ms/step\n"
     ]
    },
    {
     "name": "stderr",
     "output_type": "stream",
     "text": [
      "[I 2025-06-12 17:05:20,316] Trial 67 finished with value: 52.269493103027344 and parameters: {'lstm_units': 64, 'lstm_layers': 1, 'dropout_rate': 0.4, 'learning_rate': 0.0015696109426001715, 'batch_size': 32, 'dense_units': 112, 'window_size': 20}. Best is trial 51 with value: 25.14232063293457.\n",
      "c:\\Users\\jerem\\miniconda3\\Lib\\site-packages\\keras\\src\\layers\\rnn\\rnn.py:199: UserWarning: Do not pass an `input_shape`/`input_dim` argument to a layer. When using Sequential models, prefer using an `Input(shape)` object as the first layer in the model instead.\n",
      "  super().__init__(**kwargs)\n"
     ]
    },
    {
     "name": "stdout",
     "output_type": "stream",
     "text": [
      "\u001b[1m4/4\u001b[0m \u001b[32m━━━━━━━━━━━━━━━━━━━━\u001b[0m\u001b[37m\u001b[0m \u001b[1m1s\u001b[0m 97ms/step\n"
     ]
    },
    {
     "name": "stderr",
     "output_type": "stream",
     "text": [
      "[I 2025-06-12 17:05:33,764] Trial 68 finished with value: 31.737586975097656 and parameters: {'lstm_units': 96, 'lstm_layers': 1, 'dropout_rate': 0.5, 'learning_rate': 0.0025610170890708766, 'batch_size': 32, 'dense_units': 128, 'window_size': 30}. Best is trial 51 with value: 25.14232063293457.\n",
      "c:\\Users\\jerem\\miniconda3\\Lib\\site-packages\\keras\\src\\layers\\rnn\\rnn.py:199: UserWarning: Do not pass an `input_shape`/`input_dim` argument to a layer. When using Sequential models, prefer using an `Input(shape)` object as the first layer in the model instead.\n",
      "  super().__init__(**kwargs)\n"
     ]
    },
    {
     "name": "stdout",
     "output_type": "stream",
     "text": [
      "\u001b[1m4/4\u001b[0m \u001b[32m━━━━━━━━━━━━━━━━━━━━\u001b[0m\u001b[37m\u001b[0m \u001b[1m1s\u001b[0m 84ms/step\n"
     ]
    },
    {
     "name": "stderr",
     "output_type": "stream",
     "text": [
      "[I 2025-06-12 17:05:55,046] Trial 69 finished with value: 24.49911117553711 and parameters: {'lstm_units': 96, 'lstm_layers': 1, 'dropout_rate': 0.4, 'learning_rate': 0.003090892434778873, 'batch_size': 32, 'dense_units': 32, 'window_size': 40}. Best is trial 69 with value: 24.49911117553711.\n",
      "[I 2025-06-12 17:05:55,093] A new study created in memory with name: lstm_regression_study\n"
     ]
    },
    {
     "name": "stdout",
     "output_type": "stream",
     "text": [
      "Running LSTM study for bin 5, stock 10...\n"
     ]
    },
    {
     "name": "stderr",
     "output_type": "stream",
     "text": [
      "c:\\Users\\jerem\\miniconda3\\Lib\\site-packages\\keras\\src\\layers\\rnn\\rnn.py:199: UserWarning: Do not pass an `input_shape`/`input_dim` argument to a layer. When using Sequential models, prefer using an `Input(shape)` object as the first layer in the model instead.\n",
      "  super().__init__(**kwargs)\n"
     ]
    },
    {
     "name": "stdout",
     "output_type": "stream",
     "text": [
      "\u001b[1m8/8\u001b[0m \u001b[32m━━━━━━━━━━━━━━━━━━━━\u001b[0m\u001b[37m\u001b[0m \u001b[1m1s\u001b[0m 38ms/step\n"
     ]
    },
    {
     "name": "stderr",
     "output_type": "stream",
     "text": [
      "[I 2025-06-12 17:06:20,881] Trial 0 finished with value: 48.389747619628906 and parameters: {'lstm_units': 96, 'lstm_layers': 1, 'dropout_rate': 0.0, 'learning_rate': 0.001299973549114094, 'batch_size': 16, 'dense_units': 112, 'window_size': 40}. Best is trial 0 with value: 48.389747619628906.\n",
      "c:\\Users\\jerem\\miniconda3\\Lib\\site-packages\\keras\\src\\layers\\rnn\\rnn.py:199: UserWarning: Do not pass an `input_shape`/`input_dim` argument to a layer. When using Sequential models, prefer using an `Input(shape)` object as the first layer in the model instead.\n",
      "  super().__init__(**kwargs)\n"
     ]
    },
    {
     "name": "stdout",
     "output_type": "stream",
     "text": [
      "\u001b[1m4/4\u001b[0m \u001b[32m━━━━━━━━━━━━━━━━━━━━\u001b[0m\u001b[37m\u001b[0m \u001b[1m0s\u001b[0m 85ms/step\n"
     ]
    },
    {
     "name": "stderr",
     "output_type": "stream",
     "text": [
      "[I 2025-06-12 17:06:41,349] Trial 1 finished with value: 43.19437026977539 and parameters: {'lstm_units': 64, 'lstm_layers': 1, 'dropout_rate': 0.1, 'learning_rate': 0.00021726619755077495, 'batch_size': 32, 'dense_units': 16, 'window_size': 20}. Best is trial 1 with value: 43.19437026977539.\n",
      "c:\\Users\\jerem\\miniconda3\\Lib\\site-packages\\keras\\src\\layers\\rnn\\rnn.py:199: UserWarning: Do not pass an `input_shape`/`input_dim` argument to a layer. When using Sequential models, prefer using an `Input(shape)` object as the first layer in the model instead.\n",
      "  super().__init__(**kwargs)\n"
     ]
    },
    {
     "name": "stdout",
     "output_type": "stream",
     "text": [
      "\u001b[1m4/4\u001b[0m \u001b[32m━━━━━━━━━━━━━━━━━━━━\u001b[0m\u001b[37m\u001b[0m \u001b[1m1s\u001b[0m 152ms/step\n"
     ]
    },
    {
     "name": "stderr",
     "output_type": "stream",
     "text": [
      "[I 2025-06-12 17:06:58,082] Trial 2 finished with value: 64.57060241699219 and parameters: {'lstm_units': 128, 'lstm_layers': 2, 'dropout_rate': 0.0, 'learning_rate': 0.0017118335561093628, 'batch_size': 32, 'dense_units': 128, 'window_size': 10}. Best is trial 1 with value: 43.19437026977539.\n",
      "c:\\Users\\jerem\\miniconda3\\Lib\\site-packages\\keras\\src\\layers\\rnn\\rnn.py:199: UserWarning: Do not pass an `input_shape`/`input_dim` argument to a layer. When using Sequential models, prefer using an `Input(shape)` object as the first layer in the model instead.\n",
      "  super().__init__(**kwargs)\n"
     ]
    },
    {
     "name": "stdout",
     "output_type": "stream",
     "text": [
      "\u001b[1m8/8\u001b[0m \u001b[32m━━━━━━━━━━━━━━━━━━━━\u001b[0m\u001b[37m\u001b[0m \u001b[1m1s\u001b[0m 51ms/step\n"
     ]
    },
    {
     "name": "stderr",
     "output_type": "stream",
     "text": [
      "[I 2025-06-12 17:08:24,363] Trial 3 finished with value: 69.13419342041016 and parameters: {'lstm_units': 32, 'lstm_layers': 1, 'dropout_rate': 0.4, 'learning_rate': 0.0023149397388882937, 'batch_size': 16, 'dense_units': 112, 'window_size': 30}. Best is trial 1 with value: 43.19437026977539.\n",
      "c:\\Users\\jerem\\miniconda3\\Lib\\site-packages\\keras\\src\\layers\\rnn\\rnn.py:199: UserWarning: Do not pass an `input_shape`/`input_dim` argument to a layer. When using Sequential models, prefer using an `Input(shape)` object as the first layer in the model instead.\n",
      "  super().__init__(**kwargs)\n"
     ]
    },
    {
     "name": "stdout",
     "output_type": "stream",
     "text": [
      "\u001b[1m8/8\u001b[0m \u001b[32m━━━━━━━━━━━━━━━━━━━━\u001b[0m\u001b[37m\u001b[0m \u001b[1m1s\u001b[0m 58ms/step\n"
     ]
    },
    {
     "name": "stderr",
     "output_type": "stream",
     "text": [
      "[I 2025-06-12 17:08:50,449] Trial 4 finished with value: 62.8527946472168 and parameters: {'lstm_units': 128, 'lstm_layers': 1, 'dropout_rate': 0.0, 'learning_rate': 0.0013422290868652608, 'batch_size': 16, 'dense_units': 80, 'window_size': 50}. Best is trial 1 with value: 43.19437026977539.\n",
      "c:\\Users\\jerem\\miniconda3\\Lib\\site-packages\\keras\\src\\layers\\rnn\\rnn.py:199: UserWarning: Do not pass an `input_shape`/`input_dim` argument to a layer. When using Sequential models, prefer using an `Input(shape)` object as the first layer in the model instead.\n",
      "  super().__init__(**kwargs)\n"
     ]
    },
    {
     "name": "stdout",
     "output_type": "stream",
     "text": [
      "\u001b[1m4/4\u001b[0m \u001b[32m━━━━━━━━━━━━━━━━━━━━\u001b[0m\u001b[37m\u001b[0m \u001b[1m1s\u001b[0m 99ms/step\n"
     ]
    },
    {
     "name": "stderr",
     "output_type": "stream",
     "text": [
      "[I 2025-06-12 17:09:23,366] Trial 5 finished with value: 55.9884147644043 and parameters: {'lstm_units': 96, 'lstm_layers': 1, 'dropout_rate': 0.2, 'learning_rate': 0.0011516412943388516, 'batch_size': 32, 'dense_units': 16, 'window_size': 30}. Best is trial 1 with value: 43.19437026977539.\n",
      "c:\\Users\\jerem\\miniconda3\\Lib\\site-packages\\keras\\src\\layers\\rnn\\rnn.py:199: UserWarning: Do not pass an `input_shape`/`input_dim` argument to a layer. When using Sequential models, prefer using an `Input(shape)` object as the first layer in the model instead.\n",
      "  super().__init__(**kwargs)\n"
     ]
    },
    {
     "name": "stdout",
     "output_type": "stream",
     "text": [
      "\u001b[1m4/4\u001b[0m \u001b[32m━━━━━━━━━━━━━━━━━━━━\u001b[0m\u001b[37m\u001b[0m \u001b[1m1s\u001b[0m 172ms/step\n"
     ]
    },
    {
     "name": "stderr",
     "output_type": "stream",
     "text": [
      "[I 2025-06-12 17:10:24,145] Trial 6 finished with value: 43.78034591674805 and parameters: {'lstm_units': 32, 'lstm_layers': 2, 'dropout_rate': 0.30000000000000004, 'learning_rate': 0.00036213701487132965, 'batch_size': 32, 'dense_units': 80, 'window_size': 30}. Best is trial 1 with value: 43.19437026977539.\n",
      "c:\\Users\\jerem\\miniconda3\\Lib\\site-packages\\keras\\src\\layers\\rnn\\rnn.py:199: UserWarning: Do not pass an `input_shape`/`input_dim` argument to a layer. When using Sequential models, prefer using an `Input(shape)` object as the first layer in the model instead.\n",
      "  super().__init__(**kwargs)\n"
     ]
    },
    {
     "name": "stdout",
     "output_type": "stream",
     "text": [
      "\u001b[1m8/8\u001b[0m \u001b[32m━━━━━━━━━━━━━━━━━━━━\u001b[0m\u001b[37m\u001b[0m \u001b[1m1s\u001b[0m 94ms/step\n"
     ]
    },
    {
     "name": "stderr",
     "output_type": "stream",
     "text": [
      "[I 2025-06-12 17:11:19,046] Trial 7 finished with value: 54.94646453857422 and parameters: {'lstm_units': 128, 'lstm_layers': 2, 'dropout_rate': 0.1, 'learning_rate': 0.0029889854349135795, 'batch_size': 16, 'dense_units': 32, 'window_size': 30}. Best is trial 1 with value: 43.19437026977539.\n",
      "c:\\Users\\jerem\\miniconda3\\Lib\\site-packages\\keras\\src\\layers\\rnn\\rnn.py:199: UserWarning: Do not pass an `input_shape`/`input_dim` argument to a layer. When using Sequential models, prefer using an `Input(shape)` object as the first layer in the model instead.\n",
      "  super().__init__(**kwargs)\n"
     ]
    },
    {
     "name": "stdout",
     "output_type": "stream",
     "text": [
      "\u001b[1m8/8\u001b[0m \u001b[32m━━━━━━━━━━━━━━━━━━━━\u001b[0m\u001b[37m\u001b[0m \u001b[1m1s\u001b[0m 58ms/step\n"
     ]
    },
    {
     "name": "stderr",
     "output_type": "stream",
     "text": [
      "[I 2025-06-12 17:13:22,321] Trial 8 finished with value: 105.96701049804688 and parameters: {'lstm_units': 128, 'lstm_layers': 1, 'dropout_rate': 0.5, 'learning_rate': 0.00011012562589254938, 'batch_size': 16, 'dense_units': 64, 'window_size': 60}. Best is trial 1 with value: 43.19437026977539.\n",
      "c:\\Users\\jerem\\miniconda3\\Lib\\site-packages\\keras\\src\\layers\\rnn\\rnn.py:199: UserWarning: Do not pass an `input_shape`/`input_dim` argument to a layer. When using Sequential models, prefer using an `Input(shape)` object as the first layer in the model instead.\n",
      "  super().__init__(**kwargs)\n"
     ]
    },
    {
     "name": "stdout",
     "output_type": "stream",
     "text": [
      "\u001b[1m4/4\u001b[0m \u001b[32m━━━━━━━━━━━━━━━━━━━━\u001b[0m\u001b[37m\u001b[0m \u001b[1m1s\u001b[0m 183ms/step\n"
     ]
    },
    {
     "name": "stderr",
     "output_type": "stream",
     "text": [
      "[I 2025-06-12 17:14:13,017] Trial 9 finished with value: 50.198429107666016 and parameters: {'lstm_units': 96, 'lstm_layers': 2, 'dropout_rate': 0.5, 'learning_rate': 0.0005528093991038839, 'batch_size': 32, 'dense_units': 128, 'window_size': 50}. Best is trial 1 with value: 43.19437026977539.\n",
      "c:\\Users\\jerem\\miniconda3\\Lib\\site-packages\\keras\\src\\layers\\rnn\\rnn.py:199: UserWarning: Do not pass an `input_shape`/`input_dim` argument to a layer. When using Sequential models, prefer using an `Input(shape)` object as the first layer in the model instead.\n",
      "  super().__init__(**kwargs)\n"
     ]
    },
    {
     "name": "stdout",
     "output_type": "stream",
     "text": [
      "\u001b[1m4/4\u001b[0m \u001b[32m━━━━━━━━━━━━━━━━━━━━\u001b[0m\u001b[37m\u001b[0m \u001b[1m1s\u001b[0m 112ms/step\n"
     ]
    },
    {
     "name": "stderr",
     "output_type": "stream",
     "text": [
      "[I 2025-06-12 17:14:26,077] Trial 10 finished with value: 51.31107711791992 and parameters: {'lstm_units': 64, 'lstm_layers': 1, 'dropout_rate': 0.2, 'learning_rate': 0.00883837018697918, 'batch_size': 32, 'dense_units': 48, 'window_size': 10}. Best is trial 1 with value: 43.19437026977539.\n",
      "c:\\Users\\jerem\\miniconda3\\Lib\\site-packages\\keras\\src\\layers\\rnn\\rnn.py:199: UserWarning: Do not pass an `input_shape`/`input_dim` argument to a layer. When using Sequential models, prefer using an `Input(shape)` object as the first layer in the model instead.\n",
      "  super().__init__(**kwargs)\n"
     ]
    },
    {
     "name": "stdout",
     "output_type": "stream",
     "text": [
      "\u001b[1m4/4\u001b[0m \u001b[32m━━━━━━━━━━━━━━━━━━━━\u001b[0m\u001b[37m\u001b[0m \u001b[1m1s\u001b[0m 199ms/step\n"
     ]
    },
    {
     "name": "stderr",
     "output_type": "stream",
     "text": [
      "[I 2025-06-12 17:15:23,785] Trial 11 finished with value: 27.142099380493164 and parameters: {'lstm_units': 32, 'lstm_layers': 2, 'dropout_rate': 0.30000000000000004, 'learning_rate': 0.00026121209885859875, 'batch_size': 32, 'dense_units': 80, 'window_size': 20}. Best is trial 11 with value: 27.142099380493164.\n",
      "c:\\Users\\jerem\\miniconda3\\Lib\\site-packages\\keras\\src\\layers\\rnn\\rnn.py:199: UserWarning: Do not pass an `input_shape`/`input_dim` argument to a layer. When using Sequential models, prefer using an `Input(shape)` object as the first layer in the model instead.\n",
      "  super().__init__(**kwargs)\n"
     ]
    },
    {
     "name": "stdout",
     "output_type": "stream",
     "text": [
      "\u001b[1m4/4\u001b[0m \u001b[32m━━━━━━━━━━━━━━━━━━━━\u001b[0m\u001b[37m\u001b[0m \u001b[1m1s\u001b[0m 278ms/step\n"
     ]
    },
    {
     "name": "stderr",
     "output_type": "stream",
     "text": [
      "[I 2025-06-12 17:16:46,383] Trial 12 finished with value: 24.210973739624023 and parameters: {'lstm_units': 64, 'lstm_layers': 2, 'dropout_rate': 0.30000000000000004, 'learning_rate': 0.0001492067587415537, 'batch_size': 32, 'dense_units': 64, 'window_size': 20}. Best is trial 12 with value: 24.210973739624023.\n",
      "c:\\Users\\jerem\\miniconda3\\Lib\\site-packages\\keras\\src\\layers\\rnn\\rnn.py:199: UserWarning: Do not pass an `input_shape`/`input_dim` argument to a layer. When using Sequential models, prefer using an `Input(shape)` object as the first layer in the model instead.\n",
      "  super().__init__(**kwargs)\n"
     ]
    },
    {
     "name": "stdout",
     "output_type": "stream",
     "text": [
      "\u001b[1m4/4\u001b[0m \u001b[32m━━━━━━━━━━━━━━━━━━━━\u001b[0m\u001b[37m\u001b[0m \u001b[1m1s\u001b[0m 167ms/step\n"
     ]
    },
    {
     "name": "stderr",
     "output_type": "stream",
     "text": [
      "[I 2025-06-12 17:17:37,934] Trial 13 finished with value: 19.87062644958496 and parameters: {'lstm_units': 32, 'lstm_layers': 2, 'dropout_rate': 0.30000000000000004, 'learning_rate': 0.00010614254097379251, 'batch_size': 32, 'dense_units': 64, 'window_size': 20}. Best is trial 13 with value: 19.87062644958496.\n",
      "c:\\Users\\jerem\\miniconda3\\Lib\\site-packages\\keras\\src\\layers\\rnn\\rnn.py:199: UserWarning: Do not pass an `input_shape`/`input_dim` argument to a layer. When using Sequential models, prefer using an `Input(shape)` object as the first layer in the model instead.\n",
      "  super().__init__(**kwargs)\n"
     ]
    },
    {
     "name": "stdout",
     "output_type": "stream",
     "text": [
      "\u001b[1m4/4\u001b[0m \u001b[32m━━━━━━━━━━━━━━━━━━━━\u001b[0m\u001b[37m\u001b[0m \u001b[1m1s\u001b[0m 236ms/step\n"
     ]
    },
    {
     "name": "stderr",
     "output_type": "stream",
     "text": [
      "[I 2025-06-12 17:18:27,996] Trial 14 finished with value: 26.068994522094727 and parameters: {'lstm_units': 64, 'lstm_layers': 2, 'dropout_rate': 0.4, 'learning_rate': 0.00011133320459614547, 'batch_size': 32, 'dense_units': 48, 'window_size': 20}. Best is trial 13 with value: 19.87062644958496.\n",
      "c:\\Users\\jerem\\miniconda3\\Lib\\site-packages\\keras\\src\\layers\\rnn\\rnn.py:199: UserWarning: Do not pass an `input_shape`/`input_dim` argument to a layer. When using Sequential models, prefer using an `Input(shape)` object as the first layer in the model instead.\n",
      "  super().__init__(**kwargs)\n"
     ]
    },
    {
     "name": "stdout",
     "output_type": "stream",
     "text": [
      "\u001b[1m4/4\u001b[0m \u001b[32m━━━━━━━━━━━━━━━━━━━━\u001b[0m\u001b[37m\u001b[0m \u001b[1m1s\u001b[0m 156ms/step\n"
     ]
    },
    {
     "name": "stderr",
     "output_type": "stream",
     "text": [
      "[I 2025-06-12 17:18:59,307] Trial 15 finished with value: 37.009586334228516 and parameters: {'lstm_units': 32, 'lstm_layers': 2, 'dropout_rate': 0.4, 'learning_rate': 0.00016578946548102876, 'batch_size': 32, 'dense_units': 64, 'window_size': 10}. Best is trial 13 with value: 19.87062644958496.\n",
      "c:\\Users\\jerem\\miniconda3\\Lib\\site-packages\\keras\\src\\layers\\rnn\\rnn.py:199: UserWarning: Do not pass an `input_shape`/`input_dim` argument to a layer. When using Sequential models, prefer using an `Input(shape)` object as the first layer in the model instead.\n",
      "  super().__init__(**kwargs)\n"
     ]
    },
    {
     "name": "stdout",
     "output_type": "stream",
     "text": [
      "\u001b[1m4/4\u001b[0m \u001b[32m━━━━━━━━━━━━━━━━━━━━\u001b[0m\u001b[37m\u001b[0m \u001b[1m1s\u001b[0m 161ms/step\n"
     ]
    },
    {
     "name": "stderr",
     "output_type": "stream",
     "text": [
      "[I 2025-06-12 17:19:21,272] Trial 16 finished with value: 40.558128356933594 and parameters: {'lstm_units': 64, 'lstm_layers': 2, 'dropout_rate': 0.30000000000000004, 'learning_rate': 0.0005515120320107206, 'batch_size': 32, 'dense_units': 96, 'window_size': 20}. Best is trial 13 with value: 19.87062644958496.\n",
      "c:\\Users\\jerem\\miniconda3\\Lib\\site-packages\\keras\\src\\layers\\rnn\\rnn.py:199: UserWarning: Do not pass an `input_shape`/`input_dim` argument to a layer. When using Sequential models, prefer using an `Input(shape)` object as the first layer in the model instead.\n",
      "  super().__init__(**kwargs)\n"
     ]
    },
    {
     "name": "stdout",
     "output_type": "stream",
     "text": [
      "\u001b[1m4/4\u001b[0m \u001b[32m━━━━━━━━━━━━━━━━━━━━\u001b[0m\u001b[37m\u001b[0m \u001b[1m1s\u001b[0m 163ms/step\n"
     ]
    },
    {
     "name": "stderr",
     "output_type": "stream",
     "text": [
      "[I 2025-06-12 17:20:27,860] Trial 17 finished with value: 34.24355697631836 and parameters: {'lstm_units': 32, 'lstm_layers': 2, 'dropout_rate': 0.2, 'learning_rate': 0.00049939183821102, 'batch_size': 32, 'dense_units': 48, 'window_size': 40}. Best is trial 13 with value: 19.87062644958496.\n",
      "c:\\Users\\jerem\\miniconda3\\Lib\\site-packages\\keras\\src\\layers\\rnn\\rnn.py:199: UserWarning: Do not pass an `input_shape`/`input_dim` argument to a layer. When using Sequential models, prefer using an `Input(shape)` object as the first layer in the model instead.\n",
      "  super().__init__(**kwargs)\n"
     ]
    },
    {
     "name": "stdout",
     "output_type": "stream",
     "text": [
      "\u001b[1m4/4\u001b[0m \u001b[32m━━━━━━━━━━━━━━━━━━━━\u001b[0m\u001b[37m\u001b[0m \u001b[1m1s\u001b[0m 167ms/step\n"
     ]
    },
    {
     "name": "stderr",
     "output_type": "stream",
     "text": [
      "[I 2025-06-12 17:21:30,403] Trial 18 finished with value: 29.58218765258789 and parameters: {'lstm_units': 64, 'lstm_layers': 2, 'dropout_rate': 0.4, 'learning_rate': 0.00016803450901249699, 'batch_size': 32, 'dense_units': 96, 'window_size': 20}. Best is trial 13 with value: 19.87062644958496.\n",
      "c:\\Users\\jerem\\miniconda3\\Lib\\site-packages\\keras\\src\\layers\\rnn\\rnn.py:199: UserWarning: Do not pass an `input_shape`/`input_dim` argument to a layer. When using Sequential models, prefer using an `Input(shape)` object as the first layer in the model instead.\n",
      "  super().__init__(**kwargs)\n"
     ]
    },
    {
     "name": "stdout",
     "output_type": "stream",
     "text": [
      "\u001b[1m4/4\u001b[0m \u001b[32m━━━━━━━━━━━━━━━━━━━━\u001b[0m\u001b[37m\u001b[0m \u001b[1m1s\u001b[0m 175ms/step\n"
     ]
    },
    {
     "name": "stderr",
     "output_type": "stream",
     "text": [
      "[I 2025-06-12 17:22:03,253] Trial 19 finished with value: 34.310733795166016 and parameters: {'lstm_units': 32, 'lstm_layers': 2, 'dropout_rate': 0.30000000000000004, 'learning_rate': 0.000105320039530125, 'batch_size': 32, 'dense_units': 32, 'window_size': 10}. Best is trial 13 with value: 19.87062644958496.\n",
      "c:\\Users\\jerem\\miniconda3\\Lib\\site-packages\\keras\\src\\layers\\rnn\\rnn.py:199: UserWarning: Do not pass an `input_shape`/`input_dim` argument to a layer. When using Sequential models, prefer using an `Input(shape)` object as the first layer in the model instead.\n",
      "  super().__init__(**kwargs)\n"
     ]
    },
    {
     "name": "stdout",
     "output_type": "stream",
     "text": [
      "\u001b[1m4/4\u001b[0m \u001b[32m━━━━━━━━━━━━━━━━━━━━\u001b[0m\u001b[37m\u001b[0m \u001b[1m1s\u001b[0m 187ms/step\n"
     ]
    },
    {
     "name": "stderr",
     "output_type": "stream",
     "text": [
      "[I 2025-06-12 17:22:27,447] Trial 20 finished with value: 73.6519775390625 and parameters: {'lstm_units': 64, 'lstm_layers': 2, 'dropout_rate': 0.1, 'learning_rate': 0.004982052986607092, 'batch_size': 32, 'dense_units': 64, 'window_size': 40}. Best is trial 13 with value: 19.87062644958496.\n",
      "c:\\Users\\jerem\\miniconda3\\Lib\\site-packages\\keras\\src\\layers\\rnn\\rnn.py:199: UserWarning: Do not pass an `input_shape`/`input_dim` argument to a layer. When using Sequential models, prefer using an `Input(shape)` object as the first layer in the model instead.\n",
      "  super().__init__(**kwargs)\n"
     ]
    },
    {
     "name": "stdout",
     "output_type": "stream",
     "text": [
      "\u001b[1m4/4\u001b[0m \u001b[32m━━━━━━━━━━━━━━━━━━━━\u001b[0m\u001b[37m\u001b[0m \u001b[1m1s\u001b[0m 167ms/step\n"
     ]
    },
    {
     "name": "stderr",
     "output_type": "stream",
     "text": [
      "[I 2025-06-12 17:23:14,428] Trial 21 finished with value: 38.810916900634766 and parameters: {'lstm_units': 64, 'lstm_layers': 2, 'dropout_rate': 0.4, 'learning_rate': 0.00010939955135658254, 'batch_size': 32, 'dense_units': 48, 'window_size': 20}. Best is trial 13 with value: 19.87062644958496.\n",
      "c:\\Users\\jerem\\miniconda3\\Lib\\site-packages\\keras\\src\\layers\\rnn\\rnn.py:199: UserWarning: Do not pass an `input_shape`/`input_dim` argument to a layer. When using Sequential models, prefer using an `Input(shape)` object as the first layer in the model instead.\n",
      "  super().__init__(**kwargs)\n"
     ]
    },
    {
     "name": "stdout",
     "output_type": "stream",
     "text": [
      "\u001b[1m4/4\u001b[0m \u001b[32m━━━━━━━━━━━━━━━━━━━━\u001b[0m\u001b[37m\u001b[0m \u001b[1m1s\u001b[0m 162ms/step\n"
     ]
    },
    {
     "name": "stderr",
     "output_type": "stream",
     "text": [
      "[I 2025-06-12 17:23:55,021] Trial 22 finished with value: 38.220909118652344 and parameters: {'lstm_units': 96, 'lstm_layers': 2, 'dropout_rate': 0.4, 'learning_rate': 0.0001807666271931126, 'batch_size': 32, 'dense_units': 32, 'window_size': 20}. Best is trial 13 with value: 19.87062644958496.\n",
      "c:\\Users\\jerem\\miniconda3\\Lib\\site-packages\\keras\\src\\layers\\rnn\\rnn.py:199: UserWarning: Do not pass an `input_shape`/`input_dim` argument to a layer. When using Sequential models, prefer using an `Input(shape)` object as the first layer in the model instead.\n",
      "  super().__init__(**kwargs)\n"
     ]
    },
    {
     "name": "stdout",
     "output_type": "stream",
     "text": [
      "\u001b[1m4/4\u001b[0m \u001b[32m━━━━━━━━━━━━━━━━━━━━\u001b[0m\u001b[37m\u001b[0m \u001b[1m1s\u001b[0m 161ms/step\n"
     ]
    },
    {
     "name": "stderr",
     "output_type": "stream",
     "text": [
      "[I 2025-06-12 17:24:13,620] Trial 23 finished with value: 36.22600555419922 and parameters: {'lstm_units': 64, 'lstm_layers': 2, 'dropout_rate': 0.5, 'learning_rate': 0.00032558589758401203, 'batch_size': 32, 'dense_units': 48, 'window_size': 10}. Best is trial 13 with value: 19.87062644958496.\n",
      "c:\\Users\\jerem\\miniconda3\\Lib\\site-packages\\keras\\src\\layers\\rnn\\rnn.py:199: UserWarning: Do not pass an `input_shape`/`input_dim` argument to a layer. When using Sequential models, prefer using an `Input(shape)` object as the first layer in the model instead.\n",
      "  super().__init__(**kwargs)\n"
     ]
    },
    {
     "name": "stdout",
     "output_type": "stream",
     "text": [
      "\u001b[1m4/4\u001b[0m \u001b[32m━━━━━━━━━━━━━━━━━━━━\u001b[0m\u001b[37m\u001b[0m \u001b[1m1s\u001b[0m 172ms/step\n"
     ]
    },
    {
     "name": "stderr",
     "output_type": "stream",
     "text": [
      "[I 2025-06-12 17:24:57,489] Trial 24 finished with value: 19.995323181152344 and parameters: {'lstm_units': 64, 'lstm_layers': 2, 'dropout_rate': 0.30000000000000004, 'learning_rate': 0.00014932110741341928, 'batch_size': 32, 'dense_units': 64, 'window_size': 30}. Best is trial 13 with value: 19.87062644958496.\n",
      "c:\\Users\\jerem\\miniconda3\\Lib\\site-packages\\keras\\src\\layers\\rnn\\rnn.py:199: UserWarning: Do not pass an `input_shape`/`input_dim` argument to a layer. When using Sequential models, prefer using an `Input(shape)` object as the first layer in the model instead.\n",
      "  super().__init__(**kwargs)\n"
     ]
    },
    {
     "name": "stdout",
     "output_type": "stream",
     "text": [
      "\u001b[1m4/4\u001b[0m \u001b[32m━━━━━━━━━━━━━━━━━━━━\u001b[0m\u001b[37m\u001b[0m \u001b[1m1s\u001b[0m 147ms/step\n"
     ]
    },
    {
     "name": "stderr",
     "output_type": "stream",
     "text": [
      "[I 2025-06-12 17:25:47,511] Trial 25 finished with value: 31.65876007080078 and parameters: {'lstm_units': 32, 'lstm_layers': 2, 'dropout_rate': 0.30000000000000004, 'learning_rate': 0.00015450898110463534, 'batch_size': 32, 'dense_units': 64, 'window_size': 30}. Best is trial 13 with value: 19.87062644958496.\n",
      "c:\\Users\\jerem\\miniconda3\\Lib\\site-packages\\keras\\src\\layers\\rnn\\rnn.py:199: UserWarning: Do not pass an `input_shape`/`input_dim` argument to a layer. When using Sequential models, prefer using an `Input(shape)` object as the first layer in the model instead.\n",
      "  super().__init__(**kwargs)\n"
     ]
    },
    {
     "name": "stdout",
     "output_type": "stream",
     "text": [
      "\u001b[1m8/8\u001b[0m \u001b[32m━━━━━━━━━━━━━━━━━━━━\u001b[0m\u001b[37m\u001b[0m \u001b[1m1s\u001b[0m 74ms/step\n"
     ]
    },
    {
     "name": "stderr",
     "output_type": "stream",
     "text": [
      "[I 2025-06-12 17:26:13,064] Trial 26 finished with value: 59.28120040893555 and parameters: {'lstm_units': 96, 'lstm_layers': 2, 'dropout_rate': 0.2, 'learning_rate': 0.0007488884167816902, 'batch_size': 16, 'dense_units': 96, 'window_size': 30}. Best is trial 13 with value: 19.87062644958496.\n",
      "c:\\Users\\jerem\\miniconda3\\Lib\\site-packages\\keras\\src\\layers\\rnn\\rnn.py:199: UserWarning: Do not pass an `input_shape`/`input_dim` argument to a layer. When using Sequential models, prefer using an `Input(shape)` object as the first layer in the model instead.\n",
      "  super().__init__(**kwargs)\n"
     ]
    },
    {
     "name": "stdout",
     "output_type": "stream",
     "text": [
      "\u001b[1m4/4\u001b[0m \u001b[32m━━━━━━━━━━━━━━━━━━━━\u001b[0m\u001b[37m\u001b[0m \u001b[1m1s\u001b[0m 212ms/step\n"
     ]
    },
    {
     "name": "stderr",
     "output_type": "stream",
     "text": [
      "[I 2025-06-12 17:27:04,417] Trial 27 finished with value: 26.57206916809082 and parameters: {'lstm_units': 64, 'lstm_layers': 2, 'dropout_rate': 0.30000000000000004, 'learning_rate': 0.00029540354037218696, 'batch_size': 32, 'dense_units': 80, 'window_size': 40}. Best is trial 13 with value: 19.87062644958496.\n",
      "c:\\Users\\jerem\\miniconda3\\Lib\\site-packages\\keras\\src\\layers\\rnn\\rnn.py:199: UserWarning: Do not pass an `input_shape`/`input_dim` argument to a layer. When using Sequential models, prefer using an `Input(shape)` object as the first layer in the model instead.\n",
      "  super().__init__(**kwargs)\n"
     ]
    },
    {
     "name": "stdout",
     "output_type": "stream",
     "text": [
      "\u001b[1m4/4\u001b[0m \u001b[32m━━━━━━━━━━━━━━━━━━━━\u001b[0m\u001b[37m\u001b[0m \u001b[1m1s\u001b[0m 149ms/step\n"
     ]
    },
    {
     "name": "stderr",
     "output_type": "stream",
     "text": [
      "[I 2025-06-12 17:27:44,541] Trial 28 finished with value: 41.50050354003906 and parameters: {'lstm_units': 32, 'lstm_layers': 2, 'dropout_rate': 0.2, 'learning_rate': 0.00023007211918491197, 'batch_size': 32, 'dense_units': 64, 'window_size': 20}. Best is trial 13 with value: 19.87062644958496.\n",
      "c:\\Users\\jerem\\miniconda3\\Lib\\site-packages\\keras\\src\\layers\\rnn\\rnn.py:199: UserWarning: Do not pass an `input_shape`/`input_dim` argument to a layer. When using Sequential models, prefer using an `Input(shape)` object as the first layer in the model instead.\n",
      "  super().__init__(**kwargs)\n"
     ]
    },
    {
     "name": "stdout",
     "output_type": "stream",
     "text": [
      "\u001b[1m8/8\u001b[0m \u001b[32m━━━━━━━━━━━━━━━━━━━━\u001b[0m\u001b[37m\u001b[0m \u001b[1m1s\u001b[0m 76ms/step\n"
     ]
    },
    {
     "name": "stderr",
     "output_type": "stream",
     "text": [
      "[I 2025-06-12 17:28:27,861] Trial 29 finished with value: 45.092247009277344 and parameters: {'lstm_units': 96, 'lstm_layers': 2, 'dropout_rate': 0.30000000000000004, 'learning_rate': 0.00040220145699033965, 'batch_size': 16, 'dense_units': 96, 'window_size': 50}. Best is trial 13 with value: 19.87062644958496.\n",
      "c:\\Users\\jerem\\miniconda3\\Lib\\site-packages\\keras\\src\\layers\\rnn\\rnn.py:199: UserWarning: Do not pass an `input_shape`/`input_dim` argument to a layer. When using Sequential models, prefer using an `Input(shape)` object as the first layer in the model instead.\n",
      "  super().__init__(**kwargs)\n"
     ]
    },
    {
     "name": "stdout",
     "output_type": "stream",
     "text": [
      "\u001b[1m4/4\u001b[0m \u001b[32m━━━━━━━━━━━━━━━━━━━━\u001b[0m\u001b[37m\u001b[0m \u001b[1m1s\u001b[0m 163ms/step\n"
     ]
    },
    {
     "name": "stderr",
     "output_type": "stream",
     "text": [
      "[I 2025-06-12 17:29:05,581] Trial 30 finished with value: 61.450809478759766 and parameters: {'lstm_units': 64, 'lstm_layers': 2, 'dropout_rate': 0.2, 'learning_rate': 0.0007760607394525329, 'batch_size': 32, 'dense_units': 80, 'window_size': 30}. Best is trial 13 with value: 19.87062644958496.\n",
      "c:\\Users\\jerem\\miniconda3\\Lib\\site-packages\\keras\\src\\layers\\rnn\\rnn.py:199: UserWarning: Do not pass an `input_shape`/`input_dim` argument to a layer. When using Sequential models, prefer using an `Input(shape)` object as the first layer in the model instead.\n",
      "  super().__init__(**kwargs)\n"
     ]
    },
    {
     "name": "stdout",
     "output_type": "stream",
     "text": [
      "\u001b[1m4/4\u001b[0m \u001b[32m━━━━━━━━━━━━━━━━━━━━\u001b[0m\u001b[37m\u001b[0m \u001b[1m1s\u001b[0m 153ms/step\n"
     ]
    },
    {
     "name": "stderr",
     "output_type": "stream",
     "text": [
      "[I 2025-06-12 17:29:36,199] Trial 31 finished with value: 89.65798950195312 and parameters: {'lstm_units': 64, 'lstm_layers': 2, 'dropout_rate': 0.4, 'learning_rate': 0.000130156733124007, 'batch_size': 32, 'dense_units': 48, 'window_size': 20}. Best is trial 13 with value: 19.87062644958496.\n",
      "c:\\Users\\jerem\\miniconda3\\Lib\\site-packages\\keras\\src\\layers\\rnn\\rnn.py:199: UserWarning: Do not pass an `input_shape`/`input_dim` argument to a layer. When using Sequential models, prefer using an `Input(shape)` object as the first layer in the model instead.\n",
      "  super().__init__(**kwargs)\n"
     ]
    },
    {
     "name": "stdout",
     "output_type": "stream",
     "text": [
      "\u001b[1m4/4\u001b[0m \u001b[32m━━━━━━━━━━━━━━━━━━━━\u001b[0m\u001b[37m\u001b[0m \u001b[1m1s\u001b[0m 155ms/step\n"
     ]
    },
    {
     "name": "stderr",
     "output_type": "stream",
     "text": [
      "[I 2025-06-12 17:29:58,368] Trial 32 finished with value: 48.46969985961914 and parameters: {'lstm_units': 64, 'lstm_layers': 2, 'dropout_rate': 0.4, 'learning_rate': 0.00021194409278280972, 'batch_size': 32, 'dense_units': 64, 'window_size': 20}. Best is trial 13 with value: 19.87062644958496.\n",
      "c:\\Users\\jerem\\miniconda3\\Lib\\site-packages\\keras\\src\\layers\\rnn\\rnn.py:199: UserWarning: Do not pass an `input_shape`/`input_dim` argument to a layer. When using Sequential models, prefer using an `Input(shape)` object as the first layer in the model instead.\n",
      "  super().__init__(**kwargs)\n"
     ]
    },
    {
     "name": "stdout",
     "output_type": "stream",
     "text": [
      "\u001b[1m4/4\u001b[0m \u001b[32m━━━━━━━━━━━━━━━━━━━━\u001b[0m\u001b[37m\u001b[0m \u001b[1m1s\u001b[0m 211ms/step\n"
     ]
    },
    {
     "name": "stderr",
     "output_type": "stream",
     "text": [
      "[I 2025-06-12 17:30:28,367] Trial 33 finished with value: 60.560302734375 and parameters: {'lstm_units': 64, 'lstm_layers': 2, 'dropout_rate': 0.30000000000000004, 'learning_rate': 0.00013523494185384722, 'batch_size': 32, 'dense_units': 32, 'window_size': 20}. Best is trial 13 with value: 19.87062644958496.\n",
      "c:\\Users\\jerem\\miniconda3\\Lib\\site-packages\\keras\\src\\layers\\rnn\\rnn.py:199: UserWarning: Do not pass an `input_shape`/`input_dim` argument to a layer. When using Sequential models, prefer using an `Input(shape)` object as the first layer in the model instead.\n",
      "  super().__init__(**kwargs)\n"
     ]
    },
    {
     "name": "stdout",
     "output_type": "stream",
     "text": [
      "\u001b[1m4/4\u001b[0m \u001b[32m━━━━━━━━━━━━━━━━━━━━\u001b[0m\u001b[37m\u001b[0m \u001b[1m1s\u001b[0m 155ms/step\n"
     ]
    },
    {
     "name": "stderr",
     "output_type": "stream",
     "text": [
      "[I 2025-06-12 17:30:51,363] Trial 34 finished with value: 54.781307220458984 and parameters: {'lstm_units': 96, 'lstm_layers': 2, 'dropout_rate': 0.4, 'learning_rate': 0.00010327723977197127, 'batch_size': 32, 'dense_units': 48, 'window_size': 10}. Best is trial 13 with value: 19.87062644958496.\n",
      "c:\\Users\\jerem\\miniconda3\\Lib\\site-packages\\keras\\src\\layers\\rnn\\rnn.py:199: UserWarning: Do not pass an `input_shape`/`input_dim` argument to a layer. When using Sequential models, prefer using an `Input(shape)` object as the first layer in the model instead.\n",
      "  super().__init__(**kwargs)\n"
     ]
    },
    {
     "name": "stdout",
     "output_type": "stream",
     "text": [
      "\u001b[1m4/4\u001b[0m \u001b[32m━━━━━━━━━━━━━━━━━━━━\u001b[0m\u001b[37m\u001b[0m \u001b[1m1s\u001b[0m 86ms/step\n"
     ]
    },
    {
     "name": "stderr",
     "output_type": "stream",
     "text": [
      "[I 2025-06-12 17:31:19,064] Trial 35 finished with value: 78.66519165039062 and parameters: {'lstm_units': 32, 'lstm_layers': 1, 'dropout_rate': 0.30000000000000004, 'learning_rate': 0.00021441218760858, 'batch_size': 32, 'dense_units': 64, 'window_size': 30}. Best is trial 13 with value: 19.87062644958496.\n",
      "c:\\Users\\jerem\\miniconda3\\Lib\\site-packages\\keras\\src\\layers\\rnn\\rnn.py:199: UserWarning: Do not pass an `input_shape`/`input_dim` argument to a layer. When using Sequential models, prefer using an `Input(shape)` object as the first layer in the model instead.\n",
      "  super().__init__(**kwargs)\n"
     ]
    },
    {
     "name": "stdout",
     "output_type": "stream",
     "text": [
      "\u001b[1m8/8\u001b[0m \u001b[32m━━━━━━━━━━━━━━━━━━━━\u001b[0m\u001b[37m\u001b[0m \u001b[1m1s\u001b[0m 69ms/step\n"
     ]
    },
    {
     "name": "stderr",
     "output_type": "stream",
     "text": [
      "[I 2025-06-12 17:31:47,844] Trial 36 finished with value: 78.60498809814453 and parameters: {'lstm_units': 64, 'lstm_layers': 2, 'dropout_rate': 0.5, 'learning_rate': 0.0001340942724593128, 'batch_size': 16, 'dense_units': 16, 'window_size': 20}. Best is trial 13 with value: 19.87062644958496.\n",
      "c:\\Users\\jerem\\miniconda3\\Lib\\site-packages\\keras\\src\\layers\\rnn\\rnn.py:199: UserWarning: Do not pass an `input_shape`/`input_dim` argument to a layer. When using Sequential models, prefer using an `Input(shape)` object as the first layer in the model instead.\n",
      "  super().__init__(**kwargs)\n"
     ]
    },
    {
     "name": "stdout",
     "output_type": "stream",
     "text": [
      "\u001b[1m4/4\u001b[0m \u001b[32m━━━━━━━━━━━━━━━━━━━━\u001b[0m\u001b[37m\u001b[0m \u001b[1m1s\u001b[0m 144ms/step\n"
     ]
    },
    {
     "name": "stderr",
     "output_type": "stream",
     "text": [
      "[I 2025-06-12 17:32:17,396] Trial 37 finished with value: 37.55374526977539 and parameters: {'lstm_units': 32, 'lstm_layers': 2, 'dropout_rate': 0.4, 'learning_rate': 0.00019660782343520545, 'batch_size': 32, 'dense_units': 80, 'window_size': 10}. Best is trial 13 with value: 19.87062644958496.\n",
      "c:\\Users\\jerem\\miniconda3\\Lib\\site-packages\\keras\\src\\layers\\rnn\\rnn.py:199: UserWarning: Do not pass an `input_shape`/`input_dim` argument to a layer. When using Sequential models, prefer using an `Input(shape)` object as the first layer in the model instead.\n",
      "  super().__init__(**kwargs)\n"
     ]
    },
    {
     "name": "stdout",
     "output_type": "stream",
     "text": [
      "\u001b[1m4/4\u001b[0m \u001b[32m━━━━━━━━━━━━━━━━━━━━\u001b[0m\u001b[37m\u001b[0m \u001b[1m1s\u001b[0m 106ms/step\n"
     ]
    },
    {
     "name": "stderr",
     "output_type": "stream",
     "text": [
      "[I 2025-06-12 17:32:29,749] Trial 38 finished with value: 53.49525833129883 and parameters: {'lstm_units': 96, 'lstm_layers': 1, 'dropout_rate': 0.30000000000000004, 'learning_rate': 0.00026103147285857153, 'batch_size': 32, 'dense_units': 48, 'window_size': 30}. Best is trial 13 with value: 19.87062644958496.\n",
      "c:\\Users\\jerem\\miniconda3\\Lib\\site-packages\\keras\\src\\layers\\rnn\\rnn.py:199: UserWarning: Do not pass an `input_shape`/`input_dim` argument to a layer. When using Sequential models, prefer using an `Input(shape)` object as the first layer in the model instead.\n",
      "  super().__init__(**kwargs)\n"
     ]
    },
    {
     "name": "stdout",
     "output_type": "stream",
     "text": [
      "\u001b[1m8/8\u001b[0m \u001b[32m━━━━━━━━━━━━━━━━━━━━\u001b[0m\u001b[37m\u001b[0m \u001b[1m1s\u001b[0m 73ms/step\n"
     ]
    },
    {
     "name": "stderr",
     "output_type": "stream",
     "text": [
      "[I 2025-06-12 17:33:10,019] Trial 39 finished with value: 61.81670379638672 and parameters: {'lstm_units': 64, 'lstm_layers': 2, 'dropout_rate': 0.1, 'learning_rate': 0.0017696223526636066, 'batch_size': 16, 'dense_units': 32, 'window_size': 40}. Best is trial 13 with value: 19.87062644958496.\n",
      "c:\\Users\\jerem\\miniconda3\\Lib\\site-packages\\keras\\src\\layers\\rnn\\rnn.py:199: UserWarning: Do not pass an `input_shape`/`input_dim` argument to a layer. When using Sequential models, prefer using an `Input(shape)` object as the first layer in the model instead.\n",
      "  super().__init__(**kwargs)\n"
     ]
    },
    {
     "name": "stdout",
     "output_type": "stream",
     "text": [
      "\u001b[1m4/4\u001b[0m \u001b[32m━━━━━━━━━━━━━━━━━━━━\u001b[0m\u001b[37m\u001b[0m \u001b[1m1s\u001b[0m 90ms/step\n"
     ]
    },
    {
     "name": "stderr",
     "output_type": "stream",
     "text": [
      "[I 2025-06-12 17:33:34,316] Trial 40 finished with value: 34.77009963989258 and parameters: {'lstm_units': 32, 'lstm_layers': 1, 'dropout_rate': 0.2, 'learning_rate': 0.0001346484984449374, 'batch_size': 32, 'dense_units': 112, 'window_size': 20}. Best is trial 13 with value: 19.87062644958496.\n",
      "c:\\Users\\jerem\\miniconda3\\Lib\\site-packages\\keras\\src\\layers\\rnn\\rnn.py:199: UserWarning: Do not pass an `input_shape`/`input_dim` argument to a layer. When using Sequential models, prefer using an `Input(shape)` object as the first layer in the model instead.\n",
      "  super().__init__(**kwargs)\n"
     ]
    },
    {
     "name": "stdout",
     "output_type": "stream",
     "text": [
      "\u001b[1m4/4\u001b[0m \u001b[32m━━━━━━━━━━━━━━━━━━━━\u001b[0m\u001b[37m\u001b[0m \u001b[1m1s\u001b[0m 265ms/step\n"
     ]
    },
    {
     "name": "stderr",
     "output_type": "stream",
     "text": [
      "[I 2025-06-12 17:35:00,929] Trial 41 finished with value: 24.061691284179688 and parameters: {'lstm_units': 64, 'lstm_layers': 2, 'dropout_rate': 0.30000000000000004, 'learning_rate': 0.00014794720050924863, 'batch_size': 32, 'dense_units': 80, 'window_size': 40}. Best is trial 13 with value: 19.87062644958496.\n",
      "c:\\Users\\jerem\\miniconda3\\Lib\\site-packages\\keras\\src\\layers\\rnn\\rnn.py:199: UserWarning: Do not pass an `input_shape`/`input_dim` argument to a layer. When using Sequential models, prefer using an `Input(shape)` object as the first layer in the model instead.\n",
      "  super().__init__(**kwargs)\n"
     ]
    },
    {
     "name": "stdout",
     "output_type": "stream",
     "text": [
      "\u001b[1m4/4\u001b[0m \u001b[32m━━━━━━━━━━━━━━━━━━━━\u001b[0m\u001b[37m\u001b[0m \u001b[1m1s\u001b[0m 172ms/step\n"
     ]
    },
    {
     "name": "stderr",
     "output_type": "stream",
     "text": [
      "[I 2025-06-12 17:36:40,904] Trial 42 finished with value: 43.49434280395508 and parameters: {'lstm_units': 64, 'lstm_layers': 2, 'dropout_rate': 0.30000000000000004, 'learning_rate': 0.0001002115549872033, 'batch_size': 32, 'dense_units': 64, 'window_size': 50}. Best is trial 13 with value: 19.87062644958496.\n",
      "c:\\Users\\jerem\\miniconda3\\Lib\\site-packages\\keras\\src\\layers\\rnn\\rnn.py:199: UserWarning: Do not pass an `input_shape`/`input_dim` argument to a layer. When using Sequential models, prefer using an `Input(shape)` object as the first layer in the model instead.\n",
      "  super().__init__(**kwargs)\n"
     ]
    },
    {
     "name": "stdout",
     "output_type": "stream",
     "text": [
      "\u001b[1m4/4\u001b[0m \u001b[32m━━━━━━━━━━━━━━━━━━━━\u001b[0m\u001b[37m\u001b[0m \u001b[1m1s\u001b[0m 147ms/step\n"
     ]
    },
    {
     "name": "stderr",
     "output_type": "stream",
     "text": [
      "[I 2025-06-12 17:37:52,303] Trial 43 finished with value: 36.37062072753906 and parameters: {'lstm_units': 64, 'lstm_layers': 2, 'dropout_rate': 0.30000000000000004, 'learning_rate': 0.000151560800334636, 'batch_size': 32, 'dense_units': 80, 'window_size': 40}. Best is trial 13 with value: 19.87062644958496.\n",
      "c:\\Users\\jerem\\miniconda3\\Lib\\site-packages\\keras\\src\\layers\\rnn\\rnn.py:199: UserWarning: Do not pass an `input_shape`/`input_dim` argument to a layer. When using Sequential models, prefer using an `Input(shape)` object as the first layer in the model instead.\n",
      "  super().__init__(**kwargs)\n"
     ]
    },
    {
     "name": "stdout",
     "output_type": "stream",
     "text": [
      "\u001b[1m4/4\u001b[0m \u001b[32m━━━━━━━━━━━━━━━━━━━━\u001b[0m\u001b[37m\u001b[0m \u001b[1m1s\u001b[0m 224ms/step\n"
     ]
    },
    {
     "name": "stderr",
     "output_type": "stream",
     "text": [
      "[I 2025-06-12 17:39:05,790] Trial 44 finished with value: 37.5734748840332 and parameters: {'lstm_units': 64, 'lstm_layers': 2, 'dropout_rate': 0.4, 'learning_rate': 0.00041737846949755215, 'batch_size': 32, 'dense_units': 80, 'window_size': 60}. Best is trial 13 with value: 19.87062644958496.\n",
      "c:\\Users\\jerem\\miniconda3\\Lib\\site-packages\\keras\\src\\layers\\rnn\\rnn.py:199: UserWarning: Do not pass an `input_shape`/`input_dim` argument to a layer. When using Sequential models, prefer using an `Input(shape)` object as the first layer in the model instead.\n",
      "  super().__init__(**kwargs)\n"
     ]
    },
    {
     "name": "stdout",
     "output_type": "stream",
     "text": [
      "\u001b[1m4/4\u001b[0m \u001b[32m━━━━━━━━━━━━━━━━━━━━\u001b[0m\u001b[37m\u001b[0m \u001b[1m1s\u001b[0m 154ms/step\n"
     ]
    },
    {
     "name": "stderr",
     "output_type": "stream",
     "text": [
      "[I 2025-06-12 17:39:52,640] Trial 45 finished with value: 42.589752197265625 and parameters: {'lstm_units': 96, 'lstm_layers': 2, 'dropout_rate': 0.2, 'learning_rate': 0.0002531251944455854, 'batch_size': 32, 'dense_units': 64, 'window_size': 30}. Best is trial 13 with value: 19.87062644958496.\n",
      "c:\\Users\\jerem\\miniconda3\\Lib\\site-packages\\keras\\src\\layers\\rnn\\rnn.py:199: UserWarning: Do not pass an `input_shape`/`input_dim` argument to a layer. When using Sequential models, prefer using an `Input(shape)` object as the first layer in the model instead.\n",
      "  super().__init__(**kwargs)\n"
     ]
    },
    {
     "name": "stdout",
     "output_type": "stream",
     "text": [
      "\u001b[1m4/4\u001b[0m \u001b[32m━━━━━━━━━━━━━━━━━━━━\u001b[0m\u001b[37m\u001b[0m \u001b[1m1s\u001b[0m 150ms/step\n"
     ]
    },
    {
     "name": "stderr",
     "output_type": "stream",
     "text": [
      "[I 2025-06-12 17:40:48,537] Trial 46 finished with value: 45.361026763916016 and parameters: {'lstm_units': 64, 'lstm_layers': 2, 'dropout_rate': 0.0, 'learning_rate': 0.00012908128543665561, 'batch_size': 32, 'dense_units': 48, 'window_size': 30}. Best is trial 13 with value: 19.87062644958496.\n",
      "c:\\Users\\jerem\\miniconda3\\Lib\\site-packages\\keras\\src\\layers\\rnn\\rnn.py:199: UserWarning: Do not pass an `input_shape`/`input_dim` argument to a layer. When using Sequential models, prefer using an `Input(shape)` object as the first layer in the model instead.\n",
      "  super().__init__(**kwargs)\n"
     ]
    },
    {
     "name": "stdout",
     "output_type": "stream",
     "text": [
      "\u001b[1m8/8\u001b[0m \u001b[32m━━━━━━━━━━━━━━━━━━━━\u001b[0m\u001b[37m\u001b[0m \u001b[1m1s\u001b[0m 86ms/step\n"
     ]
    },
    {
     "name": "stderr",
     "output_type": "stream",
     "text": [
      "[I 2025-06-12 17:42:16,588] Trial 47 finished with value: 91.50214385986328 and parameters: {'lstm_units': 128, 'lstm_layers': 2, 'dropout_rate': 0.30000000000000004, 'learning_rate': 0.00019118384779127326, 'batch_size': 16, 'dense_units': 64, 'window_size': 50}. Best is trial 13 with value: 19.87062644958496.\n",
      "c:\\Users\\jerem\\miniconda3\\Lib\\site-packages\\keras\\src\\layers\\rnn\\rnn.py:199: UserWarning: Do not pass an `input_shape`/`input_dim` argument to a layer. When using Sequential models, prefer using an `Input(shape)` object as the first layer in the model instead.\n",
      "  super().__init__(**kwargs)\n"
     ]
    },
    {
     "name": "stdout",
     "output_type": "stream",
     "text": [
      "\u001b[1m4/4\u001b[0m \u001b[32m━━━━━━━━━━━━━━━━━━━━\u001b[0m\u001b[37m\u001b[0m \u001b[1m1s\u001b[0m 201ms/step\n"
     ]
    },
    {
     "name": "stderr",
     "output_type": "stream",
     "text": [
      "[I 2025-06-12 17:43:28,924] Trial 48 finished with value: 20.47556495666504 and parameters: {'lstm_units': 32, 'lstm_layers': 2, 'dropout_rate': 0.5, 'learning_rate': 0.00015709535847171385, 'batch_size': 32, 'dense_units': 112, 'window_size': 40}. Best is trial 13 with value: 19.87062644958496.\n",
      "c:\\Users\\jerem\\miniconda3\\Lib\\site-packages\\keras\\src\\layers\\rnn\\rnn.py:199: UserWarning: Do not pass an `input_shape`/`input_dim` argument to a layer. When using Sequential models, prefer using an `Input(shape)` object as the first layer in the model instead.\n",
      "  super().__init__(**kwargs)\n"
     ]
    },
    {
     "name": "stdout",
     "output_type": "stream",
     "text": [
      "\u001b[1m4/4\u001b[0m \u001b[32m━━━━━━━━━━━━━━━━━━━━\u001b[0m\u001b[37m\u001b[0m \u001b[1m1s\u001b[0m 159ms/step\n"
     ]
    },
    {
     "name": "stderr",
     "output_type": "stream",
     "text": [
      "[I 2025-06-12 17:44:29,819] Trial 49 finished with value: 39.51338195800781 and parameters: {'lstm_units': 32, 'lstm_layers': 2, 'dropout_rate': 0.5, 'learning_rate': 0.0003291143041975085, 'batch_size': 32, 'dense_units': 112, 'window_size': 40}. Best is trial 13 with value: 19.87062644958496.\n",
      "c:\\Users\\jerem\\miniconda3\\Lib\\site-packages\\keras\\src\\layers\\rnn\\rnn.py:199: UserWarning: Do not pass an `input_shape`/`input_dim` argument to a layer. When using Sequential models, prefer using an `Input(shape)` object as the first layer in the model instead.\n",
      "  super().__init__(**kwargs)\n"
     ]
    },
    {
     "name": "stdout",
     "output_type": "stream",
     "text": [
      "\u001b[1m4/4\u001b[0m \u001b[32m━━━━━━━━━━━━━━━━━━━━\u001b[0m\u001b[37m\u001b[0m \u001b[1m1s\u001b[0m 167ms/step\n"
     ]
    },
    {
     "name": "stderr",
     "output_type": "stream",
     "text": [
      "[I 2025-06-12 17:44:48,824] Trial 50 finished with value: 57.15208053588867 and parameters: {'lstm_units': 32, 'lstm_layers': 2, 'dropout_rate': 0.0, 'learning_rate': 0.003313974967490653, 'batch_size': 32, 'dense_units': 128, 'window_size': 40}. Best is trial 13 with value: 19.87062644958496.\n",
      "c:\\Users\\jerem\\miniconda3\\Lib\\site-packages\\keras\\src\\layers\\rnn\\rnn.py:199: UserWarning: Do not pass an `input_shape`/`input_dim` argument to a layer. When using Sequential models, prefer using an `Input(shape)` object as the first layer in the model instead.\n",
      "  super().__init__(**kwargs)\n"
     ]
    },
    {
     "name": "stdout",
     "output_type": "stream",
     "text": [
      "\u001b[1m4/4\u001b[0m \u001b[32m━━━━━━━━━━━━━━━━━━━━\u001b[0m\u001b[37m\u001b[0m \u001b[1m1s\u001b[0m 170ms/step\n"
     ]
    },
    {
     "name": "stderr",
     "output_type": "stream",
     "text": [
      "[I 2025-06-12 17:45:50,336] Trial 51 finished with value: 37.409339904785156 and parameters: {'lstm_units': 32, 'lstm_layers': 2, 'dropout_rate': 0.5, 'learning_rate': 0.0001683263805802038, 'batch_size': 32, 'dense_units': 128, 'window_size': 40}. Best is trial 13 with value: 19.87062644958496.\n",
      "c:\\Users\\jerem\\miniconda3\\Lib\\site-packages\\keras\\src\\layers\\rnn\\rnn.py:199: UserWarning: Do not pass an `input_shape`/`input_dim` argument to a layer. When using Sequential models, prefer using an `Input(shape)` object as the first layer in the model instead.\n",
      "  super().__init__(**kwargs)\n"
     ]
    },
    {
     "name": "stdout",
     "output_type": "stream",
     "text": [
      "\u001b[1m4/4\u001b[0m \u001b[32m━━━━━━━━━━━━━━━━━━━━\u001b[0m\u001b[37m\u001b[0m \u001b[1m1s\u001b[0m 222ms/step\n"
     ]
    },
    {
     "name": "stderr",
     "output_type": "stream",
     "text": [
      "[I 2025-06-12 17:47:22,671] Trial 52 finished with value: 15.239058494567871 and parameters: {'lstm_units': 32, 'lstm_layers': 2, 'dropout_rate': 0.5, 'learning_rate': 0.00012174501372976443, 'batch_size': 32, 'dense_units': 96, 'window_size': 50}. Best is trial 52 with value: 15.239058494567871.\n",
      "c:\\Users\\jerem\\miniconda3\\Lib\\site-packages\\keras\\src\\layers\\rnn\\rnn.py:199: UserWarning: Do not pass an `input_shape`/`input_dim` argument to a layer. When using Sequential models, prefer using an `Input(shape)` object as the first layer in the model instead.\n",
      "  super().__init__(**kwargs)\n"
     ]
    },
    {
     "name": "stdout",
     "output_type": "stream",
     "text": [
      "\u001b[1m4/4\u001b[0m \u001b[32m━━━━━━━━━━━━━━━━━━━━\u001b[0m\u001b[37m\u001b[0m \u001b[1m1s\u001b[0m 164ms/step\n"
     ]
    },
    {
     "name": "stderr",
     "output_type": "stream",
     "text": [
      "[I 2025-06-12 17:48:35,889] Trial 53 finished with value: 13.801224708557129 and parameters: {'lstm_units': 32, 'lstm_layers': 2, 'dropout_rate': 0.5, 'learning_rate': 0.00012174421589632772, 'batch_size': 32, 'dense_units': 112, 'window_size': 50}. Best is trial 53 with value: 13.801224708557129.\n",
      "c:\\Users\\jerem\\miniconda3\\Lib\\site-packages\\keras\\src\\layers\\rnn\\rnn.py:199: UserWarning: Do not pass an `input_shape`/`input_dim` argument to a layer. When using Sequential models, prefer using an `Input(shape)` object as the first layer in the model instead.\n",
      "  super().__init__(**kwargs)\n"
     ]
    },
    {
     "name": "stdout",
     "output_type": "stream",
     "text": [
      "\u001b[1m4/4\u001b[0m \u001b[32m━━━━━━━━━━━━━━━━━━━━\u001b[0m\u001b[37m\u001b[0m \u001b[1m1s\u001b[0m 167ms/step\n"
     ]
    },
    {
     "name": "stderr",
     "output_type": "stream",
     "text": [
      "[I 2025-06-12 17:49:53,206] Trial 54 finished with value: 65.15152740478516 and parameters: {'lstm_units': 32, 'lstm_layers': 2, 'dropout_rate': 0.5, 'learning_rate': 0.00012466207168709625, 'batch_size': 32, 'dense_units': 112, 'window_size': 50}. Best is trial 53 with value: 13.801224708557129.\n",
      "c:\\Users\\jerem\\miniconda3\\Lib\\site-packages\\keras\\src\\layers\\rnn\\rnn.py:199: UserWarning: Do not pass an `input_shape`/`input_dim` argument to a layer. When using Sequential models, prefer using an `Input(shape)` object as the first layer in the model instead.\n",
      "  super().__init__(**kwargs)\n"
     ]
    },
    {
     "name": "stdout",
     "output_type": "stream",
     "text": [
      "\u001b[1m4/4\u001b[0m \u001b[32m━━━━━━━━━━━━━━━━━━━━\u001b[0m\u001b[37m\u001b[0m \u001b[1m1s\u001b[0m 205ms/step\n"
     ]
    },
    {
     "name": "stderr",
     "output_type": "stream",
     "text": [
      "[I 2025-06-12 17:51:33,936] Trial 55 finished with value: 103.86814880371094 and parameters: {'lstm_units': 32, 'lstm_layers': 2, 'dropout_rate': 0.5, 'learning_rate': 0.0001796536567215661, 'batch_size': 32, 'dense_units': 112, 'window_size': 60}. Best is trial 53 with value: 13.801224708557129.\n",
      "c:\\Users\\jerem\\miniconda3\\Lib\\site-packages\\keras\\src\\layers\\rnn\\rnn.py:199: UserWarning: Do not pass an `input_shape`/`input_dim` argument to a layer. When using Sequential models, prefer using an `Input(shape)` object as the first layer in the model instead.\n",
      "  super().__init__(**kwargs)\n"
     ]
    },
    {
     "name": "stdout",
     "output_type": "stream",
     "text": [
      "\u001b[1m4/4\u001b[0m \u001b[32m━━━━━━━━━━━━━━━━━━━━\u001b[0m\u001b[37m\u001b[0m \u001b[1m1s\u001b[0m 211ms/step\n"
     ]
    },
    {
     "name": "stderr",
     "output_type": "stream",
     "text": [
      "[I 2025-06-12 17:52:43,815] Trial 56 finished with value: 14.47416877746582 and parameters: {'lstm_units': 32, 'lstm_layers': 2, 'dropout_rate': 0.5, 'learning_rate': 0.00011599021695205843, 'batch_size': 32, 'dense_units': 96, 'window_size': 50}. Best is trial 53 with value: 13.801224708557129.\n",
      "c:\\Users\\jerem\\miniconda3\\Lib\\site-packages\\keras\\src\\layers\\rnn\\rnn.py:199: UserWarning: Do not pass an `input_shape`/`input_dim` argument to a layer. When using Sequential models, prefer using an `Input(shape)` object as the first layer in the model instead.\n",
      "  super().__init__(**kwargs)\n"
     ]
    },
    {
     "name": "stdout",
     "output_type": "stream",
     "text": [
      "\u001b[1m4/4\u001b[0m \u001b[32m━━━━━━━━━━━━━━━━━━━━\u001b[0m\u001b[37m\u001b[0m \u001b[1m1s\u001b[0m 167ms/step\n"
     ]
    },
    {
     "name": "stderr",
     "output_type": "stream",
     "text": [
      "[I 2025-06-12 17:53:59,459] Trial 57 finished with value: 30.360279083251953 and parameters: {'lstm_units': 32, 'lstm_layers': 2, 'dropout_rate': 0.5, 'learning_rate': 0.000119757546880072, 'batch_size': 32, 'dense_units': 96, 'window_size': 50}. Best is trial 53 with value: 13.801224708557129.\n",
      "c:\\Users\\jerem\\miniconda3\\Lib\\site-packages\\keras\\src\\layers\\rnn\\rnn.py:199: UserWarning: Do not pass an `input_shape`/`input_dim` argument to a layer. When using Sequential models, prefer using an `Input(shape)` object as the first layer in the model instead.\n",
      "  super().__init__(**kwargs)\n"
     ]
    },
    {
     "name": "stdout",
     "output_type": "stream",
     "text": [
      "\u001b[1m4/4\u001b[0m \u001b[32m━━━━━━━━━━━━━━━━━━━━\u001b[0m\u001b[37m\u001b[0m \u001b[1m1s\u001b[0m 228ms/step\n"
     ]
    },
    {
     "name": "stderr",
     "output_type": "stream",
     "text": [
      "[I 2025-06-12 17:55:36,798] Trial 58 finished with value: 11.128338813781738 and parameters: {'lstm_units': 32, 'lstm_layers': 2, 'dropout_rate': 0.5, 'learning_rate': 0.00010321442277677961, 'batch_size': 32, 'dense_units': 96, 'window_size': 60}. Best is trial 58 with value: 11.128338813781738.\n",
      "c:\\Users\\jerem\\miniconda3\\Lib\\site-packages\\keras\\src\\layers\\rnn\\rnn.py:199: UserWarning: Do not pass an `input_shape`/`input_dim` argument to a layer. When using Sequential models, prefer using an `Input(shape)` object as the first layer in the model instead.\n",
      "  super().__init__(**kwargs)\n"
     ]
    },
    {
     "name": "stdout",
     "output_type": "stream",
     "text": [
      "\u001b[1m4/4\u001b[0m \u001b[32m━━━━━━━━━━━━━━━━━━━━\u001b[0m\u001b[37m\u001b[0m \u001b[1m1s\u001b[0m 148ms/step\n"
     ]
    },
    {
     "name": "stderr",
     "output_type": "stream",
     "text": [
      "[I 2025-06-12 17:56:55,796] Trial 59 finished with value: 12.355064392089844 and parameters: {'lstm_units': 32, 'lstm_layers': 2, 'dropout_rate': 0.5, 'learning_rate': 0.00010059401473597213, 'batch_size': 32, 'dense_units': 96, 'window_size': 60}. Best is trial 58 with value: 11.128338813781738.\n",
      "c:\\Users\\jerem\\miniconda3\\Lib\\site-packages\\keras\\src\\layers\\rnn\\rnn.py:199: UserWarning: Do not pass an `input_shape`/`input_dim` argument to a layer. When using Sequential models, prefer using an `Input(shape)` object as the first layer in the model instead.\n",
      "  super().__init__(**kwargs)\n"
     ]
    },
    {
     "name": "stdout",
     "output_type": "stream",
     "text": [
      "\u001b[1m8/8\u001b[0m \u001b[32m━━━━━━━━━━━━━━━━━━━━\u001b[0m\u001b[37m\u001b[0m \u001b[1m1s\u001b[0m 96ms/step\n"
     ]
    },
    {
     "name": "stderr",
     "output_type": "stream",
     "text": [
      "[I 2025-06-12 17:59:17,279] Trial 60 finished with value: 53.86967468261719 and parameters: {'lstm_units': 32, 'lstm_layers': 2, 'dropout_rate': 0.5, 'learning_rate': 0.00010075572827617187, 'batch_size': 16, 'dense_units': 96, 'window_size': 60}. Best is trial 58 with value: 11.128338813781738.\n",
      "c:\\Users\\jerem\\miniconda3\\Lib\\site-packages\\keras\\src\\layers\\rnn\\rnn.py:199: UserWarning: Do not pass an `input_shape`/`input_dim` argument to a layer. When using Sequential models, prefer using an `Input(shape)` object as the first layer in the model instead.\n",
      "  super().__init__(**kwargs)\n"
     ]
    },
    {
     "name": "stdout",
     "output_type": "stream",
     "text": [
      "\u001b[1m4/4\u001b[0m \u001b[32m━━━━━━━━━━━━━━━━━━━━\u001b[0m\u001b[37m\u001b[0m \u001b[1m1s\u001b[0m 173ms/step\n"
     ]
    },
    {
     "name": "stderr",
     "output_type": "stream",
     "text": [
      "[I 2025-06-12 18:00:40,713] Trial 61 finished with value: 57.869815826416016 and parameters: {'lstm_units': 32, 'lstm_layers': 2, 'dropout_rate': 0.5, 'learning_rate': 0.00011963698720139695, 'batch_size': 32, 'dense_units': 96, 'window_size': 60}. Best is trial 58 with value: 11.128338813781738.\n",
      "c:\\Users\\jerem\\miniconda3\\Lib\\site-packages\\keras\\src\\layers\\rnn\\rnn.py:199: UserWarning: Do not pass an `input_shape`/`input_dim` argument to a layer. When using Sequential models, prefer using an `Input(shape)` object as the first layer in the model instead.\n",
      "  super().__init__(**kwargs)\n"
     ]
    },
    {
     "name": "stdout",
     "output_type": "stream",
     "text": [
      "\u001b[1m4/4\u001b[0m \u001b[32m━━━━━━━━━━━━━━━━━━━━\u001b[0m\u001b[37m\u001b[0m \u001b[1m1s\u001b[0m 161ms/step\n"
     ]
    },
    {
     "name": "stderr",
     "output_type": "stream",
     "text": [
      "[I 2025-06-12 18:02:06,298] Trial 62 finished with value: 103.51250457763672 and parameters: {'lstm_units': 32, 'lstm_layers': 2, 'dropout_rate': 0.5, 'learning_rate': 0.00011681250105353134, 'batch_size': 32, 'dense_units': 96, 'window_size': 60}. Best is trial 58 with value: 11.128338813781738.\n",
      "c:\\Users\\jerem\\miniconda3\\Lib\\site-packages\\keras\\src\\layers\\rnn\\rnn.py:199: UserWarning: Do not pass an `input_shape`/`input_dim` argument to a layer. When using Sequential models, prefer using an `Input(shape)` object as the first layer in the model instead.\n",
      "  super().__init__(**kwargs)\n"
     ]
    },
    {
     "name": "stdout",
     "output_type": "stream",
     "text": [
      "\u001b[1m4/4\u001b[0m \u001b[32m━━━━━━━━━━━━━━━━━━━━\u001b[0m\u001b[37m\u001b[0m \u001b[1m1s\u001b[0m 179ms/step\n"
     ]
    },
    {
     "name": "stderr",
     "output_type": "stream",
     "text": [
      "[I 2025-06-12 18:03:32,442] Trial 63 finished with value: 41.73861312866211 and parameters: {'lstm_units': 32, 'lstm_layers': 2, 'dropout_rate': 0.5, 'learning_rate': 0.00015626740420550395, 'batch_size': 32, 'dense_units': 96, 'window_size': 50}. Best is trial 58 with value: 11.128338813781738.\n",
      "c:\\Users\\jerem\\miniconda3\\Lib\\site-packages\\keras\\src\\layers\\rnn\\rnn.py:199: UserWarning: Do not pass an `input_shape`/`input_dim` argument to a layer. When using Sequential models, prefer using an `Input(shape)` object as the first layer in the model instead.\n",
      "  super().__init__(**kwargs)\n"
     ]
    },
    {
     "name": "stdout",
     "output_type": "stream",
     "text": [
      "\u001b[1m4/4\u001b[0m \u001b[32m━━━━━━━━━━━━━━━━━━━━\u001b[0m\u001b[37m\u001b[0m \u001b[1m1s\u001b[0m 149ms/step\n"
     ]
    },
    {
     "name": "stderr",
     "output_type": "stream",
     "text": [
      "[I 2025-06-12 18:04:51,155] Trial 64 finished with value: 8.993456840515137 and parameters: {'lstm_units': 32, 'lstm_layers': 2, 'dropout_rate': 0.5, 'learning_rate': 0.00010050620986906256, 'batch_size': 32, 'dense_units': 112, 'window_size': 60}. Best is trial 64 with value: 8.993456840515137.\n",
      "c:\\Users\\jerem\\miniconda3\\Lib\\site-packages\\keras\\src\\layers\\rnn\\rnn.py:199: UserWarning: Do not pass an `input_shape`/`input_dim` argument to a layer. When using Sequential models, prefer using an `Input(shape)` object as the first layer in the model instead.\n",
      "  super().__init__(**kwargs)\n"
     ]
    },
    {
     "name": "stdout",
     "output_type": "stream",
     "text": [
      "\u001b[1m4/4\u001b[0m \u001b[32m━━━━━━━━━━━━━━━━━━━━\u001b[0m\u001b[37m\u001b[0m \u001b[1m1s\u001b[0m 160ms/step\n"
     ]
    },
    {
     "name": "stderr",
     "output_type": "stream",
     "text": [
      "[I 2025-06-12 18:06:07,074] Trial 65 finished with value: 9.036303520202637 and parameters: {'lstm_units': 32, 'lstm_layers': 2, 'dropout_rate': 0.5, 'learning_rate': 0.00011008973566207113, 'batch_size': 32, 'dense_units': 112, 'window_size': 60}. Best is trial 64 with value: 8.993456840515137.\n",
      "c:\\Users\\jerem\\miniconda3\\Lib\\site-packages\\keras\\src\\layers\\rnn\\rnn.py:199: UserWarning: Do not pass an `input_shape`/`input_dim` argument to a layer. When using Sequential models, prefer using an `Input(shape)` object as the first layer in the model instead.\n",
      "  super().__init__(**kwargs)\n"
     ]
    },
    {
     "name": "stdout",
     "output_type": "stream",
     "text": [
      "\u001b[1m4/4\u001b[0m \u001b[32m━━━━━━━━━━━━━━━━━━━━\u001b[0m\u001b[37m\u001b[0m \u001b[1m1s\u001b[0m 211ms/step\n"
     ]
    },
    {
     "name": "stderr",
     "output_type": "stream",
     "text": [
      "[I 2025-06-12 18:07:42,576] Trial 66 finished with value: 10.107307434082031 and parameters: {'lstm_units': 32, 'lstm_layers': 2, 'dropout_rate': 0.5, 'learning_rate': 0.00011929167991502242, 'batch_size': 32, 'dense_units': 112, 'window_size': 60}. Best is trial 64 with value: 8.993456840515137.\n",
      "c:\\Users\\jerem\\miniconda3\\Lib\\site-packages\\keras\\src\\layers\\rnn\\rnn.py:199: UserWarning: Do not pass an `input_shape`/`input_dim` argument to a layer. When using Sequential models, prefer using an `Input(shape)` object as the first layer in the model instead.\n",
      "  super().__init__(**kwargs)\n"
     ]
    },
    {
     "name": "stdout",
     "output_type": "stream",
     "text": [
      "\u001b[1m4/4\u001b[0m \u001b[32m━━━━━━━━━━━━━━━━━━━━\u001b[0m\u001b[37m\u001b[0m \u001b[1m1s\u001b[0m 172ms/step\n"
     ]
    },
    {
     "name": "stderr",
     "output_type": "stream",
     "text": [
      "[I 2025-06-12 18:09:04,348] Trial 67 finished with value: 21.838985443115234 and parameters: {'lstm_units': 32, 'lstm_layers': 2, 'dropout_rate': 0.5, 'learning_rate': 0.00023399152730755942, 'batch_size': 32, 'dense_units': 128, 'window_size': 60}. Best is trial 64 with value: 8.993456840515137.\n",
      "c:\\Users\\jerem\\miniconda3\\Lib\\site-packages\\keras\\src\\layers\\rnn\\rnn.py:199: UserWarning: Do not pass an `input_shape`/`input_dim` argument to a layer. When using Sequential models, prefer using an `Input(shape)` object as the first layer in the model instead.\n",
      "  super().__init__(**kwargs)\n"
     ]
    },
    {
     "name": "stdout",
     "output_type": "stream",
     "text": [
      "\u001b[1m4/4\u001b[0m \u001b[32m━━━━━━━━━━━━━━━━━━━━\u001b[0m\u001b[37m\u001b[0m \u001b[1m1s\u001b[0m 172ms/step\n"
     ]
    },
    {
     "name": "stderr",
     "output_type": "stream",
     "text": [
      "[I 2025-06-12 18:09:40,903] Trial 68 finished with value: 40.851341247558594 and parameters: {'lstm_units': 32, 'lstm_layers': 2, 'dropout_rate': 0.5, 'learning_rate': 0.008151117435777802, 'batch_size': 32, 'dense_units': 112, 'window_size': 60}. Best is trial 64 with value: 8.993456840515137.\n",
      "c:\\Users\\jerem\\miniconda3\\Lib\\site-packages\\keras\\src\\layers\\rnn\\rnn.py:199: UserWarning: Do not pass an `input_shape`/`input_dim` argument to a layer. When using Sequential models, prefer using an `Input(shape)` object as the first layer in the model instead.\n",
      "  super().__init__(**kwargs)\n"
     ]
    },
    {
     "name": "stdout",
     "output_type": "stream",
     "text": [
      "\u001b[1m4/4\u001b[0m \u001b[32m━━━━━━━━━━━━━━━━━━━━\u001b[0m\u001b[37m\u001b[0m \u001b[1m1s\u001b[0m 228ms/step\n"
     ]
    },
    {
     "name": "stderr",
     "output_type": "stream",
     "text": [
      "[I 2025-06-12 18:11:24,810] Trial 69 finished with value: 11.439696311950684 and parameters: {'lstm_units': 32, 'lstm_layers': 2, 'dropout_rate': 0.5, 'learning_rate': 0.00010211833049645646, 'batch_size': 32, 'dense_units': 112, 'window_size': 60}. Best is trial 64 with value: 8.993456840515137.\n",
      "[I 2025-06-12 18:11:24,871] A new study created in memory with name: lstm_regression_study\n"
     ]
    },
    {
     "name": "stdout",
     "output_type": "stream",
     "text": [
      "Running LSTM study for bin 5, stock 11...\n"
     ]
    },
    {
     "name": "stderr",
     "output_type": "stream",
     "text": [
      "c:\\Users\\jerem\\miniconda3\\Lib\\site-packages\\keras\\src\\layers\\rnn\\rnn.py:199: UserWarning: Do not pass an `input_shape`/`input_dim` argument to a layer. When using Sequential models, prefer using an `Input(shape)` object as the first layer in the model instead.\n",
      "  super().__init__(**kwargs)\n"
     ]
    },
    {
     "name": "stdout",
     "output_type": "stream",
     "text": [
      "\u001b[1m4/4\u001b[0m \u001b[32m━━━━━━━━━━━━━━━━━━━━\u001b[0m\u001b[37m\u001b[0m \u001b[1m1s\u001b[0m 183ms/step\n"
     ]
    },
    {
     "name": "stderr",
     "output_type": "stream",
     "text": [
      "[I 2025-06-12 18:12:33,745] Trial 0 finished with value: 80.37068939208984 and parameters: {'lstm_units': 64, 'lstm_layers': 2, 'dropout_rate': 0.1, 'learning_rate': 0.00013662678572182562, 'batch_size': 32, 'dense_units': 64, 'window_size': 30}. Best is trial 0 with value: 80.37068939208984.\n",
      "c:\\Users\\jerem\\miniconda3\\Lib\\site-packages\\keras\\src\\layers\\rnn\\rnn.py:199: UserWarning: Do not pass an `input_shape`/`input_dim` argument to a layer. When using Sequential models, prefer using an `Input(shape)` object as the first layer in the model instead.\n",
      "  super().__init__(**kwargs)\n"
     ]
    },
    {
     "name": "stdout",
     "output_type": "stream",
     "text": [
      "\u001b[1m8/8\u001b[0m \u001b[32m━━━━━━━━━━━━━━━━━━━━\u001b[0m\u001b[37m\u001b[0m \u001b[1m1s\u001b[0m 67ms/step\n"
     ]
    },
    {
     "name": "stderr",
     "output_type": "stream",
     "text": [
      "[I 2025-06-12 18:13:18,705] Trial 1 finished with value: 59.58332443237305 and parameters: {'lstm_units': 32, 'lstm_layers': 2, 'dropout_rate': 0.30000000000000004, 'learning_rate': 0.0004936370140885889, 'batch_size': 16, 'dense_units': 128, 'window_size': 10}. Best is trial 1 with value: 59.58332443237305.\n",
      "c:\\Users\\jerem\\miniconda3\\Lib\\site-packages\\keras\\src\\layers\\rnn\\rnn.py:199: UserWarning: Do not pass an `input_shape`/`input_dim` argument to a layer. When using Sequential models, prefer using an `Input(shape)` object as the first layer in the model instead.\n",
      "  super().__init__(**kwargs)\n"
     ]
    },
    {
     "name": "stdout",
     "output_type": "stream",
     "text": [
      "\u001b[1m8/8\u001b[0m \u001b[32m━━━━━━━━━━━━━━━━━━━━\u001b[0m\u001b[37m\u001b[0m \u001b[1m1s\u001b[0m 64ms/step\n"
     ]
    },
    {
     "name": "stderr",
     "output_type": "stream",
     "text": [
      "[I 2025-06-12 18:14:14,410] Trial 2 finished with value: 20.33148193359375 and parameters: {'lstm_units': 96, 'lstm_layers': 2, 'dropout_rate': 0.2, 'learning_rate': 0.001170230695874911, 'batch_size': 16, 'dense_units': 112, 'window_size': 10}. Best is trial 2 with value: 20.33148193359375.\n",
      "c:\\Users\\jerem\\miniconda3\\Lib\\site-packages\\keras\\src\\layers\\rnn\\rnn.py:199: UserWarning: Do not pass an `input_shape`/`input_dim` argument to a layer. When using Sequential models, prefer using an `Input(shape)` object as the first layer in the model instead.\n",
      "  super().__init__(**kwargs)\n"
     ]
    },
    {
     "name": "stdout",
     "output_type": "stream",
     "text": [
      "\u001b[1m4/4\u001b[0m \u001b[32m━━━━━━━━━━━━━━━━━━━━\u001b[0m\u001b[37m\u001b[0m \u001b[1m1s\u001b[0m 217ms/step\n"
     ]
    },
    {
     "name": "stderr",
     "output_type": "stream",
     "text": [
      "[I 2025-06-12 18:14:43,782] Trial 3 finished with value: 33.757606506347656 and parameters: {'lstm_units': 128, 'lstm_layers': 2, 'dropout_rate': 0.4, 'learning_rate': 0.005311245520137689, 'batch_size': 32, 'dense_units': 48, 'window_size': 20}. Best is trial 2 with value: 20.33148193359375.\n",
      "c:\\Users\\jerem\\miniconda3\\Lib\\site-packages\\keras\\src\\layers\\rnn\\rnn.py:199: UserWarning: Do not pass an `input_shape`/`input_dim` argument to a layer. When using Sequential models, prefer using an `Input(shape)` object as the first layer in the model instead.\n",
      "  super().__init__(**kwargs)\n"
     ]
    },
    {
     "name": "stdout",
     "output_type": "stream",
     "text": [
      "\u001b[1m4/4\u001b[0m \u001b[32m━━━━━━━━━━━━━━━━━━━━\u001b[0m\u001b[37m\u001b[0m \u001b[1m1s\u001b[0m 152ms/step\n"
     ]
    },
    {
     "name": "stderr",
     "output_type": "stream",
     "text": [
      "[I 2025-06-12 18:15:36,479] Trial 4 finished with value: 18.907384872436523 and parameters: {'lstm_units': 96, 'lstm_layers': 2, 'dropout_rate': 0.2, 'learning_rate': 0.004455549623343475, 'batch_size': 32, 'dense_units': 32, 'window_size': 40}. Best is trial 4 with value: 18.907384872436523.\n",
      "c:\\Users\\jerem\\miniconda3\\Lib\\site-packages\\keras\\src\\layers\\rnn\\rnn.py:199: UserWarning: Do not pass an `input_shape`/`input_dim` argument to a layer. When using Sequential models, prefer using an `Input(shape)` object as the first layer in the model instead.\n",
      "  super().__init__(**kwargs)\n"
     ]
    },
    {
     "name": "stdout",
     "output_type": "stream",
     "text": [
      "\u001b[1m4/4\u001b[0m \u001b[32m━━━━━━━━━━━━━━━━━━━━\u001b[0m\u001b[37m\u001b[0m \u001b[1m1s\u001b[0m 151ms/step\n"
     ]
    },
    {
     "name": "stderr",
     "output_type": "stream",
     "text": [
      "[I 2025-06-12 18:16:35,964] Trial 5 finished with value: 86.38084411621094 and parameters: {'lstm_units': 32, 'lstm_layers': 2, 'dropout_rate': 0.4, 'learning_rate': 0.00019204808700099354, 'batch_size': 32, 'dense_units': 16, 'window_size': 40}. Best is trial 4 with value: 18.907384872436523.\n",
      "c:\\Users\\jerem\\miniconda3\\Lib\\site-packages\\keras\\src\\layers\\rnn\\rnn.py:199: UserWarning: Do not pass an `input_shape`/`input_dim` argument to a layer. When using Sequential models, prefer using an `Input(shape)` object as the first layer in the model instead.\n",
      "  super().__init__(**kwargs)\n"
     ]
    },
    {
     "name": "stdout",
     "output_type": "stream",
     "text": [
      "\u001b[1m8/8\u001b[0m \u001b[32m━━━━━━━━━━━━━━━━━━━━\u001b[0m\u001b[37m\u001b[0m \u001b[1m1s\u001b[0m 45ms/step\n"
     ]
    },
    {
     "name": "stderr",
     "output_type": "stream",
     "text": [
      "[I 2025-06-12 18:17:37,382] Trial 6 finished with value: 23.23229217529297 and parameters: {'lstm_units': 96, 'lstm_layers': 1, 'dropout_rate': 0.30000000000000004, 'learning_rate': 0.004170458541180118, 'batch_size': 16, 'dense_units': 128, 'window_size': 60}. Best is trial 4 with value: 18.907384872436523.\n",
      "c:\\Users\\jerem\\miniconda3\\Lib\\site-packages\\keras\\src\\layers\\rnn\\rnn.py:199: UserWarning: Do not pass an `input_shape`/`input_dim` argument to a layer. When using Sequential models, prefer using an `Input(shape)` object as the first layer in the model instead.\n",
      "  super().__init__(**kwargs)\n"
     ]
    },
    {
     "name": "stdout",
     "output_type": "stream",
     "text": [
      "\u001b[1m4/4\u001b[0m \u001b[32m━━━━━━━━━━━━━━━━━━━━\u001b[0m\u001b[37m\u001b[0m \u001b[1m1s\u001b[0m 221ms/step\n"
     ]
    },
    {
     "name": "stderr",
     "output_type": "stream",
     "text": [
      "[I 2025-06-12 18:19:08,703] Trial 7 finished with value: 21.40797233581543 and parameters: {'lstm_units': 64, 'lstm_layers': 2, 'dropout_rate': 0.0, 'learning_rate': 0.004037675715333483, 'batch_size': 32, 'dense_units': 96, 'window_size': 50}. Best is trial 4 with value: 18.907384872436523.\n",
      "c:\\Users\\jerem\\miniconda3\\Lib\\site-packages\\keras\\src\\layers\\rnn\\rnn.py:199: UserWarning: Do not pass an `input_shape`/`input_dim` argument to a layer. When using Sequential models, prefer using an `Input(shape)` object as the first layer in the model instead.\n",
      "  super().__init__(**kwargs)\n"
     ]
    },
    {
     "name": "stdout",
     "output_type": "stream",
     "text": [
      "\u001b[1m8/8\u001b[0m \u001b[32m━━━━━━━━━━━━━━━━━━━━\u001b[0m\u001b[37m\u001b[0m \u001b[1m1s\u001b[0m 53ms/step\n"
     ]
    },
    {
     "name": "stderr",
     "output_type": "stream",
     "text": [
      "[I 2025-06-12 18:21:22,264] Trial 8 finished with value: 19.015466690063477 and parameters: {'lstm_units': 128, 'lstm_layers': 1, 'dropout_rate': 0.4, 'learning_rate': 0.0007151360452267924, 'batch_size': 16, 'dense_units': 96, 'window_size': 60}. Best is trial 4 with value: 18.907384872436523.\n",
      "c:\\Users\\jerem\\miniconda3\\Lib\\site-packages\\keras\\src\\layers\\rnn\\rnn.py:199: UserWarning: Do not pass an `input_shape`/`input_dim` argument to a layer. When using Sequential models, prefer using an `Input(shape)` object as the first layer in the model instead.\n",
      "  super().__init__(**kwargs)\n"
     ]
    },
    {
     "name": "stdout",
     "output_type": "stream",
     "text": [
      "\u001b[1m8/8\u001b[0m \u001b[32m━━━━━━━━━━━━━━━━━━━━\u001b[0m\u001b[37m\u001b[0m \u001b[1m1s\u001b[0m 38ms/step\n"
     ]
    },
    {
     "name": "stderr",
     "output_type": "stream",
     "text": [
      "[I 2025-06-12 18:21:50,664] Trial 9 finished with value: 24.04227066040039 and parameters: {'lstm_units': 64, 'lstm_layers': 1, 'dropout_rate': 0.2, 'learning_rate': 0.0006285805853672041, 'batch_size': 16, 'dense_units': 112, 'window_size': 10}. Best is trial 4 with value: 18.907384872436523.\n",
      "c:\\Users\\jerem\\miniconda3\\Lib\\site-packages\\keras\\src\\layers\\rnn\\rnn.py:199: UserWarning: Do not pass an `input_shape`/`input_dim` argument to a layer. When using Sequential models, prefer using an `Input(shape)` object as the first layer in the model instead.\n",
      "  super().__init__(**kwargs)\n"
     ]
    },
    {
     "name": "stdout",
     "output_type": "stream",
     "text": [
      "\u001b[1m4/4\u001b[0m \u001b[32m━━━━━━━━━━━━━━━━━━━━\u001b[0m\u001b[37m\u001b[0m \u001b[1m1s\u001b[0m 117ms/step\n"
     ]
    },
    {
     "name": "stderr",
     "output_type": "stream",
     "text": [
      "[I 2025-06-12 18:22:38,221] Trial 10 finished with value: 23.255050659179688 and parameters: {'lstm_units': 96, 'lstm_layers': 1, 'dropout_rate': 0.0, 'learning_rate': 0.008691144999438988, 'batch_size': 32, 'dense_units': 16, 'window_size': 40}. Best is trial 4 with value: 18.907384872436523.\n",
      "c:\\Users\\jerem\\miniconda3\\Lib\\site-packages\\keras\\src\\layers\\rnn\\rnn.py:199: UserWarning: Do not pass an `input_shape`/`input_dim` argument to a layer. When using Sequential models, prefer using an `Input(shape)` object as the first layer in the model instead.\n",
      "  super().__init__(**kwargs)\n"
     ]
    },
    {
     "name": "stdout",
     "output_type": "stream",
     "text": [
      "\u001b[1m8/8\u001b[0m \u001b[32m━━━━━━━━━━━━━━━━━━━━\u001b[0m\u001b[37m\u001b[0m \u001b[1m1s\u001b[0m 55ms/step\n"
     ]
    },
    {
     "name": "stderr",
     "output_type": "stream",
     "text": [
      "[I 2025-06-12 18:24:55,947] Trial 11 finished with value: 21.990013122558594 and parameters: {'lstm_units': 128, 'lstm_layers': 1, 'dropout_rate': 0.5, 'learning_rate': 0.0018506217122202082, 'batch_size': 16, 'dense_units': 80, 'window_size': 60}. Best is trial 4 with value: 18.907384872436523.\n",
      "c:\\Users\\jerem\\miniconda3\\Lib\\site-packages\\keras\\src\\layers\\rnn\\rnn.py:199: UserWarning: Do not pass an `input_shape`/`input_dim` argument to a layer. When using Sequential models, prefer using an `Input(shape)` object as the first layer in the model instead.\n",
      "  super().__init__(**kwargs)\n"
     ]
    },
    {
     "name": "stdout",
     "output_type": "stream",
     "text": [
      "\u001b[1m8/8\u001b[0m \u001b[32m━━━━━━━━━━━━━━━━━━━━\u001b[0m\u001b[37m\u001b[0m \u001b[1m1s\u001b[0m 62ms/step\n"
     ]
    },
    {
     "name": "stderr",
     "output_type": "stream",
     "text": [
      "[I 2025-06-12 18:27:04,092] Trial 12 finished with value: 22.406099319458008 and parameters: {'lstm_units': 128, 'lstm_layers': 1, 'dropout_rate': 0.5, 'learning_rate': 0.002058386887223944, 'batch_size': 16, 'dense_units': 48, 'window_size': 50}. Best is trial 4 with value: 18.907384872436523.\n",
      "c:\\Users\\jerem\\miniconda3\\Lib\\site-packages\\keras\\src\\layers\\rnn\\rnn.py:199: UserWarning: Do not pass an `input_shape`/`input_dim` argument to a layer. When using Sequential models, prefer using an `Input(shape)` object as the first layer in the model instead.\n",
      "  super().__init__(**kwargs)\n"
     ]
    },
    {
     "name": "stdout",
     "output_type": "stream",
     "text": [
      "\u001b[1m4/4\u001b[0m \u001b[32m━━━━━━━━━━━━━━━━━━━━\u001b[0m\u001b[37m\u001b[0m \u001b[1m1s\u001b[0m 101ms/step\n"
     ]
    },
    {
     "name": "stderr",
     "output_type": "stream",
     "text": [
      "[I 2025-06-12 18:28:19,221] Trial 13 finished with value: 44.98316955566406 and parameters: {'lstm_units': 128, 'lstm_layers': 1, 'dropout_rate': 0.4, 'learning_rate': 0.0003444244501000398, 'batch_size': 32, 'dense_units': 48, 'window_size': 50}. Best is trial 4 with value: 18.907384872436523.\n",
      "c:\\Users\\jerem\\miniconda3\\Lib\\site-packages\\keras\\src\\layers\\rnn\\rnn.py:199: UserWarning: Do not pass an `input_shape`/`input_dim` argument to a layer. When using Sequential models, prefer using an `Input(shape)` object as the first layer in the model instead.\n",
      "  super().__init__(**kwargs)\n"
     ]
    },
    {
     "name": "stdout",
     "output_type": "stream",
     "text": [
      "\u001b[1m4/4\u001b[0m \u001b[32m━━━━━━━━━━━━━━━━━━━━\u001b[0m\u001b[37m\u001b[0m \u001b[1m1s\u001b[0m 85ms/step\n"
     ]
    },
    {
     "name": "stderr",
     "output_type": "stream",
     "text": [
      "[I 2025-06-12 18:28:43,772] Trial 14 finished with value: 31.71582794189453 and parameters: {'lstm_units': 96, 'lstm_layers': 1, 'dropout_rate': 0.1, 'learning_rate': 0.0012142184958489214, 'batch_size': 32, 'dense_units': 80, 'window_size': 30}. Best is trial 4 with value: 18.907384872436523.\n",
      "c:\\Users\\jerem\\miniconda3\\Lib\\site-packages\\keras\\src\\layers\\rnn\\rnn.py:199: UserWarning: Do not pass an `input_shape`/`input_dim` argument to a layer. When using Sequential models, prefer using an `Input(shape)` object as the first layer in the model instead.\n",
      "  super().__init__(**kwargs)\n"
     ]
    },
    {
     "name": "stdout",
     "output_type": "stream",
     "text": [
      "\u001b[1m8/8\u001b[0m \u001b[32m━━━━━━━━━━━━━━━━━━━━\u001b[0m\u001b[37m\u001b[0m \u001b[1m2s\u001b[0m 155ms/step\n"
     ]
    },
    {
     "name": "stderr",
     "output_type": "stream",
     "text": [
      "[I 2025-06-12 18:34:13,486] Trial 15 finished with value: 29.8336124420166 and parameters: {'lstm_units': 128, 'lstm_layers': 2, 'dropout_rate': 0.30000000000000004, 'learning_rate': 0.002395894308084115, 'batch_size': 16, 'dense_units': 32, 'window_size': 60}. Best is trial 4 with value: 18.907384872436523.\n",
      "c:\\Users\\jerem\\miniconda3\\Lib\\site-packages\\keras\\src\\layers\\rnn\\rnn.py:199: UserWarning: Do not pass an `input_shape`/`input_dim` argument to a layer. When using Sequential models, prefer using an `Input(shape)` object as the first layer in the model instead.\n",
      "  super().__init__(**kwargs)\n"
     ]
    },
    {
     "name": "stdout",
     "output_type": "stream",
     "text": [
      "\u001b[1m8/8\u001b[0m \u001b[32m━━━━━━━━━━━━━━━━━━━━\u001b[0m\u001b[37m\u001b[0m \u001b[1m1s\u001b[0m 114ms/step\n"
     ]
    },
    {
     "name": "stderr",
     "output_type": "stream",
     "text": [
      "[I 2025-06-12 18:36:49,327] Trial 16 finished with value: 20.702030181884766 and parameters: {'lstm_units': 96, 'lstm_layers': 2, 'dropout_rate': 0.2, 'learning_rate': 0.0006833844910548978, 'batch_size': 16, 'dense_units': 96, 'window_size': 40}. Best is trial 4 with value: 18.907384872436523.\n",
      "c:\\Users\\jerem\\miniconda3\\Lib\\site-packages\\keras\\src\\layers\\rnn\\rnn.py:199: UserWarning: Do not pass an `input_shape`/`input_dim` argument to a layer. When using Sequential models, prefer using an `Input(shape)` object as the first layer in the model instead.\n",
      "  super().__init__(**kwargs)\n"
     ]
    },
    {
     "name": "stdout",
     "output_type": "stream",
     "text": [
      "\u001b[1m4/4\u001b[0m \u001b[32m━━━━━━━━━━━━━━━━━━━━\u001b[0m\u001b[37m\u001b[0m \u001b[1m1s\u001b[0m 111ms/step\n"
     ]
    },
    {
     "name": "stderr",
     "output_type": "stream",
     "text": [
      "[I 2025-06-12 18:38:14,522] Trial 17 finished with value: 46.000732421875 and parameters: {'lstm_units': 128, 'lstm_layers': 1, 'dropout_rate': 0.1, 'learning_rate': 0.0003212616601132271, 'batch_size': 32, 'dense_units': 64, 'window_size': 50}. Best is trial 4 with value: 18.907384872436523.\n",
      "c:\\Users\\jerem\\miniconda3\\Lib\\site-packages\\keras\\src\\layers\\rnn\\rnn.py:199: UserWarning: Do not pass an `input_shape`/`input_dim` argument to a layer. When using Sequential models, prefer using an `Input(shape)` object as the first layer in the model instead.\n",
      "  super().__init__(**kwargs)\n"
     ]
    },
    {
     "name": "stdout",
     "output_type": "stream",
     "text": [
      "\u001b[1m8/8\u001b[0m \u001b[32m━━━━━━━━━━━━━━━━━━━━\u001b[0m\u001b[37m\u001b[0m \u001b[1m1s\u001b[0m 69ms/step\n"
     ]
    },
    {
     "name": "stderr",
     "output_type": "stream",
     "text": [
      "[I 2025-06-12 18:38:59,945] Trial 18 finished with value: 22.72500991821289 and parameters: {'lstm_units': 96, 'lstm_layers': 2, 'dropout_rate': 0.4, 'learning_rate': 0.009402849832283273, 'batch_size': 16, 'dense_units': 32, 'window_size': 20}. Best is trial 4 with value: 18.907384872436523.\n",
      "c:\\Users\\jerem\\miniconda3\\Lib\\site-packages\\keras\\src\\layers\\rnn\\rnn.py:199: UserWarning: Do not pass an `input_shape`/`input_dim` argument to a layer. When using Sequential models, prefer using an `Input(shape)` object as the first layer in the model instead.\n",
      "  super().__init__(**kwargs)\n"
     ]
    },
    {
     "name": "stdout",
     "output_type": "stream",
     "text": [
      "\u001b[1m4/4\u001b[0m \u001b[32m━━━━━━━━━━━━━━━━━━━━\u001b[0m\u001b[37m\u001b[0m \u001b[1m1s\u001b[0m 83ms/step\n"
     ]
    },
    {
     "name": "stderr",
     "output_type": "stream",
     "text": [
      "[I 2025-06-12 18:39:31,326] Trial 19 finished with value: 37.97056579589844 and parameters: {'lstm_units': 64, 'lstm_layers': 1, 'dropout_rate': 0.5, 'learning_rate': 0.0009131937387832665, 'batch_size': 32, 'dense_units': 96, 'window_size': 30}. Best is trial 4 with value: 18.907384872436523.\n",
      "c:\\Users\\jerem\\miniconda3\\Lib\\site-packages\\keras\\src\\layers\\rnn\\rnn.py:199: UserWarning: Do not pass an `input_shape`/`input_dim` argument to a layer. When using Sequential models, prefer using an `Input(shape)` object as the first layer in the model instead.\n",
      "  super().__init__(**kwargs)\n"
     ]
    },
    {
     "name": "stdout",
     "output_type": "stream",
     "text": [
      "\u001b[1m4/4\u001b[0m \u001b[32m━━━━━━━━━━━━━━━━━━━━\u001b[0m\u001b[37m\u001b[0m \u001b[1m1s\u001b[0m 234ms/step\n"
     ]
    },
    {
     "name": "stderr",
     "output_type": "stream",
     "text": [
      "[I 2025-06-12 18:43:02,401] Trial 20 finished with value: 21.859848022460938 and parameters: {'lstm_units': 128, 'lstm_layers': 2, 'dropout_rate': 0.30000000000000004, 'learning_rate': 0.0028263129372075734, 'batch_size': 32, 'dense_units': 32, 'window_size': 60}. Best is trial 4 with value: 18.907384872436523.\n",
      "c:\\Users\\jerem\\miniconda3\\Lib\\site-packages\\keras\\src\\layers\\rnn\\rnn.py:199: UserWarning: Do not pass an `input_shape`/`input_dim` argument to a layer. When using Sequential models, prefer using an `Input(shape)` object as the first layer in the model instead.\n",
      "  super().__init__(**kwargs)\n"
     ]
    },
    {
     "name": "stdout",
     "output_type": "stream",
     "text": [
      "\u001b[1m8/8\u001b[0m \u001b[32m━━━━━━━━━━━━━━━━━━━━\u001b[0m\u001b[37m\u001b[0m \u001b[1m1s\u001b[0m 69ms/step\n"
     ]
    },
    {
     "name": "stderr",
     "output_type": "stream",
     "text": [
      "[I 2025-06-12 18:43:55,716] Trial 21 finished with value: 21.87448501586914 and parameters: {'lstm_units': 96, 'lstm_layers': 2, 'dropout_rate': 0.2, 'learning_rate': 0.001393426724230135, 'batch_size': 16, 'dense_units': 112, 'window_size': 10}. Best is trial 4 with value: 18.907384872436523.\n",
      "c:\\Users\\jerem\\miniconda3\\Lib\\site-packages\\keras\\src\\layers\\rnn\\rnn.py:199: UserWarning: Do not pass an `input_shape`/`input_dim` argument to a layer. When using Sequential models, prefer using an `Input(shape)` object as the first layer in the model instead.\n",
      "  super().__init__(**kwargs)\n"
     ]
    },
    {
     "name": "stdout",
     "output_type": "stream",
     "text": [
      "\u001b[1m8/8\u001b[0m \u001b[32m━━━━━━━━━━━━━━━━━━━━\u001b[0m\u001b[37m\u001b[0m \u001b[1m1s\u001b[0m 76ms/step\n"
     ]
    },
    {
     "name": "stderr",
     "output_type": "stream",
     "text": [
      "[I 2025-06-12 18:45:10,814] Trial 22 finished with value: 19.246450424194336 and parameters: {'lstm_units': 96, 'lstm_layers': 2, 'dropout_rate': 0.2, 'learning_rate': 0.0009431571549506746, 'batch_size': 16, 'dense_units': 112, 'window_size': 20}. Best is trial 4 with value: 18.907384872436523.\n",
      "c:\\Users\\jerem\\miniconda3\\Lib\\site-packages\\keras\\src\\layers\\rnn\\rnn.py:199: UserWarning: Do not pass an `input_shape`/`input_dim` argument to a layer. When using Sequential models, prefer using an `Input(shape)` object as the first layer in the model instead.\n",
      "  super().__init__(**kwargs)\n"
     ]
    },
    {
     "name": "stdout",
     "output_type": "stream",
     "text": [
      "\u001b[1m8/8\u001b[0m \u001b[32m━━━━━━━━━━━━━━━━━━━━\u001b[0m\u001b[37m\u001b[0m \u001b[1m1s\u001b[0m 72ms/step\n"
     ]
    },
    {
     "name": "stderr",
     "output_type": "stream",
     "text": [
      "[I 2025-06-12 18:46:27,410] Trial 23 finished with value: 27.238727569580078 and parameters: {'lstm_units': 96, 'lstm_layers': 2, 'dropout_rate': 0.1, 'learning_rate': 0.0003774336451207241, 'batch_size': 16, 'dense_units': 80, 'window_size': 20}. Best is trial 4 with value: 18.907384872436523.\n",
      "c:\\Users\\jerem\\miniconda3\\Lib\\site-packages\\keras\\src\\layers\\rnn\\rnn.py:199: UserWarning: Do not pass an `input_shape`/`input_dim` argument to a layer. When using Sequential models, prefer using an `Input(shape)` object as the first layer in the model instead.\n",
      "  super().__init__(**kwargs)\n"
     ]
    },
    {
     "name": "stdout",
     "output_type": "stream",
     "text": [
      "\u001b[1m8/8\u001b[0m \u001b[32m━━━━━━━━━━━━━━━━━━━━\u001b[0m\u001b[37m\u001b[0m \u001b[1m1s\u001b[0m 69ms/step\n"
     ]
    },
    {
     "name": "stderr",
     "output_type": "stream",
     "text": [
      "[I 2025-06-12 18:47:37,198] Trial 24 finished with value: 21.582969665527344 and parameters: {'lstm_units': 64, 'lstm_layers': 2, 'dropout_rate': 0.2, 'learning_rate': 0.0007398655470252626, 'batch_size': 16, 'dense_units': 96, 'window_size': 20}. Best is trial 4 with value: 18.907384872436523.\n",
      "c:\\Users\\jerem\\miniconda3\\Lib\\site-packages\\keras\\src\\layers\\rnn\\rnn.py:199: UserWarning: Do not pass an `input_shape`/`input_dim` argument to a layer. When using Sequential models, prefer using an `Input(shape)` object as the first layer in the model instead.\n",
      "  super().__init__(**kwargs)\n"
     ]
    },
    {
     "name": "stdout",
     "output_type": "stream",
     "text": [
      "\u001b[1m8/8\u001b[0m \u001b[32m━━━━━━━━━━━━━━━━━━━━\u001b[0m\u001b[37m\u001b[0m \u001b[1m1s\u001b[0m 52ms/step\n"
     ]
    },
    {
     "name": "stderr",
     "output_type": "stream",
     "text": [
      "[I 2025-06-12 18:49:28,399] Trial 25 finished with value: 21.151514053344727 and parameters: {'lstm_units': 96, 'lstm_layers': 2, 'dropout_rate': 0.30000000000000004, 'learning_rate': 0.0015797589824192934, 'batch_size': 16, 'dense_units': 112, 'window_size': 40}. Best is trial 4 with value: 18.907384872436523.\n",
      "c:\\Users\\jerem\\miniconda3\\Lib\\site-packages\\keras\\src\\layers\\rnn\\rnn.py:199: UserWarning: Do not pass an `input_shape`/`input_dim` argument to a layer. When using Sequential models, prefer using an `Input(shape)` object as the first layer in the model instead.\n",
      "  super().__init__(**kwargs)\n"
     ]
    },
    {
     "name": "stdout",
     "output_type": "stream",
     "text": [
      "\u001b[1m8/8\u001b[0m \u001b[32m━━━━━━━━━━━━━━━━━━━━\u001b[0m\u001b[37m\u001b[0m \u001b[1m1s\u001b[0m 59ms/step\n"
     ]
    },
    {
     "name": "stderr",
     "output_type": "stream",
     "text": [
      "[I 2025-06-12 18:50:38,073] Trial 26 finished with value: 36.70098114013672 and parameters: {'lstm_units': 128, 'lstm_layers': 1, 'dropout_rate': 0.1, 'learning_rate': 0.00021038443086638287, 'batch_size': 16, 'dense_units': 64, 'window_size': 30}. Best is trial 4 with value: 18.907384872436523.\n",
      "c:\\Users\\jerem\\miniconda3\\Lib\\site-packages\\keras\\src\\layers\\rnn\\rnn.py:199: UserWarning: Do not pass an `input_shape`/`input_dim` argument to a layer. When using Sequential models, prefer using an `Input(shape)` object as the first layer in the model instead.\n",
      "  super().__init__(**kwargs)\n"
     ]
    },
    {
     "name": "stdout",
     "output_type": "stream",
     "text": [
      "\u001b[1m8/8\u001b[0m \u001b[32m━━━━━━━━━━━━━━━━━━━━\u001b[0m\u001b[37m\u001b[0m \u001b[1m1s\u001b[0m 95ms/step\n"
     ]
    },
    {
     "name": "stderr",
     "output_type": "stream",
     "text": [
      "[I 2025-06-12 18:53:08,365] Trial 27 finished with value: 19.646516799926758 and parameters: {'lstm_units': 96, 'lstm_layers': 2, 'dropout_rate': 0.2, 'learning_rate': 0.0008571526272861677, 'batch_size': 16, 'dense_units': 128, 'window_size': 50}. Best is trial 4 with value: 18.907384872436523.\n",
      "c:\\Users\\jerem\\miniconda3\\Lib\\site-packages\\keras\\src\\layers\\rnn\\rnn.py:199: UserWarning: Do not pass an `input_shape`/`input_dim` argument to a layer. When using Sequential models, prefer using an `Input(shape)` object as the first layer in the model instead.\n",
      "  super().__init__(**kwargs)\n"
     ]
    },
    {
     "name": "stdout",
     "output_type": "stream",
     "text": [
      "\u001b[1m4/4\u001b[0m \u001b[32m━━━━━━━━━━━━━━━━━━━━\u001b[0m\u001b[37m\u001b[0m \u001b[1m1s\u001b[0m 91ms/step\n"
     ]
    },
    {
     "name": "stderr",
     "output_type": "stream",
     "text": [
      "[I 2025-06-12 18:53:37,349] Trial 28 finished with value: 59.48614501953125 and parameters: {'lstm_units': 64, 'lstm_layers': 1, 'dropout_rate': 0.4, 'learning_rate': 0.000452978567499799, 'batch_size': 32, 'dense_units': 96, 'window_size': 20}. Best is trial 4 with value: 18.907384872436523.\n",
      "c:\\Users\\jerem\\miniconda3\\Lib\\site-packages\\keras\\src\\layers\\rnn\\rnn.py:199: UserWarning: Do not pass an `input_shape`/`input_dim` argument to a layer. When using Sequential models, prefer using an `Input(shape)` object as the first layer in the model instead.\n",
      "  super().__init__(**kwargs)\n"
     ]
    },
    {
     "name": "stdout",
     "output_type": "stream",
     "text": [
      "\u001b[1m4/4\u001b[0m \u001b[32m━━━━━━━━━━━━━━━━━━━━\u001b[0m\u001b[37m\u001b[0m \u001b[1m2s\u001b[0m 261ms/step\n"
     ]
    },
    {
     "name": "stderr",
     "output_type": "stream",
     "text": [
      "[I 2025-06-12 18:55:15,079] Trial 29 finished with value: 19.379703521728516 and parameters: {'lstm_units': 64, 'lstm_layers': 2, 'dropout_rate': 0.1, 'learning_rate': 0.0031256450549061333, 'batch_size': 32, 'dense_units': 80, 'window_size': 30}. Best is trial 4 with value: 18.907384872436523.\n",
      "c:\\Users\\jerem\\miniconda3\\Lib\\site-packages\\keras\\src\\layers\\rnn\\rnn.py:199: UserWarning: Do not pass an `input_shape`/`input_dim` argument to a layer. When using Sequential models, prefer using an `Input(shape)` object as the first layer in the model instead.\n",
      "  super().__init__(**kwargs)\n"
     ]
    },
    {
     "name": "stdout",
     "output_type": "stream",
     "text": [
      "\u001b[1m8/8\u001b[0m \u001b[32m━━━━━━━━━━━━━━━━━━━━\u001b[0m\u001b[37m\u001b[0m \u001b[1m2s\u001b[0m 124ms/step\n"
     ]
    },
    {
     "name": "stderr",
     "output_type": "stream",
     "text": [
      "[I 2025-06-12 18:58:42,728] Trial 30 finished with value: 57.198448181152344 and parameters: {'lstm_units': 128, 'lstm_layers': 2, 'dropout_rate': 0.30000000000000004, 'learning_rate': 0.00011937440083358885, 'batch_size': 16, 'dense_units': 112, 'window_size': 40}. Best is trial 4 with value: 18.907384872436523.\n",
      "c:\\Users\\jerem\\miniconda3\\Lib\\site-packages\\keras\\src\\layers\\rnn\\rnn.py:199: UserWarning: Do not pass an `input_shape`/`input_dim` argument to a layer. When using Sequential models, prefer using an `Input(shape)` object as the first layer in the model instead.\n",
      "  super().__init__(**kwargs)\n"
     ]
    },
    {
     "name": "stdout",
     "output_type": "stream",
     "text": [
      "\u001b[1m4/4\u001b[0m \u001b[32m━━━━━━━━━━━━━━━━━━━━\u001b[0m\u001b[37m\u001b[0m \u001b[1m1s\u001b[0m 160ms/step\n"
     ]
    },
    {
     "name": "stderr",
     "output_type": "stream",
     "text": [
      "[I 2025-06-12 18:59:40,639] Trial 31 finished with value: 19.369356155395508 and parameters: {'lstm_units': 64, 'lstm_layers': 2, 'dropout_rate': 0.1, 'learning_rate': 0.0031576075823602826, 'batch_size': 32, 'dense_units': 80, 'window_size': 30}. Best is trial 4 with value: 18.907384872436523.\n",
      "c:\\Users\\jerem\\miniconda3\\Lib\\site-packages\\keras\\src\\layers\\rnn\\rnn.py:199: UserWarning: Do not pass an `input_shape`/`input_dim` argument to a layer. When using Sequential models, prefer using an `Input(shape)` object as the first layer in the model instead.\n",
      "  super().__init__(**kwargs)\n"
     ]
    },
    {
     "name": "stdout",
     "output_type": "stream",
     "text": [
      "\u001b[1m4/4\u001b[0m \u001b[32m━━━━━━━━━━━━━━━━━━━━\u001b[0m\u001b[37m\u001b[0m \u001b[1m1s\u001b[0m 158ms/step\n"
     ]
    },
    {
     "name": "stderr",
     "output_type": "stream",
     "text": [
      "[I 2025-06-12 19:00:25,980] Trial 32 finished with value: 20.64571762084961 and parameters: {'lstm_units': 32, 'lstm_layers': 2, 'dropout_rate': 0.0, 'learning_rate': 0.006224676769682461, 'batch_size': 32, 'dense_units': 64, 'window_size': 30}. Best is trial 4 with value: 18.907384872436523.\n",
      "c:\\Users\\jerem\\miniconda3\\Lib\\site-packages\\keras\\src\\layers\\rnn\\rnn.py:199: UserWarning: Do not pass an `input_shape`/`input_dim` argument to a layer. When using Sequential models, prefer using an `Input(shape)` object as the first layer in the model instead.\n",
      "  super().__init__(**kwargs)\n"
     ]
    },
    {
     "name": "stdout",
     "output_type": "stream",
     "text": [
      "\u001b[1m4/4\u001b[0m \u001b[32m━━━━━━━━━━━━━━━━━━━━\u001b[0m\u001b[37m\u001b[0m \u001b[1m1s\u001b[0m 144ms/step\n"
     ]
    },
    {
     "name": "stderr",
     "output_type": "stream",
     "text": [
      "[I 2025-06-12 19:01:09,741] Trial 33 finished with value: 55.35790252685547 and parameters: {'lstm_units': 64, 'lstm_layers': 2, 'dropout_rate': 0.1, 'learning_rate': 0.0005319040293962712, 'batch_size': 32, 'dense_units': 80, 'window_size': 20}. Best is trial 4 with value: 18.907384872436523.\n",
      "c:\\Users\\jerem\\miniconda3\\Lib\\site-packages\\keras\\src\\layers\\rnn\\rnn.py:199: UserWarning: Do not pass an `input_shape`/`input_dim` argument to a layer. When using Sequential models, prefer using an `Input(shape)` object as the first layer in the model instead.\n",
      "  super().__init__(**kwargs)\n"
     ]
    },
    {
     "name": "stdout",
     "output_type": "stream",
     "text": [
      "\u001b[1m4/4\u001b[0m \u001b[32m━━━━━━━━━━━━━━━━━━━━\u001b[0m\u001b[37m\u001b[0m \u001b[1m1s\u001b[0m 160ms/step\n"
     ]
    },
    {
     "name": "stderr",
     "output_type": "stream",
     "text": [
      "[I 2025-06-12 19:01:57,858] Trial 34 finished with value: 19.18393325805664 and parameters: {'lstm_units': 32, 'lstm_layers': 2, 'dropout_rate': 0.2, 'learning_rate': 0.006588583243350418, 'batch_size': 32, 'dense_units': 96, 'window_size': 30}. Best is trial 4 with value: 18.907384872436523.\n",
      "c:\\Users\\jerem\\miniconda3\\Lib\\site-packages\\keras\\src\\layers\\rnn\\rnn.py:199: UserWarning: Do not pass an `input_shape`/`input_dim` argument to a layer. When using Sequential models, prefer using an `Input(shape)` object as the first layer in the model instead.\n",
      "  super().__init__(**kwargs)\n"
     ]
    },
    {
     "name": "stdout",
     "output_type": "stream",
     "text": [
      "\u001b[1m4/4\u001b[0m \u001b[32m━━━━━━━━━━━━━━━━━━━━\u001b[0m\u001b[37m\u001b[0m \u001b[1m1s\u001b[0m 149ms/step\n"
     ]
    },
    {
     "name": "stderr",
     "output_type": "stream",
     "text": [
      "[I 2025-06-12 19:02:26,746] Trial 35 finished with value: 19.501405715942383 and parameters: {'lstm_units': 32, 'lstm_layers': 2, 'dropout_rate': 0.2, 'learning_rate': 0.006928649907534491, 'batch_size': 32, 'dense_units': 128, 'window_size': 10}. Best is trial 4 with value: 18.907384872436523.\n",
      "c:\\Users\\jerem\\miniconda3\\Lib\\site-packages\\keras\\src\\layers\\rnn\\rnn.py:199: UserWarning: Do not pass an `input_shape`/`input_dim` argument to a layer. When using Sequential models, prefer using an `Input(shape)` object as the first layer in the model instead.\n",
      "  super().__init__(**kwargs)\n"
     ]
    },
    {
     "name": "stdout",
     "output_type": "stream",
     "text": [
      "\u001b[1m4/4\u001b[0m \u001b[32m━━━━━━━━━━━━━━━━━━━━\u001b[0m\u001b[37m\u001b[0m \u001b[1m1s\u001b[0m 178ms/step\n"
     ]
    },
    {
     "name": "stderr",
     "output_type": "stream",
     "text": [
      "[I 2025-06-12 19:04:59,163] Trial 36 finished with value: 19.552698135375977 and parameters: {'lstm_units': 32, 'lstm_layers': 2, 'dropout_rate': 0.30000000000000004, 'learning_rate': 0.004419116117337342, 'batch_size': 32, 'dense_units': 112, 'window_size': 20}. Best is trial 4 with value: 18.907384872436523.\n",
      "c:\\Users\\jerem\\miniconda3\\Lib\\site-packages\\keras\\src\\layers\\rnn\\rnn.py:199: UserWarning: Do not pass an `input_shape`/`input_dim` argument to a layer. When using Sequential models, prefer using an `Input(shape)` object as the first layer in the model instead.\n",
      "  super().__init__(**kwargs)\n"
     ]
    },
    {
     "name": "stdout",
     "output_type": "stream",
     "text": [
      "\u001b[1m8/8\u001b[0m \u001b[32m━━━━━━━━━━━━━━━━━━━━\u001b[0m\u001b[37m\u001b[0m \u001b[1m1s\u001b[0m 110ms/step\n"
     ]
    },
    {
     "name": "stderr",
     "output_type": "stream",
     "text": [
      "[I 2025-06-12 19:07:17,252] Trial 37 finished with value: 25.364450454711914 and parameters: {'lstm_units': 32, 'lstm_layers': 2, 'dropout_rate': 0.2, 'learning_rate': 0.007034066252232814, 'batch_size': 16, 'dense_units': 96, 'window_size': 40}. Best is trial 4 with value: 18.907384872436523.\n",
      "c:\\Users\\jerem\\miniconda3\\Lib\\site-packages\\keras\\src\\layers\\rnn\\rnn.py:199: UserWarning: Do not pass an `input_shape`/`input_dim` argument to a layer. When using Sequential models, prefer using an `Input(shape)` object as the first layer in the model instead.\n",
      "  super().__init__(**kwargs)\n"
     ]
    },
    {
     "name": "stdout",
     "output_type": "stream",
     "text": [
      "\u001b[1m4/4\u001b[0m \u001b[32m━━━━━━━━━━━━━━━━━━━━\u001b[0m\u001b[37m\u001b[0m \u001b[1m1s\u001b[0m 200ms/step\n"
     ]
    },
    {
     "name": "stderr",
     "output_type": "stream",
     "text": [
      "[I 2025-06-12 19:09:08,152] Trial 38 finished with value: 63.015357971191406 and parameters: {'lstm_units': 96, 'lstm_layers': 2, 'dropout_rate': 0.30000000000000004, 'learning_rate': 0.00024584812306420743, 'batch_size': 32, 'dense_units': 96, 'window_size': 20}. Best is trial 4 with value: 18.907384872436523.\n",
      "c:\\Users\\jerem\\miniconda3\\Lib\\site-packages\\keras\\src\\layers\\rnn\\rnn.py:199: UserWarning: Do not pass an `input_shape`/`input_dim` argument to a layer. When using Sequential models, prefer using an `Input(shape)` object as the first layer in the model instead.\n",
      "  super().__init__(**kwargs)\n"
     ]
    },
    {
     "name": "stdout",
     "output_type": "stream",
     "text": [
      "\u001b[1m8/8\u001b[0m \u001b[32m━━━━━━━━━━━━━━━━━━━━\u001b[0m\u001b[37m\u001b[0m \u001b[1m2s\u001b[0m 129ms/step\n"
     ]
    },
    {
     "name": "stderr",
     "output_type": "stream",
     "text": [
      "[I 2025-06-12 19:14:51,414] Trial 39 finished with value: 19.86933708190918 and parameters: {'lstm_units': 96, 'lstm_layers': 2, 'dropout_rate': 0.2, 'learning_rate': 0.0011065453303632608, 'batch_size': 16, 'dense_units': 128, 'window_size': 30}. Best is trial 4 with value: 18.907384872436523.\n",
      "c:\\Users\\jerem\\miniconda3\\Lib\\site-packages\\keras\\src\\layers\\rnn\\rnn.py:199: UserWarning: Do not pass an `input_shape`/`input_dim` argument to a layer. When using Sequential models, prefer using an `Input(shape)` object as the first layer in the model instead.\n",
      "  super().__init__(**kwargs)\n"
     ]
    },
    {
     "name": "stdout",
     "output_type": "stream",
     "text": [
      "\u001b[1m4/4\u001b[0m \u001b[32m━━━━━━━━━━━━━━━━━━━━\u001b[0m\u001b[37m\u001b[0m \u001b[1m1s\u001b[0m 100ms/step\n"
     ]
    },
    {
     "name": "stderr",
     "output_type": "stream",
     "text": [
      "[I 2025-06-12 19:16:25,216] Trial 40 finished with value: 22.761117935180664 and parameters: {'lstm_units': 96, 'lstm_layers': 1, 'dropout_rate': 0.2, 'learning_rate': 0.005514512532598571, 'batch_size': 32, 'dense_units': 16, 'window_size': 50}. Best is trial 4 with value: 18.907384872436523.\n",
      "c:\\Users\\jerem\\miniconda3\\Lib\\site-packages\\keras\\src\\layers\\rnn\\rnn.py:199: UserWarning: Do not pass an `input_shape`/`input_dim` argument to a layer. When using Sequential models, prefer using an `Input(shape)` object as the first layer in the model instead.\n",
      "  super().__init__(**kwargs)\n"
     ]
    },
    {
     "name": "stdout",
     "output_type": "stream",
     "text": [
      "\u001b[1m4/4\u001b[0m \u001b[32m━━━━━━━━━━━━━━━━━━━━\u001b[0m\u001b[37m\u001b[0m \u001b[1m1s\u001b[0m 173ms/step\n"
     ]
    },
    {
     "name": "stderr",
     "output_type": "stream",
     "text": [
      "[I 2025-06-12 19:17:28,516] Trial 41 finished with value: 19.088768005371094 and parameters: {'lstm_units': 32, 'lstm_layers': 2, 'dropout_rate': 0.1, 'learning_rate': 0.004302248639088739, 'batch_size': 32, 'dense_units': 80, 'window_size': 30}. Best is trial 4 with value: 18.907384872436523.\n",
      "c:\\Users\\jerem\\miniconda3\\Lib\\site-packages\\keras\\src\\layers\\rnn\\rnn.py:199: UserWarning: Do not pass an `input_shape`/`input_dim` argument to a layer. When using Sequential models, prefer using an `Input(shape)` object as the first layer in the model instead.\n",
      "  super().__init__(**kwargs)\n"
     ]
    },
    {
     "name": "stdout",
     "output_type": "stream",
     "text": [
      "\u001b[1m4/4\u001b[0m \u001b[32m━━━━━━━━━━━━━━━━━━━━\u001b[0m\u001b[37m\u001b[0m \u001b[1m1s\u001b[0m 234ms/step\n"
     ]
    },
    {
     "name": "stderr",
     "output_type": "stream",
     "text": [
      "[I 2025-06-12 19:18:32,815] Trial 42 finished with value: 20.068349838256836 and parameters: {'lstm_units': 32, 'lstm_layers': 2, 'dropout_rate': 0.0, 'learning_rate': 0.004262336660171827, 'batch_size': 32, 'dense_units': 112, 'window_size': 30}. Best is trial 4 with value: 18.907384872436523.\n",
      "c:\\Users\\jerem\\miniconda3\\Lib\\site-packages\\keras\\src\\layers\\rnn\\rnn.py:199: UserWarning: Do not pass an `input_shape`/`input_dim` argument to a layer. When using Sequential models, prefer using an `Input(shape)` object as the first layer in the model instead.\n",
      "  super().__init__(**kwargs)\n"
     ]
    },
    {
     "name": "stdout",
     "output_type": "stream",
     "text": [
      "\u001b[1m4/4\u001b[0m \u001b[32m━━━━━━━━━━━━━━━━━━━━\u001b[0m\u001b[37m\u001b[0m \u001b[1m1s\u001b[0m 194ms/step\n"
     ]
    },
    {
     "name": "stderr",
     "output_type": "stream",
     "text": [
      "[I 2025-06-12 19:19:55,151] Trial 43 finished with value: 18.75170135498047 and parameters: {'lstm_units': 32, 'lstm_layers': 2, 'dropout_rate': 0.2, 'learning_rate': 0.005241543279639337, 'batch_size': 32, 'dense_units': 64, 'window_size': 40}. Best is trial 43 with value: 18.75170135498047.\n",
      "c:\\Users\\jerem\\miniconda3\\Lib\\site-packages\\keras\\src\\layers\\rnn\\rnn.py:199: UserWarning: Do not pass an `input_shape`/`input_dim` argument to a layer. When using Sequential models, prefer using an `Input(shape)` object as the first layer in the model instead.\n",
      "  super().__init__(**kwargs)\n"
     ]
    },
    {
     "name": "stdout",
     "output_type": "stream",
     "text": [
      "\u001b[1m4/4\u001b[0m \u001b[32m━━━━━━━━━━━━━━━━━━━━\u001b[0m\u001b[37m\u001b[0m \u001b[1m1s\u001b[0m 189ms/step\n"
     ]
    },
    {
     "name": "stderr",
     "output_type": "stream",
     "text": [
      "[I 2025-06-12 19:21:10,527] Trial 44 finished with value: 19.899417877197266 and parameters: {'lstm_units': 32, 'lstm_layers': 2, 'dropout_rate': 0.30000000000000004, 'learning_rate': 0.008049098229142694, 'batch_size': 32, 'dense_units': 64, 'window_size': 40}. Best is trial 43 with value: 18.75170135498047.\n",
      "c:\\Users\\jerem\\miniconda3\\Lib\\site-packages\\keras\\src\\layers\\rnn\\rnn.py:199: UserWarning: Do not pass an `input_shape`/`input_dim` argument to a layer. When using Sequential models, prefer using an `Input(shape)` object as the first layer in the model instead.\n",
      "  super().__init__(**kwargs)\n"
     ]
    },
    {
     "name": "stdout",
     "output_type": "stream",
     "text": [
      "\u001b[1m4/4\u001b[0m \u001b[32m━━━━━━━━━━━━━━━━━━━━\u001b[0m\u001b[37m\u001b[0m \u001b[1m1s\u001b[0m 184ms/step\n"
     ]
    },
    {
     "name": "stderr",
     "output_type": "stream",
     "text": [
      "[I 2025-06-12 19:22:23,969] Trial 45 finished with value: 18.90817642211914 and parameters: {'lstm_units': 32, 'lstm_layers': 2, 'dropout_rate': 0.1, 'learning_rate': 0.0044213215293740634, 'batch_size': 32, 'dense_units': 48, 'window_size': 40}. Best is trial 43 with value: 18.75170135498047.\n",
      "c:\\Users\\jerem\\miniconda3\\Lib\\site-packages\\keras\\src\\layers\\rnn\\rnn.py:199: UserWarning: Do not pass an `input_shape`/`input_dim` argument to a layer. When using Sequential models, prefer using an `Input(shape)` object as the first layer in the model instead.\n",
      "  super().__init__(**kwargs)\n"
     ]
    },
    {
     "name": "stdout",
     "output_type": "stream",
     "text": [
      "\u001b[1m4/4\u001b[0m \u001b[32m━━━━━━━━━━━━━━━━━━━━\u001b[0m\u001b[37m\u001b[0m \u001b[1m1s\u001b[0m 167ms/step\n"
     ]
    },
    {
     "name": "stderr",
     "output_type": "stream",
     "text": [
      "[I 2025-06-12 19:23:36,154] Trial 46 finished with value: 21.82632064819336 and parameters: {'lstm_units': 32, 'lstm_layers': 2, 'dropout_rate': 0.0, 'learning_rate': 0.003763507535275233, 'batch_size': 32, 'dense_units': 48, 'window_size': 40}. Best is trial 43 with value: 18.75170135498047.\n",
      "c:\\Users\\jerem\\miniconda3\\Lib\\site-packages\\keras\\src\\layers\\rnn\\rnn.py:199: UserWarning: Do not pass an `input_shape`/`input_dim` argument to a layer. When using Sequential models, prefer using an `Input(shape)` object as the first layer in the model instead.\n",
      "  super().__init__(**kwargs)\n"
     ]
    },
    {
     "name": "stdout",
     "output_type": "stream",
     "text": [
      "\u001b[1m4/4\u001b[0m \u001b[32m━━━━━━━━━━━━━━━━━━━━\u001b[0m\u001b[37m\u001b[0m \u001b[1m1s\u001b[0m 100ms/step\n"
     ]
    },
    {
     "name": "stderr",
     "output_type": "stream",
     "text": [
      "[I 2025-06-12 19:24:15,271] Trial 47 finished with value: 19.18744659423828 and parameters: {'lstm_units': 32, 'lstm_layers': 1, 'dropout_rate': 0.1, 'learning_rate': 0.0052114131569704625, 'batch_size': 32, 'dense_units': 48, 'window_size': 40}. Best is trial 43 with value: 18.75170135498047.\n",
      "c:\\Users\\jerem\\miniconda3\\Lib\\site-packages\\keras\\src\\layers\\rnn\\rnn.py:199: UserWarning: Do not pass an `input_shape`/`input_dim` argument to a layer. When using Sequential models, prefer using an `Input(shape)` object as the first layer in the model instead.\n",
      "  super().__init__(**kwargs)\n"
     ]
    },
    {
     "name": "stdout",
     "output_type": "stream",
     "text": [
      "\u001b[1m4/4\u001b[0m \u001b[32m━━━━━━━━━━━━━━━━━━━━\u001b[0m\u001b[37m\u001b[0m \u001b[1m1s\u001b[0m 183ms/step\n"
     ]
    },
    {
     "name": "stderr",
     "output_type": "stream",
     "text": [
      "[I 2025-06-12 19:25:36,538] Trial 48 finished with value: 30.416614532470703 and parameters: {'lstm_units': 32, 'lstm_layers': 2, 'dropout_rate': 0.1, 'learning_rate': 0.00229567201520473, 'batch_size': 32, 'dense_units': 32, 'window_size': 50}. Best is trial 43 with value: 18.75170135498047.\n",
      "c:\\Users\\jerem\\miniconda3\\Lib\\site-packages\\keras\\src\\layers\\rnn\\rnn.py:199: UserWarning: Do not pass an `input_shape`/`input_dim` argument to a layer. When using Sequential models, prefer using an `Input(shape)` object as the first layer in the model instead.\n",
      "  super().__init__(**kwargs)\n"
     ]
    },
    {
     "name": "stdout",
     "output_type": "stream",
     "text": [
      "\u001b[1m4/4\u001b[0m \u001b[32m━━━━━━━━━━━━━━━━━━━━\u001b[0m\u001b[37m\u001b[0m \u001b[1m1s\u001b[0m 100ms/step\n"
     ]
    },
    {
     "name": "stderr",
     "output_type": "stream",
     "text": [
      "[I 2025-06-12 19:26:24,747] Trial 49 finished with value: 44.70130157470703 and parameters: {'lstm_units': 32, 'lstm_layers': 1, 'dropout_rate': 0.4, 'learning_rate': 0.0016942861237291137, 'batch_size': 32, 'dense_units': 64, 'window_size': 60}. Best is trial 43 with value: 18.75170135498047.\n",
      "c:\\Users\\jerem\\miniconda3\\Lib\\site-packages\\keras\\src\\layers\\rnn\\rnn.py:199: UserWarning: Do not pass an `input_shape`/`input_dim` argument to a layer. When using Sequential models, prefer using an `Input(shape)` object as the first layer in the model instead.\n",
      "  super().__init__(**kwargs)\n"
     ]
    },
    {
     "name": "stdout",
     "output_type": "stream",
     "text": [
      "\u001b[1m4/4\u001b[0m \u001b[32m━━━━━━━━━━━━━━━━━━━━\u001b[0m\u001b[37m\u001b[0m \u001b[1m1s\u001b[0m 172ms/step\n"
     ]
    },
    {
     "name": "stderr",
     "output_type": "stream",
     "text": [
      "[I 2025-06-12 19:27:34,706] Trial 50 finished with value: 19.14931297302246 and parameters: {'lstm_units': 32, 'lstm_layers': 2, 'dropout_rate': 0.1, 'learning_rate': 0.004995342485706767, 'batch_size': 32, 'dense_units': 48, 'window_size': 40}. Best is trial 43 with value: 18.75170135498047.\n",
      "c:\\Users\\jerem\\miniconda3\\Lib\\site-packages\\keras\\src\\layers\\rnn\\rnn.py:199: UserWarning: Do not pass an `input_shape`/`input_dim` argument to a layer. When using Sequential models, prefer using an `Input(shape)` object as the first layer in the model instead.\n",
      "  super().__init__(**kwargs)\n"
     ]
    },
    {
     "name": "stdout",
     "output_type": "stream",
     "text": [
      "\u001b[1m4/4\u001b[0m \u001b[32m━━━━━━━━━━━━━━━━━━━━\u001b[0m\u001b[37m\u001b[0m \u001b[1m1s\u001b[0m 161ms/step\n"
     ]
    },
    {
     "name": "stderr",
     "output_type": "stream",
     "text": [
      "[I 2025-06-12 19:28:44,257] Trial 51 finished with value: 21.14284324645996 and parameters: {'lstm_units': 32, 'lstm_layers': 2, 'dropout_rate': 0.1, 'learning_rate': 0.0034602848276105453, 'batch_size': 32, 'dense_units': 48, 'window_size': 40}. Best is trial 43 with value: 18.75170135498047.\n",
      "c:\\Users\\jerem\\miniconda3\\Lib\\site-packages\\keras\\src\\layers\\rnn\\rnn.py:199: UserWarning: Do not pass an `input_shape`/`input_dim` argument to a layer. When using Sequential models, prefer using an `Input(shape)` object as the first layer in the model instead.\n",
      "  super().__init__(**kwargs)\n"
     ]
    },
    {
     "name": "stdout",
     "output_type": "stream",
     "text": [
      "\u001b[1m4/4\u001b[0m \u001b[32m━━━━━━━━━━━━━━━━━━━━\u001b[0m\u001b[37m\u001b[0m \u001b[1m1s\u001b[0m 167ms/step\n"
     ]
    },
    {
     "name": "stderr",
     "output_type": "stream",
     "text": [
      "[I 2025-06-12 19:29:46,691] Trial 52 finished with value: 24.77488899230957 and parameters: {'lstm_units': 32, 'lstm_layers': 2, 'dropout_rate': 0.0, 'learning_rate': 0.004915641957428362, 'batch_size': 32, 'dense_units': 32, 'window_size': 40}. Best is trial 43 with value: 18.75170135498047.\n",
      "c:\\Users\\jerem\\miniconda3\\Lib\\site-packages\\keras\\src\\layers\\rnn\\rnn.py:199: UserWarning: Do not pass an `input_shape`/`input_dim` argument to a layer. When using Sequential models, prefer using an `Input(shape)` object as the first layer in the model instead.\n",
      "  super().__init__(**kwargs)\n"
     ]
    },
    {
     "name": "stdout",
     "output_type": "stream",
     "text": [
      "\u001b[1m4/4\u001b[0m \u001b[32m━━━━━━━━━━━━━━━━━━━━\u001b[0m\u001b[37m\u001b[0m \u001b[1m1s\u001b[0m 211ms/step\n"
     ]
    },
    {
     "name": "stderr",
     "output_type": "stream",
     "text": [
      "[I 2025-06-12 19:31:15,037] Trial 53 finished with value: 28.866300582885742 and parameters: {'lstm_units': 32, 'lstm_layers': 2, 'dropout_rate': 0.1, 'learning_rate': 0.002489067509934947, 'batch_size': 32, 'dense_units': 48, 'window_size': 50}. Best is trial 43 with value: 18.75170135498047.\n",
      "c:\\Users\\jerem\\miniconda3\\Lib\\site-packages\\keras\\src\\layers\\rnn\\rnn.py:199: UserWarning: Do not pass an `input_shape`/`input_dim` argument to a layer. When using Sequential models, prefer using an `Input(shape)` object as the first layer in the model instead.\n",
      "  super().__init__(**kwargs)\n"
     ]
    },
    {
     "name": "stdout",
     "output_type": "stream",
     "text": [
      "\u001b[1m4/4\u001b[0m \u001b[32m━━━━━━━━━━━━━━━━━━━━\u001b[0m\u001b[37m\u001b[0m \u001b[1m1s\u001b[0m 172ms/step\n"
     ]
    },
    {
     "name": "stderr",
     "output_type": "stream",
     "text": [
      "[I 2025-06-12 19:32:04,543] Trial 54 finished with value: 19.577375411987305 and parameters: {'lstm_units': 64, 'lstm_layers': 2, 'dropout_rate': 0.5, 'learning_rate': 0.009734873170762074, 'batch_size': 32, 'dense_units': 64, 'window_size': 40}. Best is trial 43 with value: 18.75170135498047.\n",
      "c:\\Users\\jerem\\miniconda3\\Lib\\site-packages\\keras\\src\\layers\\rnn\\rnn.py:199: UserWarning: Do not pass an `input_shape`/`input_dim` argument to a layer. When using Sequential models, prefer using an `Input(shape)` object as the first layer in the model instead.\n",
      "  super().__init__(**kwargs)\n"
     ]
    },
    {
     "name": "stdout",
     "output_type": "stream",
     "text": [
      "\u001b[1m4/4\u001b[0m \u001b[32m━━━━━━━━━━━━━━━━━━━━\u001b[0m\u001b[37m\u001b[0m \u001b[1m1s\u001b[0m 169ms/step\n"
     ]
    },
    {
     "name": "stderr",
     "output_type": "stream",
     "text": [
      "[I 2025-06-12 19:33:23,643] Trial 55 finished with value: 19.510738372802734 and parameters: {'lstm_units': 32, 'lstm_layers': 2, 'dropout_rate': 0.1, 'learning_rate': 0.005618740635966422, 'batch_size': 32, 'dense_units': 48, 'window_size': 50}. Best is trial 43 with value: 18.75170135498047.\n",
      "c:\\Users\\jerem\\miniconda3\\Lib\\site-packages\\keras\\src\\layers\\rnn\\rnn.py:199: UserWarning: Do not pass an `input_shape`/`input_dim` argument to a layer. When using Sequential models, prefer using an `Input(shape)` object as the first layer in the model instead.\n",
      "  super().__init__(**kwargs)\n"
     ]
    },
    {
     "name": "stdout",
     "output_type": "stream",
     "text": [
      "\u001b[1m4/4\u001b[0m \u001b[32m━━━━━━━━━━━━━━━━━━━━\u001b[0m\u001b[37m\u001b[0m \u001b[1m1s\u001b[0m 183ms/step\n"
     ]
    },
    {
     "name": "stderr",
     "output_type": "stream",
     "text": [
      "[I 2025-06-12 19:33:51,934] Trial 56 finished with value: 37.71518325805664 and parameters: {'lstm_units': 64, 'lstm_layers': 2, 'dropout_rate': 0.0, 'learning_rate': 0.008037866908852118, 'batch_size': 32, 'dense_units': 32, 'window_size': 40}. Best is trial 43 with value: 18.75170135498047.\n",
      "c:\\Users\\jerem\\miniconda3\\Lib\\site-packages\\keras\\src\\layers\\rnn\\rnn.py:199: UserWarning: Do not pass an `input_shape`/`input_dim` argument to a layer. When using Sequential models, prefer using an `Input(shape)` object as the first layer in the model instead.\n",
      "  super().__init__(**kwargs)\n"
     ]
    },
    {
     "name": "stdout",
     "output_type": "stream",
     "text": [
      "\u001b[1m4/4\u001b[0m \u001b[32m━━━━━━━━━━━━━━━━━━━━\u001b[0m\u001b[37m\u001b[0m \u001b[1m1s\u001b[0m 243ms/step\n"
     ]
    },
    {
     "name": "stderr",
     "output_type": "stream",
     "text": [
      "[I 2025-06-12 19:35:49,528] Trial 57 finished with value: 19.60902976989746 and parameters: {'lstm_units': 32, 'lstm_layers': 2, 'dropout_rate': 0.2, 'learning_rate': 0.004581592361527644, 'batch_size': 32, 'dense_units': 16, 'window_size': 60}. Best is trial 43 with value: 18.75170135498047.\n",
      "c:\\Users\\jerem\\miniconda3\\Lib\\site-packages\\keras\\src\\layers\\rnn\\rnn.py:199: UserWarning: Do not pass an `input_shape`/`input_dim` argument to a layer. When using Sequential models, prefer using an `Input(shape)` object as the first layer in the model instead.\n",
      "  super().__init__(**kwargs)\n"
     ]
    },
    {
     "name": "stdout",
     "output_type": "stream",
     "text": [
      "\u001b[1m4/4\u001b[0m \u001b[32m━━━━━━━━━━━━━━━━━━━━\u001b[0m\u001b[37m\u001b[0m \u001b[1m1s\u001b[0m 113ms/step\n"
     ]
    },
    {
     "name": "stderr",
     "output_type": "stream",
     "text": [
      "[I 2025-06-12 19:36:07,862] Trial 58 finished with value: 78.5211181640625 and parameters: {'lstm_units': 128, 'lstm_layers': 1, 'dropout_rate': 0.4, 'learning_rate': 0.003705200948831822, 'batch_size': 32, 'dense_units': 48, 'window_size': 50}. Best is trial 43 with value: 18.75170135498047.\n",
      "c:\\Users\\jerem\\miniconda3\\Lib\\site-packages\\keras\\src\\layers\\rnn\\rnn.py:199: UserWarning: Do not pass an `input_shape`/`input_dim` argument to a layer. When using Sequential models, prefer using an `Input(shape)` object as the first layer in the model instead.\n",
      "  super().__init__(**kwargs)\n"
     ]
    },
    {
     "name": "stdout",
     "output_type": "stream",
     "text": [
      "\u001b[1m4/4\u001b[0m \u001b[32m━━━━━━━━━━━━━━━━━━━━\u001b[0m\u001b[37m\u001b[0m \u001b[1m1s\u001b[0m 166ms/step\n"
     ]
    },
    {
     "name": "stderr",
     "output_type": "stream",
     "text": [
      "[I 2025-06-12 19:37:13,629] Trial 59 finished with value: 32.10676193237305 and parameters: {'lstm_units': 32, 'lstm_layers': 2, 'dropout_rate': 0.1, 'learning_rate': 0.002500151406107698, 'batch_size': 32, 'dense_units': 80, 'window_size': 40}. Best is trial 43 with value: 18.75170135498047.\n",
      "c:\\Users\\jerem\\miniconda3\\Lib\\site-packages\\keras\\src\\layers\\rnn\\rnn.py:199: UserWarning: Do not pass an `input_shape`/`input_dim` argument to a layer. When using Sequential models, prefer using an `Input(shape)` object as the first layer in the model instead.\n",
      "  super().__init__(**kwargs)\n"
     ]
    },
    {
     "name": "stdout",
     "output_type": "stream",
     "text": [
      "\u001b[1m4/4\u001b[0m \u001b[32m━━━━━━━━━━━━━━━━━━━━\u001b[0m\u001b[37m\u001b[0m \u001b[1m1s\u001b[0m 161ms/step\n"
     ]
    },
    {
     "name": "stderr",
     "output_type": "stream",
     "text": [
      "[I 2025-06-12 19:38:27,703] Trial 60 finished with value: 35.28004455566406 and parameters: {'lstm_units': 32, 'lstm_layers': 2, 'dropout_rate': 0.2, 'learning_rate': 0.0020628631116762094, 'batch_size': 32, 'dense_units': 64, 'window_size': 50}. Best is trial 43 with value: 18.75170135498047.\n",
      "c:\\Users\\jerem\\miniconda3\\Lib\\site-packages\\keras\\src\\layers\\rnn\\rnn.py:199: UserWarning: Do not pass an `input_shape`/`input_dim` argument to a layer. When using Sequential models, prefer using an `Input(shape)` object as the first layer in the model instead.\n",
      "  super().__init__(**kwargs)\n"
     ]
    },
    {
     "name": "stdout",
     "output_type": "stream",
     "text": [
      "\u001b[1m4/4\u001b[0m \u001b[32m━━━━━━━━━━━━━━━━━━━━\u001b[0m\u001b[37m\u001b[0m \u001b[1m1s\u001b[0m 151ms/step\n"
     ]
    },
    {
     "name": "stderr",
     "output_type": "stream",
     "text": [
      "[I 2025-06-12 19:39:17,520] Trial 61 finished with value: 19.22561264038086 and parameters: {'lstm_units': 32, 'lstm_layers': 2, 'dropout_rate': 0.2, 'learning_rate': 0.006496439560574298, 'batch_size': 32, 'dense_units': 96, 'window_size': 30}. Best is trial 43 with value: 18.75170135498047.\n",
      "c:\\Users\\jerem\\miniconda3\\Lib\\site-packages\\keras\\src\\layers\\rnn\\rnn.py:199: UserWarning: Do not pass an `input_shape`/`input_dim` argument to a layer. When using Sequential models, prefer using an `Input(shape)` object as the first layer in the model instead.\n",
      "  super().__init__(**kwargs)\n"
     ]
    },
    {
     "name": "stdout",
     "output_type": "stream",
     "text": [
      "\u001b[1m4/4\u001b[0m \u001b[32m━━━━━━━━━━━━━━━━━━━━\u001b[0m\u001b[37m\u001b[0m \u001b[1m1s\u001b[0m 166ms/step\n"
     ]
    },
    {
     "name": "stderr",
     "output_type": "stream",
     "text": [
      "[I 2025-06-12 19:40:06,988] Trial 62 finished with value: 22.5462703704834 and parameters: {'lstm_units': 32, 'lstm_layers': 2, 'dropout_rate': 0.2, 'learning_rate': 0.006222527562280306, 'batch_size': 32, 'dense_units': 80, 'window_size': 30}. Best is trial 43 with value: 18.75170135498047.\n",
      "c:\\Users\\jerem\\miniconda3\\Lib\\site-packages\\keras\\src\\layers\\rnn\\rnn.py:199: UserWarning: Do not pass an `input_shape`/`input_dim` argument to a layer. When using Sequential models, prefer using an `Input(shape)` object as the first layer in the model instead.\n",
      "  super().__init__(**kwargs)\n"
     ]
    },
    {
     "name": "stdout",
     "output_type": "stream",
     "text": [
      "\u001b[1m4/4\u001b[0m \u001b[32m━━━━━━━━━━━━━━━━━━━━\u001b[0m\u001b[37m\u001b[0m \u001b[1m1s\u001b[0m 144ms/step\n"
     ]
    },
    {
     "name": "stderr",
     "output_type": "stream",
     "text": [
      "[I 2025-06-12 19:40:54,636] Trial 63 finished with value: 23.452407836914062 and parameters: {'lstm_units': 32, 'lstm_layers': 2, 'dropout_rate': 0.1, 'learning_rate': 0.0029492428172068225, 'batch_size': 32, 'dense_units': 32, 'window_size': 30}. Best is trial 43 with value: 18.75170135498047.\n",
      "c:\\Users\\jerem\\miniconda3\\Lib\\site-packages\\keras\\src\\layers\\rnn\\rnn.py:199: UserWarning: Do not pass an `input_shape`/`input_dim` argument to a layer. When using Sequential models, prefer using an `Input(shape)` object as the first layer in the model instead.\n",
      "  super().__init__(**kwargs)\n"
     ]
    },
    {
     "name": "stdout",
     "output_type": "stream",
     "text": [
      "\u001b[1m4/4\u001b[0m \u001b[32m━━━━━━━━━━━━━━━━━━━━\u001b[0m\u001b[37m\u001b[0m \u001b[1m1s\u001b[0m 175ms/step\n"
     ]
    },
    {
     "name": "stderr",
     "output_type": "stream",
     "text": [
      "[I 2025-06-12 19:41:33,555] Trial 64 finished with value: 32.7009391784668 and parameters: {'lstm_units': 128, 'lstm_layers': 2, 'dropout_rate': 0.2, 'learning_rate': 0.007783136453427085, 'batch_size': 32, 'dense_units': 48, 'window_size': 40}. Best is trial 43 with value: 18.75170135498047.\n",
      "c:\\Users\\jerem\\miniconda3\\Lib\\site-packages\\keras\\src\\layers\\rnn\\rnn.py:199: UserWarning: Do not pass an `input_shape`/`input_dim` argument to a layer. When using Sequential models, prefer using an `Input(shape)` object as the first layer in the model instead.\n",
      "  super().__init__(**kwargs)\n"
     ]
    },
    {
     "name": "stdout",
     "output_type": "stream",
     "text": [
      "\u001b[1m4/4\u001b[0m \u001b[32m━━━━━━━━━━━━━━━━━━━━\u001b[0m\u001b[37m\u001b[0m \u001b[1m1s\u001b[0m 167ms/step\n"
     ]
    },
    {
     "name": "stderr",
     "output_type": "stream",
     "text": [
      "[I 2025-06-12 19:42:25,950] Trial 65 finished with value: 23.242197036743164 and parameters: {'lstm_units': 32, 'lstm_layers': 2, 'dropout_rate': 0.30000000000000004, 'learning_rate': 0.0038615083795460908, 'batch_size': 32, 'dense_units': 96, 'window_size': 30}. Best is trial 43 with value: 18.75170135498047.\n",
      "c:\\Users\\jerem\\miniconda3\\Lib\\site-packages\\keras\\src\\layers\\rnn\\rnn.py:199: UserWarning: Do not pass an `input_shape`/`input_dim` argument to a layer. When using Sequential models, prefer using an `Input(shape)` object as the first layer in the model instead.\n",
      "  super().__init__(**kwargs)\n"
     ]
    },
    {
     "name": "stdout",
     "output_type": "stream",
     "text": [
      "\u001b[1m4/4\u001b[0m \u001b[32m━━━━━━━━━━━━━━━━━━━━\u001b[0m\u001b[37m\u001b[0m \u001b[1m1s\u001b[0m 162ms/step\n"
     ]
    },
    {
     "name": "stderr",
     "output_type": "stream",
     "text": [
      "[I 2025-06-12 19:43:48,436] Trial 66 finished with value: 22.817157745361328 and parameters: {'lstm_units': 64, 'lstm_layers': 2, 'dropout_rate': 0.1, 'learning_rate': 0.005690846355174337, 'batch_size': 32, 'dense_units': 64, 'window_size': 40}. Best is trial 43 with value: 18.75170135498047.\n",
      "c:\\Users\\jerem\\miniconda3\\Lib\\site-packages\\keras\\src\\layers\\rnn\\rnn.py:199: UserWarning: Do not pass an `input_shape`/`input_dim` argument to a layer. When using Sequential models, prefer using an `Input(shape)` object as the first layer in the model instead.\n",
      "  super().__init__(**kwargs)\n"
     ]
    },
    {
     "name": "stdout",
     "output_type": "stream",
     "text": [
      "\u001b[1m8/8\u001b[0m \u001b[32m━━━━━━━━━━━━━━━━━━━━\u001b[0m\u001b[37m\u001b[0m \u001b[1m1s\u001b[0m 75ms/step\n"
     ]
    },
    {
     "name": "stderr",
     "output_type": "stream",
     "text": [
      "[I 2025-06-12 19:45:06,534] Trial 67 finished with value: 21.894922256469727 and parameters: {'lstm_units': 32, 'lstm_layers': 2, 'dropout_rate': 0.2, 'learning_rate': 0.004594926298248179, 'batch_size': 16, 'dense_units': 80, 'window_size': 30}. Best is trial 43 with value: 18.75170135498047.\n",
      "c:\\Users\\jerem\\miniconda3\\Lib\\site-packages\\keras\\src\\layers\\rnn\\rnn.py:199: UserWarning: Do not pass an `input_shape`/`input_dim` argument to a layer. When using Sequential models, prefer using an `Input(shape)` object as the first layer in the model instead.\n",
      "  super().__init__(**kwargs)\n"
     ]
    },
    {
     "name": "stdout",
     "output_type": "stream",
     "text": [
      "\u001b[1m4/4\u001b[0m \u001b[32m━━━━━━━━━━━━━━━━━━━━\u001b[0m\u001b[37m\u001b[0m \u001b[1m1s\u001b[0m 106ms/step\n"
     ]
    },
    {
     "name": "stderr",
     "output_type": "stream",
     "text": [
      "[I 2025-06-12 19:45:47,335] Trial 68 finished with value: 44.28732681274414 and parameters: {'lstm_units': 64, 'lstm_layers': 1, 'dropout_rate': 0.1, 'learning_rate': 0.0007444013363405818, 'batch_size': 32, 'dense_units': 64, 'window_size': 40}. Best is trial 43 with value: 18.75170135498047.\n",
      "c:\\Users\\jerem\\miniconda3\\Lib\\site-packages\\keras\\src\\layers\\rnn\\rnn.py:199: UserWarning: Do not pass an `input_shape`/`input_dim` argument to a layer. When using Sequential models, prefer using an `Input(shape)` object as the first layer in the model instead.\n",
      "  super().__init__(**kwargs)\n"
     ]
    },
    {
     "name": "stdout",
     "output_type": "stream",
     "text": [
      "\u001b[1m8/8\u001b[0m \u001b[32m━━━━━━━━━━━━━━━━━━━━\u001b[0m\u001b[37m\u001b[0m \u001b[1m1s\u001b[0m 91ms/step\n"
     ]
    },
    {
     "name": "stderr",
     "output_type": "stream",
     "text": [
      "[I 2025-06-12 19:47:44,094] Trial 69 finished with value: 20.110437393188477 and parameters: {'lstm_units': 32, 'lstm_layers': 2, 'dropout_rate': 0.2, 'learning_rate': 0.0033693805164427128, 'batch_size': 16, 'dense_units': 96, 'window_size': 40}. Best is trial 43 with value: 18.75170135498047.\n",
      "[I 2025-06-12 19:47:44,149] A new study created in memory with name: lstm_regression_study\n"
     ]
    },
    {
     "name": "stdout",
     "output_type": "stream",
     "text": [
      "Running LSTM study for bin 5, stock 12...\n"
     ]
    },
    {
     "name": "stderr",
     "output_type": "stream",
     "text": [
      "c:\\Users\\jerem\\miniconda3\\Lib\\site-packages\\keras\\src\\layers\\rnn\\rnn.py:199: UserWarning: Do not pass an `input_shape`/`input_dim` argument to a layer. When using Sequential models, prefer using an `Input(shape)` object as the first layer in the model instead.\n",
      "  super().__init__(**kwargs)\n"
     ]
    },
    {
     "name": "stdout",
     "output_type": "stream",
     "text": [
      "\u001b[1m4/4\u001b[0m \u001b[32m━━━━━━━━━━━━━━━━━━━━\u001b[0m\u001b[37m\u001b[0m \u001b[1m1s\u001b[0m 157ms/step\n"
     ]
    },
    {
     "name": "stderr",
     "output_type": "stream",
     "text": [
      "[I 2025-06-12 19:48:07,841] Trial 0 finished with value: 34.54826736450195 and parameters: {'lstm_units': 128, 'lstm_layers': 2, 'dropout_rate': 0.30000000000000004, 'learning_rate': 0.004283380796359132, 'batch_size': 32, 'dense_units': 80, 'window_size': 10}. Best is trial 0 with value: 34.54826736450195.\n",
      "c:\\Users\\jerem\\miniconda3\\Lib\\site-packages\\keras\\src\\layers\\rnn\\rnn.py:199: UserWarning: Do not pass an `input_shape`/`input_dim` argument to a layer. When using Sequential models, prefer using an `Input(shape)` object as the first layer in the model instead.\n",
      "  super().__init__(**kwargs)\n"
     ]
    },
    {
     "name": "stdout",
     "output_type": "stream",
     "text": [
      "\u001b[1m8/8\u001b[0m \u001b[32m━━━━━━━━━━━━━━━━━━━━\u001b[0m\u001b[37m\u001b[0m \u001b[1m1s\u001b[0m 45ms/step\n"
     ]
    },
    {
     "name": "stderr",
     "output_type": "stream",
     "text": [
      "[I 2025-06-12 19:48:48,028] Trial 1 finished with value: 29.884567260742188 and parameters: {'lstm_units': 64, 'lstm_layers': 1, 'dropout_rate': 0.30000000000000004, 'learning_rate': 0.0013824667318651797, 'batch_size': 16, 'dense_units': 128, 'window_size': 50}. Best is trial 1 with value: 29.884567260742188.\n",
      "c:\\Users\\jerem\\miniconda3\\Lib\\site-packages\\keras\\src\\layers\\rnn\\rnn.py:199: UserWarning: Do not pass an `input_shape`/`input_dim` argument to a layer. When using Sequential models, prefer using an `Input(shape)` object as the first layer in the model instead.\n",
      "  super().__init__(**kwargs)\n"
     ]
    },
    {
     "name": "stdout",
     "output_type": "stream",
     "text": [
      "\u001b[1m4/4\u001b[0m \u001b[32m━━━━━━━━━━━━━━━━━━━━\u001b[0m\u001b[37m\u001b[0m \u001b[1m1s\u001b[0m 93ms/step\n"
     ]
    },
    {
     "name": "stderr",
     "output_type": "stream",
     "text": [
      "[I 2025-06-12 19:49:17,274] Trial 2 finished with value: 29.49603843688965 and parameters: {'lstm_units': 128, 'lstm_layers': 1, 'dropout_rate': 0.30000000000000004, 'learning_rate': 0.004972430228091978, 'batch_size': 32, 'dense_units': 112, 'window_size': 30}. Best is trial 2 with value: 29.49603843688965.\n",
      "c:\\Users\\jerem\\miniconda3\\Lib\\site-packages\\keras\\src\\layers\\rnn\\rnn.py:199: UserWarning: Do not pass an `input_shape`/`input_dim` argument to a layer. When using Sequential models, prefer using an `Input(shape)` object as the first layer in the model instead.\n",
      "  super().__init__(**kwargs)\n"
     ]
    },
    {
     "name": "stdout",
     "output_type": "stream",
     "text": [
      "\u001b[1m8/8\u001b[0m \u001b[32m━━━━━━━━━━━━━━━━━━━━\u001b[0m\u001b[37m\u001b[0m \u001b[1m1s\u001b[0m 40ms/step\n"
     ]
    },
    {
     "name": "stderr",
     "output_type": "stream",
     "text": [
      "[I 2025-06-12 19:49:34,625] Trial 3 finished with value: 30.055496215820312 and parameters: {'lstm_units': 32, 'lstm_layers': 1, 'dropout_rate': 0.5, 'learning_rate': 0.0010819552539409, 'batch_size': 16, 'dense_units': 16, 'window_size': 20}. Best is trial 2 with value: 29.49603843688965.\n",
      "c:\\Users\\jerem\\miniconda3\\Lib\\site-packages\\keras\\src\\layers\\rnn\\rnn.py:199: UserWarning: Do not pass an `input_shape`/`input_dim` argument to a layer. When using Sequential models, prefer using an `Input(shape)` object as the first layer in the model instead.\n",
      "  super().__init__(**kwargs)\n"
     ]
    },
    {
     "name": "stdout",
     "output_type": "stream",
     "text": [
      "\u001b[1m4/4\u001b[0m \u001b[32m━━━━━━━━━━━━━━━━━━━━\u001b[0m\u001b[37m\u001b[0m \u001b[1m1s\u001b[0m 96ms/step\n"
     ]
    },
    {
     "name": "stderr",
     "output_type": "stream",
     "text": [
      "[I 2025-06-12 19:49:43,011] Trial 4 finished with value: 32.43616485595703 and parameters: {'lstm_units': 64, 'lstm_layers': 1, 'dropout_rate': 0.4, 'learning_rate': 0.001308304298933193, 'batch_size': 32, 'dense_units': 128, 'window_size': 20}. Best is trial 2 with value: 29.49603843688965.\n",
      "c:\\Users\\jerem\\miniconda3\\Lib\\site-packages\\keras\\src\\layers\\rnn\\rnn.py:199: UserWarning: Do not pass an `input_shape`/`input_dim` argument to a layer. When using Sequential models, prefer using an `Input(shape)` object as the first layer in the model instead.\n",
      "  super().__init__(**kwargs)\n"
     ]
    },
    {
     "name": "stdout",
     "output_type": "stream",
     "text": [
      "\u001b[1m4/4\u001b[0m \u001b[32m━━━━━━━━━━━━━━━━━━━━\u001b[0m\u001b[37m\u001b[0m \u001b[1m0s\u001b[0m 88ms/step\n"
     ]
    },
    {
     "name": "stderr",
     "output_type": "stream",
     "text": [
      "[I 2025-06-12 19:49:52,594] Trial 5 finished with value: 33.06432342529297 and parameters: {'lstm_units': 64, 'lstm_layers': 1, 'dropout_rate': 0.2, 'learning_rate': 0.00014578915749635465, 'batch_size': 32, 'dense_units': 112, 'window_size': 20}. Best is trial 2 with value: 29.49603843688965.\n",
      "c:\\Users\\jerem\\miniconda3\\Lib\\site-packages\\keras\\src\\layers\\rnn\\rnn.py:199: UserWarning: Do not pass an `input_shape`/`input_dim` argument to a layer. When using Sequential models, prefer using an `Input(shape)` object as the first layer in the model instead.\n",
      "  super().__init__(**kwargs)\n"
     ]
    },
    {
     "name": "stdout",
     "output_type": "stream",
     "text": [
      "\u001b[1m8/8\u001b[0m \u001b[32m━━━━━━━━━━━━━━━━━━━━\u001b[0m\u001b[37m\u001b[0m \u001b[1m1s\u001b[0m 54ms/step\n"
     ]
    },
    {
     "name": "stderr",
     "output_type": "stream",
     "text": [
      "[I 2025-06-12 19:50:10,263] Trial 6 finished with value: 32.190338134765625 and parameters: {'lstm_units': 96, 'lstm_layers': 1, 'dropout_rate': 0.30000000000000004, 'learning_rate': 0.006106864887457105, 'batch_size': 16, 'dense_units': 128, 'window_size': 60}. Best is trial 2 with value: 29.49603843688965.\n",
      "c:\\Users\\jerem\\miniconda3\\Lib\\site-packages\\keras\\src\\layers\\rnn\\rnn.py:199: UserWarning: Do not pass an `input_shape`/`input_dim` argument to a layer. When using Sequential models, prefer using an `Input(shape)` object as the first layer in the model instead.\n",
      "  super().__init__(**kwargs)\n"
     ]
    },
    {
     "name": "stdout",
     "output_type": "stream",
     "text": [
      "\u001b[1m4/4\u001b[0m \u001b[32m━━━━━━━━━━━━━━━━━━━━\u001b[0m\u001b[37m\u001b[0m \u001b[1m1s\u001b[0m 227ms/step\n"
     ]
    },
    {
     "name": "stderr",
     "output_type": "stream",
     "text": [
      "[I 2025-06-12 19:50:37,362] Trial 7 finished with value: 49.337181091308594 and parameters: {'lstm_units': 96, 'lstm_layers': 2, 'dropout_rate': 0.2, 'learning_rate': 0.0007169774670738845, 'batch_size': 32, 'dense_units': 96, 'window_size': 30}. Best is trial 2 with value: 29.49603843688965.\n",
      "c:\\Users\\jerem\\miniconda3\\Lib\\site-packages\\keras\\src\\layers\\rnn\\rnn.py:199: UserWarning: Do not pass an `input_shape`/`input_dim` argument to a layer. When using Sequential models, prefer using an `Input(shape)` object as the first layer in the model instead.\n",
      "  super().__init__(**kwargs)\n"
     ]
    },
    {
     "name": "stdout",
     "output_type": "stream",
     "text": [
      "\u001b[1m8/8\u001b[0m \u001b[32m━━━━━━━━━━━━━━━━━━━━\u001b[0m\u001b[37m\u001b[0m \u001b[1m1s\u001b[0m 43ms/step\n"
     ]
    },
    {
     "name": "stderr",
     "output_type": "stream",
     "text": [
      "[I 2025-06-12 19:50:56,610] Trial 8 finished with value: 26.840612411499023 and parameters: {'lstm_units': 64, 'lstm_layers': 1, 'dropout_rate': 0.5, 'learning_rate': 0.00027872559422508105, 'batch_size': 16, 'dense_units': 16, 'window_size': 60}. Best is trial 8 with value: 26.840612411499023.\n",
      "c:\\Users\\jerem\\miniconda3\\Lib\\site-packages\\keras\\src\\layers\\rnn\\rnn.py:199: UserWarning: Do not pass an `input_shape`/`input_dim` argument to a layer. When using Sequential models, prefer using an `Input(shape)` object as the first layer in the model instead.\n",
      "  super().__init__(**kwargs)\n"
     ]
    },
    {
     "name": "stdout",
     "output_type": "stream",
     "text": [
      "\u001b[1m8/8\u001b[0m \u001b[32m━━━━━━━━━━━━━━━━━━━━\u001b[0m\u001b[37m\u001b[0m \u001b[1m1s\u001b[0m 37ms/step\n"
     ]
    },
    {
     "name": "stderr",
     "output_type": "stream",
     "text": [
      "[I 2025-06-12 19:51:09,224] Trial 9 finished with value: 34.60309600830078 and parameters: {'lstm_units': 96, 'lstm_layers': 1, 'dropout_rate': 0.2, 'learning_rate': 0.00552745313422857, 'batch_size': 16, 'dense_units': 32, 'window_size': 10}. Best is trial 8 with value: 26.840612411499023.\n",
      "c:\\Users\\jerem\\miniconda3\\Lib\\site-packages\\keras\\src\\layers\\rnn\\rnn.py:199: UserWarning: Do not pass an `input_shape`/`input_dim` argument to a layer. When using Sequential models, prefer using an `Input(shape)` object as the first layer in the model instead.\n",
      "  super().__init__(**kwargs)\n"
     ]
    },
    {
     "name": "stdout",
     "output_type": "stream",
     "text": [
      "\u001b[1m8/8\u001b[0m \u001b[32m━━━━━━━━━━━━━━━━━━━━\u001b[0m\u001b[37m\u001b[0m \u001b[1m1s\u001b[0m 68ms/step\n"
     ]
    },
    {
     "name": "stderr",
     "output_type": "stream",
     "text": [
      "[I 2025-06-12 19:51:37,430] Trial 10 finished with value: 47.135982513427734 and parameters: {'lstm_units': 32, 'lstm_layers': 2, 'dropout_rate': 0.5, 'learning_rate': 0.00017601981223171884, 'batch_size': 16, 'dense_units': 48, 'window_size': 50}. Best is trial 8 with value: 26.840612411499023.\n",
      "c:\\Users\\jerem\\miniconda3\\Lib\\site-packages\\keras\\src\\layers\\rnn\\rnn.py:199: UserWarning: Do not pass an `input_shape`/`input_dim` argument to a layer. When using Sequential models, prefer using an `Input(shape)` object as the first layer in the model instead.\n",
      "  super().__init__(**kwargs)\n"
     ]
    },
    {
     "name": "stdout",
     "output_type": "stream",
     "text": [
      "\u001b[1m4/4\u001b[0m \u001b[32m━━━━━━━━━━━━━━━━━━━━\u001b[0m\u001b[37m\u001b[0m \u001b[1m1s\u001b[0m 95ms/step\n"
     ]
    },
    {
     "name": "stderr",
     "output_type": "stream",
     "text": [
      "[I 2025-06-12 19:51:52,361] Trial 11 finished with value: 30.285799026489258 and parameters: {'lstm_units': 128, 'lstm_layers': 1, 'dropout_rate': 0.0, 'learning_rate': 0.0003270823378887044, 'batch_size': 32, 'dense_units': 64, 'window_size': 40}. Best is trial 8 with value: 26.840612411499023.\n",
      "c:\\Users\\jerem\\miniconda3\\Lib\\site-packages\\keras\\src\\layers\\rnn\\rnn.py:199: UserWarning: Do not pass an `input_shape`/`input_dim` argument to a layer. When using Sequential models, prefer using an `Input(shape)` object as the first layer in the model instead.\n",
      "  super().__init__(**kwargs)\n"
     ]
    },
    {
     "name": "stdout",
     "output_type": "stream",
     "text": [
      "\u001b[1m4/4\u001b[0m \u001b[32m━━━━━━━━━━━━━━━━━━━━\u001b[0m\u001b[37m\u001b[0m \u001b[1m1s\u001b[0m 94ms/step\n"
     ]
    },
    {
     "name": "stderr",
     "output_type": "stream",
     "text": [
      "[I 2025-06-12 19:52:23,578] Trial 12 finished with value: 34.79168701171875 and parameters: {'lstm_units': 128, 'lstm_layers': 1, 'dropout_rate': 0.0, 'learning_rate': 0.00037999162077870447, 'batch_size': 32, 'dense_units': 80, 'window_size': 40}. Best is trial 8 with value: 26.840612411499023.\n",
      "c:\\Users\\jerem\\miniconda3\\Lib\\site-packages\\keras\\src\\layers\\rnn\\rnn.py:199: UserWarning: Do not pass an `input_shape`/`input_dim` argument to a layer. When using Sequential models, prefer using an `Input(shape)` object as the first layer in the model instead.\n",
      "  super().__init__(**kwargs)\n"
     ]
    },
    {
     "name": "stdout",
     "output_type": "stream",
     "text": [
      "\u001b[1m8/8\u001b[0m \u001b[32m━━━━━━━━━━━━━━━━━━━━\u001b[0m\u001b[37m\u001b[0m \u001b[1m1s\u001b[0m 46ms/step\n"
     ]
    },
    {
     "name": "stderr",
     "output_type": "stream",
     "text": [
      "[I 2025-06-12 19:53:00,580] Trial 13 finished with value: 36.79576873779297 and parameters: {'lstm_units': 64, 'lstm_layers': 1, 'dropout_rate': 0.4, 'learning_rate': 0.00981248669256913, 'batch_size': 16, 'dense_units': 16, 'window_size': 60}. Best is trial 8 with value: 26.840612411499023.\n",
      "c:\\Users\\jerem\\miniconda3\\Lib\\site-packages\\keras\\src\\layers\\rnn\\rnn.py:199: UserWarning: Do not pass an `input_shape`/`input_dim` argument to a layer. When using Sequential models, prefer using an `Input(shape)` object as the first layer in the model instead.\n",
      "  super().__init__(**kwargs)\n"
     ]
    },
    {
     "name": "stdout",
     "output_type": "stream",
     "text": [
      "\u001b[1m8/8\u001b[0m \u001b[32m━━━━━━━━━━━━━━━━━━━━\u001b[0m\u001b[37m\u001b[0m \u001b[1m1s\u001b[0m 72ms/step\n"
     ]
    },
    {
     "name": "stderr",
     "output_type": "stream",
     "text": [
      "[I 2025-06-12 19:53:21,049] Trial 14 finished with value: 46.57592010498047 and parameters: {'lstm_units': 96, 'lstm_layers': 2, 'dropout_rate': 0.1, 'learning_rate': 0.0023169199143468103, 'batch_size': 16, 'dense_units': 96, 'window_size': 30}. Best is trial 8 with value: 26.840612411499023.\n",
      "c:\\Users\\jerem\\miniconda3\\Lib\\site-packages\\keras\\src\\layers\\rnn\\rnn.py:199: UserWarning: Do not pass an `input_shape`/`input_dim` argument to a layer. When using Sequential models, prefer using an `Input(shape)` object as the first layer in the model instead.\n",
      "  super().__init__(**kwargs)\n"
     ]
    },
    {
     "name": "stdout",
     "output_type": "stream",
     "text": [
      "\u001b[1m4/4\u001b[0m \u001b[32m━━━━━━━━━━━━━━━━━━━━\u001b[0m\u001b[37m\u001b[0m \u001b[1m1s\u001b[0m 84ms/step\n"
     ]
    },
    {
     "name": "stderr",
     "output_type": "stream",
     "text": [
      "[I 2025-06-12 19:53:34,680] Trial 15 finished with value: 29.875272750854492 and parameters: {'lstm_units': 32, 'lstm_layers': 1, 'dropout_rate': 0.4, 'learning_rate': 0.0004418834260614135, 'batch_size': 32, 'dense_units': 48, 'window_size': 50}. Best is trial 8 with value: 26.840612411499023.\n",
      "c:\\Users\\jerem\\miniconda3\\Lib\\site-packages\\keras\\src\\layers\\rnn\\rnn.py:199: UserWarning: Do not pass an `input_shape`/`input_dim` argument to a layer. When using Sequential models, prefer using an `Input(shape)` object as the first layer in the model instead.\n",
      "  super().__init__(**kwargs)\n"
     ]
    },
    {
     "name": "stdout",
     "output_type": "stream",
     "text": [
      "\u001b[1m8/8\u001b[0m \u001b[32m━━━━━━━━━━━━━━━━━━━━\u001b[0m\u001b[37m\u001b[0m \u001b[1m1s\u001b[0m 48ms/step\n"
     ]
    },
    {
     "name": "stderr",
     "output_type": "stream",
     "text": [
      "[I 2025-06-12 19:54:00,049] Trial 16 finished with value: 29.081703186035156 and parameters: {'lstm_units': 128, 'lstm_layers': 1, 'dropout_rate': 0.5, 'learning_rate': 0.0023435508599075274, 'batch_size': 16, 'dense_units': 64, 'window_size': 40}. Best is trial 8 with value: 26.840612411499023.\n",
      "c:\\Users\\jerem\\miniconda3\\Lib\\site-packages\\keras\\src\\layers\\rnn\\rnn.py:199: UserWarning: Do not pass an `input_shape`/`input_dim` argument to a layer. When using Sequential models, prefer using an `Input(shape)` object as the first layer in the model instead.\n",
      "  super().__init__(**kwargs)\n"
     ]
    },
    {
     "name": "stdout",
     "output_type": "stream",
     "text": [
      "\u001b[1m8/8\u001b[0m \u001b[32m━━━━━━━━━━━━━━━━━━━━\u001b[0m\u001b[37m\u001b[0m \u001b[1m2s\u001b[0m 124ms/step\n"
     ]
    },
    {
     "name": "stderr",
     "output_type": "stream",
     "text": [
      "[I 2025-06-12 19:54:40,079] Trial 17 finished with value: 48.108516693115234 and parameters: {'lstm_units': 96, 'lstm_layers': 2, 'dropout_rate': 0.5, 'learning_rate': 0.002746228975663275, 'batch_size': 16, 'dense_units': 48, 'window_size': 60}. Best is trial 8 with value: 26.840612411499023.\n",
      "c:\\Users\\jerem\\miniconda3\\Lib\\site-packages\\keras\\src\\layers\\rnn\\rnn.py:199: UserWarning: Do not pass an `input_shape`/`input_dim` argument to a layer. When using Sequential models, prefer using an `Input(shape)` object as the first layer in the model instead.\n",
      "  super().__init__(**kwargs)\n"
     ]
    },
    {
     "name": "stdout",
     "output_type": "stream",
     "text": [
      "\u001b[1m8/8\u001b[0m \u001b[32m━━━━━━━━━━━━━━━━━━━━\u001b[0m\u001b[37m\u001b[0m \u001b[1m1s\u001b[0m 43ms/step\n"
     ]
    },
    {
     "name": "stderr",
     "output_type": "stream",
     "text": [
      "[I 2025-06-12 19:55:05,345] Trial 18 finished with value: 28.240266799926758 and parameters: {'lstm_units': 64, 'lstm_layers': 1, 'dropout_rate': 0.5, 'learning_rate': 0.0006948163047307244, 'batch_size': 16, 'dense_units': 32, 'window_size': 40}. Best is trial 8 with value: 26.840612411499023.\n",
      "c:\\Users\\jerem\\miniconda3\\Lib\\site-packages\\keras\\src\\layers\\rnn\\rnn.py:199: UserWarning: Do not pass an `input_shape`/`input_dim` argument to a layer. When using Sequential models, prefer using an `Input(shape)` object as the first layer in the model instead.\n",
      "  super().__init__(**kwargs)\n"
     ]
    },
    {
     "name": "stdout",
     "output_type": "stream",
     "text": [
      "\u001b[1m8/8\u001b[0m \u001b[32m━━━━━━━━━━━━━━━━━━━━\u001b[0m\u001b[37m\u001b[0m \u001b[1m1s\u001b[0m 45ms/step\n"
     ]
    },
    {
     "name": "stderr",
     "output_type": "stream",
     "text": [
      "[I 2025-06-12 19:55:36,716] Trial 19 finished with value: 32.830543518066406 and parameters: {'lstm_units': 64, 'lstm_layers': 1, 'dropout_rate': 0.4, 'learning_rate': 0.00022759282522006062, 'batch_size': 16, 'dense_units': 32, 'window_size': 50}. Best is trial 8 with value: 26.840612411499023.\n",
      "c:\\Users\\jerem\\miniconda3\\Lib\\site-packages\\keras\\src\\layers\\rnn\\rnn.py:199: UserWarning: Do not pass an `input_shape`/`input_dim` argument to a layer. When using Sequential models, prefer using an `Input(shape)` object as the first layer in the model instead.\n",
      "  super().__init__(**kwargs)\n"
     ]
    },
    {
     "name": "stdout",
     "output_type": "stream",
     "text": [
      "\u001b[1m8/8\u001b[0m \u001b[32m━━━━━━━━━━━━━━━━━━━━\u001b[0m\u001b[37m\u001b[0m \u001b[1m1s\u001b[0m 74ms/step\n"
     ]
    },
    {
     "name": "stderr",
     "output_type": "stream",
     "text": [
      "[I 2025-06-12 19:55:58,279] Trial 20 finished with value: 23.58138656616211 and parameters: {'lstm_units': 32, 'lstm_layers': 2, 'dropout_rate': 0.5, 'learning_rate': 0.0006340989478592912, 'batch_size': 16, 'dense_units': 32, 'window_size': 60}. Best is trial 20 with value: 23.58138656616211.\n",
      "c:\\Users\\jerem\\miniconda3\\Lib\\site-packages\\keras\\src\\layers\\rnn\\rnn.py:199: UserWarning: Do not pass an `input_shape`/`input_dim` argument to a layer. When using Sequential models, prefer using an `Input(shape)` object as the first layer in the model instead.\n",
      "  super().__init__(**kwargs)\n"
     ]
    },
    {
     "name": "stdout",
     "output_type": "stream",
     "text": [
      "\u001b[1m8/8\u001b[0m \u001b[32m━━━━━━━━━━━━━━━━━━━━\u001b[0m\u001b[37m\u001b[0m \u001b[1m1s\u001b[0m 76ms/step\n"
     ]
    },
    {
     "name": "stderr",
     "output_type": "stream",
     "text": [
      "[I 2025-06-12 19:56:19,976] Trial 21 finished with value: 26.009363174438477 and parameters: {'lstm_units': 32, 'lstm_layers': 2, 'dropout_rate': 0.5, 'learning_rate': 0.0007142068033529408, 'batch_size': 16, 'dense_units': 32, 'window_size': 60}. Best is trial 20 with value: 23.58138656616211.\n",
      "c:\\Users\\jerem\\miniconda3\\Lib\\site-packages\\keras\\src\\layers\\rnn\\rnn.py:199: UserWarning: Do not pass an `input_shape`/`input_dim` argument to a layer. When using Sequential models, prefer using an `Input(shape)` object as the first layer in the model instead.\n",
      "  super().__init__(**kwargs)\n"
     ]
    },
    {
     "name": "stdout",
     "output_type": "stream",
     "text": [
      "\u001b[1m8/8\u001b[0m \u001b[32m━━━━━━━━━━━━━━━━━━━━\u001b[0m\u001b[37m\u001b[0m \u001b[1m1s\u001b[0m 79ms/step\n"
     ]
    },
    {
     "name": "stderr",
     "output_type": "stream",
     "text": [
      "[I 2025-06-12 19:57:02,193] Trial 22 finished with value: 36.95001983642578 and parameters: {'lstm_units': 32, 'lstm_layers': 2, 'dropout_rate': 0.4, 'learning_rate': 0.0005852571524718431, 'batch_size': 16, 'dense_units': 16, 'window_size': 60}. Best is trial 20 with value: 23.58138656616211.\n",
      "c:\\Users\\jerem\\miniconda3\\Lib\\site-packages\\keras\\src\\layers\\rnn\\rnn.py:199: UserWarning: Do not pass an `input_shape`/`input_dim` argument to a layer. When using Sequential models, prefer using an `Input(shape)` object as the first layer in the model instead.\n",
      "  super().__init__(**kwargs)\n"
     ]
    },
    {
     "name": "stdout",
     "output_type": "stream",
     "text": [
      "\u001b[1m8/8\u001b[0m \u001b[32m━━━━━━━━━━━━━━━━━━━━\u001b[0m\u001b[37m\u001b[0m \u001b[1m1s\u001b[0m 76ms/step\n"
     ]
    },
    {
     "name": "stderr",
     "output_type": "stream",
     "text": [
      "[I 2025-06-12 19:57:29,860] Trial 23 finished with value: 52.909366607666016 and parameters: {'lstm_units': 32, 'lstm_layers': 2, 'dropout_rate': 0.5, 'learning_rate': 0.0002788037111731255, 'batch_size': 16, 'dense_units': 32, 'window_size': 60}. Best is trial 20 with value: 23.58138656616211.\n",
      "c:\\Users\\jerem\\miniconda3\\Lib\\site-packages\\keras\\src\\layers\\rnn\\rnn.py:199: UserWarning: Do not pass an `input_shape`/`input_dim` argument to a layer. When using Sequential models, prefer using an `Input(shape)` object as the first layer in the model instead.\n",
      "  super().__init__(**kwargs)\n"
     ]
    },
    {
     "name": "stdout",
     "output_type": "stream",
     "text": [
      "\u001b[1m8/8\u001b[0m \u001b[32m━━━━━━━━━━━━━━━━━━━━\u001b[0m\u001b[37m\u001b[0m \u001b[1m1s\u001b[0m 84ms/step\n"
     ]
    },
    {
     "name": "stderr",
     "output_type": "stream",
     "text": [
      "[I 2025-06-12 19:58:04,127] Trial 24 finished with value: 38.88788986206055 and parameters: {'lstm_units': 32, 'lstm_layers': 2, 'dropout_rate': 0.4, 'learning_rate': 0.00010048150299674933, 'batch_size': 16, 'dense_units': 16, 'window_size': 50}. Best is trial 20 with value: 23.58138656616211.\n",
      "c:\\Users\\jerem\\miniconda3\\Lib\\site-packages\\keras\\src\\layers\\rnn\\rnn.py:199: UserWarning: Do not pass an `input_shape`/`input_dim` argument to a layer. When using Sequential models, prefer using an `Input(shape)` object as the first layer in the model instead.\n",
      "  super().__init__(**kwargs)\n"
     ]
    },
    {
     "name": "stdout",
     "output_type": "stream",
     "text": [
      "\u001b[1m8/8\u001b[0m \u001b[32m━━━━━━━━━━━━━━━━━━━━\u001b[0m\u001b[37m\u001b[0m \u001b[1m1s\u001b[0m 115ms/step\n"
     ]
    },
    {
     "name": "stderr",
     "output_type": "stream",
     "text": [
      "[I 2025-06-12 19:58:28,827] Trial 25 finished with value: 65.47809600830078 and parameters: {'lstm_units': 32, 'lstm_layers': 2, 'dropout_rate': 0.5, 'learning_rate': 0.0005098296124340542, 'batch_size': 16, 'dense_units': 48, 'window_size': 60}. Best is trial 20 with value: 23.58138656616211.\n",
      "c:\\Users\\jerem\\miniconda3\\Lib\\site-packages\\keras\\src\\layers\\rnn\\rnn.py:199: UserWarning: Do not pass an `input_shape`/`input_dim` argument to a layer. When using Sequential models, prefer using an `Input(shape)` object as the first layer in the model instead.\n",
      "  super().__init__(**kwargs)\n"
     ]
    },
    {
     "name": "stdout",
     "output_type": "stream",
     "text": [
      "\u001b[1m8/8\u001b[0m \u001b[32m━━━━━━━━━━━━━━━━━━━━\u001b[0m\u001b[37m\u001b[0m \u001b[1m1s\u001b[0m 72ms/step\n"
     ]
    },
    {
     "name": "stderr",
     "output_type": "stream",
     "text": [
      "[I 2025-06-12 19:58:51,044] Trial 26 finished with value: 23.45645523071289 and parameters: {'lstm_units': 32, 'lstm_layers': 2, 'dropout_rate': 0.5, 'learning_rate': 0.0008416392580603198, 'batch_size': 16, 'dense_units': 32, 'window_size': 50}. Best is trial 26 with value: 23.45645523071289.\n",
      "c:\\Users\\jerem\\miniconda3\\Lib\\site-packages\\keras\\src\\layers\\rnn\\rnn.py:199: UserWarning: Do not pass an `input_shape`/`input_dim` argument to a layer. When using Sequential models, prefer using an `Input(shape)` object as the first layer in the model instead.\n",
      "  super().__init__(**kwargs)\n"
     ]
    },
    {
     "name": "stdout",
     "output_type": "stream",
     "text": [
      "\u001b[1m8/8\u001b[0m \u001b[32m━━━━━━━━━━━━━━━━━━━━\u001b[0m\u001b[37m\u001b[0m \u001b[1m1s\u001b[0m 72ms/step\n"
     ]
    },
    {
     "name": "stderr",
     "output_type": "stream",
     "text": [
      "[I 2025-06-12 19:59:10,412] Trial 27 finished with value: 41.274200439453125 and parameters: {'lstm_units': 32, 'lstm_layers': 2, 'dropout_rate': 0.4, 'learning_rate': 0.0009560318090777065, 'batch_size': 16, 'dense_units': 32, 'window_size': 50}. Best is trial 26 with value: 23.45645523071289.\n",
      "c:\\Users\\jerem\\miniconda3\\Lib\\site-packages\\keras\\src\\layers\\rnn\\rnn.py:199: UserWarning: Do not pass an `input_shape`/`input_dim` argument to a layer. When using Sequential models, prefer using an `Input(shape)` object as the first layer in the model instead.\n",
      "  super().__init__(**kwargs)\n"
     ]
    },
    {
     "name": "stdout",
     "output_type": "stream",
     "text": [
      "\u001b[1m8/8\u001b[0m \u001b[32m━━━━━━━━━━━━━━━━━━━━\u001b[0m\u001b[37m\u001b[0m \u001b[1m1s\u001b[0m 81ms/step\n"
     ]
    },
    {
     "name": "stderr",
     "output_type": "stream",
     "text": [
      "[I 2025-06-12 19:59:48,351] Trial 28 finished with value: 46.642066955566406 and parameters: {'lstm_units': 32, 'lstm_layers': 2, 'dropout_rate': 0.1, 'learning_rate': 0.0016988704563007206, 'batch_size': 16, 'dense_units': 64, 'window_size': 50}. Best is trial 26 with value: 23.45645523071289.\n",
      "c:\\Users\\jerem\\miniconda3\\Lib\\site-packages\\keras\\src\\layers\\rnn\\rnn.py:199: UserWarning: Do not pass an `input_shape`/`input_dim` argument to a layer. When using Sequential models, prefer using an `Input(shape)` object as the first layer in the model instead.\n",
      "  super().__init__(**kwargs)\n"
     ]
    },
    {
     "name": "stdout",
     "output_type": "stream",
     "text": [
      "\u001b[1m8/8\u001b[0m \u001b[32m━━━━━━━━━━━━━━━━━━━━\u001b[0m\u001b[37m\u001b[0m \u001b[1m1s\u001b[0m 80ms/step\n"
     ]
    },
    {
     "name": "stderr",
     "output_type": "stream",
     "text": [
      "[I 2025-06-12 20:00:11,862] Trial 29 finished with value: 22.538293838500977 and parameters: {'lstm_units': 32, 'lstm_layers': 2, 'dropout_rate': 0.30000000000000004, 'learning_rate': 0.0008209650305884277, 'batch_size': 16, 'dense_units': 48, 'window_size': 60}. Best is trial 29 with value: 22.538293838500977.\n",
      "c:\\Users\\jerem\\miniconda3\\Lib\\site-packages\\keras\\src\\layers\\rnn\\rnn.py:199: UserWarning: Do not pass an `input_shape`/`input_dim` argument to a layer. When using Sequential models, prefer using an `Input(shape)` object as the first layer in the model instead.\n",
      "  super().__init__(**kwargs)\n"
     ]
    },
    {
     "name": "stdout",
     "output_type": "stream",
     "text": [
      "\u001b[1m8/8\u001b[0m \u001b[32m━━━━━━━━━━━━━━━━━━━━\u001b[0m\u001b[37m\u001b[0m \u001b[1m1s\u001b[0m 70ms/step\n"
     ]
    },
    {
     "name": "stderr",
     "output_type": "stream",
     "text": [
      "[I 2025-06-12 20:00:31,495] Trial 30 finished with value: 55.389892578125 and parameters: {'lstm_units': 32, 'lstm_layers': 2, 'dropout_rate': 0.30000000000000004, 'learning_rate': 0.0010297082893652777, 'batch_size': 16, 'dense_units': 48, 'window_size': 50}. Best is trial 29 with value: 22.538293838500977.\n",
      "c:\\Users\\jerem\\miniconda3\\Lib\\site-packages\\keras\\src\\layers\\rnn\\rnn.py:199: UserWarning: Do not pass an `input_shape`/`input_dim` argument to a layer. When using Sequential models, prefer using an `Input(shape)` object as the first layer in the model instead.\n",
      "  super().__init__(**kwargs)\n"
     ]
    },
    {
     "name": "stdout",
     "output_type": "stream",
     "text": [
      "\u001b[1m8/8\u001b[0m \u001b[32m━━━━━━━━━━━━━━━━━━━━\u001b[0m\u001b[37m\u001b[0m \u001b[1m1s\u001b[0m 77ms/step\n"
     ]
    },
    {
     "name": "stderr",
     "output_type": "stream",
     "text": [
      "[I 2025-06-12 20:00:54,396] Trial 31 finished with value: 22.493175506591797 and parameters: {'lstm_units': 32, 'lstm_layers': 2, 'dropout_rate': 0.5, 'learning_rate': 0.0008346097987150763, 'batch_size': 16, 'dense_units': 32, 'window_size': 60}. Best is trial 31 with value: 22.493175506591797.\n",
      "c:\\Users\\jerem\\miniconda3\\Lib\\site-packages\\keras\\src\\layers\\rnn\\rnn.py:199: UserWarning: Do not pass an `input_shape`/`input_dim` argument to a layer. When using Sequential models, prefer using an `Input(shape)` object as the first layer in the model instead.\n",
      "  super().__init__(**kwargs)\n"
     ]
    },
    {
     "name": "stdout",
     "output_type": "stream",
     "text": [
      "\u001b[1m8/8\u001b[0m \u001b[32m━━━━━━━━━━━━━━━━━━━━\u001b[0m\u001b[37m\u001b[0m \u001b[1m1s\u001b[0m 80ms/step\n"
     ]
    },
    {
     "name": "stderr",
     "output_type": "stream",
     "text": [
      "[I 2025-06-12 20:01:41,730] Trial 32 finished with value: 52.66047286987305 and parameters: {'lstm_units': 32, 'lstm_layers': 2, 'dropout_rate': 0.4, 'learning_rate': 0.001722436383313771, 'batch_size': 16, 'dense_units': 48, 'window_size': 60}. Best is trial 31 with value: 22.493175506591797.\n",
      "c:\\Users\\jerem\\miniconda3\\Lib\\site-packages\\keras\\src\\layers\\rnn\\rnn.py:199: UserWarning: Do not pass an `input_shape`/`input_dim` argument to a layer. When using Sequential models, prefer using an `Input(shape)` object as the first layer in the model instead.\n",
      "  super().__init__(**kwargs)\n"
     ]
    },
    {
     "name": "stdout",
     "output_type": "stream",
     "text": [
      "\u001b[1m8/8\u001b[0m \u001b[32m━━━━━━━━━━━━━━━━━━━━\u001b[0m\u001b[37m\u001b[0m \u001b[1m1s\u001b[0m 74ms/step\n"
     ]
    },
    {
     "name": "stderr",
     "output_type": "stream",
     "text": [
      "[I 2025-06-12 20:02:03,681] Trial 33 finished with value: 27.645456314086914 and parameters: {'lstm_units': 32, 'lstm_layers': 2, 'dropout_rate': 0.30000000000000004, 'learning_rate': 0.0008449486115889138, 'batch_size': 16, 'dense_units': 32, 'window_size': 60}. Best is trial 31 with value: 22.493175506591797.\n",
      "c:\\Users\\jerem\\miniconda3\\Lib\\site-packages\\keras\\src\\layers\\rnn\\rnn.py:199: UserWarning: Do not pass an `input_shape`/`input_dim` argument to a layer. When using Sequential models, prefer using an `Input(shape)` object as the first layer in the model instead.\n",
      "  super().__init__(**kwargs)\n"
     ]
    },
    {
     "name": "stdout",
     "output_type": "stream",
     "text": [
      "\u001b[1m8/8\u001b[0m \u001b[32m━━━━━━━━━━━━━━━━━━━━\u001b[0m\u001b[37m\u001b[0m \u001b[1m1s\u001b[0m 88ms/step\n"
     ]
    },
    {
     "name": "stderr",
     "output_type": "stream",
     "text": [
      "[I 2025-06-12 20:02:54,240] Trial 34 finished with value: 40.05060577392578 and parameters: {'lstm_units': 64, 'lstm_layers': 2, 'dropout_rate': 0.1, 'learning_rate': 0.001430593164400876, 'batch_size': 16, 'dense_units': 64, 'window_size': 50}. Best is trial 31 with value: 22.493175506591797.\n",
      "c:\\Users\\jerem\\miniconda3\\Lib\\site-packages\\keras\\src\\layers\\rnn\\rnn.py:199: UserWarning: Do not pass an `input_shape`/`input_dim` argument to a layer. When using Sequential models, prefer using an `Input(shape)` object as the first layer in the model instead.\n",
      "  super().__init__(**kwargs)\n"
     ]
    },
    {
     "name": "stdout",
     "output_type": "stream",
     "text": [
      "\u001b[1m8/8\u001b[0m \u001b[32m━━━━━━━━━━━━━━━━━━━━\u001b[0m\u001b[37m\u001b[0m \u001b[1m1s\u001b[0m 72ms/step\n"
     ]
    },
    {
     "name": "stderr",
     "output_type": "stream",
     "text": [
      "[I 2025-06-12 20:03:19,316] Trial 35 finished with value: 39.3591423034668 and parameters: {'lstm_units': 32, 'lstm_layers': 2, 'dropout_rate': 0.5, 'learning_rate': 0.0004814449475538073, 'batch_size': 16, 'dense_units': 16, 'window_size': 60}. Best is trial 31 with value: 22.493175506591797.\n",
      "c:\\Users\\jerem\\miniconda3\\Lib\\site-packages\\keras\\src\\layers\\rnn\\rnn.py:199: UserWarning: Do not pass an `input_shape`/`input_dim` argument to a layer. When using Sequential models, prefer using an `Input(shape)` object as the first layer in the model instead.\n",
      "  super().__init__(**kwargs)\n"
     ]
    },
    {
     "name": "stdout",
     "output_type": "stream",
     "text": [
      "\u001b[1m8/8\u001b[0m \u001b[32m━━━━━━━━━━━━━━━━━━━━\u001b[0m\u001b[37m\u001b[0m \u001b[1m1s\u001b[0m 74ms/step\n"
     ]
    },
    {
     "name": "stderr",
     "output_type": "stream",
     "text": [
      "[I 2025-06-12 20:04:19,282] Trial 36 finished with value: 43.683902740478516 and parameters: {'lstm_units': 64, 'lstm_layers': 2, 'dropout_rate': 0.4, 'learning_rate': 0.0011713276167775108, 'batch_size': 16, 'dense_units': 48, 'window_size': 60}. Best is trial 31 with value: 22.493175506591797.\n",
      "c:\\Users\\jerem\\miniconda3\\Lib\\site-packages\\keras\\src\\layers\\rnn\\rnn.py:199: UserWarning: Do not pass an `input_shape`/`input_dim` argument to a layer. When using Sequential models, prefer using an `Input(shape)` object as the first layer in the model instead.\n",
      "  super().__init__(**kwargs)\n"
     ]
    },
    {
     "name": "stdout",
     "output_type": "stream",
     "text": [
      "\u001b[1m8/8\u001b[0m \u001b[32m━━━━━━━━━━━━━━━━━━━━\u001b[0m\u001b[37m\u001b[0m \u001b[1m1s\u001b[0m 69ms/step\n"
     ]
    },
    {
     "name": "stderr",
     "output_type": "stream",
     "text": [
      "[I 2025-06-12 20:04:40,841] Trial 37 finished with value: 68.14984130859375 and parameters: {'lstm_units': 32, 'lstm_layers': 2, 'dropout_rate': 0.5, 'learning_rate': 0.000603535561206347, 'batch_size': 16, 'dense_units': 80, 'window_size': 50}. Best is trial 31 with value: 22.493175506591797.\n",
      "c:\\Users\\jerem\\miniconda3\\Lib\\site-packages\\keras\\src\\layers\\rnn\\rnn.py:199: UserWarning: Do not pass an `input_shape`/`input_dim` argument to a layer. When using Sequential models, prefer using an `Input(shape)` object as the first layer in the model instead.\n",
      "  super().__init__(**kwargs)\n"
     ]
    },
    {
     "name": "stdout",
     "output_type": "stream",
     "text": [
      "\u001b[1m4/4\u001b[0m \u001b[32m━━━━━━━━━━━━━━━━━━━━\u001b[0m\u001b[37m\u001b[0m \u001b[1m1s\u001b[0m 160ms/step\n"
     ]
    },
    {
     "name": "stderr",
     "output_type": "stream",
     "text": [
      "[I 2025-06-12 20:04:58,850] Trial 38 finished with value: 30.78799819946289 and parameters: {'lstm_units': 32, 'lstm_layers': 2, 'dropout_rate': 0.30000000000000004, 'learning_rate': 0.0008823733813264368, 'batch_size': 32, 'dense_units': 32, 'window_size': 60}. Best is trial 31 with value: 22.493175506591797.\n",
      "c:\\Users\\jerem\\miniconda3\\Lib\\site-packages\\keras\\src\\layers\\rnn\\rnn.py:199: UserWarning: Do not pass an `input_shape`/`input_dim` argument to a layer. When using Sequential models, prefer using an `Input(shape)` object as the first layer in the model instead.\n",
      "  super().__init__(**kwargs)\n"
     ]
    },
    {
     "name": "stdout",
     "output_type": "stream",
     "text": [
      "\u001b[1m8/8\u001b[0m \u001b[32m━━━━━━━━━━━━━━━━━━━━\u001b[0m\u001b[37m\u001b[0m \u001b[1m1s\u001b[0m 86ms/step\n"
     ]
    },
    {
     "name": "stderr",
     "output_type": "stream",
     "text": [
      "[I 2025-06-12 20:05:58,332] Trial 39 finished with value: 55.92644119262695 and parameters: {'lstm_units': 64, 'lstm_layers': 2, 'dropout_rate': 0.2, 'learning_rate': 0.0013378334710357216, 'batch_size': 16, 'dense_units': 16, 'window_size': 50}. Best is trial 31 with value: 22.493175506591797.\n",
      "c:\\Users\\jerem\\miniconda3\\Lib\\site-packages\\keras\\src\\layers\\rnn\\rnn.py:199: UserWarning: Do not pass an `input_shape`/`input_dim` argument to a layer. When using Sequential models, prefer using an `Input(shape)` object as the first layer in the model instead.\n",
      "  super().__init__(**kwargs)\n"
     ]
    },
    {
     "name": "stdout",
     "output_type": "stream",
     "text": [
      "\u001b[1m8/8\u001b[0m \u001b[32m━━━━━━━━━━━━━━━━━━━━\u001b[0m\u001b[37m\u001b[0m \u001b[1m1s\u001b[0m 67ms/step\n"
     ]
    },
    {
     "name": "stderr",
     "output_type": "stream",
     "text": [
      "[I 2025-06-12 20:06:23,334] Trial 40 finished with value: 48.8975715637207 and parameters: {'lstm_units': 32, 'lstm_layers': 2, 'dropout_rate': 0.30000000000000004, 'learning_rate': 0.0032399090605732066, 'batch_size': 16, 'dense_units': 32, 'window_size': 40}. Best is trial 31 with value: 22.493175506591797.\n",
      "c:\\Users\\jerem\\miniconda3\\Lib\\site-packages\\keras\\src\\layers\\rnn\\rnn.py:199: UserWarning: Do not pass an `input_shape`/`input_dim` argument to a layer. When using Sequential models, prefer using an `Input(shape)` object as the first layer in the model instead.\n",
      "  super().__init__(**kwargs)\n"
     ]
    },
    {
     "name": "stdout",
     "output_type": "stream",
     "text": [
      "\u001b[1m8/8\u001b[0m \u001b[32m━━━━━━━━━━━━━━━━━━━━\u001b[0m\u001b[37m\u001b[0m \u001b[1m1s\u001b[0m 74ms/step\n"
     ]
    },
    {
     "name": "stderr",
     "output_type": "stream",
     "text": [
      "[I 2025-06-12 20:06:46,834] Trial 41 finished with value: 25.46763038635254 and parameters: {'lstm_units': 32, 'lstm_layers': 2, 'dropout_rate': 0.5, 'learning_rate': 0.0006662400669688194, 'batch_size': 16, 'dense_units': 32, 'window_size': 60}. Best is trial 31 with value: 22.493175506591797.\n",
      "c:\\Users\\jerem\\miniconda3\\Lib\\site-packages\\keras\\src\\layers\\rnn\\rnn.py:199: UserWarning: Do not pass an `input_shape`/`input_dim` argument to a layer. When using Sequential models, prefer using an `Input(shape)` object as the first layer in the model instead.\n",
      "  super().__init__(**kwargs)\n"
     ]
    },
    {
     "name": "stdout",
     "output_type": "stream",
     "text": [
      "\u001b[1m8/8\u001b[0m \u001b[32m━━━━━━━━━━━━━━━━━━━━\u001b[0m\u001b[37m\u001b[0m \u001b[1m1s\u001b[0m 79ms/step\n"
     ]
    },
    {
     "name": "stderr",
     "output_type": "stream",
     "text": [
      "[I 2025-06-12 20:07:25,883] Trial 42 finished with value: 44.24544906616211 and parameters: {'lstm_units': 32, 'lstm_layers': 2, 'dropout_rate': 0.5, 'learning_rate': 0.0008271579794478136, 'batch_size': 16, 'dense_units': 48, 'window_size': 60}. Best is trial 31 with value: 22.493175506591797.\n",
      "c:\\Users\\jerem\\miniconda3\\Lib\\site-packages\\keras\\src\\layers\\rnn\\rnn.py:199: UserWarning: Do not pass an `input_shape`/`input_dim` argument to a layer. When using Sequential models, prefer using an `Input(shape)` object as the first layer in the model instead.\n",
      "  super().__init__(**kwargs)\n"
     ]
    },
    {
     "name": "stdout",
     "output_type": "stream",
     "text": [
      "\u001b[1m8/8\u001b[0m \u001b[32m━━━━━━━━━━━━━━━━━━━━\u001b[0m\u001b[37m\u001b[0m \u001b[1m1s\u001b[0m 76ms/step\n"
     ]
    },
    {
     "name": "stderr",
     "output_type": "stream",
     "text": [
      "[I 2025-06-12 20:07:51,950] Trial 43 finished with value: 37.39336013793945 and parameters: {'lstm_units': 32, 'lstm_layers': 2, 'dropout_rate': 0.5, 'learning_rate': 0.00038911596034561146, 'batch_size': 16, 'dense_units': 32, 'window_size': 60}. Best is trial 31 with value: 22.493175506591797.\n",
      "c:\\Users\\jerem\\miniconda3\\Lib\\site-packages\\keras\\src\\layers\\rnn\\rnn.py:199: UserWarning: Do not pass an `input_shape`/`input_dim` argument to a layer. When using Sequential models, prefer using an `Input(shape)` object as the first layer in the model instead.\n",
      "  super().__init__(**kwargs)\n"
     ]
    },
    {
     "name": "stdout",
     "output_type": "stream",
     "text": [
      "\u001b[1m8/8\u001b[0m \u001b[32m━━━━━━━━━━━━━━━━━━━━\u001b[0m\u001b[37m\u001b[0m \u001b[1m1s\u001b[0m 77ms/step\n"
     ]
    },
    {
     "name": "stderr",
     "output_type": "stream",
     "text": [
      "[I 2025-06-12 20:08:15,484] Trial 44 finished with value: 64.5833511352539 and parameters: {'lstm_units': 32, 'lstm_layers': 2, 'dropout_rate': 0.4, 'learning_rate': 0.0005765674731130114, 'batch_size': 16, 'dense_units': 16, 'window_size': 60}. Best is trial 31 with value: 22.493175506591797.\n",
      "c:\\Users\\jerem\\miniconda3\\Lib\\site-packages\\keras\\src\\layers\\rnn\\rnn.py:199: UserWarning: Do not pass an `input_shape`/`input_dim` argument to a layer. When using Sequential models, prefer using an `Input(shape)` object as the first layer in the model instead.\n",
      "  super().__init__(**kwargs)\n"
     ]
    },
    {
     "name": "stdout",
     "output_type": "stream",
     "text": [
      "\u001b[1m4/4\u001b[0m \u001b[32m━━━━━━━━━━━━━━━━━━━━\u001b[0m\u001b[37m\u001b[0m \u001b[1m1s\u001b[0m 159ms/step\n"
     ]
    },
    {
     "name": "stderr",
     "output_type": "stream",
     "text": [
      "[I 2025-06-12 20:08:35,800] Trial 45 finished with value: 52.71783447265625 and parameters: {'lstm_units': 64, 'lstm_layers': 2, 'dropout_rate': 0.5, 'learning_rate': 0.0017279281452984348, 'batch_size': 32, 'dense_units': 32, 'window_size': 20}. Best is trial 31 with value: 22.493175506591797.\n",
      "c:\\Users\\jerem\\miniconda3\\Lib\\site-packages\\keras\\src\\layers\\rnn\\rnn.py:199: UserWarning: Do not pass an `input_shape`/`input_dim` argument to a layer. When using Sequential models, prefer using an `Input(shape)` object as the first layer in the model instead.\n",
      "  super().__init__(**kwargs)\n"
     ]
    },
    {
     "name": "stdout",
     "output_type": "stream",
     "text": [
      "\u001b[1m8/8\u001b[0m \u001b[32m━━━━━━━━━━━━━━━━━━━━\u001b[0m\u001b[37m\u001b[0m \u001b[1m1s\u001b[0m 74ms/step\n"
     ]
    },
    {
     "name": "stderr",
     "output_type": "stream",
     "text": [
      "[I 2025-06-12 20:08:56,301] Trial 46 finished with value: 33.42192840576172 and parameters: {'lstm_units': 32, 'lstm_layers': 2, 'dropout_rate': 0.4, 'learning_rate': 0.0010892708747335534, 'batch_size': 16, 'dense_units': 48, 'window_size': 50}. Best is trial 31 with value: 22.493175506591797.\n",
      "c:\\Users\\jerem\\miniconda3\\Lib\\site-packages\\keras\\src\\layers\\rnn\\rnn.py:199: UserWarning: Do not pass an `input_shape`/`input_dim` argument to a layer. When using Sequential models, prefer using an `Input(shape)` object as the first layer in the model instead.\n",
      "  super().__init__(**kwargs)\n"
     ]
    },
    {
     "name": "stdout",
     "output_type": "stream",
     "text": [
      "\u001b[1m8/8\u001b[0m \u001b[32m━━━━━━━━━━━━━━━━━━━━\u001b[0m\u001b[37m\u001b[0m \u001b[1m1s\u001b[0m 79ms/step\n"
     ]
    },
    {
     "name": "stderr",
     "output_type": "stream",
     "text": [
      "[I 2025-06-12 20:09:17,801] Trial 47 finished with value: 22.544891357421875 and parameters: {'lstm_units': 32, 'lstm_layers': 2, 'dropout_rate': 0.5, 'learning_rate': 0.0007367100838056008, 'batch_size': 16, 'dense_units': 16, 'window_size': 60}. Best is trial 31 with value: 22.493175506591797.\n",
      "c:\\Users\\jerem\\miniconda3\\Lib\\site-packages\\keras\\src\\layers\\rnn\\rnn.py:199: UserWarning: Do not pass an `input_shape`/`input_dim` argument to a layer. When using Sequential models, prefer using an `Input(shape)` object as the first layer in the model instead.\n",
      "  super().__init__(**kwargs)\n"
     ]
    },
    {
     "name": "stdout",
     "output_type": "stream",
     "text": [
      "\u001b[1m4/4\u001b[0m \u001b[32m━━━━━━━━━━━━━━━━━━━━\u001b[0m\u001b[37m\u001b[0m \u001b[1m1s\u001b[0m 178ms/step\n"
     ]
    },
    {
     "name": "stderr",
     "output_type": "stream",
     "text": [
      "[I 2025-06-12 20:09:38,668] Trial 48 finished with value: 58.43467712402344 and parameters: {'lstm_units': 64, 'lstm_layers': 2, 'dropout_rate': 0.5, 'learning_rate': 0.0003917971348058045, 'batch_size': 32, 'dense_units': 16, 'window_size': 60}. Best is trial 31 with value: 22.493175506591797.\n",
      "c:\\Users\\jerem\\miniconda3\\Lib\\site-packages\\keras\\src\\layers\\rnn\\rnn.py:199: UserWarning: Do not pass an `input_shape`/`input_dim` argument to a layer. When using Sequential models, prefer using an `Input(shape)` object as the first layer in the model instead.\n",
      "  super().__init__(**kwargs)\n"
     ]
    },
    {
     "name": "stdout",
     "output_type": "stream",
     "text": [
      "\u001b[1m8/8\u001b[0m \u001b[32m━━━━━━━━━━━━━━━━━━━━\u001b[0m\u001b[37m\u001b[0m \u001b[1m1s\u001b[0m 69ms/step\n"
     ]
    },
    {
     "name": "stderr",
     "output_type": "stream",
     "text": [
      "[I 2025-06-12 20:09:53,352] Trial 49 finished with value: 22.496383666992188 and parameters: {'lstm_units': 32, 'lstm_layers': 2, 'dropout_rate': 0.4, 'learning_rate': 0.0008070696150564704, 'batch_size': 16, 'dense_units': 16, 'window_size': 30}. Best is trial 31 with value: 22.493175506591797.\n",
      "c:\\Users\\jerem\\miniconda3\\Lib\\site-packages\\keras\\src\\layers\\rnn\\rnn.py:199: UserWarning: Do not pass an `input_shape`/`input_dim` argument to a layer. When using Sequential models, prefer using an `Input(shape)` object as the first layer in the model instead.\n",
      "  super().__init__(**kwargs)\n"
     ]
    },
    {
     "name": "stdout",
     "output_type": "stream",
     "text": [
      "\u001b[1m8/8\u001b[0m \u001b[32m━━━━━━━━━━━━━━━━━━━━\u001b[0m\u001b[37m\u001b[0m \u001b[1m1s\u001b[0m 78ms/step\n"
     ]
    },
    {
     "name": "stderr",
     "output_type": "stream",
     "text": [
      "[I 2025-06-12 20:10:23,352] Trial 50 finished with value: 41.436622619628906 and parameters: {'lstm_units': 64, 'lstm_layers': 2, 'dropout_rate': 0.30000000000000004, 'learning_rate': 0.0008153000063856674, 'batch_size': 16, 'dense_units': 16, 'window_size': 30}. Best is trial 31 with value: 22.493175506591797.\n",
      "c:\\Users\\jerem\\miniconda3\\Lib\\site-packages\\keras\\src\\layers\\rnn\\rnn.py:199: UserWarning: Do not pass an `input_shape`/`input_dim` argument to a layer. When using Sequential models, prefer using an `Input(shape)` object as the first layer in the model instead.\n",
      "  super().__init__(**kwargs)\n"
     ]
    },
    {
     "name": "stdout",
     "output_type": "stream",
     "text": [
      "\u001b[1m8/8\u001b[0m \u001b[32m━━━━━━━━━━━━━━━━━━━━\u001b[0m\u001b[37m\u001b[0m \u001b[1m1s\u001b[0m 76ms/step\n"
     ]
    },
    {
     "name": "stderr",
     "output_type": "stream",
     "text": [
      "[I 2025-06-12 20:10:39,952] Trial 51 finished with value: 49.54935073852539 and parameters: {'lstm_units': 32, 'lstm_layers': 2, 'dropout_rate': 0.4, 'learning_rate': 0.0011625549551789961, 'batch_size': 16, 'dense_units': 16, 'window_size': 20}. Best is trial 31 with value: 22.493175506591797.\n",
      "c:\\Users\\jerem\\miniconda3\\Lib\\site-packages\\keras\\src\\layers\\rnn\\rnn.py:199: UserWarning: Do not pass an `input_shape`/`input_dim` argument to a layer. When using Sequential models, prefer using an `Input(shape)` object as the first layer in the model instead.\n",
      "  super().__init__(**kwargs)\n"
     ]
    },
    {
     "name": "stdout",
     "output_type": "stream",
     "text": [
      "\u001b[1m8/8\u001b[0m \u001b[32m━━━━━━━━━━━━━━━━━━━━\u001b[0m\u001b[37m\u001b[0m \u001b[1m1s\u001b[0m 74ms/step\n"
     ]
    },
    {
     "name": "stderr",
     "output_type": "stream",
     "text": [
      "[I 2025-06-12 20:10:56,471] Trial 52 finished with value: 61.060218811035156 and parameters: {'lstm_units': 32, 'lstm_layers': 2, 'dropout_rate': 0.5, 'learning_rate': 0.0005216554320652692, 'batch_size': 16, 'dense_units': 16, 'window_size': 30}. Best is trial 31 with value: 22.493175506591797.\n",
      "c:\\Users\\jerem\\miniconda3\\Lib\\site-packages\\keras\\src\\layers\\rnn\\rnn.py:199: UserWarning: Do not pass an `input_shape`/`input_dim` argument to a layer. When using Sequential models, prefer using an `Input(shape)` object as the first layer in the model instead.\n",
      "  super().__init__(**kwargs)\n"
     ]
    },
    {
     "name": "stdout",
     "output_type": "stream",
     "text": [
      "\u001b[1m8/8\u001b[0m \u001b[32m━━━━━━━━━━━━━━━━━━━━\u001b[0m\u001b[37m\u001b[0m \u001b[1m1s\u001b[0m 76ms/step\n"
     ]
    },
    {
     "name": "stderr",
     "output_type": "stream",
     "text": [
      "[I 2025-06-12 20:11:08,153] Trial 53 finished with value: 24.579187393188477 and parameters: {'lstm_units': 32, 'lstm_layers': 2, 'dropout_rate': 0.4, 'learning_rate': 0.0007649525823088359, 'batch_size': 16, 'dense_units': 32, 'window_size': 10}. Best is trial 31 with value: 22.493175506591797.\n",
      "c:\\Users\\jerem\\miniconda3\\Lib\\site-packages\\keras\\src\\layers\\rnn\\rnn.py:199: UserWarning: Do not pass an `input_shape`/`input_dim` argument to a layer. When using Sequential models, prefer using an `Input(shape)` object as the first layer in the model instead.\n",
      "  super().__init__(**kwargs)\n"
     ]
    },
    {
     "name": "stdout",
     "output_type": "stream",
     "text": [
      "\u001b[1m8/8\u001b[0m \u001b[32m━━━━━━━━━━━━━━━━━━━━\u001b[0m\u001b[37m\u001b[0m \u001b[1m1s\u001b[0m 73ms/step\n"
     ]
    },
    {
     "name": "stderr",
     "output_type": "stream",
     "text": [
      "[I 2025-06-12 20:11:22,986] Trial 54 finished with value: 80.34900665283203 and parameters: {'lstm_units': 32, 'lstm_layers': 2, 'dropout_rate': 0.5, 'learning_rate': 0.001437636023220218, 'batch_size': 16, 'dense_units': 16, 'window_size': 30}. Best is trial 31 with value: 22.493175506591797.\n",
      "c:\\Users\\jerem\\miniconda3\\Lib\\site-packages\\keras\\src\\layers\\rnn\\rnn.py:199: UserWarning: Do not pass an `input_shape`/`input_dim` argument to a layer. When using Sequential models, prefer using an `Input(shape)` object as the first layer in the model instead.\n",
      "  super().__init__(**kwargs)\n"
     ]
    },
    {
     "name": "stdout",
     "output_type": "stream",
     "text": [
      "\u001b[1m8/8\u001b[0m \u001b[32m━━━━━━━━━━━━━━━━━━━━\u001b[0m\u001b[37m\u001b[0m \u001b[1m1s\u001b[0m 74ms/step\n"
     ]
    },
    {
     "name": "stderr",
     "output_type": "stream",
     "text": [
      "[I 2025-06-12 20:11:45,187] Trial 55 finished with value: 57.6402587890625 and parameters: {'lstm_units': 32, 'lstm_layers': 2, 'dropout_rate': 0.5, 'learning_rate': 0.00031208654553658476, 'batch_size': 16, 'dense_units': 32, 'window_size': 40}. Best is trial 31 with value: 22.493175506591797.\n",
      "c:\\Users\\jerem\\miniconda3\\Lib\\site-packages\\keras\\src\\layers\\rnn\\rnn.py:199: UserWarning: Do not pass an `input_shape`/`input_dim` argument to a layer. When using Sequential models, prefer using an `Input(shape)` object as the first layer in the model instead.\n",
      "  super().__init__(**kwargs)\n"
     ]
    },
    {
     "name": "stdout",
     "output_type": "stream",
     "text": [
      "\u001b[1m4/4\u001b[0m \u001b[32m━━━━━━━━━━━━━━━━━━━━\u001b[0m\u001b[37m\u001b[0m \u001b[1m1s\u001b[0m 160ms/step\n"
     ]
    },
    {
     "name": "stderr",
     "output_type": "stream",
     "text": [
      "[I 2025-06-12 20:12:06,757] Trial 56 finished with value: 34.87660598754883 and parameters: {'lstm_units': 32, 'lstm_layers': 2, 'dropout_rate': 0.2, 'learning_rate': 0.0004476396355715114, 'batch_size': 32, 'dense_units': 112, 'window_size': 60}. Best is trial 31 with value: 22.493175506591797.\n",
      "c:\\Users\\jerem\\miniconda3\\Lib\\site-packages\\keras\\src\\layers\\rnn\\rnn.py:199: UserWarning: Do not pass an `input_shape`/`input_dim` argument to a layer. When using Sequential models, prefer using an `Input(shape)` object as the first layer in the model instead.\n",
      "  super().__init__(**kwargs)\n"
     ]
    },
    {
     "name": "stdout",
     "output_type": "stream",
     "text": [
      "\u001b[1m8/8\u001b[0m \u001b[32m━━━━━━━━━━━━━━━━━━━━\u001b[0m\u001b[37m\u001b[0m \u001b[1m1s\u001b[0m 70ms/step\n"
     ]
    },
    {
     "name": "stderr",
     "output_type": "stream",
     "text": [
      "[I 2025-06-12 20:12:34,065] Trial 57 finished with value: 41.50672149658203 and parameters: {'lstm_units': 32, 'lstm_layers': 2, 'dropout_rate': 0.4, 'learning_rate': 0.0006487631751540785, 'batch_size': 16, 'dense_units': 16, 'window_size': 30}. Best is trial 31 with value: 22.493175506591797.\n",
      "c:\\Users\\jerem\\miniconda3\\Lib\\site-packages\\keras\\src\\layers\\rnn\\rnn.py:199: UserWarning: Do not pass an `input_shape`/`input_dim` argument to a layer. When using Sequential models, prefer using an `Input(shape)` object as the first layer in the model instead.\n",
      "  super().__init__(**kwargs)\n"
     ]
    },
    {
     "name": "stdout",
     "output_type": "stream",
     "text": [
      "\u001b[1m8/8\u001b[0m \u001b[32m━━━━━━━━━━━━━━━━━━━━\u001b[0m\u001b[37m\u001b[0m \u001b[1m1s\u001b[0m 68ms/step\n"
     ]
    },
    {
     "name": "stderr",
     "output_type": "stream",
     "text": [
      "[I 2025-06-12 20:12:53,404] Trial 58 finished with value: 23.371885299682617 and parameters: {'lstm_units': 32, 'lstm_layers': 2, 'dropout_rate': 0.5, 'learning_rate': 0.000949892860472713, 'batch_size': 16, 'dense_units': 96, 'window_size': 50}. Best is trial 31 with value: 22.493175506591797.\n",
      "c:\\Users\\jerem\\miniconda3\\Lib\\site-packages\\keras\\src\\layers\\rnn\\rnn.py:199: UserWarning: Do not pass an `input_shape`/`input_dim` argument to a layer. When using Sequential models, prefer using an `Input(shape)` object as the first layer in the model instead.\n",
      "  super().__init__(**kwargs)\n"
     ]
    },
    {
     "name": "stdout",
     "output_type": "stream",
     "text": [
      "\u001b[1m8/8\u001b[0m \u001b[32m━━━━━━━━━━━━━━━━━━━━\u001b[0m\u001b[37m\u001b[0m \u001b[1m1s\u001b[0m 76ms/step\n"
     ]
    },
    {
     "name": "stderr",
     "output_type": "stream",
     "text": [
      "[I 2025-06-12 20:13:32,973] Trial 59 finished with value: 45.70248031616211 and parameters: {'lstm_units': 96, 'lstm_layers': 2, 'dropout_rate': 0.4, 'learning_rate': 0.0010237611722948069, 'batch_size': 16, 'dense_units': 128, 'window_size': 40}. Best is trial 31 with value: 22.493175506591797.\n",
      "c:\\Users\\jerem\\miniconda3\\Lib\\site-packages\\keras\\src\\layers\\rnn\\rnn.py:199: UserWarning: Do not pass an `input_shape`/`input_dim` argument to a layer. When using Sequential models, prefer using an `Input(shape)` object as the first layer in the model instead.\n",
      "  super().__init__(**kwargs)\n"
     ]
    },
    {
     "name": "stdout",
     "output_type": "stream",
     "text": [
      "\u001b[1m8/8\u001b[0m \u001b[32m━━━━━━━━━━━━━━━━━━━━\u001b[0m\u001b[37m\u001b[0m \u001b[1m1s\u001b[0m 81ms/step\n"
     ]
    },
    {
     "name": "stderr",
     "output_type": "stream",
     "text": [
      "[I 2025-06-12 20:14:08,944] Trial 60 finished with value: 54.77452087402344 and parameters: {'lstm_units': 32, 'lstm_layers': 2, 'dropout_rate': 0.5, 'learning_rate': 0.0020781047221661237, 'batch_size': 16, 'dense_units': 96, 'window_size': 50}. Best is trial 31 with value: 22.493175506591797.\n",
      "c:\\Users\\jerem\\miniconda3\\Lib\\site-packages\\keras\\src\\layers\\rnn\\rnn.py:199: UserWarning: Do not pass an `input_shape`/`input_dim` argument to a layer. When using Sequential models, prefer using an `Input(shape)` object as the first layer in the model instead.\n",
      "  super().__init__(**kwargs)\n"
     ]
    },
    {
     "name": "stdout",
     "output_type": "stream",
     "text": [
      "\u001b[1m8/8\u001b[0m \u001b[32m━━━━━━━━━━━━━━━━━━━━\u001b[0m\u001b[37m\u001b[0m \u001b[1m1s\u001b[0m 100ms/step\n"
     ]
    },
    {
     "name": "stderr",
     "output_type": "stream",
     "text": [
      "[I 2025-06-12 20:14:31,722] Trial 61 finished with value: 34.87766647338867 and parameters: {'lstm_units': 32, 'lstm_layers': 2, 'dropout_rate': 0.5, 'learning_rate': 0.0009198075829520208, 'batch_size': 16, 'dense_units': 64, 'window_size': 60}. Best is trial 31 with value: 22.493175506591797.\n",
      "c:\\Users\\jerem\\miniconda3\\Lib\\site-packages\\keras\\src\\layers\\rnn\\rnn.py:199: UserWarning: Do not pass an `input_shape`/`input_dim` argument to a layer. When using Sequential models, prefer using an `Input(shape)` object as the first layer in the model instead.\n",
      "  super().__init__(**kwargs)\n"
     ]
    },
    {
     "name": "stdout",
     "output_type": "stream",
     "text": [
      "\u001b[1m8/8\u001b[0m \u001b[32m━━━━━━━━━━━━━━━━━━━━\u001b[0m\u001b[37m\u001b[0m \u001b[1m1s\u001b[0m 72ms/step\n"
     ]
    },
    {
     "name": "stderr",
     "output_type": "stream",
     "text": [
      "[I 2025-06-12 20:15:12,195] Trial 62 finished with value: 46.58061218261719 and parameters: {'lstm_units': 32, 'lstm_layers': 2, 'dropout_rate': 0.5, 'learning_rate': 0.0007343907842096208, 'batch_size': 16, 'dense_units': 80, 'window_size': 50}. Best is trial 31 with value: 22.493175506591797.\n",
      "c:\\Users\\jerem\\miniconda3\\Lib\\site-packages\\keras\\src\\layers\\rnn\\rnn.py:199: UserWarning: Do not pass an `input_shape`/`input_dim` argument to a layer. When using Sequential models, prefer using an `Input(shape)` object as the first layer in the model instead.\n",
      "  super().__init__(**kwargs)\n"
     ]
    },
    {
     "name": "stdout",
     "output_type": "stream",
     "text": [
      "\u001b[1m8/8\u001b[0m \u001b[32m━━━━━━━━━━━━━━━━━━━━\u001b[0m\u001b[37m\u001b[0m \u001b[1m1s\u001b[0m 72ms/step\n"
     ]
    },
    {
     "name": "stderr",
     "output_type": "stream",
     "text": [
      "[I 2025-06-12 20:15:36,442] Trial 63 finished with value: 55.68675994873047 and parameters: {'lstm_units': 32, 'lstm_layers': 2, 'dropout_rate': 0.5, 'learning_rate': 0.0005399960611969226, 'batch_size': 16, 'dense_units': 96, 'window_size': 60}. Best is trial 31 with value: 22.493175506591797.\n",
      "c:\\Users\\jerem\\miniconda3\\Lib\\site-packages\\keras\\src\\layers\\rnn\\rnn.py:199: UserWarning: Do not pass an `input_shape`/`input_dim` argument to a layer. When using Sequential models, prefer using an `Input(shape)` object as the first layer in the model instead.\n",
      "  super().__init__(**kwargs)\n"
     ]
    },
    {
     "name": "stdout",
     "output_type": "stream",
     "text": [
      "\u001b[1m8/8\u001b[0m \u001b[32m━━━━━━━━━━━━━━━━━━━━\u001b[0m\u001b[37m\u001b[0m \u001b[1m1s\u001b[0m 68ms/step\n"
     ]
    },
    {
     "name": "stderr",
     "output_type": "stream",
     "text": [
      "[I 2025-06-12 20:15:53,978] Trial 64 finished with value: 44.88502883911133 and parameters: {'lstm_units': 32, 'lstm_layers': 2, 'dropout_rate': 0.5, 'learning_rate': 0.0011935990385414782, 'batch_size': 16, 'dense_units': 112, 'window_size': 40}. Best is trial 31 with value: 22.493175506591797.\n",
      "c:\\Users\\jerem\\miniconda3\\Lib\\site-packages\\keras\\src\\layers\\rnn\\rnn.py:199: UserWarning: Do not pass an `input_shape`/`input_dim` argument to a layer. When using Sequential models, prefer using an `Input(shape)` object as the first layer in the model instead.\n",
      "  super().__init__(**kwargs)\n"
     ]
    },
    {
     "name": "stdout",
     "output_type": "stream",
     "text": [
      "\u001b[1m8/8\u001b[0m \u001b[32m━━━━━━━━━━━━━━━━━━━━\u001b[0m\u001b[37m\u001b[0m \u001b[1m1s\u001b[0m 70ms/step\n"
     ]
    },
    {
     "name": "stderr",
     "output_type": "stream",
     "text": [
      "[I 2025-06-12 20:16:12,745] Trial 65 finished with value: 38.76225280761719 and parameters: {'lstm_units': 32, 'lstm_layers': 2, 'dropout_rate': 0.4, 'learning_rate': 0.0009265400539006962, 'batch_size': 16, 'dense_units': 48, 'window_size': 50}. Best is trial 31 with value: 22.493175506591797.\n",
      "c:\\Users\\jerem\\miniconda3\\Lib\\site-packages\\keras\\src\\layers\\rnn\\rnn.py:199: UserWarning: Do not pass an `input_shape`/`input_dim` argument to a layer. When using Sequential models, prefer using an `Input(shape)` object as the first layer in the model instead.\n",
      "  super().__init__(**kwargs)\n"
     ]
    },
    {
     "name": "stdout",
     "output_type": "stream",
     "text": [
      "\u001b[1m8/8\u001b[0m \u001b[32m━━━━━━━━━━━━━━━━━━━━\u001b[0m\u001b[37m\u001b[0m \u001b[1m1s\u001b[0m 69ms/step\n"
     ]
    },
    {
     "name": "stderr",
     "output_type": "stream",
     "text": [
      "[I 2025-06-12 20:16:36,314] Trial 66 finished with value: 55.41321563720703 and parameters: {'lstm_units': 32, 'lstm_layers': 2, 'dropout_rate': 0.5, 'learning_rate': 0.0006340936688016288, 'batch_size': 16, 'dense_units': 96, 'window_size': 60}. Best is trial 31 with value: 22.493175506591797.\n",
      "c:\\Users\\jerem\\miniconda3\\Lib\\site-packages\\keras\\src\\layers\\rnn\\rnn.py:199: UserWarning: Do not pass an `input_shape`/`input_dim` argument to a layer. When using Sequential models, prefer using an `Input(shape)` object as the first layer in the model instead.\n",
      "  super().__init__(**kwargs)\n"
     ]
    },
    {
     "name": "stdout",
     "output_type": "stream",
     "text": [
      "\u001b[1m8/8\u001b[0m \u001b[32m━━━━━━━━━━━━━━━━━━━━\u001b[0m\u001b[37m\u001b[0m \u001b[1m1s\u001b[0m 78ms/step\n"
     ]
    },
    {
     "name": "stderr",
     "output_type": "stream",
     "text": [
      "[I 2025-06-12 20:17:19,679] Trial 67 finished with value: 44.30033874511719 and parameters: {'lstm_units': 128, 'lstm_layers': 2, 'dropout_rate': 0.5, 'learning_rate': 0.0007560068244530244, 'batch_size': 16, 'dense_units': 32, 'window_size': 30}. Best is trial 31 with value: 22.493175506591797.\n",
      "c:\\Users\\jerem\\miniconda3\\Lib\\site-packages\\keras\\src\\layers\\rnn\\rnn.py:199: UserWarning: Do not pass an `input_shape`/`input_dim` argument to a layer. When using Sequential models, prefer using an `Input(shape)` object as the first layer in the model instead.\n",
      "  super().__init__(**kwargs)\n"
     ]
    },
    {
     "name": "stdout",
     "output_type": "stream",
     "text": [
      "\u001b[1m8/8\u001b[0m \u001b[32m━━━━━━━━━━━━━━━━━━━━\u001b[0m\u001b[37m\u001b[0m \u001b[1m1s\u001b[0m 72ms/step\n"
     ]
    },
    {
     "name": "stderr",
     "output_type": "stream",
     "text": [
      "[I 2025-06-12 20:17:44,595] Trial 68 finished with value: 50.19413757324219 and parameters: {'lstm_units': 32, 'lstm_layers': 2, 'dropout_rate': 0.4, 'learning_rate': 0.0015798579407365935, 'batch_size': 16, 'dense_units': 16, 'window_size': 50}. Best is trial 31 with value: 22.493175506591797.\n",
      "c:\\Users\\jerem\\miniconda3\\Lib\\site-packages\\keras\\src\\layers\\rnn\\rnn.py:199: UserWarning: Do not pass an `input_shape`/`input_dim` argument to a layer. When using Sequential models, prefer using an `Input(shape)` object as the first layer in the model instead.\n",
      "  super().__init__(**kwargs)\n"
     ]
    },
    {
     "name": "stdout",
     "output_type": "stream",
     "text": [
      "\u001b[1m4/4\u001b[0m \u001b[32m━━━━━━━━━━━━━━━━━━━━\u001b[0m\u001b[37m\u001b[0m \u001b[1m1s\u001b[0m 158ms/step\n"
     ]
    },
    {
     "name": "stderr",
     "output_type": "stream",
     "text": [
      "[I 2025-06-12 20:18:08,797] Trial 69 finished with value: 36.422061920166016 and parameters: {'lstm_units': 32, 'lstm_layers': 2, 'dropout_rate': 0.30000000000000004, 'learning_rate': 0.00023192048884563199, 'batch_size': 32, 'dense_units': 32, 'window_size': 60}. Best is trial 31 with value: 22.493175506591797.\n",
      "[I 2025-06-12 20:18:08,844] A new study created in memory with name: lstm_regression_study\n"
     ]
    },
    {
     "name": "stdout",
     "output_type": "stream",
     "text": [
      "Running LSTM study for bin 5, stock 13...\n"
     ]
    },
    {
     "name": "stderr",
     "output_type": "stream",
     "text": [
      "c:\\Users\\jerem\\miniconda3\\Lib\\site-packages\\keras\\src\\layers\\rnn\\rnn.py:199: UserWarning: Do not pass an `input_shape`/`input_dim` argument to a layer. When using Sequential models, prefer using an `Input(shape)` object as the first layer in the model instead.\n",
      "  super().__init__(**kwargs)\n"
     ]
    },
    {
     "name": "stdout",
     "output_type": "stream",
     "text": [
      "\u001b[1m4/4\u001b[0m \u001b[32m━━━━━━━━━━━━━━━━━━━━\u001b[0m\u001b[37m\u001b[0m \u001b[1m1s\u001b[0m 95ms/step\n"
     ]
    },
    {
     "name": "stderr",
     "output_type": "stream",
     "text": [
      "[I 2025-06-12 20:18:22,828] Trial 0 finished with value: 14.404967308044434 and parameters: {'lstm_units': 64, 'lstm_layers': 1, 'dropout_rate': 0.0, 'learning_rate': 0.00365731928466801, 'batch_size': 32, 'dense_units': 64, 'window_size': 10}. Best is trial 0 with value: 14.404967308044434.\n",
      "c:\\Users\\jerem\\miniconda3\\Lib\\site-packages\\keras\\src\\layers\\rnn\\rnn.py:199: UserWarning: Do not pass an `input_shape`/`input_dim` argument to a layer. When using Sequential models, prefer using an `Input(shape)` object as the first layer in the model instead.\n",
      "  super().__init__(**kwargs)\n"
     ]
    },
    {
     "name": "stdout",
     "output_type": "stream",
     "text": [
      "\u001b[1m4/4\u001b[0m \u001b[32m━━━━━━━━━━━━━━━━━━━━\u001b[0m\u001b[37m\u001b[0m \u001b[1m1s\u001b[0m 162ms/step\n"
     ]
    },
    {
     "name": "stderr",
     "output_type": "stream",
     "text": [
      "[I 2025-06-12 20:18:39,514] Trial 1 finished with value: 24.108951568603516 and parameters: {'lstm_units': 64, 'lstm_layers': 2, 'dropout_rate': 0.5, 'learning_rate': 0.006593314442804892, 'batch_size': 32, 'dense_units': 112, 'window_size': 30}. Best is trial 0 with value: 14.404967308044434.\n",
      "c:\\Users\\jerem\\miniconda3\\Lib\\site-packages\\keras\\src\\layers\\rnn\\rnn.py:199: UserWarning: Do not pass an `input_shape`/`input_dim` argument to a layer. When using Sequential models, prefer using an `Input(shape)` object as the first layer in the model instead.\n",
      "  super().__init__(**kwargs)\n"
     ]
    },
    {
     "name": "stdout",
     "output_type": "stream",
     "text": [
      "\u001b[1m4/4\u001b[0m \u001b[32m━━━━━━━━━━━━━━━━━━━━\u001b[0m\u001b[37m\u001b[0m \u001b[1m1s\u001b[0m 180ms/step\n"
     ]
    },
    {
     "name": "stderr",
     "output_type": "stream",
     "text": [
      "[I 2025-06-12 20:19:16,000] Trial 2 finished with value: 11.037576675415039 and parameters: {'lstm_units': 96, 'lstm_layers': 2, 'dropout_rate': 0.2, 'learning_rate': 0.0014333107242098238, 'batch_size': 32, 'dense_units': 96, 'window_size': 60}. Best is trial 2 with value: 11.037576675415039.\n",
      "c:\\Users\\jerem\\miniconda3\\Lib\\site-packages\\keras\\src\\layers\\rnn\\rnn.py:199: UserWarning: Do not pass an `input_shape`/`input_dim` argument to a layer. When using Sequential models, prefer using an `Input(shape)` object as the first layer in the model instead.\n",
      "  super().__init__(**kwargs)\n"
     ]
    },
    {
     "name": "stdout",
     "output_type": "stream",
     "text": [
      "\u001b[1m8/8\u001b[0m \u001b[32m━━━━━━━━━━━━━━━━━━━━\u001b[0m\u001b[37m\u001b[0m \u001b[1m1s\u001b[0m 67ms/step\n"
     ]
    },
    {
     "name": "stderr",
     "output_type": "stream",
     "text": [
      "[I 2025-06-12 20:19:34,648] Trial 3 finished with value: 16.528884887695312 and parameters: {'lstm_units': 32, 'lstm_layers': 2, 'dropout_rate': 0.2, 'learning_rate': 0.002605496410124718, 'batch_size': 16, 'dense_units': 112, 'window_size': 20}. Best is trial 2 with value: 11.037576675415039.\n",
      "c:\\Users\\jerem\\miniconda3\\Lib\\site-packages\\keras\\src\\layers\\rnn\\rnn.py:199: UserWarning: Do not pass an `input_shape`/`input_dim` argument to a layer. When using Sequential models, prefer using an `Input(shape)` object as the first layer in the model instead.\n",
      "  super().__init__(**kwargs)\n"
     ]
    },
    {
     "name": "stdout",
     "output_type": "stream",
     "text": [
      "\u001b[1m4/4\u001b[0m \u001b[32m━━━━━━━━━━━━━━━━━━━━\u001b[0m\u001b[37m\u001b[0m \u001b[1m1s\u001b[0m 128ms/step\n"
     ]
    },
    {
     "name": "stderr",
     "output_type": "stream",
     "text": [
      "[I 2025-06-12 20:19:58,129] Trial 4 finished with value: 32.02705001831055 and parameters: {'lstm_units': 32, 'lstm_layers': 1, 'dropout_rate': 0.0, 'learning_rate': 0.001218307079045987, 'batch_size': 32, 'dense_units': 64, 'window_size': 60}. Best is trial 2 with value: 11.037576675415039.\n",
      "c:\\Users\\jerem\\miniconda3\\Lib\\site-packages\\keras\\src\\layers\\rnn\\rnn.py:199: UserWarning: Do not pass an `input_shape`/`input_dim` argument to a layer. When using Sequential models, prefer using an `Input(shape)` object as the first layer in the model instead.\n",
      "  super().__init__(**kwargs)\n"
     ]
    },
    {
     "name": "stdout",
     "output_type": "stream",
     "text": [
      "\u001b[1m8/8\u001b[0m \u001b[32m━━━━━━━━━━━━━━━━━━━━\u001b[0m\u001b[37m\u001b[0m \u001b[1m1s\u001b[0m 76ms/step\n"
     ]
    },
    {
     "name": "stderr",
     "output_type": "stream",
     "text": [
      "[I 2025-06-12 20:20:34,526] Trial 5 finished with value: 13.542030334472656 and parameters: {'lstm_units': 96, 'lstm_layers': 2, 'dropout_rate': 0.5, 'learning_rate': 0.0004337846742402622, 'batch_size': 16, 'dense_units': 128, 'window_size': 20}. Best is trial 2 with value: 11.037576675415039.\n",
      "c:\\Users\\jerem\\miniconda3\\Lib\\site-packages\\keras\\src\\layers\\rnn\\rnn.py:199: UserWarning: Do not pass an `input_shape`/`input_dim` argument to a layer. When using Sequential models, prefer using an `Input(shape)` object as the first layer in the model instead.\n",
      "  super().__init__(**kwargs)\n"
     ]
    },
    {
     "name": "stdout",
     "output_type": "stream",
     "text": [
      "\u001b[1m8/8\u001b[0m \u001b[32m━━━━━━━━━━━━━━━━━━━━\u001b[0m\u001b[37m\u001b[0m \u001b[1m1s\u001b[0m 88ms/step\n"
     ]
    },
    {
     "name": "stderr",
     "output_type": "stream",
     "text": [
      "[I 2025-06-12 20:21:05,637] Trial 6 finished with value: 9.105469703674316 and parameters: {'lstm_units': 96, 'lstm_layers': 2, 'dropout_rate': 0.30000000000000004, 'learning_rate': 0.002403484398339726, 'batch_size': 16, 'dense_units': 64, 'window_size': 40}. Best is trial 6 with value: 9.105469703674316.\n",
      "c:\\Users\\jerem\\miniconda3\\Lib\\site-packages\\keras\\src\\layers\\rnn\\rnn.py:199: UserWarning: Do not pass an `input_shape`/`input_dim` argument to a layer. When using Sequential models, prefer using an `Input(shape)` object as the first layer in the model instead.\n",
      "  super().__init__(**kwargs)\n"
     ]
    },
    {
     "name": "stdout",
     "output_type": "stream",
     "text": [
      "\u001b[1m4/4\u001b[0m \u001b[32m━━━━━━━━━━━━━━━━━━━━\u001b[0m\u001b[37m\u001b[0m \u001b[1m2s\u001b[0m 320ms/step\n"
     ]
    },
    {
     "name": "stderr",
     "output_type": "stream",
     "text": [
      "[I 2025-06-12 20:23:56,194] Trial 7 finished with value: 10.570231437683105 and parameters: {'lstm_units': 128, 'lstm_layers': 2, 'dropout_rate': 0.30000000000000004, 'learning_rate': 0.0002362505337660097, 'batch_size': 32, 'dense_units': 112, 'window_size': 60}. Best is trial 6 with value: 9.105469703674316.\n",
      "c:\\Users\\jerem\\miniconda3\\Lib\\site-packages\\keras\\src\\layers\\rnn\\rnn.py:199: UserWarning: Do not pass an `input_shape`/`input_dim` argument to a layer. When using Sequential models, prefer using an `Input(shape)` object as the first layer in the model instead.\n",
      "  super().__init__(**kwargs)\n"
     ]
    },
    {
     "name": "stdout",
     "output_type": "stream",
     "text": [
      "\u001b[1m4/4\u001b[0m \u001b[32m━━━━━━━━━━━━━━━━━━━━\u001b[0m\u001b[37m\u001b[0m \u001b[1m1s\u001b[0m 91ms/step\n"
     ]
    },
    {
     "name": "stderr",
     "output_type": "stream",
     "text": [
      "[I 2025-06-12 20:24:07,628] Trial 8 finished with value: 9.450706481933594 and parameters: {'lstm_units': 64, 'lstm_layers': 1, 'dropout_rate': 0.1, 'learning_rate': 0.00428031556257542, 'batch_size': 32, 'dense_units': 112, 'window_size': 30}. Best is trial 6 with value: 9.105469703674316.\n",
      "c:\\Users\\jerem\\miniconda3\\Lib\\site-packages\\keras\\src\\layers\\rnn\\rnn.py:199: UserWarning: Do not pass an `input_shape`/`input_dim` argument to a layer. When using Sequential models, prefer using an `Input(shape)` object as the first layer in the model instead.\n",
      "  super().__init__(**kwargs)\n"
     ]
    },
    {
     "name": "stdout",
     "output_type": "stream",
     "text": [
      "\u001b[1m8/8\u001b[0m \u001b[32m━━━━━━━━━━━━━━━━━━━━\u001b[0m\u001b[37m\u001b[0m \u001b[1m1s\u001b[0m 43ms/step\n"
     ]
    },
    {
     "name": "stderr",
     "output_type": "stream",
     "text": [
      "[I 2025-06-12 20:24:25,145] Trial 9 finished with value: 13.60495376586914 and parameters: {'lstm_units': 128, 'lstm_layers': 1, 'dropout_rate': 0.0, 'learning_rate': 0.0016634230757084558, 'batch_size': 16, 'dense_units': 96, 'window_size': 10}. Best is trial 6 with value: 9.105469703674316.\n",
      "c:\\Users\\jerem\\miniconda3\\Lib\\site-packages\\keras\\src\\layers\\rnn\\rnn.py:199: UserWarning: Do not pass an `input_shape`/`input_dim` argument to a layer. When using Sequential models, prefer using an `Input(shape)` object as the first layer in the model instead.\n",
      "  super().__init__(**kwargs)\n"
     ]
    },
    {
     "name": "stdout",
     "output_type": "stream",
     "text": [
      "\u001b[1m8/8\u001b[0m \u001b[32m━━━━━━━━━━━━━━━━━━━━\u001b[0m\u001b[37m\u001b[0m \u001b[1m1s\u001b[0m 81ms/step\n"
     ]
    },
    {
     "name": "stderr",
     "output_type": "stream",
     "text": [
      "[I 2025-06-12 20:24:48,695] Trial 10 finished with value: 31.859725952148438 and parameters: {'lstm_units': 96, 'lstm_layers': 2, 'dropout_rate': 0.4, 'learning_rate': 0.009901732939088338, 'batch_size': 16, 'dense_units': 16, 'window_size': 40}. Best is trial 6 with value: 9.105469703674316.\n",
      "c:\\Users\\jerem\\miniconda3\\Lib\\site-packages\\keras\\src\\layers\\rnn\\rnn.py:199: UserWarning: Do not pass an `input_shape`/`input_dim` argument to a layer. When using Sequential models, prefer using an `Input(shape)` object as the first layer in the model instead.\n",
      "  super().__init__(**kwargs)\n"
     ]
    },
    {
     "name": "stdout",
     "output_type": "stream",
     "text": [
      "\u001b[1m8/8\u001b[0m \u001b[32m━━━━━━━━━━━━━━━━━━━━\u001b[0m\u001b[37m\u001b[0m \u001b[1m1s\u001b[0m 48ms/step\n"
     ]
    },
    {
     "name": "stderr",
     "output_type": "stream",
     "text": [
      "[I 2025-06-12 20:25:10,029] Trial 11 finished with value: 15.855024337768555 and parameters: {'lstm_units': 64, 'lstm_layers': 1, 'dropout_rate': 0.1, 'learning_rate': 0.004406414366271257, 'batch_size': 16, 'dense_units': 32, 'window_size': 40}. Best is trial 6 with value: 9.105469703674316.\n",
      "c:\\Users\\jerem\\miniconda3\\Lib\\site-packages\\keras\\src\\layers\\rnn\\rnn.py:199: UserWarning: Do not pass an `input_shape`/`input_dim` argument to a layer. When using Sequential models, prefer using an `Input(shape)` object as the first layer in the model instead.\n",
      "  super().__init__(**kwargs)\n"
     ]
    },
    {
     "name": "stdout",
     "output_type": "stream",
     "text": [
      "\u001b[1m4/4\u001b[0m \u001b[32m━━━━━━━━━━━━━━━━━━━━\u001b[0m\u001b[37m\u001b[0m \u001b[1m1s\u001b[0m 103ms/step\n"
     ]
    },
    {
     "name": "stderr",
     "output_type": "stream",
     "text": [
      "[I 2025-06-12 20:25:33,729] Trial 12 finished with value: 12.178449630737305 and parameters: {'lstm_units': 64, 'lstm_layers': 1, 'dropout_rate': 0.30000000000000004, 'learning_rate': 0.0006113044953155577, 'batch_size': 32, 'dense_units': 48, 'window_size': 30}. Best is trial 6 with value: 9.105469703674316.\n",
      "c:\\Users\\jerem\\miniconda3\\Lib\\site-packages\\keras\\src\\layers\\rnn\\rnn.py:199: UserWarning: Do not pass an `input_shape`/`input_dim` argument to a layer. When using Sequential models, prefer using an `Input(shape)` object as the first layer in the model instead.\n",
      "  super().__init__(**kwargs)\n"
     ]
    },
    {
     "name": "stdout",
     "output_type": "stream",
     "text": [
      "\u001b[1m8/8\u001b[0m \u001b[32m━━━━━━━━━━━━━━━━━━━━\u001b[0m\u001b[37m\u001b[0m \u001b[1m1s\u001b[0m 50ms/step\n"
     ]
    },
    {
     "name": "stderr",
     "output_type": "stream",
     "text": [
      "[I 2025-06-12 20:26:25,580] Trial 13 finished with value: 22.309728622436523 and parameters: {'lstm_units': 96, 'lstm_layers': 1, 'dropout_rate': 0.1, 'learning_rate': 0.002259969018038456, 'batch_size': 16, 'dense_units': 80, 'window_size': 50}. Best is trial 6 with value: 9.105469703674316.\n",
      "c:\\Users\\jerem\\miniconda3\\Lib\\site-packages\\keras\\src\\layers\\rnn\\rnn.py:199: UserWarning: Do not pass an `input_shape`/`input_dim` argument to a layer. When using Sequential models, prefer using an `Input(shape)` object as the first layer in the model instead.\n",
      "  super().__init__(**kwargs)\n"
     ]
    },
    {
     "name": "stdout",
     "output_type": "stream",
     "text": [
      "\u001b[1m4/4\u001b[0m \u001b[32m━━━━━━━━━━━━━━━━━━━━\u001b[0m\u001b[37m\u001b[0m \u001b[1m1s\u001b[0m 167ms/step\n"
     ]
    },
    {
     "name": "stderr",
     "output_type": "stream",
     "text": [
      "[I 2025-06-12 20:27:17,953] Trial 14 finished with value: 8.912369728088379 and parameters: {'lstm_units': 128, 'lstm_layers': 2, 'dropout_rate': 0.1, 'learning_rate': 0.0006998639753190103, 'batch_size': 32, 'dense_units': 80, 'window_size': 40}. Best is trial 14 with value: 8.912369728088379.\n",
      "c:\\Users\\jerem\\miniconda3\\Lib\\site-packages\\keras\\src\\layers\\rnn\\rnn.py:199: UserWarning: Do not pass an `input_shape`/`input_dim` argument to a layer. When using Sequential models, prefer using an `Input(shape)` object as the first layer in the model instead.\n",
      "  super().__init__(**kwargs)\n"
     ]
    },
    {
     "name": "stdout",
     "output_type": "stream",
     "text": [
      "\u001b[1m8/8\u001b[0m \u001b[32m━━━━━━━━━━━━━━━━━━━━\u001b[0m\u001b[37m\u001b[0m \u001b[1m1s\u001b[0m 84ms/step\n"
     ]
    },
    {
     "name": "stderr",
     "output_type": "stream",
     "text": [
      "[I 2025-06-12 20:28:13,021] Trial 15 finished with value: 19.031654357910156 and parameters: {'lstm_units': 128, 'lstm_layers': 2, 'dropout_rate': 0.4, 'learning_rate': 0.0005957730422938573, 'batch_size': 16, 'dense_units': 48, 'window_size': 50}. Best is trial 14 with value: 8.912369728088379.\n",
      "c:\\Users\\jerem\\miniconda3\\Lib\\site-packages\\keras\\src\\layers\\rnn\\rnn.py:199: UserWarning: Do not pass an `input_shape`/`input_dim` argument to a layer. When using Sequential models, prefer using an `Input(shape)` object as the first layer in the model instead.\n",
      "  super().__init__(**kwargs)\n"
     ]
    },
    {
     "name": "stdout",
     "output_type": "stream",
     "text": [
      "\u001b[1m4/4\u001b[0m \u001b[32m━━━━━━━━━━━━━━━━━━━━\u001b[0m\u001b[37m\u001b[0m \u001b[1m2s\u001b[0m 351ms/step\n"
     ]
    },
    {
     "name": "stderr",
     "output_type": "stream",
     "text": [
      "[I 2025-06-12 20:33:59,273] Trial 16 finished with value: 35.478965759277344 and parameters: {'lstm_units': 128, 'lstm_layers': 2, 'dropout_rate': 0.2, 'learning_rate': 0.00020245342642538918, 'batch_size': 32, 'dense_units': 80, 'window_size': 50}. Best is trial 14 with value: 8.912369728088379.\n",
      "c:\\Users\\jerem\\miniconda3\\Lib\\site-packages\\keras\\src\\layers\\rnn\\rnn.py:199: UserWarning: Do not pass an `input_shape`/`input_dim` argument to a layer. When using Sequential models, prefer using an `Input(shape)` object as the first layer in the model instead.\n",
      "  super().__init__(**kwargs)\n"
     ]
    },
    {
     "name": "stdout",
     "output_type": "stream",
     "text": [
      "\u001b[1m8/8\u001b[0m \u001b[32m━━━━━━━━━━━━━━━━━━━━\u001b[0m\u001b[37m\u001b[0m \u001b[1m2s\u001b[0m 157ms/step\n"
     ]
    },
    {
     "name": "stderr",
     "output_type": "stream",
     "text": [
      "[I 2025-06-12 20:37:16,768] Trial 17 finished with value: 24.21158790588379 and parameters: {'lstm_units': 128, 'lstm_layers': 2, 'dropout_rate': 0.30000000000000004, 'learning_rate': 0.0007892069354517126, 'batch_size': 16, 'dense_units': 48, 'window_size': 40}. Best is trial 14 with value: 8.912369728088379.\n",
      "c:\\Users\\jerem\\miniconda3\\Lib\\site-packages\\keras\\src\\layers\\rnn\\rnn.py:199: UserWarning: Do not pass an `input_shape`/`input_dim` argument to a layer. When using Sequential models, prefer using an `Input(shape)` object as the first layer in the model instead.\n",
      "  super().__init__(**kwargs)\n"
     ]
    },
    {
     "name": "stdout",
     "output_type": "stream",
     "text": [
      "\u001b[1m8/8\u001b[0m \u001b[32m━━━━━━━━━━━━━━━━━━━━\u001b[0m\u001b[37m\u001b[0m \u001b[1m2s\u001b[0m 138ms/step\n"
     ]
    },
    {
     "name": "stderr",
     "output_type": "stream",
     "text": [
      "[I 2025-06-12 20:43:34,155] Trial 18 finished with value: 21.895029067993164 and parameters: {'lstm_units': 96, 'lstm_layers': 2, 'dropout_rate': 0.4, 'learning_rate': 0.00012826694859827549, 'batch_size': 16, 'dense_units': 80, 'window_size': 40}. Best is trial 14 with value: 8.912369728088379.\n",
      "c:\\Users\\jerem\\miniconda3\\Lib\\site-packages\\keras\\src\\layers\\rnn\\rnn.py:199: UserWarning: Do not pass an `input_shape`/`input_dim` argument to a layer. When using Sequential models, prefer using an `Input(shape)` object as the first layer in the model instead.\n",
      "  super().__init__(**kwargs)\n"
     ]
    },
    {
     "name": "stdout",
     "output_type": "stream",
     "text": [
      "\u001b[1m4/4\u001b[0m \u001b[32m━━━━━━━━━━━━━━━━━━━━\u001b[0m\u001b[37m\u001b[0m \u001b[1m1s\u001b[0m 250ms/step\n"
     ]
    },
    {
     "name": "stderr",
     "output_type": "stream",
     "text": [
      "[I 2025-06-12 20:45:47,830] Trial 19 finished with value: 11.082414627075195 and parameters: {'lstm_units': 128, 'lstm_layers': 2, 'dropout_rate': 0.1, 'learning_rate': 0.00035557082117899263, 'batch_size': 32, 'dense_units': 64, 'window_size': 50}. Best is trial 14 with value: 8.912369728088379.\n",
      "c:\\Users\\jerem\\miniconda3\\Lib\\site-packages\\keras\\src\\layers\\rnn\\rnn.py:199: UserWarning: Do not pass an `input_shape`/`input_dim` argument to a layer. When using Sequential models, prefer using an `Input(shape)` object as the first layer in the model instead.\n",
      "  super().__init__(**kwargs)\n"
     ]
    },
    {
     "name": "stdout",
     "output_type": "stream",
     "text": [
      "\u001b[1m4/4\u001b[0m \u001b[32m━━━━━━━━━━━━━━━━━━━━\u001b[0m\u001b[37m\u001b[0m \u001b[1m1s\u001b[0m 195ms/step\n"
     ]
    },
    {
     "name": "stderr",
     "output_type": "stream",
     "text": [
      "[I 2025-06-12 20:46:28,028] Trial 20 finished with value: 19.84407615661621 and parameters: {'lstm_units': 96, 'lstm_layers': 2, 'dropout_rate': 0.2, 'learning_rate': 0.0008660183415477287, 'batch_size': 32, 'dense_units': 32, 'window_size': 20}. Best is trial 14 with value: 8.912369728088379.\n",
      "c:\\Users\\jerem\\miniconda3\\Lib\\site-packages\\keras\\src\\layers\\rnn\\rnn.py:199: UserWarning: Do not pass an `input_shape`/`input_dim` argument to a layer. When using Sequential models, prefer using an `Input(shape)` object as the first layer in the model instead.\n",
      "  super().__init__(**kwargs)\n"
     ]
    },
    {
     "name": "stdout",
     "output_type": "stream",
     "text": [
      "\u001b[1m4/4\u001b[0m \u001b[32m━━━━━━━━━━━━━━━━━━━━\u001b[0m\u001b[37m\u001b[0m \u001b[1m1s\u001b[0m 114ms/step\n"
     ]
    },
    {
     "name": "stderr",
     "output_type": "stream",
     "text": [
      "[I 2025-06-12 20:46:47,150] Trial 21 finished with value: 11.046454429626465 and parameters: {'lstm_units': 64, 'lstm_layers': 1, 'dropout_rate': 0.1, 'learning_rate': 0.004074183959225643, 'batch_size': 32, 'dense_units': 96, 'window_size': 30}. Best is trial 14 with value: 8.912369728088379.\n",
      "c:\\Users\\jerem\\miniconda3\\Lib\\site-packages\\keras\\src\\layers\\rnn\\rnn.py:199: UserWarning: Do not pass an `input_shape`/`input_dim` argument to a layer. When using Sequential models, prefer using an `Input(shape)` object as the first layer in the model instead.\n",
      "  super().__init__(**kwargs)\n"
     ]
    },
    {
     "name": "stdout",
     "output_type": "stream",
     "text": [
      "\u001b[1m4/4\u001b[0m \u001b[32m━━━━━━━━━━━━━━━━━━━━\u001b[0m\u001b[37m\u001b[0m \u001b[1m1s\u001b[0m 89ms/step\n"
     ]
    },
    {
     "name": "stderr",
     "output_type": "stream",
     "text": [
      "[I 2025-06-12 20:47:04,532] Trial 22 finished with value: 19.652545928955078 and parameters: {'lstm_units': 32, 'lstm_layers': 1, 'dropout_rate': 0.1, 'learning_rate': 0.002289238707685727, 'batch_size': 32, 'dense_units': 128, 'window_size': 30}. Best is trial 14 with value: 8.912369728088379.\n",
      "c:\\Users\\jerem\\miniconda3\\Lib\\site-packages\\keras\\src\\layers\\rnn\\rnn.py:199: UserWarning: Do not pass an `input_shape`/`input_dim` argument to a layer. When using Sequential models, prefer using an `Input(shape)` object as the first layer in the model instead.\n",
      "  super().__init__(**kwargs)\n"
     ]
    },
    {
     "name": "stdout",
     "output_type": "stream",
     "text": [
      "\u001b[1m4/4\u001b[0m \u001b[32m━━━━━━━━━━━━━━━━━━━━\u001b[0m\u001b[37m\u001b[0m \u001b[1m1s\u001b[0m 194ms/step\n"
     ]
    },
    {
     "name": "stderr",
     "output_type": "stream",
     "text": [
      "[I 2025-06-12 20:47:34,827] Trial 23 finished with value: 22.292112350463867 and parameters: {'lstm_units': 64, 'lstm_layers': 2, 'dropout_rate': 0.30000000000000004, 'learning_rate': 0.00662948425990149, 'batch_size': 32, 'dense_units': 96, 'window_size': 40}. Best is trial 14 with value: 8.912369728088379.\n",
      "c:\\Users\\jerem\\miniconda3\\Lib\\site-packages\\keras\\src\\layers\\rnn\\rnn.py:199: UserWarning: Do not pass an `input_shape`/`input_dim` argument to a layer. When using Sequential models, prefer using an `Input(shape)` object as the first layer in the model instead.\n",
      "  super().__init__(**kwargs)\n"
     ]
    },
    {
     "name": "stdout",
     "output_type": "stream",
     "text": [
      "\u001b[1m4/4\u001b[0m \u001b[32m━━━━━━━━━━━━━━━━━━━━\u001b[0m\u001b[37m\u001b[0m \u001b[1m1s\u001b[0m 106ms/step\n"
     ]
    },
    {
     "name": "stderr",
     "output_type": "stream",
     "text": [
      "[I 2025-06-12 20:47:52,980] Trial 24 finished with value: 33.621700286865234 and parameters: {'lstm_units': 96, 'lstm_layers': 1, 'dropout_rate': 0.2, 'learning_rate': 0.0030278852567640047, 'batch_size': 32, 'dense_units': 80, 'window_size': 30}. Best is trial 14 with value: 8.912369728088379.\n",
      "c:\\Users\\jerem\\miniconda3\\Lib\\site-packages\\keras\\src\\layers\\rnn\\rnn.py:199: UserWarning: Do not pass an `input_shape`/`input_dim` argument to a layer. When using Sequential models, prefer using an `Input(shape)` object as the first layer in the model instead.\n",
      "  super().__init__(**kwargs)\n"
     ]
    },
    {
     "name": "stdout",
     "output_type": "stream",
     "text": [
      "\u001b[1m4/4\u001b[0m \u001b[32m━━━━━━━━━━━━━━━━━━━━\u001b[0m\u001b[37m\u001b[0m \u001b[1m1s\u001b[0m 178ms/step\n"
     ]
    },
    {
     "name": "stderr",
     "output_type": "stream",
     "text": [
      "[I 2025-06-12 20:48:18,681] Trial 25 finished with value: 12.675750732421875 and parameters: {'lstm_units': 64, 'lstm_layers': 2, 'dropout_rate': 0.0, 'learning_rate': 0.001864542176015249, 'batch_size': 32, 'dense_units': 64, 'window_size': 20}. Best is trial 14 with value: 8.912369728088379.\n",
      "c:\\Users\\jerem\\miniconda3\\Lib\\site-packages\\keras\\src\\layers\\rnn\\rnn.py:199: UserWarning: Do not pass an `input_shape`/`input_dim` argument to a layer. When using Sequential models, prefer using an `Input(shape)` object as the first layer in the model instead.\n",
      "  super().__init__(**kwargs)\n"
     ]
    },
    {
     "name": "stdout",
     "output_type": "stream",
     "text": [
      "\u001b[1m8/8\u001b[0m \u001b[32m━━━━━━━━━━━━━━━━━━━━\u001b[0m\u001b[37m\u001b[0m \u001b[1m1s\u001b[0m 52ms/step\n"
     ]
    },
    {
     "name": "stderr",
     "output_type": "stream",
     "text": [
      "[I 2025-06-12 20:48:48,298] Trial 26 finished with value: 12.946115493774414 and parameters: {'lstm_units': 96, 'lstm_layers': 1, 'dropout_rate': 0.1, 'learning_rate': 0.0011295725566584755, 'batch_size': 16, 'dense_units': 112, 'window_size': 40}. Best is trial 14 with value: 8.912369728088379.\n",
      "c:\\Users\\jerem\\miniconda3\\Lib\\site-packages\\keras\\src\\layers\\rnn\\rnn.py:199: UserWarning: Do not pass an `input_shape`/`input_dim` argument to a layer. When using Sequential models, prefer using an `Input(shape)` object as the first layer in the model instead.\n",
      "  super().__init__(**kwargs)\n"
     ]
    },
    {
     "name": "stdout",
     "output_type": "stream",
     "text": [
      "\u001b[1m4/4\u001b[0m \u001b[32m━━━━━━━━━━━━━━━━━━━━\u001b[0m\u001b[37m\u001b[0m \u001b[1m1s\u001b[0m 244ms/step\n"
     ]
    },
    {
     "name": "stderr",
     "output_type": "stream",
     "text": [
      "[I 2025-06-12 20:49:32,026] Trial 27 finished with value: 10.264132499694824 and parameters: {'lstm_units': 128, 'lstm_layers': 2, 'dropout_rate': 0.2, 'learning_rate': 0.004726188877088201, 'batch_size': 32, 'dense_units': 128, 'window_size': 50}. Best is trial 14 with value: 8.912369728088379.\n",
      "c:\\Users\\jerem\\miniconda3\\Lib\\site-packages\\keras\\src\\layers\\rnn\\rnn.py:199: UserWarning: Do not pass an `input_shape`/`input_dim` argument to a layer. When using Sequential models, prefer using an `Input(shape)` object as the first layer in the model instead.\n",
      "  super().__init__(**kwargs)\n"
     ]
    },
    {
     "name": "stdout",
     "output_type": "stream",
     "text": [
      "\u001b[1m8/8\u001b[0m \u001b[32m━━━━━━━━━━━━━━━━━━━━\u001b[0m\u001b[37m\u001b[0m \u001b[1m1s\u001b[0m 50ms/step\n"
     ]
    },
    {
     "name": "stderr",
     "output_type": "stream",
     "text": [
      "[I 2025-06-12 20:49:52,426] Trial 28 finished with value: 16.548166275024414 and parameters: {'lstm_units': 32, 'lstm_layers': 1, 'dropout_rate': 0.30000000000000004, 'learning_rate': 0.007818887547860672, 'batch_size': 16, 'dense_units': 32, 'window_size': 30}. Best is trial 14 with value: 8.912369728088379.\n",
      "c:\\Users\\jerem\\miniconda3\\Lib\\site-packages\\keras\\src\\layers\\rnn\\rnn.py:199: UserWarning: Do not pass an `input_shape`/`input_dim` argument to a layer. When using Sequential models, prefer using an `Input(shape)` object as the first layer in the model instead.\n",
      "  super().__init__(**kwargs)\n"
     ]
    },
    {
     "name": "stdout",
     "output_type": "stream",
     "text": [
      "\u001b[1m4/4\u001b[0m \u001b[32m━━━━━━━━━━━━━━━━━━━━\u001b[0m\u001b[37m\u001b[0m \u001b[1m1s\u001b[0m 178ms/step\n"
     ]
    },
    {
     "name": "stderr",
     "output_type": "stream",
     "text": [
      "[I 2025-06-12 20:50:10,543] Trial 29 finished with value: 8.640944480895996 and parameters: {'lstm_units': 64, 'lstm_layers': 2, 'dropout_rate': 0.0, 'learning_rate': 0.0035013118369630492, 'batch_size': 32, 'dense_units': 48, 'window_size': 10}. Best is trial 29 with value: 8.640944480895996.\n",
      "c:\\Users\\jerem\\miniconda3\\Lib\\site-packages\\keras\\src\\layers\\rnn\\rnn.py:199: UserWarning: Do not pass an `input_shape`/`input_dim` argument to a layer. When using Sequential models, prefer using an `Input(shape)` object as the first layer in the model instead.\n",
      "  super().__init__(**kwargs)\n"
     ]
    },
    {
     "name": "stdout",
     "output_type": "stream",
     "text": [
      "\u001b[1m4/4\u001b[0m \u001b[32m━━━━━━━━━━━━━━━━━━━━\u001b[0m\u001b[37m\u001b[0m \u001b[1m1s\u001b[0m 205ms/step\n"
     ]
    },
    {
     "name": "stderr",
     "output_type": "stream",
     "text": [
      "[I 2025-06-12 20:50:27,344] Trial 30 finished with value: 10.262686729431152 and parameters: {'lstm_units': 96, 'lstm_layers': 2, 'dropout_rate': 0.0, 'learning_rate': 0.0033116372680190497, 'batch_size': 32, 'dense_units': 48, 'window_size': 10}. Best is trial 29 with value: 8.640944480895996.\n",
      "c:\\Users\\jerem\\miniconda3\\Lib\\site-packages\\keras\\src\\layers\\rnn\\rnn.py:199: UserWarning: Do not pass an `input_shape`/`input_dim` argument to a layer. When using Sequential models, prefer using an `Input(shape)` object as the first layer in the model instead.\n",
      "  super().__init__(**kwargs)\n"
     ]
    },
    {
     "name": "stdout",
     "output_type": "stream",
     "text": [
      "\u001b[1m4/4\u001b[0m \u001b[32m━━━━━━━━━━━━━━━━━━━━\u001b[0m\u001b[37m\u001b[0m \u001b[1m1s\u001b[0m 183ms/step\n"
     ]
    },
    {
     "name": "stderr",
     "output_type": "stream",
     "text": [
      "[I 2025-06-12 20:50:46,712] Trial 31 finished with value: 8.756109237670898 and parameters: {'lstm_units': 64, 'lstm_layers': 2, 'dropout_rate': 0.0, 'learning_rate': 0.0035228909763519163, 'batch_size': 32, 'dense_units': 64, 'window_size': 10}. Best is trial 29 with value: 8.640944480895996.\n",
      "c:\\Users\\jerem\\miniconda3\\Lib\\site-packages\\keras\\src\\layers\\rnn\\rnn.py:199: UserWarning: Do not pass an `input_shape`/`input_dim` argument to a layer. When using Sequential models, prefer using an `Input(shape)` object as the first layer in the model instead.\n",
      "  super().__init__(**kwargs)\n"
     ]
    },
    {
     "name": "stdout",
     "output_type": "stream",
     "text": [
      "\u001b[1m4/4\u001b[0m \u001b[32m━━━━━━━━━━━━━━━━━━━━\u001b[0m\u001b[37m\u001b[0m \u001b[1m1s\u001b[0m 183ms/step\n"
     ]
    },
    {
     "name": "stderr",
     "output_type": "stream",
     "text": [
      "[I 2025-06-12 20:51:01,769] Trial 32 finished with value: 17.29374885559082 and parameters: {'lstm_units': 64, 'lstm_layers': 2, 'dropout_rate': 0.0, 'learning_rate': 0.005524459908577872, 'batch_size': 32, 'dense_units': 64, 'window_size': 10}. Best is trial 29 with value: 8.640944480895996.\n",
      "c:\\Users\\jerem\\miniconda3\\Lib\\site-packages\\keras\\src\\layers\\rnn\\rnn.py:199: UserWarning: Do not pass an `input_shape`/`input_dim` argument to a layer. When using Sequential models, prefer using an `Input(shape)` object as the first layer in the model instead.\n",
      "  super().__init__(**kwargs)\n"
     ]
    },
    {
     "name": "stdout",
     "output_type": "stream",
     "text": [
      "\u001b[1m4/4\u001b[0m \u001b[32m━━━━━━━━━━━━━━━━━━━━\u001b[0m\u001b[37m\u001b[0m \u001b[1m1s\u001b[0m 178ms/step\n"
     ]
    },
    {
     "name": "stderr",
     "output_type": "stream",
     "text": [
      "[I 2025-06-12 20:51:21,494] Trial 33 finished with value: 11.270285606384277 and parameters: {'lstm_units': 64, 'lstm_layers': 2, 'dropout_rate': 0.0, 'learning_rate': 0.001722999636596541, 'batch_size': 32, 'dense_units': 64, 'window_size': 10}. Best is trial 29 with value: 8.640944480895996.\n",
      "c:\\Users\\jerem\\miniconda3\\Lib\\site-packages\\keras\\src\\layers\\rnn\\rnn.py:199: UserWarning: Do not pass an `input_shape`/`input_dim` argument to a layer. When using Sequential models, prefer using an `Input(shape)` object as the first layer in the model instead.\n",
      "  super().__init__(**kwargs)\n"
     ]
    },
    {
     "name": "stdout",
     "output_type": "stream",
     "text": [
      "\u001b[1m4/4\u001b[0m \u001b[32m━━━━━━━━━━━━━━━━━━━━\u001b[0m\u001b[37m\u001b[0m \u001b[1m1s\u001b[0m 176ms/step\n"
     ]
    },
    {
     "name": "stderr",
     "output_type": "stream",
     "text": [
      "[I 2025-06-12 20:51:44,135] Trial 34 finished with value: 8.711724281311035 and parameters: {'lstm_units': 64, 'lstm_layers': 2, 'dropout_rate': 0.0, 'learning_rate': 0.003011717782584582, 'batch_size': 32, 'dense_units': 48, 'window_size': 20}. Best is trial 29 with value: 8.640944480895996.\n",
      "c:\\Users\\jerem\\miniconda3\\Lib\\site-packages\\keras\\src\\layers\\rnn\\rnn.py:199: UserWarning: Do not pass an `input_shape`/`input_dim` argument to a layer. When using Sequential models, prefer using an `Input(shape)` object as the first layer in the model instead.\n",
      "  super().__init__(**kwargs)\n"
     ]
    },
    {
     "name": "stdout",
     "output_type": "stream",
     "text": [
      "\u001b[1m4/4\u001b[0m \u001b[32m━━━━━━━━━━━━━━━━━━━━\u001b[0m\u001b[37m\u001b[0m \u001b[1m1s\u001b[0m 179ms/step\n"
     ]
    },
    {
     "name": "stderr",
     "output_type": "stream",
     "text": [
      "[I 2025-06-12 20:52:21,146] Trial 35 finished with value: 17.703510284423828 and parameters: {'lstm_units': 32, 'lstm_layers': 2, 'dropout_rate': 0.0, 'learning_rate': 0.0013549648925067304, 'batch_size': 32, 'dense_units': 16, 'window_size': 20}. Best is trial 29 with value: 8.640944480895996.\n",
      "c:\\Users\\jerem\\miniconda3\\Lib\\site-packages\\keras\\src\\layers\\rnn\\rnn.py:199: UserWarning: Do not pass an `input_shape`/`input_dim` argument to a layer. When using Sequential models, prefer using an `Input(shape)` object as the first layer in the model instead.\n",
      "  super().__init__(**kwargs)\n"
     ]
    },
    {
     "name": "stdout",
     "output_type": "stream",
     "text": [
      "\u001b[1m4/4\u001b[0m \u001b[32m━━━━━━━━━━━━━━━━━━━━\u001b[0m\u001b[37m\u001b[0m \u001b[1m1s\u001b[0m 178ms/step\n"
     ]
    },
    {
     "name": "stderr",
     "output_type": "stream",
     "text": [
      "[I 2025-06-12 20:52:37,095] Trial 36 finished with value: 8.820526123046875 and parameters: {'lstm_units': 64, 'lstm_layers': 2, 'dropout_rate': 0.0, 'learning_rate': 0.003132922967467372, 'batch_size': 32, 'dense_units': 48, 'window_size': 10}. Best is trial 29 with value: 8.640944480895996.\n",
      "c:\\Users\\jerem\\miniconda3\\Lib\\site-packages\\keras\\src\\layers\\rnn\\rnn.py:199: UserWarning: Do not pass an `input_shape`/`input_dim` argument to a layer. When using Sequential models, prefer using an `Input(shape)` object as the first layer in the model instead.\n",
      "  super().__init__(**kwargs)\n"
     ]
    },
    {
     "name": "stdout",
     "output_type": "stream",
     "text": [
      "\u001b[1m4/4\u001b[0m \u001b[32m━━━━━━━━━━━━━━━━━━━━\u001b[0m\u001b[37m\u001b[0m \u001b[1m1s\u001b[0m 178ms/step\n"
     ]
    },
    {
     "name": "stderr",
     "output_type": "stream",
     "text": [
      "[I 2025-06-12 20:52:53,762] Trial 37 finished with value: 9.135642051696777 and parameters: {'lstm_units': 64, 'lstm_layers': 2, 'dropout_rate': 0.0, 'learning_rate': 0.0030741701620899935, 'batch_size': 32, 'dense_units': 32, 'window_size': 10}. Best is trial 29 with value: 8.640944480895996.\n",
      "c:\\Users\\jerem\\miniconda3\\Lib\\site-packages\\keras\\src\\layers\\rnn\\rnn.py:199: UserWarning: Do not pass an `input_shape`/`input_dim` argument to a layer. When using Sequential models, prefer using an `Input(shape)` object as the first layer in the model instead.\n",
      "  super().__init__(**kwargs)\n"
     ]
    },
    {
     "name": "stdout",
     "output_type": "stream",
     "text": [
      "\u001b[1m4/4\u001b[0m \u001b[32m━━━━━━━━━━━━━━━━━━━━\u001b[0m\u001b[37m\u001b[0m \u001b[1m1s\u001b[0m 173ms/step\n"
     ]
    },
    {
     "name": "stderr",
     "output_type": "stream",
     "text": [
      "[I 2025-06-12 20:53:07,195] Trial 38 finished with value: 11.697723388671875 and parameters: {'lstm_units': 32, 'lstm_layers': 2, 'dropout_rate': 0.0, 'learning_rate': 0.006249264871888245, 'batch_size': 32, 'dense_units': 48, 'window_size': 10}. Best is trial 29 with value: 8.640944480895996.\n",
      "c:\\Users\\jerem\\miniconda3\\Lib\\site-packages\\keras\\src\\layers\\rnn\\rnn.py:199: UserWarning: Do not pass an `input_shape`/`input_dim` argument to a layer. When using Sequential models, prefer using an `Input(shape)` object as the first layer in the model instead.\n",
      "  super().__init__(**kwargs)\n"
     ]
    },
    {
     "name": "stdout",
     "output_type": "stream",
     "text": [
      "\u001b[1m4/4\u001b[0m \u001b[32m━━━━━━━━━━━━━━━━━━━━\u001b[0m\u001b[37m\u001b[0m \u001b[1m1s\u001b[0m 178ms/step\n"
     ]
    },
    {
     "name": "stderr",
     "output_type": "stream",
     "text": [
      "[I 2025-06-12 20:53:27,196] Trial 39 finished with value: 23.726524353027344 and parameters: {'lstm_units': 64, 'lstm_layers': 2, 'dropout_rate': 0.0, 'learning_rate': 0.008160417177169739, 'batch_size': 32, 'dense_units': 48, 'window_size': 20}. Best is trial 29 with value: 8.640944480895996.\n",
      "c:\\Users\\jerem\\miniconda3\\Lib\\site-packages\\keras\\src\\layers\\rnn\\rnn.py:199: UserWarning: Do not pass an `input_shape`/`input_dim` argument to a layer. When using Sequential models, prefer using an `Input(shape)` object as the first layer in the model instead.\n",
      "  super().__init__(**kwargs)\n"
     ]
    },
    {
     "name": "stdout",
     "output_type": "stream",
     "text": [
      "\u001b[1m4/4\u001b[0m \u001b[32m━━━━━━━━━━━━━━━━━━━━\u001b[0m\u001b[37m\u001b[0m \u001b[1m1s\u001b[0m 181ms/step\n"
     ]
    },
    {
     "name": "stderr",
     "output_type": "stream",
     "text": [
      "[I 2025-06-12 20:53:42,012] Trial 40 finished with value: 8.685312271118164 and parameters: {'lstm_units': 64, 'lstm_layers': 2, 'dropout_rate': 0.0, 'learning_rate': 0.0035532611302359508, 'batch_size': 32, 'dense_units': 32, 'window_size': 10}. Best is trial 29 with value: 8.640944480895996.\n",
      "c:\\Users\\jerem\\miniconda3\\Lib\\site-packages\\keras\\src\\layers\\rnn\\rnn.py:199: UserWarning: Do not pass an `input_shape`/`input_dim` argument to a layer. When using Sequential models, prefer using an `Input(shape)` object as the first layer in the model instead.\n",
      "  super().__init__(**kwargs)\n"
     ]
    },
    {
     "name": "stdout",
     "output_type": "stream",
     "text": [
      "\u001b[1m4/4\u001b[0m \u001b[32m━━━━━━━━━━━━━━━━━━━━\u001b[0m\u001b[37m\u001b[0m \u001b[1m1s\u001b[0m 172ms/step\n"
     ]
    },
    {
     "name": "stderr",
     "output_type": "stream",
     "text": [
      "[I 2025-06-12 20:53:57,779] Trial 41 finished with value: 8.658332824707031 and parameters: {'lstm_units': 64, 'lstm_layers': 2, 'dropout_rate': 0.0, 'learning_rate': 0.0026754518679121785, 'batch_size': 32, 'dense_units': 32, 'window_size': 10}. Best is trial 29 with value: 8.640944480895996.\n",
      "c:\\Users\\jerem\\miniconda3\\Lib\\site-packages\\keras\\src\\layers\\rnn\\rnn.py:199: UserWarning: Do not pass an `input_shape`/`input_dim` argument to a layer. When using Sequential models, prefer using an `Input(shape)` object as the first layer in the model instead.\n",
      "  super().__init__(**kwargs)\n"
     ]
    },
    {
     "name": "stdout",
     "output_type": "stream",
     "text": [
      "\u001b[1m4/4\u001b[0m \u001b[32m━━━━━━━━━━━━━━━━━━━━\u001b[0m\u001b[37m\u001b[0m \u001b[1m1s\u001b[0m 172ms/step\n"
     ]
    },
    {
     "name": "stderr",
     "output_type": "stream",
     "text": [
      "[I 2025-06-12 20:54:17,030] Trial 42 finished with value: 8.993775367736816 and parameters: {'lstm_units': 64, 'lstm_layers': 2, 'dropout_rate': 0.0, 'learning_rate': 0.001980666689721291, 'batch_size': 32, 'dense_units': 32, 'window_size': 10}. Best is trial 29 with value: 8.640944480895996.\n",
      "c:\\Users\\jerem\\miniconda3\\Lib\\site-packages\\keras\\src\\layers\\rnn\\rnn.py:199: UserWarning: Do not pass an `input_shape`/`input_dim` argument to a layer. When using Sequential models, prefer using an `Input(shape)` object as the first layer in the model instead.\n",
      "  super().__init__(**kwargs)\n"
     ]
    },
    {
     "name": "stdout",
     "output_type": "stream",
     "text": [
      "\u001b[1m4/4\u001b[0m \u001b[32m━━━━━━━━━━━━━━━━━━━━\u001b[0m\u001b[37m\u001b[0m \u001b[1m1s\u001b[0m 250ms/step\n"
     ]
    },
    {
     "name": "stderr",
     "output_type": "stream",
     "text": [
      "[I 2025-06-12 20:54:42,447] Trial 43 finished with value: 16.599224090576172 and parameters: {'lstm_units': 64, 'lstm_layers': 2, 'dropout_rate': 0.0, 'learning_rate': 0.00500446162436096, 'batch_size': 32, 'dense_units': 16, 'window_size': 20}. Best is trial 29 with value: 8.640944480895996.\n",
      "c:\\Users\\jerem\\miniconda3\\Lib\\site-packages\\keras\\src\\layers\\rnn\\rnn.py:199: UserWarning: Do not pass an `input_shape`/`input_dim` argument to a layer. When using Sequential models, prefer using an `Input(shape)` object as the first layer in the model instead.\n",
      "  super().__init__(**kwargs)\n"
     ]
    },
    {
     "name": "stdout",
     "output_type": "stream",
     "text": [
      "\u001b[1m4/4\u001b[0m \u001b[32m━━━━━━━━━━━━━━━━━━━━\u001b[0m\u001b[37m\u001b[0m \u001b[1m1s\u001b[0m 161ms/step\n"
     ]
    },
    {
     "name": "stderr",
     "output_type": "stream",
     "text": [
      "[I 2025-06-12 20:55:00,980] Trial 44 finished with value: 10.170818328857422 and parameters: {'lstm_units': 64, 'lstm_layers': 2, 'dropout_rate': 0.1, 'learning_rate': 0.003756942994049466, 'batch_size': 32, 'dense_units': 32, 'window_size': 10}. Best is trial 29 with value: 8.640944480895996.\n",
      "c:\\Users\\jerem\\miniconda3\\Lib\\site-packages\\keras\\src\\layers\\rnn\\rnn.py:199: UserWarning: Do not pass an `input_shape`/`input_dim` argument to a layer. When using Sequential models, prefer using an `Input(shape)` object as the first layer in the model instead.\n",
      "  super().__init__(**kwargs)\n"
     ]
    },
    {
     "name": "stdout",
     "output_type": "stream",
     "text": [
      "\u001b[1m4/4\u001b[0m \u001b[32m━━━━━━━━━━━━━━━━━━━━\u001b[0m\u001b[37m\u001b[0m \u001b[1m1s\u001b[0m 164ms/step\n"
     ]
    },
    {
     "name": "stderr",
     "output_type": "stream",
     "text": [
      "[I 2025-06-12 20:55:19,954] Trial 45 finished with value: 10.433552742004395 and parameters: {'lstm_units': 64, 'lstm_layers': 2, 'dropout_rate': 0.0, 'learning_rate': 0.002535551830165071, 'batch_size': 32, 'dense_units': 16, 'window_size': 20}. Best is trial 29 with value: 8.640944480895996.\n",
      "c:\\Users\\jerem\\miniconda3\\Lib\\site-packages\\keras\\src\\layers\\rnn\\rnn.py:199: UserWarning: Do not pass an `input_shape`/`input_dim` argument to a layer. When using Sequential models, prefer using an `Input(shape)` object as the first layer in the model instead.\n",
      "  super().__init__(**kwargs)\n"
     ]
    },
    {
     "name": "stdout",
     "output_type": "stream",
     "text": [
      "\u001b[1m4/4\u001b[0m \u001b[32m━━━━━━━━━━━━━━━━━━━━\u001b[0m\u001b[37m\u001b[0m \u001b[1m1s\u001b[0m 161ms/step\n"
     ]
    },
    {
     "name": "stderr",
     "output_type": "stream",
     "text": [
      "[I 2025-06-12 20:55:37,718] Trial 46 finished with value: 25.41748046875 and parameters: {'lstm_units': 32, 'lstm_layers': 2, 'dropout_rate': 0.0, 'learning_rate': 0.0014846201980765307, 'batch_size': 32, 'dense_units': 32, 'window_size': 10}. Best is trial 29 with value: 8.640944480895996.\n",
      "c:\\Users\\jerem\\miniconda3\\Lib\\site-packages\\keras\\src\\layers\\rnn\\rnn.py:199: UserWarning: Do not pass an `input_shape`/`input_dim` argument to a layer. When using Sequential models, prefer using an `Input(shape)` object as the first layer in the model instead.\n",
      "  super().__init__(**kwargs)\n"
     ]
    },
    {
     "name": "stdout",
     "output_type": "stream",
     "text": [
      "\u001b[1m4/4\u001b[0m \u001b[32m━━━━━━━━━━━━━━━━━━━━\u001b[0m\u001b[37m\u001b[0m \u001b[1m1s\u001b[0m 171ms/step\n"
     ]
    },
    {
     "name": "stderr",
     "output_type": "stream",
     "text": [
      "[I 2025-06-12 20:55:59,302] Trial 47 finished with value: 9.042694091796875 and parameters: {'lstm_units': 64, 'lstm_layers': 2, 'dropout_rate': 0.1, 'learning_rate': 0.00264814828413939, 'batch_size': 32, 'dense_units': 48, 'window_size': 20}. Best is trial 29 with value: 8.640944480895996.\n",
      "c:\\Users\\jerem\\miniconda3\\Lib\\site-packages\\keras\\src\\layers\\rnn\\rnn.py:199: UserWarning: Do not pass an `input_shape`/`input_dim` argument to a layer. When using Sequential models, prefer using an `Input(shape)` object as the first layer in the model instead.\n",
      "  super().__init__(**kwargs)\n"
     ]
    },
    {
     "name": "stdout",
     "output_type": "stream",
     "text": [
      "\u001b[1m4/4\u001b[0m \u001b[32m━━━━━━━━━━━━━━━━━━━━\u001b[0m\u001b[37m\u001b[0m \u001b[1m1s\u001b[0m 155ms/step\n"
     ]
    },
    {
     "name": "stderr",
     "output_type": "stream",
     "text": [
      "[I 2025-06-12 20:56:18,538] Trial 48 finished with value: 9.333121299743652 and parameters: {'lstm_units': 64, 'lstm_layers': 2, 'dropout_rate': 0.0, 'learning_rate': 0.003988300012125047, 'batch_size': 32, 'dense_units': 32, 'window_size': 10}. Best is trial 29 with value: 8.640944480895996.\n",
      "c:\\Users\\jerem\\miniconda3\\Lib\\site-packages\\keras\\src\\layers\\rnn\\rnn.py:199: UserWarning: Do not pass an `input_shape`/`input_dim` argument to a layer. When using Sequential models, prefer using an `Input(shape)` object as the first layer in the model instead.\n",
      "  super().__init__(**kwargs)\n"
     ]
    },
    {
     "name": "stdout",
     "output_type": "stream",
     "text": [
      "\u001b[1m4/4\u001b[0m \u001b[32m━━━━━━━━━━━━━━━━━━━━\u001b[0m\u001b[37m\u001b[0m \u001b[1m1s\u001b[0m 167ms/step\n"
     ]
    },
    {
     "name": "stderr",
     "output_type": "stream",
     "text": [
      "[I 2025-06-12 20:56:36,067] Trial 49 finished with value: 15.606780052185059 and parameters: {'lstm_units': 32, 'lstm_layers': 2, 'dropout_rate': 0.1, 'learning_rate': 0.0021802437264146868, 'batch_size': 32, 'dense_units': 64, 'window_size': 10}. Best is trial 29 with value: 8.640944480895996.\n",
      "c:\\Users\\jerem\\miniconda3\\Lib\\site-packages\\keras\\src\\layers\\rnn\\rnn.py:199: UserWarning: Do not pass an `input_shape`/`input_dim` argument to a layer. When using Sequential models, prefer using an `Input(shape)` object as the first layer in the model instead.\n",
      "  super().__init__(**kwargs)\n"
     ]
    },
    {
     "name": "stdout",
     "output_type": "stream",
     "text": [
      "\u001b[1m4/4\u001b[0m \u001b[32m━━━━━━━━━━━━━━━━━━━━\u001b[0m\u001b[37m\u001b[0m \u001b[1m1s\u001b[0m 161ms/step\n"
     ]
    },
    {
     "name": "stderr",
     "output_type": "stream",
     "text": [
      "[I 2025-06-12 20:57:00,236] Trial 50 finished with value: 19.83906364440918 and parameters: {'lstm_units': 64, 'lstm_layers': 2, 'dropout_rate': 0.5, 'learning_rate': 0.001069104944731467, 'batch_size': 32, 'dense_units': 48, 'window_size': 20}. Best is trial 29 with value: 8.640944480895996.\n",
      "c:\\Users\\jerem\\miniconda3\\Lib\\site-packages\\keras\\src\\layers\\rnn\\rnn.py:199: UserWarning: Do not pass an `input_shape`/`input_dim` argument to a layer. When using Sequential models, prefer using an `Input(shape)` object as the first layer in the model instead.\n",
      "  super().__init__(**kwargs)\n"
     ]
    },
    {
     "name": "stdout",
     "output_type": "stream",
     "text": [
      "\u001b[1m4/4\u001b[0m \u001b[32m━━━━━━━━━━━━━━━━━━━━\u001b[0m\u001b[37m\u001b[0m \u001b[1m1s\u001b[0m 160ms/step\n"
     ]
    },
    {
     "name": "stderr",
     "output_type": "stream",
     "text": [
      "[I 2025-06-12 20:57:14,017] Trial 51 finished with value: 9.069692611694336 and parameters: {'lstm_units': 64, 'lstm_layers': 2, 'dropout_rate': 0.0, 'learning_rate': 0.0033391563212483667, 'batch_size': 32, 'dense_units': 48, 'window_size': 10}. Best is trial 29 with value: 8.640944480895996.\n",
      "c:\\Users\\jerem\\miniconda3\\Lib\\site-packages\\keras\\src\\layers\\rnn\\rnn.py:199: UserWarning: Do not pass an `input_shape`/`input_dim` argument to a layer. When using Sequential models, prefer using an `Input(shape)` object as the first layer in the model instead.\n",
      "  super().__init__(**kwargs)\n"
     ]
    },
    {
     "name": "stdout",
     "output_type": "stream",
     "text": [
      "\u001b[1m4/4\u001b[0m \u001b[32m━━━━━━━━━━━━━━━━━━━━\u001b[0m\u001b[37m\u001b[0m \u001b[1m1s\u001b[0m 155ms/step\n"
     ]
    },
    {
     "name": "stderr",
     "output_type": "stream",
     "text": [
      "[I 2025-06-12 20:57:28,089] Trial 52 finished with value: 9.470341682434082 and parameters: {'lstm_units': 64, 'lstm_layers': 2, 'dropout_rate': 0.0, 'learning_rate': 0.0027368520415575223, 'batch_size': 32, 'dense_units': 48, 'window_size': 10}. Best is trial 29 with value: 8.640944480895996.\n",
      "c:\\Users\\jerem\\miniconda3\\Lib\\site-packages\\keras\\src\\layers\\rnn\\rnn.py:199: UserWarning: Do not pass an `input_shape`/`input_dim` argument to a layer. When using Sequential models, prefer using an `Input(shape)` object as the first layer in the model instead.\n",
      "  super().__init__(**kwargs)\n"
     ]
    },
    {
     "name": "stdout",
     "output_type": "stream",
     "text": [
      "\u001b[1m4/4\u001b[0m \u001b[32m━━━━━━━━━━━━━━━━━━━━\u001b[0m\u001b[37m\u001b[0m \u001b[1m1s\u001b[0m 172ms/step\n"
     ]
    },
    {
     "name": "stderr",
     "output_type": "stream",
     "text": [
      "[I 2025-06-12 20:57:41,157] Trial 53 finished with value: 19.264162063598633 and parameters: {'lstm_units': 64, 'lstm_layers': 2, 'dropout_rate': 0.0, 'learning_rate': 0.00569659481435214, 'batch_size': 32, 'dense_units': 32, 'window_size': 10}. Best is trial 29 with value: 8.640944480895996.\n",
      "c:\\Users\\jerem\\miniconda3\\Lib\\site-packages\\keras\\src\\layers\\rnn\\rnn.py:199: UserWarning: Do not pass an `input_shape`/`input_dim` argument to a layer. When using Sequential models, prefer using an `Input(shape)` object as the first layer in the model instead.\n",
      "  super().__init__(**kwargs)\n"
     ]
    },
    {
     "name": "stdout",
     "output_type": "stream",
     "text": [
      "\u001b[1m4/4\u001b[0m \u001b[32m━━━━━━━━━━━━━━━━━━━━\u001b[0m\u001b[37m\u001b[0m \u001b[1m1s\u001b[0m 149ms/step\n"
     ]
    },
    {
     "name": "stderr",
     "output_type": "stream",
     "text": [
      "[I 2025-06-12 20:57:54,567] Trial 54 finished with value: 10.258526802062988 and parameters: {'lstm_units': 64, 'lstm_layers': 2, 'dropout_rate': 0.0, 'learning_rate': 0.0036184494612594956, 'batch_size': 32, 'dense_units': 64, 'window_size': 10}. Best is trial 29 with value: 8.640944480895996.\n",
      "c:\\Users\\jerem\\miniconda3\\Lib\\site-packages\\keras\\src\\layers\\rnn\\rnn.py:199: UserWarning: Do not pass an `input_shape`/`input_dim` argument to a layer. When using Sequential models, prefer using an `Input(shape)` object as the first layer in the model instead.\n",
      "  super().__init__(**kwargs)\n"
     ]
    },
    {
     "name": "stdout",
     "output_type": "stream",
     "text": [
      "\u001b[1m4/4\u001b[0m \u001b[32m━━━━━━━━━━━━━━━━━━━━\u001b[0m\u001b[37m\u001b[0m \u001b[1m1s\u001b[0m 163ms/step\n"
     ]
    },
    {
     "name": "stderr",
     "output_type": "stream",
     "text": [
      "[I 2025-06-12 20:58:10,155] Trial 55 finished with value: 13.82320785522461 and parameters: {'lstm_units': 64, 'lstm_layers': 2, 'dropout_rate': 0.1, 'learning_rate': 0.007327568974577083, 'batch_size': 32, 'dense_units': 16, 'window_size': 20}. Best is trial 29 with value: 8.640944480895996.\n",
      "c:\\Users\\jerem\\miniconda3\\Lib\\site-packages\\keras\\src\\layers\\rnn\\rnn.py:199: UserWarning: Do not pass an `input_shape`/`input_dim` argument to a layer. When using Sequential models, prefer using an `Input(shape)` object as the first layer in the model instead.\n",
      "  super().__init__(**kwargs)\n"
     ]
    },
    {
     "name": "stdout",
     "output_type": "stream",
     "text": [
      "\u001b[1m4/4\u001b[0m \u001b[32m━━━━━━━━━━━━━━━━━━━━\u001b[0m\u001b[37m\u001b[0m \u001b[1m1s\u001b[0m 156ms/step\n"
     ]
    },
    {
     "name": "stderr",
     "output_type": "stream",
     "text": [
      "[I 2025-06-12 20:58:23,949] Trial 56 finished with value: 18.687015533447266 and parameters: {'lstm_units': 64, 'lstm_layers': 2, 'dropout_rate': 0.1, 'learning_rate': 0.0047298695452807635, 'batch_size': 32, 'dense_units': 48, 'window_size': 10}. Best is trial 29 with value: 8.640944480895996.\n",
      "c:\\Users\\jerem\\miniconda3\\Lib\\site-packages\\keras\\src\\layers\\rnn\\rnn.py:199: UserWarning: Do not pass an `input_shape`/`input_dim` argument to a layer. When using Sequential models, prefer using an `Input(shape)` object as the first layer in the model instead.\n",
      "  super().__init__(**kwargs)\n"
     ]
    },
    {
     "name": "stdout",
     "output_type": "stream",
     "text": [
      "\u001b[1m4/4\u001b[0m \u001b[32m━━━━━━━━━━━━━━━━━━━━\u001b[0m\u001b[37m\u001b[0m \u001b[1m1s\u001b[0m 178ms/step\n"
     ]
    },
    {
     "name": "stderr",
     "output_type": "stream",
     "text": [
      "[I 2025-06-12 20:58:42,616] Trial 57 finished with value: 8.806447982788086 and parameters: {'lstm_units': 64, 'lstm_layers': 2, 'dropout_rate': 0.0, 'learning_rate': 0.002933829707243737, 'batch_size': 32, 'dense_units': 64, 'window_size': 20}. Best is trial 29 with value: 8.640944480895996.\n",
      "c:\\Users\\jerem\\miniconda3\\Lib\\site-packages\\keras\\src\\layers\\rnn\\rnn.py:199: UserWarning: Do not pass an `input_shape`/`input_dim` argument to a layer. When using Sequential models, prefer using an `Input(shape)` object as the first layer in the model instead.\n",
      "  super().__init__(**kwargs)\n"
     ]
    },
    {
     "name": "stdout",
     "output_type": "stream",
     "text": [
      "\u001b[1m4/4\u001b[0m \u001b[32m━━━━━━━━━━━━━━━━━━━━\u001b[0m\u001b[37m\u001b[0m \u001b[1m1s\u001b[0m 167ms/step\n"
     ]
    },
    {
     "name": "stderr",
     "output_type": "stream",
     "text": [
      "[I 2025-06-12 20:59:06,599] Trial 58 finished with value: 12.062748908996582 and parameters: {'lstm_units': 96, 'lstm_layers': 2, 'dropout_rate': 0.1, 'learning_rate': 0.0014907023049765267, 'batch_size': 32, 'dense_units': 64, 'window_size': 20}. Best is trial 29 with value: 8.640944480895996.\n",
      "c:\\Users\\jerem\\miniconda3\\Lib\\site-packages\\keras\\src\\layers\\rnn\\rnn.py:199: UserWarning: Do not pass an `input_shape`/`input_dim` argument to a layer. When using Sequential models, prefer using an `Input(shape)` object as the first layer in the model instead.\n",
      "  super().__init__(**kwargs)\n"
     ]
    },
    {
     "name": "stdout",
     "output_type": "stream",
     "text": [
      "\u001b[1m4/4\u001b[0m \u001b[32m━━━━━━━━━━━━━━━━━━━━\u001b[0m\u001b[37m\u001b[0m \u001b[1m1s\u001b[0m 172ms/step\n"
     ]
    },
    {
     "name": "stderr",
     "output_type": "stream",
     "text": [
      "[I 2025-06-12 20:59:28,183] Trial 59 finished with value: 9.873790740966797 and parameters: {'lstm_units': 64, 'lstm_layers': 2, 'dropout_rate': 0.0, 'learning_rate': 0.001997588154567539, 'batch_size': 32, 'dense_units': 80, 'window_size': 20}. Best is trial 29 with value: 8.640944480895996.\n",
      "c:\\Users\\jerem\\miniconda3\\Lib\\site-packages\\keras\\src\\layers\\rnn\\rnn.py:199: UserWarning: Do not pass an `input_shape`/`input_dim` argument to a layer. When using Sequential models, prefer using an `Input(shape)` object as the first layer in the model instead.\n",
      "  super().__init__(**kwargs)\n"
     ]
    },
    {
     "name": "stdout",
     "output_type": "stream",
     "text": [
      "\u001b[1m4/4\u001b[0m \u001b[32m━━━━━━━━━━━━━━━━━━━━\u001b[0m\u001b[37m\u001b[0m \u001b[1m1s\u001b[0m 188ms/step\n"
     ]
    },
    {
     "name": "stderr",
     "output_type": "stream",
     "text": [
      "[I 2025-06-12 20:59:46,450] Trial 60 finished with value: 12.284914016723633 and parameters: {'lstm_units': 64, 'lstm_layers': 2, 'dropout_rate': 0.0, 'learning_rate': 0.00428788515879423, 'batch_size': 32, 'dense_units': 64, 'window_size': 20}. Best is trial 29 with value: 8.640944480895996.\n",
      "c:\\Users\\jerem\\miniconda3\\Lib\\site-packages\\keras\\src\\layers\\rnn\\rnn.py:199: UserWarning: Do not pass an `input_shape`/`input_dim` argument to a layer. When using Sequential models, prefer using an `Input(shape)` object as the first layer in the model instead.\n",
      "  super().__init__(**kwargs)\n"
     ]
    },
    {
     "name": "stdout",
     "output_type": "stream",
     "text": [
      "\u001b[1m4/4\u001b[0m \u001b[32m━━━━━━━━━━━━━━━━━━━━\u001b[0m\u001b[37m\u001b[0m \u001b[1m1s\u001b[0m 164ms/step\n"
     ]
    },
    {
     "name": "stderr",
     "output_type": "stream",
     "text": [
      "[I 2025-06-12 20:59:59,833] Trial 61 finished with value: 8.746575355529785 and parameters: {'lstm_units': 64, 'lstm_layers': 2, 'dropout_rate': 0.0, 'learning_rate': 0.002933868416593227, 'batch_size': 32, 'dense_units': 48, 'window_size': 10}. Best is trial 29 with value: 8.640944480895996.\n",
      "c:\\Users\\jerem\\miniconda3\\Lib\\site-packages\\keras\\src\\layers\\rnn\\rnn.py:199: UserWarning: Do not pass an `input_shape`/`input_dim` argument to a layer. When using Sequential models, prefer using an `Input(shape)` object as the first layer in the model instead.\n",
      "  super().__init__(**kwargs)\n"
     ]
    },
    {
     "name": "stdout",
     "output_type": "stream",
     "text": [
      "\u001b[1m4/4\u001b[0m \u001b[32m━━━━━━━━━━━━━━━━━━━━\u001b[0m\u001b[37m\u001b[0m \u001b[1m1s\u001b[0m 163ms/step\n"
     ]
    },
    {
     "name": "stderr",
     "output_type": "stream",
     "text": [
      "[I 2025-06-12 21:00:14,934] Trial 62 finished with value: 9.195871353149414 and parameters: {'lstm_units': 64, 'lstm_layers': 2, 'dropout_rate': 0.0, 'learning_rate': 0.0028248543784121817, 'batch_size': 32, 'dense_units': 64, 'window_size': 10}. Best is trial 29 with value: 8.640944480895996.\n",
      "c:\\Users\\jerem\\miniconda3\\Lib\\site-packages\\keras\\src\\layers\\rnn\\rnn.py:199: UserWarning: Do not pass an `input_shape`/`input_dim` argument to a layer. When using Sequential models, prefer using an `Input(shape)` object as the first layer in the model instead.\n",
      "  super().__init__(**kwargs)\n"
     ]
    },
    {
     "name": "stdout",
     "output_type": "stream",
     "text": [
      "\u001b[1m4/4\u001b[0m \u001b[32m━━━━━━━━━━━━━━━━━━━━\u001b[0m\u001b[37m\u001b[0m \u001b[1m1s\u001b[0m 195ms/step\n"
     ]
    },
    {
     "name": "stderr",
     "output_type": "stream",
     "text": [
      "[I 2025-06-12 21:00:29,405] Trial 63 finished with value: 9.15816879272461 and parameters: {'lstm_units': 64, 'lstm_layers': 2, 'dropout_rate': 0.0, 'learning_rate': 0.002365604018412823, 'batch_size': 32, 'dense_units': 32, 'window_size': 10}. Best is trial 29 with value: 8.640944480895996.\n",
      "c:\\Users\\jerem\\miniconda3\\Lib\\site-packages\\keras\\src\\layers\\rnn\\rnn.py:199: UserWarning: Do not pass an `input_shape`/`input_dim` argument to a layer. When using Sequential models, prefer using an `Input(shape)` object as the first layer in the model instead.\n",
      "  super().__init__(**kwargs)\n"
     ]
    },
    {
     "name": "stdout",
     "output_type": "stream",
     "text": [
      "\u001b[1m8/8\u001b[0m \u001b[32m━━━━━━━━━━━━━━━━━━━━\u001b[0m\u001b[37m\u001b[0m \u001b[1m1s\u001b[0m 72ms/step\n"
     ]
    },
    {
     "name": "stderr",
     "output_type": "stream",
     "text": [
      "[I 2025-06-12 21:00:42,751] Trial 64 finished with value: 8.68830680847168 and parameters: {'lstm_units': 64, 'lstm_layers': 2, 'dropout_rate': 0.0, 'learning_rate': 0.009717267130072042, 'batch_size': 16, 'dense_units': 48, 'window_size': 10}. Best is trial 29 with value: 8.640944480895996.\n",
      "c:\\Users\\jerem\\miniconda3\\Lib\\site-packages\\keras\\src\\layers\\rnn\\rnn.py:199: UserWarning: Do not pass an `input_shape`/`input_dim` argument to a layer. When using Sequential models, prefer using an `Input(shape)` object as the first layer in the model instead.\n",
      "  super().__init__(**kwargs)\n"
     ]
    },
    {
     "name": "stdout",
     "output_type": "stream",
     "text": [
      "\u001b[1m8/8\u001b[0m \u001b[32m━━━━━━━━━━━━━━━━━━━━\u001b[0m\u001b[37m\u001b[0m \u001b[1m1s\u001b[0m 72ms/step\n"
     ]
    },
    {
     "name": "stderr",
     "output_type": "stream",
     "text": [
      "[I 2025-06-12 21:00:56,267] Trial 65 finished with value: 10.469709396362305 and parameters: {'lstm_units': 64, 'lstm_layers': 2, 'dropout_rate': 0.1, 'learning_rate': 0.005252976669746617, 'batch_size': 16, 'dense_units': 48, 'window_size': 10}. Best is trial 29 with value: 8.640944480895996.\n",
      "c:\\Users\\jerem\\miniconda3\\Lib\\site-packages\\keras\\src\\layers\\rnn\\rnn.py:199: UserWarning: Do not pass an `input_shape`/`input_dim` argument to a layer. When using Sequential models, prefer using an `Input(shape)` object as the first layer in the model instead.\n",
      "  super().__init__(**kwargs)\n"
     ]
    },
    {
     "name": "stdout",
     "output_type": "stream",
     "text": [
      "\u001b[1m8/8\u001b[0m \u001b[32m━━━━━━━━━━━━━━━━━━━━\u001b[0m\u001b[37m\u001b[0m \u001b[1m1s\u001b[0m 77ms/step\n"
     ]
    },
    {
     "name": "stderr",
     "output_type": "stream",
     "text": [
      "[I 2025-06-12 21:01:11,116] Trial 66 finished with value: 40.30542755126953 and parameters: {'lstm_units': 96, 'lstm_layers': 2, 'dropout_rate': 0.0, 'learning_rate': 0.009292302594225537, 'batch_size': 16, 'dense_units': 32, 'window_size': 10}. Best is trial 29 with value: 8.640944480895996.\n",
      "c:\\Users\\jerem\\miniconda3\\Lib\\site-packages\\keras\\src\\layers\\rnn\\rnn.py:199: UserWarning: Do not pass an `input_shape`/`input_dim` argument to a layer. When using Sequential models, prefer using an `Input(shape)` object as the first layer in the model instead.\n",
      "  super().__init__(**kwargs)\n"
     ]
    },
    {
     "name": "stdout",
     "output_type": "stream",
     "text": [
      "\u001b[1m8/8\u001b[0m \u001b[32m━━━━━━━━━━━━━━━━━━━━\u001b[0m\u001b[37m\u001b[0m \u001b[1m1s\u001b[0m 73ms/step\n"
     ]
    },
    {
     "name": "stderr",
     "output_type": "stream",
     "text": [
      "[I 2025-06-12 21:01:26,851] Trial 67 finished with value: 11.282292366027832 and parameters: {'lstm_units': 32, 'lstm_layers': 2, 'dropout_rate': 0.4, 'learning_rate': 0.006034714136427461, 'batch_size': 16, 'dense_units': 48, 'window_size': 10}. Best is trial 29 with value: 8.640944480895996.\n",
      "c:\\Users\\jerem\\miniconda3\\Lib\\site-packages\\keras\\src\\layers\\rnn\\rnn.py:199: UserWarning: Do not pass an `input_shape`/`input_dim` argument to a layer. When using Sequential models, prefer using an `Input(shape)` object as the first layer in the model instead.\n",
      "  super().__init__(**kwargs)\n"
     ]
    },
    {
     "name": "stdout",
     "output_type": "stream",
     "text": [
      "\u001b[1m8/8\u001b[0m \u001b[32m━━━━━━━━━━━━━━━━━━━━\u001b[0m\u001b[37m\u001b[0m \u001b[1m1s\u001b[0m 71ms/step\n"
     ]
    },
    {
     "name": "stderr",
     "output_type": "stream",
     "text": [
      "[I 2025-06-12 21:02:07,924] Trial 68 finished with value: 16.446332931518555 and parameters: {'lstm_units': 64, 'lstm_layers': 2, 'dropout_rate': 0.0, 'learning_rate': 0.0004854291976984914, 'batch_size': 16, 'dense_units': 48, 'window_size': 10}. Best is trial 29 with value: 8.640944480895996.\n",
      "c:\\Users\\jerem\\miniconda3\\Lib\\site-packages\\keras\\src\\layers\\rnn\\rnn.py:199: UserWarning: Do not pass an `input_shape`/`input_dim` argument to a layer. When using Sequential models, prefer using an `Input(shape)` object as the first layer in the model instead.\n",
      "  super().__init__(**kwargs)\n"
     ]
    },
    {
     "name": "stdout",
     "output_type": "stream",
     "text": [
      "\u001b[1m8/8\u001b[0m \u001b[32m━━━━━━━━━━━━━━━━━━━━\u001b[0m\u001b[37m\u001b[0m \u001b[1m1s\u001b[0m 74ms/step\n"
     ]
    },
    {
     "name": "stderr",
     "output_type": "stream",
     "text": [
      "[I 2025-06-12 21:02:26,138] Trial 69 finished with value: 20.51884651184082 and parameters: {'lstm_units': 64, 'lstm_layers': 2, 'dropout_rate': 0.1, 'learning_rate': 0.0036317137337428035, 'batch_size': 16, 'dense_units': 32, 'window_size': 10}. Best is trial 29 with value: 8.640944480895996.\n",
      "[I 2025-06-12 21:02:26,222] A new study created in memory with name: lstm_regression_study\n"
     ]
    },
    {
     "name": "stdout",
     "output_type": "stream",
     "text": [
      "Running LSTM study for bin 5, stock 14...\n"
     ]
    },
    {
     "name": "stderr",
     "output_type": "stream",
     "text": [
      "c:\\Users\\jerem\\miniconda3\\Lib\\site-packages\\keras\\src\\layers\\rnn\\rnn.py:199: UserWarning: Do not pass an `input_shape`/`input_dim` argument to a layer. When using Sequential models, prefer using an `Input(shape)` object as the first layer in the model instead.\n",
      "  super().__init__(**kwargs)\n"
     ]
    },
    {
     "name": "stdout",
     "output_type": "stream",
     "text": [
      "\u001b[1m4/4\u001b[0m \u001b[32m━━━━━━━━━━━━━━━━━━━━\u001b[0m\u001b[37m\u001b[0m \u001b[1m1s\u001b[0m 100ms/step\n"
     ]
    },
    {
     "name": "stderr",
     "output_type": "stream",
     "text": [
      "[I 2025-06-12 21:02:52,618] Trial 0 finished with value: 19.10649299621582 and parameters: {'lstm_units': 96, 'lstm_layers': 1, 'dropout_rate': 0.4, 'learning_rate': 0.00016592409356385864, 'batch_size': 32, 'dense_units': 128, 'window_size': 20}. Best is trial 0 with value: 19.10649299621582.\n",
      "c:\\Users\\jerem\\miniconda3\\Lib\\site-packages\\keras\\src\\layers\\rnn\\rnn.py:199: UserWarning: Do not pass an `input_shape`/`input_dim` argument to a layer. When using Sequential models, prefer using an `Input(shape)` object as the first layer in the model instead.\n",
      "  super().__init__(**kwargs)\n"
     ]
    },
    {
     "name": "stdout",
     "output_type": "stream",
     "text": [
      "\u001b[1m8/8\u001b[0m \u001b[32m━━━━━━━━━━━━━━━━━━━━\u001b[0m\u001b[37m\u001b[0m \u001b[1m1s\u001b[0m 42ms/step\n"
     ]
    },
    {
     "name": "stderr",
     "output_type": "stream",
     "text": [
      "[I 2025-06-12 21:03:04,736] Trial 1 finished with value: 17.799428939819336 and parameters: {'lstm_units': 32, 'lstm_layers': 1, 'dropout_rate': 0.4, 'learning_rate': 0.007885059435970194, 'batch_size': 16, 'dense_units': 16, 'window_size': 20}. Best is trial 1 with value: 17.799428939819336.\n",
      "c:\\Users\\jerem\\miniconda3\\Lib\\site-packages\\keras\\src\\layers\\rnn\\rnn.py:199: UserWarning: Do not pass an `input_shape`/`input_dim` argument to a layer. When using Sequential models, prefer using an `Input(shape)` object as the first layer in the model instead.\n",
      "  super().__init__(**kwargs)\n"
     ]
    },
    {
     "name": "stdout",
     "output_type": "stream",
     "text": [
      "\u001b[1m8/8\u001b[0m \u001b[32m━━━━━━━━━━━━━━━━━━━━\u001b[0m\u001b[37m\u001b[0m \u001b[1m1s\u001b[0m 76ms/step\n"
     ]
    },
    {
     "name": "stderr",
     "output_type": "stream",
     "text": [
      "[I 2025-06-12 21:03:35,428] Trial 2 finished with value: 18.339914321899414 and parameters: {'lstm_units': 32, 'lstm_layers': 2, 'dropout_rate': 0.2, 'learning_rate': 0.0018980213819971624, 'batch_size': 16, 'dense_units': 48, 'window_size': 60}. Best is trial 1 with value: 17.799428939819336.\n",
      "c:\\Users\\jerem\\miniconda3\\Lib\\site-packages\\keras\\src\\layers\\rnn\\rnn.py:199: UserWarning: Do not pass an `input_shape`/`input_dim` argument to a layer. When using Sequential models, prefer using an `Input(shape)` object as the first layer in the model instead.\n",
      "  super().__init__(**kwargs)\n"
     ]
    },
    {
     "name": "stdout",
     "output_type": "stream",
     "text": [
      "\u001b[1m4/4\u001b[0m \u001b[32m━━━━━━━━━━━━━━━━━━━━\u001b[0m\u001b[37m\u001b[0m \u001b[1m1s\u001b[0m 99ms/step\n"
     ]
    },
    {
     "name": "stderr",
     "output_type": "stream",
     "text": [
      "[I 2025-06-12 21:03:47,753] Trial 3 finished with value: 17.618114471435547 and parameters: {'lstm_units': 32, 'lstm_layers': 1, 'dropout_rate': 0.0, 'learning_rate': 0.0018515795884406273, 'batch_size': 32, 'dense_units': 32, 'window_size': 10}. Best is trial 3 with value: 17.618114471435547.\n",
      "c:\\Users\\jerem\\miniconda3\\Lib\\site-packages\\keras\\src\\layers\\rnn\\rnn.py:199: UserWarning: Do not pass an `input_shape`/`input_dim` argument to a layer. When using Sequential models, prefer using an `Input(shape)` object as the first layer in the model instead.\n",
      "  super().__init__(**kwargs)\n"
     ]
    },
    {
     "name": "stdout",
     "output_type": "stream",
     "text": [
      "\u001b[1m8/8\u001b[0m \u001b[32m━━━━━━━━━━━━━━━━━━━━\u001b[0m\u001b[37m\u001b[0m \u001b[1m1s\u001b[0m 86ms/step\n"
     ]
    },
    {
     "name": "stderr",
     "output_type": "stream",
     "text": [
      "[I 2025-06-12 21:04:52,841] Trial 4 finished with value: 16.49272346496582 and parameters: {'lstm_units': 64, 'lstm_layers': 2, 'dropout_rate': 0.2, 'learning_rate': 0.0003771055423664794, 'batch_size': 16, 'dense_units': 32, 'window_size': 50}. Best is trial 4 with value: 16.49272346496582.\n",
      "c:\\Users\\jerem\\miniconda3\\Lib\\site-packages\\keras\\src\\layers\\rnn\\rnn.py:199: UserWarning: Do not pass an `input_shape`/`input_dim` argument to a layer. When using Sequential models, prefer using an `Input(shape)` object as the first layer in the model instead.\n",
      "  super().__init__(**kwargs)\n"
     ]
    },
    {
     "name": "stdout",
     "output_type": "stream",
     "text": [
      "\u001b[1m8/8\u001b[0m \u001b[32m━━━━━━━━━━━━━━━━━━━━\u001b[0m\u001b[37m\u001b[0m \u001b[1m1s\u001b[0m 47ms/step\n"
     ]
    },
    {
     "name": "stderr",
     "output_type": "stream",
     "text": [
      "[I 2025-06-12 21:05:35,673] Trial 5 finished with value: 17.395980834960938 and parameters: {'lstm_units': 128, 'lstm_layers': 1, 'dropout_rate': 0.30000000000000004, 'learning_rate': 0.0003913221866269358, 'batch_size': 16, 'dense_units': 48, 'window_size': 50}. Best is trial 4 with value: 16.49272346496582.\n",
      "c:\\Users\\jerem\\miniconda3\\Lib\\site-packages\\keras\\src\\layers\\rnn\\rnn.py:199: UserWarning: Do not pass an `input_shape`/`input_dim` argument to a layer. When using Sequential models, prefer using an `Input(shape)` object as the first layer in the model instead.\n",
      "  super().__init__(**kwargs)\n"
     ]
    },
    {
     "name": "stdout",
     "output_type": "stream",
     "text": [
      "\u001b[1m4/4\u001b[0m \u001b[32m━━━━━━━━━━━━━━━━━━━━\u001b[0m\u001b[37m\u001b[0m \u001b[1m1s\u001b[0m 90ms/step\n"
     ]
    },
    {
     "name": "stderr",
     "output_type": "stream",
     "text": [
      "[I 2025-06-12 21:05:50,327] Trial 6 finished with value: 16.077167510986328 and parameters: {'lstm_units': 128, 'lstm_layers': 1, 'dropout_rate': 0.30000000000000004, 'learning_rate': 0.0010636753222114464, 'batch_size': 32, 'dense_units': 16, 'window_size': 10}. Best is trial 6 with value: 16.077167510986328.\n",
      "c:\\Users\\jerem\\miniconda3\\Lib\\site-packages\\keras\\src\\layers\\rnn\\rnn.py:199: UserWarning: Do not pass an `input_shape`/`input_dim` argument to a layer. When using Sequential models, prefer using an `Input(shape)` object as the first layer in the model instead.\n",
      "  super().__init__(**kwargs)\n"
     ]
    },
    {
     "name": "stdout",
     "output_type": "stream",
     "text": [
      "\u001b[1m4/4\u001b[0m \u001b[32m━━━━━━━━━━━━━━━━━━━━\u001b[0m\u001b[37m\u001b[0m \u001b[1m0s\u001b[0m 84ms/step\n"
     ]
    },
    {
     "name": "stderr",
     "output_type": "stream",
     "text": [
      "[I 2025-06-12 21:06:08,643] Trial 7 finished with value: 16.316370010375977 and parameters: {'lstm_units': 32, 'lstm_layers': 1, 'dropout_rate': 0.30000000000000004, 'learning_rate': 0.004827550190741397, 'batch_size': 32, 'dense_units': 112, 'window_size': 30}. Best is trial 6 with value: 16.077167510986328.\n",
      "c:\\Users\\jerem\\miniconda3\\Lib\\site-packages\\keras\\src\\layers\\rnn\\rnn.py:199: UserWarning: Do not pass an `input_shape`/`input_dim` argument to a layer. When using Sequential models, prefer using an `Input(shape)` object as the first layer in the model instead.\n",
      "  super().__init__(**kwargs)\n"
     ]
    },
    {
     "name": "stdout",
     "output_type": "stream",
     "text": [
      "\u001b[1m4/4\u001b[0m \u001b[32m━━━━━━━━━━━━━━━━━━━━\u001b[0m\u001b[37m\u001b[0m \u001b[1m1s\u001b[0m 216ms/step\n"
     ]
    },
    {
     "name": "stderr",
     "output_type": "stream",
     "text": [
      "[I 2025-06-12 21:07:04,717] Trial 8 finished with value: 17.13056182861328 and parameters: {'lstm_units': 96, 'lstm_layers': 2, 'dropout_rate': 0.30000000000000004, 'learning_rate': 0.002958328283051225, 'batch_size': 32, 'dense_units': 96, 'window_size': 60}. Best is trial 6 with value: 16.077167510986328.\n",
      "c:\\Users\\jerem\\miniconda3\\Lib\\site-packages\\keras\\src\\layers\\rnn\\rnn.py:199: UserWarning: Do not pass an `input_shape`/`input_dim` argument to a layer. When using Sequential models, prefer using an `Input(shape)` object as the first layer in the model instead.\n",
      "  super().__init__(**kwargs)\n"
     ]
    },
    {
     "name": "stdout",
     "output_type": "stream",
     "text": [
      "\u001b[1m4/4\u001b[0m \u001b[32m━━━━━━━━━━━━━━━━━━━━\u001b[0m\u001b[37m\u001b[0m \u001b[1m1s\u001b[0m 95ms/step\n"
     ]
    },
    {
     "name": "stderr",
     "output_type": "stream",
     "text": [
      "[I 2025-06-12 21:07:26,825] Trial 9 finished with value: 18.623050689697266 and parameters: {'lstm_units': 96, 'lstm_layers': 1, 'dropout_rate': 0.0, 'learning_rate': 0.0004105477561388692, 'batch_size': 32, 'dense_units': 96, 'window_size': 40}. Best is trial 6 with value: 16.077167510986328.\n",
      "c:\\Users\\jerem\\miniconda3\\Lib\\site-packages\\keras\\src\\layers\\rnn\\rnn.py:199: UserWarning: Do not pass an `input_shape`/`input_dim` argument to a layer. When using Sequential models, prefer using an `Input(shape)` object as the first layer in the model instead.\n",
      "  super().__init__(**kwargs)\n"
     ]
    },
    {
     "name": "stdout",
     "output_type": "stream",
     "text": [
      "\u001b[1m4/4\u001b[0m \u001b[32m━━━━━━━━━━━━━━━━━━━━\u001b[0m\u001b[37m\u001b[0m \u001b[1m1s\u001b[0m 162ms/step\n"
     ]
    },
    {
     "name": "stderr",
     "output_type": "stream",
     "text": [
      "[I 2025-06-12 21:07:52,395] Trial 10 finished with value: 17.67331886291504 and parameters: {'lstm_units': 128, 'lstm_layers': 2, 'dropout_rate': 0.5, 'learning_rate': 0.0008329492005133351, 'batch_size': 32, 'dense_units': 64, 'window_size': 10}. Best is trial 6 with value: 16.077167510986328.\n",
      "c:\\Users\\jerem\\miniconda3\\Lib\\site-packages\\keras\\src\\layers\\rnn\\rnn.py:199: UserWarning: Do not pass an `input_shape`/`input_dim` argument to a layer. When using Sequential models, prefer using an `Input(shape)` object as the first layer in the model instead.\n",
      "  super().__init__(**kwargs)\n"
     ]
    },
    {
     "name": "stdout",
     "output_type": "stream",
     "text": [
      "\u001b[1m4/4\u001b[0m \u001b[32m━━━━━━━━━━━━━━━━━━━━\u001b[0m\u001b[37m\u001b[0m \u001b[1m1s\u001b[0m 101ms/step\n"
     ]
    },
    {
     "name": "stderr",
     "output_type": "stream",
     "text": [
      "[I 2025-06-12 21:08:10,844] Trial 11 finished with value: 16.256921768188477 and parameters: {'lstm_units': 64, 'lstm_layers': 1, 'dropout_rate': 0.1, 'learning_rate': 0.007834364056784893, 'batch_size': 32, 'dense_units': 128, 'window_size': 30}. Best is trial 6 with value: 16.077167510986328.\n",
      "c:\\Users\\jerem\\miniconda3\\Lib\\site-packages\\keras\\src\\layers\\rnn\\rnn.py:199: UserWarning: Do not pass an `input_shape`/`input_dim` argument to a layer. When using Sequential models, prefer using an `Input(shape)` object as the first layer in the model instead.\n",
      "  super().__init__(**kwargs)\n"
     ]
    },
    {
     "name": "stdout",
     "output_type": "stream",
     "text": [
      "\u001b[1m4/4\u001b[0m \u001b[32m━━━━━━━━━━━━━━━━━━━━\u001b[0m\u001b[37m\u001b[0m \u001b[1m1s\u001b[0m 98ms/step\n"
     ]
    },
    {
     "name": "stderr",
     "output_type": "stream",
     "text": [
      "[I 2025-06-12 21:08:42,681] Trial 12 finished with value: 17.94306755065918 and parameters: {'lstm_units': 64, 'lstm_layers': 1, 'dropout_rate': 0.1, 'learning_rate': 0.00011127684783122151, 'batch_size': 32, 'dense_units': 80, 'window_size': 30}. Best is trial 6 with value: 16.077167510986328.\n",
      "c:\\Users\\jerem\\miniconda3\\Lib\\site-packages\\keras\\src\\layers\\rnn\\rnn.py:199: UserWarning: Do not pass an `input_shape`/`input_dim` argument to a layer. When using Sequential models, prefer using an `Input(shape)` object as the first layer in the model instead.\n",
      "  super().__init__(**kwargs)\n"
     ]
    },
    {
     "name": "stdout",
     "output_type": "stream",
     "text": [
      "\u001b[1m4/4\u001b[0m \u001b[32m━━━━━━━━━━━━━━━━━━━━\u001b[0m\u001b[37m\u001b[0m \u001b[1m1s\u001b[0m 107ms/step\n"
     ]
    },
    {
     "name": "stderr",
     "output_type": "stream",
     "text": [
      "[I 2025-06-12 21:08:51,845] Trial 13 finished with value: 16.727516174316406 and parameters: {'lstm_units': 64, 'lstm_layers': 1, 'dropout_rate': 0.1, 'learning_rate': 0.007800295380099458, 'batch_size': 32, 'dense_units': 128, 'window_size': 20}. Best is trial 6 with value: 16.077167510986328.\n",
      "c:\\Users\\jerem\\miniconda3\\Lib\\site-packages\\keras\\src\\layers\\rnn\\rnn.py:199: UserWarning: Do not pass an `input_shape`/`input_dim` argument to a layer. When using Sequential models, prefer using an `Input(shape)` object as the first layer in the model instead.\n",
      "  super().__init__(**kwargs)\n"
     ]
    },
    {
     "name": "stdout",
     "output_type": "stream",
     "text": [
      "\u001b[1m4/4\u001b[0m \u001b[32m━━━━━━━━━━━━━━━━━━━━\u001b[0m\u001b[37m\u001b[0m \u001b[1m1s\u001b[0m 99ms/step\n"
     ]
    },
    {
     "name": "stderr",
     "output_type": "stream",
     "text": [
      "[I 2025-06-12 21:09:27,512] Trial 14 finished with value: 16.406124114990234 and parameters: {'lstm_units': 128, 'lstm_layers': 1, 'dropout_rate': 0.1, 'learning_rate': 0.0008943255364266983, 'batch_size': 32, 'dense_units': 16, 'window_size': 40}. Best is trial 6 with value: 16.077167510986328.\n",
      "c:\\Users\\jerem\\miniconda3\\Lib\\site-packages\\keras\\src\\layers\\rnn\\rnn.py:199: UserWarning: Do not pass an `input_shape`/`input_dim` argument to a layer. When using Sequential models, prefer using an `Input(shape)` object as the first layer in the model instead.\n",
      "  super().__init__(**kwargs)\n"
     ]
    },
    {
     "name": "stdout",
     "output_type": "stream",
     "text": [
      "\u001b[1m4/4\u001b[0m \u001b[32m━━━━━━━━━━━━━━━━━━━━\u001b[0m\u001b[37m\u001b[0m \u001b[1m1s\u001b[0m 100ms/step\n"
     ]
    },
    {
     "name": "stderr",
     "output_type": "stream",
     "text": [
      "[I 2025-06-12 21:09:37,757] Trial 15 finished with value: 16.52842140197754 and parameters: {'lstm_units': 96, 'lstm_layers': 1, 'dropout_rate': 0.2, 'learning_rate': 0.0037194968102582907, 'batch_size': 32, 'dense_units': 80, 'window_size': 10}. Best is trial 6 with value: 16.077167510986328.\n",
      "c:\\Users\\jerem\\miniconda3\\Lib\\site-packages\\keras\\src\\layers\\rnn\\rnn.py:199: UserWarning: Do not pass an `input_shape`/`input_dim` argument to a layer. When using Sequential models, prefer using an `Input(shape)` object as the first layer in the model instead.\n",
      "  super().__init__(**kwargs)\n"
     ]
    },
    {
     "name": "stdout",
     "output_type": "stream",
     "text": [
      "\u001b[1m4/4\u001b[0m \u001b[32m━━━━━━━━━━━━━━━━━━━━\u001b[0m\u001b[37m\u001b[0m \u001b[1m1s\u001b[0m 88ms/step\n"
     ]
    },
    {
     "name": "stderr",
     "output_type": "stream",
     "text": [
      "[I 2025-06-12 21:09:56,378] Trial 16 finished with value: 16.541688919067383 and parameters: {'lstm_units': 64, 'lstm_layers': 1, 'dropout_rate': 0.4, 'learning_rate': 0.0015124504926886711, 'batch_size': 32, 'dense_units': 64, 'window_size': 30}. Best is trial 6 with value: 16.077167510986328.\n",
      "c:\\Users\\jerem\\miniconda3\\Lib\\site-packages\\keras\\src\\layers\\rnn\\rnn.py:199: UserWarning: Do not pass an `input_shape`/`input_dim` argument to a layer. When using Sequential models, prefer using an `Input(shape)` object as the first layer in the model instead.\n",
      "  super().__init__(**kwargs)\n"
     ]
    },
    {
     "name": "stdout",
     "output_type": "stream",
     "text": [
      "\u001b[1m4/4\u001b[0m \u001b[32m━━━━━━━━━━━━━━━━━━━━\u001b[0m\u001b[37m\u001b[0m \u001b[1m1s\u001b[0m 165ms/step\n"
     ]
    },
    {
     "name": "stderr",
     "output_type": "stream",
     "text": [
      "[I 2025-06-12 21:10:25,413] Trial 17 finished with value: 17.180313110351562 and parameters: {'lstm_units': 128, 'lstm_layers': 2, 'dropout_rate': 0.1, 'learning_rate': 0.0005861430369096596, 'batch_size': 32, 'dense_units': 112, 'window_size': 20}. Best is trial 6 with value: 16.077167510986328.\n",
      "c:\\Users\\jerem\\miniconda3\\Lib\\site-packages\\keras\\src\\layers\\rnn\\rnn.py:199: UserWarning: Do not pass an `input_shape`/`input_dim` argument to a layer. When using Sequential models, prefer using an `Input(shape)` object as the first layer in the model instead.\n",
      "  super().__init__(**kwargs)\n"
     ]
    },
    {
     "name": "stdout",
     "output_type": "stream",
     "text": [
      "\u001b[1m8/8\u001b[0m \u001b[32m━━━━━━━━━━━━━━━━━━━━\u001b[0m\u001b[37m\u001b[0m \u001b[1m1s\u001b[0m 43ms/step\n"
     ]
    },
    {
     "name": "stderr",
     "output_type": "stream",
     "text": [
      "[I 2025-06-12 21:10:48,927] Trial 18 finished with value: 18.45805549621582 and parameters: {'lstm_units': 96, 'lstm_layers': 1, 'dropout_rate': 0.5, 'learning_rate': 0.00023265184227223658, 'batch_size': 16, 'dense_units': 96, 'window_size': 40}. Best is trial 6 with value: 16.077167510986328.\n",
      "c:\\Users\\jerem\\miniconda3\\Lib\\site-packages\\keras\\src\\layers\\rnn\\rnn.py:199: UserWarning: Do not pass an `input_shape`/`input_dim` argument to a layer. When using Sequential models, prefer using an `Input(shape)` object as the first layer in the model instead.\n",
      "  super().__init__(**kwargs)\n"
     ]
    },
    {
     "name": "stdout",
     "output_type": "stream",
     "text": [
      "\u001b[1m4/4\u001b[0m \u001b[32m━━━━━━━━━━━━━━━━━━━━\u001b[0m\u001b[37m\u001b[0m \u001b[1m0s\u001b[0m 88ms/step\n"
     ]
    },
    {
     "name": "stderr",
     "output_type": "stream",
     "text": [
      "[I 2025-06-12 21:10:58,965] Trial 19 finished with value: 16.372753143310547 and parameters: {'lstm_units': 64, 'lstm_layers': 1, 'dropout_rate': 0.0, 'learning_rate': 0.005698219414506984, 'batch_size': 32, 'dense_units': 48, 'window_size': 10}. Best is trial 6 with value: 16.077167510986328.\n",
      "c:\\Users\\jerem\\miniconda3\\Lib\\site-packages\\keras\\src\\layers\\rnn\\rnn.py:199: UserWarning: Do not pass an `input_shape`/`input_dim` argument to a layer. When using Sequential models, prefer using an `Input(shape)` object as the first layer in the model instead.\n",
      "  super().__init__(**kwargs)\n"
     ]
    },
    {
     "name": "stdout",
     "output_type": "stream",
     "text": [
      "\u001b[1m4/4\u001b[0m \u001b[32m━━━━━━━━━━━━━━━━━━━━\u001b[0m\u001b[37m\u001b[0m \u001b[1m1s\u001b[0m 178ms/step\n"
     ]
    },
    {
     "name": "stderr",
     "output_type": "stream",
     "text": [
      "[I 2025-06-12 21:11:56,630] Trial 20 finished with value: 18.305255889892578 and parameters: {'lstm_units': 128, 'lstm_layers': 2, 'dropout_rate': 0.2, 'learning_rate': 0.002906029552747104, 'batch_size': 32, 'dense_units': 32, 'window_size': 50}. Best is trial 6 with value: 16.077167510986328.\n",
      "c:\\Users\\jerem\\miniconda3\\Lib\\site-packages\\keras\\src\\layers\\rnn\\rnn.py:199: UserWarning: Do not pass an `input_shape`/`input_dim` argument to a layer. When using Sequential models, prefer using an `Input(shape)` object as the first layer in the model instead.\n",
      "  super().__init__(**kwargs)\n"
     ]
    },
    {
     "name": "stdout",
     "output_type": "stream",
     "text": [
      "\u001b[1m4/4\u001b[0m \u001b[32m━━━━━━━━━━━━━━━━━━━━\u001b[0m\u001b[37m\u001b[0m \u001b[1m1s\u001b[0m 106ms/step\n"
     ]
    },
    {
     "name": "stderr",
     "output_type": "stream",
     "text": [
      "[I 2025-06-12 21:12:04,801] Trial 21 finished with value: 19.725236892700195 and parameters: {'lstm_units': 32, 'lstm_layers': 1, 'dropout_rate': 0.30000000000000004, 'learning_rate': 0.004963624113037702, 'batch_size': 32, 'dense_units': 112, 'window_size': 30}. Best is trial 6 with value: 16.077167510986328.\n",
      "c:\\Users\\jerem\\miniconda3\\Lib\\site-packages\\keras\\src\\layers\\rnn\\rnn.py:199: UserWarning: Do not pass an `input_shape`/`input_dim` argument to a layer. When using Sequential models, prefer using an `Input(shape)` object as the first layer in the model instead.\n",
      "  super().__init__(**kwargs)\n"
     ]
    },
    {
     "name": "stdout",
     "output_type": "stream",
     "text": [
      "\u001b[1m4/4\u001b[0m \u001b[32m━━━━━━━━━━━━━━━━━━━━\u001b[0m\u001b[37m\u001b[0m \u001b[1m1s\u001b[0m 93ms/step\n"
     ]
    },
    {
     "name": "stderr",
     "output_type": "stream",
     "text": [
      "[I 2025-06-12 21:12:15,817] Trial 22 finished with value: 21.592960357666016 and parameters: {'lstm_units': 32, 'lstm_layers': 1, 'dropout_rate': 0.30000000000000004, 'learning_rate': 0.009742835081158321, 'batch_size': 32, 'dense_units': 112, 'window_size': 30}. Best is trial 6 with value: 16.077167510986328.\n",
      "c:\\Users\\jerem\\miniconda3\\Lib\\site-packages\\keras\\src\\layers\\rnn\\rnn.py:199: UserWarning: Do not pass an `input_shape`/`input_dim` argument to a layer. When using Sequential models, prefer using an `Input(shape)` object as the first layer in the model instead.\n",
      "  super().__init__(**kwargs)\n"
     ]
    },
    {
     "name": "stdout",
     "output_type": "stream",
     "text": [
      "\u001b[1m4/4\u001b[0m \u001b[32m━━━━━━━━━━━━━━━━━━━━\u001b[0m\u001b[37m\u001b[0m \u001b[1m1s\u001b[0m 101ms/step\n"
     ]
    },
    {
     "name": "stderr",
     "output_type": "stream",
     "text": [
      "[I 2025-06-12 21:12:26,601] Trial 23 finished with value: 17.24713706970215 and parameters: {'lstm_units': 64, 'lstm_layers': 1, 'dropout_rate': 0.4, 'learning_rate': 0.004617137665647873, 'batch_size': 32, 'dense_units': 128, 'window_size': 20}. Best is trial 6 with value: 16.077167510986328.\n",
      "c:\\Users\\jerem\\miniconda3\\Lib\\site-packages\\keras\\src\\layers\\rnn\\rnn.py:199: UserWarning: Do not pass an `input_shape`/`input_dim` argument to a layer. When using Sequential models, prefer using an `Input(shape)` object as the first layer in the model instead.\n",
      "  super().__init__(**kwargs)\n"
     ]
    },
    {
     "name": "stdout",
     "output_type": "stream",
     "text": [
      "\u001b[1m4/4\u001b[0m \u001b[32m━━━━━━━━━━━━━━━━━━━━\u001b[0m\u001b[37m\u001b[0m \u001b[1m0s\u001b[0m 88ms/step\n"
     ]
    },
    {
     "name": "stderr",
     "output_type": "stream",
     "text": [
      "[I 2025-06-12 21:12:39,180] Trial 24 finished with value: 16.78721046447754 and parameters: {'lstm_units': 32, 'lstm_layers': 1, 'dropout_rate': 0.30000000000000004, 'learning_rate': 0.0013221812274444979, 'batch_size': 32, 'dense_units': 112, 'window_size': 30}. Best is trial 6 with value: 16.077167510986328.\n",
      "c:\\Users\\jerem\\miniconda3\\Lib\\site-packages\\keras\\src\\layers\\rnn\\rnn.py:199: UserWarning: Do not pass an `input_shape`/`input_dim` argument to a layer. When using Sequential models, prefer using an `Input(shape)` object as the first layer in the model instead.\n",
      "  super().__init__(**kwargs)\n"
     ]
    },
    {
     "name": "stdout",
     "output_type": "stream",
     "text": [
      "\u001b[1m4/4\u001b[0m \u001b[32m━━━━━━━━━━━━━━━━━━━━\u001b[0m\u001b[37m\u001b[0m \u001b[1m1s\u001b[0m 93ms/step\n"
     ]
    },
    {
     "name": "stderr",
     "output_type": "stream",
     "text": [
      "[I 2025-06-12 21:12:59,261] Trial 25 finished with value: 17.109500885009766 and parameters: {'lstm_units': 64, 'lstm_layers': 1, 'dropout_rate': 0.2, 'learning_rate': 0.0026235992394667887, 'batch_size': 32, 'dense_units': 128, 'window_size': 40}. Best is trial 6 with value: 16.077167510986328.\n",
      "c:\\Users\\jerem\\miniconda3\\Lib\\site-packages\\keras\\src\\layers\\rnn\\rnn.py:199: UserWarning: Do not pass an `input_shape`/`input_dim` argument to a layer. When using Sequential models, prefer using an `Input(shape)` object as the first layer in the model instead.\n",
      "  super().__init__(**kwargs)\n"
     ]
    },
    {
     "name": "stdout",
     "output_type": "stream",
     "text": [
      "\u001b[1m8/8\u001b[0m \u001b[32m━━━━━━━━━━━━━━━━━━━━\u001b[0m\u001b[37m\u001b[0m \u001b[1m1s\u001b[0m 43ms/step\n"
     ]
    },
    {
     "name": "stderr",
     "output_type": "stream",
     "text": [
      "[I 2025-06-12 21:13:23,309] Trial 26 finished with value: 16.994388580322266 and parameters: {'lstm_units': 96, 'lstm_layers': 1, 'dropout_rate': 0.4, 'learning_rate': 0.007493179208439834, 'batch_size': 16, 'dense_units': 96, 'window_size': 20}. Best is trial 6 with value: 16.077167510986328.\n",
      "c:\\Users\\jerem\\miniconda3\\Lib\\site-packages\\keras\\src\\layers\\rnn\\rnn.py:199: UserWarning: Do not pass an `input_shape`/`input_dim` argument to a layer. When using Sequential models, prefer using an `Input(shape)` object as the first layer in the model instead.\n",
      "  super().__init__(**kwargs)\n"
     ]
    },
    {
     "name": "stdout",
     "output_type": "stream",
     "text": [
      "\u001b[1m4/4\u001b[0m \u001b[32m━━━━━━━━━━━━━━━━━━━━\u001b[0m\u001b[37m\u001b[0m \u001b[1m1s\u001b[0m 94ms/step\n"
     ]
    },
    {
     "name": "stderr",
     "output_type": "stream",
     "text": [
      "[I 2025-06-12 21:13:34,543] Trial 27 finished with value: 16.65752601623535 and parameters: {'lstm_units': 32, 'lstm_layers': 1, 'dropout_rate': 0.30000000000000004, 'learning_rate': 0.006056138043023771, 'batch_size': 32, 'dense_units': 80, 'window_size': 30}. Best is trial 6 with value: 16.077167510986328.\n",
      "c:\\Users\\jerem\\miniconda3\\Lib\\site-packages\\keras\\src\\layers\\rnn\\rnn.py:199: UserWarning: Do not pass an `input_shape`/`input_dim` argument to a layer. When using Sequential models, prefer using an `Input(shape)` object as the first layer in the model instead.\n",
      "  super().__init__(**kwargs)\n"
     ]
    },
    {
     "name": "stdout",
     "output_type": "stream",
     "text": [
      "\u001b[1m4/4\u001b[0m \u001b[32m━━━━━━━━━━━━━━━━━━━━\u001b[0m\u001b[37m\u001b[0m \u001b[1m1s\u001b[0m 104ms/step\n"
     ]
    },
    {
     "name": "stderr",
     "output_type": "stream",
     "text": [
      "[I 2025-06-12 21:13:44,210] Trial 28 finished with value: 16.756959915161133 and parameters: {'lstm_units': 64, 'lstm_layers': 1, 'dropout_rate': 0.1, 'learning_rate': 0.009817822514534549, 'batch_size': 32, 'dense_units': 112, 'window_size': 10}. Best is trial 6 with value: 16.077167510986328.\n",
      "c:\\Users\\jerem\\miniconda3\\Lib\\site-packages\\keras\\src\\layers\\rnn\\rnn.py:199: UserWarning: Do not pass an `input_shape`/`input_dim` argument to a layer. When using Sequential models, prefer using an `Input(shape)` object as the first layer in the model instead.\n",
      "  super().__init__(**kwargs)\n"
     ]
    },
    {
     "name": "stdout",
     "output_type": "stream",
     "text": [
      "\u001b[1m4/4\u001b[0m \u001b[32m━━━━━━━━━━━━━━━━━━━━\u001b[0m\u001b[37m\u001b[0m \u001b[1m1s\u001b[0m 102ms/step\n"
     ]
    },
    {
     "name": "stderr",
     "output_type": "stream",
     "text": [
      "[I 2025-06-12 21:13:54,126] Trial 29 finished with value: 16.429943084716797 and parameters: {'lstm_units': 96, 'lstm_layers': 1, 'dropout_rate': 0.2, 'learning_rate': 0.0038209259769069735, 'batch_size': 32, 'dense_units': 128, 'window_size': 20}. Best is trial 6 with value: 16.077167510986328.\n",
      "c:\\Users\\jerem\\miniconda3\\Lib\\site-packages\\keras\\src\\layers\\rnn\\rnn.py:199: UserWarning: Do not pass an `input_shape`/`input_dim` argument to a layer. When using Sequential models, prefer using an `Input(shape)` object as the first layer in the model instead.\n",
      "  super().__init__(**kwargs)\n"
     ]
    },
    {
     "name": "stdout",
     "output_type": "stream",
     "text": [
      "\u001b[1m4/4\u001b[0m \u001b[32m━━━━━━━━━━━━━━━━━━━━\u001b[0m\u001b[37m\u001b[0m \u001b[1m1s\u001b[0m 106ms/step\n"
     ]
    },
    {
     "name": "stderr",
     "output_type": "stream",
     "text": [
      "[I 2025-06-12 21:14:14,088] Trial 30 finished with value: 17.00303840637207 and parameters: {'lstm_units': 32, 'lstm_layers': 1, 'dropout_rate': 0.5, 'learning_rate': 0.0006335646929022365, 'batch_size': 32, 'dense_units': 64, 'window_size': 40}. Best is trial 6 with value: 16.077167510986328.\n",
      "c:\\Users\\jerem\\miniconda3\\Lib\\site-packages\\keras\\src\\layers\\rnn\\rnn.py:199: UserWarning: Do not pass an `input_shape`/`input_dim` argument to a layer. When using Sequential models, prefer using an `Input(shape)` object as the first layer in the model instead.\n",
      "  super().__init__(**kwargs)\n"
     ]
    },
    {
     "name": "stdout",
     "output_type": "stream",
     "text": [
      "\u001b[1m4/4\u001b[0m \u001b[32m━━━━━━━━━━━━━━━━━━━━\u001b[0m\u001b[37m\u001b[0m \u001b[1m1s\u001b[0m 93ms/step\n"
     ]
    },
    {
     "name": "stderr",
     "output_type": "stream",
     "text": [
      "[I 2025-06-12 21:14:23,282] Trial 31 finished with value: 16.818883895874023 and parameters: {'lstm_units': 64, 'lstm_layers': 1, 'dropout_rate': 0.0, 'learning_rate': 0.005712665030063211, 'batch_size': 32, 'dense_units': 48, 'window_size': 10}. Best is trial 6 with value: 16.077167510986328.\n",
      "c:\\Users\\jerem\\miniconda3\\Lib\\site-packages\\keras\\src\\layers\\rnn\\rnn.py:199: UserWarning: Do not pass an `input_shape`/`input_dim` argument to a layer. When using Sequential models, prefer using an `Input(shape)` object as the first layer in the model instead.\n",
      "  super().__init__(**kwargs)\n"
     ]
    },
    {
     "name": "stdout",
     "output_type": "stream",
     "text": [
      "\u001b[1m4/4\u001b[0m \u001b[32m━━━━━━━━━━━━━━━━━━━━\u001b[0m\u001b[37m\u001b[0m \u001b[1m1s\u001b[0m 128ms/step\n"
     ]
    },
    {
     "name": "stderr",
     "output_type": "stream",
     "text": [
      "[I 2025-06-12 21:14:32,627] Trial 32 finished with value: 16.279003143310547 and parameters: {'lstm_units': 64, 'lstm_layers': 1, 'dropout_rate': 0.0, 'learning_rate': 0.006813496939132788, 'batch_size': 32, 'dense_units': 16, 'window_size': 10}. Best is trial 6 with value: 16.077167510986328.\n",
      "c:\\Users\\jerem\\miniconda3\\Lib\\site-packages\\keras\\src\\layers\\rnn\\rnn.py:199: UserWarning: Do not pass an `input_shape`/`input_dim` argument to a layer. When using Sequential models, prefer using an `Input(shape)` object as the first layer in the model instead.\n",
      "  super().__init__(**kwargs)\n"
     ]
    },
    {
     "name": "stdout",
     "output_type": "stream",
     "text": [
      "\u001b[1m4/4\u001b[0m \u001b[32m━━━━━━━━━━━━━━━━━━━━\u001b[0m\u001b[37m\u001b[0m \u001b[1m1s\u001b[0m 90ms/step\n"
     ]
    },
    {
     "name": "stderr",
     "output_type": "stream",
     "text": [
      "[I 2025-06-12 21:14:43,492] Trial 33 finished with value: 18.16324806213379 and parameters: {'lstm_units': 64, 'lstm_layers': 1, 'dropout_rate': 0.0, 'learning_rate': 0.002309125033754966, 'batch_size': 32, 'dense_units': 16, 'window_size': 20}. Best is trial 6 with value: 16.077167510986328.\n",
      "c:\\Users\\jerem\\miniconda3\\Lib\\site-packages\\keras\\src\\layers\\rnn\\rnn.py:199: UserWarning: Do not pass an `input_shape`/`input_dim` argument to a layer. When using Sequential models, prefer using an `Input(shape)` object as the first layer in the model instead.\n",
      "  super().__init__(**kwargs)\n"
     ]
    },
    {
     "name": "stdout",
     "output_type": "stream",
     "text": [
      "\u001b[1m8/8\u001b[0m \u001b[32m━━━━━━━━━━━━━━━━━━━━\u001b[0m\u001b[37m\u001b[0m \u001b[1m1s\u001b[0m 42ms/step\n"
     ]
    },
    {
     "name": "stderr",
     "output_type": "stream",
     "text": [
      "[I 2025-06-12 21:14:53,310] Trial 34 finished with value: 16.964584350585938 and parameters: {'lstm_units': 32, 'lstm_layers': 1, 'dropout_rate': 0.1, 'learning_rate': 0.00388701221330353, 'batch_size': 16, 'dense_units': 16, 'window_size': 10}. Best is trial 6 with value: 16.077167510986328.\n",
      "c:\\Users\\jerem\\miniconda3\\Lib\\site-packages\\keras\\src\\layers\\rnn\\rnn.py:199: UserWarning: Do not pass an `input_shape`/`input_dim` argument to a layer. When using Sequential models, prefer using an `Input(shape)` object as the first layer in the model instead.\n",
      "  super().__init__(**kwargs)\n"
     ]
    },
    {
     "name": "stdout",
     "output_type": "stream",
     "text": [
      "\u001b[1m4/4\u001b[0m \u001b[32m━━━━━━━━━━━━━━━━━━━━\u001b[0m\u001b[37m\u001b[0m \u001b[1m1s\u001b[0m 95ms/step\n"
     ]
    },
    {
     "name": "stderr",
     "output_type": "stream",
     "text": [
      "[I 2025-06-12 21:15:00,811] Trial 35 finished with value: 17.456132888793945 and parameters: {'lstm_units': 64, 'lstm_layers': 1, 'dropout_rate': 0.0, 'learning_rate': 0.007525785758392726, 'batch_size': 32, 'dense_units': 32, 'window_size': 10}. Best is trial 6 with value: 16.077167510986328.\n",
      "c:\\Users\\jerem\\miniconda3\\Lib\\site-packages\\keras\\src\\layers\\rnn\\rnn.py:199: UserWarning: Do not pass an `input_shape`/`input_dim` argument to a layer. When using Sequential models, prefer using an `Input(shape)` object as the first layer in the model instead.\n",
      "  super().__init__(**kwargs)\n"
     ]
    },
    {
     "name": "stdout",
     "output_type": "stream",
     "text": [
      "\u001b[1m8/8\u001b[0m \u001b[32m━━━━━━━━━━━━━━━━━━━━\u001b[0m\u001b[37m\u001b[0m \u001b[1m1s\u001b[0m 40ms/step\n"
     ]
    },
    {
     "name": "stderr",
     "output_type": "stream",
     "text": [
      "[I 2025-06-12 21:15:17,694] Trial 36 finished with value: 17.78164291381836 and parameters: {'lstm_units': 32, 'lstm_layers': 1, 'dropout_rate': 0.30000000000000004, 'learning_rate': 0.0011867563395231051, 'batch_size': 16, 'dense_units': 16, 'window_size': 20}. Best is trial 6 with value: 16.077167510986328.\n",
      "c:\\Users\\jerem\\miniconda3\\Lib\\site-packages\\keras\\src\\layers\\rnn\\rnn.py:199: UserWarning: Do not pass an `input_shape`/`input_dim` argument to a layer. When using Sequential models, prefer using an `Input(shape)` object as the first layer in the model instead.\n",
      "  super().__init__(**kwargs)\n"
     ]
    },
    {
     "name": "stdout",
     "output_type": "stream",
     "text": [
      "\u001b[1m4/4\u001b[0m \u001b[32m━━━━━━━━━━━━━━━━━━━━\u001b[0m\u001b[37m\u001b[0m \u001b[1m1s\u001b[0m 178ms/step\n"
     ]
    },
    {
     "name": "stderr",
     "output_type": "stream",
     "text": [
      "[I 2025-06-12 21:16:03,811] Trial 37 finished with value: 17.999658584594727 and parameters: {'lstm_units': 96, 'lstm_layers': 2, 'dropout_rate': 0.4, 'learning_rate': 0.002215892062076675, 'batch_size': 32, 'dense_units': 32, 'window_size': 60}. Best is trial 6 with value: 16.077167510986328.\n",
      "c:\\Users\\jerem\\miniconda3\\Lib\\site-packages\\keras\\src\\layers\\rnn\\rnn.py:199: UserWarning: Do not pass an `input_shape`/`input_dim` argument to a layer. When using Sequential models, prefer using an `Input(shape)` object as the first layer in the model instead.\n",
      "  super().__init__(**kwargs)\n"
     ]
    },
    {
     "name": "stdout",
     "output_type": "stream",
     "text": [
      "\u001b[1m4/4\u001b[0m \u001b[32m━━━━━━━━━━━━━━━━━━━━\u001b[0m\u001b[37m\u001b[0m \u001b[1m1s\u001b[0m 106ms/step\n"
     ]
    },
    {
     "name": "stderr",
     "output_type": "stream",
     "text": [
      "[I 2025-06-12 21:16:45,962] Trial 38 finished with value: 18.13892936706543 and parameters: {'lstm_units': 64, 'lstm_layers': 1, 'dropout_rate': 0.2, 'learning_rate': 0.00023226904166083416, 'batch_size': 32, 'dense_units': 16, 'window_size': 50}. Best is trial 6 with value: 16.077167510986328.\n",
      "c:\\Users\\jerem\\miniconda3\\Lib\\site-packages\\keras\\src\\layers\\rnn\\rnn.py:199: UserWarning: Do not pass an `input_shape`/`input_dim` argument to a layer. When using Sequential models, prefer using an `Input(shape)` object as the first layer in the model instead.\n",
      "  super().__init__(**kwargs)\n"
     ]
    },
    {
     "name": "stdout",
     "output_type": "stream",
     "text": [
      "\u001b[1m8/8\u001b[0m \u001b[32m━━━━━━━━━━━━━━━━━━━━\u001b[0m\u001b[37m\u001b[0m \u001b[1m1s\u001b[0m 50ms/step\n"
     ]
    },
    {
     "name": "stderr",
     "output_type": "stream",
     "text": [
      "[I 2025-06-12 21:16:58,562] Trial 39 finished with value: 16.638816833496094 and parameters: {'lstm_units': 32, 'lstm_layers': 1, 'dropout_rate': 0.0, 'learning_rate': 0.0034423226659811746, 'batch_size': 16, 'dense_units': 48, 'window_size': 20}. Best is trial 6 with value: 16.077167510986328.\n",
      "c:\\Users\\jerem\\miniconda3\\Lib\\site-packages\\keras\\src\\layers\\rnn\\rnn.py:199: UserWarning: Do not pass an `input_shape`/`input_dim` argument to a layer. When using Sequential models, prefer using an `Input(shape)` object as the first layer in the model instead.\n",
      "  super().__init__(**kwargs)\n"
     ]
    },
    {
     "name": "stdout",
     "output_type": "stream",
     "text": [
      "\u001b[1m4/4\u001b[0m \u001b[32m━━━━━━━━━━━━━━━━━━━━\u001b[0m\u001b[37m\u001b[0m \u001b[1m1s\u001b[0m 175ms/step\n"
     ]
    },
    {
     "name": "stderr",
     "output_type": "stream",
     "text": [
      "[I 2025-06-12 21:17:17,928] Trial 40 finished with value: 17.54265785217285 and parameters: {'lstm_units': 96, 'lstm_layers': 2, 'dropout_rate': 0.30000000000000004, 'learning_rate': 0.006486586623291557, 'batch_size': 32, 'dense_units': 128, 'window_size': 30}. Best is trial 6 with value: 16.077167510986328.\n",
      "c:\\Users\\jerem\\miniconda3\\Lib\\site-packages\\keras\\src\\layers\\rnn\\rnn.py:199: UserWarning: Do not pass an `input_shape`/`input_dim` argument to a layer. When using Sequential models, prefer using an `Input(shape)` object as the first layer in the model instead.\n",
      "  super().__init__(**kwargs)\n"
     ]
    },
    {
     "name": "stdout",
     "output_type": "stream",
     "text": [
      "\u001b[1m4/4\u001b[0m \u001b[32m━━━━━━━━━━━━━━━━━━━━\u001b[0m\u001b[37m\u001b[0m \u001b[1m1s\u001b[0m 95ms/step\n"
     ]
    },
    {
     "name": "stderr",
     "output_type": "stream",
     "text": [
      "[I 2025-06-12 21:17:28,439] Trial 41 finished with value: 17.593364715576172 and parameters: {'lstm_units': 64, 'lstm_layers': 1, 'dropout_rate': 0.0, 'learning_rate': 0.004820104117973376, 'batch_size': 32, 'dense_units': 32, 'window_size': 10}. Best is trial 6 with value: 16.077167510986328.\n",
      "c:\\Users\\jerem\\miniconda3\\Lib\\site-packages\\keras\\src\\layers\\rnn\\rnn.py:199: UserWarning: Do not pass an `input_shape`/`input_dim` argument to a layer. When using Sequential models, prefer using an `Input(shape)` object as the first layer in the model instead.\n",
      "  super().__init__(**kwargs)\n"
     ]
    },
    {
     "name": "stdout",
     "output_type": "stream",
     "text": [
      "\u001b[1m4/4\u001b[0m \u001b[32m━━━━━━━━━━━━━━━━━━━━\u001b[0m\u001b[37m\u001b[0m \u001b[1m1s\u001b[0m 105ms/step\n"
     ]
    },
    {
     "name": "stderr",
     "output_type": "stream",
     "text": [
      "[I 2025-06-12 21:17:36,746] Trial 42 finished with value: 17.410802841186523 and parameters: {'lstm_units': 64, 'lstm_layers': 1, 'dropout_rate': 0.0, 'learning_rate': 0.009552154322645456, 'batch_size': 32, 'dense_units': 48, 'window_size': 10}. Best is trial 6 with value: 16.077167510986328.\n",
      "c:\\Users\\jerem\\miniconda3\\Lib\\site-packages\\keras\\src\\layers\\rnn\\rnn.py:199: UserWarning: Do not pass an `input_shape`/`input_dim` argument to a layer. When using Sequential models, prefer using an `Input(shape)` object as the first layer in the model instead.\n",
      "  super().__init__(**kwargs)\n"
     ]
    },
    {
     "name": "stdout",
     "output_type": "stream",
     "text": [
      "\u001b[1m4/4\u001b[0m \u001b[32m━━━━━━━━━━━━━━━━━━━━\u001b[0m\u001b[37m\u001b[0m \u001b[1m1s\u001b[0m 100ms/step\n"
     ]
    },
    {
     "name": "stderr",
     "output_type": "stream",
     "text": [
      "[I 2025-06-12 21:17:47,912] Trial 43 finished with value: 16.917560577392578 and parameters: {'lstm_units': 64, 'lstm_layers': 1, 'dropout_rate': 0.1, 'learning_rate': 0.0017813157398526272, 'batch_size': 32, 'dense_units': 48, 'window_size': 10}. Best is trial 6 with value: 16.077167510986328.\n",
      "c:\\Users\\jerem\\miniconda3\\Lib\\site-packages\\keras\\src\\layers\\rnn\\rnn.py:199: UserWarning: Do not pass an `input_shape`/`input_dim` argument to a layer. When using Sequential models, prefer using an `Input(shape)` object as the first layer in the model instead.\n",
      "  super().__init__(**kwargs)\n"
     ]
    },
    {
     "name": "stdout",
     "output_type": "stream",
     "text": [
      "\u001b[1m4/4\u001b[0m \u001b[32m━━━━━━━━━━━━━━━━━━━━\u001b[0m\u001b[37m\u001b[0m \u001b[1m1s\u001b[0m 106ms/step\n"
     ]
    },
    {
     "name": "stderr",
     "output_type": "stream",
     "text": [
      "[I 2025-06-12 21:17:55,685] Trial 44 finished with value: 16.749814987182617 and parameters: {'lstm_units': 64, 'lstm_layers': 1, 'dropout_rate': 0.0, 'learning_rate': 0.00583763485557586, 'batch_size': 32, 'dense_units': 16, 'window_size': 10}. Best is trial 6 with value: 16.077167510986328.\n",
      "c:\\Users\\jerem\\miniconda3\\Lib\\site-packages\\keras\\src\\layers\\rnn\\rnn.py:199: UserWarning: Do not pass an `input_shape`/`input_dim` argument to a layer. When using Sequential models, prefer using an `Input(shape)` object as the first layer in the model instead.\n",
      "  super().__init__(**kwargs)\n"
     ]
    },
    {
     "name": "stdout",
     "output_type": "stream",
     "text": [
      "\u001b[1m4/4\u001b[0m \u001b[32m━━━━━━━━━━━━━━━━━━━━\u001b[0m\u001b[37m\u001b[0m \u001b[1m1s\u001b[0m 100ms/step\n"
     ]
    },
    {
     "name": "stderr",
     "output_type": "stream",
     "text": [
      "[I 2025-06-12 21:18:05,062] Trial 45 finished with value: 16.257274627685547 and parameters: {'lstm_units': 96, 'lstm_layers': 1, 'dropout_rate': 0.1, 'learning_rate': 0.00450733349284245, 'batch_size': 32, 'dense_units': 32, 'window_size': 20}. Best is trial 6 with value: 16.077167510986328.\n",
      "c:\\Users\\jerem\\miniconda3\\Lib\\site-packages\\keras\\src\\layers\\rnn\\rnn.py:199: UserWarning: Do not pass an `input_shape`/`input_dim` argument to a layer. When using Sequential models, prefer using an `Input(shape)` object as the first layer in the model instead.\n",
      "  super().__init__(**kwargs)\n"
     ]
    },
    {
     "name": "stdout",
     "output_type": "stream",
     "text": [
      "\u001b[1m4/4\u001b[0m \u001b[32m━━━━━━━━━━━━━━━━━━━━\u001b[0m\u001b[37m\u001b[0m \u001b[1m1s\u001b[0m 139ms/step\n"
     ]
    },
    {
     "name": "stderr",
     "output_type": "stream",
     "text": [
      "[I 2025-06-12 21:18:21,048] Trial 46 finished with value: 15.902691841125488 and parameters: {'lstm_units': 128, 'lstm_layers': 1, 'dropout_rate': 0.1, 'learning_rate': 0.00415400612245048, 'batch_size': 32, 'dense_units': 32, 'window_size': 20}. Best is trial 46 with value: 15.902691841125488.\n",
      "c:\\Users\\jerem\\miniconda3\\Lib\\site-packages\\keras\\src\\layers\\rnn\\rnn.py:199: UserWarning: Do not pass an `input_shape`/`input_dim` argument to a layer. When using Sequential models, prefer using an `Input(shape)` object as the first layer in the model instead.\n",
      "  super().__init__(**kwargs)\n"
     ]
    },
    {
     "name": "stdout",
     "output_type": "stream",
     "text": [
      "\u001b[1m4/4\u001b[0m \u001b[32m━━━━━━━━━━━━━━━━━━━━\u001b[0m\u001b[37m\u001b[0m \u001b[1m1s\u001b[0m 122ms/step\n"
     ]
    },
    {
     "name": "stderr",
     "output_type": "stream",
     "text": [
      "[I 2025-06-12 21:18:37,280] Trial 47 finished with value: 16.22377586364746 and parameters: {'lstm_units': 128, 'lstm_layers': 1, 'dropout_rate': 0.1, 'learning_rate': 0.0031991355740721697, 'batch_size': 32, 'dense_units': 32, 'window_size': 20}. Best is trial 46 with value: 15.902691841125488.\n",
      "c:\\Users\\jerem\\miniconda3\\Lib\\site-packages\\keras\\src\\layers\\rnn\\rnn.py:199: UserWarning: Do not pass an `input_shape`/`input_dim` argument to a layer. When using Sequential models, prefer using an `Input(shape)` object as the first layer in the model instead.\n",
      "  super().__init__(**kwargs)\n"
     ]
    },
    {
     "name": "stdout",
     "output_type": "stream",
     "text": [
      "\u001b[1m4/4\u001b[0m \u001b[32m━━━━━━━━━━━━━━━━━━━━\u001b[0m\u001b[37m\u001b[0m \u001b[1m1s\u001b[0m 144ms/step\n"
     ]
    },
    {
     "name": "stderr",
     "output_type": "stream",
     "text": [
      "[I 2025-06-12 21:18:52,696] Trial 48 finished with value: 16.614107131958008 and parameters: {'lstm_units': 128, 'lstm_layers': 1, 'dropout_rate': 0.1, 'learning_rate': 0.0031243224265479126, 'batch_size': 32, 'dense_units': 32, 'window_size': 20}. Best is trial 46 with value: 15.902691841125488.\n",
      "c:\\Users\\jerem\\miniconda3\\Lib\\site-packages\\keras\\src\\layers\\rnn\\rnn.py:199: UserWarning: Do not pass an `input_shape`/`input_dim` argument to a layer. When using Sequential models, prefer using an `Input(shape)` object as the first layer in the model instead.\n",
      "  super().__init__(**kwargs)\n"
     ]
    },
    {
     "name": "stdout",
     "output_type": "stream",
     "text": [
      "\u001b[1m8/8\u001b[0m \u001b[32m━━━━━━━━━━━━━━━━━━━━\u001b[0m\u001b[37m\u001b[0m \u001b[1m1s\u001b[0m 71ms/step\n"
     ]
    },
    {
     "name": "stderr",
     "output_type": "stream",
     "text": [
      "[I 2025-06-12 21:19:18,963] Trial 49 finished with value: 17.133222579956055 and parameters: {'lstm_units': 128, 'lstm_layers': 1, 'dropout_rate': 0.1, 'learning_rate': 0.0017231330263695061, 'batch_size': 16, 'dense_units': 32, 'window_size': 20}. Best is trial 46 with value: 15.902691841125488.\n",
      "c:\\Users\\jerem\\miniconda3\\Lib\\site-packages\\keras\\src\\layers\\rnn\\rnn.py:199: UserWarning: Do not pass an `input_shape`/`input_dim` argument to a layer. When using Sequential models, prefer using an `Input(shape)` object as the first layer in the model instead.\n",
      "  super().__init__(**kwargs)\n"
     ]
    },
    {
     "name": "stdout",
     "output_type": "stream",
     "text": [
      "\u001b[1m4/4\u001b[0m \u001b[32m━━━━━━━━━━━━━━━━━━━━\u001b[0m\u001b[37m\u001b[0m \u001b[1m1s\u001b[0m 111ms/step\n"
     ]
    },
    {
     "name": "stderr",
     "output_type": "stream",
     "text": [
      "[I 2025-06-12 21:19:43,647] Trial 50 finished with value: 16.351581573486328 and parameters: {'lstm_units': 128, 'lstm_layers': 1, 'dropout_rate': 0.1, 'learning_rate': 0.002288486333735406, 'batch_size': 32, 'dense_units': 64, 'window_size': 30}. Best is trial 46 with value: 15.902691841125488.\n",
      "c:\\Users\\jerem\\miniconda3\\Lib\\site-packages\\keras\\src\\layers\\rnn\\rnn.py:199: UserWarning: Do not pass an `input_shape`/`input_dim` argument to a layer. When using Sequential models, prefer using an `Input(shape)` object as the first layer in the model instead.\n",
      "  super().__init__(**kwargs)\n"
     ]
    },
    {
     "name": "stdout",
     "output_type": "stream",
     "text": [
      "\u001b[1m4/4\u001b[0m \u001b[32m━━━━━━━━━━━━━━━━━━━━\u001b[0m\u001b[37m\u001b[0m \u001b[1m1s\u001b[0m 114ms/step\n"
     ]
    },
    {
     "name": "stderr",
     "output_type": "stream",
     "text": [
      "[I 2025-06-12 21:20:00,097] Trial 51 finished with value: 16.422893524169922 and parameters: {'lstm_units': 128, 'lstm_layers': 1, 'dropout_rate': 0.1, 'learning_rate': 0.004098304494549455, 'batch_size': 32, 'dense_units': 16, 'window_size': 20}. Best is trial 46 with value: 15.902691841125488.\n",
      "c:\\Users\\jerem\\miniconda3\\Lib\\site-packages\\keras\\src\\layers\\rnn\\rnn.py:199: UserWarning: Do not pass an `input_shape`/`input_dim` argument to a layer. When using Sequential models, prefer using an `Input(shape)` object as the first layer in the model instead.\n",
      "  super().__init__(**kwargs)\n"
     ]
    },
    {
     "name": "stdout",
     "output_type": "stream",
     "text": [
      "\u001b[1m4/4\u001b[0m \u001b[32m━━━━━━━━━━━━━━━━━━━━\u001b[0m\u001b[37m\u001b[0m \u001b[1m1s\u001b[0m 106ms/step\n"
     ]
    },
    {
     "name": "stderr",
     "output_type": "stream",
     "text": [
      "[I 2025-06-12 21:20:15,181] Trial 52 finished with value: 16.714147567749023 and parameters: {'lstm_units': 128, 'lstm_layers': 1, 'dropout_rate': 0.2, 'learning_rate': 0.006987903407463265, 'batch_size': 32, 'dense_units': 32, 'window_size': 20}. Best is trial 46 with value: 15.902691841125488.\n",
      "c:\\Users\\jerem\\miniconda3\\Lib\\site-packages\\keras\\src\\layers\\rnn\\rnn.py:199: UserWarning: Do not pass an `input_shape`/`input_dim` argument to a layer. When using Sequential models, prefer using an `Input(shape)` object as the first layer in the model instead.\n",
      "  super().__init__(**kwargs)\n"
     ]
    },
    {
     "name": "stdout",
     "output_type": "stream",
     "text": [
      "\u001b[1m4/4\u001b[0m \u001b[32m━━━━━━━━━━━━━━━━━━━━\u001b[0m\u001b[37m\u001b[0m \u001b[1m1s\u001b[0m 94ms/step\n"
     ]
    },
    {
     "name": "stderr",
     "output_type": "stream",
     "text": [
      "[I 2025-06-12 21:20:27,296] Trial 53 finished with value: 17.5473690032959 and parameters: {'lstm_units': 128, 'lstm_layers': 1, 'dropout_rate': 0.1, 'learning_rate': 0.008364888355011675, 'batch_size': 32, 'dense_units': 16, 'window_size': 10}. Best is trial 46 with value: 15.902691841125488.\n",
      "c:\\Users\\jerem\\miniconda3\\Lib\\site-packages\\keras\\src\\layers\\rnn\\rnn.py:199: UserWarning: Do not pass an `input_shape`/`input_dim` argument to a layer. When using Sequential models, prefer using an `Input(shape)` object as the first layer in the model instead.\n",
      "  super().__init__(**kwargs)\n"
     ]
    },
    {
     "name": "stdout",
     "output_type": "stream",
     "text": [
      "\u001b[1m4/4\u001b[0m \u001b[32m━━━━━━━━━━━━━━━━━━━━\u001b[0m\u001b[37m\u001b[0m \u001b[1m1s\u001b[0m 101ms/step\n"
     ]
    },
    {
     "name": "stderr",
     "output_type": "stream",
     "text": [
      "[I 2025-06-12 21:20:44,964] Trial 54 finished with value: 17.31273651123047 and parameters: {'lstm_units': 128, 'lstm_layers': 1, 'dropout_rate': 0.2, 'learning_rate': 0.0007239024712568565, 'batch_size': 32, 'dense_units': 32, 'window_size': 20}. Best is trial 46 with value: 15.902691841125488.\n",
      "c:\\Users\\jerem\\miniconda3\\Lib\\site-packages\\keras\\src\\layers\\rnn\\rnn.py:199: UserWarning: Do not pass an `input_shape`/`input_dim` argument to a layer. When using Sequential models, prefer using an `Input(shape)` object as the first layer in the model instead.\n",
      "  super().__init__(**kwargs)\n"
     ]
    },
    {
     "name": "stdout",
     "output_type": "stream",
     "text": [
      "\u001b[1m4/4\u001b[0m \u001b[32m━━━━━━━━━━━━━━━━━━━━\u001b[0m\u001b[37m\u001b[0m \u001b[1m1s\u001b[0m 90ms/step\n"
     ]
    },
    {
     "name": "stderr",
     "output_type": "stream",
     "text": [
      "[I 2025-06-12 21:20:58,515] Trial 55 finished with value: 16.493444442749023 and parameters: {'lstm_units': 96, 'lstm_layers': 1, 'dropout_rate': 0.1, 'learning_rate': 0.004965312755983996, 'batch_size': 32, 'dense_units': 16, 'window_size': 20}. Best is trial 46 with value: 15.902691841125488.\n",
      "c:\\Users\\jerem\\miniconda3\\Lib\\site-packages\\keras\\src\\layers\\rnn\\rnn.py:199: UserWarning: Do not pass an `input_shape`/`input_dim` argument to a layer. When using Sequential models, prefer using an `Input(shape)` object as the first layer in the model instead.\n",
      "  super().__init__(**kwargs)\n"
     ]
    },
    {
     "name": "stdout",
     "output_type": "stream",
     "text": [
      "\u001b[1m4/4\u001b[0m \u001b[32m━━━━━━━━━━━━━━━━━━━━\u001b[0m\u001b[37m\u001b[0m \u001b[1m1s\u001b[0m 104ms/step\n"
     ]
    },
    {
     "name": "stderr",
     "output_type": "stream",
     "text": [
      "[I 2025-06-12 21:21:45,748] Trial 56 finished with value: 17.785921096801758 and parameters: {'lstm_units': 128, 'lstm_layers': 1, 'dropout_rate': 0.1, 'learning_rate': 0.00010373703943665637, 'batch_size': 32, 'dense_units': 32, 'window_size': 30}. Best is trial 46 with value: 15.902691841125488.\n",
      "c:\\Users\\jerem\\miniconda3\\Lib\\site-packages\\keras\\src\\layers\\rnn\\rnn.py:199: UserWarning: Do not pass an `input_shape`/`input_dim` argument to a layer. When using Sequential models, prefer using an `Input(shape)` object as the first layer in the model instead.\n",
      "  super().__init__(**kwargs)\n"
     ]
    },
    {
     "name": "stdout",
     "output_type": "stream",
     "text": [
      "\u001b[1m4/4\u001b[0m \u001b[32m━━━━━━━━━━━━━━━━━━━━\u001b[0m\u001b[37m\u001b[0m \u001b[1m1s\u001b[0m 100ms/step\n"
     ]
    },
    {
     "name": "stderr",
     "output_type": "stream",
     "text": [
      "[I 2025-06-12 21:21:54,115] Trial 57 finished with value: 16.13740348815918 and parameters: {'lstm_units': 96, 'lstm_layers': 1, 'dropout_rate': 0.2, 'learning_rate': 0.0044131934418602655, 'batch_size': 32, 'dense_units': 48, 'window_size': 10}. Best is trial 46 with value: 15.902691841125488.\n",
      "c:\\Users\\jerem\\miniconda3\\Lib\\site-packages\\keras\\src\\layers\\rnn\\rnn.py:199: UserWarning: Do not pass an `input_shape`/`input_dim` argument to a layer. When using Sequential models, prefer using an `Input(shape)` object as the first layer in the model instead.\n",
      "  super().__init__(**kwargs)\n"
     ]
    },
    {
     "name": "stdout",
     "output_type": "stream",
     "text": [
      "\u001b[1m4/4\u001b[0m \u001b[32m━━━━━━━━━━━━━━━━━━━━\u001b[0m\u001b[37m\u001b[0m \u001b[1m1s\u001b[0m 91ms/step\n"
     ]
    },
    {
     "name": "stderr",
     "output_type": "stream",
     "text": [
      "[I 2025-06-12 21:22:07,615] Trial 58 finished with value: 16.25910186767578 and parameters: {'lstm_units': 96, 'lstm_layers': 1, 'dropout_rate': 0.2, 'learning_rate': 0.0026122335388255474, 'batch_size': 32, 'dense_units': 48, 'window_size': 20}. Best is trial 46 with value: 15.902691841125488.\n",
      "c:\\Users\\jerem\\miniconda3\\Lib\\site-packages\\keras\\src\\layers\\rnn\\rnn.py:199: UserWarning: Do not pass an `input_shape`/`input_dim` argument to a layer. When using Sequential models, prefer using an `Input(shape)` object as the first layer in the model instead.\n",
      "  super().__init__(**kwargs)\n"
     ]
    },
    {
     "name": "stdout",
     "output_type": "stream",
     "text": [
      "\u001b[1m4/4\u001b[0m \u001b[32m━━━━━━━━━━━━━━━━━━━━\u001b[0m\u001b[37m\u001b[0m \u001b[1m0s\u001b[0m 89ms/step\n"
     ]
    },
    {
     "name": "stderr",
     "output_type": "stream",
     "text": [
      "[I 2025-06-12 21:22:22,037] Trial 59 finished with value: 17.744888305664062 and parameters: {'lstm_units': 96, 'lstm_layers': 1, 'dropout_rate': 0.2, 'learning_rate': 0.0005097992971796644, 'batch_size': 32, 'dense_units': 48, 'window_size': 10}. Best is trial 46 with value: 15.902691841125488.\n",
      "c:\\Users\\jerem\\miniconda3\\Lib\\site-packages\\keras\\src\\layers\\rnn\\rnn.py:199: UserWarning: Do not pass an `input_shape`/`input_dim` argument to a layer. When using Sequential models, prefer using an `Input(shape)` object as the first layer in the model instead.\n",
      "  super().__init__(**kwargs)\n"
     ]
    },
    {
     "name": "stdout",
     "output_type": "stream",
     "text": [
      "\u001b[1m4/4\u001b[0m \u001b[32m━━━━━━━━━━━━━━━━━━━━\u001b[0m\u001b[37m\u001b[0m \u001b[1m1s\u001b[0m 184ms/step\n"
     ]
    },
    {
     "name": "stderr",
     "output_type": "stream",
     "text": [
      "[I 2025-06-12 21:22:58,700] Trial 60 finished with value: 16.859153747558594 and parameters: {'lstm_units': 128, 'lstm_layers': 2, 'dropout_rate': 0.2, 'learning_rate': 0.004387592970609246, 'batch_size': 32, 'dense_units': 32, 'window_size': 30}. Best is trial 46 with value: 15.902691841125488.\n",
      "c:\\Users\\jerem\\miniconda3\\Lib\\site-packages\\keras\\src\\layers\\rnn\\rnn.py:199: UserWarning: Do not pass an `input_shape`/`input_dim` argument to a layer. When using Sequential models, prefer using an `Input(shape)` object as the first layer in the model instead.\n",
      "  super().__init__(**kwargs)\n"
     ]
    },
    {
     "name": "stdout",
     "output_type": "stream",
     "text": [
      "\u001b[1m4/4\u001b[0m \u001b[32m━━━━━━━━━━━━━━━━━━━━\u001b[0m\u001b[37m\u001b[0m \u001b[1m1s\u001b[0m 102ms/step\n"
     ]
    },
    {
     "name": "stderr",
     "output_type": "stream",
     "text": [
      "[I 2025-06-12 21:23:09,283] Trial 61 finished with value: 16.932979583740234 and parameters: {'lstm_units': 96, 'lstm_layers': 1, 'dropout_rate': 0.2, 'learning_rate': 0.002769087073156569, 'batch_size': 32, 'dense_units': 64, 'window_size': 20}. Best is trial 46 with value: 15.902691841125488.\n",
      "c:\\Users\\jerem\\miniconda3\\Lib\\site-packages\\keras\\src\\layers\\rnn\\rnn.py:199: UserWarning: Do not pass an `input_shape`/`input_dim` argument to a layer. When using Sequential models, prefer using an `Input(shape)` object as the first layer in the model instead.\n",
      "  super().__init__(**kwargs)\n"
     ]
    },
    {
     "name": "stdout",
     "output_type": "stream",
     "text": [
      "\u001b[1m4/4\u001b[0m \u001b[32m━━━━━━━━━━━━━━━━━━━━\u001b[0m\u001b[37m\u001b[0m \u001b[1m1s\u001b[0m 97ms/step\n"
     ]
    },
    {
     "name": "stderr",
     "output_type": "stream",
     "text": [
      "[I 2025-06-12 21:23:22,166] Trial 62 finished with value: 17.002033233642578 and parameters: {'lstm_units': 96, 'lstm_layers': 1, 'dropout_rate': 0.2, 'learning_rate': 0.0033393497053085973, 'batch_size': 32, 'dense_units': 48, 'window_size': 20}. Best is trial 46 with value: 15.902691841125488.\n",
      "c:\\Users\\jerem\\miniconda3\\Lib\\site-packages\\keras\\src\\layers\\rnn\\rnn.py:199: UserWarning: Do not pass an `input_shape`/`input_dim` argument to a layer. When using Sequential models, prefer using an `Input(shape)` object as the first layer in the model instead.\n",
      "  super().__init__(**kwargs)\n"
     ]
    },
    {
     "name": "stdout",
     "output_type": "stream",
     "text": [
      "\u001b[1m4/4\u001b[0m \u001b[32m━━━━━━━━━━━━━━━━━━━━\u001b[0m\u001b[37m\u001b[0m \u001b[1m1s\u001b[0m 94ms/step\n"
     ]
    },
    {
     "name": "stderr",
     "output_type": "stream",
     "text": [
      "[I 2025-06-12 21:23:36,383] Trial 63 finished with value: 16.669998168945312 and parameters: {'lstm_units': 96, 'lstm_layers': 1, 'dropout_rate': 0.1, 'learning_rate': 0.002563871641335286, 'batch_size': 32, 'dense_units': 80, 'window_size': 20}. Best is trial 46 with value: 15.902691841125488.\n",
      "c:\\Users\\jerem\\miniconda3\\Lib\\site-packages\\keras\\src\\layers\\rnn\\rnn.py:199: UserWarning: Do not pass an `input_shape`/`input_dim` argument to a layer. When using Sequential models, prefer using an `Input(shape)` object as the first layer in the model instead.\n",
      "  super().__init__(**kwargs)\n"
     ]
    },
    {
     "name": "stdout",
     "output_type": "stream",
     "text": [
      "\u001b[1m4/4\u001b[0m \u001b[32m━━━━━━━━━━━━━━━━━━━━\u001b[0m\u001b[37m\u001b[0m \u001b[1m1s\u001b[0m 92ms/step\n"
     ]
    },
    {
     "name": "stderr",
     "output_type": "stream",
     "text": [
      "[I 2025-06-12 21:23:47,950] Trial 64 finished with value: 17.52104377746582 and parameters: {'lstm_units': 96, 'lstm_layers': 1, 'dropout_rate': 0.30000000000000004, 'learning_rate': 0.0009247586932450868, 'batch_size': 32, 'dense_units': 64, 'window_size': 10}. Best is trial 46 with value: 15.902691841125488.\n",
      "c:\\Users\\jerem\\miniconda3\\Lib\\site-packages\\keras\\src\\layers\\rnn\\rnn.py:199: UserWarning: Do not pass an `input_shape`/`input_dim` argument to a layer. When using Sequential models, prefer using an `Input(shape)` object as the first layer in the model instead.\n",
      "  super().__init__(**kwargs)\n"
     ]
    },
    {
     "name": "stdout",
     "output_type": "stream",
     "text": [
      "\u001b[1m4/4\u001b[0m \u001b[32m━━━━━━━━━━━━━━━━━━━━\u001b[0m\u001b[37m\u001b[0m \u001b[1m1s\u001b[0m 100ms/step\n"
     ]
    },
    {
     "name": "stderr",
     "output_type": "stream",
     "text": [
      "[I 2025-06-12 21:24:03,883] Trial 65 finished with value: 16.57188606262207 and parameters: {'lstm_units': 128, 'lstm_layers': 1, 'dropout_rate': 0.1, 'learning_rate': 0.0014913926619577037, 'batch_size': 32, 'dense_units': 48, 'window_size': 20}. Best is trial 46 with value: 15.902691841125488.\n",
      "c:\\Users\\jerem\\miniconda3\\Lib\\site-packages\\keras\\src\\layers\\rnn\\rnn.py:199: UserWarning: Do not pass an `input_shape`/`input_dim` argument to a layer. When using Sequential models, prefer using an `Input(shape)` object as the first layer in the model instead.\n",
      "  super().__init__(**kwargs)\n"
     ]
    },
    {
     "name": "stdout",
     "output_type": "stream",
     "text": [
      "\u001b[1m4/4\u001b[0m \u001b[32m━━━━━━━━━━━━━━━━━━━━\u001b[0m\u001b[37m\u001b[0m \u001b[1m1s\u001b[0m 111ms/step\n"
     ]
    },
    {
     "name": "stderr",
     "output_type": "stream",
     "text": [
      "[I 2025-06-12 21:24:21,633] Trial 66 finished with value: 16.35759925842285 and parameters: {'lstm_units': 96, 'lstm_layers': 1, 'dropout_rate': 0.2, 'learning_rate': 0.0019639392825271155, 'batch_size': 32, 'dense_units': 32, 'window_size': 40}. Best is trial 46 with value: 15.902691841125488.\n",
      "c:\\Users\\jerem\\miniconda3\\Lib\\site-packages\\keras\\src\\layers\\rnn\\rnn.py:199: UserWarning: Do not pass an `input_shape`/`input_dim` argument to a layer. When using Sequential models, prefer using an `Input(shape)` object as the first layer in the model instead.\n",
      "  super().__init__(**kwargs)\n"
     ]
    },
    {
     "name": "stdout",
     "output_type": "stream",
     "text": [
      "\u001b[1m8/8\u001b[0m \u001b[32m━━━━━━━━━━━━━━━━━━━━\u001b[0m\u001b[37m\u001b[0m \u001b[1m1s\u001b[0m 48ms/step\n"
     ]
    },
    {
     "name": "stderr",
     "output_type": "stream",
     "text": [
      "[I 2025-06-12 21:24:37,041] Trial 67 finished with value: 17.121681213378906 and parameters: {'lstm_units': 96, 'lstm_layers': 1, 'dropout_rate': 0.1, 'learning_rate': 0.005191481816480248, 'batch_size': 16, 'dense_units': 48, 'window_size': 30}. Best is trial 46 with value: 15.902691841125488.\n",
      "c:\\Users\\jerem\\miniconda3\\Lib\\site-packages\\keras\\src\\layers\\rnn\\rnn.py:199: UserWarning: Do not pass an `input_shape`/`input_dim` argument to a layer. When using Sequential models, prefer using an `Input(shape)` object as the first layer in the model instead.\n",
      "  super().__init__(**kwargs)\n"
     ]
    },
    {
     "name": "stdout",
     "output_type": "stream",
     "text": [
      "\u001b[1m4/4\u001b[0m \u001b[32m━━━━━━━━━━━━━━━━━━━━\u001b[0m\u001b[37m\u001b[0m \u001b[1m1s\u001b[0m 100ms/step\n"
     ]
    },
    {
     "name": "stderr",
     "output_type": "stream",
     "text": [
      "[I 2025-06-12 21:24:57,884] Trial 68 finished with value: 15.449372291564941 and parameters: {'lstm_units': 128, 'lstm_layers': 1, 'dropout_rate': 0.30000000000000004, 'learning_rate': 0.0034586014378215945, 'batch_size': 32, 'dense_units': 32, 'window_size': 20}. Best is trial 68 with value: 15.449372291564941.\n",
      "c:\\Users\\jerem\\miniconda3\\Lib\\site-packages\\keras\\src\\layers\\rnn\\rnn.py:199: UserWarning: Do not pass an `input_shape`/`input_dim` argument to a layer. When using Sequential models, prefer using an `Input(shape)` object as the first layer in the model instead.\n",
      "  super().__init__(**kwargs)\n"
     ]
    },
    {
     "name": "stdout",
     "output_type": "stream",
     "text": [
      "\u001b[1m4/4\u001b[0m \u001b[32m━━━━━━━━━━━━━━━━━━━━\u001b[0m\u001b[37m\u001b[0m \u001b[1m1s\u001b[0m 98ms/step\n"
     ]
    },
    {
     "name": "stderr",
     "output_type": "stream",
     "text": [
      "[I 2025-06-12 21:25:11,284] Trial 69 finished with value: 19.594234466552734 and parameters: {'lstm_units': 128, 'lstm_layers': 1, 'dropout_rate': 0.30000000000000004, 'learning_rate': 0.0003115174893109534, 'batch_size': 32, 'dense_units': 32, 'window_size': 10}. Best is trial 68 with value: 15.449372291564941.\n",
      "[I 2025-06-12 21:25:11,301] A new study created in memory with name: lstm_regression_study\n"
     ]
    },
    {
     "name": "stdout",
     "output_type": "stream",
     "text": [
      "Running LSTM study for bin 5, stock 15...\n"
     ]
    },
    {
     "name": "stderr",
     "output_type": "stream",
     "text": [
      "c:\\Users\\jerem\\miniconda3\\Lib\\site-packages\\keras\\src\\layers\\rnn\\rnn.py:199: UserWarning: Do not pass an `input_shape`/`input_dim` argument to a layer. When using Sequential models, prefer using an `Input(shape)` object as the first layer in the model instead.\n",
      "  super().__init__(**kwargs)\n"
     ]
    },
    {
     "name": "stdout",
     "output_type": "stream",
     "text": [
      "\u001b[1m8/8\u001b[0m \u001b[32m━━━━━━━━━━━━━━━━━━━━\u001b[0m\u001b[37m\u001b[0m \u001b[1m1s\u001b[0m 101ms/step\n"
     ]
    },
    {
     "name": "stderr",
     "output_type": "stream",
     "text": [
      "[I 2025-06-12 21:27:03,085] Trial 0 finished with value: 16.293113708496094 and parameters: {'lstm_units': 96, 'lstm_layers': 2, 'dropout_rate': 0.1, 'learning_rate': 0.0008077948526624954, 'batch_size': 16, 'dense_units': 96, 'window_size': 30}. Best is trial 0 with value: 16.293113708496094.\n",
      "c:\\Users\\jerem\\miniconda3\\Lib\\site-packages\\keras\\src\\layers\\rnn\\rnn.py:199: UserWarning: Do not pass an `input_shape`/`input_dim` argument to a layer. When using Sequential models, prefer using an `Input(shape)` object as the first layer in the model instead.\n",
      "  super().__init__(**kwargs)\n"
     ]
    },
    {
     "name": "stdout",
     "output_type": "stream",
     "text": [
      "\u001b[1m8/8\u001b[0m \u001b[32m━━━━━━━━━━━━━━━━━━━━\u001b[0m\u001b[37m\u001b[0m \u001b[1m1s\u001b[0m 74ms/step\n"
     ]
    },
    {
     "name": "stderr",
     "output_type": "stream",
     "text": [
      "[I 2025-06-12 21:27:54,803] Trial 1 finished with value: 26.546239852905273 and parameters: {'lstm_units': 64, 'lstm_layers': 2, 'dropout_rate': 0.1, 'learning_rate': 0.0005781236592927251, 'batch_size': 16, 'dense_units': 48, 'window_size': 10}. Best is trial 0 with value: 16.293113708496094.\n",
      "c:\\Users\\jerem\\miniconda3\\Lib\\site-packages\\keras\\src\\layers\\rnn\\rnn.py:199: UserWarning: Do not pass an `input_shape`/`input_dim` argument to a layer. When using Sequential models, prefer using an `Input(shape)` object as the first layer in the model instead.\n",
      "  super().__init__(**kwargs)\n"
     ]
    },
    {
     "name": "stdout",
     "output_type": "stream",
     "text": [
      "\u001b[1m8/8\u001b[0m \u001b[32m━━━━━━━━━━━━━━━━━━━━\u001b[0m\u001b[37m\u001b[0m \u001b[1m1s\u001b[0m 79ms/step\n"
     ]
    },
    {
     "name": "stderr",
     "output_type": "stream",
     "text": [
      "[I 2025-06-12 21:29:11,503] Trial 2 finished with value: 18.780471801757812 and parameters: {'lstm_units': 128, 'lstm_layers': 2, 'dropout_rate': 0.2, 'learning_rate': 0.00016475184151030668, 'batch_size': 16, 'dense_units': 112, 'window_size': 10}. Best is trial 0 with value: 16.293113708496094.\n",
      "c:\\Users\\jerem\\miniconda3\\Lib\\site-packages\\keras\\src\\layers\\rnn\\rnn.py:199: UserWarning: Do not pass an `input_shape`/`input_dim` argument to a layer. When using Sequential models, prefer using an `Input(shape)` object as the first layer in the model instead.\n",
      "  super().__init__(**kwargs)\n"
     ]
    },
    {
     "name": "stdout",
     "output_type": "stream",
     "text": [
      "\u001b[1m8/8\u001b[0m \u001b[32m━━━━━━━━━━━━━━━━━━━━\u001b[0m\u001b[37m\u001b[0m \u001b[1m1s\u001b[0m 43ms/step\n"
     ]
    },
    {
     "name": "stderr",
     "output_type": "stream",
     "text": [
      "[I 2025-06-12 21:29:31,137] Trial 3 finished with value: 80.66828155517578 and parameters: {'lstm_units': 32, 'lstm_layers': 1, 'dropout_rate': 0.0, 'learning_rate': 0.00016232219478538415, 'batch_size': 16, 'dense_units': 16, 'window_size': 60}. Best is trial 0 with value: 16.293113708496094.\n",
      "c:\\Users\\jerem\\miniconda3\\Lib\\site-packages\\keras\\src\\layers\\rnn\\rnn.py:199: UserWarning: Do not pass an `input_shape`/`input_dim` argument to a layer. When using Sequential models, prefer using an `Input(shape)` object as the first layer in the model instead.\n",
      "  super().__init__(**kwargs)\n"
     ]
    },
    {
     "name": "stdout",
     "output_type": "stream",
     "text": [
      "\u001b[1m8/8\u001b[0m \u001b[32m━━━━━━━━━━━━━━━━━━━━\u001b[0m\u001b[37m\u001b[0m \u001b[1m1s\u001b[0m 94ms/step\n"
     ]
    },
    {
     "name": "stderr",
     "output_type": "stream",
     "text": [
      "[I 2025-06-12 21:31:37,877] Trial 4 finished with value: 60.69050979614258 and parameters: {'lstm_units': 96, 'lstm_layers': 2, 'dropout_rate': 0.4, 'learning_rate': 0.00023880039436874638, 'batch_size': 16, 'dense_units': 80, 'window_size': 30}. Best is trial 0 with value: 16.293113708496094.\n",
      "c:\\Users\\jerem\\miniconda3\\Lib\\site-packages\\keras\\src\\layers\\rnn\\rnn.py:199: UserWarning: Do not pass an `input_shape`/`input_dim` argument to a layer. When using Sequential models, prefer using an `Input(shape)` object as the first layer in the model instead.\n",
      "  super().__init__(**kwargs)\n"
     ]
    },
    {
     "name": "stdout",
     "output_type": "stream",
     "text": [
      "\u001b[1m4/4\u001b[0m \u001b[32m━━━━━━━━━━━━━━━━━━━━\u001b[0m\u001b[37m\u001b[0m \u001b[1m1s\u001b[0m 92ms/step\n"
     ]
    },
    {
     "name": "stderr",
     "output_type": "stream",
     "text": [
      "[I 2025-06-12 21:32:05,664] Trial 5 finished with value: 35.25358963012695 and parameters: {'lstm_units': 128, 'lstm_layers': 1, 'dropout_rate': 0.2, 'learning_rate': 0.0005672420636521442, 'batch_size': 32, 'dense_units': 64, 'window_size': 10}. Best is trial 0 with value: 16.293113708496094.\n",
      "c:\\Users\\jerem\\miniconda3\\Lib\\site-packages\\keras\\src\\layers\\rnn\\rnn.py:199: UserWarning: Do not pass an `input_shape`/`input_dim` argument to a layer. When using Sequential models, prefer using an `Input(shape)` object as the first layer in the model instead.\n",
      "  super().__init__(**kwargs)\n"
     ]
    },
    {
     "name": "stdout",
     "output_type": "stream",
     "text": [
      "\u001b[1m8/8\u001b[0m \u001b[32m━━━━━━━━━━━━━━━━━━━━\u001b[0m\u001b[37m\u001b[0m \u001b[1m1s\u001b[0m 45ms/step\n"
     ]
    },
    {
     "name": "stderr",
     "output_type": "stream",
     "text": [
      "[I 2025-06-12 21:32:53,461] Trial 6 finished with value: 20.534500122070312 and parameters: {'lstm_units': 64, 'lstm_layers': 1, 'dropout_rate': 0.4, 'learning_rate': 0.002597533531759688, 'batch_size': 16, 'dense_units': 96, 'window_size': 60}. Best is trial 0 with value: 16.293113708496094.\n",
      "c:\\Users\\jerem\\miniconda3\\Lib\\site-packages\\keras\\src\\layers\\rnn\\rnn.py:199: UserWarning: Do not pass an `input_shape`/`input_dim` argument to a layer. When using Sequential models, prefer using an `Input(shape)` object as the first layer in the model instead.\n",
      "  super().__init__(**kwargs)\n"
     ]
    },
    {
     "name": "stdout",
     "output_type": "stream",
     "text": [
      "\u001b[1m4/4\u001b[0m \u001b[32m━━━━━━━━━━━━━━━━━━━━\u001b[0m\u001b[37m\u001b[0m \u001b[1m1s\u001b[0m 154ms/step\n"
     ]
    },
    {
     "name": "stderr",
     "output_type": "stream",
     "text": [
      "[I 2025-06-12 21:33:38,263] Trial 7 finished with value: 17.550729751586914 and parameters: {'lstm_units': 64, 'lstm_layers': 2, 'dropout_rate': 0.4, 'learning_rate': 0.0008254816150512856, 'batch_size': 32, 'dense_units': 96, 'window_size': 20}. Best is trial 0 with value: 16.293113708496094.\n",
      "c:\\Users\\jerem\\miniconda3\\Lib\\site-packages\\keras\\src\\layers\\rnn\\rnn.py:199: UserWarning: Do not pass an `input_shape`/`input_dim` argument to a layer. When using Sequential models, prefer using an `Input(shape)` object as the first layer in the model instead.\n",
      "  super().__init__(**kwargs)\n"
     ]
    },
    {
     "name": "stdout",
     "output_type": "stream",
     "text": [
      "\u001b[1m8/8\u001b[0m \u001b[32m━━━━━━━━━━━━━━━━━━━━\u001b[0m\u001b[37m\u001b[0m \u001b[1m1s\u001b[0m 50ms/step\n"
     ]
    },
    {
     "name": "stderr",
     "output_type": "stream",
     "text": [
      "[I 2025-06-12 21:35:50,263] Trial 8 finished with value: 22.210063934326172 and parameters: {'lstm_units': 128, 'lstm_layers': 1, 'dropout_rate': 0.1, 'learning_rate': 0.0001764688748585687, 'batch_size': 16, 'dense_units': 112, 'window_size': 50}. Best is trial 0 with value: 16.293113708496094.\n",
      "c:\\Users\\jerem\\miniconda3\\Lib\\site-packages\\keras\\src\\layers\\rnn\\rnn.py:199: UserWarning: Do not pass an `input_shape`/`input_dim` argument to a layer. When using Sequential models, prefer using an `Input(shape)` object as the first layer in the model instead.\n",
      "  super().__init__(**kwargs)\n"
     ]
    },
    {
     "name": "stdout",
     "output_type": "stream",
     "text": [
      "\u001b[1m4/4\u001b[0m \u001b[32m━━━━━━━━━━━━━━━━━━━━\u001b[0m\u001b[37m\u001b[0m \u001b[1m1s\u001b[0m 117ms/step\n"
     ]
    },
    {
     "name": "stderr",
     "output_type": "stream",
     "text": [
      "[I 2025-06-12 21:36:53,146] Trial 9 finished with value: 24.789512634277344 and parameters: {'lstm_units': 128, 'lstm_layers': 1, 'dropout_rate': 0.2, 'learning_rate': 0.00031363812297003203, 'batch_size': 32, 'dense_units': 128, 'window_size': 40}. Best is trial 0 with value: 16.293113708496094.\n",
      "c:\\Users\\jerem\\miniconda3\\Lib\\site-packages\\keras\\src\\layers\\rnn\\rnn.py:199: UserWarning: Do not pass an `input_shape`/`input_dim` argument to a layer. When using Sequential models, prefer using an `Input(shape)` object as the first layer in the model instead.\n",
      "  super().__init__(**kwargs)\n"
     ]
    },
    {
     "name": "stdout",
     "output_type": "stream",
     "text": [
      "\u001b[1m4/4\u001b[0m \u001b[32m━━━━━━━━━━━━━━━━━━━━\u001b[0m\u001b[37m\u001b[0m \u001b[1m1s\u001b[0m 163ms/step\n"
     ]
    },
    {
     "name": "stderr",
     "output_type": "stream",
     "text": [
      "[I 2025-06-12 21:37:24,043] Trial 10 finished with value: 23.627361297607422 and parameters: {'lstm_units': 96, 'lstm_layers': 2, 'dropout_rate': 0.0, 'learning_rate': 0.007224108998607434, 'batch_size': 32, 'dense_units': 32, 'window_size': 30}. Best is trial 0 with value: 16.293113708496094.\n",
      "c:\\Users\\jerem\\miniconda3\\Lib\\site-packages\\keras\\src\\layers\\rnn\\rnn.py:199: UserWarning: Do not pass an `input_shape`/`input_dim` argument to a layer. When using Sequential models, prefer using an `Input(shape)` object as the first layer in the model instead.\n",
      "  super().__init__(**kwargs)\n"
     ]
    },
    {
     "name": "stdout",
     "output_type": "stream",
     "text": [
      "\u001b[1m4/4\u001b[0m \u001b[32m━━━━━━━━━━━━━━━━━━━━\u001b[0m\u001b[37m\u001b[0m \u001b[1m1s\u001b[0m 167ms/step\n"
     ]
    },
    {
     "name": "stderr",
     "output_type": "stream",
     "text": [
      "[I 2025-06-12 21:37:57,543] Trial 11 finished with value: 28.31803321838379 and parameters: {'lstm_units': 32, 'lstm_layers': 2, 'dropout_rate': 0.5, 'learning_rate': 0.0020730958645707206, 'batch_size': 32, 'dense_units': 80, 'window_size': 20}. Best is trial 0 with value: 16.293113708496094.\n",
      "c:\\Users\\jerem\\miniconda3\\Lib\\site-packages\\keras\\src\\layers\\rnn\\rnn.py:199: UserWarning: Do not pass an `input_shape`/`input_dim` argument to a layer. When using Sequential models, prefer using an `Input(shape)` object as the first layer in the model instead.\n",
      "  super().__init__(**kwargs)\n"
     ]
    },
    {
     "name": "stdout",
     "output_type": "stream",
     "text": [
      "\u001b[1m4/4\u001b[0m \u001b[32m━━━━━━━━━━━━━━━━━━━━\u001b[0m\u001b[37m\u001b[0m \u001b[1m1s\u001b[0m 163ms/step\n"
     ]
    },
    {
     "name": "stderr",
     "output_type": "stream",
     "text": [
      "[I 2025-06-12 21:38:13,993] Trial 12 finished with value: 47.11494445800781 and parameters: {'lstm_units': 64, 'lstm_layers': 2, 'dropout_rate': 0.4, 'learning_rate': 0.0013735480442687703, 'batch_size': 32, 'dense_units': 96, 'window_size': 20}. Best is trial 0 with value: 16.293113708496094.\n",
      "c:\\Users\\jerem\\miniconda3\\Lib\\site-packages\\keras\\src\\layers\\rnn\\rnn.py:199: UserWarning: Do not pass an `input_shape`/`input_dim` argument to a layer. When using Sequential models, prefer using an `Input(shape)` object as the first layer in the model instead.\n",
      "  super().__init__(**kwargs)\n"
     ]
    },
    {
     "name": "stdout",
     "output_type": "stream",
     "text": [
      "\u001b[1m4/4\u001b[0m \u001b[32m━━━━━━━━━━━━━━━━━━━━\u001b[0m\u001b[37m\u001b[0m \u001b[1m1s\u001b[0m 253ms/step\n"
     ]
    },
    {
     "name": "stderr",
     "output_type": "stream",
     "text": [
      "[I 2025-06-12 21:40:32,811] Trial 13 finished with value: 21.622577667236328 and parameters: {'lstm_units': 96, 'lstm_layers': 2, 'dropout_rate': 0.30000000000000004, 'learning_rate': 0.000742818700741038, 'batch_size': 32, 'dense_units': 128, 'window_size': 40}. Best is trial 0 with value: 16.293113708496094.\n",
      "c:\\Users\\jerem\\miniconda3\\Lib\\site-packages\\keras\\src\\layers\\rnn\\rnn.py:199: UserWarning: Do not pass an `input_shape`/`input_dim` argument to a layer. When using Sequential models, prefer using an `Input(shape)` object as the first layer in the model instead.\n",
      "  super().__init__(**kwargs)\n"
     ]
    },
    {
     "name": "stdout",
     "output_type": "stream",
     "text": [
      "\u001b[1m8/8\u001b[0m \u001b[32m━━━━━━━━━━━━━━━━━━━━\u001b[0m\u001b[37m\u001b[0m \u001b[1m1s\u001b[0m 70ms/step\n"
     ]
    },
    {
     "name": "stderr",
     "output_type": "stream",
     "text": [
      "[I 2025-06-12 21:41:17,595] Trial 14 finished with value: 26.441865921020508 and parameters: {'lstm_units': 64, 'lstm_layers': 2, 'dropout_rate': 0.5, 'learning_rate': 0.0014245256440399304, 'batch_size': 16, 'dense_units': 64, 'window_size': 20}. Best is trial 0 with value: 16.293113708496094.\n",
      "c:\\Users\\jerem\\miniconda3\\Lib\\site-packages\\keras\\src\\layers\\rnn\\rnn.py:199: UserWarning: Do not pass an `input_shape`/`input_dim` argument to a layer. When using Sequential models, prefer using an `Input(shape)` object as the first layer in the model instead.\n",
      "  super().__init__(**kwargs)\n"
     ]
    },
    {
     "name": "stdout",
     "output_type": "stream",
     "text": [
      "\u001b[1m4/4\u001b[0m \u001b[32m━━━━━━━━━━━━━━━━━━━━\u001b[0m\u001b[37m\u001b[0m \u001b[1m1s\u001b[0m 179ms/step\n"
     ]
    },
    {
     "name": "stderr",
     "output_type": "stream",
     "text": [
      "[I 2025-06-12 21:41:39,828] Trial 15 finished with value: 21.13568878173828 and parameters: {'lstm_units': 96, 'lstm_layers': 2, 'dropout_rate': 0.30000000000000004, 'learning_rate': 0.004229935507034708, 'batch_size': 32, 'dense_units': 96, 'window_size': 30}. Best is trial 0 with value: 16.293113708496094.\n",
      "c:\\Users\\jerem\\miniconda3\\Lib\\site-packages\\keras\\src\\layers\\rnn\\rnn.py:199: UserWarning: Do not pass an `input_shape`/`input_dim` argument to a layer. When using Sequential models, prefer using an `Input(shape)` object as the first layer in the model instead.\n",
      "  super().__init__(**kwargs)\n"
     ]
    },
    {
     "name": "stdout",
     "output_type": "stream",
     "text": [
      "\u001b[1m4/4\u001b[0m \u001b[32m━━━━━━━━━━━━━━━━━━━━\u001b[0m\u001b[37m\u001b[0m \u001b[1m1s\u001b[0m 172ms/step\n"
     ]
    },
    {
     "name": "stderr",
     "output_type": "stream",
     "text": [
      "[I 2025-06-12 21:42:23,763] Trial 16 finished with value: 28.387195587158203 and parameters: {'lstm_units': 32, 'lstm_layers': 2, 'dropout_rate': 0.1, 'learning_rate': 0.00040056570064153527, 'batch_size': 32, 'dense_units': 112, 'window_size': 20}. Best is trial 0 with value: 16.293113708496094.\n",
      "c:\\Users\\jerem\\miniconda3\\Lib\\site-packages\\keras\\src\\layers\\rnn\\rnn.py:199: UserWarning: Do not pass an `input_shape`/`input_dim` argument to a layer. When using Sequential models, prefer using an `Input(shape)` object as the first layer in the model instead.\n",
      "  super().__init__(**kwargs)\n"
     ]
    },
    {
     "name": "stdout",
     "output_type": "stream",
     "text": [
      "\u001b[1m8/8\u001b[0m \u001b[32m━━━━━━━━━━━━━━━━━━━━\u001b[0m\u001b[37m\u001b[0m \u001b[1m1s\u001b[0m 79ms/step\n"
     ]
    },
    {
     "name": "stderr",
     "output_type": "stream",
     "text": [
      "[I 2025-06-12 21:44:04,730] Trial 17 finished with value: 23.16657257080078 and parameters: {'lstm_units': 64, 'lstm_layers': 2, 'dropout_rate': 0.30000000000000004, 'learning_rate': 0.0010219832493171353, 'batch_size': 16, 'dense_units': 80, 'window_size': 40}. Best is trial 0 with value: 16.293113708496094.\n",
      "c:\\Users\\jerem\\miniconda3\\Lib\\site-packages\\keras\\src\\layers\\rnn\\rnn.py:199: UserWarning: Do not pass an `input_shape`/`input_dim` argument to a layer. When using Sequential models, prefer using an `Input(shape)` object as the first layer in the model instead.\n",
      "  super().__init__(**kwargs)\n"
     ]
    },
    {
     "name": "stdout",
     "output_type": "stream",
     "text": [
      "\u001b[1m8/8\u001b[0m \u001b[32m━━━━━━━━━━━━━━━━━━━━\u001b[0m\u001b[37m\u001b[0m \u001b[1m1s\u001b[0m 109ms/step\n"
     ]
    },
    {
     "name": "stderr",
     "output_type": "stream",
     "text": [
      "[I 2025-06-12 21:45:33,622] Trial 18 finished with value: 24.6437931060791 and parameters: {'lstm_units': 96, 'lstm_layers': 2, 'dropout_rate': 0.4, 'learning_rate': 0.002771071735084077, 'batch_size': 16, 'dense_units': 96, 'window_size': 50}. Best is trial 0 with value: 16.293113708496094.\n",
      "c:\\Users\\jerem\\miniconda3\\Lib\\site-packages\\keras\\src\\layers\\rnn\\rnn.py:199: UserWarning: Do not pass an `input_shape`/`input_dim` argument to a layer. When using Sequential models, prefer using an `Input(shape)` object as the first layer in the model instead.\n",
      "  super().__init__(**kwargs)\n"
     ]
    },
    {
     "name": "stdout",
     "output_type": "stream",
     "text": [
      "\u001b[1m4/4\u001b[0m \u001b[32m━━━━━━━━━━━━━━━━━━━━\u001b[0m\u001b[37m\u001b[0m \u001b[1m1s\u001b[0m 157ms/step\n"
     ]
    },
    {
     "name": "stderr",
     "output_type": "stream",
     "text": [
      "[I 2025-06-12 21:46:21,204] Trial 19 finished with value: 20.248249053955078 and parameters: {'lstm_units': 64, 'lstm_layers': 2, 'dropout_rate': 0.1, 'learning_rate': 0.0009250533014567662, 'batch_size': 32, 'dense_units': 48, 'window_size': 30}. Best is trial 0 with value: 16.293113708496094.\n",
      "c:\\Users\\jerem\\miniconda3\\Lib\\site-packages\\keras\\src\\layers\\rnn\\rnn.py:199: UserWarning: Do not pass an `input_shape`/`input_dim` argument to a layer. When using Sequential models, prefer using an `Input(shape)` object as the first layer in the model instead.\n",
      "  super().__init__(**kwargs)\n"
     ]
    },
    {
     "name": "stdout",
     "output_type": "stream",
     "text": [
      "\u001b[1m4/4\u001b[0m \u001b[32m━━━━━━━━━━━━━━━━━━━━\u001b[0m\u001b[37m\u001b[0m \u001b[1m1s\u001b[0m 90ms/step\n"
     ]
    },
    {
     "name": "stderr",
     "output_type": "stream",
     "text": [
      "[I 2025-06-12 21:46:48,688] Trial 20 finished with value: 76.60437774658203 and parameters: {'lstm_units': 96, 'lstm_layers': 1, 'dropout_rate': 0.0, 'learning_rate': 0.0001096908196468509, 'batch_size': 32, 'dense_units': 112, 'window_size': 20}. Best is trial 0 with value: 16.293113708496094.\n",
      "c:\\Users\\jerem\\miniconda3\\Lib\\site-packages\\keras\\src\\layers\\rnn\\rnn.py:199: UserWarning: Do not pass an `input_shape`/`input_dim` argument to a layer. When using Sequential models, prefer using an `Input(shape)` object as the first layer in the model instead.\n",
      "  super().__init__(**kwargs)\n"
     ]
    },
    {
     "name": "stdout",
     "output_type": "stream",
     "text": [
      "\u001b[1m8/8\u001b[0m \u001b[32m━━━━━━━━━━━━━━━━━━━━\u001b[0m\u001b[37m\u001b[0m \u001b[1m1s\u001b[0m 73ms/step\n"
     ]
    },
    {
     "name": "stderr",
     "output_type": "stream",
     "text": [
      "[I 2025-06-12 21:47:48,966] Trial 21 finished with value: 19.842824935913086 and parameters: {'lstm_units': 128, 'lstm_layers': 2, 'dropout_rate': 0.2, 'learning_rate': 0.000481764399616774, 'batch_size': 16, 'dense_units': 112, 'window_size': 10}. Best is trial 0 with value: 16.293113708496094.\n",
      "c:\\Users\\jerem\\miniconda3\\Lib\\site-packages\\keras\\src\\layers\\rnn\\rnn.py:199: UserWarning: Do not pass an `input_shape`/`input_dim` argument to a layer. When using Sequential models, prefer using an `Input(shape)` object as the first layer in the model instead.\n",
      "  super().__init__(**kwargs)\n"
     ]
    },
    {
     "name": "stdout",
     "output_type": "stream",
     "text": [
      "\u001b[1m8/8\u001b[0m \u001b[32m━━━━━━━━━━━━━━━━━━━━\u001b[0m\u001b[37m\u001b[0m \u001b[1m2s\u001b[0m 114ms/step\n"
     ]
    },
    {
     "name": "stderr",
     "output_type": "stream",
     "text": [
      "[I 2025-06-12 21:49:23,076] Trial 22 finished with value: 20.174339294433594 and parameters: {'lstm_units': 128, 'lstm_layers': 2, 'dropout_rate': 0.2, 'learning_rate': 0.00011212108346469119, 'batch_size': 16, 'dense_units': 128, 'window_size': 10}. Best is trial 0 with value: 16.293113708496094.\n",
      "c:\\Users\\jerem\\miniconda3\\Lib\\site-packages\\keras\\src\\layers\\rnn\\rnn.py:199: UserWarning: Do not pass an `input_shape`/`input_dim` argument to a layer. When using Sequential models, prefer using an `Input(shape)` object as the first layer in the model instead.\n",
      "  super().__init__(**kwargs)\n"
     ]
    },
    {
     "name": "stdout",
     "output_type": "stream",
     "text": [
      "\u001b[1m8/8\u001b[0m \u001b[32m━━━━━━━━━━━━━━━━━━━━\u001b[0m\u001b[37m\u001b[0m \u001b[1m1s\u001b[0m 84ms/step\n"
     ]
    },
    {
     "name": "stderr",
     "output_type": "stream",
     "text": [
      "[I 2025-06-12 21:50:42,351] Trial 23 finished with value: 18.138959884643555 and parameters: {'lstm_units': 128, 'lstm_layers': 2, 'dropout_rate': 0.30000000000000004, 'learning_rate': 0.0003313837201965909, 'batch_size': 16, 'dense_units': 96, 'window_size': 20}. Best is trial 0 with value: 16.293113708496094.\n",
      "c:\\Users\\jerem\\miniconda3\\Lib\\site-packages\\keras\\src\\layers\\rnn\\rnn.py:199: UserWarning: Do not pass an `input_shape`/`input_dim` argument to a layer. When using Sequential models, prefer using an `Input(shape)` object as the first layer in the model instead.\n",
      "  super().__init__(**kwargs)\n"
     ]
    },
    {
     "name": "stdout",
     "output_type": "stream",
     "text": [
      "\u001b[1m8/8\u001b[0m \u001b[32m━━━━━━━━━━━━━━━━━━━━\u001b[0m\u001b[37m\u001b[0m \u001b[1m1s\u001b[0m 75ms/step\n"
     ]
    },
    {
     "name": "stderr",
     "output_type": "stream",
     "text": [
      "[I 2025-06-12 21:51:56,786] Trial 24 finished with value: 104.85511016845703 and parameters: {'lstm_units': 96, 'lstm_layers': 2, 'dropout_rate': 0.30000000000000004, 'learning_rate': 0.0003040104139303331, 'batch_size': 16, 'dense_units': 80, 'window_size': 20}. Best is trial 0 with value: 16.293113708496094.\n",
      "c:\\Users\\jerem\\miniconda3\\Lib\\site-packages\\keras\\src\\layers\\rnn\\rnn.py:199: UserWarning: Do not pass an `input_shape`/`input_dim` argument to a layer. When using Sequential models, prefer using an `Input(shape)` object as the first layer in the model instead.\n",
      "  super().__init__(**kwargs)\n"
     ]
    },
    {
     "name": "stdout",
     "output_type": "stream",
     "text": [
      "\u001b[1m8/8\u001b[0m \u001b[32m━━━━━━━━━━━━━━━━━━━━\u001b[0m\u001b[37m\u001b[0m \u001b[1m1s\u001b[0m 105ms/step\n"
     ]
    },
    {
     "name": "stderr",
     "output_type": "stream",
     "text": [
      "[I 2025-06-12 21:53:54,212] Trial 25 finished with value: 29.70414161682129 and parameters: {'lstm_units': 64, 'lstm_layers': 2, 'dropout_rate': 0.5, 'learning_rate': 0.0007430881468196388, 'batch_size': 16, 'dense_units': 96, 'window_size': 30}. Best is trial 0 with value: 16.293113708496094.\n",
      "c:\\Users\\jerem\\miniconda3\\Lib\\site-packages\\keras\\src\\layers\\rnn\\rnn.py:199: UserWarning: Do not pass an `input_shape`/`input_dim` argument to a layer. When using Sequential models, prefer using an `Input(shape)` object as the first layer in the model instead.\n",
      "  super().__init__(**kwargs)\n"
     ]
    },
    {
     "name": "stdout",
     "output_type": "stream",
     "text": [
      "\u001b[1m8/8\u001b[0m \u001b[32m━━━━━━━━━━━━━━━━━━━━\u001b[0m\u001b[37m\u001b[0m \u001b[1m1s\u001b[0m 66ms/step\n"
     ]
    },
    {
     "name": "stderr",
     "output_type": "stream",
     "text": [
      "[I 2025-06-12 21:54:39,940] Trial 26 finished with value: 15.844289779663086 and parameters: {'lstm_units': 96, 'lstm_layers': 2, 'dropout_rate': 0.4, 'learning_rate': 0.0014215477635993762, 'batch_size': 16, 'dense_units': 64, 'window_size': 20}. Best is trial 26 with value: 15.844289779663086.\n",
      "c:\\Users\\jerem\\miniconda3\\Lib\\site-packages\\keras\\src\\layers\\rnn\\rnn.py:199: UserWarning: Do not pass an `input_shape`/`input_dim` argument to a layer. When using Sequential models, prefer using an `Input(shape)` object as the first layer in the model instead.\n",
      "  super().__init__(**kwargs)\n"
     ]
    },
    {
     "name": "stdout",
     "output_type": "stream",
     "text": [
      "\u001b[1m8/8\u001b[0m \u001b[32m━━━━━━━━━━━━━━━━━━━━\u001b[0m\u001b[37m\u001b[0m \u001b[1m1s\u001b[0m 73ms/step\n"
     ]
    },
    {
     "name": "stderr",
     "output_type": "stream",
     "text": [
      "[I 2025-06-12 21:55:21,412] Trial 27 finished with value: 17.926008224487305 and parameters: {'lstm_units': 96, 'lstm_layers': 2, 'dropout_rate': 0.4, 'learning_rate': 0.001708614563366355, 'batch_size': 16, 'dense_units': 64, 'window_size': 30}. Best is trial 26 with value: 15.844289779663086.\n",
      "c:\\Users\\jerem\\miniconda3\\Lib\\site-packages\\keras\\src\\layers\\rnn\\rnn.py:199: UserWarning: Do not pass an `input_shape`/`input_dim` argument to a layer. When using Sequential models, prefer using an `Input(shape)` object as the first layer in the model instead.\n",
      "  super().__init__(**kwargs)\n"
     ]
    },
    {
     "name": "stdout",
     "output_type": "stream",
     "text": [
      "\u001b[1m4/4\u001b[0m \u001b[32m━━━━━━━━━━━━━━━━━━━━\u001b[0m\u001b[37m\u001b[0m \u001b[1m1s\u001b[0m 145ms/step\n"
     ]
    },
    {
     "name": "stderr",
     "output_type": "stream",
     "text": [
      "[I 2025-06-12 21:55:55,044] Trial 28 finished with value: 17.538755416870117 and parameters: {'lstm_units': 96, 'lstm_layers': 2, 'dropout_rate': 0.5, 'learning_rate': 0.0010800397579109658, 'batch_size': 32, 'dense_units': 48, 'window_size': 20}. Best is trial 26 with value: 15.844289779663086.\n",
      "c:\\Users\\jerem\\miniconda3\\Lib\\site-packages\\keras\\src\\layers\\rnn\\rnn.py:199: UserWarning: Do not pass an `input_shape`/`input_dim` argument to a layer. When using Sequential models, prefer using an `Input(shape)` object as the first layer in the model instead.\n",
      "  super().__init__(**kwargs)\n"
     ]
    },
    {
     "name": "stdout",
     "output_type": "stream",
     "text": [
      "\u001b[1m8/8\u001b[0m \u001b[32m━━━━━━━━━━━━━━━━━━━━\u001b[0m\u001b[37m\u001b[0m \u001b[1m1s\u001b[0m 99ms/step\n"
     ]
    },
    {
     "name": "stderr",
     "output_type": "stream",
     "text": [
      "[I 2025-06-12 21:57:09,767] Trial 29 finished with value: 21.381261825561523 and parameters: {'lstm_units': 96, 'lstm_layers': 2, 'dropout_rate': 0.5, 'learning_rate': 0.00397679476264738, 'batch_size': 16, 'dense_units': 48, 'window_size': 40}. Best is trial 26 with value: 15.844289779663086.\n",
      "c:\\Users\\jerem\\miniconda3\\Lib\\site-packages\\keras\\src\\layers\\rnn\\rnn.py:199: UserWarning: Do not pass an `input_shape`/`input_dim` argument to a layer. When using Sequential models, prefer using an `Input(shape)` object as the first layer in the model instead.\n",
      "  super().__init__(**kwargs)\n"
     ]
    },
    {
     "name": "stdout",
     "output_type": "stream",
     "text": [
      "\u001b[1m8/8\u001b[0m \u001b[32m━━━━━━━━━━━━━━━━━━━━\u001b[0m\u001b[37m\u001b[0m \u001b[1m1s\u001b[0m 65ms/step\n"
     ]
    },
    {
     "name": "stderr",
     "output_type": "stream",
     "text": [
      "[I 2025-06-12 21:57:42,531] Trial 30 finished with value: 16.137258529663086 and parameters: {'lstm_units': 96, 'lstm_layers': 2, 'dropout_rate': 0.5, 'learning_rate': 0.0011266897989222109, 'batch_size': 16, 'dense_units': 32, 'window_size': 10}. Best is trial 26 with value: 15.844289779663086.\n",
      "c:\\Users\\jerem\\miniconda3\\Lib\\site-packages\\keras\\src\\layers\\rnn\\rnn.py:199: UserWarning: Do not pass an `input_shape`/`input_dim` argument to a layer. When using Sequential models, prefer using an `Input(shape)` object as the first layer in the model instead.\n",
      "  super().__init__(**kwargs)\n"
     ]
    },
    {
     "name": "stdout",
     "output_type": "stream",
     "text": [
      "\u001b[1m8/8\u001b[0m \u001b[32m━━━━━━━━━━━━━━━━━━━━\u001b[0m\u001b[37m\u001b[0m \u001b[1m1s\u001b[0m 65ms/step\n"
     ]
    },
    {
     "name": "stderr",
     "output_type": "stream",
     "text": [
      "[I 2025-06-12 21:58:23,698] Trial 31 finished with value: 25.87186050415039 and parameters: {'lstm_units': 96, 'lstm_layers': 2, 'dropout_rate': 0.5, 'learning_rate': 0.001139199536653526, 'batch_size': 16, 'dense_units': 32, 'window_size': 10}. Best is trial 26 with value: 15.844289779663086.\n",
      "c:\\Users\\jerem\\miniconda3\\Lib\\site-packages\\keras\\src\\layers\\rnn\\rnn.py:199: UserWarning: Do not pass an `input_shape`/`input_dim` argument to a layer. When using Sequential models, prefer using an `Input(shape)` object as the first layer in the model instead.\n",
      "  super().__init__(**kwargs)\n"
     ]
    },
    {
     "name": "stdout",
     "output_type": "stream",
     "text": [
      "\u001b[1m8/8\u001b[0m \u001b[32m━━━━━━━━━━━━━━━━━━━━\u001b[0m\u001b[37m\u001b[0m \u001b[1m1s\u001b[0m 67ms/step\n"
     ]
    },
    {
     "name": "stderr",
     "output_type": "stream",
     "text": [
      "[I 2025-06-12 21:59:15,479] Trial 32 finished with value: 36.58723068237305 and parameters: {'lstm_units': 96, 'lstm_layers': 2, 'dropout_rate': 0.5, 'learning_rate': 0.0006095135201389938, 'batch_size': 16, 'dense_units': 32, 'window_size': 10}. Best is trial 26 with value: 15.844289779663086.\n",
      "c:\\Users\\jerem\\miniconda3\\Lib\\site-packages\\keras\\src\\layers\\rnn\\rnn.py:199: UserWarning: Do not pass an `input_shape`/`input_dim` argument to a layer. When using Sequential models, prefer using an `Input(shape)` object as the first layer in the model instead.\n",
      "  super().__init__(**kwargs)\n"
     ]
    },
    {
     "name": "stdout",
     "output_type": "stream",
     "text": [
      "\u001b[1m8/8\u001b[0m \u001b[32m━━━━━━━━━━━━━━━━━━━━\u001b[0m\u001b[37m\u001b[0m \u001b[1m1s\u001b[0m 131ms/step\n"
     ]
    },
    {
     "name": "stderr",
     "output_type": "stream",
     "text": [
      "[I 2025-06-12 22:04:24,491] Trial 33 finished with value: 22.187597274780273 and parameters: {'lstm_units': 96, 'lstm_layers': 2, 'dropout_rate': 0.5, 'learning_rate': 0.0018409477331571124, 'batch_size': 16, 'dense_units': 16, 'window_size': 10}. Best is trial 26 with value: 15.844289779663086.\n",
      "c:\\Users\\jerem\\miniconda3\\Lib\\site-packages\\keras\\src\\layers\\rnn\\rnn.py:199: UserWarning: Do not pass an `input_shape`/`input_dim` argument to a layer. When using Sequential models, prefer using an `Input(shape)` object as the first layer in the model instead.\n",
      "  super().__init__(**kwargs)\n"
     ]
    },
    {
     "name": "stdout",
     "output_type": "stream",
     "text": [
      "\u001b[1m8/8\u001b[0m \u001b[32m━━━━━━━━━━━━━━━━━━━━\u001b[0m\u001b[37m\u001b[0m \u001b[1m1s\u001b[0m 98ms/step\n"
     ]
    },
    {
     "name": "stderr",
     "output_type": "stream",
     "text": [
      "[I 2025-06-12 22:06:45,013] Trial 34 finished with value: 18.352703094482422 and parameters: {'lstm_units': 96, 'lstm_layers': 2, 'dropout_rate': 0.4, 'learning_rate': 0.001316652680806004, 'batch_size': 16, 'dense_units': 48, 'window_size': 20}. Best is trial 26 with value: 15.844289779663086.\n",
      "c:\\Users\\jerem\\miniconda3\\Lib\\site-packages\\keras\\src\\layers\\rnn\\rnn.py:199: UserWarning: Do not pass an `input_shape`/`input_dim` argument to a layer. When using Sequential models, prefer using an `Input(shape)` object as the first layer in the model instead.\n",
      "  super().__init__(**kwargs)\n"
     ]
    },
    {
     "name": "stdout",
     "output_type": "stream",
     "text": [
      "\u001b[1m8/8\u001b[0m \u001b[32m━━━━━━━━━━━━━━━━━━━━\u001b[0m\u001b[37m\u001b[0m \u001b[1m1s\u001b[0m 89ms/step\n"
     ]
    },
    {
     "name": "stderr",
     "output_type": "stream",
     "text": [
      "[I 2025-06-12 22:08:09,037] Trial 35 finished with value: 22.01464080810547 and parameters: {'lstm_units': 96, 'lstm_layers': 2, 'dropout_rate': 0.5, 'learning_rate': 0.0023851107809561433, 'batch_size': 16, 'dense_units': 48, 'window_size': 10}. Best is trial 26 with value: 15.844289779663086.\n",
      "c:\\Users\\jerem\\miniconda3\\Lib\\site-packages\\keras\\src\\layers\\rnn\\rnn.py:199: UserWarning: Do not pass an `input_shape`/`input_dim` argument to a layer. When using Sequential models, prefer using an `Input(shape)` object as the first layer in the model instead.\n",
      "  super().__init__(**kwargs)\n"
     ]
    },
    {
     "name": "stdout",
     "output_type": "stream",
     "text": [
      "\u001b[1m8/8\u001b[0m \u001b[32m━━━━━━━━━━━━━━━━━━━━\u001b[0m\u001b[37m\u001b[0m \u001b[1m1s\u001b[0m 114ms/step\n"
     ]
    },
    {
     "name": "stderr",
     "output_type": "stream",
     "text": [
      "[I 2025-06-12 22:11:38,533] Trial 36 finished with value: 18.936532974243164 and parameters: {'lstm_units': 128, 'lstm_layers': 1, 'dropout_rate': 0.4, 'learning_rate': 0.000557807749327172, 'batch_size': 16, 'dense_units': 16, 'window_size': 30}. Best is trial 26 with value: 15.844289779663086.\n",
      "c:\\Users\\jerem\\miniconda3\\Lib\\site-packages\\keras\\src\\layers\\rnn\\rnn.py:199: UserWarning: Do not pass an `input_shape`/`input_dim` argument to a layer. When using Sequential models, prefer using an `Input(shape)` object as the first layer in the model instead.\n",
      "  super().__init__(**kwargs)\n"
     ]
    },
    {
     "name": "stdout",
     "output_type": "stream",
     "text": [
      "\u001b[1m8/8\u001b[0m \u001b[32m━━━━━━━━━━━━━━━━━━━━\u001b[0m\u001b[37m\u001b[0m \u001b[1m2s\u001b[0m 161ms/step\n"
     ]
    },
    {
     "name": "stderr",
     "output_type": "stream",
     "text": [
      "[I 2025-06-12 22:13:22,200] Trial 37 finished with value: 17.657779693603516 and parameters: {'lstm_units': 96, 'lstm_layers': 2, 'dropout_rate': 0.1, 'learning_rate': 0.0010724051506169573, 'batch_size': 16, 'dense_units': 64, 'window_size': 20}. Best is trial 26 with value: 15.844289779663086.\n",
      "c:\\Users\\jerem\\miniconda3\\Lib\\site-packages\\keras\\src\\layers\\rnn\\rnn.py:199: UserWarning: Do not pass an `input_shape`/`input_dim` argument to a layer. When using Sequential models, prefer using an `Input(shape)` object as the first layer in the model instead.\n",
      "  super().__init__(**kwargs)\n"
     ]
    },
    {
     "name": "stdout",
     "output_type": "stream",
     "text": [
      "\u001b[1m8/8\u001b[0m \u001b[32m━━━━━━━━━━━━━━━━━━━━\u001b[0m\u001b[37m\u001b[0m \u001b[1m1s\u001b[0m 121ms/step\n"
     ]
    },
    {
     "name": "stderr",
     "output_type": "stream",
     "text": [
      "[I 2025-06-12 22:15:11,085] Trial 38 finished with value: 20.61981773376465 and parameters: {'lstm_units': 96, 'lstm_layers': 2, 'dropout_rate': 0.4, 'learning_rate': 0.003327926396087537, 'batch_size': 16, 'dense_units': 32, 'window_size': 10}. Best is trial 26 with value: 15.844289779663086.\n",
      "c:\\Users\\jerem\\miniconda3\\Lib\\site-packages\\keras\\src\\layers\\rnn\\rnn.py:199: UserWarning: Do not pass an `input_shape`/`input_dim` argument to a layer. When using Sequential models, prefer using an `Input(shape)` object as the first layer in the model instead.\n",
      "  super().__init__(**kwargs)\n"
     ]
    },
    {
     "name": "stdout",
     "output_type": "stream",
     "text": [
      "\u001b[1m4/4\u001b[0m \u001b[32m━━━━━━━━━━━━━━━━━━━━\u001b[0m\u001b[37m\u001b[0m \u001b[1m1s\u001b[0m 200ms/step\n"
     ]
    },
    {
     "name": "stderr",
     "output_type": "stream",
     "text": [
      "[I 2025-06-12 22:17:44,221] Trial 39 finished with value: 20.47081184387207 and parameters: {'lstm_units': 128, 'lstm_layers': 1, 'dropout_rate': 0.5, 'learning_rate': 0.0006934638042631891, 'batch_size': 32, 'dense_units': 48, 'window_size': 30}. Best is trial 26 with value: 15.844289779663086.\n",
      "c:\\Users\\jerem\\miniconda3\\Lib\\site-packages\\keras\\src\\layers\\rnn\\rnn.py:199: UserWarning: Do not pass an `input_shape`/`input_dim` argument to a layer. When using Sequential models, prefer using an `Input(shape)` object as the first layer in the model instead.\n",
      "  super().__init__(**kwargs)\n"
     ]
    },
    {
     "name": "stdout",
     "output_type": "stream",
     "text": [
      "\u001b[1m8/8\u001b[0m \u001b[32m━━━━━━━━━━━━━━━━━━━━\u001b[0m\u001b[37m\u001b[0m \u001b[1m1s\u001b[0m 100ms/step\n"
     ]
    },
    {
     "name": "stderr",
     "output_type": "stream",
     "text": [
      "[I 2025-06-12 22:20:06,846] Trial 40 finished with value: 22.724355697631836 and parameters: {'lstm_units': 64, 'lstm_layers': 2, 'dropout_rate': 0.0, 'learning_rate': 0.0015673321936922186, 'batch_size': 16, 'dense_units': 64, 'window_size': 50}. Best is trial 26 with value: 15.844289779663086.\n",
      "c:\\Users\\jerem\\miniconda3\\Lib\\site-packages\\keras\\src\\layers\\rnn\\rnn.py:199: UserWarning: Do not pass an `input_shape`/`input_dim` argument to a layer. When using Sequential models, prefer using an `Input(shape)` object as the first layer in the model instead.\n",
      "  super().__init__(**kwargs)\n"
     ]
    },
    {
     "name": "stdout",
     "output_type": "stream",
     "text": [
      "\u001b[1m4/4\u001b[0m \u001b[32m━━━━━━━━━━━━━━━━━━━━\u001b[0m\u001b[37m\u001b[0m \u001b[1m2s\u001b[0m 283ms/step\n"
     ]
    },
    {
     "name": "stderr",
     "output_type": "stream",
     "text": [
      "[I 2025-06-12 22:22:31,490] Trial 41 finished with value: 18.69300079345703 and parameters: {'lstm_units': 64, 'lstm_layers': 2, 'dropout_rate': 0.4, 'learning_rate': 0.0010189797614702264, 'batch_size': 32, 'dense_units': 80, 'window_size': 20}. Best is trial 26 with value: 15.844289779663086.\n",
      "c:\\Users\\jerem\\miniconda3\\Lib\\site-packages\\keras\\src\\layers\\rnn\\rnn.py:199: UserWarning: Do not pass an `input_shape`/`input_dim` argument to a layer. When using Sequential models, prefer using an `Input(shape)` object as the first layer in the model instead.\n",
      "  super().__init__(**kwargs)\n"
     ]
    },
    {
     "name": "stdout",
     "output_type": "stream",
     "text": [
      "\u001b[1m4/4\u001b[0m \u001b[32m━━━━━━━━━━━━━━━━━━━━\u001b[0m\u001b[37m\u001b[0m \u001b[1m1s\u001b[0m 189ms/step\n"
     ]
    },
    {
     "name": "stderr",
     "output_type": "stream",
     "text": [
      "[I 2025-06-12 22:23:37,391] Trial 42 finished with value: 14.437326431274414 and parameters: {'lstm_units': 32, 'lstm_layers': 2, 'dropout_rate': 0.5, 'learning_rate': 0.0008603814294221527, 'batch_size': 32, 'dense_units': 32, 'window_size': 20}. Best is trial 42 with value: 14.437326431274414.\n",
      "c:\\Users\\jerem\\miniconda3\\Lib\\site-packages\\keras\\src\\layers\\rnn\\rnn.py:199: UserWarning: Do not pass an `input_shape`/`input_dim` argument to a layer. When using Sequential models, prefer using an `Input(shape)` object as the first layer in the model instead.\n",
      "  super().__init__(**kwargs)\n"
     ]
    },
    {
     "name": "stdout",
     "output_type": "stream",
     "text": [
      "\u001b[1m4/4\u001b[0m \u001b[32m━━━━━━━━━━━━━━━━━━━━\u001b[0m\u001b[37m\u001b[0m \u001b[1m1s\u001b[0m 189ms/step\n"
     ]
    },
    {
     "name": "stderr",
     "output_type": "stream",
     "text": [
      "[I 2025-06-12 22:24:39,976] Trial 43 finished with value: 37.23660659790039 and parameters: {'lstm_units': 32, 'lstm_layers': 2, 'dropout_rate': 0.5, 'learning_rate': 0.00047404150194662914, 'batch_size': 32, 'dense_units': 32, 'window_size': 20}. Best is trial 42 with value: 14.437326431274414.\n",
      "c:\\Users\\jerem\\miniconda3\\Lib\\site-packages\\keras\\src\\layers\\rnn\\rnn.py:199: UserWarning: Do not pass an `input_shape`/`input_dim` argument to a layer. When using Sequential models, prefer using an `Input(shape)` object as the first layer in the model instead.\n",
      "  super().__init__(**kwargs)\n"
     ]
    },
    {
     "name": "stdout",
     "output_type": "stream",
     "text": [
      "\u001b[1m4/4\u001b[0m \u001b[32m━━━━━━━━━━━━━━━━━━━━\u001b[0m\u001b[37m\u001b[0m \u001b[1m1s\u001b[0m 187ms/step\n"
     ]
    },
    {
     "name": "stderr",
     "output_type": "stream",
     "text": [
      "[I 2025-06-12 22:25:21,409] Trial 44 finished with value: 15.059258460998535 and parameters: {'lstm_units': 32, 'lstm_layers': 2, 'dropout_rate': 0.5, 'learning_rate': 0.0008058777737299222, 'batch_size': 32, 'dense_units': 16, 'window_size': 10}. Best is trial 42 with value: 14.437326431274414.\n",
      "c:\\Users\\jerem\\miniconda3\\Lib\\site-packages\\keras\\src\\layers\\rnn\\rnn.py:199: UserWarning: Do not pass an `input_shape`/`input_dim` argument to a layer. When using Sequential models, prefer using an `Input(shape)` object as the first layer in the model instead.\n",
      "  super().__init__(**kwargs)\n"
     ]
    },
    {
     "name": "stdout",
     "output_type": "stream",
     "text": [
      "\u001b[1m4/4\u001b[0m \u001b[32m━━━━━━━━━━━━━━━━━━━━\u001b[0m\u001b[37m\u001b[0m \u001b[1m1s\u001b[0m 179ms/step\n"
     ]
    },
    {
     "name": "stderr",
     "output_type": "stream",
     "text": [
      "[I 2025-06-12 22:26:02,682] Trial 45 finished with value: 16.56049346923828 and parameters: {'lstm_units': 32, 'lstm_layers': 2, 'dropout_rate': 0.5, 'learning_rate': 0.0007975322154266987, 'batch_size': 32, 'dense_units': 16, 'window_size': 10}. Best is trial 42 with value: 14.437326431274414.\n",
      "c:\\Users\\jerem\\miniconda3\\Lib\\site-packages\\keras\\src\\layers\\rnn\\rnn.py:199: UserWarning: Do not pass an `input_shape`/`input_dim` argument to a layer. When using Sequential models, prefer using an `Input(shape)` object as the first layer in the model instead.\n",
      "  super().__init__(**kwargs)\n"
     ]
    },
    {
     "name": "stdout",
     "output_type": "stream",
     "text": [
      "\u001b[1m4/4\u001b[0m \u001b[32m━━━━━━━━━━━━━━━━━━━━\u001b[0m\u001b[37m\u001b[0m \u001b[1m1s\u001b[0m 179ms/step\n"
     ]
    },
    {
     "name": "stderr",
     "output_type": "stream",
     "text": [
      "[I 2025-06-12 22:26:46,126] Trial 46 finished with value: 28.344890594482422 and parameters: {'lstm_units': 32, 'lstm_layers': 2, 'dropout_rate': 0.4, 'learning_rate': 0.002076134102479218, 'batch_size': 32, 'dense_units': 16, 'window_size': 10}. Best is trial 42 with value: 14.437326431274414.\n",
      "c:\\Users\\jerem\\miniconda3\\Lib\\site-packages\\keras\\src\\layers\\rnn\\rnn.py:199: UserWarning: Do not pass an `input_shape`/`input_dim` argument to a layer. When using Sequential models, prefer using an `Input(shape)` object as the first layer in the model instead.\n",
      "  super().__init__(**kwargs)\n"
     ]
    },
    {
     "name": "stdout",
     "output_type": "stream",
     "text": [
      "\u001b[1m4/4\u001b[0m \u001b[32m━━━━━━━━━━━━━━━━━━━━\u001b[0m\u001b[37m\u001b[0m \u001b[1m1s\u001b[0m 180ms/step\n"
     ]
    },
    {
     "name": "stderr",
     "output_type": "stream",
     "text": [
      "[I 2025-06-12 22:27:20,993] Trial 47 finished with value: 73.15851593017578 and parameters: {'lstm_units': 32, 'lstm_layers': 2, 'dropout_rate': 0.5, 'learning_rate': 0.0005920785262606375, 'batch_size': 32, 'dense_units': 32, 'window_size': 10}. Best is trial 42 with value: 14.437326431274414.\n",
      "c:\\Users\\jerem\\miniconda3\\Lib\\site-packages\\keras\\src\\layers\\rnn\\rnn.py:199: UserWarning: Do not pass an `input_shape`/`input_dim` argument to a layer. When using Sequential models, prefer using an `Input(shape)` object as the first layer in the model instead.\n",
      "  super().__init__(**kwargs)\n"
     ]
    },
    {
     "name": "stdout",
     "output_type": "stream",
     "text": [
      "\u001b[1m4/4\u001b[0m \u001b[32m━━━━━━━━━━━━━━━━━━━━\u001b[0m\u001b[37m\u001b[0m \u001b[1m1s\u001b[0m 106ms/step\n"
     ]
    },
    {
     "name": "stderr",
     "output_type": "stream",
     "text": [
      "[I 2025-06-12 22:28:02,378] Trial 48 finished with value: 23.07326889038086 and parameters: {'lstm_units': 32, 'lstm_layers': 1, 'dropout_rate': 0.4, 'learning_rate': 0.001322215271760142, 'batch_size': 32, 'dense_units': 16, 'window_size': 30}. Best is trial 42 with value: 14.437326431274414.\n",
      "c:\\Users\\jerem\\miniconda3\\Lib\\site-packages\\keras\\src\\layers\\rnn\\rnn.py:199: UserWarning: Do not pass an `input_shape`/`input_dim` argument to a layer. When using Sequential models, prefer using an `Input(shape)` object as the first layer in the model instead.\n",
      "  super().__init__(**kwargs)\n"
     ]
    },
    {
     "name": "stdout",
     "output_type": "stream",
     "text": [
      "\u001b[1m8/8\u001b[0m \u001b[32m━━━━━━━━━━━━━━━━━━━━\u001b[0m\u001b[37m\u001b[0m \u001b[1m1s\u001b[0m 80ms/step\n"
     ]
    },
    {
     "name": "stderr",
     "output_type": "stream",
     "text": [
      "[I 2025-06-12 22:28:53,594] Trial 49 finished with value: 18.81454086303711 and parameters: {'lstm_units': 32, 'lstm_layers': 2, 'dropout_rate': 0.2, 'learning_rate': 0.0004066723540548719, 'batch_size': 16, 'dense_units': 32, 'window_size': 10}. Best is trial 42 with value: 14.437326431274414.\n",
      "c:\\Users\\jerem\\miniconda3\\Lib\\site-packages\\keras\\src\\layers\\rnn\\rnn.py:199: UserWarning: Do not pass an `input_shape`/`input_dim` argument to a layer. When using Sequential models, prefer using an `Input(shape)` object as the first layer in the model instead.\n",
      "  super().__init__(**kwargs)\n"
     ]
    },
    {
     "name": "stdout",
     "output_type": "stream",
     "text": [
      "\u001b[1m4/4\u001b[0m \u001b[32m━━━━━━━━━━━━━━━━━━━━\u001b[0m\u001b[37m\u001b[0m \u001b[1m1s\u001b[0m 188ms/step\n"
     ]
    },
    {
     "name": "stderr",
     "output_type": "stream",
     "text": [
      "[I 2025-06-12 22:29:40,312] Trial 50 finished with value: 20.544322967529297 and parameters: {'lstm_units': 64, 'lstm_layers': 2, 'dropout_rate': 0.5, 'learning_rate': 0.006332979806448757, 'batch_size': 32, 'dense_units': 16, 'window_size': 20}. Best is trial 42 with value: 14.437326431274414.\n",
      "c:\\Users\\jerem\\miniconda3\\Lib\\site-packages\\keras\\src\\layers\\rnn\\rnn.py:199: UserWarning: Do not pass an `input_shape`/`input_dim` argument to a layer. When using Sequential models, prefer using an `Input(shape)` object as the first layer in the model instead.\n",
      "  super().__init__(**kwargs)\n"
     ]
    },
    {
     "name": "stdout",
     "output_type": "stream",
     "text": [
      "\u001b[1m4/4\u001b[0m \u001b[32m━━━━━━━━━━━━━━━━━━━━\u001b[0m\u001b[37m\u001b[0m \u001b[1m1s\u001b[0m 178ms/step\n"
     ]
    },
    {
     "name": "stderr",
     "output_type": "stream",
     "text": [
      "[I 2025-06-12 22:30:18,712] Trial 51 finished with value: 47.3584098815918 and parameters: {'lstm_units': 32, 'lstm_layers': 2, 'dropout_rate': 0.5, 'learning_rate': 0.0008379511728660497, 'batch_size': 32, 'dense_units': 16, 'window_size': 10}. Best is trial 42 with value: 14.437326431274414.\n",
      "c:\\Users\\jerem\\miniconda3\\Lib\\site-packages\\keras\\src\\layers\\rnn\\rnn.py:199: UserWarning: Do not pass an `input_shape`/`input_dim` argument to a layer. When using Sequential models, prefer using an `Input(shape)` object as the first layer in the model instead.\n",
      "  super().__init__(**kwargs)\n"
     ]
    },
    {
     "name": "stdout",
     "output_type": "stream",
     "text": [
      "\u001b[1m4/4\u001b[0m \u001b[32m━━━━━━━━━━━━━━━━━━━━\u001b[0m\u001b[37m\u001b[0m \u001b[1m1s\u001b[0m 172ms/step\n"
     ]
    },
    {
     "name": "stderr",
     "output_type": "stream",
     "text": [
      "[I 2025-06-12 22:30:57,763] Trial 52 finished with value: 32.06631088256836 and parameters: {'lstm_units': 32, 'lstm_layers': 2, 'dropout_rate': 0.5, 'learning_rate': 0.0007880776905992576, 'batch_size': 32, 'dense_units': 16, 'window_size': 10}. Best is trial 42 with value: 14.437326431274414.\n",
      "c:\\Users\\jerem\\miniconda3\\Lib\\site-packages\\keras\\src\\layers\\rnn\\rnn.py:199: UserWarning: Do not pass an `input_shape`/`input_dim` argument to a layer. When using Sequential models, prefer using an `Input(shape)` object as the first layer in the model instead.\n",
      "  super().__init__(**kwargs)\n"
     ]
    },
    {
     "name": "stdout",
     "output_type": "stream",
     "text": [
      "\u001b[1m4/4\u001b[0m \u001b[32m━━━━━━━━━━━━━━━━━━━━\u001b[0m\u001b[37m\u001b[0m \u001b[1m1s\u001b[0m 182ms/step\n"
     ]
    },
    {
     "name": "stderr",
     "output_type": "stream",
     "text": [
      "[I 2025-06-12 22:31:36,329] Trial 53 finished with value: 30.086782455444336 and parameters: {'lstm_units': 32, 'lstm_layers': 2, 'dropout_rate': 0.5, 'learning_rate': 0.0008836341968977515, 'batch_size': 32, 'dense_units': 32, 'window_size': 10}. Best is trial 42 with value: 14.437326431274414.\n",
      "c:\\Users\\jerem\\miniconda3\\Lib\\site-packages\\keras\\src\\layers\\rnn\\rnn.py:199: UserWarning: Do not pass an `input_shape`/`input_dim` argument to a layer. When using Sequential models, prefer using an `Input(shape)` object as the first layer in the model instead.\n",
      "  super().__init__(**kwargs)\n"
     ]
    },
    {
     "name": "stdout",
     "output_type": "stream",
     "text": [
      "\u001b[1m4/4\u001b[0m \u001b[32m━━━━━━━━━━━━━━━━━━━━\u001b[0m\u001b[37m\u001b[0m \u001b[1m1s\u001b[0m 172ms/step\n"
     ]
    },
    {
     "name": "stderr",
     "output_type": "stream",
     "text": [
      "[I 2025-06-12 22:32:10,763] Trial 54 finished with value: 34.9375114440918 and parameters: {'lstm_units': 32, 'lstm_layers': 2, 'dropout_rate': 0.4, 'learning_rate': 0.0012115338149416466, 'batch_size': 32, 'dense_units': 16, 'window_size': 10}. Best is trial 42 with value: 14.437326431274414.\n",
      "c:\\Users\\jerem\\miniconda3\\Lib\\site-packages\\keras\\src\\layers\\rnn\\rnn.py:199: UserWarning: Do not pass an `input_shape`/`input_dim` argument to a layer. When using Sequential models, prefer using an `Input(shape)` object as the first layer in the model instead.\n",
      "  super().__init__(**kwargs)\n"
     ]
    },
    {
     "name": "stdout",
     "output_type": "stream",
     "text": [
      "\u001b[1m4/4\u001b[0m \u001b[32m━━━━━━━━━━━━━━━━━━━━\u001b[0m\u001b[37m\u001b[0m \u001b[1m1s\u001b[0m 167ms/step\n"
     ]
    },
    {
     "name": "stderr",
     "output_type": "stream",
     "text": [
      "[I 2025-06-12 22:32:57,918] Trial 55 finished with value: 22.129573822021484 and parameters: {'lstm_units': 32, 'lstm_layers': 2, 'dropout_rate': 0.1, 'learning_rate': 0.0006860111865225761, 'batch_size': 32, 'dense_units': 32, 'window_size': 20}. Best is trial 42 with value: 14.437326431274414.\n",
      "c:\\Users\\jerem\\miniconda3\\Lib\\site-packages\\keras\\src\\layers\\rnn\\rnn.py:199: UserWarning: Do not pass an `input_shape`/`input_dim` argument to a layer. When using Sequential models, prefer using an `Input(shape)` object as the first layer in the model instead.\n",
      "  super().__init__(**kwargs)\n"
     ]
    },
    {
     "name": "stdout",
     "output_type": "stream",
     "text": [
      "\u001b[1m4/4\u001b[0m \u001b[32m━━━━━━━━━━━━━━━━━━━━\u001b[0m\u001b[37m\u001b[0m \u001b[1m1s\u001b[0m 173ms/step\n"
     ]
    },
    {
     "name": "stderr",
     "output_type": "stream",
     "text": [
      "[I 2025-06-12 22:34:07,140] Trial 56 finished with value: 106.3975601196289 and parameters: {'lstm_units': 32, 'lstm_layers': 2, 'dropout_rate': 0.5, 'learning_rate': 0.00047848084515542854, 'batch_size': 32, 'dense_units': 16, 'window_size': 40}. Best is trial 42 with value: 14.437326431274414.\n",
      "c:\\Users\\jerem\\miniconda3\\Lib\\site-packages\\keras\\src\\layers\\rnn\\rnn.py:199: UserWarning: Do not pass an `input_shape`/`input_dim` argument to a layer. When using Sequential models, prefer using an `Input(shape)` object as the first layer in the model instead.\n",
      "  super().__init__(**kwargs)\n"
     ]
    },
    {
     "name": "stdout",
     "output_type": "stream",
     "text": [
      "\u001b[1m8/8\u001b[0m \u001b[32m━━━━━━━━━━━━━━━━━━━━\u001b[0m\u001b[37m\u001b[0m \u001b[1m2s\u001b[0m 136ms/step\n"
     ]
    },
    {
     "name": "stderr",
     "output_type": "stream",
     "text": [
      "[I 2025-06-12 22:39:49,985] Trial 57 finished with value: 17.691606521606445 and parameters: {'lstm_units': 64, 'lstm_layers': 2, 'dropout_rate': 0.30000000000000004, 'learning_rate': 0.0015228549931536974, 'batch_size': 16, 'dense_units': 32, 'window_size': 60}. Best is trial 42 with value: 14.437326431274414.\n",
      "c:\\Users\\jerem\\miniconda3\\Lib\\site-packages\\keras\\src\\layers\\rnn\\rnn.py:199: UserWarning: Do not pass an `input_shape`/`input_dim` argument to a layer. When using Sequential models, prefer using an `Input(shape)` object as the first layer in the model instead.\n",
      "  super().__init__(**kwargs)\n"
     ]
    },
    {
     "name": "stdout",
     "output_type": "stream",
     "text": [
      "\u001b[1m4/4\u001b[0m \u001b[32m━━━━━━━━━━━━━━━━━━━━\u001b[0m\u001b[37m\u001b[0m \u001b[1m1s\u001b[0m 172ms/step\n"
     ]
    },
    {
     "name": "stderr",
     "output_type": "stream",
     "text": [
      "[I 2025-06-12 22:40:44,969] Trial 58 finished with value: 59.699344635009766 and parameters: {'lstm_units': 32, 'lstm_layers': 2, 'dropout_rate': 0.4, 'learning_rate': 0.0002011329942998903, 'batch_size': 32, 'dense_units': 80, 'window_size': 20}. Best is trial 42 with value: 14.437326431274414.\n",
      "c:\\Users\\jerem\\miniconda3\\Lib\\site-packages\\keras\\src\\layers\\rnn\\rnn.py:199: UserWarning: Do not pass an `input_shape`/`input_dim` argument to a layer. When using Sequential models, prefer using an `Input(shape)` object as the first layer in the model instead.\n",
      "  super().__init__(**kwargs)\n"
     ]
    },
    {
     "name": "stdout",
     "output_type": "stream",
     "text": [
      "\u001b[1m8/8\u001b[0m \u001b[32m━━━━━━━━━━━━━━━━━━━━\u001b[0m\u001b[37m\u001b[0m \u001b[1m1s\u001b[0m 74ms/step\n"
     ]
    },
    {
     "name": "stderr",
     "output_type": "stream",
     "text": [
      "[I 2025-06-12 22:41:57,171] Trial 59 finished with value: 27.502111434936523 and parameters: {'lstm_units': 96, 'lstm_layers': 2, 'dropout_rate': 0.5, 'learning_rate': 0.0009214708331234511, 'batch_size': 16, 'dense_units': 16, 'window_size': 10}. Best is trial 42 with value: 14.437326431274414.\n",
      "c:\\Users\\jerem\\miniconda3\\Lib\\site-packages\\keras\\src\\layers\\rnn\\rnn.py:199: UserWarning: Do not pass an `input_shape`/`input_dim` argument to a layer. When using Sequential models, prefer using an `Input(shape)` object as the first layer in the model instead.\n",
      "  super().__init__(**kwargs)\n"
     ]
    },
    {
     "name": "stdout",
     "output_type": "stream",
     "text": [
      "\u001b[1m4/4\u001b[0m \u001b[32m━━━━━━━━━━━━━━━━━━━━\u001b[0m\u001b[37m\u001b[0m \u001b[1m1s\u001b[0m 261ms/step\n"
     ]
    },
    {
     "name": "stderr",
     "output_type": "stream",
     "text": [
      "[I 2025-06-12 22:43:18,986] Trial 60 finished with value: 27.191280364990234 and parameters: {'lstm_units': 96, 'lstm_layers': 2, 'dropout_rate': 0.0, 'learning_rate': 0.0006819532800925123, 'batch_size': 32, 'dense_units': 48, 'window_size': 20}. Best is trial 42 with value: 14.437326431274414.\n",
      "c:\\Users\\jerem\\miniconda3\\Lib\\site-packages\\keras\\src\\layers\\rnn\\rnn.py:199: UserWarning: Do not pass an `input_shape`/`input_dim` argument to a layer. When using Sequential models, prefer using an `Input(shape)` object as the first layer in the model instead.\n",
      "  super().__init__(**kwargs)\n"
     ]
    },
    {
     "name": "stdout",
     "output_type": "stream",
     "text": [
      "\u001b[1m4/4\u001b[0m \u001b[32m━━━━━━━━━━━━━━━━━━━━\u001b[0m\u001b[37m\u001b[0m \u001b[1m1s\u001b[0m 168ms/step\n"
     ]
    },
    {
     "name": "stderr",
     "output_type": "stream",
     "text": [
      "[I 2025-06-12 22:44:02,376] Trial 61 finished with value: 17.22781753540039 and parameters: {'lstm_units': 96, 'lstm_layers': 2, 'dropout_rate': 0.5, 'learning_rate': 0.0011425121603044128, 'batch_size': 32, 'dense_units': 64, 'window_size': 20}. Best is trial 42 with value: 14.437326431274414.\n",
      "c:\\Users\\jerem\\miniconda3\\Lib\\site-packages\\keras\\src\\layers\\rnn\\rnn.py:199: UserWarning: Do not pass an `input_shape`/`input_dim` argument to a layer. When using Sequential models, prefer using an `Input(shape)` object as the first layer in the model instead.\n",
      "  super().__init__(**kwargs)\n"
     ]
    },
    {
     "name": "stdout",
     "output_type": "stream",
     "text": [
      "\u001b[1m4/4\u001b[0m \u001b[32m━━━━━━━━━━━━━━━━━━━━\u001b[0m\u001b[37m\u001b[0m \u001b[1m1s\u001b[0m 167ms/step\n"
     ]
    },
    {
     "name": "stderr",
     "output_type": "stream",
     "text": [
      "[I 2025-06-12 22:45:01,262] Trial 62 finished with value: 20.242647171020508 and parameters: {'lstm_units': 96, 'lstm_layers': 2, 'dropout_rate': 0.5, 'learning_rate': 0.0018811508679460688, 'batch_size': 32, 'dense_units': 64, 'window_size': 30}. Best is trial 42 with value: 14.437326431274414.\n",
      "c:\\Users\\jerem\\miniconda3\\Lib\\site-packages\\keras\\src\\layers\\rnn\\rnn.py:199: UserWarning: Do not pass an `input_shape`/`input_dim` argument to a layer. When using Sequential models, prefer using an `Input(shape)` object as the first layer in the model instead.\n",
      "  super().__init__(**kwargs)\n"
     ]
    },
    {
     "name": "stdout",
     "output_type": "stream",
     "text": [
      "\u001b[1m4/4\u001b[0m \u001b[32m━━━━━━━━━━━━━━━━━━━━\u001b[0m\u001b[37m\u001b[0m \u001b[1m1s\u001b[0m 159ms/step\n"
     ]
    },
    {
     "name": "stderr",
     "output_type": "stream",
     "text": [
      "[I 2025-06-12 22:46:10,107] Trial 63 finished with value: 22.38375473022461 and parameters: {'lstm_units': 96, 'lstm_layers': 2, 'dropout_rate': 0.5, 'learning_rate': 0.0012137223016463522, 'batch_size': 32, 'dense_units': 80, 'window_size': 20}. Best is trial 42 with value: 14.437326431274414.\n",
      "c:\\Users\\jerem\\miniconda3\\Lib\\site-packages\\keras\\src\\layers\\rnn\\rnn.py:199: UserWarning: Do not pass an `input_shape`/`input_dim` argument to a layer. When using Sequential models, prefer using an `Input(shape)` object as the first layer in the model instead.\n",
      "  super().__init__(**kwargs)\n"
     ]
    },
    {
     "name": "stdout",
     "output_type": "stream",
     "text": [
      "\u001b[1m4/4\u001b[0m \u001b[32m━━━━━━━━━━━━━━━━━━━━\u001b[0m\u001b[37m\u001b[0m \u001b[1m1s\u001b[0m 168ms/step\n"
     ]
    },
    {
     "name": "stderr",
     "output_type": "stream",
     "text": [
      "[I 2025-06-12 22:47:00,744] Trial 64 finished with value: 17.921953201293945 and parameters: {'lstm_units': 96, 'lstm_layers': 2, 'dropout_rate': 0.4, 'learning_rate': 0.0009450318584053489, 'batch_size': 32, 'dense_units': 64, 'window_size': 10}. Best is trial 42 with value: 14.437326431274414.\n",
      "c:\\Users\\jerem\\miniconda3\\Lib\\site-packages\\keras\\src\\layers\\rnn\\rnn.py:199: UserWarning: Do not pass an `input_shape`/`input_dim` argument to a layer. When using Sequential models, prefer using an `Input(shape)` object as the first layer in the model instead.\n",
      "  super().__init__(**kwargs)\n"
     ]
    },
    {
     "name": "stdout",
     "output_type": "stream",
     "text": [
      "\u001b[1m4/4\u001b[0m \u001b[32m━━━━━━━━━━━━━━━━━━━━\u001b[0m\u001b[37m\u001b[0m \u001b[1m1s\u001b[0m 166ms/step\n"
     ]
    },
    {
     "name": "stderr",
     "output_type": "stream",
     "text": [
      "[I 2025-06-12 22:48:00,436] Trial 65 finished with value: 18.19186782836914 and parameters: {'lstm_units': 96, 'lstm_layers': 2, 'dropout_rate': 0.5, 'learning_rate': 0.0007855787456943901, 'batch_size': 32, 'dense_units': 48, 'window_size': 20}. Best is trial 42 with value: 14.437326431274414.\n",
      "c:\\Users\\jerem\\miniconda3\\Lib\\site-packages\\keras\\src\\layers\\rnn\\rnn.py:199: UserWarning: Do not pass an `input_shape`/`input_dim` argument to a layer. When using Sequential models, prefer using an `Input(shape)` object as the first layer in the model instead.\n",
      "  super().__init__(**kwargs)\n"
     ]
    },
    {
     "name": "stdout",
     "output_type": "stream",
     "text": [
      "\u001b[1m8/8\u001b[0m \u001b[32m━━━━━━━━━━━━━━━━━━━━\u001b[0m\u001b[37m\u001b[0m \u001b[1m1s\u001b[0m 80ms/step\n"
     ]
    },
    {
     "name": "stderr",
     "output_type": "stream",
     "text": [
      "[I 2025-06-12 22:49:07,828] Trial 66 finished with value: 23.807767868041992 and parameters: {'lstm_units': 96, 'lstm_layers': 2, 'dropout_rate': 0.5, 'learning_rate': 0.0014132292540936552, 'batch_size': 16, 'dense_units': 96, 'window_size': 30}. Best is trial 42 with value: 14.437326431274414.\n",
      "c:\\Users\\jerem\\miniconda3\\Lib\\site-packages\\keras\\src\\layers\\rnn\\rnn.py:199: UserWarning: Do not pass an `input_shape`/`input_dim` argument to a layer. When using Sequential models, prefer using an `Input(shape)` object as the first layer in the model instead.\n",
      "  super().__init__(**kwargs)\n"
     ]
    },
    {
     "name": "stdout",
     "output_type": "stream",
     "text": [
      "\u001b[1m4/4\u001b[0m \u001b[32m━━━━━━━━━━━━━━━━━━━━\u001b[0m\u001b[37m\u001b[0m \u001b[1m1s\u001b[0m 158ms/step\n"
     ]
    },
    {
     "name": "stderr",
     "output_type": "stream",
     "text": [
      "[I 2025-06-12 22:49:49,131] Trial 67 finished with value: 15.110980033874512 and parameters: {'lstm_units': 64, 'lstm_layers': 2, 'dropout_rate': 0.4, 'learning_rate': 0.0005594441809139488, 'batch_size': 32, 'dense_units': 64, 'window_size': 10}. Best is trial 42 with value: 14.437326431274414.\n",
      "c:\\Users\\jerem\\miniconda3\\Lib\\site-packages\\keras\\src\\layers\\rnn\\rnn.py:199: UserWarning: Do not pass an `input_shape`/`input_dim` argument to a layer. When using Sequential models, prefer using an `Input(shape)` object as the first layer in the model instead.\n",
      "  super().__init__(**kwargs)\n"
     ]
    },
    {
     "name": "stdout",
     "output_type": "stream",
     "text": [
      "\u001b[1m8/8\u001b[0m \u001b[32m━━━━━━━━━━━━━━━━━━━━\u001b[0m\u001b[37m\u001b[0m \u001b[1m2s\u001b[0m 114ms/step\n"
     ]
    },
    {
     "name": "stderr",
     "output_type": "stream",
     "text": [
      "[I 2025-06-12 22:51:04,003] Trial 68 finished with value: 17.032011032104492 and parameters: {'lstm_units': 64, 'lstm_layers': 2, 'dropout_rate': 0.30000000000000004, 'learning_rate': 0.00039030659353672724, 'batch_size': 16, 'dense_units': 112, 'window_size': 10}. Best is trial 42 with value: 14.437326431274414.\n",
      "c:\\Users\\jerem\\miniconda3\\Lib\\site-packages\\keras\\src\\layers\\rnn\\rnn.py:199: UserWarning: Do not pass an `input_shape`/`input_dim` argument to a layer. When using Sequential models, prefer using an `Input(shape)` object as the first layer in the model instead.\n",
      "  super().__init__(**kwargs)\n"
     ]
    },
    {
     "name": "stdout",
     "output_type": "stream",
     "text": [
      "\u001b[1m8/8\u001b[0m \u001b[32m━━━━━━━━━━━━━━━━━━━━\u001b[0m\u001b[37m\u001b[0m \u001b[1m1s\u001b[0m 74ms/step\n"
     ]
    },
    {
     "name": "stderr",
     "output_type": "stream",
     "text": [
      "[I 2025-06-12 22:51:56,692] Trial 69 finished with value: 29.058765411376953 and parameters: {'lstm_units': 32, 'lstm_layers': 2, 'dropout_rate': 0.30000000000000004, 'learning_rate': 0.0005412182848252382, 'batch_size': 16, 'dense_units': 128, 'window_size': 10}. Best is trial 42 with value: 14.437326431274414.\n"
     ]
    }
   ],
   "source": [
    "# Run the study\n",
    "\n",
    "LSTM_study_results = []\n",
    "\n",
    "N_TRIALS = 70\n",
    "for i in range(4, len(LSTM_CNN_preprocessed_data)):\n",
    "\n",
    "    LSTM_bin_results = []\n",
    "\n",
    "    for j in range(4, len(LSTM_CNN_preprocessed_data[i])):\n",
    "\n",
    "        print(f\"Running LSTM study for bin {i+1}, stock {j+1}...\")\n",
    "        X, y = LSTM_CNN_preprocessed_data[i][j]\n",
    "        X = X.drop(columns=[\"usd_jpy\"])  # Drop the ticker smybol\n",
    "\n",
    "        # 5.1. LSTM study\n",
    "        lstm_objective = make_lstm_objective(X, y)\n",
    "        lstm_study = optuna.create_study(\n",
    "            direction=\"minimize\",\n",
    "            study_name=\"lstm_regression_study\",\n",
    "            sampler=optuna.samplers.TPESampler(),\n",
    "            pruner=optuna.pruners.MedianPruner(n_startup_trials=5, n_warmup_steps=10)\n",
    "        )\n",
    "        lstm_study.optimize(lstm_objective, n_trials=N_TRIALS)\n",
    "\n",
    "        results = {\n",
    "            \"best_trial_value\": lstm_study.best_trial.value,\n",
    "            \"best_trial_params\": lstm_study.best_trial.params,\n",
    "            \"mae\": lstm_study.best_trial.user_attrs.get(\"mae\", None),\n",
    "            \"r2\": lstm_study.best_trial.user_attrs.get(\"r2\", None),\n",
    "            \"rmse\": lstm_study.best_trial.user_attrs.get(\"rmse\", None),\n",
    "            \"nrmse\": lstm_study.best_trial.user_attrs.get(\"nrmse\", None)\n",
    "        }\n",
    "\n",
    "        LSTM_bin_results.append(results)\n",
    "        # Save the stock\n",
    "        with open(f'results/LSTM/bin{i+1}/Performance_metrices_LSTM_bin_{i+1}_stock_{j+1}.pkl', 'wb') as f:\n",
    "            pickle.dump(results, f)\n",
    "    # Save the bin\n",
    "    with open(f'results/LSTM/Performance_metrices_LSTM_bin_{i+1}.pkl', 'wb') as f:\n",
    "        pickle.dump(LSTM_bin_results, f)"
   ]
  },
  {
   "cell_type": "code",
   "execution_count": null,
   "id": "92581cd0",
   "metadata": {},
   "outputs": [],
   "source": [
    "# -------------------------------------------------------------------\n",
    "# 4. OBJECTIVE: TUNE XGBOOST (REGRESSION)\n",
    "# -------------------------------------------------------------------\n",
    "def make_xgb_objective(entry):\n",
    "    X_train, y_train, X_val, y_val, X_test, y_test = entry\n",
    "    def xgb_objective(trial):\n",
    "        # Suggest hyperparameters\n",
    "        param = {\n",
    "            \"verbosity\": 0,\n",
    "            \"objective\": \"reg:squarederror\",\n",
    "            \"booster\": trial.suggest_categorical(\"booster\", [\"gbtree\", \"dart\"]),\n",
    "            \"lambda\": trial.suggest_loguniform(\"lambda\", 1e-3, 10.0),\n",
    "            \"alpha\": trial.suggest_loguniform(\"alpha\", 1e-3, 10.0),\n",
    "        }\n",
    "\n",
    "        if param[\"booster\"] == \"gbtree\" or param[\"booster\"] == \"dart\":\n",
    "            param[\"max_depth\"] = trial.suggest_int(\"max_depth\", 3, 10)\n",
    "            param[\"eta\"] = trial.suggest_loguniform(\"eta\", 1e-4, 1e-1)\n",
    "            param[\"gamma\"] = trial.suggest_float(\"gamma\", 0, 5)\n",
    "            param[\"subsample\"] = trial.suggest_float(\"subsample\", 0.5, 1.0)\n",
    "            param[\"colsample_bytree\"] = trial.suggest_float(\"colsample_bytree\", 0.5, 1.0)\n",
    "\n",
    "        if param[\"booster\"] == \"dart\":\n",
    "            param[\"sample_type\"] = trial.suggest_categorical(\"sample_type\", [\"uniform\", \"weighted\"])\n",
    "            param[\"normalize_type\"] = trial.suggest_categorical(\"normalize_type\", [\"tree\", \"forest\"])\n",
    "            param[\"rate_drop\"] = trial.suggest_float(\"rate_drop\", 0.0, 0.3)\n",
    "            param[\"skip_drop\"] = trial.suggest_float(\"skip_drop\", 0.0, 0.3)\n",
    "\n",
    "        dtrain = xgb.DMatrix(X_train, label=y_train)\n",
    "        dval = xgb.DMatrix(X_val, label=y_val)\n",
    "        dtest = xgb.DMatrix(X_test, label=y_test)\n",
    "\n",
    "        pruning_callback = optuna.integration.XGBoostPruningCallback(trial, \"validation-rmse\")\n",
    "\n",
    "        # Train with early stopping and pruning\n",
    "        bst = xgb.train(\n",
    "            param,\n",
    "            dtrain,\n",
    "            num_boost_round=1000,\n",
    "            evals=[(dval, \"validation\")],\n",
    "            early_stopping_rounds=20,\n",
    "            callbacks=[pruning_callback],\n",
    "            verbose_eval=False\n",
    "        )\n",
    "\n",
    "        y_pred = bst.predict(dtest)\n",
    "        val_rmse = np.sqrt(mean_squared_error(y_val, y_pred))\n",
    "                # Evaluate on validation set\n",
    "        mae = mean_absolute_error(y_val, y_pred)\n",
    "        r2 = r2_score(y_val, y_pred)\n",
    "\n",
    "        trial.set_user_attr(\"mae\", mae)\n",
    "        trial.set_user_attr(\"r2\", r2)\n",
    "\n",
    "\n",
    "\n",
    "        return val_rmse\n",
    "    return xgb_objective"
   ]
  },
  {
   "cell_type": "code",
   "execution_count": null,
   "id": "3380fd2b",
   "metadata": {},
   "outputs": [],
   "source": [
    "# 5.3. XGBoost study\n",
    "N_TRIALS = 100\n",
    "\n",
    "XGBoost_data_results = []\n",
    "for i in range(len(XGBoost_preprocessed_data)):\n",
    "    XGBoost_bin_results = []\n",
    "    for j in range(len(XGBoost_preprocessed_data[i])):\n",
    "        X_train, y_train, X_val, y_val, X_test, y_test = XGBoost_preprocessed_data[i][j]\n",
    "        xgb_study = optuna.create_study(\n",
    "            direction=\"minimize\",\n",
    "            study_name=\"xgb_regression_study\",\n",
    "            sampler=optuna.samplers.TPESampler(),\n",
    "            pruner=optuna.pruners.MedianPruner(n_startup_trials=5, n_warmup_steps=10)\n",
    "        )\n",
    "        xgb_study.optimize(make_xgb_objective(X_train, y_train, X_val, y_val, X_test, y_test), n_trials=N_TRIALS)\n",
    "\n",
    "        results = {\n",
    "            \"best_val\": xgb_study.best_trial.value,\n",
    "            \"best_params\": xgb_study.best_trial.params,\n",
    "            \"mae\": lstm_study.best_trial.user_attrs.get(\"mae\", None),\n",
    "            \"r2\": lstm_study.best_trial.user_attrs.get(\"r2\", None)\n",
    "        }\n",
    "        XGBoost_bin_results.append(results)\n",
    "    # Save the data\n",
    "    with open(f'results/XGBoost/Performance_metrices_XGBoost_bin_{i}.pkl', 'wb') as f:\n",
    "        pickle.dump(XGBoost_bin_results, f)\n",
    "    XGBoost_data_results.append(XGBoost_bin_results)\n",
    "# Save the data\n",
    "with open(f'results/XGBoost/Performance_metrices_XGBoost_full.pkl', 'wb') as f:\n",
    "    pickle.dump(XGBoost_data_results, f)"
   ]
  },
  {
   "cell_type": "code",
   "execution_count": null,
   "id": "71e7276a",
   "metadata": {},
   "outputs": [],
   "source": [
    "# Only pass pandas DataFrames as data_X data_y to the function below.\n",
    "def create_windows(data_X, data_y, window_size):\n",
    "    X, y, indices = [], [], []\n",
    "    for i in range(window_size, len(data_X)):\n",
    "        X.append(data_X[i - window_size:i].values.astype(\"float32\"))\n",
    "        y.append(float(data_y.iloc[i-1])) # i-1 because we shifted the target by one in the General preprocessing pipeline \n",
    "        indices.append(data_y.index[i-1])\n",
    "    return np.array(X, dtype=\"float32\"), np.array(y, dtype=\"float32\"), np.array(indices)\n",
    "\n",
    "# -------------------------------------------------------------------\n",
    "# 3. OBJECTIVE: TUNE A 1D‐CNN (REGRESSION)\n",
    "# -------------------------------------------------------------------\n",
    "def make_cnn_objective(X, y):\n",
    "    def cnn_objective(trial):\n",
    "        # Suggest hyperparameters\n",
    "        n_filters = trial.suggest_int(\"n_filters\", 16, 128, step=16)\n",
    "        kernel_size = trial.suggest_int(\"kernel_size\", 2, 8)\n",
    "        pool_size = trial.suggest_int(\"pool_size\", 2, 4)\n",
    "        dropout_rate = trial.suggest_float(\"dropout_rate\", 0.0, 0.5, step=0.1)\n",
    "        learning_rate = trial.suggest_loguniform(\"learning_rate\", 1e-4, 1e-2)\n",
    "        batch_size = trial.suggest_categorical(\"batch_size\", [16, 32, 64])\n",
    "        dense_units = trial.suggest_int(\"dense_units\", 16, 128, step=16)\n",
    "        window_size = trial.suggest_int(\"window_size\", 10, 60, step=10)\n",
    "\n",
    "\n",
    "        # Start create windows\n",
    "        X_windows, y_windows, indices = create_windows(X, y, window_size)\n",
    "\n",
    "        end_train_set = X.index[int(X.shape[0] * 0.8)]\n",
    "        end_validation_set = X.index[int(X.shape[0] * 0.9)]\n",
    "\n",
    "        train_mask = indices < end_train_set\n",
    "        validation_mask = (indices >= end_train_set) & (indices < end_validation_set)\n",
    "        test_mask = indices >= end_validation_set\n",
    "\n",
    "        X_train = X_windows[train_mask]\n",
    "        y_train = y_windows[train_mask]\n",
    "        X_val = X_windows[validation_mask]\n",
    "        y_val = y_windows[validation_mask]\n",
    "        X_test = X_windows[test_mask]\n",
    "        y_test = y_windows[test_mask]\n",
    "        # End create windows\n",
    "\n",
    "\n",
    "\n",
    "        # Build model\n",
    "        model = Sequential()\n",
    "        model.add(Conv1D(filters=n_filters, kernel_size=kernel_size, activation=\"relu\",\n",
    "                        input_shape=(X_train[1], X_train[2])))\n",
    "        model.add(MaxPooling1D(pool_size=pool_size))\n",
    "        model.add(Dropout(rate=dropout_rate))\n",
    "        model.add(Flatten())\n",
    "        model.add(Dense(units=dense_units, activation=\"relu\"))\n",
    "        model.add(Dense(1, activation=\"linear\"))\n",
    "\n",
    "        optimizer = tf.keras.optimizers.Adam(learning_rate=learning_rate)\n",
    "        model.compile(optimizer=optimizer, loss=\"mse\")\n",
    "\n",
    "        early_stop = EarlyStopping(monitor=\"val_loss\", patience=5, restore_best_weights=True)\n",
    "\n",
    "        # Train\n",
    "        history = model.fit(\n",
    "            X_train, y_train,\n",
    "            validation_data=(X_val, y_val),\n",
    "            epochs=50,\n",
    "            batch_size=batch_size,\n",
    "            callbacks=[early_stop],\n",
    "            verbose=0\n",
    "        )\n",
    "\n",
    "        y_pred = model.predict(X_test, batch_size=batch_size)\n",
    "        val_rmse = np.sqrt(mean_squared_error(y_test, y_pred))\n",
    "        mae = mean_absolute_error(y_test, y_pred)\n",
    "        r2 = r2_score(y_test, y_pred)\n",
    "\n",
    "        trial.set_user_attr(\"mae\", mae)\n",
    "        trial.set_user_attr(\"r2\", r2)\n",
    "        \n",
    "        return val_rmse\n",
    "    return cnn_objective\n"
   ]
  },
  {
   "cell_type": "code",
   "execution_count": null,
   "id": "ec275a52",
   "metadata": {},
   "outputs": [
    {
     "ename": "KeyboardInterrupt",
     "evalue": "",
     "output_type": "error",
     "traceback": [
      "\u001b[31m---------------------------------------------------------------------------\u001b[39m",
      "\u001b[31mKeyboardInterrupt\u001b[39m                         Traceback (most recent call last)",
      "\u001b[36mCell\u001b[39m\u001b[36m \u001b[39m\u001b[32mIn[1]\u001b[39m\u001b[32m, line 6\u001b[39m\n\u001b[32m      4\u001b[39m \u001b[38;5;28;01mfrom\u001b[39;00m \u001b[34;01msklearn\u001b[39;00m\u001b[34;01m.\u001b[39;00m\u001b[34;01mmodel_selection\u001b[39;00m \u001b[38;5;28;01mimport\u001b[39;00m train_test_split\n\u001b[32m      5\u001b[39m \u001b[38;5;28;01mfrom\u001b[39;00m \u001b[34;01msklearn\u001b[39;00m\u001b[34;01m.\u001b[39;00m\u001b[34;01mmetrics\u001b[39;00m \u001b[38;5;28;01mimport\u001b[39;00m mean_squared_error, accuracy_score\n\u001b[32m----> \u001b[39m\u001b[32m6\u001b[39m \u001b[38;5;28;01mimport\u001b[39;00m \u001b[34;01mtensorflow\u001b[39;00m \u001b[38;5;28;01mas\u001b[39;00m \u001b[34;01mtf\u001b[39;00m\n\u001b[32m      7\u001b[39m \u001b[38;5;28;01mfrom\u001b[39;00m \u001b[34;01mtensorflow\u001b[39;00m\u001b[34;01m.\u001b[39;00m\u001b[34;01mkeras\u001b[39;00m\u001b[34;01m.\u001b[39;00m\u001b[34;01mmodels\u001b[39;00m \u001b[38;5;28;01mimport\u001b[39;00m Sequential\n\u001b[32m      8\u001b[39m \u001b[38;5;28;01mfrom\u001b[39;00m \u001b[34;01mtensorflow\u001b[39;00m\u001b[34;01m.\u001b[39;00m\u001b[34;01mkeras\u001b[39;00m\u001b[34;01m.\u001b[39;00m\u001b[34;01mlayers\u001b[39;00m \u001b[38;5;28;01mimport\u001b[39;00m Dense, LSTM, Conv1D, MaxPooling1D, Flatten, Dropout\n",
      "\u001b[36mFile \u001b[39m\u001b[32mc:\\Users\\jerem\\miniconda3\\Lib\\site-packages\\tensorflow\\__init__.py:468\u001b[39m\n\u001b[32m    466\u001b[39m     importlib.import_module(\u001b[33m\"\u001b[39m\u001b[33mtf_keras.src.optimizers\u001b[39m\u001b[33m\"\u001b[39m)\n\u001b[32m    467\u001b[39m   \u001b[38;5;28;01melse\u001b[39;00m:\n\u001b[32m--> \u001b[39m\u001b[32m468\u001b[39m     \u001b[43mimportlib\u001b[49m\u001b[43m.\u001b[49m\u001b[43mimport_module\u001b[49m\u001b[43m(\u001b[49m\u001b[33;43m\"\u001b[39;49m\u001b[33;43mkeras.src.optimizers\u001b[39;49m\u001b[33;43m\"\u001b[39;49m\u001b[43m)\u001b[49m\n\u001b[32m    469\u001b[39m \u001b[38;5;28;01mexcept\u001b[39;00m (\u001b[38;5;167;01mImportError\u001b[39;00m, \u001b[38;5;167;01mAttributeError\u001b[39;00m):\n\u001b[32m    470\u001b[39m   \u001b[38;5;28;01mpass\u001b[39;00m\n",
      "\u001b[36mFile \u001b[39m\u001b[32mc:\\Users\\jerem\\miniconda3\\Lib\\importlib\\__init__.py:90\u001b[39m, in \u001b[36mimport_module\u001b[39m\u001b[34m(name, package)\u001b[39m\n\u001b[32m     88\u001b[39m             \u001b[38;5;28;01mbreak\u001b[39;00m\n\u001b[32m     89\u001b[39m         level += \u001b[32m1\u001b[39m\n\u001b[32m---> \u001b[39m\u001b[32m90\u001b[39m \u001b[38;5;28;01mreturn\u001b[39;00m \u001b[43m_bootstrap\u001b[49m\u001b[43m.\u001b[49m\u001b[43m_gcd_import\u001b[49m\u001b[43m(\u001b[49m\u001b[43mname\u001b[49m\u001b[43m[\u001b[49m\u001b[43mlevel\u001b[49m\u001b[43m:\u001b[49m\u001b[43m]\u001b[49m\u001b[43m,\u001b[49m\u001b[43m \u001b[49m\u001b[43mpackage\u001b[49m\u001b[43m,\u001b[49m\u001b[43m \u001b[49m\u001b[43mlevel\u001b[49m\u001b[43m)\u001b[49m\n",
      "\u001b[36mFile \u001b[39m\u001b[32mc:\\Users\\jerem\\miniconda3\\Lib\\site-packages\\keras\\__init__.py:2\u001b[39m\n\u001b[32m      1\u001b[39m \u001b[38;5;66;03m# DO NOT EDIT. Generated by api_gen.sh\u001b[39;00m\n\u001b[32m----> \u001b[39m\u001b[32m2\u001b[39m \u001b[38;5;28;01mfrom\u001b[39;00m \u001b[34;01mkeras\u001b[39;00m\u001b[34;01m.\u001b[39;00m\u001b[34;01mapi\u001b[39;00m \u001b[38;5;28;01mimport\u001b[39;00m DTypePolicy\n\u001b[32m      3\u001b[39m \u001b[38;5;28;01mfrom\u001b[39;00m \u001b[34;01mkeras\u001b[39;00m\u001b[34;01m.\u001b[39;00m\u001b[34;01mapi\u001b[39;00m \u001b[38;5;28;01mimport\u001b[39;00m FloatDTypePolicy\n\u001b[32m      4\u001b[39m \u001b[38;5;28;01mfrom\u001b[39;00m \u001b[34;01mkeras\u001b[39;00m\u001b[34;01m.\u001b[39;00m\u001b[34;01mapi\u001b[39;00m \u001b[38;5;28;01mimport\u001b[39;00m Function\n",
      "\u001b[36mFile \u001b[39m\u001b[32mc:\\Users\\jerem\\miniconda3\\Lib\\site-packages\\keras\\api\\__init__.py:8\u001b[39m\n\u001b[32m      1\u001b[39m \u001b[33;03m\"\"\"DO NOT EDIT.\u001b[39;00m\n\u001b[32m      2\u001b[39m \n\u001b[32m      3\u001b[39m \u001b[33;03mThis file was autogenerated. Do not edit it by hand,\u001b[39;00m\n\u001b[32m      4\u001b[39m \u001b[33;03msince your modifications would be overwritten.\u001b[39;00m\n\u001b[32m      5\u001b[39m \u001b[33;03m\"\"\"\u001b[39;00m\n\u001b[32m----> \u001b[39m\u001b[32m8\u001b[39m \u001b[38;5;28;01mfrom\u001b[39;00m \u001b[34;01mkeras\u001b[39;00m\u001b[34;01m.\u001b[39;00m\u001b[34;01mapi\u001b[39;00m \u001b[38;5;28;01mimport\u001b[39;00m activations\n\u001b[32m      9\u001b[39m \u001b[38;5;28;01mfrom\u001b[39;00m \u001b[34;01mkeras\u001b[39;00m\u001b[34;01m.\u001b[39;00m\u001b[34;01mapi\u001b[39;00m \u001b[38;5;28;01mimport\u001b[39;00m applications\n\u001b[32m     10\u001b[39m \u001b[38;5;28;01mfrom\u001b[39;00m \u001b[34;01mkeras\u001b[39;00m\u001b[34;01m.\u001b[39;00m\u001b[34;01mapi\u001b[39;00m \u001b[38;5;28;01mimport\u001b[39;00m backend\n",
      "\u001b[36mFile \u001b[39m\u001b[32mc:\\Users\\jerem\\miniconda3\\Lib\\site-packages\\keras\\api\\activations\\__init__.py:7\u001b[39m\n\u001b[32m      1\u001b[39m \u001b[33;03m\"\"\"DO NOT EDIT.\u001b[39;00m\n\u001b[32m      2\u001b[39m \n\u001b[32m      3\u001b[39m \u001b[33;03mThis file was autogenerated. Do not edit it by hand,\u001b[39;00m\n\u001b[32m      4\u001b[39m \u001b[33;03msince your modifications would be overwritten.\u001b[39;00m\n\u001b[32m      5\u001b[39m \u001b[33;03m\"\"\"\u001b[39;00m\n\u001b[32m----> \u001b[39m\u001b[32m7\u001b[39m \u001b[38;5;28;01mfrom\u001b[39;00m \u001b[34;01mkeras\u001b[39;00m\u001b[34;01m.\u001b[39;00m\u001b[34;01msrc\u001b[39;00m\u001b[34;01m.\u001b[39;00m\u001b[34;01mactivations\u001b[39;00m \u001b[38;5;28;01mimport\u001b[39;00m deserialize\n\u001b[32m      8\u001b[39m \u001b[38;5;28;01mfrom\u001b[39;00m \u001b[34;01mkeras\u001b[39;00m\u001b[34;01m.\u001b[39;00m\u001b[34;01msrc\u001b[39;00m\u001b[34;01m.\u001b[39;00m\u001b[34;01mactivations\u001b[39;00m \u001b[38;5;28;01mimport\u001b[39;00m get\n\u001b[32m      9\u001b[39m \u001b[38;5;28;01mfrom\u001b[39;00m \u001b[34;01mkeras\u001b[39;00m\u001b[34;01m.\u001b[39;00m\u001b[34;01msrc\u001b[39;00m\u001b[34;01m.\u001b[39;00m\u001b[34;01mactivations\u001b[39;00m \u001b[38;5;28;01mimport\u001b[39;00m serialize\n",
      "\u001b[36mFile \u001b[39m\u001b[32mc:\\Users\\jerem\\miniconda3\\Lib\\site-packages\\keras\\src\\__init__.py:1\u001b[39m\n\u001b[32m----> \u001b[39m\u001b[32m1\u001b[39m \u001b[38;5;28;01mfrom\u001b[39;00m \u001b[34;01mkeras\u001b[39;00m\u001b[34;01m.\u001b[39;00m\u001b[34;01msrc\u001b[39;00m \u001b[38;5;28;01mimport\u001b[39;00m activations\n\u001b[32m      2\u001b[39m \u001b[38;5;28;01mfrom\u001b[39;00m \u001b[34;01mkeras\u001b[39;00m\u001b[34;01m.\u001b[39;00m\u001b[34;01msrc\u001b[39;00m \u001b[38;5;28;01mimport\u001b[39;00m applications\n\u001b[32m      3\u001b[39m \u001b[38;5;28;01mfrom\u001b[39;00m \u001b[34;01mkeras\u001b[39;00m\u001b[34;01m.\u001b[39;00m\u001b[34;01msrc\u001b[39;00m \u001b[38;5;28;01mimport\u001b[39;00m backend\n",
      "\u001b[36mFile \u001b[39m\u001b[32mc:\\Users\\jerem\\miniconda3\\Lib\\site-packages\\keras\\src\\activations\\__init__.py:33\u001b[39m\n\u001b[32m     31\u001b[39m \u001b[38;5;28;01mfrom\u001b[39;00m \u001b[34;01mkeras\u001b[39;00m\u001b[34;01m.\u001b[39;00m\u001b[34;01msrc\u001b[39;00m\u001b[34;01m.\u001b[39;00m\u001b[34;01mactivations\u001b[39;00m\u001b[34;01m.\u001b[39;00m\u001b[34;01mactivations\u001b[39;00m \u001b[38;5;28;01mimport\u001b[39;00m threshold\n\u001b[32m     32\u001b[39m \u001b[38;5;28;01mfrom\u001b[39;00m \u001b[34;01mkeras\u001b[39;00m\u001b[34;01m.\u001b[39;00m\u001b[34;01msrc\u001b[39;00m\u001b[34;01m.\u001b[39;00m\u001b[34;01mapi_export\u001b[39;00m \u001b[38;5;28;01mimport\u001b[39;00m keras_export\n\u001b[32m---> \u001b[39m\u001b[32m33\u001b[39m \u001b[38;5;28;01mfrom\u001b[39;00m \u001b[34;01mkeras\u001b[39;00m\u001b[34;01m.\u001b[39;00m\u001b[34;01msrc\u001b[39;00m\u001b[34;01m.\u001b[39;00m\u001b[34;01msaving\u001b[39;00m \u001b[38;5;28;01mimport\u001b[39;00m object_registration\n\u001b[32m     34\u001b[39m \u001b[38;5;28;01mfrom\u001b[39;00m \u001b[34;01mkeras\u001b[39;00m\u001b[34;01m.\u001b[39;00m\u001b[34;01msrc\u001b[39;00m\u001b[34;01m.\u001b[39;00m\u001b[34;01msaving\u001b[39;00m \u001b[38;5;28;01mimport\u001b[39;00m serialization_lib\n\u001b[32m     36\u001b[39m ALL_OBJECTS = {\n\u001b[32m     37\u001b[39m     relu,\n\u001b[32m     38\u001b[39m     leaky_relu,\n\u001b[32m   (...)\u001b[39m\u001b[32m     65\u001b[39m     sparsemax,\n\u001b[32m     66\u001b[39m }\n",
      "\u001b[36mFile \u001b[39m\u001b[32mc:\\Users\\jerem\\miniconda3\\Lib\\site-packages\\keras\\src\\saving\\__init__.py:7\u001b[39m\n\u001b[32m      5\u001b[39m \u001b[38;5;28;01mfrom\u001b[39;00m \u001b[34;01mkeras\u001b[39;00m\u001b[34;01m.\u001b[39;00m\u001b[34;01msrc\u001b[39;00m\u001b[34;01m.\u001b[39;00m\u001b[34;01msaving\u001b[39;00m\u001b[34;01m.\u001b[39;00m\u001b[34;01mobject_registration\u001b[39;00m \u001b[38;5;28;01mimport\u001b[39;00m get_registered_object\n\u001b[32m      6\u001b[39m \u001b[38;5;28;01mfrom\u001b[39;00m \u001b[34;01mkeras\u001b[39;00m\u001b[34;01m.\u001b[39;00m\u001b[34;01msrc\u001b[39;00m\u001b[34;01m.\u001b[39;00m\u001b[34;01msaving\u001b[39;00m\u001b[34;01m.\u001b[39;00m\u001b[34;01mobject_registration\u001b[39;00m \u001b[38;5;28;01mimport\u001b[39;00m register_keras_serializable\n\u001b[32m----> \u001b[39m\u001b[32m7\u001b[39m \u001b[38;5;28;01mfrom\u001b[39;00m \u001b[34;01mkeras\u001b[39;00m\u001b[34;01m.\u001b[39;00m\u001b[34;01msrc\u001b[39;00m\u001b[34;01m.\u001b[39;00m\u001b[34;01msaving\u001b[39;00m\u001b[34;01m.\u001b[39;00m\u001b[34;01msaving_api\u001b[39;00m \u001b[38;5;28;01mimport\u001b[39;00m load_model\n\u001b[32m      8\u001b[39m \u001b[38;5;28;01mfrom\u001b[39;00m \u001b[34;01mkeras\u001b[39;00m\u001b[34;01m.\u001b[39;00m\u001b[34;01msrc\u001b[39;00m\u001b[34;01m.\u001b[39;00m\u001b[34;01msaving\u001b[39;00m\u001b[34;01m.\u001b[39;00m\u001b[34;01mserialization_lib\u001b[39;00m \u001b[38;5;28;01mimport\u001b[39;00m deserialize_keras_object\n\u001b[32m      9\u001b[39m \u001b[38;5;28;01mfrom\u001b[39;00m \u001b[34;01mkeras\u001b[39;00m\u001b[34;01m.\u001b[39;00m\u001b[34;01msrc\u001b[39;00m\u001b[34;01m.\u001b[39;00m\u001b[34;01msaving\u001b[39;00m\u001b[34;01m.\u001b[39;00m\u001b[34;01mserialization_lib\u001b[39;00m \u001b[38;5;28;01mimport\u001b[39;00m serialize_keras_object\n",
      "\u001b[36mFile \u001b[39m\u001b[32mc:\\Users\\jerem\\miniconda3\\Lib\\site-packages\\keras\\src\\saving\\saving_api.py:7\u001b[39m\n\u001b[32m      4\u001b[39m \u001b[38;5;28;01mfrom\u001b[39;00m \u001b[34;01mabsl\u001b[39;00m \u001b[38;5;28;01mimport\u001b[39;00m logging\n\u001b[32m      6\u001b[39m \u001b[38;5;28;01mfrom\u001b[39;00m \u001b[34;01mkeras\u001b[39;00m\u001b[34;01m.\u001b[39;00m\u001b[34;01msrc\u001b[39;00m\u001b[34;01m.\u001b[39;00m\u001b[34;01mapi_export\u001b[39;00m \u001b[38;5;28;01mimport\u001b[39;00m keras_export\n\u001b[32m----> \u001b[39m\u001b[32m7\u001b[39m \u001b[38;5;28;01mfrom\u001b[39;00m \u001b[34;01mkeras\u001b[39;00m\u001b[34;01m.\u001b[39;00m\u001b[34;01msrc\u001b[39;00m\u001b[34;01m.\u001b[39;00m\u001b[34;01mlegacy\u001b[39;00m\u001b[34;01m.\u001b[39;00m\u001b[34;01msaving\u001b[39;00m \u001b[38;5;28;01mimport\u001b[39;00m legacy_h5_format\n\u001b[32m      8\u001b[39m \u001b[38;5;28;01mfrom\u001b[39;00m \u001b[34;01mkeras\u001b[39;00m\u001b[34;01m.\u001b[39;00m\u001b[34;01msrc\u001b[39;00m\u001b[34;01m.\u001b[39;00m\u001b[34;01msaving\u001b[39;00m \u001b[38;5;28;01mimport\u001b[39;00m saving_lib\n\u001b[32m      9\u001b[39m \u001b[38;5;28;01mfrom\u001b[39;00m \u001b[34;01mkeras\u001b[39;00m\u001b[34;01m.\u001b[39;00m\u001b[34;01msrc\u001b[39;00m\u001b[34;01m.\u001b[39;00m\u001b[34;01mutils\u001b[39;00m \u001b[38;5;28;01mimport\u001b[39;00m file_utils\n",
      "\u001b[36mFile \u001b[39m\u001b[32mc:\\Users\\jerem\\miniconda3\\Lib\\site-packages\\keras\\src\\legacy\\saving\\legacy_h5_format.py:13\u001b[39m\n\u001b[32m     11\u001b[39m \u001b[38;5;28;01mfrom\u001b[39;00m \u001b[34;01mkeras\u001b[39;00m\u001b[34;01m.\u001b[39;00m\u001b[34;01msrc\u001b[39;00m\u001b[34;01m.\u001b[39;00m\u001b[34;01mlegacy\u001b[39;00m\u001b[34;01m.\u001b[39;00m\u001b[34;01msaving\u001b[39;00m \u001b[38;5;28;01mimport\u001b[39;00m json_utils\n\u001b[32m     12\u001b[39m \u001b[38;5;28;01mfrom\u001b[39;00m \u001b[34;01mkeras\u001b[39;00m\u001b[34;01m.\u001b[39;00m\u001b[34;01msrc\u001b[39;00m\u001b[34;01m.\u001b[39;00m\u001b[34;01mlegacy\u001b[39;00m\u001b[34;01m.\u001b[39;00m\u001b[34;01msaving\u001b[39;00m \u001b[38;5;28;01mimport\u001b[39;00m saving_options\n\u001b[32m---> \u001b[39m\u001b[32m13\u001b[39m \u001b[38;5;28;01mfrom\u001b[39;00m \u001b[34;01mkeras\u001b[39;00m\u001b[34;01m.\u001b[39;00m\u001b[34;01msrc\u001b[39;00m\u001b[34;01m.\u001b[39;00m\u001b[34;01mlegacy\u001b[39;00m\u001b[34;01m.\u001b[39;00m\u001b[34;01msaving\u001b[39;00m \u001b[38;5;28;01mimport\u001b[39;00m saving_utils\n\u001b[32m     14\u001b[39m \u001b[38;5;28;01mfrom\u001b[39;00m \u001b[34;01mkeras\u001b[39;00m\u001b[34;01m.\u001b[39;00m\u001b[34;01msrc\u001b[39;00m\u001b[34;01m.\u001b[39;00m\u001b[34;01msaving\u001b[39;00m \u001b[38;5;28;01mimport\u001b[39;00m object_registration\n\u001b[32m     15\u001b[39m \u001b[38;5;28;01mfrom\u001b[39;00m \u001b[34;01mkeras\u001b[39;00m\u001b[34;01m.\u001b[39;00m\u001b[34;01msrc\u001b[39;00m\u001b[34;01m.\u001b[39;00m\u001b[34;01mutils\u001b[39;00m \u001b[38;5;28;01mimport\u001b[39;00m io_utils\n",
      "\u001b[36mFile \u001b[39m\u001b[32mc:\\Users\\jerem\\miniconda3\\Lib\\site-packages\\keras\\src\\legacy\\saving\\saving_utils.py:10\u001b[39m\n\u001b[32m      8\u001b[39m \u001b[38;5;28;01mfrom\u001b[39;00m \u001b[34;01mkeras\u001b[39;00m\u001b[34;01m.\u001b[39;00m\u001b[34;01msrc\u001b[39;00m \u001b[38;5;28;01mimport\u001b[39;00m losses\n\u001b[32m      9\u001b[39m \u001b[38;5;28;01mfrom\u001b[39;00m \u001b[34;01mkeras\u001b[39;00m\u001b[34;01m.\u001b[39;00m\u001b[34;01msrc\u001b[39;00m \u001b[38;5;28;01mimport\u001b[39;00m metrics \u001b[38;5;28;01mas\u001b[39;00m metrics_module\n\u001b[32m---> \u001b[39m\u001b[32m10\u001b[39m \u001b[38;5;28;01mfrom\u001b[39;00m \u001b[34;01mkeras\u001b[39;00m\u001b[34;01m.\u001b[39;00m\u001b[34;01msrc\u001b[39;00m \u001b[38;5;28;01mimport\u001b[39;00m models\n\u001b[32m     11\u001b[39m \u001b[38;5;28;01mfrom\u001b[39;00m \u001b[34;01mkeras\u001b[39;00m\u001b[34;01m.\u001b[39;00m\u001b[34;01msrc\u001b[39;00m \u001b[38;5;28;01mimport\u001b[39;00m optimizers\n\u001b[32m     12\u001b[39m \u001b[38;5;28;01mfrom\u001b[39;00m \u001b[34;01mkeras\u001b[39;00m\u001b[34;01m.\u001b[39;00m\u001b[34;01msrc\u001b[39;00m \u001b[38;5;28;01mimport\u001b[39;00m tree\n",
      "\u001b[36mFile \u001b[39m\u001b[32mc:\\Users\\jerem\\miniconda3\\Lib\\site-packages\\keras\\src\\models\\__init__.py:1\u001b[39m\n\u001b[32m----> \u001b[39m\u001b[32m1\u001b[39m \u001b[38;5;28;01mfrom\u001b[39;00m \u001b[34;01mkeras\u001b[39;00m\u001b[34;01m.\u001b[39;00m\u001b[34;01msrc\u001b[39;00m\u001b[34;01m.\u001b[39;00m\u001b[34;01mmodels\u001b[39;00m\u001b[34;01m.\u001b[39;00m\u001b[34;01mfunctional\u001b[39;00m \u001b[38;5;28;01mimport\u001b[39;00m Functional\n\u001b[32m      2\u001b[39m \u001b[38;5;28;01mfrom\u001b[39;00m \u001b[34;01mkeras\u001b[39;00m\u001b[34;01m.\u001b[39;00m\u001b[34;01msrc\u001b[39;00m\u001b[34;01m.\u001b[39;00m\u001b[34;01mmodels\u001b[39;00m\u001b[34;01m.\u001b[39;00m\u001b[34;01mmodel\u001b[39;00m \u001b[38;5;28;01mimport\u001b[39;00m Model\n\u001b[32m      3\u001b[39m \u001b[38;5;28;01mfrom\u001b[39;00m \u001b[34;01mkeras\u001b[39;00m\u001b[34;01m.\u001b[39;00m\u001b[34;01msrc\u001b[39;00m\u001b[34;01m.\u001b[39;00m\u001b[34;01mmodels\u001b[39;00m\u001b[34;01m.\u001b[39;00m\u001b[34;01msequential\u001b[39;00m \u001b[38;5;28;01mimport\u001b[39;00m Sequential\n",
      "\u001b[36mFile \u001b[39m\u001b[32mc:\\Users\\jerem\\miniconda3\\Lib\\site-packages\\keras\\src\\models\\functional.py:16\u001b[39m\n\u001b[32m     14\u001b[39m \u001b[38;5;28;01mfrom\u001b[39;00m \u001b[34;01mkeras\u001b[39;00m\u001b[34;01m.\u001b[39;00m\u001b[34;01msrc\u001b[39;00m\u001b[34;01m.\u001b[39;00m\u001b[34;01mlegacy\u001b[39;00m\u001b[34;01m.\u001b[39;00m\u001b[34;01msaving\u001b[39;00m \u001b[38;5;28;01mimport\u001b[39;00m saving_utils\n\u001b[32m     15\u001b[39m \u001b[38;5;28;01mfrom\u001b[39;00m \u001b[34;01mkeras\u001b[39;00m\u001b[34;01m.\u001b[39;00m\u001b[34;01msrc\u001b[39;00m\u001b[34;01m.\u001b[39;00m\u001b[34;01mlegacy\u001b[39;00m\u001b[34;01m.\u001b[39;00m\u001b[34;01msaving\u001b[39;00m \u001b[38;5;28;01mimport\u001b[39;00m serialization \u001b[38;5;28;01mas\u001b[39;00m legacy_serialization\n\u001b[32m---> \u001b[39m\u001b[32m16\u001b[39m \u001b[38;5;28;01mfrom\u001b[39;00m \u001b[34;01mkeras\u001b[39;00m\u001b[34;01m.\u001b[39;00m\u001b[34;01msrc\u001b[39;00m\u001b[34;01m.\u001b[39;00m\u001b[34;01mmodels\u001b[39;00m\u001b[34;01m.\u001b[39;00m\u001b[34;01mmodel\u001b[39;00m \u001b[38;5;28;01mimport\u001b[39;00m Model\n\u001b[32m     17\u001b[39m \u001b[38;5;28;01mfrom\u001b[39;00m \u001b[34;01mkeras\u001b[39;00m\u001b[34;01m.\u001b[39;00m\u001b[34;01msrc\u001b[39;00m\u001b[34;01m.\u001b[39;00m\u001b[34;01mops\u001b[39;00m\u001b[34;01m.\u001b[39;00m\u001b[34;01mfunction\u001b[39;00m \u001b[38;5;28;01mimport\u001b[39;00m Function\n\u001b[32m     18\u001b[39m \u001b[38;5;28;01mfrom\u001b[39;00m \u001b[34;01mkeras\u001b[39;00m\u001b[34;01m.\u001b[39;00m\u001b[34;01msrc\u001b[39;00m\u001b[34;01m.\u001b[39;00m\u001b[34;01mops\u001b[39;00m\u001b[34;01m.\u001b[39;00m\u001b[34;01mfunction\u001b[39;00m \u001b[38;5;28;01mimport\u001b[39;00m _build_map\n",
      "\u001b[36mFile \u001b[39m\u001b[32mc:\\Users\\jerem\\miniconda3\\Lib\\site-packages\\keras\\src\\models\\model.py:12\u001b[39m\n\u001b[32m     10\u001b[39m \u001b[38;5;28;01mfrom\u001b[39;00m \u001b[34;01mkeras\u001b[39;00m\u001b[34;01m.\u001b[39;00m\u001b[34;01msrc\u001b[39;00m\u001b[34;01m.\u001b[39;00m\u001b[34;01mmodels\u001b[39;00m\u001b[34;01m.\u001b[39;00m\u001b[34;01mvariable_mapping\u001b[39;00m \u001b[38;5;28;01mimport\u001b[39;00m map_saveable_variables\n\u001b[32m     11\u001b[39m \u001b[38;5;28;01mfrom\u001b[39;00m \u001b[34;01mkeras\u001b[39;00m\u001b[34;01m.\u001b[39;00m\u001b[34;01msrc\u001b[39;00m\u001b[34;01m.\u001b[39;00m\u001b[34;01msaving\u001b[39;00m \u001b[38;5;28;01mimport\u001b[39;00m saving_api\n\u001b[32m---> \u001b[39m\u001b[32m12\u001b[39m \u001b[38;5;28;01mfrom\u001b[39;00m \u001b[34;01mkeras\u001b[39;00m\u001b[34;01m.\u001b[39;00m\u001b[34;01msrc\u001b[39;00m\u001b[34;01m.\u001b[39;00m\u001b[34;01mtrainers\u001b[39;00m \u001b[38;5;28;01mimport\u001b[39;00m trainer \u001b[38;5;28;01mas\u001b[39;00m base_trainer\n\u001b[32m     13\u001b[39m \u001b[38;5;28;01mfrom\u001b[39;00m \u001b[34;01mkeras\u001b[39;00m\u001b[34;01m.\u001b[39;00m\u001b[34;01msrc\u001b[39;00m\u001b[34;01m.\u001b[39;00m\u001b[34;01mutils\u001b[39;00m \u001b[38;5;28;01mimport\u001b[39;00m summary_utils\n\u001b[32m     14\u001b[39m \u001b[38;5;28;01mfrom\u001b[39;00m \u001b[34;01mkeras\u001b[39;00m\u001b[34;01m.\u001b[39;00m\u001b[34;01msrc\u001b[39;00m\u001b[34;01m.\u001b[39;00m\u001b[34;01mutils\u001b[39;00m \u001b[38;5;28;01mimport\u001b[39;00m traceback_utils\n",
      "\u001b[36mFile \u001b[39m\u001b[32mc:\\Users\\jerem\\miniconda3\\Lib\\site-packages\\keras\\src\\trainers\\trainer.py:14\u001b[39m\n\u001b[32m     12\u001b[39m \u001b[38;5;28;01mfrom\u001b[39;00m \u001b[34;01mkeras\u001b[39;00m\u001b[34;01m.\u001b[39;00m\u001b[34;01msrc\u001b[39;00m\u001b[34;01m.\u001b[39;00m\u001b[34;01mtrainers\u001b[39;00m\u001b[34;01m.\u001b[39;00m\u001b[34;01mcompile_utils\u001b[39;00m \u001b[38;5;28;01mimport\u001b[39;00m CompileLoss\n\u001b[32m     13\u001b[39m \u001b[38;5;28;01mfrom\u001b[39;00m \u001b[34;01mkeras\u001b[39;00m\u001b[34;01m.\u001b[39;00m\u001b[34;01msrc\u001b[39;00m\u001b[34;01m.\u001b[39;00m\u001b[34;01mtrainers\u001b[39;00m\u001b[34;01m.\u001b[39;00m\u001b[34;01mcompile_utils\u001b[39;00m \u001b[38;5;28;01mimport\u001b[39;00m CompileMetrics\n\u001b[32m---> \u001b[39m\u001b[32m14\u001b[39m \u001b[38;5;28;01mfrom\u001b[39;00m \u001b[34;01mkeras\u001b[39;00m\u001b[34;01m.\u001b[39;00m\u001b[34;01msrc\u001b[39;00m\u001b[34;01m.\u001b[39;00m\u001b[34;01mtrainers\u001b[39;00m\u001b[34;01m.\u001b[39;00m\u001b[34;01mdata_adapters\u001b[39;00m \u001b[38;5;28;01mimport\u001b[39;00m data_adapter_utils\n\u001b[32m     15\u001b[39m \u001b[38;5;28;01mfrom\u001b[39;00m \u001b[34;01mkeras\u001b[39;00m\u001b[34;01m.\u001b[39;00m\u001b[34;01msrc\u001b[39;00m\u001b[34;01m.\u001b[39;00m\u001b[34;01mutils\u001b[39;00m \u001b[38;5;28;01mimport\u001b[39;00m python_utils\n\u001b[32m     16\u001b[39m \u001b[38;5;28;01mfrom\u001b[39;00m \u001b[34;01mkeras\u001b[39;00m\u001b[34;01m.\u001b[39;00m\u001b[34;01msrc\u001b[39;00m\u001b[34;01m.\u001b[39;00m\u001b[34;01mutils\u001b[39;00m \u001b[38;5;28;01mimport\u001b[39;00m traceback_utils\n",
      "\u001b[36mFile \u001b[39m\u001b[32m<frozen importlib._bootstrap>:1360\u001b[39m, in \u001b[36m_find_and_load\u001b[39m\u001b[34m(name, import_)\u001b[39m\n",
      "\u001b[36mFile \u001b[39m\u001b[32m<frozen importlib._bootstrap>:1322\u001b[39m, in \u001b[36m_find_and_load_unlocked\u001b[39m\u001b[34m(name, import_)\u001b[39m\n",
      "\u001b[36mFile \u001b[39m\u001b[32m<frozen importlib._bootstrap>:1262\u001b[39m, in \u001b[36m_find_spec\u001b[39m\u001b[34m(name, path, target)\u001b[39m\n",
      "\u001b[36mFile \u001b[39m\u001b[32m<frozen importlib._bootstrap_external>:1532\u001b[39m, in \u001b[36mfind_spec\u001b[39m\u001b[34m(cls, fullname, path, target)\u001b[39m\n",
      "\u001b[36mFile \u001b[39m\u001b[32m<frozen importlib._bootstrap_external>:1506\u001b[39m, in \u001b[36m_get_spec\u001b[39m\u001b[34m(cls, fullname, path, target)\u001b[39m\n",
      "\u001b[36mFile \u001b[39m\u001b[32m<frozen importlib._bootstrap_external>:1605\u001b[39m, in \u001b[36mfind_spec\u001b[39m\u001b[34m(self, fullname, target)\u001b[39m\n",
      "\u001b[36mFile \u001b[39m\u001b[32m<frozen importlib._bootstrap_external>:147\u001b[39m, in \u001b[36m_path_stat\u001b[39m\u001b[34m(path)\u001b[39m\n",
      "\u001b[31mKeyboardInterrupt\u001b[39m: "
     ]
    }
   ],
   "source": [
    "N_trials = 100\n",
    "\n",
    "CNN_data_results = []\n",
    "\n",
    "for i in range(len(LSTM_CNN_preprocessed_data)):\n",
    "    \n",
    "    CNN_bin_results = []\n",
    "    for j in range(len(LSTM_CNN_preprocessed_data[i])):\n",
    "        X, y = LSTM_CNN_preprocessed_data[i][j]\n",
    "\n",
    "\n",
    "        # 5.2. CNN study\n",
    "        study = optuna.create_study(\n",
    "            direction=\"minimize\",\n",
    "            study_name=\"cnn_regression_study\",\n",
    "            sampler=optuna.samplers.TPESampler(),\n",
    "            pruner=optuna.pruners.MedianPruner(n_startup_trials=5, n_warmup_steps=10)\n",
    "        )\n",
    "        study.optimize(make_cnn_objective(X, y), n_trials=N_TRIALS)\n",
    "\n",
    "        results = {\n",
    "            \"best_val\": study.best_trial.value,\n",
    "            \"best_params\": study.best_trial.params,\n",
    "            \"mae\": study.best_trial.user_attrs.get(\"mae\", None),\n",
    "            \"r2\": study.best_trial.user_attrs.get(\"r2\", None)\n",
    "        }\n",
    "\n",
    "\n",
    "        CNN_bin_results.append(results)\n",
    "    # Save the data\n",
    "    with open(f'results/CNN/Performance_metrices_CNN_bin_{i}.pkl', 'wb') as f:\n",
    "        pickle.dump(CNN_bin_results, f)\n",
    "    CNN_data_results.append(CNN_bin_results)\n",
    "# Save the data\n",
    "with open(f'results/CNN/Performance_metrices_CNN_full.pkl', 'wb') as f:\n",
    "    pickle.dump(CNN_data_results, f)"
   ]
  }
 ],
 "metadata": {
  "kernelspec": {
   "display_name": "base",
   "language": "python",
   "name": "python3"
  },
  "language_info": {
   "codemirror_mode": {
    "name": "ipython",
    "version": 3
   },
   "file_extension": ".py",
   "mimetype": "text/x-python",
   "name": "python",
   "nbconvert_exporter": "python",
   "pygments_lexer": "ipython3",
   "version": "3.12.9"
  }
 },
 "nbformat": 4,
 "nbformat_minor": 5
}
